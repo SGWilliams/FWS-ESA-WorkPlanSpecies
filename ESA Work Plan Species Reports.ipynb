{
 "cells": [
  {
   "cell_type": "markdown",
   "metadata": {},
   "source": [
    "The \"ESA WP Species TIR Processing\" notebook ran through the basic processing of the set of work plan species using Taxa Information Registry functions to populate a bunch of data for further exploration and analysis. These data were placed into a MongoDB collection as part of an experimental platform we work with on the ESIP Testbed. The data are accessible right now through a low level API with authentication through Python, R, or other code. Once we determine what aspects of these data are interesting for further use, we will build out a higher level API and features for more simplified access for other users, including making data public or providing simple authentication methods.\n",
    "\n",
    "This notebook runs through a series of sections that attempt to tease out potentially interesting dynamics from the data for further use in conversations with USGS Ecosystems Mission Area folks and FWS personnel involved in this work."
   ]
  },
  {
   "cell_type": "code",
   "execution_count": 2,
   "metadata": {
    "collapsed": true
   },
   "outputs": [],
   "source": [
    "from bis2 import dd\n",
    "from IPython.display import display\n",
    "import pandas as pd\n",
    "\n",
    "bisDB = dd.getDB(\"bis\")\n",
    "esaWPSpecies = bisDB[\"FWS_Work_Plan_Species\"]"
   ]
  },
  {
   "cell_type": "markdown",
   "metadata": {},
   "source": [
    "# Names and Taxonomy\n",
    "We started with just the original names from a supplied spreadsheet that we believe started with the common names in the [National Listing Work Plan](https://www.fws.gov/endangered/esa-library/pdf/Listing%207-Year%20Workplan%20Sept%202016.pdf) but added in scientific names. Most of these records also had links to the USFWS Ecological Conservation Online System (ECOS) where we were able to further reduce ambiguity in the species being identified. We were able to pick up ITIS Taxonomic Serial Numbers from the referenced ECOS pages, and from these we tapped into species data from the USFWS Threatened and Endangered Species System and consulted ITIS itself. Through all of these steps we continued to build more and more data into the system that can then be evaluated for various uses."
   ]
  },
  {
   "cell_type": "markdown",
   "metadata": {},
   "source": [
    "This next codeblock uses the generated array of unique scientific names to output a summary of names and their sources for further examination. A few of these are anomalies based on slight string mismatches that are no big deal and could have been dealt with previously. Notable things for future examination include:\n",
    "\n",
    "* The majority of these are cases where there appears to be a disagreement in ITIS for the supplied scientific name. These mostly show up here where you'll see more than one ITIS name, followed by an \"invalid\" or \"unaccepted\" flag and a TSN that matches the TSN picked up from ECOS. The FWS system has a TSN that ITIS considers to be invalid for some reason. There may be good case for argument on these, but they could be noted for FWS biologists to consider if they haven't already done so. Some of the more notable cases are where two different identified species names are the same taxonomy according to ITIS. This may already be well known to the relevant FWS biologists and is likely a part of the petition review process.\n",
    "* There are a few cases where only a genus name was supplied, and we didn't perhaps deal with these quite as elegantly as we could have in this synthesis exercise.\n",
    "* There are a few other cases here where an explicit name match between different sources simply turned up a slight but insignificant difference and have no meaningful impact.\n",
    "\n",
    "We likely need to add some additional annotation to the data based on a human review of these dynamics to help determine which name we want to use in connecting to other data systems. For now, we will try first to use the originally supplied scientific name in pulling other data in and then look at other names when that fails. The intent will be to remain true to what the original data supplied."
   ]
  },
  {
   "cell_type": "code",
   "execution_count": 4,
   "metadata": {},
   "outputs": [
    {
     "name": "stdout",
     "output_type": "stream",
     "text": [
      "Submitted Name: Bufo microscaphus microscaphus\n",
      "ECOS Name: Bufo microscaphus microscaphus\n",
      "ECOS TSN: 207135\n",
      "TESS Name: Bufo microscaphus microscaphus\n",
      "ITIS: Bufo microscaphus microscaphus invalid 207135\n",
      "ITIS: Anaxyrus microscaphus valid 773525\n",
      "----------\n",
      "Submitted Name: Eurycea sp.\n",
      "ECOS Name: eurycea species\n",
      "TESS Name: eurycea species\n",
      "ITIS: Eurycea robusta valid 586344\n",
      "----------\n",
      "Submitted Name: Haideotriton wallacei\n",
      "ECOS Name: Haideotriton wallacei\n",
      "ECOS TSN: 173717\n",
      "TESS Name: Haideotriton wallacei\n",
      "ITIS: Haideotriton wallacei invalid 173717\n",
      "ITIS: Eurycea wallacei valid 775913\n",
      "----------\n",
      "Submitted Name: Grus canadensis pratensis\n",
      "ECOS Name: Antigone canadensis ssp. pratensis\n",
      "TESS Name: Antigone canadensis ssp. pratensis\n",
      "ITIS: Fratercula cirrhata valid 177032\n",
      "----------\n",
      "Submitted Name: picoides arcticus\n",
      "ECOS Name: picoides arcticus\n",
      "ECOS TSN: 178250\n",
      "TESS Name: picoides arcticus\n",
      "ITIS: Picoides arcticus valid 178250\n",
      "----------\n",
      "Submitted Name: picoides arcticus\n",
      "ECOS Name: picoides arcticus\n",
      "ECOS TSN: 178250\n",
      "TESS Name: picoides arcticus\n",
      "ITIS: Picoides arcticus valid 178250\n",
      "----------\n",
      "Submitted Name: Anodonta heardi\n",
      "ECOS Name: Anodonta heardi\n",
      "ECOS TSN: 567231\n",
      "TESS Name: Anodonta heardi\n",
      "ITIS: Anodonta heardi invalid 567231\n",
      "ITIS: Utterbackia heardi valid 983772\n",
      "----------\n",
      "Submitted Name: Pleurobema athearni\n",
      "ECOS Name: Pleurobema athearni\n",
      "TESS Name: Pleurobema athearni\n",
      "ITIS: Pisidium sanguinichristi valid 568099\n",
      "----------\n",
      "Submitted Name: Pleurobema ridellii\n",
      "ECOS Name: Pleurobema riddellii\n",
      "ECOS TSN: 80128\n",
      "TESS Name: Pleurobema riddellii\n",
      "ITIS: Pleurobema riddellii valid 80128\n",
      "----------\n",
      "Submitted Name: Pleurobema rubrum\n",
      "ECOS Name: Pleurobema pyramidatum\n",
      "ECOS TSN: 80132\n",
      "TESS Name: Pleurobema pyramidatum\n",
      "ITIS: Pleurobema pyramidatum invalid 80132\n",
      "ITIS: Pleurobema rubrum valid 568106\n",
      "----------\n",
      "Submitted Name: Pleuronaia barnesiana\n",
      "ECOS Name: Pleuronaia barnesiana\n",
      "TESS Name: Pleuronaia barnesiana\n",
      "ITIS: Pleurobema pyramidatum invalid 80132\n",
      "ITIS: Pleurobema rubrum valid 568106\n",
      "----------\n",
      "Submitted Name: Potamilus metnecktayi\n",
      "ECOS Name: Potamilus metnecktayi\n",
      "TESS Name: Potamilus metnecktayi\n",
      "ITIS: Potamilus amphichaenus valid 80286\n",
      "----------\n",
      "Submitted Name: Quadrula aurea\n",
      "ECOS Name: Quadrula aurea\n",
      "ECOS TSN: 80066\n",
      "TESS Name: Quadrula aurea\n",
      "ITIS: Quadrula aurea invalid 80066\n",
      "ITIS: Amphinaias aurea valid 983630\n",
      "----------\n",
      "Submitted Name: Quadrula houstonensis\n",
      "ECOS Name: Quadrula houstonensis\n",
      "ECOS TSN: 80078\n",
      "TESS Name: Quadrula houstonensis\n",
      "ITIS: Quadrula houstonensis invalid 80078\n",
      "ITIS: Amphinaias houstonensis valid 983629\n",
      "----------\n",
      "Submitted Name: Quadrula petrina\n",
      "ECOS Name: Quadrula petrina\n",
      "ECOS TSN: 80079\n",
      "TESS Name: Quadrula petrina\n",
      "ITIS: Quadrula petrina invalid 80079\n",
      "ITIS: Amphinaias petrina valid 983775\n",
      "----------\n",
      "Submitted Name: Quincuncina mitchelli\n",
      "ECOS Name: Quincuncina mitchelli\n",
      "ECOS TSN: 80357\n",
      "TESS Name: Quincuncina mitchelli\n",
      "ITIS: Quincuncina mitchelli invalid 80357\n",
      "ITIS: Fusconaia mitchelli valid 906951\n",
      "----------\n",
      "Submitted Name: Toxolasma lividum (formally lividus)\n",
      "ECOS Name: Toxolasma lividus\n",
      "ECOS TSN: 80362\n",
      "TESS Name: Toxolasma lividus\n",
      "ITIS: Toxolasma lividus invalid 80362\n",
      "ITIS: Toxolasma lividum valid 906920\n",
      "----------\n",
      "Submitted Name: Chrosomus saylori\n",
      "ECOS Name: Chrosomus saylori\n",
      "TESS Name: Chrosomus saylori\n",
      "ITIS: Amblyopsis spelaea valid 164395\n",
      "----------\n",
      "Submitted Name: Cottus sp.\n",
      "ECOS Name: Cottus sp.\n",
      "TESS Name: Cottus sp.\n",
      "ITIS: Amblyopsis spelaea valid 164395\n",
      "----------\n",
      "Submitted Name: Etheostoma maydeni\n",
      "ITIS: Orconectes quadruncus valid 97476\n",
      "----------\n",
      "Submitted Name: Ictalurus sp.\n",
      "ECOS Name: Ictalurus sp.\n",
      "TESS Name: Ictalurus sp.\n",
      "ITIS: Gambusia clarkhubbsi valid 647295\n",
      "----------\n",
      "Submitted Name: Lavinia exilicauda chi\n",
      "ECOS Name: Lavinia exilicauda chi\n",
      "TESS Name: Lavinia exilicauda chi\n",
      "ITIS: Gambusia clarkhubbsi valid 647295\n",
      "----------\n",
      "Submitted Name: Macrhybopsis aestivalis tetranemus\n",
      "ITIS: Macrhybopsis aestivalis tetranemus invalid 914027\n",
      "ITIS: Macrhybopsis tetranema valid 553282\n",
      "----------\n",
      "Submitted Name: Percina bimaculata\n",
      "ECOS Name: Percina bimaculata\n",
      "TESS Name: Percina bimaculata\n",
      "ITIS: Noturus taylori valid 164026\n",
      "----------\n",
      "Submitted Name: Percina kusha\n",
      "ECOS Name: Percina kusha\n",
      "TESS Name: Percina kusha\n",
      "ITIS: Percina cymatotaenia valid 168482\n",
      "----------\n",
      "Submitted Name: Percina williamsi\n",
      "ECOS Name: Percina williamsi\n",
      "TESS Name: Percina williamsi\n",
      "ITIS: Percina nasuta valid 168489\n",
      "----------\n",
      "Submitted Name: Aster puniceus scabricaulis\n",
      "ITIS: Aster puniceus var. scabricaulis not accepted 193007\n",
      "----------\n",
      "Submitted Name: Boltonia montana\n",
      "ECOS Name: Boltonia montana\n",
      "TESS Name: Boltonia montana\n",
      "ITIS: Boechera pusilla accepted 823137\n",
      "----------\n",
      "Submitted Name: Calliptropsis nootkatensis\n",
      "ECOS Name: Calliptropsis nootkatensis\n",
      "ECOS TSN: 183452\n",
      "TESS Name: Calliptropsis nootkatensis\n",
      "ITIS: Cupressus nootkatensis not accepted 183452\n",
      "----------\n",
      "Submitted Name: Elytraria caroliniensis var. angustifolia\n",
      "ECOS Name: Elytraria caroliniensis var. angustifolia\n",
      "ECOS TSN: 527871\n",
      "TESS Name: Elytraria caroliniensis angustifolia\n",
      "ITIS: Elytraria caroliniensis var. angustifolia accepted 527871\n",
      "----------\n",
      "Submitted Name: Encyclia cochleata var. triandra\n",
      "ECOS Name: Encyclia cochleata var. triandra\n",
      "ECOS TSN: 894872\n",
      "TESS Name: Encyclia cochleata var. triandra\n",
      "ITIS: Encyclia cochleata ssp. triandra not accepted 894872\n",
      "----------\n",
      "Submitted Name: Helianthus occidentalis plantagineus\n",
      "ECOS Name: Helianthus occidentalis ssp. plantagineus\n",
      "ECOS TSN: 36668\n",
      "TESS Name: Helianthus occidentalis ssp. plantagineus\n",
      "ITIS: Helianthus occidentalis ssp. plantagineus accepted 36668\n",
      "----------\n",
      "Submitted Name: Schoenoplectus hallii\n",
      "ECOS Name: Schoenoplectiella Hallii\n",
      "ECOS TSN: 507789\n",
      "TESS Name: Schoenoplectiella hallii\n",
      "ITIS: Schoenoplectus hallii accepted 507789\n",
      "----------\n",
      "Submitted Name: Yucca brevifolia\n",
      "ITIS: Oncidium undulatum not accepted 504022\n",
      "----------\n",
      "Submitted Name: Arsapnia arapahoe\n",
      "ECOS Name: Arsapnia arapahoe\n",
      "ECOS TSN: 609873\n",
      "TESS Name: Arsapnia arapahoe\n",
      "ITIS: Capnia arapahoe valid 609873\n",
      "----------\n",
      "Submitted Name: astylis species\n",
      "ECOS Name: astylis species\n",
      "TESS Name: astylis species\n",
      "ITIS: Capnia arapahoe valid 609873\n",
      "----------\n",
      "Submitted Name: Atlantea tulita\n",
      "ECOS Name: Atlantea tulita\n",
      "TESS Name: Atlantea tulita\n",
      "ITIS: Capnia arapahoe valid 609873\n",
      "----------\n",
      "Submitted Name: Copablepharon fuscum\n",
      "ECOS Name: Copablepharon fuscum\n",
      "TESS Name: Copablepharon fuscum\n",
      "ITIS: Cicindela theatina valid 697745\n",
      "----------\n",
      "Submitted Name: Euphilotes ancilla cryptica\n",
      "ECOS Name: Euphilotes ancilla cryptica\n",
      "TESS Name: Euphilotes ancilla cryptica\n",
      "ITIS: Euchloe ausonides insulanus valid 778540\n",
      "----------\n",
      "Submitted Name: Hemileuca spp.\n",
      "ITIS: Hemileuca valid 936004\n",
      "----------\n",
      "Submitted Name: heterocampa amanda\n",
      "ECOS Name: heterocampa amanda\n",
      "TESS Name: heterocampa amanda\n",
      "ITIS: Haideoporus texanus valid 728356\n",
      "----------\n",
      "Submitted Name: litodonta alpina\n",
      "ECOS Name: litodonta alpina\n",
      "TESS Name: litodonta alpina\n",
      "ITIS: Hygrotus diversipes valid 112255\n",
      "----------\n",
      "Submitted Name: lycaena ferrisi\n",
      "ECOS Name: lycaena ferrisi\n",
      "TESS Name: lycaena ferrisi\n",
      "ITIS: Hygrotus diversipes valid 112255\n",
      "----------\n",
      "Submitted Name: Papaipema eryngii\n",
      "ECOS Name: Papaipema eryngii\n",
      "TESS Name: Papaipema eryngii\n",
      "ITIS: Optioservus phaeus valid 114188\n",
      "----------\n",
      "Submitted Name: Pseudanophthalmus cordicollis\n",
      "ECOS Name: Pseudanophthalmus cordicollis\n",
      "TESS Name: Pseudanophthalmus cordicollis\n",
      "ITIS: Pseudanophthalmus avernus valid 110128\n",
      "----------\n",
      "Submitted Name: Pseudanophthalmus limicola\n",
      "ECOS Name: Pseudanophthalmus limicola\n",
      "TESS Name: Pseudanophthalmus limicola\n",
      "ITIS: Pseudanophthalmus intersectus valid 110130\n",
      "----------\n",
      "Submitted Name: Pseudanophthalmus potomaca potomaca\n",
      "ECOS Name: Pseudanophthalmus potomaca potomaca\n",
      "TESS Name: Pseudanophthalmus potomaca potomaca\n",
      "ITIS: Pseudanophthalmus pontis valid 110116\n",
      "----------\n",
      "Submitted Name: Pseudanophthalmus praetermissus\n",
      "ECOS Name: Pseudanophthalmus praetermissus\n",
      "TESS Name: Pseudanophthalmus praetermissus\n",
      "ITIS: Pseudanophthalmus pontis valid 110116\n",
      "----------\n",
      "Submitted Name: Pseudanophthalmus sanctipauli\n",
      "ECOS Name: Pseudanophthalmus sanctipauli\n",
      "TESS Name: Pseudanophthalmus sanctipauli\n",
      "ITIS: Pseudanophthalmus pontis valid 110116\n",
      "----------\n",
      "Submitted Name: Pseudanophthalmus sericus\n",
      "ECOS Name: Pseudanophthalmus sericus\n",
      "TESS Name: Pseudanophthalmus sericus\n",
      "ITIS: Pseudanophthalmus pontis valid 110116\n",
      "----------\n",
      "Submitted Name: Pseudanophthalmus thomasi\n",
      "ECOS Name: Pseudanophthalmus thomasi\n",
      "TESS Name: Pseudanophthalmus thomasi\n",
      "ITIS: Pseudanophthalmus pontis valid 110116\n",
      "----------\n"
     ]
    },
    {
     "name": "stdout",
     "output_type": "stream",
     "text": [
      "Submitted Name: Pseudanophthalmus virginicus\n",
      "ECOS Name: Pseudanophthalmus virginicus\n",
      "TESS Name: Pseudanophthalmus virginicus\n",
      "ITIS: Pseudanophthalmus pontis valid 110116\n",
      "----------\n",
      "Submitted Name: Alces alces andersoni\n",
      "ITIS: Alces alces andersoni invalid 898971\n",
      "ITIS: Alces americanus americanus valid 898420\n",
      "----------\n",
      "Submitted Name: Martes pennanti\n",
      "ECOS Name: Pekania pennanti\n",
      "ECOS TSN: 180560\n",
      "TESS Name: Pekania pennanti\n",
      "ITIS: Martes pennanti valid 180560\n",
      "----------\n",
      "Submitted Name: Odobenus rosmarus divergens\n",
      "ECOS Name: Odobenus rosmarus ssp. divergens\n",
      "ECOS TSN: 622045\n",
      "TESS Name: Odobenus rosmarus ssp. divergens\n",
      "ITIS: Odobenus rosmarus divergens valid 622045\n",
      "----------\n",
      "Submitted Name: Donrichardsonia macroneuron\n",
      "ITIS: Alces alces andersoni invalid 898971\n",
      "ITIS: Alces americanus americanus valid 898420\n",
      "ITIS: Alces americanus americanus valid 898420\n",
      "----------\n",
      "Submitted Name: aspidoscelis arizonae\n",
      "ECOS Name: aspidoscelis arizonae\n",
      "TESS Name: aspidoscelis arizonae\n",
      "ITIS: Actinemys marmorata valid 668668\n",
      "----------\n",
      "Submitted Name: Charina bottae umbratica\n",
      "ECOS Name: Charina bottae umbratica\n",
      "ECOS TSN: 209559\n",
      "TESS Name: Charina bottae umbratica\n",
      "ITIS: Charina bottae umbratica invalid 209559\n",
      "ITIS: Charina umbratica valid 683027\n",
      "----------\n",
      "Submitted Name: Deirochelys reticularia miaria\n",
      "ECOS Name: Deirochelys reticularia ssp. miaria\n",
      "ECOS TSN: 208628\n",
      "TESS Name: Deirochelys reticularia ssp. miaria\n",
      "ITIS: Deirochelys reticularia miaria valid 208628\n",
      "----------\n",
      "Submitted Name: Eumeces egregius egregius\n",
      "ECOS Name: Plestiodon egregius egregius\n",
      "ECOS TSN: 202157\n",
      "TESS Name: Plestiodon egregius egregius\n",
      "ITIS: Eumeces egregius egregius valid 202157\n",
      "----------\n",
      "Submitted Name: Eumeces egregius insularis (Plestiodon egregius insularis)\n",
      "ECOS Name: Plestiodon egregius insularis\n",
      "ECOS TSN: 208886\n",
      "TESS Name: Plestiodon egregius insularis\n",
      "ITIS: Eumeces egregius insularis valid 208886\n",
      "----------\n",
      "Submitted Name: Macroclemys temmincki\n",
      "ECOS Name: Macroclemys temmincki\n",
      "TESS Name: Macroclemys temmincki\n",
      "ITIS: Holbrookia lacerata valid 173926\n",
      "----------\n",
      "Submitted Name: Sistrurus catenatus edwardsii\n",
      "ECOS Name: Sistrurus catenatus ssp. edwardsii\n",
      "ECOS TSN: 209511\n",
      "TESS Name: Sistrurus catenatus ssp. edwardsii\n",
      "ITIS: Sistrurus catenatus edwardsii invalid 209511\n",
      "ITIS: Sistrurus tergeminus edwardsii valid 1058793\n",
      "----------\n",
      "Submitted Name: Stilosoma extenuatum (Lampropeltis extenuata)\n",
      "ECOS Name: Stilosoma extenuatum\n",
      "ECOS TSN: 174277\n",
      "TESS Name: Stilosoma extenuatum\n",
      "ITIS: Stilosoma extenuatum valid 174277\n",
      "----------\n",
      "Submitted Name: HELMINTHOGLYPTA GREGGI\n",
      "ITIS: Helminthoglypta greggi valid 77759\n",
      "----------\n",
      "Submitted Name: Monadenia fidelis minor\n",
      "ECOS Name: Monadenia fidelis minor\n",
      "TESS Name: Monadenia fidelis minor\n",
      "ITIS: Leptoxis arkansensis valid 71602\n",
      "----------\n",
      "Submitted Name: Oreohelix n. sp. 1\n",
      "ECOS Name: Oreohelix sp\n",
      "TESS Name: Oreohelix sp\n",
      "ITIS: Leptoxis arkansensis valid 71602\n",
      "----------\n",
      "Submitted Name: Pyrgulopsis anguina\n",
      "ECOS Name: Pyrgulopsis anguina\n",
      "TESS Name: Pyrgulopsis anguina\n",
      "ITIS: Planorbella magnifica valid 76663\n",
      "----------\n",
      "Submitted Name: Pyrgulopsis breviloba\n",
      "ECOS Name: Pyrgulopsis breviloba\n",
      "TESS Name: Pyrgulopsis breviloba\n",
      "ITIS: Pyrgulopsis avernalis valid 568186\n",
      "----------\n",
      "Submitted Name: Pyrgulopsis castor\n",
      "ECOS Name: Marstonia castor\n",
      "ECOS TSN: 70541\n",
      "TESS Name: Marstonia castor\n",
      "ITIS: Marstonia castor valid 70541\n",
      "----------\n",
      "Submitted Name: Pyrgulopsis coloradensis\n",
      "ECOS Name: Pyrgulopsis coloradensis\n",
      "TESS Name: Pyrgulopsis coloradensis\n",
      "ITIS: Marstonia castor valid 70541\n",
      "----------\n",
      "Submitted Name: Pyrgulopsis deaconi\n",
      "ECOS Name: Pyrgulopsis deaconi\n",
      "TESS Name: Pyrgulopsis deaconi\n",
      "ITIS: Pyrgulopsis crystalis valid 568196\n",
      "----------\n",
      "Submitted Name: Pyrgulopsis fausta\n",
      "ECOS Name: Pyrgulopsis fausta\n",
      "TESS Name: Pyrgulopsis fausta\n",
      "ITIS: Pyrgulopsis fairbanksensis valid 568202\n",
      "----------\n",
      "Submitted Name: Pyrgulopsis hamlinensis\n",
      "ECOS Name: Pyrgulopsis hamlinensis\n",
      "TESS Name: Pyrgulopsis hamlinensis\n",
      "ITIS: Pyrgulopsis fairbanksensis valid 568202\n",
      "----------\n",
      "Submitted Name: Pyrgulopsis hubbsi\n",
      "ECOS Name: Pyrgulopsis hubbsi\n",
      "TESS Name: Pyrgulopsis hubbsi\n",
      "ITIS: Pyrgulopsis fairbanksensis valid 568202\n",
      "----------\n",
      "Submitted Name: Pyrgulopsis landyei\n",
      "ECOS Name: Pyrgulopsis landyei\n",
      "TESS Name: Pyrgulopsis landyei\n",
      "ITIS: Pyrgulopsis isolata valid 568213\n",
      "----------\n",
      "Submitted Name: Pyrgulopsis lata\n",
      "ECOS Name: Pyrgulopsis lata\n",
      "TESS Name: Pyrgulopsis lata\n",
      "ITIS: Pyrgulopsis isolata valid 568213\n",
      "----------\n",
      "Submitted Name: Pyrgulopsis marcida\n",
      "ECOS Name: Pyrgulopsis marcida\n",
      "TESS Name: Pyrgulopsis marcida\n",
      "ITIS: Pyrgulopsis isolata valid 568213\n",
      "----------\n",
      "Submitted Name: Pyrgulopsis neritella\n",
      "ECOS Name: Pyrgulopsis neritella\n",
      "TESS Name: Pyrgulopsis neritella\n",
      "ITIS: Pyrgulopsis nanus valid 568223\n",
      "----------\n",
      "Submitted Name: Pyrgulopsis orbiculata\n",
      "ECOS Name: Pyrgulopsis orbiculata\n",
      "TESS Name: Pyrgulopsis orbiculata\n",
      "ITIS: Pyrgulopsis nanus valid 568223\n",
      "----------\n",
      "Submitted Name: Pyrgulopsis ozarkensis (Marstonia ozarkensis)\n",
      "ECOS Name: Pyrgulopsis ozarkensis\n",
      "ECOS TSN: 70661\n",
      "TESS Name: Pyrgulopsis ozarkensis\n",
      "ITIS: Pyrgulopsis ozarkensis valid 70661\n",
      "----------\n",
      "Submitted Name: Pyrgulopsis peculiaris\n",
      "ECOS Name: Pyrgulopsis peculiaris\n",
      "TESS Name: Pyrgulopsis peculiaris\n",
      "ITIS: Pyrgulopsis ozarkensis valid 70661\n",
      "----------\n",
      "Submitted Name: Pyrgulopsis planulata\n",
      "ECOS Name: Pyrgulopsis planulata\n",
      "TESS Name: Pyrgulopsis planulata\n",
      "ITIS: Pyrgulopsis pisteri valid 568231\n",
      "----------\n",
      "Submitted Name: Pyrgulopsis sathos\n",
      "ECOS Name: Pyrgulopsis sathos\n",
      "TESS Name: Pyrgulopsis sathos\n",
      "ITIS: Pyrgulopsis pisteri valid 568231\n",
      "----------\n",
      "Submitted Name: Pyrgulopsis saxatilis\n",
      "ECOS Name: Pyrgulopsis saxatilis\n",
      "TESS Name: Pyrgulopsis saxatilis\n",
      "ITIS: Pyrgulopsis pisteri valid 568231\n",
      "----------\n",
      "Submitted Name: Pyrgulopsis serrata\n",
      "ECOS Name: Pyrgulopsis serrata\n",
      "TESS Name: Pyrgulopsis serrata\n",
      "ITIS: Pyrgulopsis pisteri valid 568231\n",
      "----------\n",
      "Submitted Name: Pyrgulopsis sterilis\n",
      "ECOS Name: Pyrgulopsis sterilis\n",
      "TESS Name: Pyrgulopsis sterilis\n",
      "ITIS: Pyrgulopsis pisteri valid 568231\n",
      "----------\n",
      "Submitted Name: Pyrgulopsis sublata\n",
      "ECOS Name: Pyrgulopsis sublata\n",
      "TESS Name: Pyrgulopsis sublata\n",
      "ITIS: Pyrgulopsis pisteri valid 568231\n",
      "----------\n",
      "Submitted Name: Pyrgulopsis sulcata\n",
      "ECOS Name: Pyrgulopsis sulcata\n",
      "TESS Name: Pyrgulopsis sulcata\n",
      "ITIS: Pyrgulopsis pisteri valid 568231\n",
      "----------\n",
      "Submitted Name: Pyrgulopsis turbatrix\n",
      "ECOS Name: Pyrgulopsis turbatrix\n",
      "TESS Name: Pyrgulopsis turbatrix\n",
      "ITIS: Pyrgulopsis pisteri valid 568231\n",
      "----------\n",
      "Submitted Name: Vertigo sp.\n",
      "ECOS Name: Vertigo sp\n",
      "TESS Name: Vertigo sp\n",
      "ITIS: Tryonia variegata valid 568412\n",
      "----------\n"
     ]
    }
   ],
   "source": [
    "for record in esaWPSpecies.find({\"Synthesis.Unique Scientific Names.1\":{\"$exists\":True}}):\n",
    "    print (\"Submitted Name:\", record[\"Submitted Data\"][\"Scientific Name\"])\n",
    "    try:\n",
    "        print (\"ECOS Name:\", record[\"ECOS Scrape\"][\"Scientific Name\"])\n",
    "        print (\"ECOS TSN:\", record[\"ECOS Scrape\"][\"TSN\"])\n",
    "    except:\n",
    "        pass\n",
    "    try:\n",
    "        print (\"TESS Name:\", record[\"TESS\"][\"SCINAME\"])\n",
    "    except:\n",
    "        pass\n",
    "    for itisRecord in record[\"ITIS\"]:\n",
    "        print (\"ITIS:\", itisRecord[\"nameWInd\"], itisRecord[\"usage\"], itisRecord[\"tsn\"])\n",
    "    print (\"----------\")"
   ]
  },
  {
   "cell_type": "markdown",
   "metadata": {},
   "source": [
    "# State Species of Greatest Conservation Need\n",
    "One of the data sources we compared with is the synthesis of SGCN species that our program pulls together. This report shows a quick summary of the species that were found in the state SGCN synthesis. What might be interesting here is to think about cases where states that are part of the species range have not determined that the species should be on their list of conservation needs. If that kind of comparative analysis is interesting, we can work that into the process."
   ]
  },
  {
   "cell_type": "code",
   "execution_count": 17,
   "metadata": {},
   "outputs": [
    {
     "name": "stdout",
     "output_type": "stream",
     "text": [
      "Scientific Name: Ambystoma barbouri\n",
      "Common Name: streamside salamander\n",
      "Lead FWS Region: R4\n",
      "Species Range (FWS): AL, KY, OH, TN, WV\n",
      "ECOS Link: https://ecos.fws.gov/ecp/species/9776\n",
      "2015 SGCN Summary Data\n"
     ]
    },
    {
     "data": {
      "text/plain": [
       "{'Common Names': ['Streamside Salamander'],\n",
       " 'States': ['Indiana', 'Kentucky', 'Tennessee', 'West Virginia']}"
      ]
     },
     "metadata": {},
     "output_type": "display_data"
    },
    {
     "name": "stdout",
     "output_type": "stream",
     "text": [
      "2005 SGCN Summary Data\n"
     ]
    },
    {
     "data": {
      "text/plain": [
       "{'Common Names': ['Streamside Salamander'],\n",
       " 'States': ['Kentucky', 'Ohio', 'Tennessee', 'West Virginia']}"
      ]
     },
     "metadata": {},
     "output_type": "display_data"
    },
    {
     "name": "stdout",
     "output_type": "stream",
     "text": [
      "----------\n",
      "Scientific Name: Anaxyrus boreas boreas\n",
      "Common Name: Boreal toad (Eastern population)\n",
      "Lead FWS Region: R6\n",
      "Species Range (FWS): CO, ID, NM, NV, UT, WY\n",
      "ECOS Link: https://ecos.fws.gov/ecp/species/1114\n",
      "2015 SGCN Summary Data\n"
     ]
    },
    {
     "data": {
      "text/plain": [
       "{'Common Names': ['Boreal Toad',\n",
       "  'Boreal toad (Southern Rocky Mountain Population)'],\n",
       " 'States': ['Colorado', 'Wyoming']}"
      ]
     },
     "metadata": {},
     "output_type": "display_data"
    },
    {
     "name": "stdout",
     "output_type": "stream",
     "text": [
      "----------\n",
      "Scientific Name: Batrachoseps campi\n",
      "Common Name: Inyo Mountains slender salamander\n",
      "Lead FWS Region: R8\n",
      "Species Range (FWS): CA\n",
      "ECOS Link: https://ecos.fws.gov/ecp/species/2095\n",
      "2015 SGCN Summary Data\n"
     ]
    },
    {
     "data": {
      "text/plain": [
       "{'Common Names': ['Inyo Mountains salamander'], 'States': ['California']}"
      ]
     },
     "metadata": {},
     "output_type": "display_data"
    },
    {
     "name": "stdout",
     "output_type": "stream",
     "text": [
      "2005 SGCN Summary Data\n"
     ]
    },
    {
     "data": {
      "text/plain": [
       "{'Common Names': ['Inyo Mountains Slender Salamander'],\n",
       " 'States': ['California']}"
      ]
     },
     "metadata": {},
     "output_type": "display_data"
    },
    {
     "name": "stdout",
     "output_type": "stream",
     "text": [
      "----------\n",
      "Scientific Name: Batrachoseps minor\n",
      "Common Name: lesser slender salamander\n",
      "Lead FWS Region: R8\n",
      "Species Range (FWS): CA\n",
      "ECOS Link: https://ecos.fws.gov/ecp/species/9277\n",
      "2015 SGCN Summary Data\n"
     ]
    },
    {
     "data": {
      "text/plain": [
       "{'Common Names': ['lesser slender salamander'], 'States': ['California']}"
      ]
     },
     "metadata": {},
     "output_type": "display_data"
    },
    {
     "name": "stdout",
     "output_type": "stream",
     "text": [
      "----------\n",
      "Scientific Name: Batrachoseps relictus\n",
      "Common Name: relictual slender salamander\n",
      "Lead FWS Region: R8\n",
      "Species Range (FWS): CA\n",
      "ECOS Link: https://ecos.fws.gov/ecp/species/7408\n",
      "2005 SGCN Summary Data\n"
     ]
    },
    {
     "data": {
      "text/plain": [
       "{'Common Names': ['Relictual Slender Salamander'], 'States': ['California']}"
      ]
     },
     "metadata": {},
     "output_type": "display_data"
    },
    {
     "name": "stdout",
     "output_type": "stream",
     "text": [
      "----------\n",
      "Scientific Name: Batrachoseps robustus\n",
      "Common Name: Kern Plateau salamander\n",
      "Lead FWS Region: R8\n",
      "Species Range (FWS): CA\n",
      "ECOS Link: https://ecos.fws.gov/ecp/species/9274\n",
      "2005 SGCN Summary Data\n"
     ]
    },
    {
     "data": {
      "text/plain": [
       "{'Common Names': ['Kern Plateau Salamander'], 'States': ['California']}"
      ]
     },
     "metadata": {},
     "output_type": "display_data"
    },
    {
     "name": "stdout",
     "output_type": "stream",
     "text": [
      "----------\n",
      "Scientific Name: Batrachoseps simatus\n",
      "Common Name: Kern Canyon slender salamander\n",
      "Lead FWS Region: R8\n",
      "Species Range (FWS): CA\n",
      "ECOS Link: https://ecos.fws.gov/ecp/species/5736\n",
      "2015 SGCN Summary Data\n"
     ]
    },
    {
     "data": {
      "text/plain": [
       "{'Common Names': ['Kern Canyon slender salamander'], 'States': ['California']}"
      ]
     },
     "metadata": {},
     "output_type": "display_data"
    },
    {
     "name": "stdout",
     "output_type": "stream",
     "text": [
      "2005 SGCN Summary Data\n"
     ]
    },
    {
     "data": {
      "text/plain": [
       "{'Common Names': ['Kern Canyon Slender Salamander'], 'States': ['California']}"
      ]
     },
     "metadata": {},
     "output_type": "display_data"
    },
    {
     "name": "stdout",
     "output_type": "stream",
     "text": [
      "----------\n",
      "Scientific Name: Batrachoseps wrighti\n",
      "Common Name: Oregon slender salamander\n",
      "Lead FWS Region: R1\n",
      "Species Range (FWS): OR, WA\n",
      "ECOS Link: https://ecos.fws.gov/ecp/species/913\n",
      "2015 SGCN Summary Data\n"
     ]
    },
    {
     "data": {
      "text/plain": [
       "{'Common Names': ['Oregon Slender Salamander'], 'States': ['Oregon']}"
      ]
     },
     "metadata": {},
     "output_type": "display_data"
    },
    {
     "name": "stdout",
     "output_type": "stream",
     "text": [
      "----------\n",
      "Scientific Name: Bufo microscaphus microscaphus\n",
      "Common Name: Arizona toad\n",
      "Lead FWS Region: R2\n",
      "Species Range (FWS): AZ, CA, NM, NV, UT\n",
      "ECOS Link: https://ecos.fws.gov/ecp/species/2077\n",
      "2005 SGCN Summary Data\n"
     ]
    },
    {
     "data": {
      "text/plain": [
       "{'Common Names': ['Arizona Toad'], 'States': ['New Mexico']}"
      ]
     },
     "metadata": {},
     "output_type": "display_data"
    },
    {
     "name": "stdout",
     "output_type": "stream",
     "text": [
      "----------\n",
      "Scientific Name: Cryptobranchus alleganiensis\n",
      "Common Name: hellbender\n",
      "Lead FWS Region: R3\n",
      "Species Range (FWS): AL, AR, GA, IL, IN, KY, MD, MO, MS, NC, NY, OH, PA, SC, TN, VA, WV\n",
      "ECOS Link: https://ecos.fws.gov/ecp0/profile/speciesProfile?spcode=D00Y\n",
      "2015 SGCN Summary Data\n"
     ]
    },
    {
     "data": {
      "text/plain": [
       "{'Common Names': ['Eastern Hellbender', 'Eastern hellbender', 'Hellbender'],\n",
       " 'States': ['Georgia',\n",
       "  'Illinois',\n",
       "  'Indiana',\n",
       "  'Maryland',\n",
       "  'Mississippi',\n",
       "  'New York',\n",
       "  'Ohio',\n",
       "  'Tennessee',\n",
       "  'West Virginia']}"
      ]
     },
     "metadata": {},
     "output_type": "display_data"
    },
    {
     "name": "stdout",
     "output_type": "stream",
     "text": [
      "2005 SGCN Summary Data\n"
     ]
    },
    {
     "data": {
      "text/plain": [
       "{'Common Names': ['Eastern Hellbender',\n",
       "  'Eastern hellbender',\n",
       "  'Hellbender',\n",
       "  'hellbender'],\n",
       " 'States': ['Alabama',\n",
       "  'Georgia',\n",
       "  'Illinois',\n",
       "  'Indiana',\n",
       "  'Maryland',\n",
       "  'Mississippi',\n",
       "  'New York',\n",
       "  'Ohio',\n",
       "  'Pennsylvania',\n",
       "  'South Carolina',\n",
       "  'Tennessee',\n",
       "  'Virginia',\n",
       "  'West Virginia']}"
      ]
     },
     "metadata": {},
     "output_type": "display_data"
    },
    {
     "name": "stdout",
     "output_type": "stream",
     "text": [
      "----------\n",
      "Scientific Name: Eurycea latitans\n",
      "Common Name: Cascade Caverns salamander\n",
      "Lead FWS Region: R2\n",
      "Species Range (FWS): TX\n",
      "ECOS Link: https://ecos.fws.gov/ecp/species/4624\n",
      "2015 SGCN Summary Data\n"
     ]
    },
    {
     "data": {
      "text/plain": [
       "{'Common Names': ['Cascade Caverns salamander'], 'States': ['Texas']}"
      ]
     },
     "metadata": {},
     "output_type": "display_data"
    },
    {
     "name": "stdout",
     "output_type": "stream",
     "text": [
      "2005 SGCN Summary Data\n"
     ]
    },
    {
     "data": {
      "text/plain": [
       "{'Common Names': ['Cascade Caverns salamander '], 'States': ['Texas']}"
      ]
     },
     "metadata": {},
     "output_type": "display_data"
    },
    {
     "name": "stdout",
     "output_type": "stream",
     "text": [
      "----------\n",
      "Scientific Name: Eurycea nana\n",
      "Common Name: Texas salamander\n",
      "Lead FWS Region: R2\n",
      "Species Range (FWS): TX\n",
      "ECOS Link: https://ecos.fws.gov/ecp0/profile/speciesProfile?spcode=D00I\n",
      "2015 SGCN Summary Data\n"
     ]
    },
    {
     "data": {
      "text/plain": [
       "{'Common Names': ['San Marcos salamander'], 'States': ['Texas']}"
      ]
     },
     "metadata": {},
     "output_type": "display_data"
    },
    {
     "name": "stdout",
     "output_type": "stream",
     "text": [
      "2005 SGCN Summary Data\n"
     ]
    },
    {
     "data": {
      "text/plain": [
       "{'Common Names': ['San Marcos salamander'], 'States': ['Texas']}"
      ]
     },
     "metadata": {},
     "output_type": "display_data"
    },
    {
     "name": "stdout",
     "output_type": "stream",
     "text": [
      "----------\n",
      "Scientific Name: Eurycea robusta\n",
      "Common Name: Blanco blind salamander\n",
      "Lead FWS Region: R2\n",
      "Species Range (FWS): TX\n",
      "ECOS Link: https://ecos.fws.gov/ecp/species/29\n",
      "2015 SGCN Summary Data\n"
     ]
    },
    {
     "data": {
      "text/plain": [
       "{'Common Names': ['Blanco blind salamander'], 'States': ['Texas']}"
      ]
     },
     "metadata": {},
     "output_type": "display_data"
    },
    {
     "name": "stdout",
     "output_type": "stream",
     "text": [
      "2005 SGCN Summary Data\n"
     ]
    },
    {
     "data": {
      "text/plain": [
       "{'Common Names': ['Blanco blind salamander'], 'States': ['Texas']}"
      ]
     },
     "metadata": {},
     "output_type": "display_data"
    },
    {
     "name": "stdout",
     "output_type": "stream",
     "text": [
      "----------\n",
      "Scientific Name: Eurycea sp.\n",
      "Common Name: Comal Springs salamander\n",
      "Lead FWS Region: R2\n",
      "Species Range (FWS): TX\n",
      "ECOS Link: https://ecos.fws.gov/ecp0/profile/speciesProfile?spcode=D03Z\n",
      "2015 SGCN Summary Data\n"
     ]
    },
    {
     "data": {
      "text/plain": [
       "{'Common Names': ['Blanco blind salamander'], 'States': ['Texas']}"
      ]
     },
     "metadata": {},
     "output_type": "display_data"
    },
    {
     "name": "stdout",
     "output_type": "stream",
     "text": [
      "2005 SGCN Summary Data\n"
     ]
    },
    {
     "data": {
      "text/plain": [
       "{'Common Names': ['Blanco blind salamander'], 'States': ['Texas']}"
      ]
     },
     "metadata": {},
     "output_type": "display_data"
    },
    {
     "name": "stdout",
     "output_type": "stream",
     "text": [
      "----------\n",
      "Scientific Name: Eurycea tridentifera\n",
      "Common Name: Comal blind salamander\n",
      "Lead FWS Region: R2\n",
      "Species Range (FWS): TX\n",
      "ECOS Link: https://ecos.fws.gov/ecp/species/2890\n",
      "2015 SGCN Summary Data\n"
     ]
    },
    {
     "data": {
      "text/plain": [
       "{'Common Names': ['Comal blind salamander'], 'States': ['Texas']}"
      ]
     },
     "metadata": {},
     "output_type": "display_data"
    },
    {
     "name": "stdout",
     "output_type": "stream",
     "text": [
      "2005 SGCN Summary Data\n"
     ]
    },
    {
     "data": {
      "text/plain": [
       "{'Common Names': ['Comal blind salamander'], 'States': ['Texas']}"
      ]
     },
     "metadata": {},
     "output_type": "display_data"
    },
    {
     "name": "stdout",
     "output_type": "stream",
     "text": [
      "----------\n",
      "Scientific Name: Eurycea tynerensis\n",
      "Common Name: Oklahoma salamander\n",
      "Lead FWS Region: R4\n",
      "Species Range (FWS): OK, MO, AR\n",
      "ECOS Link: https://ecos.fws.gov/ecp/species/4096\n",
      "2015 SGCN Summary Data\n"
     ]
    },
    {
     "data": {
      "text/plain": [
       "{'Common Names': ['Oklahoma Salamander',\n",
       "  'Oklahoma Salamander ',\n",
       "  'Oklahoma salamander'],\n",
       " 'States': ['Arkansas', 'Missouri', 'Oklahoma']}"
      ]
     },
     "metadata": {},
     "output_type": "display_data"
    },
    {
     "name": "stdout",
     "output_type": "stream",
     "text": [
      "2005 SGCN Summary Data\n"
     ]
    },
    {
     "data": {
      "text/plain": [
       "{'Common Names': ['Oklahoma Salamander'], 'States': ['Arkansas', 'Oklahoma']}"
      ]
     },
     "metadata": {},
     "output_type": "display_data"
    },
    {
     "name": "stdout",
     "output_type": "stream",
     "text": [
      "----------\n",
      "Scientific Name: Gyrinophilus gulolineatus\n",
      "Common Name: Berry Cave Salamander\n",
      "Lead FWS Region: R4\n",
      "Species Range (FWS): TN\n",
      "ECOS Link: https://ecos.fws.gov/ecp/species/4043\n",
      "2015 SGCN Summary Data\n"
     ]
    },
    {
     "data": {
      "text/plain": [
       "{'Common Names': ['Berry Cave Salamander'], 'States': ['Tennessee']}"
      ]
     },
     "metadata": {},
     "output_type": "display_data"
    },
    {
     "name": "stdout",
     "output_type": "stream",
     "text": [
      "----------\n",
      "Scientific Name: Gyrinophilus palleucus\n",
      "Common Name: Tennessee Cave salamander\n",
      "Lead FWS Region: R4\n",
      "Species Range (FWS): AL, GA, TN\n",
      "ECOS Link: https://ecos.fws.gov/ecp/species/5131\n",
      "2015 SGCN Summary Data\n"
     ]
    },
    {
     "data": {
      "text/plain": [
       "{'Common Names': ['Tennessee Cave Salamander'],\n",
       " 'States': ['Alabama', 'Georgia', 'Tennessee']}"
      ]
     },
     "metadata": {},
     "output_type": "display_data"
    },
    {
     "name": "stdout",
     "output_type": "stream",
     "text": [
      "2005 SGCN Summary Data\n"
     ]
    },
    {
     "data": {
      "text/plain": [
       "{'Common Names': ['Tennessee Cave Salamander'],\n",
       " 'States': ['Alabama', 'Georgia', 'Tennessee']}"
      ]
     },
     "metadata": {},
     "output_type": "display_data"
    },
    {
     "name": "stdout",
     "output_type": "stream",
     "text": [
      "----------\n",
      "Scientific Name: Gyrinophilus subterraneus\n",
      "Common Name: West Virginia spring salamander\n",
      "Lead FWS Region: R5\n",
      "Species Range (FWS): WV\n",
      "ECOS Link: https://ecos.fws.gov/ecp/species/1835\n",
      "2015 SGCN Summary Data\n"
     ]
    },
    {
     "data": {
      "text/plain": [
       "{'Common Names': ['West Virginia Spring Salamander'],\n",
       " 'States': ['West Virginia']}"
      ]
     },
     "metadata": {},
     "output_type": "display_data"
    },
    {
     "name": "stdout",
     "output_type": "stream",
     "text": [
      "2005 SGCN Summary Data\n"
     ]
    },
    {
     "data": {
      "text/plain": [
       "{'Common Names': ['West Virginia Spring Salamander'],\n",
       " 'States': ['West Virginia']}"
      ]
     },
     "metadata": {},
     "output_type": "display_data"
    },
    {
     "name": "stdout",
     "output_type": "stream",
     "text": [
      "----------\n",
      "Scientific Name: Haideotriton wallacei\n",
      "Common Name: Georgia blind salamander\n",
      "Lead FWS Region: R4\n",
      "Species Range (FWS): FL, GA\n",
      "ECOS Link: https://ecos.fws.gov/ecp/species/8465\n",
      "2015 SGCN Summary Data\n"
     ]
    },
    {
     "data": {
      "text/plain": [
       "{'Common Names': ['Georgia Blind Salamander'], 'States': ['Florida']}"
      ]
     },
     "metadata": {},
     "output_type": "display_data"
    },
    {
     "name": "stdout",
     "output_type": "stream",
     "text": [
      "----------\n",
      "Scientific Name: Hydromantes brunus\n",
      "Common Name: limestone salamander\n",
      "Lead FWS Region: R8\n",
      "Species Range (FWS): CA\n",
      "ECOS Link: https://ecos.fws.gov/ecp/species/2773\n",
      "2015 SGCN Summary Data\n"
     ]
    },
    {
     "data": {
      "text/plain": [
       "{'Common Names': ['limestone salamander'], 'States': ['California']}"
      ]
     },
     "metadata": {},
     "output_type": "display_data"
    },
    {
     "name": "stdout",
     "output_type": "stream",
     "text": [
      "2005 SGCN Summary Data\n"
     ]
    },
    {
     "data": {
      "text/plain": [
       "{'Common Names': ['Limestone Salamander'], 'States': ['California']}"
      ]
     },
     "metadata": {},
     "output_type": "display_data"
    },
    {
     "name": "stdout",
     "output_type": "stream",
     "text": [
      "----------\n",
      "Scientific Name: Hydromantes shastae\n",
      "Common Name: Shasta salamander\n",
      "Lead FWS Region: R8\n",
      "Species Range (FWS): CA\n",
      "ECOS Link: https://ecos.fws.gov/ecp/species/6607\n",
      "2015 SGCN Summary Data\n"
     ]
    },
    {
     "data": {
      "text/plain": [
       "{'Common Names': ['Shasta salamander'], 'States': ['California']}"
      ]
     },
     "metadata": {},
     "output_type": "display_data"
    },
    {
     "name": "stdout",
     "output_type": "stream",
     "text": [
      "2005 SGCN Summary Data\n"
     ]
    },
    {
     "data": {
      "text/plain": [
       "{'Common Names': ['Shasta Salamander'], 'States': ['California']}"
      ]
     },
     "metadata": {},
     "output_type": "display_data"
    },
    {
     "name": "stdout",
     "output_type": "stream",
     "text": [
      "----------\n",
      "Scientific Name: Necturus lewisi\n",
      "Common Name: Neuse River waterdog\n",
      "Lead FWS Region: R4\n",
      "Species Range (FWS): NC\n",
      "ECOS Link: https://ecos.fws.gov/ecp/species/6772\n",
      "2015 SGCN Summary Data\n"
     ]
    },
    {
     "data": {
      "text/plain": [
       "{'Common Names': ['Neuse River Waterdog'], 'States': ['North Carolina']}"
      ]
     },
     "metadata": {},
     "output_type": "display_data"
    },
    {
     "name": "stdout",
     "output_type": "stream",
     "text": [
      "2005 SGCN Summary Data\n"
     ]
    },
    {
     "data": {
      "text/plain": [
       "{'Common Names': ['Neuse River Waterdog'], 'States': ['North Carolina']}"
      ]
     },
     "metadata": {},
     "output_type": "display_data"
    },
    {
     "name": "stdout",
     "output_type": "stream",
     "text": [
      "----------\n",
      "Scientific Name: Notophthalmus perstriatus\n",
      "Common Name: striped newt\n",
      "Lead FWS Region: R4\n",
      "Species Range (FWS): FL, GA\n",
      "ECOS Link: https://ecos.fws.gov/ecp/species/5856\n",
      "2015 SGCN Summary Data\n"
     ]
    },
    {
     "data": {
      "text/plain": [
       "{'Common Names': ['Striped Newt'], 'States': ['Florida']}"
      ]
     },
     "metadata": {},
     "output_type": "display_data"
    },
    {
     "name": "stdout",
     "output_type": "stream",
     "text": [
      "----------\n",
      "Scientific Name: Plethodon hubrichti\n",
      "Common Name: Peaks of Otter salamander\n",
      "Lead FWS Region: R5\n",
      "Species Range (FWS): VA\n",
      "ECOS Link: https://ecos.fws.gov/ecp/species/3529\n",
      "2015 SGCN Summary Data\n"
     ]
    },
    {
     "data": {
      "text/plain": [
       "{'Common Names': ['Peaks of Otter salamander '], 'States': ['Virginia']}"
      ]
     },
     "metadata": {},
     "output_type": "display_data"
    },
    {
     "name": "stdout",
     "output_type": "stream",
     "text": [
      "2005 SGCN Summary Data\n"
     ]
    },
    {
     "data": {
      "text/plain": [
       "{'Common Names': ['Peaks of Otter salamander'], 'States': ['Virginia']}"
      ]
     },
     "metadata": {},
     "output_type": "display_data"
    },
    {
     "name": "stdout",
     "output_type": "stream",
     "text": [
      "----------\n",
      "Scientific Name: Pseudacris illinoensis\n",
      "Common Name: Illinois chorus frog\n",
      "Lead FWS Region: R3\n",
      "Species Range (FWS): AR, IL, MO\n",
      "ECOS Link: https://ecos.fws.gov/ecp/species/455\n",
      "2005 SGCN Summary Data\n"
     ]
    },
    {
     "data": {
      "text/plain": [
       "{'Common Names': ['Illinois chorus frog'], 'States': ['Illinois']}"
      ]
     },
     "metadata": {},
     "output_type": "display_data"
    },
    {
     "name": "stdout",
     "output_type": "stream",
     "text": [
      "----------\n",
      "Scientific Name: Rana boylii\n",
      "Common Name: foothill yellow-legged frog\n",
      "Lead FWS Region: R8\n",
      "Species Range (FWS): CA, OR\n",
      "ECOS Link: https://ecos.fws.gov/ecp/species/5133\n",
      "2015 SGCN Summary Data\n"
     ]
    },
    {
     "data": {
      "text/plain": [
       "{'Common Names': ['Foothill Yellow-legged Frog ',\n",
       "  'foothill yellow-legged frog'],\n",
       " 'States': ['California', 'Oregon']}"
      ]
     },
     "metadata": {},
     "output_type": "display_data"
    },
    {
     "name": "stdout",
     "output_type": "stream",
     "text": [
      "2005 SGCN Summary Data\n"
     ]
    },
    {
     "data": {
      "text/plain": [
       "{'Common Names': ['Foothill Yellow-Legged Frog',\n",
       "  'foothill yellow-legged frog'],\n",
       " 'States': ['California', 'Oregon']}"
      ]
     },
     "metadata": {},
     "output_type": "display_data"
    },
    {
     "name": "stdout",
     "output_type": "stream",
     "text": [
      "----------\n",
      "Scientific Name: Rana cascadae\n",
      "Common Name: Cascades frog\n",
      "Lead FWS Region: R1\n",
      "Species Range (FWS): OR, WA\n",
      "ECOS Link: https://ecos.fws.gov/ecp/species/7827\n",
      "2015 SGCN Summary Data\n"
     ]
    },
    {
     "data": {
      "text/plain": [
       "{'Common Names': ['Cascades Frog ', 'Cascades frog'],\n",
       " 'States': ['California', 'Oregon']}"
      ]
     },
     "metadata": {},
     "output_type": "display_data"
    },
    {
     "name": "stdout",
     "output_type": "stream",
     "text": [
      "2005 SGCN Summary Data\n"
     ]
    },
    {
     "data": {
      "text/plain": [
       "{'Common Names': ['Cascades Frog'], 'States': ['California']}"
      ]
     },
     "metadata": {},
     "output_type": "display_data"
    },
    {
     "name": "stdout",
     "output_type": "stream",
     "text": [
      "----------\n",
      "Scientific Name: Rhyacotriton cascadae\n",
      "Common Name: Cascade torrent salamander\n",
      "Lead FWS Region: R1\n",
      "Species Range (FWS): OR, WA\n",
      "ECOS Link: https://ecos.fws.gov/ecp/species/1375\n",
      "2015 SGCN Summary Data\n"
     ]
    },
    {
     "data": {
      "text/plain": [
       "{'Common Names': ['Cascade Torrent Salamander ', 'Cascade torrent salamander'],\n",
       " 'States': ['Oregon', 'Washington']}"
      ]
     },
     "metadata": {},
     "output_type": "display_data"
    },
    {
     "name": "stdout",
     "output_type": "stream",
     "text": [
      "2005 SGCN Summary Data\n"
     ]
    },
    {
     "data": {
      "text/plain": [
       "{'Common Names': ['Cascade torrent salamander'],\n",
       " 'States': ['Oregon', 'Washington']}"
      ]
     },
     "metadata": {},
     "output_type": "display_data"
    },
    {
     "name": "stdout",
     "output_type": "stream",
     "text": [
      "----------\n",
      "Scientific Name: Rhyacotriton kezeri\n",
      "Common Name: Columbia torrent salamander\n",
      "Lead FWS Region: R1\n",
      "Species Range (FWS): OR, WA\n",
      "ECOS Link: https://ecos.fws.gov/ecp/species/3376\n",
      "2015 SGCN Summary Data\n"
     ]
    },
    {
     "data": {
      "text/plain": [
       "{'Common Names': ['Columbia Torrent Salamander',\n",
       "  'Columbia torrent salamander'],\n",
       " 'States': ['Oregon', 'Washington']}"
      ]
     },
     "metadata": {},
     "output_type": "display_data"
    },
    {
     "name": "stdout",
     "output_type": "stream",
     "text": [
      "2005 SGCN Summary Data\n"
     ]
    },
    {
     "data": {
      "text/plain": [
       "{'Common Names': ['Columbia torrent salamander'],\n",
       " 'States': ['Oregon', 'Washington']}"
      ]
     },
     "metadata": {},
     "output_type": "display_data"
    },
    {
     "name": "stdout",
     "output_type": "stream",
     "text": [
      "----------\n",
      "Scientific Name: Spea hammondii\n",
      "Common Name: western spadefoot\n",
      "Lead FWS Region: R8\n",
      "Species Range (FWS): CA\n",
      "ECOS Link: https://ecos.fws.gov/ecp/species/5425\n",
      "2015 SGCN Summary Data\n"
     ]
    },
    {
     "data": {
      "text/plain": [
       "{'Common Names': ['western spadefoot'], 'States': ['California']}"
      ]
     },
     "metadata": {},
     "output_type": "display_data"
    },
    {
     "name": "stdout",
     "output_type": "stream",
     "text": [
      "----------\n",
      "Scientific Name: Agelaius tricolor\n",
      "Common Name: tricolor blackbird\n",
      "Lead FWS Region: R8\n",
      "Species Range (FWS): CA, OR, WA, NV\n",
      "ECOS Link: https://ecos.fws.gov/ecp/species/3910\n",
      "2015 SGCN Summary Data\n"
     ]
    },
    {
     "data": {
      "text/plain": [
       "{'Common Names': ['Tricolored Blackbird', 'tricolored blackbird'],\n",
       " 'States': ['California', 'Nevada']}"
      ]
     },
     "metadata": {},
     "output_type": "display_data"
    },
    {
     "name": "stdout",
     "output_type": "stream",
     "text": [
      "2005 SGCN Summary Data\n"
     ]
    },
    {
     "data": {
      "text/plain": [
       "{'Common Names': ['Tricolored Blackbird'], 'States': ['California', 'Nevada']}"
      ]
     },
     "metadata": {},
     "output_type": "display_data"
    },
    {
     "name": "stdout",
     "output_type": "stream",
     "text": [
      "----------\n",
      "Scientific Name: Amazona viridigenalis\n",
      "Common Name: red-crowned parrot\n",
      "Lead FWS Region: R2\n",
      "Species Range (FWS): TX, Mexico\n",
      "ECOS Link: https://ecos.fws.gov/ecp/species/9022\n",
      "2015 SGCN Summary Data\n"
     ]
    },
    {
     "data": {
      "text/plain": [
       "{'Common Names': ['Red-crowned Parrot'], 'States': ['Texas']}"
      ]
     },
     "metadata": {},
     "output_type": "display_data"
    },
    {
     "name": "stdout",
     "output_type": "stream",
     "text": [
      "2005 SGCN Summary Data\n"
     ]
    },
    {
     "data": {
      "text/plain": [
       "{'Common Names': ['Red-crowned parrot'], 'States': ['Texas']}"
      ]
     },
     "metadata": {},
     "output_type": "display_data"
    },
    {
     "name": "stdout",
     "output_type": "stream",
     "text": [
      "----------\n",
      "Scientific Name: Ammodramus caudacutus\n",
      "Common Name: salt marsh sharp-tailed sparrow\n",
      "Lead FWS Region: R5\n",
      "Species Range (FWS): CT, DE, FL, GA, MA, MD, ME, NC, NH, NJ, NY, PA, RI, SC, VA\n",
      "ECOS Link: nan\n",
      "2015 SGCN Summary Data\n"
     ]
    },
    {
     "data": {
      "text/plain": [
       "{'Common Names': ['Saltmarsh Sharp-tailed Sparrow ',\n",
       "  'Saltmarsh Sparrow',\n",
       "  'Saltmarsh sparrow'],\n",
       " 'States': ['Connecticut',\n",
       "  'Delaware',\n",
       "  'Florida',\n",
       "  'Georgia',\n",
       "  'Maine',\n",
       "  'Maryland',\n",
       "  'Massachusetts',\n",
       "  'New Hampshire',\n",
       "  'New Jersey',\n",
       "  'New York',\n",
       "  'North Carolina',\n",
       "  'Rhode Island',\n",
       "  'Virginia']}"
      ]
     },
     "metadata": {},
     "output_type": "display_data"
    },
    {
     "name": "stdout",
     "output_type": "stream",
     "text": [
      "2005 SGCN Summary Data\n"
     ]
    },
    {
     "data": {
      "text/plain": [
       "{'Common Names': ['Salt Marsh Sharp Tailed Sparrow',\n",
       "  'Saltmarsh Sharp-tailed Sparrow',\n",
       "  'Saltmarsh sharp-tailed sparrow',\n",
       "  'saltmarsh sharp-tailed sparrow'],\n",
       " 'States': ['Connecticut',\n",
       "  'Delaware',\n",
       "  'Maine',\n",
       "  'Maryland',\n",
       "  'Massachusetts',\n",
       "  'New Hampshire',\n",
       "  'New Jersey',\n",
       "  'New York',\n",
       "  'North Carolina',\n",
       "  'Rhode Island',\n",
       "  'Virginia']}"
      ]
     },
     "metadata": {},
     "output_type": "display_data"
    },
    {
     "name": "stdout",
     "output_type": "stream",
     "text": [
      "----------\n",
      "Scientific Name: Ammodramus maritimus macgillivraii\n",
      "Common Name: MacGillivray's seaside sparrow\n",
      "Lead FWS Region: R4\n",
      "Species Range (FWS): FL, GA, NC, SC\n",
      "ECOS Link: https://ecos.fws.gov/ecp/species/9775\n",
      "2015 SGCN Summary Data\n"
     ]
    },
    {
     "data": {
      "text/plain": [
       "{'Common Names': [\"Macgillivray's Seaside Sparrow\",\n",
       "  \"Seaside Sparrow (McGillivray's)\"],\n",
       " 'States': ['Florida', 'South Carolina']}"
      ]
     },
     "metadata": {},
     "output_type": "display_data"
    },
    {
     "name": "stdout",
     "output_type": "stream",
     "text": [
      "2005 SGCN Summary Data\n"
     ]
    },
    {
     "data": {
      "text/plain": [
       "{'Common Names': [\"Macgillivray's Seaside Sparrow\"], 'States': ['Florida']}"
      ]
     },
     "metadata": {},
     "output_type": "display_data"
    },
    {
     "name": "stdout",
     "output_type": "stream",
     "text": [
      "----------\n",
      "Scientific Name: Catharus bicknelli\n",
      "Common Name: Bicknell's thrush\n",
      "Lead FWS Region: R5\n",
      "Species Range (FWS): CT, DE, GA, MA, MD, ME, NC, NH, NJ, NY, PA, RI, SC, VA, VT, Canada, Bahamas, Cuba, Dominican Republic, Haiti, Jamaica\n",
      "ECOS Link: https://ecos.fws.gov/ecp/species/606\n",
      "2015 SGCN Summary Data\n"
     ]
    },
    {
     "data": {
      "text/plain": [
       "{'Common Names': [\"Bicknell's thrush\"], 'States': ['Maryland']}"
      ]
     },
     "metadata": {},
     "output_type": "display_data"
    },
    {
     "name": "stdout",
     "output_type": "stream",
     "text": [
      "2005 SGCN Summary Data\n"
     ]
    },
    {
     "data": {
      "text/plain": [
       "{'Common Names': [\"Bicknell's thrush\"], 'States': ['Maryland']}"
      ]
     },
     "metadata": {},
     "output_type": "display_data"
    },
    {
     "name": "stdout",
     "output_type": "stream",
     "text": [
      "----------\n",
      "Scientific Name: Fratercula cirrhata\n",
      "Common Name: tufted puffin\n",
      "Lead FWS Region: R1\n",
      "Species Range (FWS): CA, OR, WA\n",
      "ECOS Link: https://ecos.fws.gov/ecp/species/430\n",
      "2015 SGCN Summary Data\n"
     ]
    },
    {
     "data": {
      "text/plain": [
       "{'Common Names': [' Tufted Puffin ',\n",
       "  'Tufted Puffin',\n",
       "  'Tufted puffin',\n",
       "  'tufted puffin'],\n",
       " 'States': ['Alaska', 'California', 'Oregon', 'Washington']}"
      ]
     },
     "metadata": {},
     "output_type": "display_data"
    },
    {
     "name": "stdout",
     "output_type": "stream",
     "text": [
      "2005 SGCN Summary Data\n"
     ]
    },
    {
     "data": {
      "text/plain": [
       "{'Common Names': ['Tufted Puffin', 'Tufted puffin', 'tufted puffin'],\n",
       " 'States': ['California', 'Oregon', 'Washington']}"
      ]
     },
     "metadata": {},
     "output_type": "display_data"
    },
    {
     "name": "stdout",
     "output_type": "stream",
     "text": [
      "----------\n",
      "Scientific Name: Grus canadensis pratensis\n",
      "Common Name: Florida sandhill crane\n",
      "Lead FWS Region: R4\n",
      "Species Range (FWS): FL, GA\n",
      "ECOS Link: https://ecos.fws.gov/ecp/species/9906\n",
      "2015 SGCN Summary Data\n"
     ]
    },
    {
     "data": {
      "text/plain": [
       "{'Common Names': [' Tufted Puffin ',\n",
       "  'Tufted Puffin',\n",
       "  'Tufted puffin',\n",
       "  'tufted puffin'],\n",
       " 'States': ['Alaska', 'California', 'Oregon', 'Washington']}"
      ]
     },
     "metadata": {},
     "output_type": "display_data"
    },
    {
     "name": "stdout",
     "output_type": "stream",
     "text": [
      "2005 SGCN Summary Data\n"
     ]
    },
    {
     "data": {
      "text/plain": [
       "{'Common Names': ['Tufted Puffin', 'Tufted puffin', 'tufted puffin'],\n",
       " 'States': ['California', 'Oregon', 'Washington']}"
      ]
     },
     "metadata": {},
     "output_type": "display_data"
    },
    {
     "name": "stdout",
     "output_type": "stream",
     "text": [
      "----------\n",
      "Scientific Name: Lagopus leucura altipetens\n",
      "Common Name: southern white-tailed ptarmigan\n",
      "Lead FWS Region: R6\n",
      "Species Range (FWS): CA, CO, ID, MT, NM, UT, WA, WY\n",
      "ECOS Link: https://ecos.fws.gov/ecp0/profile/speciesProfile?spcode=B0H8\n",
      "2015 SGCN Summary Data\n"
     ]
    },
    {
     "data": {
      "text/plain": [
       "{'Common Names': ['Southern white-tailed ptarmigan'], 'States': ['Colorado']}"
      ]
     },
     "metadata": {},
     "output_type": "display_data"
    },
    {
     "name": "stdout",
     "output_type": "stream",
     "text": [
      "----------\n",
      "Scientific Name: Laterallus jamaicensis\n",
      "Common Name: black rail\n",
      "Lead FWS Region: R4\n",
      "Species Range (FWS): AL, AR, FL, GA, LA, MS, NC, SC, TX, VA\n",
      "ECOS Link: https://ecos.fws.gov/ecp/species/7717\n",
      "2015 SGCN Summary Data\n"
     ]
    },
    {
     "data": {
      "text/plain": [
       "{'Common Names': ['Black Rail'], 'States': ['Indiana']}"
      ]
     },
     "metadata": {},
     "output_type": "display_data"
    },
    {
     "name": "stdout",
     "output_type": "stream",
     "text": [
      "----------\n",
      "Scientific Name: Monarcha takatsukasae\n",
      "Common Name: Tinian monarch\n",
      "Lead FWS Region: R1\n",
      "Species Range (FWS): MP\n",
      "ECOS Link: https://ecos.fws.gov/ecp/species/6613\n",
      "2015 SGCN Summary Data\n"
     ]
    },
    {
     "data": {
      "text/plain": [
       "{'Common Names': ['Tinian Monarch'], 'States': ['Northern Mariana Islands']}"
      ]
     },
     "metadata": {},
     "output_type": "display_data"
    },
    {
     "name": "stdout",
     "output_type": "stream",
     "text": [
      "2005 SGCN Summary Data\n"
     ]
    },
    {
     "data": {
      "text/plain": [
       "{'Common Names': ['Tinian Monarch'], 'States': ['Northern Mariana Islands']}"
      ]
     },
     "metadata": {},
     "output_type": "display_data"
    },
    {
     "name": "stdout",
     "output_type": "stream",
     "text": [
      "----------\n",
      "Scientific Name: picoides arcticus\n",
      "Common Name: black-backed woodpecker (Black Hills population)\n",
      "Lead FWS Region: R6\n",
      "Species Range (FWS): SD, WY\n",
      "ECOS Link: https://ecos.fws.gov/ecp/species/7951\n",
      "2015 SGCN Summary Data\n"
     ]
    },
    {
     "data": {
      "text/plain": [
       "{'Common Names': [' Black-backed Woodpecker',\n",
       "  'Black-backed Woodpecker',\n",
       "  'Black-backed woodpecker'],\n",
       " 'States': ['Alaska',\n",
       "  'Maine',\n",
       "  'Michigan',\n",
       "  'Minnesota',\n",
       "  'Oregon',\n",
       "  'South Dakota',\n",
       "  'Vermont',\n",
       "  'Wisconsin',\n",
       "  'Wyoming']}"
      ]
     },
     "metadata": {},
     "output_type": "display_data"
    },
    {
     "name": "stdout",
     "output_type": "stream",
     "text": [
      "2005 SGCN Summary Data\n"
     ]
    },
    {
     "data": {
      "text/plain": [
       "{'Common Names': ['Black-backed Woodpecker',\n",
       "  'Black-backed Woodpecker ',\n",
       "  'Black-backed woodpecker',\n",
       "  'black-backed woodpecker'],\n",
       " 'States': ['Alaska',\n",
       "  'Michigan',\n",
       "  'Minnesota',\n",
       "  'Montana',\n",
       "  'Oregon',\n",
       "  'South Dakota',\n",
       "  'Vermont',\n",
       "  'Washington',\n",
       "  'Wisconsin',\n",
       "  'Wyoming']}"
      ]
     },
     "metadata": {},
     "output_type": "display_data"
    },
    {
     "name": "stdout",
     "output_type": "stream",
     "text": [
      "----------\n",
      "Scientific Name: picoides arcticus\n",
      "Common Name: black-backed woodpecker (Oregon Cascades-California population)\n",
      "Lead FWS Region: R8\n",
      "Species Range (FWS): CA, ND, OR\n",
      "ECOS Link: https://ecos.fws.gov/ecp/species/7951\n",
      "2015 SGCN Summary Data\n"
     ]
    },
    {
     "data": {
      "text/plain": [
       "{'Common Names': [' Black-backed Woodpecker',\n",
       "  'Black-backed Woodpecker',\n",
       "  'Black-backed woodpecker'],\n",
       " 'States': ['Alaska',\n",
       "  'Maine',\n",
       "  'Michigan',\n",
       "  'Minnesota',\n",
       "  'Oregon',\n",
       "  'South Dakota',\n",
       "  'Vermont',\n",
       "  'Wisconsin',\n",
       "  'Wyoming']}"
      ]
     },
     "metadata": {},
     "output_type": "display_data"
    },
    {
     "name": "stdout",
     "output_type": "stream",
     "text": [
      "2005 SGCN Summary Data\n"
     ]
    },
    {
     "data": {
      "text/plain": [
       "{'Common Names': ['Black-backed Woodpecker',\n",
       "  'Black-backed Woodpecker ',\n",
       "  'Black-backed woodpecker',\n",
       "  'black-backed woodpecker'],\n",
       " 'States': ['Alaska',\n",
       "  'Michigan',\n",
       "  'Minnesota',\n",
       "  'Montana',\n",
       "  'Oregon',\n",
       "  'South Dakota',\n",
       "  'Vermont',\n",
       "  'Washington',\n",
       "  'Wisconsin',\n",
       "  'Wyoming']}"
      ]
     },
     "metadata": {},
     "output_type": "display_data"
    },
    {
     "name": "stdout",
     "output_type": "stream",
     "text": [
      "----------\n",
      "Scientific Name: Pterodroma hasitata\n",
      "Common Name: black-capped petrel\n",
      "Lead FWS Region: R4\n",
      "Species Range (FWS): FL, GA, SC, NC, PR, VA, VI\n",
      "ECOS Link: https://ecos.fws.gov/ecp/species/4748\n",
      "2015 SGCN Summary Data\n"
     ]
    },
    {
     "data": {
      "text/plain": [
       "{'Common Names': ['Black-capped Petrel'], 'States': ['Florida']}"
      ]
     },
     "metadata": {},
     "output_type": "display_data"
    },
    {
     "name": "stdout",
     "output_type": "stream",
     "text": [
      "----------\n",
      "Scientific Name: Strix occidentalis caurina\n",
      "Common Name: northern spotted owl\n",
      "Lead FWS Region: R1\n",
      "Species Range (FWS): CA, OR, WA\n",
      "ECOS Link: https://ecos.fws.gov/ecp/species/1123\n",
      "2015 SGCN Summary Data\n"
     ]
    },
    {
     "data": {
      "text/plain": [
       "{'Common Names': ['Northern Spotted Owl',\n",
       "  'Northern spotted owl',\n",
       "  'northern spotted owl'],\n",
       " 'States': ['California', 'Oregon', 'Washington']}"
      ]
     },
     "metadata": {},
     "output_type": "display_data"
    },
    {
     "name": "stdout",
     "output_type": "stream",
     "text": [
      "2005 SGCN Summary Data\n"
     ]
    },
    {
     "data": {
      "text/plain": [
       "{'Common Names': ['Northern Spotted Owl',\n",
       "  'Northern spotted owl',\n",
       "  'northern spotted owl'],\n",
       " 'States': ['California', 'Oregon', 'Washington']}"
      ]
     },
     "metadata": {},
     "output_type": "display_data"
    },
    {
     "name": "stdout",
     "output_type": "stream",
     "text": [
      "----------\n",
      "Scientific Name: Strix occidentalis occidentalis\n",
      "Common Name: California spotted owl\n",
      "Lead FWS Region: R8\n",
      "Species Range (FWS): CA, OR\n",
      "ECOS Link: https://ecos.fws.gov/ecp/species/7266\n",
      "2015 SGCN Summary Data\n"
     ]
    },
    {
     "data": {
      "text/plain": [
       "{'Common Names': ['California Spotted Owl', 'California spotted owl'],\n",
       " 'States': ['California', 'Nevada']}"
      ]
     },
     "metadata": {},
     "output_type": "display_data"
    },
    {
     "name": "stdout",
     "output_type": "stream",
     "text": [
      "2005 SGCN Summary Data\n"
     ]
    },
    {
     "data": {
      "text/plain": [
       "{'Common Names': ['California Spotted Owl'],\n",
       " 'States': ['California', 'Nevada']}"
      ]
     },
     "metadata": {},
     "output_type": "display_data"
    },
    {
     "name": "stdout",
     "output_type": "stream",
     "text": [
      "----------\n",
      "Scientific Name: Tympanuchus pallidicinctus\n",
      "Common Name: lesser prairie-chicken\n",
      "Lead FWS Region: R2\n",
      "Species Range (FWS): CO, KS, NM, OK, TX\n",
      "ECOS Link: https://ecos.fws.gov/ecp/species/1924\n",
      "2015 SGCN Summary Data\n"
     ]
    },
    {
     "data": {
      "text/plain": [
       "{'Common Names': ['Lesser Prairie Chicken ',\n",
       "  'Lesser Prairie-Chicken',\n",
       "  'Lesser prairie-chicken'],\n",
       " 'States': ['Colorado', 'Kansas', 'New Mexico', 'Oklahoma', 'Texas']}"
      ]
     },
     "metadata": {},
     "output_type": "display_data"
    },
    {
     "name": "stdout",
     "output_type": "stream",
     "text": [
      "2005 SGCN Summary Data\n"
     ]
    },
    {
     "data": {
      "text/plain": [
       "{'Common Names': ['Lesser Prairie Chicken',\n",
       "  'Lesser Prairie-Chicken',\n",
       "  'Lesser prairie-chicken'],\n",
       " 'States': ['Colorado', 'Kansas', 'New Mexico', 'Oklahoma', 'Texas']}"
      ]
     },
     "metadata": {},
     "output_type": "display_data"
    },
    {
     "name": "stdout",
     "output_type": "stream",
     "text": [
      "----------\n",
      "Scientific Name: Vermivora chrysoptera\n",
      "Common Name: golden-winged warbler\n",
      "Lead FWS Region: R3\n",
      "Species Range (FWS): AL, AR, CO, CT, DC, DE, FL, GA, IA, IL, IN, KS, KY, LA, MA, MD, MI, MN, MO, MS, NC, ND, NE, NH, NJ, NY, OH, OK, PA, SC, SD, TN, TX, VA, VT, WI, WV\n",
      "ECOS Link: https://ecos.fws.gov/ecp/species/8745\n",
      "2015 SGCN Summary Data\n"
     ]
    },
    {
     "data": {
      "text/plain": [
       "{'Common Names': ['Golden-Winged Warbler',\n",
       "  'Golden-winged Warbler',\n",
       "  'Golden-winged Warbler ',\n",
       "  'Golden-winged warbler'],\n",
       " 'States': ['Connecticut',\n",
       "  'Delaware',\n",
       "  'Florida',\n",
       "  'Georgia',\n",
       "  'Illinois',\n",
       "  'Indiana',\n",
       "  'Iowa',\n",
       "  'Kentucky',\n",
       "  'Louisiana',\n",
       "  'Maryland',\n",
       "  'Massachusetts',\n",
       "  'Michigan',\n",
       "  'Minnesota',\n",
       "  'New Hampshire',\n",
       "  'New Jersey',\n",
       "  'New York',\n",
       "  'North Carolina',\n",
       "  'Oklahoma',\n",
       "  'Pennsylvania',\n",
       "  'South Carolina',\n",
       "  'Tennessee',\n",
       "  'Vermont',\n",
       "  'Virginia',\n",
       "  'West Virginia',\n",
       "  'Wisconsin']}"
      ]
     },
     "metadata": {},
     "output_type": "display_data"
    },
    {
     "name": "stdout",
     "output_type": "stream",
     "text": [
      "2005 SGCN Summary Data\n"
     ]
    },
    {
     "data": {
      "text/plain": [
       "{'Common Names': ['Golden-Winged Warbler',\n",
       "  'Golden-winged Warbler',\n",
       "  'Golden-winged Warbler ',\n",
       "  'Golden-winged warbler',\n",
       "  'golden-winged warbler'],\n",
       " 'States': ['Connecticut',\n",
       "  'Delaware',\n",
       "  'Georgia',\n",
       "  'Indiana',\n",
       "  'Iowa',\n",
       "  'Kentucky',\n",
       "  'Maryland',\n",
       "  'Massachusetts',\n",
       "  'Michigan',\n",
       "  'Minnesota',\n",
       "  'New Hampshire',\n",
       "  'New Jersey',\n",
       "  'New York',\n",
       "  'North Carolina',\n",
       "  'Ohio',\n",
       "  'Pennsylvania',\n",
       "  'Tennessee',\n",
       "  'Texas',\n",
       "  'Vermont',\n",
       "  'Virginia',\n",
       "  'West Virginia',\n",
       "  'Wisconsin']}"
      ]
     },
     "metadata": {},
     "output_type": "display_data"
    },
    {
     "name": "stdout",
     "output_type": "stream",
     "text": [
      "----------\n",
      "Scientific Name: Alasmidonta triangulata\n",
      "Common Name: southern elktoe\n",
      "Lead FWS Region: R4\n",
      "Species Range (FWS): AL, FL, GA\n",
      "ECOS Link: https://ecos.fws.gov/ecp/species/9871\n",
      "2015 SGCN Summary Data\n"
     ]
    },
    {
     "data": {
      "text/plain": [
       "{'Common Names': ['Southern Elktoe'],\n",
       " 'States': ['Alabama', 'Florida', 'Georgia']}"
      ]
     },
     "metadata": {},
     "output_type": "display_data"
    },
    {
     "name": "stdout",
     "output_type": "stream",
     "text": [
      "2005 SGCN Summary Data\n"
     ]
    },
    {
     "data": {
      "text/plain": [
       "{'Common Names': ['Southern Elktoe'], 'States': ['Alabama', 'Georgia']}"
      ]
     },
     "metadata": {},
     "output_type": "display_data"
    },
    {
     "name": "stdout",
     "output_type": "stream",
     "text": [
      "----------\n",
      "Scientific Name: Alasmidonta varicosa\n",
      "Common Name: brook floater\n",
      "Lead FWS Region: R5\n",
      "Species Range (FWS): CT, DC, GA, MA, MD, ME, NC, NH, NJ, NY, PA, RI, SC, VA, VT, WV, Canada\n",
      "ECOS Link: https://ecos.fws.gov/ecp/species/785\n",
      "2015 SGCN Summary Data\n"
     ]
    },
    {
     "data": {
      "text/plain": [
       "{'Common Names': ['Brook Floater'], 'States': ['South Carolina']}"
      ]
     },
     "metadata": {},
     "output_type": "display_data"
    },
    {
     "name": "stdout",
     "output_type": "stream",
     "text": [
      "----------\n",
      "Scientific Name: Anodonta heardi\n",
      "Common Name: Apalachicola floater\n",
      "Lead FWS Region: R4\n",
      "Species Range (FWS): AL, FL, GA\n",
      "ECOS Link: https://ecos.fws.gov/ecp/species/9873\n",
      "2015 SGCN Summary Data\n"
     ]
    },
    {
     "data": {
      "text/plain": [
       "{'Common Names': ['Apalachicola Floater'], 'States': ['Florida']}"
      ]
     },
     "metadata": {},
     "output_type": "display_data"
    },
    {
     "name": "stdout",
     "output_type": "stream",
     "text": [
      "2005 SGCN Summary Data\n"
     ]
    },
    {
     "data": {
      "text/plain": [
       "{'Common Names': ['Apalachicola Floater'], 'States': ['Florida', 'Georgia']}"
      ]
     },
     "metadata": {},
     "output_type": "display_data"
    },
    {
     "name": "stdout",
     "output_type": "stream",
     "text": [
      "----------\n",
      "Scientific Name: Cyprogenia aberti\n",
      "Common Name: western fanshell\n",
      "Lead FWS Region: R3\n",
      "Species Range (FWS): AR, KS, LA, MO, MS, OK\n",
      "ECOS Link: https://ecos.fws.gov/ecp/species/6895\n",
      "2015 SGCN Summary Data\n"
     ]
    },
    {
     "data": {
      "text/plain": [
       "{'Common Names': ['Western Fanshell', 'Western fanshell'],\n",
       " 'States': ['Arkansas',\n",
       "  'Kansas',\n",
       "  'Louisiana',\n",
       "  'Mississippi',\n",
       "  'Missouri',\n",
       "  'Oklahoma']}"
      ]
     },
     "metadata": {},
     "output_type": "display_data"
    },
    {
     "name": "stdout",
     "output_type": "stream",
     "text": [
      "2005 SGCN Summary Data\n"
     ]
    },
    {
     "data": {
      "text/plain": [
       "{'Common Names': ['Western Fanshell'],\n",
       " 'States': ['Arkansas',\n",
       "  'Kansas',\n",
       "  'Louisiana',\n",
       "  'Mississippi',\n",
       "  'Missouri',\n",
       "  'Oklahoma']}"
      ]
     },
     "metadata": {},
     "output_type": "display_data"
    },
    {
     "name": "stdout",
     "output_type": "stream",
     "text": [
      "----------\n",
      "Scientific Name: Elliptio lanceolata\n",
      "Common Name: Yellow lance\n",
      "Lead FWS Region: R4\n",
      "Species Range (FWS): MD, NC, SC, VA\n",
      "ECOS Link: https://ecos.fws.gov/ecp/species/4511\n",
      "2015 SGCN Summary Data\n"
     ]
    },
    {
     "data": {
      "text/plain": [
       "{'Common Names': ['Yellow Lance', 'Yellow lance', 'Yellow lance '],\n",
       " 'States': ['Maryland', 'North Carolina', 'Virginia']}"
      ]
     },
     "metadata": {},
     "output_type": "display_data"
    },
    {
     "name": "stdout",
     "output_type": "stream",
     "text": [
      "2005 SGCN Summary Data\n"
     ]
    },
    {
     "data": {
      "text/plain": [
       "{'Common Names': ['Yellow Lance', 'Yellow lance'],\n",
       " 'States': ['Maryland', 'North Carolina', 'Virginia']}"
      ]
     },
     "metadata": {},
     "output_type": "display_data"
    },
    {
     "name": "stdout",
     "output_type": "stream",
     "text": [
      "----------\n",
      "Scientific Name: Fusconaia lananensis\n",
      "Common Name: triangle pigtoe\n",
      "Lead FWS Region: R2\n",
      "Species Range (FWS): TX\n",
      "ECOS Link: https://ecos.fws.gov/ecp/species/10339\n",
      "2015 SGCN Summary Data\n"
     ]
    },
    {
     "data": {
      "text/plain": [
       "{'Common Names': ['Triangle pigtoe '], 'States': ['Texas']}"
      ]
     },
     "metadata": {},
     "output_type": "display_data"
    },
    {
     "name": "stdout",
     "output_type": "stream",
     "text": [
      "----------\n",
      "Scientific Name: Fusconaia masoni\n",
      "Common Name: Atlantic pigtoe\n",
      "Lead FWS Region: R4\n",
      "Species Range (FWS): GA, NC, SC, VA\n",
      "ECOS Link: https://ecos.fws.gov/ecp/species/5164\n",
      "2015 SGCN Summary Data\n"
     ]
    },
    {
     "data": {
      "text/plain": [
       "{'Common Names': ['Virginia pigtoe'], 'States': ['Virginia']}"
      ]
     },
     "metadata": {},
     "output_type": "display_data"
    },
    {
     "name": "stdout",
     "output_type": "stream",
     "text": [
      "2005 SGCN Summary Data\n"
     ]
    },
    {
     "data": {
      "text/plain": [
       "{'Common Names': ['Virginia pigtoe'], 'States': ['Virginia']}"
      ]
     },
     "metadata": {},
     "output_type": "display_data"
    },
    {
     "name": "stdout",
     "output_type": "stream",
     "text": [
      "----------\n",
      "Scientific Name: Fusconaia subrotunda\n",
      "Common Name: longsolid\n",
      "Lead FWS Region: R4\n",
      "Species Range (FWS): AL, AR, GA, IL, IN, KY, NC, OH, PA, TN, VA, WV\n",
      "ECOS Link: https://ecos.fws.gov/ecp/species/9880\n",
      "2015 SGCN Summary Data\n"
     ]
    },
    {
     "data": {
      "text/plain": [
       "{'Common Names': ['Long Solid'], 'States': ['Ohio']}"
      ]
     },
     "metadata": {},
     "output_type": "display_data"
    },
    {
     "name": "stdout",
     "output_type": "stream",
     "text": [
      "----------\n",
      "Scientific Name: Lampsilis bracteata\n",
      "Common Name: Texas fatmucket\n",
      "Lead FWS Region: R2\n",
      "Species Range (FWS): TX\n",
      "ECOS Link: https://ecos.fws.gov/ecp/species/9041\n",
      "2015 SGCN Summary Data\n"
     ]
    },
    {
     "data": {
      "text/plain": [
       "{'Common Names': ['Texas fatmucket '], 'States': ['Texas']}"
      ]
     },
     "metadata": {},
     "output_type": "display_data"
    },
    {
     "name": "stdout",
     "output_type": "stream",
     "text": [
      "2005 SGCN Summary Data\n"
     ]
    },
    {
     "data": {
      "text/plain": [
       "{'Common Names': ['Texas fatmucket'], 'States': ['Texas']}"
      ]
     },
     "metadata": {},
     "output_type": "display_data"
    },
    {
     "name": "stdout",
     "output_type": "stream",
     "text": [
      "----------\n",
      "Scientific Name: Lampsilis fullerkati\n",
      "Common Name: Waccamaw fatmucket\n",
      "Lead FWS Region: R4\n",
      "Species Range (FWS): NC, SC\n",
      "ECOS Link: https://ecos.fws.gov/ecp/species/7540\n",
      "2015 SGCN Summary Data\n"
     ]
    },
    {
     "data": {
      "text/plain": [
       "{'Common Names': ['Waccamaw Fatmucket'], 'States': ['North Carolina']}"
      ]
     },
     "metadata": {},
     "output_type": "display_data"
    },
    {
     "name": "stdout",
     "output_type": "stream",
     "text": [
      "2005 SGCN Summary Data\n"
     ]
    },
    {
     "data": {
      "text/plain": [
       "{'Common Names': ['Waccamaw Fatmucket'], 'States': ['North Carolina']}"
      ]
     },
     "metadata": {},
     "output_type": "display_data"
    },
    {
     "name": "stdout",
     "output_type": "stream",
     "text": [
      "----------\n",
      "Scientific Name: Lasmigona holstonia\n",
      "Common Name: Tennessee heelsplitter\n",
      "Lead FWS Region: R4\n",
      "Species Range (FWS): AL, GA, NC, VA, TN\n",
      "ECOS Link: https://ecos.fws.gov/ecp/species/783\n",
      "2015 SGCN Summary Data\n"
     ]
    },
    {
     "data": {
      "text/plain": [
       "{'Common Names': ['Tennessee Heelsplitter', 'Tennessee heelsplitter'],\n",
       " 'States': ['Alabama', 'Georgia', 'Tennessee', 'Virginia']}"
      ]
     },
     "metadata": {},
     "output_type": "display_data"
    },
    {
     "name": "stdout",
     "output_type": "stream",
     "text": [
      "2005 SGCN Summary Data\n"
     ]
    },
    {
     "data": {
      "text/plain": [
       "{'Common Names': ['Tennessee Heelsplitter', 'Tennessee heelsplitter'],\n",
       " 'States': ['Alabama', 'Georgia', 'North Carolina', 'Tennessee', 'Virginia']}"
      ]
     },
     "metadata": {},
     "output_type": "display_data"
    },
    {
     "name": "stdout",
     "output_type": "stream",
     "text": [
      "----------\n",
      "Scientific Name: Lasmigona subviridis\n",
      "Common Name: green floater\n",
      "Lead FWS Region: R5\n",
      "Species Range (FWS): DC, MD, NC, NJ, NY, PA, TN, VA, WV\n",
      "ECOS Link: https://ecos.fws.gov/ecp/species/7541\n",
      "2005 SGCN Summary Data\n"
     ]
    },
    {
     "data": {
      "text/plain": [
       "{'Common Names': ['Green Floater'], 'States': ['North Carolina']}"
      ]
     },
     "metadata": {},
     "output_type": "display_data"
    },
    {
     "name": "stdout",
     "output_type": "stream",
     "text": [
      "----------\n",
      "Scientific Name: Medionidus conradicus\n",
      "Common Name: Cumberland moccasinshell\n",
      "Lead FWS Region: R4\n",
      "Species Range (FWS): AL, GA, KY, NC, TN, VA\n",
      "ECOS Link: https://ecos.fws.gov/ecp/species/9881\n",
      "2015 SGCN Summary Data\n"
     ]
    },
    {
     "data": {
      "text/plain": [
       "{'Common Names': ['Cumberland Moccasinshell', 'Cumberland moccasinshell'],\n",
       " 'States': ['Alabama', 'Georgia', 'Kentucky', 'Tennessee', 'Virginia']}"
      ]
     },
     "metadata": {},
     "output_type": "display_data"
    },
    {
     "name": "stdout",
     "output_type": "stream",
     "text": [
      "2005 SGCN Summary Data\n"
     ]
    },
    {
     "data": {
      "text/plain": [
       "{'Common Names': ['Cumberland Moccasinshell', 'Cumberland moccasin'],\n",
       " 'States': ['Alabama', 'Georgia', 'Kentucky', 'Tennessee', 'Virginia']}"
      ]
     },
     "metadata": {},
     "output_type": "display_data"
    },
    {
     "name": "stdout",
     "output_type": "stream",
     "text": [
      "----------\n",
      "Scientific Name: Obovaria subrotunda\n",
      "Common Name: round hickorynut\n",
      "Lead FWS Region: R4\n",
      "Species Range (FWS): AL, AR, GA, IL, IN, KY, MI, MS, OH, PA, TN, WV, Canada\n",
      "ECOS Link: https://ecos.fws.gov/ecp/species/9879\n",
      "2015 SGCN Summary Data\n"
     ]
    },
    {
     "data": {
      "text/plain": [
       "{'Common Names': ['Round Hickorynut'], 'States': ['Indiana']}"
      ]
     },
     "metadata": {},
     "output_type": "display_data"
    },
    {
     "name": "stdout",
     "output_type": "stream",
     "text": [
      "----------\n",
      "Scientific Name: Obovaria unicolor\n",
      "Common Name: Alabama hickorynut\n",
      "Lead FWS Region: R4\n",
      "Species Range (FWS): AL, LA, MS, OK\n",
      "ECOS Link: https://ecos.fws.gov/ecp/species/9883\n",
      "2015 SGCN Summary Data\n"
     ]
    },
    {
     "data": {
      "text/plain": [
       "{'Common Names': ['Alabama Hickorynut'],\n",
       " 'States': ['Alabama', 'Louisiana', 'Mississippi']}"
      ]
     },
     "metadata": {},
     "output_type": "display_data"
    },
    {
     "name": "stdout",
     "output_type": "stream",
     "text": [
      "2005 SGCN Summary Data\n"
     ]
    },
    {
     "data": {
      "text/plain": [
       "{'Common Names': ['Alabama Hickorynut'],\n",
       " 'States': ['Alabama', 'Louisiana', 'Mississippi']}"
      ]
     },
     "metadata": {},
     "output_type": "display_data"
    },
    {
     "name": "stdout",
     "output_type": "stream",
     "text": [
      "----------\n",
      "Scientific Name: Pisidium sanguinichristi\n",
      "Common Name: Sangre de Cristo peaclam\n",
      "Lead FWS Region: R2\n",
      "Species Range (FWS): NM\n",
      "ECOS Link: https://ecos.fws.gov/ecp/species/3533\n",
      "2015 SGCN Summary Data\n"
     ]
    },
    {
     "data": {
      "text/plain": [
       "{'Common Names': ['Sangre De Cristo Peaclam'], 'States': ['New Mexico']}"
      ]
     },
     "metadata": {},
     "output_type": "display_data"
    },
    {
     "name": "stdout",
     "output_type": "stream",
     "text": [
      "2005 SGCN Summary Data\n"
     ]
    },
    {
     "data": {
      "text/plain": [
       "{'Common Names': ['Sangre de Cristo Peaclam'], 'States': ['New Mexico']}"
      ]
     },
     "metadata": {},
     "output_type": "display_data"
    },
    {
     "name": "stdout",
     "output_type": "stream",
     "text": [
      "----------\n",
      "Scientific Name: Pleurobema athearni\n",
      "Common Name: Canoe Creek pigtoe\n",
      "Lead FWS Region: R4\n",
      "Species Range (FWS): AL\n",
      "ECOS Link: https://ecos.fws.gov/ecp/species/4693\n",
      "2015 SGCN Summary Data\n"
     ]
    },
    {
     "data": {
      "text/plain": [
       "{'Common Names': ['Sangre De Cristo Peaclam'], 'States': ['New Mexico']}"
      ]
     },
     "metadata": {},
     "output_type": "display_data"
    },
    {
     "name": "stdout",
     "output_type": "stream",
     "text": [
      "2005 SGCN Summary Data\n"
     ]
    },
    {
     "data": {
      "text/plain": [
       "{'Common Names': ['Sangre de Cristo Peaclam'], 'States': ['New Mexico']}"
      ]
     },
     "metadata": {},
     "output_type": "display_data"
    },
    {
     "name": "stdout",
     "output_type": "stream",
     "text": [
      "----------\n",
      "Scientific Name: Pleurobema oviforme\n",
      "Common Name: Tennessee clubshell\n",
      "Lead FWS Region: R4\n",
      "Species Range (FWS): AL, TN, KY, VA\n",
      "ECOS Link: https://ecos.fws.gov/ecp/species/3254\n",
      "2015 SGCN Summary Data\n"
     ]
    },
    {
     "data": {
      "text/plain": [
       "{'Common Names': ['Tennessee Clubshell', 'Tennessee clubshell'],\n",
       " 'States': ['Alabama', 'Kentucky', 'North Carolina', 'Tennessee', 'Virginia']}"
      ]
     },
     "metadata": {},
     "output_type": "display_data"
    },
    {
     "name": "stdout",
     "output_type": "stream",
     "text": [
      "2005 SGCN Summary Data\n"
     ]
    },
    {
     "data": {
      "text/plain": [
       "{'Common Names': ['Tennessee Clubshell', 'Tennessee clubshell'],\n",
       " 'States': ['Alabama', 'Kentucky', 'North Carolina', 'Tennessee', 'Virginia']}"
      ]
     },
     "metadata": {},
     "output_type": "display_data"
    },
    {
     "name": "stdout",
     "output_type": "stream",
     "text": [
      "----------\n",
      "Scientific Name: Pleurobema ridellii\n",
      "Common Name: Louisiana pigtoe\n",
      "Lead FWS Region: R2\n",
      "Species Range (FWS): LA, TX\n",
      "ECOS Link: https://ecos.fws.gov/ecp/species/10233\n",
      "2015 SGCN Summary Data\n"
     ]
    },
    {
     "data": {
      "text/plain": [
       "{'Common Names': ['Louisiana pigtoe '], 'States': ['Texas']}"
      ]
     },
     "metadata": {},
     "output_type": "display_data"
    },
    {
     "name": "stdout",
     "output_type": "stream",
     "text": [
      "----------\n",
      "Scientific Name: Pleurobema rubrum\n",
      "Common Name: pink pigtoe\n",
      "Lead FWS Region: R4\n",
      "Species Range (FWS): AL, AR, KY, LA, MS, NE, OH, OK, TN, VA\n",
      "ECOS Link: https://ecos.fws.gov/ecp/species/1937\n",
      "2015 SGCN Summary Data\n"
     ]
    },
    {
     "data": {
      "text/plain": [
       "{'Common Names': ['Pyramid Pigtoe'], 'States': ['Ohio']}"
      ]
     },
     "metadata": {},
     "output_type": "display_data"
    },
    {
     "name": "stdout",
     "output_type": "stream",
     "text": [
      "----------\n",
      "Scientific Name: Pleuronaia barnesiana\n",
      "Common Name: Tennessee pigtoe\n",
      "Lead FWS Region: R4\n",
      "Species Range (FWS): AL, GA, MS, NC, TN, VA\n",
      "ECOS Link: https://ecos.fws.gov/ecp/species/9887\n",
      "2015 SGCN Summary Data\n"
     ]
    },
    {
     "data": {
      "text/plain": [
       "{'Common Names': ['Pyramid Pigtoe'], 'States': ['Ohio']}"
      ]
     },
     "metadata": {},
     "output_type": "display_data"
    },
    {
     "name": "stdout",
     "output_type": "stream",
     "text": [
      "----------\n",
      "Scientific Name: Potamilus amphichaenus\n",
      "Common Name: Texas heelsplitter\n",
      "Lead FWS Region: R2\n",
      "Species Range (FWS): TX\n",
      "ECOS Link: https://ecos.fws.gov/ecp/species/299\n",
      "2015 SGCN Summary Data\n"
     ]
    },
    {
     "data": {
      "text/plain": [
       "{'Common Names': ['Texas Heelsplitter', 'Texas heelsplitter'],\n",
       " 'States': ['Louisiana', 'Texas']}"
      ]
     },
     "metadata": {},
     "output_type": "display_data"
    },
    {
     "name": "stdout",
     "output_type": "stream",
     "text": [
      "2005 SGCN Summary Data\n"
     ]
    },
    {
     "data": {
      "text/plain": [
       "{'Common Names': ['Texas Heelsplitter', 'Texas heelsplitter'],\n",
       " 'States': ['Louisiana', 'Texas']}"
      ]
     },
     "metadata": {},
     "output_type": "display_data"
    },
    {
     "name": "stdout",
     "output_type": "stream",
     "text": [
      "----------\n",
      "Scientific Name: Potamilus metnecktayi\n",
      "Common Name: Salina mucket\n",
      "Lead FWS Region: R2\n",
      "Species Range (FWS): TX\n",
      "ECOS Link: https://ecos.fws.gov/ecp0/profile/speciesProfile?spcode=F04A\n",
      "2015 SGCN Summary Data\n"
     ]
    },
    {
     "data": {
      "text/plain": [
       "{'Common Names': ['Texas Heelsplitter', 'Texas heelsplitter'],\n",
       " 'States': ['Louisiana', 'Texas']}"
      ]
     },
     "metadata": {},
     "output_type": "display_data"
    },
    {
     "name": "stdout",
     "output_type": "stream",
     "text": [
      "2005 SGCN Summary Data\n"
     ]
    },
    {
     "data": {
      "text/plain": [
       "{'Common Names': ['Texas Heelsplitter', 'Texas heelsplitter'],\n",
       " 'States': ['Louisiana', 'Texas']}"
      ]
     },
     "metadata": {},
     "output_type": "display_data"
    },
    {
     "name": "stdout",
     "output_type": "stream",
     "text": [
      "----------\n",
      "Scientific Name: Quadrula aurea\n",
      "Common Name: golden orb\n",
      "Lead FWS Region: R2\n",
      "Species Range (FWS): TX\n",
      "ECOS Link: https://ecos.fws.gov/ecp/species/9042\n",
      "2015 SGCN Summary Data\n"
     ]
    },
    {
     "data": {
      "text/plain": [
       "{'Common Names': ['Golden orb'], 'States': ['Texas']}"
      ]
     },
     "metadata": {},
     "output_type": "display_data"
    },
    {
     "name": "stdout",
     "output_type": "stream",
     "text": [
      "----------\n",
      "Scientific Name: Quadrula houstonensis\n",
      "Common Name: smooth pimpleback\n",
      "Lead FWS Region: R2\n",
      "Species Range (FWS): TX\n",
      "ECOS Link: https://ecos.fws.gov/ecp/species/8967\n",
      "2015 SGCN Summary Data\n"
     ]
    },
    {
     "data": {
      "text/plain": [
       "{'Common Names': ['Smooth pimpleback '], 'States': ['Texas']}"
      ]
     },
     "metadata": {},
     "output_type": "display_data"
    },
    {
     "name": "stdout",
     "output_type": "stream",
     "text": [
      "----------\n",
      "Scientific Name: Quadrula petrina\n",
      "Common Name: Texas pimpleback\n",
      "Lead FWS Region: R2\n",
      "Species Range (FWS): TX\n",
      "ECOS Link: https://ecos.fws.gov/ecp/species/8966\n",
      "2015 SGCN Summary Data\n"
     ]
    },
    {
     "data": {
      "text/plain": [
       "{'Common Names': ['Texas pimpleback '], 'States': ['Texas']}"
      ]
     },
     "metadata": {},
     "output_type": "display_data"
    },
    {
     "name": "stdout",
     "output_type": "stream",
     "text": [
      "----------\n",
      "Scientific Name: Quincuncina mitchelli\n",
      "Common Name: false spike\n",
      "Lead FWS Region: R2\n",
      "Species Range (FWS): TX\n",
      "ECOS Link: https://ecos.fws.gov/ecp/species/3963\n",
      "2015 SGCN Summary Data\n"
     ]
    },
    {
     "data": {
      "text/plain": [
       "{'Common Names': ['False Spike'], 'States': ['Texas']}"
      ]
     },
     "metadata": {},
     "output_type": "display_data"
    },
    {
     "name": "stdout",
     "output_type": "stream",
     "text": [
      "----------\n",
      "Scientific Name: Simpsonaias ambigua\n",
      "Common Name: salamander mussel\n",
      "Lead FWS Region: R3\n",
      "Species Range (FWS): AR, IL, IN, KY, MI, MN, MO, NY, OH, PA, TN, WI, WV, Canada\n",
      "ECOS Link: https://ecos.fws.gov/ecp/species/6208\n",
      "2015 SGCN Summary Data\n"
     ]
    },
    {
     "data": {
      "text/plain": [
       "{'Common Names': ['Salamander Mussel'], 'States': ['Indiana']}"
      ]
     },
     "metadata": {},
     "output_type": "display_data"
    },
    {
     "name": "stdout",
     "output_type": "stream",
     "text": [
      "----------\n",
      "Scientific Name: Toxolasma lividum (formally lividus)\n",
      "Common Name: purple lilliput\n",
      "Lead FWS Region: R4\n",
      "Species Range (FWS): AL, AR, IL, MI, MO, IN, TN, VA\n",
      "ECOS Link: https://ecos.fws.gov/ecp0/profile/speciesProfile?sId=8210\n",
      "2015 SGCN Summary Data\n"
     ]
    },
    {
     "data": {
      "text/plain": [
       "{'Common Names': ['Purple Lilliput', 'Purple liliput', 'Purple lilliput'],\n",
       " 'States': ['Kentucky', 'Michigan', 'Virginia']}"
      ]
     },
     "metadata": {},
     "output_type": "display_data"
    },
    {
     "name": "stdout",
     "output_type": "stream",
     "text": [
      "2005 SGCN Summary Data\n"
     ]
    },
    {
     "data": {
      "text/plain": [
       "{'Common Names': ['Purple Lilliput',\n",
       "  'Purple liliput',\n",
       "  'purple lilliput',\n",
       "  'purple lilliput mussel'],\n",
       " 'States': ['Arkansas',\n",
       "  'Georgia',\n",
       "  'Illinois',\n",
       "  'Indiana',\n",
       "  'Kentucky',\n",
       "  'Michigan',\n",
       "  'Missouri',\n",
       "  'Ohio',\n",
       "  'Tennessee',\n",
       "  'Virginia']}"
      ]
     },
     "metadata": {},
     "output_type": "display_data"
    },
    {
     "name": "stdout",
     "output_type": "stream",
     "text": [
      "----------\n",
      "Scientific Name: Toxolasma pullus\n",
      "Common Name: Savannah lilliput\n",
      "Lead FWS Region: R4\n",
      "Species Range (FWS): GA, NC, SC\n",
      "ECOS Link: https://ecos.fws.gov/ecp/species/7155\n",
      "2015 SGCN Summary Data\n"
     ]
    },
    {
     "data": {
      "text/plain": [
       "{'Common Names': ['Savannah Lilliput'],\n",
       " 'States': ['Georgia', 'North Carolina', 'South Carolina']}"
      ]
     },
     "metadata": {},
     "output_type": "display_data"
    },
    {
     "name": "stdout",
     "output_type": "stream",
     "text": [
      "2005 SGCN Summary Data\n"
     ]
    },
    {
     "data": {
      "text/plain": [
       "{'Common Names': ['Savannah Lilliput'],\n",
       " 'States': ['Georgia', 'North Carolina', 'South Carolina']}"
      ]
     },
     "metadata": {},
     "output_type": "display_data"
    },
    {
     "name": "stdout",
     "output_type": "stream",
     "text": [
      "----------\n",
      "Scientific Name: Truncilla cognata\n",
      "Common Name: Mexican fawnsfoot\n",
      "Lead FWS Region: R2\n",
      "Species Range (FWS): TX\n",
      "ECOS Link: https://ecos.fws.gov/ecp/species/7870\n",
      "2015 SGCN Summary Data\n"
     ]
    },
    {
     "data": {
      "text/plain": [
       "{'Common Names': ['Mexican fawnsfoot '], 'States': ['Texas']}"
      ]
     },
     "metadata": {},
     "output_type": "display_data"
    },
    {
     "name": "stdout",
     "output_type": "stream",
     "text": [
      "----------\n",
      "Scientific Name: Truncilla macrodon\n",
      "Common Name: Texas fawnsfoot\n",
      "Lead FWS Region: R2\n",
      "Species Range (FWS): TX\n",
      "ECOS Link: https://ecos.fws.gov/ecp/species/8965\n",
      "2015 SGCN Summary Data\n"
     ]
    },
    {
     "data": {
      "text/plain": [
       "{'Common Names': ['Texas fawnsfoot'], 'States': ['Texas']}"
      ]
     },
     "metadata": {},
     "output_type": "display_data"
    },
    {
     "name": "stdout",
     "output_type": "stream",
     "text": [
      "2005 SGCN Summary Data\n"
     ]
    },
    {
     "data": {
      "text/plain": [
       "{'Common Names': ['Texas fawnsfoot'], 'States': ['Texas']}"
      ]
     },
     "metadata": {},
     "output_type": "display_data"
    },
    {
     "name": "stdout",
     "output_type": "stream",
     "text": [
      "----------\n",
      "Scientific Name: Villosa ortmanni\n",
      "Common Name: Kentucky creekshell\n",
      "Lead FWS Region: R4\n",
      "Species Range (FWS): KY\n",
      "ECOS Link: https://ecos.fws.gov/ecp/species/8209\n",
      "2015 SGCN Summary Data\n"
     ]
    },
    {
     "data": {
      "text/plain": [
       "{'Common Names': ['Kentucky Creekshell'], 'States': ['Kentucky']}"
      ]
     },
     "metadata": {},
     "output_type": "display_data"
    },
    {
     "name": "stdout",
     "output_type": "stream",
     "text": [
      "2005 SGCN Summary Data\n"
     ]
    },
    {
     "data": {
      "text/plain": [
       "{'Common Names': ['Kentucky Creekshell'], 'States': ['Kentucky']}"
      ]
     },
     "metadata": {},
     "output_type": "display_data"
    },
    {
     "name": "stdout",
     "output_type": "stream",
     "text": [
      "----------\n",
      "Scientific Name: Caecidotea cannula\n",
      "Common Name: Cannulate cave isopod\n",
      "Lead FWS Region: R5\n",
      "Species Range (FWS): WV\n",
      "ECOS Link: https://ecos.fws.gov/ecp0/profile/speciesProfile?sId=9860\n",
      "2015 SGCN Summary Data\n"
     ]
    },
    {
     "data": {
      "text/plain": [
       "{'Common Names': ['An Isopod'], 'States': ['West Virginia']}"
      ]
     },
     "metadata": {},
     "output_type": "display_data"
    },
    {
     "name": "stdout",
     "output_type": "stream",
     "text": [
      "2005 SGCN Summary Data\n"
     ]
    },
    {
     "data": {
      "text/plain": [
       "{'Common Names': ['An Isopod'], 'States': ['West Virginia']}"
      ]
     },
     "metadata": {},
     "output_type": "display_data"
    },
    {
     "name": "stdout",
     "output_type": "stream",
     "text": [
      "----------\n",
      "Scientific Name: Cambarus chaugaensis\n",
      "Common Name: Chauga crayfish\n",
      "Lead FWS Region: R4\n",
      "Species Range (FWS): GA, NC, SC\n",
      "ECOS Link: https://ecos.fws.gov/ecp/species/9790\n",
      "2015 SGCN Summary Data\n"
     ]
    },
    {
     "data": {
      "text/plain": [
       "{'Common Names': ['Chauga Crayfish'],\n",
       " 'States': ['North Carolina', 'South Carolina']}"
      ]
     },
     "metadata": {},
     "output_type": "display_data"
    },
    {
     "name": "stdout",
     "output_type": "stream",
     "text": [
      "2005 SGCN Summary Data\n"
     ]
    },
    {
     "data": {
      "text/plain": [
       "{'Common Names': ['Chauga River Crayfish', 'Oconee Stream Crayfish'],\n",
       " 'States': ['Georgia', 'North Carolina', 'South Carolina']}"
      ]
     },
     "metadata": {},
     "output_type": "display_data"
    },
    {
     "name": "stdout",
     "output_type": "stream",
     "text": [
      "----------\n",
      "Scientific Name: Cambarus coosawattae\n",
      "Common Name: Coosawattae crayfish\n",
      "Lead FWS Region: R4\n",
      "Species Range (FWS): GA\n",
      "ECOS Link: https://ecos.fws.gov/ecp/species/9791\n",
      "2015 SGCN Summary Data\n"
     ]
    },
    {
     "data": {
      "text/plain": [
       "{'Common Names': ['Coosawattee Crayfish'], 'States': ['Georgia']}"
      ]
     },
     "metadata": {},
     "output_type": "display_data"
    },
    {
     "name": "stdout",
     "output_type": "stream",
     "text": [
      "2005 SGCN Summary Data\n"
     ]
    },
    {
     "data": {
      "text/plain": [
       "{'Common Names': ['A Crayfish'], 'States': ['Georgia']}"
      ]
     },
     "metadata": {},
     "output_type": "display_data"
    },
    {
     "name": "stdout",
     "output_type": "stream",
     "text": [
      "----------\n",
      "Scientific Name: Cambarus cracens\n",
      "Common Name: slenderclaw crayfish\n",
      "Lead FWS Region: R4\n",
      "Species Range (FWS): AL\n",
      "ECOS Link: https://ecos.fws.gov/ecp/species/9792\n",
      "2015 SGCN Summary Data\n"
     ]
    },
    {
     "data": {
      "text/plain": [
       "{'Common Names': ['Slenderclaw Crayfish'], 'States': ['Alabama']}"
      ]
     },
     "metadata": {},
     "output_type": "display_data"
    },
    {
     "name": "stdout",
     "output_type": "stream",
     "text": [
      "2005 SGCN Summary Data\n"
     ]
    },
    {
     "data": {
      "text/plain": [
       "{'Common Names': ['unnamed crayfish'], 'States': ['Alabama']}"
      ]
     },
     "metadata": {},
     "output_type": "display_data"
    },
    {
     "name": "stdout",
     "output_type": "stream",
     "text": [
      "----------\n",
      "Scientific Name: Cambarus elkensis\n",
      "Common Name: Elk River crayfish\n",
      "Lead FWS Region: R5\n",
      "Species Range (FWS): WV\n",
      "ECOS Link: https://ecos.fws.gov/ecp/species/9795\n",
      "2015 SGCN Summary Data\n"
     ]
    },
    {
     "data": {
      "text/plain": [
       "{'Common Names': ['Elk River Crayfish'], 'States': ['West Virginia']}"
      ]
     },
     "metadata": {},
     "output_type": "display_data"
    },
    {
     "name": "stdout",
     "output_type": "stream",
     "text": [
      "2005 SGCN Summary Data\n"
     ]
    },
    {
     "data": {
      "text/plain": [
       "{'Common Names': ['Elk River Crayfish'], 'States': ['West Virginia']}"
      ]
     },
     "metadata": {},
     "output_type": "display_data"
    },
    {
     "name": "stdout",
     "output_type": "stream",
     "text": [
      "----------\n",
      "Scientific Name: Cambarus georgiae\n",
      "Common Name: Little Tennessee crayfish\n",
      "Lead FWS Region: R4\n",
      "Species Range (FWS): GA, NC\n",
      "ECOS Link: https://ecos.fws.gov/ecp/species/4851\n",
      "2015 SGCN Summary Data\n"
     ]
    },
    {
     "data": {
      "text/plain": [
       "{'Common Names': ['Little Tennessee Crayfish'],\n",
       " 'States': ['Georgia', 'North Carolina']}"
      ]
     },
     "metadata": {},
     "output_type": "display_data"
    },
    {
     "name": "stdout",
     "output_type": "stream",
     "text": [
      "2005 SGCN Summary Data\n"
     ]
    },
    {
     "data": {
      "text/plain": [
       "{'Common Names': ['Little Tennessee Crayfish',\n",
       "  'Little Tennessee River Crayfish'],\n",
       " 'States': ['Georgia', 'North Carolina']}"
      ]
     },
     "metadata": {},
     "output_type": "display_data"
    },
    {
     "name": "stdout",
     "output_type": "stream",
     "text": [
      "----------\n",
      "Scientific Name: Cambarus jezerinaci\n",
      "Common Name: spiny scale crayfish\n",
      "Lead FWS Region: R5\n",
      "Species Range (FWS): KY, TN, VA\n",
      "ECOS Link: https://ecos.fws.gov/ecp/species/9798\n",
      "2015 SGCN Summary Data\n"
     ]
    },
    {
     "data": {
      "text/plain": [
       "{'Common Names': ['Spiny scale crayfish'], 'States': ['Virginia']}"
      ]
     },
     "metadata": {},
     "output_type": "display_data"
    },
    {
     "name": "stdout",
     "output_type": "stream",
     "text": [
      "2005 SGCN Summary Data\n"
     ]
    },
    {
     "data": {
      "text/plain": [
       "{'Common Names': ['Powell River crayfish'], 'States': ['Virginia']}"
      ]
     },
     "metadata": {},
     "output_type": "display_data"
    },
    {
     "name": "stdout",
     "output_type": "stream",
     "text": [
      "----------\n",
      "Scientific Name: Cambarus obeyensis\n",
      "Common Name: Obey crayfish\n",
      "Lead FWS Region: R4\n",
      "Species Range (FWS): TN\n",
      "ECOS Link: https://ecos.fws.gov/ecp/species/8539\n",
      "2015 SGCN Summary Data\n"
     ]
    },
    {
     "data": {
      "text/plain": [
       "{'Common Names': ['Obey Crayfish'], 'States': ['Tennessee']}"
      ]
     },
     "metadata": {},
     "output_type": "display_data"
    },
    {
     "name": "stdout",
     "output_type": "stream",
     "text": [
      "2005 SGCN Summary Data\n"
     ]
    },
    {
     "data": {
      "text/plain": [
       "{'Common Names': ['Obey River Crayfish'], 'States': ['Tennessee']}"
      ]
     },
     "metadata": {},
     "output_type": "display_data"
    },
    {
     "name": "stdout",
     "output_type": "stream",
     "text": [
      "----------\n",
      "Scientific Name: Cambarus parrishi\n",
      "Common Name: Parrish crayfish (Hiwassee headwater crayfish)\n",
      "Lead FWS Region: R4\n",
      "Species Range (FWS): GA, NC\n",
      "ECOS Link: https://ecos.fws.gov/ecp/species/2605\n",
      "2015 SGCN Summary Data\n"
     ]
    },
    {
     "data": {
      "text/plain": [
       "{'Common Names': ['Hiwassee Headwater Crayfish',\n",
       "  'Hiwassee Headwaters Crayfish'],\n",
       " 'States': ['Georgia', 'North Carolina']}"
      ]
     },
     "metadata": {},
     "output_type": "display_data"
    },
    {
     "name": "stdout",
     "output_type": "stream",
     "text": [
      "2005 SGCN Summary Data\n"
     ]
    },
    {
     "data": {
      "text/plain": [
       "{'Common Names': ['Hiwassee Headwaters Crayfish', 'Rock Crayfish'],\n",
       " 'States': ['Georgia', 'North Carolina']}"
      ]
     },
     "metadata": {},
     "output_type": "display_data"
    },
    {
     "name": "stdout",
     "output_type": "stream",
     "text": [
      "----------\n",
      "Scientific Name: Cambarus pristinus\n",
      "Common Name: Pristine crayfish\n",
      "Lead FWS Region: R4\n",
      "Species Range (FWS): TN\n",
      "ECOS Link: https://ecos.fws.gov/ecp/species/9801\n",
      "2015 SGCN Summary Data\n"
     ]
    },
    {
     "data": {
      "text/plain": [
       "{'Common Names': ['Pristine Crayfish'], 'States': ['Tennessee']}"
      ]
     },
     "metadata": {},
     "output_type": "display_data"
    },
    {
     "name": "stdout",
     "output_type": "stream",
     "text": [
      "2005 SGCN Summary Data\n"
     ]
    },
    {
     "data": {
      "text/plain": [
       "{'Common Names': ['Caney Fork Crayfish'], 'States': ['Tennessee']}"
      ]
     },
     "metadata": {},
     "output_type": "display_data"
    },
    {
     "name": "stdout",
     "output_type": "stream",
     "text": [
      "----------\n",
      "Scientific Name: Cambarus speciosus\n",
      "Common Name: beautiful crayfish\n",
      "Lead FWS Region: R4\n",
      "Species Range (FWS): GA\n",
      "ECOS Link: https://ecos.fws.gov/ecp/species/9803\n",
      "2015 SGCN Summary Data\n"
     ]
    },
    {
     "data": {
      "text/plain": [
       "{'Common Names': ['Obed Crayfish'], 'States': ['Tennessee']}"
      ]
     },
     "metadata": {},
     "output_type": "display_data"
    },
    {
     "name": "stdout",
     "output_type": "stream",
     "text": [
      "----------\n",
      "Scientific Name: Cambarus subterraneus\n",
      "Common Name: Delaware County cave crayfish\n",
      "Lead FWS Region: R2\n",
      "Species Range (FWS): OK\n",
      "ECOS Link: nan\n",
      "2015 SGCN Summary Data\n"
     ]
    },
    {
     "data": {
      "text/plain": [
       "{'Common Names': ['Delaware County Cave Crayfish'], 'States': ['Oklahoma']}"
      ]
     },
     "metadata": {},
     "output_type": "display_data"
    },
    {
     "name": "stdout",
     "output_type": "stream",
     "text": [
      "2005 SGCN Summary Data\n"
     ]
    },
    {
     "data": {
      "text/plain": [
       "{'Common Names': ['Cave Crayfish'], 'States': ['Oklahoma']}"
      ]
     },
     "metadata": {},
     "output_type": "display_data"
    },
    {
     "name": "stdout",
     "output_type": "stream",
     "text": [
      "----------\n",
      "Scientific Name: Cambarus tartarus\n",
      "Common Name: Oklahoma cave crayfish\n",
      "Lead FWS Region: R2\n",
      "Species Range (FWS): OK\n",
      "ECOS Link: nan\n",
      "2015 SGCN Summary Data\n"
     ]
    },
    {
     "data": {
      "text/plain": [
       "{'Common Names': ['Oklahoma Cave Crayfish'], 'States': ['Oklahoma']}"
      ]
     },
     "metadata": {},
     "output_type": "display_data"
    },
    {
     "name": "stdout",
     "output_type": "stream",
     "text": [
      "2005 SGCN Summary Data\n"
     ]
    },
    {
     "data": {
      "text/plain": [
       "{'Common Names': ['Oklahoma Cave Crayfish'], 'States': ['Oklahoma']}"
      ]
     },
     "metadata": {},
     "output_type": "display_data"
    },
    {
     "name": "stdout",
     "output_type": "stream",
     "text": [
      "----------\n",
      "Scientific Name: Cambarus williami\n",
      "Common Name: Brawley's Fork crayfish\n",
      "Lead FWS Region: R4\n",
      "Species Range (FWS): TN\n",
      "ECOS Link: https://ecos.fws.gov/ecp/species/9806\n",
      "2015 SGCN Summary Data\n"
     ]
    },
    {
     "data": {
      "text/plain": [
       "{'Common Names': ['Brawleys Fork Crayfish'], 'States': ['Tennessee']}"
      ]
     },
     "metadata": {},
     "output_type": "display_data"
    },
    {
     "name": "stdout",
     "output_type": "stream",
     "text": [
      "2005 SGCN Summary Data\n"
     ]
    },
    {
     "data": {
      "text/plain": [
       "{'Common Names': ['Stones River Crayfish'], 'States': ['Tennessee']}"
      ]
     },
     "metadata": {},
     "output_type": "display_data"
    },
    {
     "name": "stdout",
     "output_type": "stream",
     "text": [
      "----------\n",
      "Scientific Name: Fallicambarus danielae\n",
      "Common Name: speckled burrowing crayfish\n",
      "Lead FWS Region: R4\n",
      "Species Range (FWS): AL, MS\n",
      "ECOS Link: https://ecos.fws.gov/ecp/species/5458\n",
      "2015 SGCN Summary Data\n"
     ]
    },
    {
     "data": {
      "text/plain": [
       "{'Common Names': ['Speckled Burrowing Crayfish'],\n",
       " 'States': ['Alabama', 'Mississippi']}"
      ]
     },
     "metadata": {},
     "output_type": "display_data"
    },
    {
     "name": "stdout",
     "output_type": "stream",
     "text": [
      "2005 SGCN Summary Data\n"
     ]
    },
    {
     "data": {
      "text/plain": [
       "{'Common Names': ['Speckled Burrowing Crayfish', 'unnamed crayfish'],\n",
       " 'States': ['Alabama', 'Mississippi']}"
      ]
     },
     "metadata": {},
     "output_type": "display_data"
    },
    {
     "name": "stdout",
     "output_type": "stream",
     "text": [
      "----------\n",
      "Scientific Name: Fallicambarus harpi\n",
      "Common Name: Ouachita burrowing crayfish\n",
      "Lead FWS Region: R4\n",
      "Species Range (FWS): AR\n",
      "ECOS Link: https://ecos.fws.gov/ecp/species/3289\n",
      "2015 SGCN Summary Data\n"
     ]
    },
    {
     "data": {
      "text/plain": [
       "{'Common Names': ['Ouachita Burrowing Crayfish'], 'States': ['Arkansas']}"
      ]
     },
     "metadata": {},
     "output_type": "display_data"
    },
    {
     "name": "stdout",
     "output_type": "stream",
     "text": [
      "2005 SGCN Summary Data\n"
     ]
    },
    {
     "data": {
      "text/plain": [
       "{'Common Names': ['crayfish'], 'States': ['Arkansas']}"
      ]
     },
     "metadata": {},
     "output_type": "display_data"
    },
    {
     "name": "stdout",
     "output_type": "stream",
     "text": [
      "----------\n",
      "Scientific Name: Hobbseus cristatus\n",
      "Common Name: Crested Riverlet crayfish\n",
      "Lead FWS Region: R4\n",
      "Species Range (FWS): MS\n",
      "ECOS Link: https://ecos.fws.gov/ecp/species/9812\n",
      "2015 SGCN Summary Data\n"
     ]
    },
    {
     "data": {
      "text/plain": [
       "{'Common Names': ['Crested Rivulet Crayfish'], 'States': ['Mississippi']}"
      ]
     },
     "metadata": {},
     "output_type": "display_data"
    },
    {
     "name": "stdout",
     "output_type": "stream",
     "text": [
      "2005 SGCN Summary Data\n"
     ]
    },
    {
     "data": {
      "text/plain": [
       "{'Common Names': ['A Crayfish'], 'States': ['Mississippi']}"
      ]
     },
     "metadata": {},
     "output_type": "display_data"
    },
    {
     "name": "stdout",
     "output_type": "stream",
     "text": [
      "----------\n",
      "Scientific Name: Hobbseus petilus\n",
      "Common Name: Tombigbee Riverlet crayfish\n",
      "Lead FWS Region: R4\n",
      "Species Range (FWS): MS\n",
      "ECOS Link: https://ecos.fws.gov/ecp/species/9813\n",
      "2015 SGCN Summary Data\n"
     ]
    },
    {
     "data": {
      "text/plain": [
       "{'Common Names': ['Tombigbee Rivulet Crayfish'], 'States': ['Mississippi']}"
      ]
     },
     "metadata": {},
     "output_type": "display_data"
    },
    {
     "name": "stdout",
     "output_type": "stream",
     "text": [
      "2005 SGCN Summary Data\n"
     ]
    },
    {
     "data": {
      "text/plain": [
       "{'Common Names': ['Tombigbee Rivulet Crayfish'], 'States': ['Mississippi']}"
      ]
     },
     "metadata": {},
     "output_type": "display_data"
    },
    {
     "name": "stdout",
     "output_type": "stream",
     "text": [
      "----------\n",
      "Scientific Name: Hobbseus yalobushensis\n",
      "Common Name: Yalobusha Riverlet crayfish\n",
      "Lead FWS Region: R4\n",
      "Species Range (FWS): MS\n",
      "ECOS Link: https://ecos.fws.gov/ecp/species/9821\n",
      "2015 SGCN Summary Data\n"
     ]
    },
    {
     "data": {
      "text/plain": [
       "{'Common Names': ['Yalobusha Rivulet Crayfish'], 'States': ['Mississippi']}"
      ]
     },
     "metadata": {},
     "output_type": "display_data"
    },
    {
     "name": "stdout",
     "output_type": "stream",
     "text": [
      "2005 SGCN Summary Data\n"
     ]
    },
    {
     "data": {
      "text/plain": [
       "{'Common Names': ['A Crayfish'], 'States': ['Mississippi']}"
      ]
     },
     "metadata": {},
     "output_type": "display_data"
    },
    {
     "name": "stdout",
     "output_type": "stream",
     "text": [
      "----------\n",
      "Scientific Name: Lirceolus smithii\n",
      "Common Name: Texas troglobitic water slater\n",
      "Lead FWS Region: R2\n",
      "Species Range (FWS): TX\n",
      "ECOS Link: nan\n",
      "2005 SGCN Summary Data\n"
     ]
    },
    {
     "data": {
      "text/plain": [
       "{'Common Names': ['San Marcos well isopod'], 'States': ['Texas']}"
      ]
     },
     "metadata": {},
     "output_type": "display_data"
    },
    {
     "name": "stdout",
     "output_type": "stream",
     "text": [
      "----------\n",
      "Scientific Name: Lirceus culveri\n",
      "Common Name: Rye Cove Cave isopod\n",
      "Lead FWS Region: R5\n",
      "Species Range (FWS): VA\n",
      "ECOS Link: https://ecos.fws.gov/ecp/species/2692\n",
      "2015 SGCN Summary Data\n"
     ]
    },
    {
     "data": {
      "text/plain": [
       "{'Common Names': ['Rye Cove isopod'], 'States': ['Virginia']}"
      ]
     },
     "metadata": {},
     "output_type": "display_data"
    },
    {
     "name": "stdout",
     "output_type": "stream",
     "text": [
      "2005 SGCN Summary Data\n"
     ]
    },
    {
     "data": {
      "text/plain": [
       "{'Common Names': ['Rye Cove isopod'], 'States': ['Virginia']}"
      ]
     },
     "metadata": {},
     "output_type": "display_data"
    },
    {
     "name": "stdout",
     "output_type": "stream",
     "text": [
      "----------\n",
      "Scientific Name: Orconectes eupunctus\n",
      "Common Name: coldwater crayfish\n",
      "Lead FWS Region: R3\n",
      "Species Range (FWS): AR, MO\n",
      "ECOS Link: https://ecos.fws.gov/ecp/species/9815\n",
      "2015 SGCN Summary Data\n"
     ]
    },
    {
     "data": {
      "text/plain": [
       "{'Common Names': ['Coldwater Crayfish', 'Coldwater crayfish'],\n",
       " 'States': ['Arkansas', 'Missouri']}"
      ]
     },
     "metadata": {},
     "output_type": "display_data"
    },
    {
     "name": "stdout",
     "output_type": "stream",
     "text": [
      "2005 SGCN Summary Data\n"
     ]
    },
    {
     "data": {
      "text/plain": [
       "{'Common Names': ['Coldwater Crayfish'], 'States': ['Arkansas', 'Missouri']}"
      ]
     },
     "metadata": {},
     "output_type": "display_data"
    },
    {
     "name": "stdout",
     "output_type": "stream",
     "text": [
      "----------\n",
      "Scientific Name: Orconectes hartfieldi\n",
      "Common Name: Yazoo crayfish\n",
      "Lead FWS Region: R4\n",
      "Species Range (FWS): MS\n",
      "ECOS Link: https://ecos.fws.gov/ecp/species/9816\n",
      "2015 SGCN Summary Data\n"
     ]
    },
    {
     "data": {
      "text/plain": [
       "{'Common Names': ['Yazoo Crayfish'], 'States': ['Mississippi']}"
      ]
     },
     "metadata": {},
     "output_type": "display_data"
    },
    {
     "name": "stdout",
     "output_type": "stream",
     "text": [
      "2005 SGCN Summary Data\n"
     ]
    },
    {
     "data": {
      "text/plain": [
       "{'Common Names': ['A Crayfish'], 'States': ['Mississippi']}"
      ]
     },
     "metadata": {},
     "output_type": "display_data"
    },
    {
     "name": "stdout",
     "output_type": "stream",
     "text": [
      "----------\n",
      "Scientific Name: Orconectes marchandi\n",
      "Common Name: Mammoth Spring crayfish\n",
      "Lead FWS Region: R3\n",
      "Species Range (FWS): AR, MO\n",
      "ECOS Link: https://ecos.fws.gov/ecp/species/9823\n",
      "2015 SGCN Summary Data\n"
     ]
    },
    {
     "data": {
      "text/plain": [
       "{'Common Names': ['Mammoth Spring Crayfish', 'Mammoth spring crayfish'],\n",
       " 'States': ['Arkansas', 'Missouri']}"
      ]
     },
     "metadata": {},
     "output_type": "display_data"
    },
    {
     "name": "stdout",
     "output_type": "stream",
     "text": [
      "2005 SGCN Summary Data\n"
     ]
    },
    {
     "data": {
      "text/plain": [
       "{'Common Names': ['Mammoth Spring Crayfish'],\n",
       " 'States': ['Arkansas', 'Missouri']}"
      ]
     },
     "metadata": {},
     "output_type": "display_data"
    },
    {
     "name": "stdout",
     "output_type": "stream",
     "text": [
      "----------\n",
      "Scientific Name: Orconectes peruncus\n",
      "Common Name: Big Creek crayfish\n",
      "Lead FWS Region: R3\n",
      "Species Range (FWS): MO\n",
      "ECOS Link: nan\n",
      "2015 SGCN Summary Data\n"
     ]
    },
    {
     "data": {
      "text/plain": [
       "{'Common Names': ['Big creek crayfish'], 'States': ['Missouri']}"
      ]
     },
     "metadata": {},
     "output_type": "display_data"
    },
    {
     "name": "stdout",
     "output_type": "stream",
     "text": [
      "2005 SGCN Summary Data\n"
     ]
    },
    {
     "data": {
      "text/plain": [
       "{'Common Names': ['Big Creek Crayfish'], 'States': ['Missouri']}"
      ]
     },
     "metadata": {},
     "output_type": "display_data"
    },
    {
     "name": "stdout",
     "output_type": "stream",
     "text": [
      "----------\n",
      "Scientific Name: Orconectes quadruncus\n",
      "Common Name: St. Francis River crayfish\n",
      "Lead FWS Region: R3\n",
      "Species Range (FWS): MO\n",
      "ECOS Link: nan\n",
      "2015 SGCN Summary Data\n"
     ]
    },
    {
     "data": {
      "text/plain": [
       "{'Common Names': ['St. Francis River crayfish'], 'States': ['Missouri']}"
      ]
     },
     "metadata": {},
     "output_type": "display_data"
    },
    {
     "name": "stdout",
     "output_type": "stream",
     "text": [
      "2005 SGCN Summary Data\n"
     ]
    },
    {
     "data": {
      "text/plain": [
       "{'Common Names': ['St. Francis River Crayfish'], 'States': ['Missouri']}"
      ]
     },
     "metadata": {},
     "output_type": "display_data"
    },
    {
     "name": "stdout",
     "output_type": "stream",
     "text": [
      "----------\n",
      "Scientific Name: Orconectes saxatilis\n",
      "Common Name: Kiamichi crayfish\n",
      "Lead FWS Region: R2\n",
      "Species Range (FWS): OK\n",
      "ECOS Link: https://ecos.fws.gov/ecp0/profile/speciesProfile?spcode=K07Q\n",
      "2015 SGCN Summary Data\n"
     ]
    },
    {
     "data": {
      "text/plain": [
       "{'Common Names': ['Kiamichi Crayfish'], 'States': ['Oklahoma']}"
      ]
     },
     "metadata": {},
     "output_type": "display_data"
    },
    {
     "name": "stdout",
     "output_type": "stream",
     "text": [
      "2005 SGCN Summary Data\n"
     ]
    },
    {
     "data": {
      "text/plain": [
       "{'Common Names': ['Kiamichi Crayfish'], 'States': ['Oklahoma']}"
      ]
     },
     "metadata": {},
     "output_type": "display_data"
    },
    {
     "name": "stdout",
     "output_type": "stream",
     "text": [
      "----------\n",
      "Scientific Name: Orconectes virginiensis\n",
      "Common Name: Chowanoke crayfish\n",
      "Lead FWS Region: R5\n",
      "Species Range (FWS): NC, VA\n",
      "ECOS Link: https://ecos.fws.gov/ecp/species/8226\n",
      "2015 SGCN Summary Data\n"
     ]
    },
    {
     "data": {
      "text/plain": [
       "{'Common Names': ['Chowanoke Crayfish', 'Chowanoke crayfish '],\n",
       " 'States': ['North Carolina', 'Virginia']}"
      ]
     },
     "metadata": {},
     "output_type": "display_data"
    },
    {
     "name": "stdout",
     "output_type": "stream",
     "text": [
      "2005 SGCN Summary Data\n"
     ]
    },
    {
     "data": {
      "text/plain": [
       "{'Common Names': ['Chowanoke Crayfish', 'Chowanoke crayfish'],\n",
       " 'States': ['North Carolina', 'Virginia']}"
      ]
     },
     "metadata": {},
     "output_type": "display_data"
    },
    {
     "name": "stdout",
     "output_type": "stream",
     "text": [
      "----------\n",
      "Scientific Name: Procambarus barbiger\n",
      "Common Name: Jackson prairie crayfish\n",
      "Lead FWS Region: R4\n",
      "Species Range (FWS): MS\n",
      "ECOS Link: https://ecos.fws.gov/ecp/species/6542\n",
      "2015 SGCN Summary Data\n"
     ]
    },
    {
     "data": {
      "text/plain": [
       "{'Common Names': ['Jackson Prairie Crayfish'], 'States': ['Mississippi']}"
      ]
     },
     "metadata": {},
     "output_type": "display_data"
    },
    {
     "name": "stdout",
     "output_type": "stream",
     "text": [
      "2005 SGCN Summary Data\n"
     ]
    },
    {
     "data": {
      "text/plain": [
       "{'Common Names': ['Jackson Prairie Crayfish'], 'States': ['Mississippi']}"
      ]
     },
     "metadata": {},
     "output_type": "display_data"
    },
    {
     "name": "stdout",
     "output_type": "stream",
     "text": [
      "----------\n",
      "Scientific Name: Procambarus cometes\n",
      "Common Name: Mississippi Flatwoods crayfish\n",
      "Lead FWS Region: R4\n",
      "Species Range (FWS): MS\n",
      "ECOS Link: https://ecos.fws.gov/ecp/species/3812\n",
      "2005 SGCN Summary Data\n"
     ]
    },
    {
     "data": {
      "text/plain": [
       "{'Common Names': ['Mississippi Flatwoods Crayfish'], 'States': ['Mississippi']}"
      ]
     },
     "metadata": {},
     "output_type": "display_data"
    },
    {
     "name": "stdout",
     "output_type": "stream",
     "text": [
      "----------\n",
      "Scientific Name: Procambarus econfinae\n",
      "Common Name: Panama City crayfish\n",
      "Lead FWS Region: R4\n",
      "Species Range (FWS): FL\n",
      "ECOS Link: https://ecos.fws.gov/ecp/species/8915\n",
      "2015 SGCN Summary Data\n"
     ]
    },
    {
     "data": {
      "text/plain": [
       "{'Common Names': ['Panama City Crayfish'], 'States': ['Florida']}"
      ]
     },
     "metadata": {},
     "output_type": "display_data"
    },
    {
     "name": "stdout",
     "output_type": "stream",
     "text": [
      "2005 SGCN Summary Data\n"
     ]
    },
    {
     "data": {
      "text/plain": [
       "{'Common Names': ['Panama City Crayfish'], 'States': ['Florida']}"
      ]
     },
     "metadata": {},
     "output_type": "display_data"
    },
    {
     "name": "stdout",
     "output_type": "stream",
     "text": [
      "----------\n",
      "Scientific Name: Procambarus fitzpatricki\n",
      "Common Name: spinytail crayfish\n",
      "Lead FWS Region: R4\n",
      "Species Range (FWS): MS\n",
      "ECOS Link: https://ecos.fws.gov/ecp/species/4532\n",
      "2015 SGCN Summary Data\n"
     ]
    },
    {
     "data": {
      "text/plain": [
       "{'Common Names': ['Spiny-tailed Crayfish'], 'States': ['Mississippi']}"
      ]
     },
     "metadata": {},
     "output_type": "display_data"
    },
    {
     "name": "stdout",
     "output_type": "stream",
     "text": [
      "2005 SGCN Summary Data\n"
     ]
    },
    {
     "data": {
      "text/plain": [
       "{'Common Names': ['Spiny-Tailed Crayfish'], 'States': ['Mississippi']}"
      ]
     },
     "metadata": {},
     "output_type": "display_data"
    },
    {
     "name": "stdout",
     "output_type": "stream",
     "text": [
      "----------\n",
      "Scientific Name: Procambarus horsti\n",
      "Common Name: Big Blue Springs cave crayfish\n",
      "Lead FWS Region: R4\n",
      "Species Range (FWS): FL\n",
      "ECOS Link: https://ecos.fws.gov/ecp/species/9827\n",
      "2015 SGCN Summary Data\n"
     ]
    },
    {
     "data": {
      "text/plain": [
       "{'Common Names': ['Big Blue Spring Cave Crayfish'], 'States': ['Florida']}"
      ]
     },
     "metadata": {},
     "output_type": "display_data"
    },
    {
     "name": "stdout",
     "output_type": "stream",
     "text": [
      "2005 SGCN Summary Data\n"
     ]
    },
    {
     "data": {
      "text/plain": [
       "{'Common Names': ['Big Blue Spring Cave Crayfish'], 'States': ['Florida']}"
      ]
     },
     "metadata": {},
     "output_type": "display_data"
    },
    {
     "name": "stdout",
     "output_type": "stream",
     "text": [
      "----------\n",
      "Scientific Name: Procambarus lylei\n",
      "Common Name: Shutispear crayfish\n",
      "Lead FWS Region: R4\n",
      "Species Range (FWS): MS\n",
      "ECOS Link: https://ecos.fws.gov/ecp/species/5071\n",
      "2015 SGCN Summary Data\n"
     ]
    },
    {
     "data": {
      "text/plain": [
       "{'Common Names': ['Shutispear Crayfish'], 'States': ['Mississippi']}"
      ]
     },
     "metadata": {},
     "output_type": "display_data"
    },
    {
     "name": "stdout",
     "output_type": "stream",
     "text": [
      "2005 SGCN Summary Data\n"
     ]
    },
    {
     "data": {
      "text/plain": [
       "{'Common Names': ['Shutispear Crayfish'], 'States': ['Mississippi']}"
      ]
     },
     "metadata": {},
     "output_type": "display_data"
    },
    {
     "name": "stdout",
     "output_type": "stream",
     "text": [
      "----------\n",
      "Scientific Name: Procambarus milleri\n",
      "Common Name: Miami cave crayfish\n",
      "Lead FWS Region: R4\n",
      "Species Range (FWS): FL\n",
      "ECOS Link: https://ecos.fws.gov/ecp/species/9832\n",
      "2015 SGCN Summary Data\n"
     ]
    },
    {
     "data": {
      "text/plain": [
       "{'Common Names': ['Miami Cave Crayfish'], 'States': ['Florida']}"
      ]
     },
     "metadata": {},
     "output_type": "display_data"
    },
    {
     "name": "stdout",
     "output_type": "stream",
     "text": [
      "2005 SGCN Summary Data\n"
     ]
    },
    {
     "data": {
      "text/plain": [
       "{'Common Names': ['Miami Cave Crayfish'], 'States': ['Florida']}"
      ]
     },
     "metadata": {},
     "output_type": "display_data"
    },
    {
     "name": "stdout",
     "output_type": "stream",
     "text": [
      "----------\n",
      "Scientific Name: Procambarus pictus\n",
      "Common Name: Black Creek crayfish\n",
      "Lead FWS Region: R4\n",
      "Species Range (FWS): FL\n",
      "ECOS Link: https://ecos.fws.gov/ecp/species/6252\n",
      "2015 SGCN Summary Data\n"
     ]
    },
    {
     "data": {
      "text/plain": [
       "{'Common Names': ['Black Creek Crayfish'], 'States': ['Florida']}"
      ]
     },
     "metadata": {},
     "output_type": "display_data"
    },
    {
     "name": "stdout",
     "output_type": "stream",
     "text": [
      "2005 SGCN Summary Data\n"
     ]
    },
    {
     "data": {
      "text/plain": [
       "{'Common Names': ['Black Creek Crayfish'], 'States': ['Florida']}"
      ]
     },
     "metadata": {},
     "output_type": "display_data"
    },
    {
     "name": "stdout",
     "output_type": "stream",
     "text": [
      "----------\n",
      "Scientific Name: Procambarus pogum\n",
      "Common Name: bearded red crayfish\n",
      "Lead FWS Region: R4\n",
      "Species Range (FWS): MS\n",
      "ECOS Link: https://ecos.fws.gov/ecp/species/6815\n",
      "2005 SGCN Summary Data\n"
     ]
    },
    {
     "data": {
      "text/plain": [
       "{'Common Names': ['Bearded Red Crayfish'], 'States': ['Mississippi']}"
      ]
     },
     "metadata": {},
     "output_type": "display_data"
    },
    {
     "name": "stdout",
     "output_type": "stream",
     "text": [
      "----------\n",
      "Scientific Name: Procambarus reimeri\n",
      "Common Name: Irons Fork burrowing crayfish\n",
      "Lead FWS Region: R4\n",
      "Species Range (FWS): AR\n",
      "ECOS Link: https://ecos.fws.gov/ecp/species/9837\n",
      "2015 SGCN Summary Data\n"
     ]
    },
    {
     "data": {
      "text/plain": [
       "{'Common Names': ['Irons Fork Burrowing Crayfish'], 'States': ['Arkansas']}"
      ]
     },
     "metadata": {},
     "output_type": "display_data"
    },
    {
     "name": "stdout",
     "output_type": "stream",
     "text": [
      "2005 SGCN Summary Data\n"
     ]
    },
    {
     "data": {
      "text/plain": [
       "{'Common Names': ['crayfish'], 'States': ['Arkansas']}"
      ]
     },
     "metadata": {},
     "output_type": "display_data"
    },
    {
     "name": "stdout",
     "output_type": "stream",
     "text": [
      "----------\n",
      "Scientific Name: Stygobromus cooperi\n",
      "Common Name: Cooper's Cave amphipod\n",
      "Lead FWS Region: R5\n",
      "Species Range (FWS): WV\n",
      "ECOS Link: https://ecos.fws.gov/ecp/species/5908\n",
      "2015 SGCN Summary Data\n"
     ]
    },
    {
     "data": {
      "text/plain": [
       "{'Common Names': [\"Cooper's Cave Amphipod\"], 'States': ['West Virginia']}"
      ]
     },
     "metadata": {},
     "output_type": "display_data"
    },
    {
     "name": "stdout",
     "output_type": "stream",
     "text": [
      "2005 SGCN Summary Data\n"
     ]
    },
    {
     "data": {
      "text/plain": [
       "{'Common Names': [\"Cooper's Cave Amphipod\"], 'States': ['West Virginia']}"
      ]
     },
     "metadata": {},
     "output_type": "display_data"
    },
    {
     "name": "stdout",
     "output_type": "stream",
     "text": [
      "----------\n",
      "Scientific Name: Stygobromus indentatus\n",
      "Common Name: Tidewater amphipod\n",
      "Lead FWS Region: R5\n",
      "Species Range (FWS): MD, NC, VA\n",
      "ECOS Link: https://ecos.fws.gov/ecp0/profile/speciesProfile?spcode=K007\n",
      "2015 SGCN Summary Data\n"
     ]
    },
    {
     "data": {
      "text/plain": [
       "{'Common Names': ['Tidewater amphipod', 'Tidewater amphipod '],\n",
       " 'States': ['Maryland', 'Virginia']}"
      ]
     },
     "metadata": {},
     "output_type": "display_data"
    },
    {
     "name": "stdout",
     "output_type": "stream",
     "text": [
      "2005 SGCN Summary Data\n"
     ]
    },
    {
     "data": {
      "text/plain": [
       "{'Common Names': ['Tidewater amphipod'], 'States': ['Maryland', 'Virginia']}"
      ]
     },
     "metadata": {},
     "output_type": "display_data"
    },
    {
     "name": "stdout",
     "output_type": "stream",
     "text": [
      "----------\n",
      "Scientific Name: Stygobromus morrisoni\n",
      "Common Name: Morrison's Cave amphipod\n",
      "Lead FWS Region: R5\n",
      "Species Range (FWS): VA, WV\n",
      "ECOS Link: https://ecos.fws.gov/ecp/species/3150\n",
      "2015 SGCN Summary Data\n"
     ]
    },
    {
     "data": {
      "text/plain": [
       "{'Common Names': [\"Morrison's Cave Amphipod\", \"Morrison's cave amphipod \"],\n",
       " 'States': ['Virginia', 'West Virginia']}"
      ]
     },
     "metadata": {},
     "output_type": "display_data"
    },
    {
     "name": "stdout",
     "output_type": "stream",
     "text": [
      "2005 SGCN Summary Data\n"
     ]
    },
    {
     "data": {
      "text/plain": [
       "{'Common Names': [\"Morrison's Cave Amphipod\", \"Morrison's cave amphipod\"],\n",
       " 'States': ['Virginia', 'West Virginia']}"
      ]
     },
     "metadata": {},
     "output_type": "display_data"
    },
    {
     "name": "stdout",
     "output_type": "stream",
     "text": [
      "----------\n",
      "Scientific Name: Stygobromus parvus\n",
      "Common Name: Minute Cave amphipod\n",
      "Lead FWS Region: R5\n",
      "Species Range (FWS): WV\n",
      "ECOS Link: https://ecos.fws.gov/ecp/species/7901\n",
      "2015 SGCN Summary Data\n"
     ]
    },
    {
     "data": {
      "text/plain": [
       "{'Common Names': ['Minute Cave Amphipod'], 'States': ['West Virginia']}"
      ]
     },
     "metadata": {},
     "output_type": "display_data"
    },
    {
     "name": "stdout",
     "output_type": "stream",
     "text": [
      "2005 SGCN Summary Data\n"
     ]
    },
    {
     "data": {
      "text/plain": [
       "{'Common Names': ['Minute Cave Amphipod'], 'States': ['West Virginia']}"
      ]
     },
     "metadata": {},
     "output_type": "display_data"
    },
    {
     "name": "stdout",
     "output_type": "stream",
     "text": [
      "----------\n",
      "Scientific Name: Stygobromus phreaticus\n",
      "Common Name: cave (northern Virginia well) amphipod\n",
      "Lead FWS Region: R5\n",
      "Species Range (FWS): VA\n",
      "ECOS Link: https://ecos.fws.gov/ecp0/profile/speciesProfile?spcode=K04R\n",
      "2015 SGCN Summary Data\n"
     ]
    },
    {
     "data": {
      "text/plain": [
       "{'Common Names': ['Northern Virginia well amphipod'], 'States': ['Virginia']}"
      ]
     },
     "metadata": {},
     "output_type": "display_data"
    },
    {
     "name": "stdout",
     "output_type": "stream",
     "text": [
      "2005 SGCN Summary Data\n"
     ]
    },
    {
     "data": {
      "text/plain": [
       "{'Common Names': ['Northern Virginia well amphipod'], 'States': ['Virginia']}"
      ]
     },
     "metadata": {},
     "output_type": "display_data"
    },
    {
     "name": "stdout",
     "output_type": "stream",
     "text": [
      "----------\n",
      "Scientific Name: Amblyopsis spelaea\n",
      "Common Name: northern cavefish\n",
      "Lead FWS Region: R4\n",
      "Species Range (FWS): IN, KY\n",
      "ECOS Link: https://ecos.fws.gov/ecp/species/3966\n",
      "2015 SGCN Summary Data\n"
     ]
    },
    {
     "data": {
      "text/plain": [
       "{'Common Names': ['Northern Cavefish'], 'States': ['Kentucky']}"
      ]
     },
     "metadata": {},
     "output_type": "display_data"
    },
    {
     "name": "stdout",
     "output_type": "stream",
     "text": [
      "2005 SGCN Summary Data\n"
     ]
    },
    {
     "data": {
      "text/plain": [
       "{'Common Names': ['Northern Cavefish'], 'States': ['Indiana', 'Kentucky']}"
      ]
     },
     "metadata": {},
     "output_type": "display_data"
    },
    {
     "name": "stdout",
     "output_type": "stream",
     "text": [
      "----------\n",
      "Scientific Name: Chrosomus saylori\n",
      "Common Name: laurel (or Clinch River) dace\n",
      "Lead FWS Region: R5\n",
      "Species Range (FWS): VA\n",
      "ECOS Link: https://ecos.fws.gov/ecp0/profile/speciesProfile?spcode=E0AR\n",
      "2015 SGCN Summary Data\n"
     ]
    },
    {
     "data": {
      "text/plain": [
       "{'Common Names': ['Northern Cavefish'], 'States': ['Kentucky']}"
      ]
     },
     "metadata": {},
     "output_type": "display_data"
    },
    {
     "name": "stdout",
     "output_type": "stream",
     "text": [
      "2005 SGCN Summary Data\n"
     ]
    },
    {
     "data": {
      "text/plain": [
       "{'Common Names': ['Northern Cavefish'], 'States': ['Indiana', 'Kentucky']}"
      ]
     },
     "metadata": {},
     "output_type": "display_data"
    },
    {
     "name": "stdout",
     "output_type": "stream",
     "text": [
      "----------\n",
      "Scientific Name: Cottus sp.\n",
      "Common Name: bluestone sculpin\n",
      "Lead FWS Region: R5\n",
      "Species Range (FWS): VA, WV\n",
      "ECOS Link: https://ecos.fws.gov/ecp/species/5634\n",
      "2015 SGCN Summary Data\n"
     ]
    },
    {
     "data": {
      "text/plain": [
       "{'Common Names': ['Northern Cavefish'], 'States': ['Kentucky']}"
      ]
     },
     "metadata": {},
     "output_type": "display_data"
    },
    {
     "name": "stdout",
     "output_type": "stream",
     "text": [
      "2005 SGCN Summary Data\n"
     ]
    },
    {
     "data": {
      "text/plain": [
       "{'Common Names': ['Northern Cavefish'], 'States': ['Indiana', 'Kentucky']}"
      ]
     },
     "metadata": {},
     "output_type": "display_data"
    },
    {
     "name": "stdout",
     "output_type": "stream",
     "text": [
      "----------\n",
      "Scientific Name: Cyprinodon pecosensis\n",
      "Common Name: Pecos pupfish\n",
      "Lead FWS Region: R2\n",
      "Species Range (FWS): NM, TX\n",
      "ECOS Link: https://ecos.fws.gov/ecp/species/5162\n",
      "2015 SGCN Summary Data\n"
     ]
    },
    {
     "data": {
      "text/plain": [
       "{'Common Names': ['Pecos Pupfish', 'Pecos pupfish'],\n",
       " 'States': ['New Mexico', 'Texas']}"
      ]
     },
     "metadata": {},
     "output_type": "display_data"
    },
    {
     "name": "stdout",
     "output_type": "stream",
     "text": [
      "2005 SGCN Summary Data\n"
     ]
    },
    {
     "data": {
      "text/plain": [
       "{'Common Names': ['Pecos Pupfish', 'Pecos pupfish'],\n",
       " 'States': ['New Mexico', 'Texas']}"
      ]
     },
     "metadata": {},
     "output_type": "display_data"
    },
    {
     "name": "stdout",
     "output_type": "stream",
     "text": [
      "----------\n",
      "Scientific Name: Cyprinodon tularosa\n",
      "Common Name: White Sands pupfish\n",
      "Lead FWS Region: R2\n",
      "Species Range (FWS): NM\n",
      "ECOS Link: https://ecos.fws.gov/ecp/species/5883\n",
      "2015 SGCN Summary Data\n"
     ]
    },
    {
     "data": {
      "text/plain": [
       "{'Common Names': ['White Sands Pupfish'], 'States': ['New Mexico']}"
      ]
     },
     "metadata": {},
     "output_type": "display_data"
    },
    {
     "name": "stdout",
     "output_type": "stream",
     "text": [
      "2005 SGCN Summary Data\n"
     ]
    },
    {
     "data": {
      "text/plain": [
       "{'Common Names': ['White Sands Pupfish'], 'States': ['New Mexico']}"
      ]
     },
     "metadata": {},
     "output_type": "display_data"
    },
    {
     "name": "stdout",
     "output_type": "stream",
     "text": [
      "----------\n",
      "Scientific Name: Elassoma boehlkei\n",
      "Common Name: Carolina pygmy sunfish\n",
      "Lead FWS Region: R4\n",
      "Species Range (FWS): NC, SC\n",
      "ECOS Link: https://ecos.fws.gov/ecp/species/5605\n",
      "2015 SGCN Summary Data\n"
     ]
    },
    {
     "data": {
      "text/plain": [
       "{'Common Names': ['Carolina Pygmy Sunfish'],\n",
       " 'States': ['North Carolina', 'South Carolina']}"
      ]
     },
     "metadata": {},
     "output_type": "display_data"
    },
    {
     "name": "stdout",
     "output_type": "stream",
     "text": [
      "2005 SGCN Summary Data\n"
     ]
    },
    {
     "data": {
      "text/plain": [
       "{'Common Names': ['Carolina Pygmy Sunfish'],\n",
       " 'States': ['North Carolina', 'South Carolina']}"
      ]
     },
     "metadata": {},
     "output_type": "display_data"
    },
    {
     "name": "stdout",
     "output_type": "stream",
     "text": [
      "----------\n",
      "Scientific Name: Erimystax harryi\n",
      "Common Name: Ozark chub\n",
      "Lead FWS Region: R4\n",
      "Species Range (FWS): AR, MO\n",
      "ECOS Link: https://ecos.fws.gov/ecp/species/9851\n",
      "2015 SGCN Summary Data\n"
     ]
    },
    {
     "data": {
      "text/plain": [
       "{'Common Names': ['Ozark chub'], 'States': ['Missouri']}"
      ]
     },
     "metadata": {},
     "output_type": "display_data"
    },
    {
     "name": "stdout",
     "output_type": "stream",
     "text": [
      "2005 SGCN Summary Data\n"
     ]
    },
    {
     "data": {
      "text/plain": [
       "{'Common Names': ['Ozark Chub'], 'States': ['Arkansas']}"
      ]
     },
     "metadata": {},
     "output_type": "display_data"
    },
    {
     "name": "stdout",
     "output_type": "stream",
     "text": [
      "----------\n",
      "Scientific Name: Etheostoma brevirostrum\n",
      "Common Name: Holiday darter\n",
      "Lead FWS Region: R4\n",
      "Species Range (FWS): AL, GA, TN\n",
      "ECOS Link: https://ecos.fws.gov/ecp/species/5601\n",
      "2015 SGCN Summary Data\n"
     ]
    },
    {
     "data": {
      "text/plain": [
       "{'Common Names': ['Holiday Darter'], 'States': ['Alabama']}"
      ]
     },
     "metadata": {},
     "output_type": "display_data"
    },
    {
     "name": "stdout",
     "output_type": "stream",
     "text": [
      "----------\n",
      "Scientific Name: Etheostoma cinereum\n",
      "Common Name: ashy darter\n",
      "Lead FWS Region: R4\n",
      "Species Range (FWS): KY, TN\n",
      "ECOS Link: https://ecos.fws.gov/ecp/species/3117\n",
      "2015 SGCN Summary Data\n"
     ]
    },
    {
     "data": {
      "text/plain": [
       "{'Common Names': ['Ashy Darter', 'Ashy darter'],\n",
       " 'States': ['Alabama', 'Georgia', 'Kentucky', 'Tennessee', 'Virginia']}"
      ]
     },
     "metadata": {},
     "output_type": "display_data"
    },
    {
     "name": "stdout",
     "output_type": "stream",
     "text": [
      "2005 SGCN Summary Data\n"
     ]
    },
    {
     "data": {
      "text/plain": [
       "{'Common Names': ['Ashy Darter', 'Ashy darter'],\n",
       " 'States': ['Alabama', 'Georgia', 'Kentucky', 'Tennessee', 'Virginia']}"
      ]
     },
     "metadata": {},
     "output_type": "display_data"
    },
    {
     "name": "stdout",
     "output_type": "stream",
     "text": [
      "----------\n",
      "Scientific Name: Etheostoma forbesi\n",
      "Common Name: barrens darter\n",
      "Lead FWS Region: R4\n",
      "Species Range (FWS): TN\n",
      "ECOS Link: https://ecos.fws.gov/ecp/species/4984\n",
      "2015 SGCN Summary Data\n"
     ]
    },
    {
     "data": {
      "text/plain": [
       "{'Common Names': ['Barrens Darter'], 'States': ['Tennessee']}"
      ]
     },
     "metadata": {},
     "output_type": "display_data"
    },
    {
     "name": "stdout",
     "output_type": "stream",
     "text": [
      "2005 SGCN Summary Data\n"
     ]
    },
    {
     "data": {
      "text/plain": [
       "{'Common Names': ['Barrens Darter'], 'States': ['Tennessee']}"
      ]
     },
     "metadata": {},
     "output_type": "display_data"
    },
    {
     "name": "stdout",
     "output_type": "stream",
     "text": [
      "----------\n",
      "Scientific Name: Etheostoma maydeni\n",
      "Common Name: redlips darter (broken out from ashy darter complex)\n",
      "Lead FWS Region: R4\n",
      "Species Range (FWS): KY, TN\n",
      "ECOS Link: nan\n",
      "2015 SGCN Summary Data\n"
     ]
    },
    {
     "data": {
      "text/plain": [
       "{'Common Names': ['St. Francis River crayfish'], 'States': ['Missouri']}"
      ]
     },
     "metadata": {},
     "output_type": "display_data"
    },
    {
     "name": "stdout",
     "output_type": "stream",
     "text": [
      "2005 SGCN Summary Data\n"
     ]
    },
    {
     "data": {
      "text/plain": [
       "{'Common Names': ['St. Francis River Crayfish'], 'States': ['Missouri']}"
      ]
     },
     "metadata": {},
     "output_type": "display_data"
    },
    {
     "name": "stdout",
     "output_type": "stream",
     "text": [
      "----------\n",
      "Scientific Name: Etheostoma microlepidum\n",
      "Common Name: smallscale darter\n",
      "Lead FWS Region: R4\n",
      "Species Range (FWS): KY, TN\n",
      "ECOS Link: https://ecos.fws.gov/ecp/species/9852\n",
      "2015 SGCN Summary Data\n"
     ]
    },
    {
     "data": {
      "text/plain": [
       "{'Common Names': ['Smallscale Darter'], 'States': ['Kentucky', 'Tennessee']}"
      ]
     },
     "metadata": {},
     "output_type": "display_data"
    },
    {
     "name": "stdout",
     "output_type": "stream",
     "text": [
      "2005 SGCN Summary Data\n"
     ]
    },
    {
     "data": {
      "text/plain": [
       "{'Common Names': ['Finescale Darter', 'Smallscale Darter'],\n",
       " 'States': ['Kentucky', 'Tennessee']}"
      ]
     },
     "metadata": {},
     "output_type": "display_data"
    },
    {
     "name": "stdout",
     "output_type": "stream",
     "text": [
      "----------\n",
      "Scientific Name: Etheostoma osburni\n",
      "Common Name: candy darter\n",
      "Lead FWS Region: R5\n",
      "Species Range (FWS): VA, WV\n",
      "ECOS Link: https://ecos.fws.gov/ecp/species/1396\n",
      "2015 SGCN Summary Data\n"
     ]
    },
    {
     "data": {
      "text/plain": [
       "{'Common Names': ['Candy Darter', 'Candy darter'],\n",
       " 'States': ['Virginia', 'West Virginia']}"
      ]
     },
     "metadata": {},
     "output_type": "display_data"
    },
    {
     "name": "stdout",
     "output_type": "stream",
     "text": [
      "2005 SGCN Summary Data\n"
     ]
    },
    {
     "data": {
      "text/plain": [
       "{'Common Names': ['Candy Darter', 'Candy darter'],\n",
       " 'States': ['Virginia', 'West Virginia']}"
      ]
     },
     "metadata": {},
     "output_type": "display_data"
    },
    {
     "name": "stdout",
     "output_type": "stream",
     "text": [
      "----------\n",
      "Scientific Name: Etheostoma pallididorsum\n",
      "Common Name: paleback darter\n",
      "Lead FWS Region: R4\n",
      "Species Range (FWS): AR\n",
      "ECOS Link: https://ecos.fws.gov/ecp/species/300\n",
      "2015 SGCN Summary Data\n"
     ]
    },
    {
     "data": {
      "text/plain": [
       "{'Common Names': ['Paleback Darter'], 'States': ['Arkansas']}"
      ]
     },
     "metadata": {},
     "output_type": "display_data"
    },
    {
     "name": "stdout",
     "output_type": "stream",
     "text": [
      "2005 SGCN Summary Data\n"
     ]
    },
    {
     "data": {
      "text/plain": [
       "{'Common Names': ['Paleback Darter'], 'States': ['Arkansas']}"
      ]
     },
     "metadata": {},
     "output_type": "display_data"
    },
    {
     "name": "stdout",
     "output_type": "stream",
     "text": [
      "----------\n",
      "Scientific Name: Etheostoma tippecanoe\n",
      "Common Name: Tippecanoe darter\n",
      "Lead FWS Region: R5\n",
      "Species Range (FWS): IN, KY, OH, PA, TN, WV\n",
      "ECOS Link: https://ecos.fws.gov/ecp/species/9854\n",
      "2005 SGCN Summary Data\n"
     ]
    },
    {
     "data": {
      "text/plain": [
       "{'Common Names': ['Tippecanoe darter'], 'States': ['Virginia']}"
      ]
     },
     "metadata": {},
     "output_type": "display_data"
    },
    {
     "name": "stdout",
     "output_type": "stream",
     "text": [
      "----------\n",
      "Scientific Name: Etheostoma trisella\n",
      "Common Name: Trispot darter\n",
      "Lead FWS Region: R4\n",
      "Species Range (FWS): AL, TN, GA\n",
      "ECOS Link: https://ecos.fws.gov/ecp/species/8219\n",
      "2015 SGCN Summary Data\n"
     ]
    },
    {
     "data": {
      "text/plain": [
       "{'Common Names': ['Trispot Darter'],\n",
       " 'States': ['Alabama', 'Georgia', 'Tennessee']}"
      ]
     },
     "metadata": {},
     "output_type": "display_data"
    },
    {
     "name": "stdout",
     "output_type": "stream",
     "text": [
      "2005 SGCN Summary Data\n"
     ]
    },
    {
     "data": {
      "text/plain": [
       "{'Common Names': ['Trispot Darter'],\n",
       " 'States': ['Alabama', 'Georgia', 'Tennessee']}"
      ]
     },
     "metadata": {},
     "output_type": "display_data"
    },
    {
     "name": "stdout",
     "output_type": "stream",
     "text": [
      "----------\n",
      "Scientific Name: Fundulus jenkinsi\n",
      "Common Name: saltmarsh topminnow\n",
      "Lead FWS Region: R4\n",
      "Species Range (FWS): AL, FL, LA, MS, TX\n",
      "ECOS Link: https://ecos.fws.gov/ecp/species/9171\n",
      "2015 SGCN Summary Data\n"
     ]
    },
    {
     "data": {
      "text/plain": [
       "{'Common Names': ['Saltmarsh Topminnow'],\n",
       " 'States': ['Florida', 'Louisiana', 'Mississippi']}"
      ]
     },
     "metadata": {},
     "output_type": "display_data"
    },
    {
     "name": "stdout",
     "output_type": "stream",
     "text": [
      "2005 SGCN Summary Data\n"
     ]
    },
    {
     "data": {
      "text/plain": [
       "{'Common Names': ['Saltmarsh Topminnow'],\n",
       " 'States': ['Florida', 'Louisiana', 'Mississippi']}"
      ]
     },
     "metadata": {},
     "output_type": "display_data"
    },
    {
     "name": "stdout",
     "output_type": "stream",
     "text": [
      "----------\n",
      "Scientific Name: Fundulus julisia\n",
      "Common Name: barrens topminnow\n",
      "Lead FWS Region: R4\n",
      "Species Range (FWS): TN\n",
      "ECOS Link: https://ecos.fws.gov/ecp/species/5045\n",
      "2015 SGCN Summary Data\n"
     ]
    },
    {
     "data": {
      "text/plain": [
       "{'Common Names': ['Barrens Topminnow'], 'States': ['Tennessee']}"
      ]
     },
     "metadata": {},
     "output_type": "display_data"
    },
    {
     "name": "stdout",
     "output_type": "stream",
     "text": [
      "2005 SGCN Summary Data\n"
     ]
    },
    {
     "data": {
      "text/plain": [
       "{'Common Names': ['Barrens Topminnow'], 'States': ['Tennessee']}"
      ]
     },
     "metadata": {},
     "output_type": "display_data"
    },
    {
     "name": "stdout",
     "output_type": "stream",
     "text": [
      "----------\n",
      "Scientific Name: Gambusia clarkhubbsi\n",
      "Common Name: San Felipe gambusia\n",
      "Lead FWS Region: R2\n",
      "Species Range (FWS): TX\n",
      "ECOS Link: https://ecos.fws.gov/ecp/species/627\n",
      "2015 SGCN Summary Data\n"
     ]
    },
    {
     "data": {
      "text/plain": [
       "{'Common Names': ['San Felipe gambusia'], 'States': ['Texas']}"
      ]
     },
     "metadata": {},
     "output_type": "display_data"
    },
    {
     "name": "stdout",
     "output_type": "stream",
     "text": [
      "2005 SGCN Summary Data\n"
     ]
    },
    {
     "data": {
      "text/plain": [
       "{'Common Names': ['San Felipe gambusia'], 'States': ['Texas']}"
      ]
     },
     "metadata": {},
     "output_type": "display_data"
    },
    {
     "name": "stdout",
     "output_type": "stream",
     "text": [
      "----------\n",
      "Scientific Name: Ictalurus sp.\n",
      "Common Name: Chihuahua catfish\n",
      "Lead FWS Region: R2\n",
      "Species Range (FWS): TX\n",
      "ECOS Link: https://ecos.fws.gov/ecp/species/8217\n",
      "2015 SGCN Summary Data\n"
     ]
    },
    {
     "data": {
      "text/plain": [
       "{'Common Names': ['San Felipe gambusia'], 'States': ['Texas']}"
      ]
     },
     "metadata": {},
     "output_type": "display_data"
    },
    {
     "name": "stdout",
     "output_type": "stream",
     "text": [
      "2005 SGCN Summary Data\n"
     ]
    },
    {
     "data": {
      "text/plain": [
       "{'Common Names': ['San Felipe gambusia'], 'States': ['Texas']}"
      ]
     },
     "metadata": {},
     "output_type": "display_data"
    },
    {
     "name": "stdout",
     "output_type": "stream",
     "text": [
      "----------\n",
      "Scientific Name: Lavinia exilicauda chi\n",
      "Common Name: Clear Lake hitch\n",
      "Lead FWS Region: R8\n",
      "Species Range (FWS): CA\n",
      "ECOS Link: https://ecos.fws.gov/ecp/species/9298\n",
      "2015 SGCN Summary Data\n"
     ]
    },
    {
     "data": {
      "text/plain": [
       "{'Common Names': ['San Felipe gambusia'], 'States': ['Texas']}"
      ]
     },
     "metadata": {},
     "output_type": "display_data"
    },
    {
     "name": "stdout",
     "output_type": "stream",
     "text": [
      "2005 SGCN Summary Data\n"
     ]
    },
    {
     "data": {
      "text/plain": [
       "{'Common Names': ['San Felipe gambusia'], 'States': ['Texas']}"
      ]
     },
     "metadata": {},
     "output_type": "display_data"
    },
    {
     "name": "stdout",
     "output_type": "stream",
     "text": [
      "----------\n",
      "Scientific Name: Lepidomeda mollispinis mollispinis\n",
      "Common Name: Virgin River spinedace\n",
      "Lead FWS Region: R6\n",
      "Species Range (FWS): AZ, NV, UT\n",
      "ECOS Link: https://ecos.fws.gov/ecp/species/6899\n",
      "2015 SGCN Summary Data\n"
     ]
    },
    {
     "data": {
      "text/plain": [
       "{'Common Names': ['Virgin River spinedace', 'Virgin Spinedace'],\n",
       " 'States': ['Arizona', 'Nevada']}"
      ]
     },
     "metadata": {},
     "output_type": "display_data"
    },
    {
     "name": "stdout",
     "output_type": "stream",
     "text": [
      "2005 SGCN Summary Data\n"
     ]
    },
    {
     "data": {
      "text/plain": [
       "{'Common Names': ['Virgin Spinedace', 'Virgin spinedace'],\n",
       " 'States': ['Arizona', 'Nevada', 'Utah']}"
      ]
     },
     "metadata": {},
     "output_type": "display_data"
    },
    {
     "name": "stdout",
     "output_type": "stream",
     "text": [
      "----------\n",
      "Scientific Name: Macrhybopsis aestivalis tetranemus\n",
      "Common Name: Arkansas River speckled chub\n",
      "Lead FWS Region: R2\n",
      "Species Range (FWS): CO, KA, NM, OK, TX\n",
      "ECOS Link: nan\n",
      "2005 SGCN Summary Data\n"
     ]
    },
    {
     "data": {
      "text/plain": [
       "{'Common Names': ['Canadian Speckled Chub'], 'States': ['New Mexico']}"
      ]
     },
     "metadata": {},
     "output_type": "display_data"
    },
    {
     "name": "stdout",
     "output_type": "stream",
     "text": [
      "----------\n",
      "Scientific Name: Notropis ariommus\n",
      "Common Name: popeye shiner\n",
      "Lead FWS Region: R4\n",
      "Species Range (FWS): KY\n",
      "ECOS Link: https://ecos.fws.gov/ecp/species/9855\n",
      "2015 SGCN Summary Data\n"
     ]
    },
    {
     "data": {
      "text/plain": [
       "{'Common Names': ['Popeye Shiner', 'Popeye shiner'],\n",
       " 'States': ['Alabama', 'Georgia', 'Ohio', 'Virginia', 'West Virginia']}"
      ]
     },
     "metadata": {},
     "output_type": "display_data"
    },
    {
     "name": "stdout",
     "output_type": "stream",
     "text": [
      "2005 SGCN Summary Data\n"
     ]
    },
    {
     "data": {
      "text/plain": [
       "{'Common Names': ['Popeye Shiner', 'Popeye shiner'],\n",
       " 'States': ['Alabama', 'Georgia', 'Ohio', 'Virginia', 'West Virginia']}"
      ]
     },
     "metadata": {},
     "output_type": "display_data"
    },
    {
     "name": "stdout",
     "output_type": "stream",
     "text": [
      "----------\n",
      "Scientific Name: Notropis ozarcanus\n",
      "Common Name: Ozark shiner\n",
      "Lead FWS Region: R4\n",
      "Species Range (FWS): AR, MO\n",
      "ECOS Link: https://ecos.fws.gov/ecp/species/3931\n",
      "2015 SGCN Summary Data\n"
     ]
    },
    {
     "data": {
      "text/plain": [
       "{'Common Names': ['Ozark Shiner', 'Ozark shiner'],\n",
       " 'States': ['Arkansas', 'Missouri']}"
      ]
     },
     "metadata": {},
     "output_type": "display_data"
    },
    {
     "name": "stdout",
     "output_type": "stream",
     "text": [
      "2005 SGCN Summary Data\n"
     ]
    },
    {
     "data": {
      "text/plain": [
       "{'Common Names': ['Ozark Shiner'], 'States': ['Arkansas', 'Missouri']}"
      ]
     },
     "metadata": {},
     "output_type": "display_data"
    },
    {
     "name": "stdout",
     "output_type": "stream",
     "text": [
      "----------\n",
      "Scientific Name: Notropis perpallidus\n",
      "Common Name: colorless shiner\n",
      "Lead FWS Region: R4\n",
      "Species Range (FWS): AR, OK\n",
      "ECOS Link: https://ecos.fws.gov/ecp/species/2994\n",
      "2015 SGCN Summary Data\n"
     ]
    },
    {
     "data": {
      "text/plain": [
       "{'Common Names': ['Peppered (Colorless) Shiner', 'Peppered Shiner'],\n",
       " 'States': ['Arkansas', 'Oklahoma']}"
      ]
     },
     "metadata": {},
     "output_type": "display_data"
    },
    {
     "name": "stdout",
     "output_type": "stream",
     "text": [
      "2005 SGCN Summary Data\n"
     ]
    },
    {
     "data": {
      "text/plain": [
       "{'Common Names': ['Peppered (Colorless) Shiner', 'Peppered Shiner'],\n",
       " 'States': ['Arkansas', 'Oklahoma']}"
      ]
     },
     "metadata": {},
     "output_type": "display_data"
    },
    {
     "name": "stdout",
     "output_type": "stream",
     "text": [
      "----------\n",
      "Scientific Name: Noturus furiosus\n",
      "Common Name: Carolina madtom\n",
      "Lead FWS Region: R4\n",
      "Species Range (FWS): NC\n",
      "ECOS Link: https://ecos.fws.gov/ecp/species/528\n",
      "2015 SGCN Summary Data\n"
     ]
    },
    {
     "data": {
      "text/plain": [
       "{'Common Names': ['Carolina Madtom'], 'States': ['North Carolina']}"
      ]
     },
     "metadata": {},
     "output_type": "display_data"
    },
    {
     "name": "stdout",
     "output_type": "stream",
     "text": [
      "2005 SGCN Summary Data\n"
     ]
    },
    {
     "data": {
      "text/plain": [
       "{'Common Names': ['Carolina Madtom'], 'States': ['North Carolina']}"
      ]
     },
     "metadata": {},
     "output_type": "display_data"
    },
    {
     "name": "stdout",
     "output_type": "stream",
     "text": [
      "----------\n",
      "Scientific Name: Noturus gilberti\n",
      "Common Name: orangefin madtom\n",
      "Lead FWS Region: R5\n",
      "Species Range (FWS): NC, VA\n",
      "ECOS Link: https://ecos.fws.gov/ecp/species/3120\n",
      "2015 SGCN Summary Data\n"
     ]
    },
    {
     "data": {
      "text/plain": [
       "{'Common Names': ['Orangefin Madtom', 'Orangefin madtom'],\n",
       " 'States': ['North Carolina', 'Virginia']}"
      ]
     },
     "metadata": {},
     "output_type": "display_data"
    },
    {
     "name": "stdout",
     "output_type": "stream",
     "text": [
      "2005 SGCN Summary Data\n"
     ]
    },
    {
     "data": {
      "text/plain": [
       "{'Common Names': ['Orangefin Madtom', 'Orangefin madtom'],\n",
       " 'States': ['North Carolina', 'Virginia']}"
      ]
     },
     "metadata": {},
     "output_type": "display_data"
    },
    {
     "name": "stdout",
     "output_type": "stream",
     "text": [
      "----------\n",
      "Scientific Name: Noturus gladiator\n",
      "Common Name: piebald madtom\n",
      "Lead FWS Region: R4\n",
      "Species Range (FWS): MS, TN\n",
      "ECOS Link: https://ecos.fws.gov/ecp/species/9861\n",
      "2015 SGCN Summary Data\n"
     ]
    },
    {
     "data": {
      "text/plain": [
       "{'Common Names': ['Piebald Madtom'], 'States': ['Mississippi', 'Tennessee']}"
      ]
     },
     "metadata": {},
     "output_type": "display_data"
    },
    {
     "name": "stdout",
     "output_type": "stream",
     "text": [
      "2005 SGCN Summary Data\n"
     ]
    },
    {
     "data": {
      "text/plain": [
       "{'Common Names': ['Piebald Madtom'], 'States': ['Mississippi']}"
      ]
     },
     "metadata": {},
     "output_type": "display_data"
    },
    {
     "name": "stdout",
     "output_type": "stream",
     "text": [
      "----------\n",
      "Scientific Name: Noturus munitus\n",
      "Common Name: frecklebelly madtom\n",
      "Lead FWS Region: R4\n",
      "Species Range (FWS): AL, GA, LA, MS, TN\n",
      "ECOS Link: https://ecos.fws.gov/ecp/species/2800\n",
      "2015 SGCN Summary Data\n"
     ]
    },
    {
     "data": {
      "text/plain": [
       "{'Common Names': ['Frecklebelly Madtom'],\n",
       " 'States': ['Georgia', 'Louisiana', 'Mississippi', 'Tennessee']}"
      ]
     },
     "metadata": {},
     "output_type": "display_data"
    },
    {
     "name": "stdout",
     "output_type": "stream",
     "text": [
      "2005 SGCN Summary Data\n"
     ]
    },
    {
     "data": {
      "text/plain": [
       "{'Common Names': ['Frecklebelly Madtom'],\n",
       " 'States': ['Alabama', 'Louisiana', 'Mississippi', 'Tennessee']}"
      ]
     },
     "metadata": {},
     "output_type": "display_data"
    },
    {
     "name": "stdout",
     "output_type": "stream",
     "text": [
      "----------\n",
      "Scientific Name: Noturus taylori\n",
      "Common Name: Caddo madtom\n",
      "Lead FWS Region: R4\n",
      "Species Range (FWS): AR\n",
      "ECOS Link: https://ecos.fws.gov/ecp/species/2576\n",
      "2015 SGCN Summary Data\n"
     ]
    },
    {
     "data": {
      "text/plain": [
       "{'Common Names': ['Caddo Madtom'], 'States': ['Arkansas']}"
      ]
     },
     "metadata": {},
     "output_type": "display_data"
    },
    {
     "name": "stdout",
     "output_type": "stream",
     "text": [
      "2005 SGCN Summary Data\n"
     ]
    },
    {
     "data": {
      "text/plain": [
       "{'Common Names': ['Caddo Madtom'], 'States': ['Arkansas']}"
      ]
     },
     "metadata": {},
     "output_type": "display_data"
    },
    {
     "name": "stdout",
     "output_type": "stream",
     "text": [
      "----------\n",
      "Scientific Name: Percina bimaculata\n",
      "Common Name: Chesapeake logperch\n",
      "Lead FWS Region: R5\n",
      "Species Range (FWS): MD, PA, VA\n",
      "ECOS Link: https://ecos.fws.gov/ecp/species/9863\n",
      "2015 SGCN Summary Data\n"
     ]
    },
    {
     "data": {
      "text/plain": [
       "{'Common Names': ['Caddo Madtom'], 'States': ['Arkansas']}"
      ]
     },
     "metadata": {},
     "output_type": "display_data"
    },
    {
     "name": "stdout",
     "output_type": "stream",
     "text": [
      "2005 SGCN Summary Data\n"
     ]
    },
    {
     "data": {
      "text/plain": [
       "{'Common Names': ['Caddo Madtom'], 'States': ['Arkansas']}"
      ]
     },
     "metadata": {},
     "output_type": "display_data"
    },
    {
     "name": "stdout",
     "output_type": "stream",
     "text": [
      "----------\n",
      "Scientific Name: Percina cymatotaenia\n",
      "Common Name: bluestripe darter\n",
      "Lead FWS Region: R3\n",
      "Species Range (FWS): MO\n",
      "ECOS Link: https://ecos.fws.gov/ecp/species/6211\n",
      "2015 SGCN Summary Data\n"
     ]
    },
    {
     "data": {
      "text/plain": [
       "{'Common Names': ['Bluestripe darter'], 'States': ['Missouri']}"
      ]
     },
     "metadata": {},
     "output_type": "display_data"
    },
    {
     "name": "stdout",
     "output_type": "stream",
     "text": [
      "2005 SGCN Summary Data\n"
     ]
    },
    {
     "data": {
      "text/plain": [
       "{'Common Names': ['Bluestripe Darter'], 'States': ['Missouri']}"
      ]
     },
     "metadata": {},
     "output_type": "display_data"
    },
    {
     "name": "stdout",
     "output_type": "stream",
     "text": [
      "----------\n",
      "Scientific Name: Percina kusha\n",
      "Common Name: bridled darter\n",
      "Lead FWS Region: R4\n",
      "Species Range (FWS): GA, TN\n",
      "ECOS Link: https://ecos.fws.gov/ecp/species/9864\n",
      "2015 SGCN Summary Data\n"
     ]
    },
    {
     "data": {
      "text/plain": [
       "{'Common Names': ['Bluestripe darter'], 'States': ['Missouri']}"
      ]
     },
     "metadata": {},
     "output_type": "display_data"
    },
    {
     "name": "stdout",
     "output_type": "stream",
     "text": [
      "2005 SGCN Summary Data\n"
     ]
    },
    {
     "data": {
      "text/plain": [
       "{'Common Names': ['Bluestripe Darter'], 'States': ['Missouri']}"
      ]
     },
     "metadata": {},
     "output_type": "display_data"
    },
    {
     "name": "stdout",
     "output_type": "stream",
     "text": [
      "----------\n",
      "Scientific Name: Percina macrocephala\n",
      "Common Name: longhead darter\n",
      "Lead FWS Region: R5\n",
      "Species Range (FWS): KY, NY, PA, TN, WV\n",
      "ECOS Link: https://ecos.fws.gov/ecp/species/5431\n",
      "2015 SGCN Summary Data\n"
     ]
    },
    {
     "data": {
      "text/plain": [
       "{'Common Names': ['Longhead Darter'],\n",
       " 'States': ['Kentucky', 'Ohio', 'Pennsylvania', 'Tennessee', 'West Virginia']}"
      ]
     },
     "metadata": {},
     "output_type": "display_data"
    },
    {
     "name": "stdout",
     "output_type": "stream",
     "text": [
      "2005 SGCN Summary Data\n"
     ]
    },
    {
     "data": {
      "text/plain": [
       "{'Common Names': ['Longhead Darter', 'Longhead darter'],\n",
       " 'States': ['Kentucky',\n",
       "  'New York',\n",
       "  'North Carolina',\n",
       "  'Pennsylvania',\n",
       "  'Tennessee',\n",
       "  'Virginia',\n",
       "  'West Virginia']}"
      ]
     },
     "metadata": {},
     "output_type": "display_data"
    },
    {
     "name": "stdout",
     "output_type": "stream",
     "text": [
      "----------\n",
      "Scientific Name: Percina nasuta\n",
      "Common Name: longnose darter\n",
      "Lead FWS Region: R4\n",
      "Species Range (FWS): AR, OK, MO\n",
      "ECOS Link: https://ecos.fws.gov/ecp/species/1773\n",
      "2015 SGCN Summary Data\n"
     ]
    },
    {
     "data": {
      "text/plain": [
       "{'Common Names': ['Longnose Darter', 'Longnose darter'],\n",
       " 'States': ['Arkansas', 'Missouri', 'Oklahoma']}"
      ]
     },
     "metadata": {},
     "output_type": "display_data"
    },
    {
     "name": "stdout",
     "output_type": "stream",
     "text": [
      "2005 SGCN Summary Data\n"
     ]
    },
    {
     "data": {
      "text/plain": [
       "{'Common Names': ['Longnose Darter'],\n",
       " 'States': ['Arkansas', 'Missouri', 'Oklahoma']}"
      ]
     },
     "metadata": {},
     "output_type": "display_data"
    },
    {
     "name": "stdout",
     "output_type": "stream",
     "text": [
      "----------\n",
      "Scientific Name: Percina williamsi\n",
      "Common Name: sickle darter\n",
      "Lead FWS Region: R4\n",
      "Species Range (FWS): NC, TN, VA\n",
      "ECOS Link: https://ecos.fws.gov/ecp/species/9866\n",
      "2015 SGCN Summary Data\n"
     ]
    },
    {
     "data": {
      "text/plain": [
       "{'Common Names': ['Longnose Darter', 'Longnose darter'],\n",
       " 'States': ['Arkansas', 'Missouri', 'Oklahoma']}"
      ]
     },
     "metadata": {},
     "output_type": "display_data"
    },
    {
     "name": "stdout",
     "output_type": "stream",
     "text": [
      "2005 SGCN Summary Data\n"
     ]
    },
    {
     "data": {
      "text/plain": [
       "{'Common Names': ['Longnose Darter'],\n",
       " 'States': ['Arkansas', 'Missouri', 'Oklahoma']}"
      ]
     },
     "metadata": {},
     "output_type": "display_data"
    },
    {
     "name": "stdout",
     "output_type": "stream",
     "text": [
      "----------\n",
      "Scientific Name: Relictus solitarius\n",
      "Common Name: relict dace\n",
      "Lead FWS Region: R8\n",
      "Species Range (FWS): NV\n",
      "ECOS Link: https://ecos.fws.gov/ecp/species/3416\n",
      "2015 SGCN Summary Data\n"
     ]
    },
    {
     "data": {
      "text/plain": [
       "{'Common Names': ['relict dace'], 'States': ['Nevada']}"
      ]
     },
     "metadata": {},
     "output_type": "display_data"
    },
    {
     "name": "stdout",
     "output_type": "stream",
     "text": [
      "----------\n",
      "Scientific Name: Satan eurystomus\n",
      "Common Name: widemouth blindcat\n",
      "Lead FWS Region: R2\n",
      "Species Range (FWS): TX\n",
      "ECOS Link: https://ecos.fws.gov/ecp/species/7544\n",
      "2015 SGCN Summary Data\n"
     ]
    },
    {
     "data": {
      "text/plain": [
       "{'Common Names': ['Widemouth blindcat'], 'States': ['Texas']}"
      ]
     },
     "metadata": {},
     "output_type": "display_data"
    },
    {
     "name": "stdout",
     "output_type": "stream",
     "text": [
      "2005 SGCN Summary Data\n"
     ]
    },
    {
     "data": {
      "text/plain": [
       "{'Common Names': ['Widemouth blindcat'], 'States': ['Texas']}"
      ]
     },
     "metadata": {},
     "output_type": "display_data"
    },
    {
     "name": "stdout",
     "output_type": "stream",
     "text": [
      "----------\n",
      "Scientific Name: Spirinchus thaleichthys\n",
      "Common Name: longfin smelt (San Francisco Bay- Delta population)\n",
      "Lead FWS Region: R8\n",
      "Species Range (FWS): CA\n",
      "ECOS Link: https://ecos.fws.gov/ecp/species/9011\n",
      "2015 SGCN Summary Data\n"
     ]
    },
    {
     "data": {
      "text/plain": [
       "{'Common Names': [' Longfin Smelt', 'longfin smelt'],\n",
       " 'States': ['Alaska', 'California']}"
      ]
     },
     "metadata": {},
     "output_type": "display_data"
    },
    {
     "name": "stdout",
     "output_type": "stream",
     "text": [
      "2005 SGCN Summary Data\n"
     ]
    },
    {
     "data": {
      "text/plain": [
       "{'Common Names': ['Longfin Smelt', 'longfin smelt'],\n",
       " 'States': ['Alaska', 'California']}"
      ]
     },
     "metadata": {},
     "output_type": "display_data"
    },
    {
     "name": "stdout",
     "output_type": "stream",
     "text": [
      "----------\n",
      "Scientific Name: Thoburnia atripinnis\n",
      "Common Name: blackfin sucker\n",
      "Lead FWS Region: R4\n",
      "Species Range (FWS): KY, TN\n",
      "ECOS Link: https://ecos.fws.gov/ecp/species/9868\n",
      "2015 SGCN Summary Data\n"
     ]
    },
    {
     "data": {
      "text/plain": [
       "{'Common Names': ['Blackfin Sucker'], 'States': ['Kentucky', 'Tennessee']}"
      ]
     },
     "metadata": {},
     "output_type": "display_data"
    },
    {
     "name": "stdout",
     "output_type": "stream",
     "text": [
      "2005 SGCN Summary Data\n"
     ]
    },
    {
     "data": {
      "text/plain": [
       "{'Common Names': ['Blackfin Sucker'], 'States': ['Kentucky', 'Tennessee']}"
      ]
     },
     "metadata": {},
     "output_type": "display_data"
    },
    {
     "name": "stdout",
     "output_type": "stream",
     "text": [
      "----------\n",
      "Scientific Name: Trogloglanis pattersoni\n",
      "Common Name: toothless blindcat\n",
      "Lead FWS Region: R2\n",
      "Species Range (FWS): TX\n",
      "ECOS Link: https://ecos.fws.gov/ecp/species/4398\n",
      "2015 SGCN Summary Data\n"
     ]
    },
    {
     "data": {
      "text/plain": [
       "{'Common Names': ['Toothless blindcat'], 'States': ['Texas']}"
      ]
     },
     "metadata": {},
     "output_type": "display_data"
    },
    {
     "name": "stdout",
     "output_type": "stream",
     "text": [
      "2005 SGCN Summary Data\n"
     ]
    },
    {
     "data": {
      "text/plain": [
       "{'Common Names': ['Toothless blindcat'], 'States': ['Texas']}"
      ]
     },
     "metadata": {},
     "output_type": "display_data"
    },
    {
     "name": "stdout",
     "output_type": "stream",
     "text": [
      "----------\n",
      "Scientific Name: Agalinis navasotensis\n",
      "Common Name: Navasota false foxglove\n",
      "Lead FWS Region: R2\n",
      "Species Range (FWS): TX\n",
      "ECOS Link: nan\n",
      "2015 SGCN Summary Data\n"
     ]
    },
    {
     "data": {
      "text/plain": [
       "{'Common Names': ['Navasota false foxglove'], 'States': ['Texas']}"
      ]
     },
     "metadata": {},
     "output_type": "display_data"
    },
    {
     "name": "stdout",
     "output_type": "stream",
     "text": [
      "----------\n",
      "Scientific Name: Alnus maritima\n",
      "Common Name: seaside alder\n",
      "Lead FWS Region: R5\n",
      "Species Range (FWS): DE, GA, MD, OK\n",
      "ECOS Link: https://ecos.fws.gov/ecp/species/2364\n",
      "2005 SGCN Summary Data\n"
     ]
    },
    {
     "data": {
      "text/plain": [
       "{'Common Names': ['Seaside Alder'], 'States': ['Georgia']}"
      ]
     },
     "metadata": {},
     "output_type": "display_data"
    },
    {
     "name": "stdout",
     "output_type": "stream",
     "text": [
      "----------\n",
      "Scientific Name: Amsonia tharpii\n",
      "Common Name: Tharp's bluestar\n",
      "Lead FWS Region: R2\n",
      "Species Range (FWS): NM, TX\n",
      "ECOS Link: https://ecos.fws.gov/ecp/species/5310\n",
      "2015 SGCN Summary Data\n"
     ]
    },
    {
     "data": {
      "text/plain": [
       "{'Common Names': [\"Tharp's blue-star\"], 'States': ['Texas']}"
      ]
     },
     "metadata": {},
     "output_type": "display_data"
    },
    {
     "name": "stdout",
     "output_type": "stream",
     "text": [
      "----------\n",
      "Scientific Name: Asclepias prostrata\n",
      "Common Name: prostrate milkweed\n",
      "Lead FWS Region: R2\n",
      "Species Range (FWS): TX, Mexico\n",
      "ECOS Link: https://ecos.fws.gov/ecp/species/7798\n",
      "2015 SGCN Summary Data\n"
     ]
    },
    {
     "data": {
      "text/plain": [
       "{'Common Names': ['Prostrate milkweed'], 'States': ['Texas']}"
      ]
     },
     "metadata": {},
     "output_type": "display_data"
    },
    {
     "name": "stdout",
     "output_type": "stream",
     "text": [
      "----------\n",
      "Scientific Name: Astragalus microcymbus\n",
      "Common Name: skiff milk-vetch\n",
      "Lead FWS Region: R6\n",
      "Species Range (FWS): CO\n",
      "ECOS Link: https://ecos.fws.gov/ecp/species/6679\n",
      "2015 SGCN Summary Data\n"
     ]
    },
    {
     "data": {
      "text/plain": [
       "{'Common Names': ['Skiff milkvetch'], 'States': ['Colorado']}"
      ]
     },
     "metadata": {},
     "output_type": "display_data"
    },
    {
     "name": "stdout",
     "output_type": "stream",
     "text": [
      "----------\n",
      "Scientific Name: Astragalus schmolliae\n",
      "Common Name: Chapin Mesa milkvetch (previously known as Schmoll milkvetch)\n",
      "Lead FWS Region: R6\n",
      "Species Range (FWS): CO\n",
      "ECOS Link: https://ecos.fws.gov/ecp/species/4807\n",
      "2015 SGCN Summary Data\n"
     ]
    },
    {
     "data": {
      "text/plain": [
       "{'Common Names': ['Schmoll milkvetch'], 'States': ['Colorado']}"
      ]
     },
     "metadata": {},
     "output_type": "display_data"
    },
    {
     "name": "stdout",
     "output_type": "stream",
     "text": [
      "----------\n",
      "Scientific Name: Balduina atropurpurea\n",
      "Common Name: purpledisk honeycombhead\n",
      "Lead FWS Region: R4\n",
      "Species Range (FWS): GA, SC\n",
      "ECOS Link: https://ecos.fws.gov/ecp/species/8125\n",
      "2015 SGCN Summary Data\n"
     ]
    },
    {
     "data": {
      "text/plain": [
       "{'Common Names': ['Purple Balduina', 'Purple Honeycomb Head'],\n",
       " 'States': ['Georgia', 'South Carolina']}"
      ]
     },
     "metadata": {},
     "output_type": "display_data"
    },
    {
     "name": "stdout",
     "output_type": "stream",
     "text": [
      "2005 SGCN Summary Data\n"
     ]
    },
    {
     "data": {
      "text/plain": [
       "{'Common Names': ['Purple Honeycomb Head'], 'States': ['Georgia']}"
      ]
     },
     "metadata": {},
     "output_type": "display_data"
    },
    {
     "name": "stdout",
     "output_type": "stream",
     "text": [
      "----------\n",
      "Scientific Name: Baptisia megacarpa\n",
      "Common Name: Apalachicola wild indigo\n",
      "Lead FWS Region: R4\n",
      "Species Range (FWS): AL, FL, GA\n",
      "ECOS Link: https://ecos.fws.gov/ecp/species/5023\n",
      "2015 SGCN Summary Data\n"
     ]
    },
    {
     "data": {
      "text/plain": [
       "{'Common Names': ['Bigpod Wild Indigo'], 'States': ['Georgia']}"
      ]
     },
     "metadata": {},
     "output_type": "display_data"
    },
    {
     "name": "stdout",
     "output_type": "stream",
     "text": [
      "2005 SGCN Summary Data\n"
     ]
    },
    {
     "data": {
      "text/plain": [
       "{'Common Names': ['Bigpod Wild Indigo'], 'States': ['Georgia']}"
      ]
     },
     "metadata": {},
     "output_type": "display_data"
    },
    {
     "name": "stdout",
     "output_type": "stream",
     "text": [
      "----------\n",
      "Scientific Name: Bartonia texana\n",
      "Common Name: Texas screwstem\n",
      "Lead FWS Region: R2\n",
      "Species Range (FWS): TX\n",
      "ECOS Link: https://ecos.fws.gov/ecp/species/1807\n",
      "2015 SGCN Summary Data\n"
     ]
    },
    {
     "data": {
      "text/plain": [
       "{'Common Names': ['Texas Screwstem', 'Texas screwstem'],\n",
       " 'States': ['Louisiana', 'Texas']}"
      ]
     },
     "metadata": {},
     "output_type": "display_data"
    },
    {
     "name": "stdout",
     "output_type": "stream",
     "text": [
      "----------\n",
      "Scientific Name: Corispermum navicula\n",
      "Common Name: boat-shaped (or North Park) bugseed\n",
      "Lead FWS Region: R6\n",
      "Species Range (FWS): CO\n",
      "ECOS Link: https://ecos.fws.gov/ecp/species/8619\n",
      "2015 SGCN Summary Data\n"
     ]
    },
    {
     "data": {
      "text/plain": [
       "{'Common Names': ['Boat-shaped bugseed'], 'States': ['Colorado']}"
      ]
     },
     "metadata": {},
     "output_type": "display_data"
    },
    {
     "name": "stdout",
     "output_type": "stream",
     "text": [
      "----------\n",
      "Scientific Name: Draba weberi\n",
      "Common Name: Weber's whitlowgrass\n",
      "Lead FWS Region: R6\n",
      "Species Range (FWS): CO\n",
      "ECOS Link: https://ecos.fws.gov/ecp/species/8736\n",
      "2015 SGCN Summary Data\n"
     ]
    },
    {
     "data": {
      "text/plain": [
       "{'Common Names': ['Weberâ\\x80\\x99s draba'], 'States': ['Colorado']}"
      ]
     },
     "metadata": {},
     "output_type": "display_data"
    },
    {
     "name": "stdout",
     "output_type": "stream",
     "text": [
      "----------\n",
      "Scientific Name: Eriogonum brandegeei\n",
      "Common Name: Brandegee's wild buckwheat\n",
      "Lead FWS Region: R6\n",
      "Species Range (FWS): CO\n",
      "ECOS Link: https://ecos.fws.gov/ecp/species/2841\n",
      "2015 SGCN Summary Data\n"
     ]
    },
    {
     "data": {
      "text/plain": [
       "{'Common Names': ['Brandegee wildÂ\\xa0buckwheat'], 'States': ['Colorado']}"
      ]
     },
     "metadata": {},
     "output_type": "display_data"
    },
    {
     "name": "stdout",
     "output_type": "stream",
     "text": [
      "----------\n",
      "Scientific Name: Genistidium dumosum\n",
      "Common Name: brush pea\n",
      "Lead FWS Region: R2\n",
      "Species Range (FWS): TX, Mexico\n",
      "ECOS Link: https://ecos.fws.gov/ecp/species/572\n",
      "2015 SGCN Summary Data\n"
     ]
    },
    {
     "data": {
      "text/plain": [
       "{'Common Names': ['Brush-pea'], 'States': ['Texas']}"
      ]
     },
     "metadata": {},
     "output_type": "display_data"
    },
    {
     "name": "stdout",
     "output_type": "stream",
     "text": [
      "----------\n",
      "Scientific Name: Helianthus occidentalis plantagineus\n",
      "Common Name: Shinner's sunflower\n",
      "Lead FWS Region: R2\n",
      "Species Range (FWS): AR, LA, TX\n",
      "ECOS Link: https://ecos.fws.gov/ecp/species/9933\n",
      "2015 SGCN Summary Data\n"
     ]
    },
    {
     "data": {
      "text/plain": [
       "{'Common Names': [\"Shinner's sunflower\"], 'States': ['Texas']}"
      ]
     },
     "metadata": {},
     "output_type": "display_data"
    },
    {
     "name": "stdout",
     "output_type": "stream",
     "text": [
      "----------\n",
      "Scientific Name: Hexalectris revoluta\n",
      "Common Name: Chisos coralroot\n",
      "Lead FWS Region: R2\n",
      "Species Range (FWS): AZ, TX, Mexico\n",
      "ECOS Link: https://ecos.fws.gov/ecp/species/3833\n",
      "2015 SGCN Summary Data\n"
     ]
    },
    {
     "data": {
      "text/plain": [
       "{'Common Names': ['Chisos coral-root'], 'States': ['Texas']}"
      ]
     },
     "metadata": {},
     "output_type": "display_data"
    },
    {
     "name": "stdout",
     "output_type": "stream",
     "text": [
      "----------\n",
      "Scientific Name: Illicium parviflorum\n",
      "Common Name: yellow anisetree\n",
      "Lead FWS Region: R4\n",
      "Species Range (FWS): FL\n",
      "ECOS Link: https://ecos.fws.gov/ecp/species/7683\n",
      "2005 SGCN Summary Data\n"
     ]
    },
    {
     "data": {
      "text/plain": [
       "{'Common Names': ['Yellow Anise-Tree'], 'States': ['Georgia']}"
      ]
     },
     "metadata": {},
     "output_type": "display_data"
    },
    {
     "name": "stdout",
     "output_type": "stream",
     "text": [
      "----------\n",
      "Scientific Name: Lindera subcoriacea\n",
      "Common Name: bog spicebush\n",
      "Lead FWS Region: R4\n",
      "Species Range (FWS): AL, FL, GA, LA, MS, NC, SC, VA\n",
      "ECOS Link: https://ecos.fws.gov/ecp/species/879\n",
      "2015 SGCN Summary Data\n"
     ]
    },
    {
     "data": {
      "text/plain": [
       "{'Common Names': ['Bog Spicebush'],\n",
       " 'States': ['Georgia', 'Louisiana', 'South Carolina']}"
      ]
     },
     "metadata": {},
     "output_type": "display_data"
    },
    {
     "name": "stdout",
     "output_type": "stream",
     "text": [
      "2005 SGCN Summary Data\n"
     ]
    },
    {
     "data": {
      "text/plain": [
       "{'Common Names': ['Bog Spicebush'], 'States': ['Georgia']}"
      ]
     },
     "metadata": {},
     "output_type": "display_data"
    },
    {
     "name": "stdout",
     "output_type": "stream",
     "text": [
      "----------\n",
      "Scientific Name: Mimulus gemmiparus\n",
      "Common Name: Rocky Mountain monkeyflower\n",
      "Lead FWS Region: R6\n",
      "Species Range (FWS): CO\n",
      "ECOS Link: https://ecos.fws.gov/ecp/species/3325\n",
      "2015 SGCN Summary Data\n"
     ]
    },
    {
     "data": {
      "text/plain": [
       "{'Common Names': ['Budding monkeyÂ\\xa0flower'], 'States': ['Colorado']}"
      ]
     },
     "metadata": {},
     "output_type": "display_data"
    },
    {
     "name": "stdout",
     "output_type": "stream",
     "text": [
      "----------\n",
      "Scientific Name: Paronychia congesta\n",
      "Common Name: bushy whitlow-wort\n",
      "Lead FWS Region: R2\n",
      "Species Range (FWS): TX\n",
      "ECOS Link: https://ecos.fws.gov/ecp/species/6441\n",
      "2015 SGCN Summary Data\n"
     ]
    },
    {
     "data": {
      "text/plain": [
       "{'Common Names': ['Bushy whitlow-wort'], 'States': ['Texas']}"
      ]
     },
     "metadata": {},
     "output_type": "display_data"
    },
    {
     "name": "stdout",
     "output_type": "stream",
     "text": [
      "----------\n",
      "Scientific Name: Pediomelum pentaphyllum\n",
      "Common Name: Chihuahua scurfpea\n",
      "Lead FWS Region: R2\n",
      "Species Range (FWS): AZ, NM, TX, Mexico\n",
      "ECOS Link: https://ecos.fws.gov/ecp0/profile/speciesProfile?spcode=Q3F2\n",
      "2015 SGCN Summary Data\n"
     ]
    },
    {
     "data": {
      "text/plain": [
       "{'Common Names': ['Chihuahua scurfpea'], 'States': ['Texas']}"
      ]
     },
     "metadata": {},
     "output_type": "display_data"
    },
    {
     "name": "stdout",
     "output_type": "stream",
     "text": [
      "----------\n",
      "Scientific Name: Phacelia argentea\n",
      "Common Name: sand dune (or silvery) phacelia\n",
      "Lead FWS Region: R1\n",
      "Species Range (FWS): OR\n",
      "ECOS Link: https://ecos.fws.gov/ecp/species/599\n",
      "2015 SGCN Summary Data\n"
     ]
    },
    {
     "data": {
      "text/plain": [
       "{'Common Names': ['Silvery Phacelia', 'sand dune phacelia'],\n",
       " 'States': ['California', 'Oregon']}"
      ]
     },
     "metadata": {},
     "output_type": "display_data"
    },
    {
     "name": "stdout",
     "output_type": "stream",
     "text": [
      "2005 SGCN Summary Data\n"
     ]
    },
    {
     "data": {
      "text/plain": [
       "{'Common Names': ['silvery phacelia'], 'States': ['Oregon']}"
      ]
     },
     "metadata": {},
     "output_type": "display_data"
    },
    {
     "name": "stdout",
     "output_type": "stream",
     "text": [
      "----------\n",
      "Scientific Name: Salvia penstemonoides\n",
      "Common Name: big red sage\n",
      "Lead FWS Region: R2\n",
      "Species Range (FWS): TX\n",
      "ECOS Link: https://ecos.fws.gov/ecp/species/8397\n",
      "2015 SGCN Summary Data\n"
     ]
    },
    {
     "data": {
      "text/plain": [
       "{'Common Names': ['Big red sage'], 'States': ['Texas']}"
      ]
     },
     "metadata": {},
     "output_type": "display_data"
    },
    {
     "name": "stdout",
     "output_type": "stream",
     "text": [
      "----------\n",
      "Scientific Name: Schoenoplectus hallii\n",
      "Common Name: Hall's bulrush\n",
      "Lead FWS Region: R3\n",
      "Species Range (FWS): GA, IA, IL, IN, KS, KY, MA, MI, MO, NE, OK, SC, TX, WI\n",
      "ECOS Link: https://ecos.fws.gov/ecp/species/883\n",
      "2015 SGCN Summary Data\n"
     ]
    },
    {
     "data": {
      "text/plain": [
       "{'Common Names': [\"Hall's Bulrush\"], 'States': ['Nebraska']}"
      ]
     },
     "metadata": {},
     "output_type": "display_data"
    },
    {
     "name": "stdout",
     "output_type": "stream",
     "text": [
      "----------\n",
      "Scientific Name: Scutellaria ocmulgee\n",
      "Common Name: Unnamed skullcap (Ocmulgee skullcap)\n",
      "Lead FWS Region: R4\n",
      "Species Range (FWS): GA, SC\n",
      "ECOS Link: https://ecos.fws.gov/ecp/species/6796\n",
      "2015 SGCN Summary Data\n"
     ]
    },
    {
     "data": {
      "text/plain": [
       "{'Common Names': ['Ocmulgee Skullcap Ã\\x82â\\x80\\x93 P'], 'States': ['Georgia']}"
      ]
     },
     "metadata": {},
     "output_type": "display_data"
    },
    {
     "name": "stdout",
     "output_type": "stream",
     "text": [
      "2005 SGCN Summary Data\n"
     ]
    },
    {
     "data": {
      "text/plain": [
       "{'Common Names': ['Ocmulgee Skullcap'], 'States': ['Georgia']}"
      ]
     },
     "metadata": {},
     "output_type": "display_data"
    },
    {
     "name": "stdout",
     "output_type": "stream",
     "text": [
      "----------\n",
      "Scientific Name: Solanum conocarpum\n",
      "Common Name: Marron bacora\n",
      "Lead FWS Region: R4\n",
      "Species Range (FWS): VI\n",
      "ECOS Link: https://ecos.fws.gov/ecp/species/2227\n",
      "2005 SGCN Summary Data\n"
     ]
    },
    {
     "data": {
      "text/plain": [
       "{'Common Names': ['Marron Bacora'], 'States': ['Virgin Islands']}"
      ]
     },
     "metadata": {},
     "output_type": "display_data"
    },
    {
     "name": "stdout",
     "output_type": "stream",
     "text": [
      "----------\n",
      "Scientific Name: Stellaria fontinalis\n",
      "Common Name: water stitchwort\n",
      "Lead FWS Region: R4\n",
      "Species Range (FWS): KY, TN\n",
      "ECOS Link: https://ecos.fws.gov/ecp/species/3157\n",
      "2015 SGCN Summary Data\n"
     ]
    },
    {
     "data": {
      "text/plain": [
       "{'Common Names': ['Water Stitchwort'], 'States': ['Tennessee']}"
      ]
     },
     "metadata": {},
     "output_type": "display_data"
    },
    {
     "name": "stdout",
     "output_type": "stream",
     "text": [
      "----------\n",
      "Scientific Name: Streptanthus bracteatus\n",
      "Common Name: bracted twistflower\n",
      "Lead FWS Region: R2\n",
      "Species Range (FWS): TX\n",
      "ECOS Link: https://ecos.fws.gov/ecp/species/2856\n",
      "2015 SGCN Summary Data\n"
     ]
    },
    {
     "data": {
      "text/plain": [
       "{'Common Names': ['Bracted twistflower'], 'States': ['Texas']}"
      ]
     },
     "metadata": {},
     "output_type": "display_data"
    },
    {
     "name": "stdout",
     "output_type": "stream",
     "text": [
      "----------\n",
      "Scientific Name: Acroneuria kosztarabi\n",
      "Common Name: Virginia stone\n",
      "Lead FWS Region: R5\n",
      "Species Range (FWS): KY, OH, VA\n",
      "ECOS Link: https://ecos.fws.gov/ecp/species/9914\n",
      "2015 SGCN Summary Data\n"
     ]
    },
    {
     "data": {
      "text/plain": [
       "{'Common Names': [\"Kosztarab's common stonefly\"], 'States': ['Virginia']}"
      ]
     },
     "metadata": {},
     "output_type": "display_data"
    },
    {
     "name": "stdout",
     "output_type": "stream",
     "text": [
      "2005 SGCN Summary Data\n"
     ]
    },
    {
     "data": {
      "text/plain": [
       "{'Common Names': ['Virginia stonefly'], 'States': ['Virginia']}"
      ]
     },
     "metadata": {},
     "output_type": "display_data"
    },
    {
     "name": "stdout",
     "output_type": "stream",
     "text": [
      "----------\n",
      "Scientific Name: Arsapnia arapahoe\n",
      "Common Name: Arapahoe snowfly\n",
      "Lead FWS Region: R6\n",
      "Species Range (FWS): CO\n",
      "ECOS Link: https://ecos.fws.gov/ecp/species/9141\n",
      "2005 SGCN Summary Data\n"
     ]
    },
    {
     "data": {
      "text/plain": [
       "{'Common Names': ['Arapahoe snowfly'], 'States': ['Colorado']}"
      ]
     },
     "metadata": {},
     "output_type": "display_data"
    },
    {
     "name": "stdout",
     "output_type": "stream",
     "text": [
      "----------\n",
      "Scientific Name: astylis species\n",
      "Common Name: Astylis sp. 1 (unnamed moth)\n",
      "Lead FWS Region: R2\n",
      "Species Range (FWS): AZ\n",
      "ECOS Link: https://ecos.fws.gov/ecp/species/8601\n",
      "2005 SGCN Summary Data\n"
     ]
    },
    {
     "data": {
      "text/plain": [
       "{'Common Names': ['Arapahoe snowfly'], 'States': ['Colorado']}"
      ]
     },
     "metadata": {},
     "output_type": "display_data"
    },
    {
     "name": "stdout",
     "output_type": "stream",
     "text": [
      "----------\n",
      "Scientific Name: Atlantea tulita\n",
      "Common Name: Puerto Rico harlequin butterfly\n",
      "Lead FWS Region: R4\n",
      "Species Range (FWS): PR\n",
      "ECOS Link: https://ecos.fws.gov/ecp/species/9005\n",
      "2005 SGCN Summary Data\n"
     ]
    },
    {
     "data": {
      "text/plain": [
       "{'Common Names': ['Arapahoe snowfly'], 'States': ['Colorado']}"
      ]
     },
     "metadata": {},
     "output_type": "display_data"
    },
    {
     "name": "stdout",
     "output_type": "stream",
     "text": [
      "----------\n",
      "Scientific Name: Atrytone arogos arogos\n",
      "Common Name: eastern beard-grass skipper\n",
      "Lead FWS Region: R5\n",
      "Species Range (FWS): AL, FL, GA, LA, MS, NC, NJ, NY, SC, VA\n",
      "ECOS Link: https://ecos.fws.gov/ecp/species/8270\n",
      "2015 SGCN Summary Data\n"
     ]
    },
    {
     "data": {
      "text/plain": [
       "{'Common Names': ['Arogos Skipper',\n",
       "  'Arogos skipper ',\n",
       "  'Eastern Aragos Skipper',\n",
       "  'Eastern Arogos Skipper'],\n",
       " 'States': ['Florida', 'Georgia', 'New Jersey', 'North Carolina', 'Virginia']}"
      ]
     },
     "metadata": {},
     "output_type": "display_data"
    },
    {
     "name": "stdout",
     "output_type": "stream",
     "text": [
      "2005 SGCN Summary Data\n"
     ]
    },
    {
     "data": {
      "text/plain": [
       "{'Common Names': ['Arogos Skipper', 'Arogos skipper'],\n",
       " 'States': ['Florida', 'New Jersey', 'New York', 'Virginia']}"
      ]
     },
     "metadata": {},
     "output_type": "display_data"
    },
    {
     "name": "stdout",
     "output_type": "stream",
     "text": [
      "----------\n",
      "Scientific Name: Bombus franklini\n",
      "Common Name: Franklin's bumblebee\n",
      "Lead FWS Region: R1\n",
      "Species Range (FWS): OR\n",
      "ECOS Link: https://ecos.fws.gov/ecp/species/7022\n",
      "2015 SGCN Summary Data\n"
     ]
    },
    {
     "data": {
      "text/plain": [
       "{'Common Names': [\"Franklin's Bumble Bee \", 'Franklinâ\\x80\\x99s bumble bee'],\n",
       " 'States': ['California', 'Oregon']}"
      ]
     },
     "metadata": {},
     "output_type": "display_data"
    },
    {
     "name": "stdout",
     "output_type": "stream",
     "text": [
      "2005 SGCN Summary Data\n"
     ]
    },
    {
     "data": {
      "text/plain": [
       "{'Common Names': [\"Franklin's Bumble Bee\"], 'States': ['California']}"
      ]
     },
     "metadata": {},
     "output_type": "display_data"
    },
    {
     "name": "stdout",
     "output_type": "stream",
     "text": [
      "----------\n",
      "Scientific Name: Bombus occidentalis\n",
      "Common Name: western bumble bee\n",
      "Lead FWS Region: R6\n",
      "Species Range (FWS): AZ, CA, CO, ID, MT, ND, NE, NM, NV, OR, SD, UT, WA, WY\n",
      "ECOS Link: nan\n",
      "2015 SGCN Summary Data\n"
     ]
    },
    {
     "data": {
      "text/plain": [
       "{'Common Names': ['Western Bumble Bee',\n",
       "  'Western Bumble Bee ',\n",
       "  'Western bumble bee',\n",
       "  'Western bumblebee',\n",
       "  'western bumble bee'],\n",
       " 'States': ['California',\n",
       "  'Colorado',\n",
       "  'Idaho',\n",
       "  'Nebraska',\n",
       "  'Oregon',\n",
       "  'Washington']}"
      ]
     },
     "metadata": {},
     "output_type": "display_data"
    },
    {
     "name": "stdout",
     "output_type": "stream",
     "text": [
      "2005 SGCN Summary Data\n"
     ]
    },
    {
     "data": {
      "text/plain": [
       "{'Common Names': ['Western Bumble Bee', 'Western bumblebee'],\n",
       " 'States': ['Alaska', 'California']}"
      ]
     },
     "metadata": {},
     "output_type": "display_data"
    },
    {
     "name": "stdout",
     "output_type": "stream",
     "text": [
      "----------\n",
      "Scientific Name: Bombus terricola\n",
      "Common Name: yellow banded bumblebee\n",
      "Lead FWS Region: R5\n",
      "Species Range (FWS): CT, IL, KY, MA, MD, ME, MI, MN, MT, NC, ND, NH, NJ, NY, OH, PA, RI, SD, TN, VA, VT, WV, WI, Canada\n",
      "ECOS Link: https://ecos.fws.gov/ecp/species/10403\n",
      "2015 SGCN Summary Data\n"
     ]
    },
    {
     "data": {
      "text/plain": [
       "{'Common Names': ['Yellow banded bumble bee',\n",
       "  'Yellow-banded Bumbee Bee',\n",
       "  'Yellow-banded Bumble Bee',\n",
       "  'Yellow-banded Bumble Bee ',\n",
       "  'Yellow-banded Bumblebee',\n",
       "  'Yellow-banded bumble bee',\n",
       "  'Yellowbanded Bumble Bee',\n",
       "  'Yellowbanded bumble bee'],\n",
       " 'States': ['Connecticut',\n",
       "  'Maine',\n",
       "  'Maryland',\n",
       "  'Massachusetts',\n",
       "  'Michigan',\n",
       "  'Minnesota',\n",
       "  'Nebraska',\n",
       "  'New Hampshire',\n",
       "  'New Jersey',\n",
       "  'New York',\n",
       "  'North Carolina',\n",
       "  'Pennsylvania',\n",
       "  'Rhode Island',\n",
       "  'Vermont',\n",
       "  'Virginia',\n",
       "  'Wisconsin']}"
      ]
     },
     "metadata": {},
     "output_type": "display_data"
    },
    {
     "name": "stdout",
     "output_type": "stream",
     "text": [
      "----------\n",
      "Scientific Name: Callophrys irus\n",
      "Common Name: frosted elfin butterfly\n",
      "Lead FWS Region: R5\n",
      "Species Range (FWS): AL, AR, CT, DC, DE, FL, GA, IL, IN, KS, KY, LA, MA, MD, MI, NC, NH, NJ, NY, OH, OK, PA, RI, SC, TN, TX, VA, VT, WI, WV, Canada\n",
      "ECOS Link: nan\n",
      "2015 SGCN Summary Data\n"
     ]
    },
    {
     "data": {
      "text/plain": [
       "{'Common Names': ['Frosted Elfin', 'Frosted elfin'],\n",
       " 'States': ['Connecticut',\n",
       "  'Delaware',\n",
       "  'Florida',\n",
       "  'Georgia',\n",
       "  'Louisiana',\n",
       "  'Massachusetts',\n",
       "  'New Jersey',\n",
       "  'New York',\n",
       "  'Pennsylvania',\n",
       "  'Tennessee',\n",
       "  'Virginia',\n",
       "  'West Virginia',\n",
       "  'Wisconsin']}"
      ]
     },
     "metadata": {},
     "output_type": "display_data"
    },
    {
     "name": "stdout",
     "output_type": "stream",
     "text": [
      "2005 SGCN Summary Data\n"
     ]
    },
    {
     "data": {
      "text/plain": [
       "{'Common Names': ['Frosted Elfin',\n",
       "  'Frosted Elfin ',\n",
       "  'Frosted elfin',\n",
       "  'frosted elfin'],\n",
       " 'States': ['Connecticut',\n",
       "  'Delaware',\n",
       "  'District of Columbia',\n",
       "  'Illinois',\n",
       "  'Indiana',\n",
       "  'Massachusetts',\n",
       "  'Michigan',\n",
       "  'New Jersey',\n",
       "  'New York',\n",
       "  'Pennsylvania',\n",
       "  'Rhode Island',\n",
       "  'Tennessee',\n",
       "  'Virginia',\n",
       "  'West Virginia',\n",
       "  'Wisconsin']}"
      ]
     },
     "metadata": {},
     "output_type": "display_data"
    },
    {
     "name": "stdout",
     "output_type": "stream",
     "text": [
      "----------\n",
      "Scientific Name: Cicindela marginipennis\n",
      "Common Name: cobblestone tiger beetle\n",
      "Lead FWS Region: R5\n",
      "Species Range (FWS): AL, IN, KY, MA, ME, NH, NJ, NY, OH, PA, SC, VT, WV, Canada\n",
      "ECOS Link: https://ecos.fws.gov/ecp/species/8134\n",
      "2015 SGCN Summary Data\n"
     ]
    },
    {
     "data": {
      "text/plain": [
       "{'Common Names': ['Cobblestone Tiger Beetle', 'Cobblestone tiger beetle'],\n",
       " 'States': ['Maine',\n",
       "  'Massachusetts',\n",
       "  'New Hampshire',\n",
       "  'New Jersey',\n",
       "  'New York',\n",
       "  'Pennsylvania',\n",
       "  'Vermont',\n",
       "  'West Virginia']}"
      ]
     },
     "metadata": {},
     "output_type": "display_data"
    },
    {
     "name": "stdout",
     "output_type": "stream",
     "text": [
      "2005 SGCN Summary Data\n"
     ]
    },
    {
     "data": {
      "text/plain": [
       "{'Common Names': ['Cobblestone Tiger Beetle',\n",
       "  'Cobblestone tiger beetle',\n",
       "  'cobblestone tiger beetle'],\n",
       " 'States': ['Indiana',\n",
       "  'Massachusetts',\n",
       "  'New Hampshire',\n",
       "  'New York',\n",
       "  'Pennsylvania',\n",
       "  'Vermont',\n",
       "  'West Virginia']}"
      ]
     },
     "metadata": {},
     "output_type": "display_data"
    },
    {
     "name": "stdout",
     "output_type": "stream",
     "text": [
      "----------\n",
      "Scientific Name: Cicindela theatina\n",
      "Common Name: Colorado tiger beetle\n",
      "Lead FWS Region: R6\n",
      "Species Range (FWS): CO\n",
      "ECOS Link: https://ecos.fws.gov/ecp/species/9982\n",
      "2015 SGCN Summary Data\n"
     ]
    },
    {
     "data": {
      "text/plain": [
       "{'Common Names': ['San Luis Dunes tiger beetle'], 'States': ['Colorado']}"
      ]
     },
     "metadata": {},
     "output_type": "display_data"
    },
    {
     "name": "stdout",
     "output_type": "stream",
     "text": [
      "2005 SGCN Summary Data\n"
     ]
    },
    {
     "data": {
      "text/plain": [
       "{'Common Names': ['San Luis Dunes tiger beetle'], 'States': ['Colorado']}"
      ]
     },
     "metadata": {},
     "output_type": "display_data"
    },
    {
     "name": "stdout",
     "output_type": "stream",
     "text": [
      "----------\n",
      "Scientific Name: Copablepharon fuscum\n",
      "Common Name: sand verbena moth\n",
      "Lead FWS Region: R1\n",
      "Species Range (FWS): WA\n",
      "ECOS Link: https://ecos.fws.gov/ecp/species/9053\n",
      "2015 SGCN Summary Data\n"
     ]
    },
    {
     "data": {
      "text/plain": [
       "{'Common Names': ['San Luis Dunes tiger beetle'], 'States': ['Colorado']}"
      ]
     },
     "metadata": {},
     "output_type": "display_data"
    },
    {
     "name": "stdout",
     "output_type": "stream",
     "text": [
      "2005 SGCN Summary Data\n"
     ]
    },
    {
     "data": {
      "text/plain": [
       "{'Common Names': ['San Luis Dunes tiger beetle'], 'States': ['Colorado']}"
      ]
     },
     "metadata": {},
     "output_type": "display_data"
    },
    {
     "name": "stdout",
     "output_type": "stream",
     "text": [
      "----------\n",
      "Scientific Name: Danaus plexippus plexippus\n",
      "Common Name: monarch butterfly\n",
      "Lead FWS Region: R3\n",
      "Species Range (FWS): AL, AR, AZ, CA, CO, CT, DC, DE, FL, GA, IA, ID, IL, IN, KS, KY, LA, MA, MD, ME, MI, MN, MO, MS, MT, NC, ND, NE, NH, NJ, NM, NV, NY, OH, OK, OR, PA, RI, SC, SD, TN, TX, UT, VA, VT, WA, WI, WV, WY\n",
      "ECOS Link: https://ecos.fws.gov/ecp/species/9743\n",
      "2015 SGCN Summary Data\n"
     ]
    },
    {
     "data": {
      "text/plain": [
       "{'Common Names': ['Monarch Butterfly '], 'States': ['Virginia']}"
      ]
     },
     "metadata": {},
     "output_type": "display_data"
    },
    {
     "name": "stdout",
     "output_type": "stream",
     "text": [
      "----------\n",
      "Scientific Name: Euchloe ausonides insulanus\n",
      "Common Name: Island marble butterfly\n",
      "Lead FWS Region: R1\n",
      "Species Range (FWS): WA\n",
      "ECOS Link: https://ecos.fws.gov/ecp/species/3285\n",
      "2015 SGCN Summary Data\n"
     ]
    },
    {
     "data": {
      "text/plain": [
       "{'Common Names': ['Island marble'], 'States': ['Washington']}"
      ]
     },
     "metadata": {},
     "output_type": "display_data"
    },
    {
     "name": "stdout",
     "output_type": "stream",
     "text": [
      "2005 SGCN Summary Data\n"
     ]
    },
    {
     "data": {
      "text/plain": [
       "{'Common Names': ['Island marble'], 'States': ['Washington']}"
      ]
     },
     "metadata": {},
     "output_type": "display_data"
    },
    {
     "name": "stdout",
     "output_type": "stream",
     "text": [
      "----------\n",
      "Scientific Name: Euphilotes ancilla cryptica\n",
      "Common Name: Euphilotes ancilla cryptica, Spring Mountains dark blue butterfly\n",
      "Lead FWS Region: R8\n",
      "Species Range (FWS): NV\n",
      "ECOS Link: https://ecos.fws.gov/ecp/species/9209\n",
      "2015 SGCN Summary Data\n"
     ]
    },
    {
     "data": {
      "text/plain": [
       "{'Common Names': ['Island marble'], 'States': ['Washington']}"
      ]
     },
     "metadata": {},
     "output_type": "display_data"
    },
    {
     "name": "stdout",
     "output_type": "stream",
     "text": [
      "2005 SGCN Summary Data\n"
     ]
    },
    {
     "data": {
      "text/plain": [
       "{'Common Names': ['Island marble'], 'States': ['Washington']}"
      ]
     },
     "metadata": {},
     "output_type": "display_data"
    },
    {
     "name": "stdout",
     "output_type": "stream",
     "text": [
      "----------\n",
      "Scientific Name: Euphyes dukesi calhouni\n",
      "Common Name: Dukes' skipper\n",
      "Lead FWS Region: R4\n",
      "Species Range (FWS): FL\n",
      "ECOS Link: https://ecos.fws.gov/ecp/species/9779\n",
      "2015 SGCN Summary Data\n"
     ]
    },
    {
     "data": {
      "text/plain": [
       "{'Common Names': [\"Calhoun's Skipper\"], 'States': ['Florida']}"
      ]
     },
     "metadata": {},
     "output_type": "display_data"
    },
    {
     "name": "stdout",
     "output_type": "stream",
     "text": [
      "----------\n",
      "Scientific Name: Euphyes pilatka klotsi\n",
      "Common Name: Palatka skipper or sawgrass skipper or Knot's skipper\n",
      "Lead FWS Region: R4\n",
      "Species Range (FWS): FL\n",
      "ECOS Link: https://ecos.fws.gov/ecp/species/9781\n",
      "2015 SGCN Summary Data\n"
     ]
    },
    {
     "data": {
      "text/plain": [
       "{'Common Names': [\"Klots' Skipper\"], 'States': ['Florida']}"
      ]
     },
     "metadata": {},
     "output_type": "display_data"
    },
    {
     "name": "stdout",
     "output_type": "stream",
     "text": [
      "2005 SGCN Summary Data\n"
     ]
    },
    {
     "data": {
      "text/plain": [
       "{'Common Names': ['Palatka Skipper (Keys population)'], 'States': ['Florida']}"
      ]
     },
     "metadata": {},
     "output_type": "display_data"
    },
    {
     "name": "stdout",
     "output_type": "stream",
     "text": [
      "----------\n",
      "Scientific Name: Haideoporus texanus\n",
      "Common Name: Texas cave (or Edwards Aquifer) diving beetle\n",
      "Lead FWS Region: R2\n",
      "Species Range (FWS): TX\n",
      "ECOS Link: https://ecos.fws.gov/ecp/species/5618\n",
      "2005 SGCN Summary Data\n"
     ]
    },
    {
     "data": {
      "text/plain": [
       "{'Common Names': ['Texas diving beetle'], 'States': ['Texas']}"
      ]
     },
     "metadata": {},
     "output_type": "display_data"
    },
    {
     "name": "stdout",
     "output_type": "stream",
     "text": [
      "----------\n",
      "Scientific Name: Hemileuca spp.\n",
      "Common Name: bog buck moth\n",
      "Lead FWS Region: R5\n",
      "Species Range (FWS): NY, WI, Canada\n",
      "ECOS Link: nan\n",
      "2005 SGCN Summary Data\n"
     ]
    },
    {
     "data": {
      "text/plain": [
       "{'Common Names': ['Bog buckmoth'], 'States': ['New York']}"
      ]
     },
     "metadata": {},
     "output_type": "display_data"
    },
    {
     "name": "stdout",
     "output_type": "stream",
     "text": [
      "----------\n",
      "Scientific Name: heterocampa amanda\n",
      "Common Name: Heterocampa sp. 1 nr.Amanda\n",
      "Lead FWS Region: R2\n",
      "Species Range (FWS): AZ\n",
      "ECOS Link: https://ecos.fws.gov/ecp/species/8768\n",
      "2005 SGCN Summary Data\n"
     ]
    },
    {
     "data": {
      "text/plain": [
       "{'Common Names': ['Texas diving beetle'], 'States': ['Texas']}"
      ]
     },
     "metadata": {},
     "output_type": "display_data"
    },
    {
     "name": "stdout",
     "output_type": "stream",
     "text": [
      "----------\n",
      "Scientific Name: Lycaena hermes\n",
      "Common Name: Hermes copper butterfly\n",
      "Lead FWS Region: R8\n",
      "Species Range (FWS): CA\n",
      "ECOS Link: https://ecos.fws.gov/ecp/species/4379\n",
      "2015 SGCN Summary Data\n"
     ]
    },
    {
     "data": {
      "text/plain": [
       "{'Common Names': ['Hermes copper butterfly'], 'States': ['California']}"
      ]
     },
     "metadata": {},
     "output_type": "display_data"
    },
    {
     "name": "stdout",
     "output_type": "stream",
     "text": [
      "2005 SGCN Summary Data\n"
     ]
    },
    {
     "data": {
      "text/plain": [
       "{'Common Names': ['Hermes Copper Butterfly'], 'States': ['California']}"
      ]
     },
     "metadata": {},
     "output_type": "display_data"
    },
    {
     "name": "stdout",
     "output_type": "stream",
     "text": [
      "----------\n",
      "Scientific Name: Optioservus phaeus\n",
      "Common Name: Scott Optioservus riffle beetle\n",
      "Lead FWS Region: R6\n",
      "Species Range (FWS): KS\n",
      "ECOS Link: https://ecos.fws.gov/ecp/species/3057\n",
      "2015 SGCN Summary Data\n"
     ]
    },
    {
     "data": {
      "text/plain": [
       "{'Common Names': ['Scott Optioservus Riffle Beetle'], 'States': ['Kansas']}"
      ]
     },
     "metadata": {},
     "output_type": "display_data"
    },
    {
     "name": "stdout",
     "output_type": "stream",
     "text": [
      "2005 SGCN Summary Data\n"
     ]
    },
    {
     "data": {
      "text/plain": [
       "{'Common Names': ['Scott Optioservus Beetle (E)'], 'States': ['Kansas']}"
      ]
     },
     "metadata": {},
     "output_type": "display_data"
    },
    {
     "name": "stdout",
     "output_type": "stream",
     "text": [
      "----------\n",
      "Scientific Name: Papaipema eryngii\n",
      "Common Name: rattlesnake-master borer moth\n",
      "Lead FWS Region: R3\n",
      "Species Range (FWS): AR, IA, IL, KY, MO, NC, OK\n",
      "ECOS Link: https://ecos.fws.gov/ecp/species/7863\n",
      "2015 SGCN Summary Data\n"
     ]
    },
    {
     "data": {
      "text/plain": [
       "{'Common Names': ['Scott Optioservus Riffle Beetle'], 'States': ['Kansas']}"
      ]
     },
     "metadata": {},
     "output_type": "display_data"
    },
    {
     "name": "stdout",
     "output_type": "stream",
     "text": [
      "2005 SGCN Summary Data\n"
     ]
    },
    {
     "data": {
      "text/plain": [
       "{'Common Names': ['Scott Optioservus Beetle (E)'], 'States': ['Kansas']}"
      ]
     },
     "metadata": {},
     "output_type": "display_data"
    },
    {
     "name": "stdout",
     "output_type": "stream",
     "text": [
      "----------\n",
      "Scientific Name: Pseudanophthalmus avernus\n",
      "Common Name: Avernus cave beetle\n",
      "Lead FWS Region: R5\n",
      "Species Range (FWS): VA\n",
      "ECOS Link: https://ecos.fws.gov/ecp0/profile/speciesProfile?spcode=I0J3\n",
      "2015 SGCN Summary Data\n"
     ]
    },
    {
     "data": {
      "text/plain": [
       "{'Common Names': ['Avernus cave beetle'], 'States': ['Virginia']}"
      ]
     },
     "metadata": {},
     "output_type": "display_data"
    },
    {
     "name": "stdout",
     "output_type": "stream",
     "text": [
      "2005 SGCN Summary Data\n"
     ]
    },
    {
     "data": {
      "text/plain": [
       "{'Common Names': ['Avernus cave beetle'], 'States': ['Virginia']}"
      ]
     },
     "metadata": {},
     "output_type": "display_data"
    },
    {
     "name": "stdout",
     "output_type": "stream",
     "text": [
      "----------\n",
      "Scientific Name: Pseudanophthalmus cordicollis\n",
      "Common Name: Little Kennedy cave beetle\n",
      "Lead FWS Region: R5\n",
      "Species Range (FWS): VA\n",
      "ECOS Link: https://ecos.fws.gov/ecp/species/6127\n",
      "2015 SGCN Summary Data\n"
     ]
    },
    {
     "data": {
      "text/plain": [
       "{'Common Names': ['Avernus cave beetle'], 'States': ['Virginia']}"
      ]
     },
     "metadata": {},
     "output_type": "display_data"
    },
    {
     "name": "stdout",
     "output_type": "stream",
     "text": [
      "2005 SGCN Summary Data\n"
     ]
    },
    {
     "data": {
      "text/plain": [
       "{'Common Names': ['Avernus cave beetle'], 'States': ['Virginia']}"
      ]
     },
     "metadata": {},
     "output_type": "display_data"
    },
    {
     "name": "stdout",
     "output_type": "stream",
     "text": [
      "----------\n",
      "Scientific Name: Pseudanophthalmus egberti\n",
      "Common Name: Narrow Cave (New River Valley Cave) beetle\n",
      "Lead FWS Region: R5\n",
      "Species Range (FWS): VA\n",
      "ECOS Link: https://ecos.fws.gov/ecp/species/2819\n",
      "2015 SGCN Summary Data\n"
     ]
    },
    {
     "data": {
      "text/plain": [
       "{'Common Names': ['New River Valley cave beetle'], 'States': ['Virginia']}"
      ]
     },
     "metadata": {},
     "output_type": "display_data"
    },
    {
     "name": "stdout",
     "output_type": "stream",
     "text": [
      "2005 SGCN Summary Data\n"
     ]
    },
    {
     "data": {
      "text/plain": [
       "{'Common Names': ['New River Valley cave beetle'], 'States': ['Virginia']}"
      ]
     },
     "metadata": {},
     "output_type": "display_data"
    },
    {
     "name": "stdout",
     "output_type": "stream",
     "text": [
      "----------\n",
      "Scientific Name: Pseudanophthalmus hirsutus\n",
      "Common Name: Cudjo's (Cumberland Gap) Cave beetle\n",
      "Lead FWS Region: R5\n",
      "Species Range (FWS): TN, VA\n",
      "ECOS Link: https://ecos.fws.gov/ecp0/profile/speciesProfile?spcode=I0JH\n",
      "2015 SGCN Summary Data\n"
     ]
    },
    {
     "data": {
      "text/plain": [
       "{'Common Names': ['Cumberland Gap cave beetle '], 'States': ['Virginia']}"
      ]
     },
     "metadata": {},
     "output_type": "display_data"
    },
    {
     "name": "stdout",
     "output_type": "stream",
     "text": [
      "2005 SGCN Summary Data\n"
     ]
    },
    {
     "data": {
      "text/plain": [
       "{'Common Names': ['Cumberland Gap cave beetle'], 'States': ['Virginia']}"
      ]
     },
     "metadata": {},
     "output_type": "display_data"
    },
    {
     "name": "stdout",
     "output_type": "stream",
     "text": [
      "----------\n",
      "Scientific Name: Pseudanophthalmus holsingeri\n",
      "Common Name: Holsinger's cave beetle\n",
      "Lead FWS Region: R5\n",
      "Species Range (FWS): VA\n",
      "ECOS Link: https://ecos.fws.gov/ecp/species/6531\n",
      "2015 SGCN Summary Data\n"
     ]
    },
    {
     "data": {
      "text/plain": [
       "{'Common Names': [\"Holsinger's cave beetle\"], 'States': ['Virginia']}"
      ]
     },
     "metadata": {},
     "output_type": "display_data"
    },
    {
     "name": "stdout",
     "output_type": "stream",
     "text": [
      "2005 SGCN Summary Data\n"
     ]
    },
    {
     "data": {
      "text/plain": [
       "{'Common Names': [\"Holsinger's cave beetle\"], 'States': ['Virginia']}"
      ]
     },
     "metadata": {},
     "output_type": "display_data"
    },
    {
     "name": "stdout",
     "output_type": "stream",
     "text": [
      "----------\n",
      "Scientific Name: Pseudanophthalmus hubbardi\n",
      "Common Name: Hubbard's cave beetle\n",
      "Lead FWS Region: R5\n",
      "Species Range (FWS): VA\n",
      "ECOS Link: https://ecos.fws.gov/ecp/species/1411\n",
      "2015 SGCN Summary Data\n"
     ]
    },
    {
     "data": {
      "text/plain": [
       "{'Common Names': [\"Hubbard's cave beetle\"], 'States': ['Virginia']}"
      ]
     },
     "metadata": {},
     "output_type": "display_data"
    },
    {
     "name": "stdout",
     "output_type": "stream",
     "text": [
      "2005 SGCN Summary Data\n"
     ]
    },
    {
     "data": {
      "text/plain": [
       "{'Common Names': [\"Hubbard's cave beetle\"], 'States': ['Virginia']}"
      ]
     },
     "metadata": {},
     "output_type": "display_data"
    },
    {
     "name": "stdout",
     "output_type": "stream",
     "text": [
      "----------\n",
      "Scientific Name: Pseudanophthalmus hubrichti\n",
      "Common Name: Hubricht's cave beetle\n",
      "Lead FWS Region: R5\n",
      "Species Range (FWS): VA\n",
      "ECOS Link: https://ecos.fws.gov/ecp/species/3401\n",
      "2015 SGCN Summary Data\n"
     ]
    },
    {
     "data": {
      "text/plain": [
       "{'Common Names': [\"Hubricht's cave beetle \"], 'States': ['Virginia']}"
      ]
     },
     "metadata": {},
     "output_type": "display_data"
    },
    {
     "name": "stdout",
     "output_type": "stream",
     "text": [
      "2005 SGCN Summary Data\n"
     ]
    },
    {
     "data": {
      "text/plain": [
       "{'Common Names': [\"Hubricht's cave beetle\"], 'States': ['Virginia']}"
      ]
     },
     "metadata": {},
     "output_type": "display_data"
    },
    {
     "name": "stdout",
     "output_type": "stream",
     "text": [
      "----------\n",
      "Scientific Name: Pseudanophthalmus intersectus\n",
      "Common Name: Crossroads cave beetle\n",
      "Lead FWS Region: R5\n",
      "Species Range (FWS): VA\n",
      "ECOS Link: https://ecos.fws.gov/ecp/species/6128\n",
      "2015 SGCN Summary Data\n"
     ]
    },
    {
     "data": {
      "text/plain": [
       "{'Common Names': ['Crossroads Cave beetle '], 'States': ['Virginia']}"
      ]
     },
     "metadata": {},
     "output_type": "display_data"
    },
    {
     "name": "stdout",
     "output_type": "stream",
     "text": [
      "2005 SGCN Summary Data\n"
     ]
    },
    {
     "data": {
      "text/plain": [
       "{'Common Names': ['Crossroads Cave beetle'], 'States': ['Virginia']}"
      ]
     },
     "metadata": {},
     "output_type": "display_data"
    },
    {
     "name": "stdout",
     "output_type": "stream",
     "text": [
      "----------\n",
      "Scientific Name: Pseudanophthalmus limicola\n",
      "Common Name: Shenandoah (Madden's) Cave beetle\n",
      "Lead FWS Region: R5\n",
      "Species Range (FWS): VA\n",
      "ECOS Link: https://ecos.fws.gov/ecp/species/6075\n",
      "2015 SGCN Summary Data\n"
     ]
    },
    {
     "data": {
      "text/plain": [
       "{'Common Names': ['Crossroads Cave beetle '], 'States': ['Virginia']}"
      ]
     },
     "metadata": {},
     "output_type": "display_data"
    },
    {
     "name": "stdout",
     "output_type": "stream",
     "text": [
      "2005 SGCN Summary Data\n"
     ]
    },
    {
     "data": {
      "text/plain": [
       "{'Common Names': ['Crossroads Cave beetle'], 'States': ['Virginia']}"
      ]
     },
     "metadata": {},
     "output_type": "display_data"
    },
    {
     "name": "stdout",
     "output_type": "stream",
     "text": [
      "----------\n",
      "Scientific Name: Pseudanophthalmus montanus\n",
      "Common Name: Dry Fork Valley cave beetle\n",
      "Lead FWS Region: R5\n",
      "Species Range (FWS): WV\n",
      "ECOS Link: https://ecos.fws.gov/ecp/species/3142\n",
      "2015 SGCN Summary Data\n"
     ]
    },
    {
     "data": {
      "text/plain": [
       "{'Common Names': ['Dry Fork Valley Cave Beetle'], 'States': ['West Virginia']}"
      ]
     },
     "metadata": {},
     "output_type": "display_data"
    },
    {
     "name": "stdout",
     "output_type": "stream",
     "text": [
      "2005 SGCN Summary Data\n"
     ]
    },
    {
     "data": {
      "text/plain": [
       "{'Common Names': ['Dry Fork Valley Cave Beetle'], 'States': ['West Virginia']}"
      ]
     },
     "metadata": {},
     "output_type": "display_data"
    },
    {
     "name": "stdout",
     "output_type": "stream",
     "text": [
      "----------\n",
      "Scientific Name: Pseudanophthalmus parvicollis\n",
      "Common Name: thin-necked cave beetle\n",
      "Lead FWS Region: R5\n",
      "Species Range (FWS): VA\n",
      "ECOS Link: https://ecos.fws.gov/ecp/species/8016\n",
      "2015 SGCN Summary Data\n"
     ]
    },
    {
     "data": {
      "text/plain": [
       "{'Common Names': ['Thin-neck cave beetle'], 'States': ['Virginia']}"
      ]
     },
     "metadata": {},
     "output_type": "display_data"
    },
    {
     "name": "stdout",
     "output_type": "stream",
     "text": [
      "2005 SGCN Summary Data\n"
     ]
    },
    {
     "data": {
      "text/plain": [
       "{'Common Names': ['Thin-neck cave beetle'], 'States': ['Virginia']}"
      ]
     },
     "metadata": {},
     "output_type": "display_data"
    },
    {
     "name": "stdout",
     "output_type": "stream",
     "text": [
      "----------\n",
      "Scientific Name: Pseudanophthalmus pontis\n",
      "Common Name: Natural Bridge cave beetle\n",
      "Lead FWS Region: R5\n",
      "Species Range (FWS): VA\n",
      "ECOS Link: https://ecos.fws.gov/ecp/species/8223\n",
      "2015 SGCN Summary Data\n"
     ]
    },
    {
     "data": {
      "text/plain": [
       "{'Common Names': ['Natural Bridge cave beetle '], 'States': ['Virginia']}"
      ]
     },
     "metadata": {},
     "output_type": "display_data"
    },
    {
     "name": "stdout",
     "output_type": "stream",
     "text": [
      "2005 SGCN Summary Data\n"
     ]
    },
    {
     "data": {
      "text/plain": [
       "{'Common Names': ['Natural Bridge cave beetle'], 'States': ['Virginia']}"
      ]
     },
     "metadata": {},
     "output_type": "display_data"
    },
    {
     "name": "stdout",
     "output_type": "stream",
     "text": [
      "----------\n",
      "Scientific Name: Pseudanophthalmus potomaca potomaca\n",
      "Common Name: South Branch Valley cave beetle\n",
      "Lead FWS Region: R5\n",
      "Species Range (FWS): VA, WV\n",
      "ECOS Link: https://ecos.fws.gov/ecp/species/1791\n",
      "2015 SGCN Summary Data\n"
     ]
    },
    {
     "data": {
      "text/plain": [
       "{'Common Names': ['Natural Bridge cave beetle '], 'States': ['Virginia']}"
      ]
     },
     "metadata": {},
     "output_type": "display_data"
    },
    {
     "name": "stdout",
     "output_type": "stream",
     "text": [
      "2005 SGCN Summary Data\n"
     ]
    },
    {
     "data": {
      "text/plain": [
       "{'Common Names': ['Natural Bridge cave beetle'], 'States': ['Virginia']}"
      ]
     },
     "metadata": {},
     "output_type": "display_data"
    },
    {
     "name": "stdout",
     "output_type": "stream",
     "text": [
      "----------\n",
      "Scientific Name: Pseudanophthalmus praetermissus\n",
      "Common Name: overlooked cave beetle\n",
      "Lead FWS Region: R5\n",
      "Species Range (FWS): VA\n",
      "ECOS Link: https://ecos.fws.gov/ecp/species/7174\n",
      "2015 SGCN Summary Data\n"
     ]
    },
    {
     "data": {
      "text/plain": [
       "{'Common Names': ['Natural Bridge cave beetle '], 'States': ['Virginia']}"
      ]
     },
     "metadata": {},
     "output_type": "display_data"
    },
    {
     "name": "stdout",
     "output_type": "stream",
     "text": [
      "2005 SGCN Summary Data\n"
     ]
    },
    {
     "data": {
      "text/plain": [
       "{'Common Names': ['Natural Bridge cave beetle'], 'States': ['Virginia']}"
      ]
     },
     "metadata": {},
     "output_type": "display_data"
    },
    {
     "name": "stdout",
     "output_type": "stream",
     "text": [
      "----------\n",
      "Scientific Name: Pseudanophthalmus sanctipauli\n",
      "Common Name: Saint Paul cave beetle\n",
      "Lead FWS Region: R5\n",
      "Species Range (FWS): VA\n",
      "ECOS Link: https://ecos.fws.gov/ecp/species/8537\n",
      "2015 SGCN Summary Data\n"
     ]
    },
    {
     "data": {
      "text/plain": [
       "{'Common Names': ['Natural Bridge cave beetle '], 'States': ['Virginia']}"
      ]
     },
     "metadata": {},
     "output_type": "display_data"
    },
    {
     "name": "stdout",
     "output_type": "stream",
     "text": [
      "2005 SGCN Summary Data\n"
     ]
    },
    {
     "data": {
      "text/plain": [
       "{'Common Names': ['Natural Bridge cave beetle'], 'States': ['Virginia']}"
      ]
     },
     "metadata": {},
     "output_type": "display_data"
    },
    {
     "name": "stdout",
     "output_type": "stream",
     "text": [
      "----------\n",
      "Scientific Name: Pseudanophthalmus sericus\n",
      "Common Name: silken cave beetle\n",
      "Lead FWS Region: R5\n",
      "Species Range (FWS): VA\n",
      "ECOS Link: https://ecos.fws.gov/ecp/species/5059\n",
      "2015 SGCN Summary Data\n"
     ]
    },
    {
     "data": {
      "text/plain": [
       "{'Common Names': ['Natural Bridge cave beetle '], 'States': ['Virginia']}"
      ]
     },
     "metadata": {},
     "output_type": "display_data"
    },
    {
     "name": "stdout",
     "output_type": "stream",
     "text": [
      "2005 SGCN Summary Data\n"
     ]
    },
    {
     "data": {
      "text/plain": [
       "{'Common Names': ['Natural Bridge cave beetle'], 'States': ['Virginia']}"
      ]
     },
     "metadata": {},
     "output_type": "display_data"
    },
    {
     "name": "stdout",
     "output_type": "stream",
     "text": [
      "----------\n",
      "Scientific Name: Pseudanophthalmus thomasi\n",
      "Common Name: Thomas' cave beetle\n",
      "Lead FWS Region: R5\n",
      "Species Range (FWS): VA\n",
      "ECOS Link: https://ecos.fws.gov/ecp/species/7025\n",
      "2015 SGCN Summary Data\n"
     ]
    },
    {
     "data": {
      "text/plain": [
       "{'Common Names': ['Natural Bridge cave beetle '], 'States': ['Virginia']}"
      ]
     },
     "metadata": {},
     "output_type": "display_data"
    },
    {
     "name": "stdout",
     "output_type": "stream",
     "text": [
      "2005 SGCN Summary Data\n"
     ]
    },
    {
     "data": {
      "text/plain": [
       "{'Common Names': ['Natural Bridge cave beetle'], 'States': ['Virginia']}"
      ]
     },
     "metadata": {},
     "output_type": "display_data"
    },
    {
     "name": "stdout",
     "output_type": "stream",
     "text": [
      "----------\n",
      "Scientific Name: Pseudanophthalmus virginicus\n",
      "Common Name: Maiden Spring cave beetle\n",
      "Lead FWS Region: R5\n",
      "Species Range (FWS): VA\n",
      "ECOS Link: https://ecos.fws.gov/ecp/species/5654\n",
      "2015 SGCN Summary Data\n"
     ]
    },
    {
     "data": {
      "text/plain": [
       "{'Common Names': ['Natural Bridge cave beetle '], 'States': ['Virginia']}"
      ]
     },
     "metadata": {},
     "output_type": "display_data"
    },
    {
     "name": "stdout",
     "output_type": "stream",
     "text": [
      "2005 SGCN Summary Data\n"
     ]
    },
    {
     "data": {
      "text/plain": [
       "{'Common Names': ['Natural Bridge cave beetle'], 'States': ['Virginia']}"
      ]
     },
     "metadata": {},
     "output_type": "display_data"
    },
    {
     "name": "stdout",
     "output_type": "stream",
     "text": [
      "----------\n",
      "Scientific Name: Remenus kirchneri\n",
      "Common Name: Blueridge springfly\n",
      "Lead FWS Region: R5\n",
      "Species Range (FWS): VA\n",
      "ECOS Link: https://ecos.fws.gov/ecp/species/9869\n",
      "2015 SGCN Summary Data\n"
     ]
    },
    {
     "data": {
      "text/plain": [
       "{'Common Names': ['Blue Ridge springfly'], 'States': ['Virginia']}"
      ]
     },
     "metadata": {},
     "output_type": "display_data"
    },
    {
     "name": "stdout",
     "output_type": "stream",
     "text": [
      "2005 SGCN Summary Data\n"
     ]
    },
    {
     "data": {
      "text/plain": [
       "{'Common Names': ['Blue Ridge springfly'], 'States': ['Virginia']}"
      ]
     },
     "metadata": {},
     "output_type": "display_data"
    },
    {
     "name": "stdout",
     "output_type": "stream",
     "text": [
      "----------\n",
      "Scientific Name: Rhaphiomidas trochilus\n",
      "Common Name: San Joaquin Valley giant flower-loving fly\n",
      "Lead FWS Region: R8\n",
      "Species Range (FWS): CA\n",
      "ECOS Link: https://ecos.fws.gov/ecp/species/218\n",
      "2015 SGCN Summary Data\n"
     ]
    },
    {
     "data": {
      "text/plain": [
       "{'Common Names': ['Valley mydas fly'], 'States': ['California']}"
      ]
     },
     "metadata": {},
     "output_type": "display_data"
    },
    {
     "name": "stdout",
     "output_type": "stream",
     "text": [
      "----------\n",
      "Scientific Name: Somatochlora margarita\n",
      "Common Name: Big Thicket Texas emerald\n",
      "Lead FWS Region: R2\n",
      "Species Range (FWS): LA, TX\n",
      "ECOS Link: https://ecos.fws.gov/ecp/species/7553\n",
      "2015 SGCN Summary Data\n"
     ]
    },
    {
     "data": {
      "text/plain": [
       "{'Common Names': ['Texas Emerald', 'Texas emerald '],\n",
       " 'States': ['Louisiana', 'Texas']}"
      ]
     },
     "metadata": {},
     "output_type": "display_data"
    },
    {
     "name": "stdout",
     "output_type": "stream",
     "text": [
      "2005 SGCN Summary Data\n"
     ]
    },
    {
     "data": {
      "text/plain": [
       "{'Common Names': ['Texas emerald (dragonfly)'], 'States': ['Texas']}"
      ]
     },
     "metadata": {},
     "output_type": "display_data"
    },
    {
     "name": "stdout",
     "output_type": "stream",
     "text": [
      "----------\n",
      "Scientific Name: Speyeria idalia\n",
      "Common Name: regal fritillary\n",
      "Lead FWS Region: R6\n",
      "Species Range (FWS): AR, CO, CT, DE, IA, IL, IN, KS, KY, MA, MD, ME, MI, MN, MO, NC, ND, NE, NH, NJ, NY, OH, OK, PA, RI, SD, VA, VT, WI, WV, WY\n",
      "ECOS Link: https://ecos.fws.gov/ecp/species/8145\n",
      "2015 SGCN Summary Data\n"
     ]
    },
    {
     "data": {
      "text/plain": [
       "{'Common Names': ['Regal Fritillary', 'Regal fritillary', 'regal fritillary'],\n",
       " 'States': ['Colorado',\n",
       "  'Connecticut',\n",
       "  'Delaware',\n",
       "  'Illinois',\n",
       "  'Iowa',\n",
       "  'Kansas',\n",
       "  'Minnesota',\n",
       "  'Missouri',\n",
       "  'Nebraska',\n",
       "  'New Jersey',\n",
       "  'North Dakota',\n",
       "  'Ohio',\n",
       "  'Oklahoma',\n",
       "  'Pennsylvania',\n",
       "  'South Dakota',\n",
       "  'Vermont',\n",
       "  'West Virginia',\n",
       "  'Wisconsin']}"
      ]
     },
     "metadata": {},
     "output_type": "display_data"
    },
    {
     "name": "stdout",
     "output_type": "stream",
     "text": [
      "2005 SGCN Summary Data\n"
     ]
    },
    {
     "data": {
      "text/plain": [
       "{'Common Names': ['Regal Fritillary',\n",
       "  'Regal Fritillary ',\n",
       "  'Regal Fritillary Butterfly',\n",
       "  'Regal fritillary',\n",
       "  'regal fritillary'],\n",
       " 'States': ['Colorado',\n",
       "  'Connecticut',\n",
       "  'Delaware',\n",
       "  'District of Columbia',\n",
       "  'Illinois',\n",
       "  'Iowa',\n",
       "  'Kansas',\n",
       "  'Maryland',\n",
       "  'Michigan',\n",
       "  'Minnesota',\n",
       "  'Missouri',\n",
       "  'Nebraska',\n",
       "  'New York',\n",
       "  'Ohio',\n",
       "  'Oklahoma',\n",
       "  'Pennsylvania',\n",
       "  'Rhode Island',\n",
       "  'South Dakota',\n",
       "  'Vermont',\n",
       "  'Virginia',\n",
       "  'West Virginia',\n",
       "  'Wisconsin']}"
      ]
     },
     "metadata": {},
     "output_type": "display_data"
    },
    {
     "name": "stdout",
     "output_type": "stream",
     "text": [
      "----------\n",
      "Scientific Name: Speyeria nokomis nokomis\n",
      "Common Name: Great Basin silverspot\n",
      "Lead FWS Region: R6\n",
      "Species Range (FWS): AZ, CO, NM, UT\n",
      "ECOS Link: https://ecos.fws.gov/ecp/species/2813\n",
      "2015 SGCN Summary Data\n"
     ]
    },
    {
     "data": {
      "text/plain": [
       "{'Common Names': ['Great Basin silverspot butterfly'], 'States': ['Colorado']}"
      ]
     },
     "metadata": {},
     "output_type": "display_data"
    },
    {
     "name": "stdout",
     "output_type": "stream",
     "text": [
      "2005 SGCN Summary Data\n"
     ]
    },
    {
     "data": {
      "text/plain": [
       "{'Common Names': ['Great Basin silverspot butterfly', 'Nokomis Fritillary'],\n",
       " 'States': ['Colorado', 'New Mexico']}"
      ]
     },
     "metadata": {},
     "output_type": "display_data"
    },
    {
     "name": "stdout",
     "output_type": "stream",
     "text": [
      "----------\n",
      "Scientific Name: Tallaperla lobata\n",
      "Common Name: lobed roachfly\n",
      "Lead FWS Region: R5\n",
      "Species Range (FWS): VA\n",
      "ECOS Link: https://ecos.fws.gov/ecp/species/9924\n",
      "2015 SGCN Summary Data\n"
     ]
    },
    {
     "data": {
      "text/plain": [
       "{'Common Names': ['Lobed roachfly'], 'States': ['Virginia']}"
      ]
     },
     "metadata": {},
     "output_type": "display_data"
    },
    {
     "name": "stdout",
     "output_type": "stream",
     "text": [
      "2005 SGCN Summary Data\n"
     ]
    },
    {
     "data": {
      "text/plain": [
       "{'Common Names': ['Lobed roachfly'], 'States': ['Virginia']}"
      ]
     },
     "metadata": {},
     "output_type": "display_data"
    },
    {
     "name": "stdout",
     "output_type": "stream",
     "text": [
      "----------\n",
      "Scientific Name: Alces alces andersoni\n",
      "Common Name: northwestern moose\n",
      "Lead FWS Region: R3\n",
      "Species Range (FWS): MI, MN, ND, WI\n",
      "ECOS Link: nan\n",
      "2015 SGCN Summary Data\n"
     ]
    },
    {
     "data": {
      "text/plain": [
       "{'Common Names': ['Moose'], 'States': ['Maine']}"
      ]
     },
     "metadata": {},
     "output_type": "display_data"
    },
    {
     "name": "stdout",
     "output_type": "stream",
     "text": [
      "----------\n",
      "Scientific Name: Arborimus longicaudus\n",
      "Common Name: red tree vole\n",
      "Lead FWS Region: R1\n",
      "Species Range (FWS): OR\n",
      "ECOS Link: https://ecos.fws.gov/ecp0/profile/speciesProfile?spcode=A0J3\n",
      "2015 SGCN Summary Data\n"
     ]
    },
    {
     "data": {
      "text/plain": [
       "{'Common Names': ['Red Tree Vole'], 'States': ['Oregon']}"
      ]
     },
     "metadata": {},
     "output_type": "display_data"
    },
    {
     "name": "stdout",
     "output_type": "stream",
     "text": [
      "2005 SGCN Summary Data\n"
     ]
    },
    {
     "data": {
      "text/plain": [
       "{'Common Names': ['red tree vole'], 'States': ['Oregon']}"
      ]
     },
     "metadata": {},
     "output_type": "display_data"
    },
    {
     "name": "stdout",
     "output_type": "stream",
     "text": [
      "----------\n",
      "Scientific Name: Cynomys leucurus\n",
      "Common Name: white-tailed prairie dog\n",
      "Lead FWS Region: R6\n",
      "Species Range (FWS): CO, MT, UT, WY\n",
      "ECOS Link: https://ecos.fws.gov/ecp/species/7401\n",
      "2015 SGCN Summary Data\n"
     ]
    },
    {
     "data": {
      "text/plain": [
       "{'Common Names': ['White-tailed Prairie Dog', 'White-tailed prairie dog'],\n",
       " 'States': ['Colorado', 'Montana', 'Utah']}"
      ]
     },
     "metadata": {},
     "output_type": "display_data"
    },
    {
     "name": "stdout",
     "output_type": "stream",
     "text": [
      "2005 SGCN Summary Data\n"
     ]
    },
    {
     "data": {
      "text/plain": [
       "{'Common Names': ['White-tailed Prairie Dog',\n",
       "  'White-tailed Prairie-dog',\n",
       "  'White-tailed prairie dog'],\n",
       " 'States': ['Colorado', 'Montana', 'Utah', 'Wyoming']}"
      ]
     },
     "metadata": {},
     "output_type": "display_data"
    },
    {
     "name": "stdout",
     "output_type": "stream",
     "text": [
      "----------\n",
      "Scientific Name: Dipodomys elator\n",
      "Common Name: Texas kangaroo rat\n",
      "Lead FWS Region: R2\n",
      "Species Range (FWS): TX\n",
      "ECOS Link: https://ecos.fws.gov/ecp/species/2985\n",
      "2015 SGCN Summary Data\n"
     ]
    },
    {
     "data": {
      "text/plain": [
       "{'Common Names': ['Texas Kangaroo Rat ', 'Texas kangaroo rat'],\n",
       " 'States': ['Oklahoma', 'Texas']}"
      ]
     },
     "metadata": {},
     "output_type": "display_data"
    },
    {
     "name": "stdout",
     "output_type": "stream",
     "text": [
      "2005 SGCN Summary Data\n"
     ]
    },
    {
     "data": {
      "text/plain": [
       "{'Common Names': ['Texas Kangaroo Rat', 'Texas kangaroo rat'],\n",
       " 'States': ['Oklahoma', 'Texas']}"
      ]
     },
     "metadata": {},
     "output_type": "display_data"
    },
    {
     "name": "stdout",
     "output_type": "stream",
     "text": [
      "----------\n",
      "Scientific Name: Martes pennanti\n",
      "Common Name: Fisher (Northern Rocky Mountains population)\n",
      "Lead FWS Region: R6\n",
      "Species Range (FWS): MT, ID, (WY - accidental)\n",
      "ECOS Link: https://ecos.fws.gov/ecp/species/3651\n",
      "2015 SGCN Summary Data\n"
     ]
    },
    {
     "data": {
      "text/plain": [
       "{'Common Names': ['Fisher'], 'States': ['New Jersey', 'Tennessee', 'Wyoming']}"
      ]
     },
     "metadata": {},
     "output_type": "display_data"
    },
    {
     "name": "stdout",
     "output_type": "stream",
     "text": [
      "2005 SGCN Summary Data\n"
     ]
    },
    {
     "data": {
      "text/plain": [
       "{'Common Names': ['Fisher', 'Fisher ', 'fisher'],\n",
       " 'States': ['Idaho',\n",
       "  'Montana',\n",
       "  'North Carolina',\n",
       "  'Ohio',\n",
       "  'Oregon',\n",
       "  'Tennessee',\n",
       "  'Virginia',\n",
       "  'Wyoming']}"
      ]
     },
     "metadata": {},
     "output_type": "display_data"
    },
    {
     "name": "stdout",
     "output_type": "stream",
     "text": [
      "----------\n",
      "Scientific Name: Myotis lucifugus\n",
      "Common Name: little brown bat\n",
      "Lead FWS Region: R3\n",
      "Species Range (FWS): AK, AL, AR, CA, CO, CT, DC, DE, FL, GA, IA, ID, IL, IN, KS, KY, MA, MD, ME, MI, MN, MO, MS, MT, NC, ND, NE, NH, NJ, NM, NV, NY, OH, OK, OR, PA, RI, SC, SD, TN, UT, VA, VT, WA, WI, WV, WY\n",
      "ECOS Link: https://ecos.fws.gov/ecp/species/9051\n",
      "2005 SGCN Summary Data\n"
     ]
    },
    {
     "data": {
      "text/plain": [
       "{'Common Names': ['little brown myotis'], 'States': ['Nevada']}"
      ]
     },
     "metadata": {},
     "output_type": "display_data"
    },
    {
     "name": "stdout",
     "output_type": "stream",
     "text": [
      "----------\n",
      "Scientific Name: Spilogale putorius interrupta\n",
      "Common Name: plains spotted skunk\n",
      "Lead FWS Region: R3\n",
      "Species Range (FWS): AR, CO, MN, MO, NE, OK, SD, TX, WY\n",
      "ECOS Link: https://ecos.fws.gov/ecp/species/2984\n",
      "2015 SGCN Summary Data\n"
     ]
    },
    {
     "data": {
      "text/plain": [
       "{'Common Names': ['Plains spotted skunk'], 'States': ['Missouri']}"
      ]
     },
     "metadata": {},
     "output_type": "display_data"
    },
    {
     "name": "stdout",
     "output_type": "stream",
     "text": [
      "2005 SGCN Summary Data\n"
     ]
    },
    {
     "data": {
      "text/plain": [
       "{'Common Names': ['Plains Spotted Skunk'], 'States': ['Missouri']}"
      ]
     },
     "metadata": {},
     "output_type": "display_data"
    },
    {
     "name": "stdout",
     "output_type": "stream",
     "text": [
      "----------\n",
      "Scientific Name: Tamias minimus atristriatus\n",
      "Common Name: Penasco least chipmunk\n",
      "Lead FWS Region: R2\n",
      "Species Range (FWS): NM\n",
      "ECOS Link: https://ecos.fws.gov/ecp/species/5126\n",
      "2015 SGCN Summary Data\n"
     ]
    },
    {
     "data": {
      "text/plain": [
       "{'Common Names': ['Penasco Least Chipmunk'], 'States': ['New Mexico']}"
      ]
     },
     "metadata": {},
     "output_type": "display_data"
    },
    {
     "name": "stdout",
     "output_type": "stream",
     "text": [
      "----------\n",
      "Scientific Name: Vulpes vulpes necator\n",
      "Common Name: Sierra Nevada red fox\n",
      "Lead FWS Region: R8\n",
      "Species Range (FWS): CA, OR\n",
      "ECOS Link: https://ecos.fws.gov/ecp/species/4252\n",
      "2015 SGCN Summary Data\n"
     ]
    },
    {
     "data": {
      "text/plain": [
       "{'Common Names': ['Sierra Nevada Red Fox', 'Sierra Nevada red fox'],\n",
       " 'States': ['California', 'Oregon']}"
      ]
     },
     "metadata": {},
     "output_type": "display_data"
    },
    {
     "name": "stdout",
     "output_type": "stream",
     "text": [
      "2005 SGCN Summary Data\n"
     ]
    },
    {
     "data": {
      "text/plain": [
       "{'Common Names': ['Sierra Nevada Red Fox', 'Sierra Nevada red fox'],\n",
       " 'States': ['California', 'Nevada']}"
      ]
     },
     "metadata": {},
     "output_type": "display_data"
    },
    {
     "name": "stdout",
     "output_type": "stream",
     "text": [
      "----------\n",
      "Scientific Name: Megaceros aenigmaticus\n",
      "Common Name: hornwort\n",
      "Lead FWS Region: R4\n",
      "Species Range (FWS): GA, NC, TN\n",
      "ECOS Link: https://ecos.fws.gov/ecp0/profile/speciesProfile?spcode=S02V\n",
      "2015 SGCN Summary Data\n"
     ]
    },
    {
     "data": {
      "text/plain": [
       "{'Common Names': ['Headwaters Hornwort', 'Megaceros'],\n",
       " 'States': ['Georgia', 'Tennessee']}"
      ]
     },
     "metadata": {},
     "output_type": "display_data"
    },
    {
     "name": "stdout",
     "output_type": "stream",
     "text": [
      "----------\n",
      "Scientific Name: Plagiochila caduciloba\n",
      "Common Name: Gorge leafy liverwort\n",
      "Lead FWS Region: R4\n",
      "Species Range (FWS): NC\n",
      "ECOS Link: https://ecos.fws.gov/ecp/species/8100\n",
      "2015 SGCN Summary Data\n"
     ]
    },
    {
     "data": {
      "text/plain": [
       "{'Common Names': ['Brittle-Lobed Leafy Liverwort', 'Gorge Leafy Liverwort'],\n",
       " 'States': ['Georgia', 'South Carolina']}"
      ]
     },
     "metadata": {},
     "output_type": "display_data"
    },
    {
     "name": "stdout",
     "output_type": "stream",
     "text": [
      "2005 SGCN Summary Data\n"
     ]
    },
    {
     "data": {
      "text/plain": [
       "{'Common Names': ['Brittle-Lobed Plagiochila'], 'States': ['Georgia']}"
      ]
     },
     "metadata": {},
     "output_type": "display_data"
    },
    {
     "name": "stdout",
     "output_type": "stream",
     "text": [
      "----------\n",
      "Scientific Name: Actinemys marmorata\n",
      "Common Name: western pond turtle\n",
      "Lead FWS Region: R8\n",
      "Species Range (FWS): CA, OR, WA, Mexico\n",
      "ECOS Link: https://ecos.fws.gov/ecp/species/1833\n",
      "2015 SGCN Summary Data\n"
     ]
    },
    {
     "data": {
      "text/plain": [
       "{'Common Names': ['Western pond turtle'], 'States': ['Washington']}"
      ]
     },
     "metadata": {},
     "output_type": "display_data"
    },
    {
     "name": "stdout",
     "output_type": "stream",
     "text": [
      "2005 SGCN Summary Data\n"
     ]
    },
    {
     "data": {
      "text/plain": [
       "{'Common Names': ['Western pond turtle'], 'States': ['Washington']}"
      ]
     },
     "metadata": {},
     "output_type": "display_data"
    },
    {
     "name": "stdout",
     "output_type": "stream",
     "text": [
      "----------\n",
      "Scientific Name: aspidoscelis arizonae\n",
      "Common Name: Arizona striped whiptail\n",
      "Lead FWS Region: R2\n",
      "Species Range (FWS): AZ\n",
      "ECOS Link: https://ecos.fws.gov/ecp/species/8793\n",
      "2015 SGCN Summary Data\n"
     ]
    },
    {
     "data": {
      "text/plain": [
       "{'Common Names': ['Western pond turtle'], 'States': ['Washington']}"
      ]
     },
     "metadata": {},
     "output_type": "display_data"
    },
    {
     "name": "stdout",
     "output_type": "stream",
     "text": [
      "2005 SGCN Summary Data\n"
     ]
    },
    {
     "data": {
      "text/plain": [
       "{'Common Names': ['Western pond turtle'], 'States': ['Washington']}"
      ]
     },
     "metadata": {},
     "output_type": "display_data"
    },
    {
     "name": "stdout",
     "output_type": "stream",
     "text": [
      "----------\n",
      "Scientific Name: Charina bottae umbratica\n",
      "Common Name: southern rubber boa\n",
      "Lead FWS Region: R8\n",
      "Species Range (FWS): CA\n",
      "ECOS Link: https://ecos.fws.gov/ecp/species/3525\n",
      "2015 SGCN Summary Data\n"
     ]
    },
    {
     "data": {
      "text/plain": [
       "{'Common Names': ['southern rubber boa'], 'States': ['California']}"
      ]
     },
     "metadata": {},
     "output_type": "display_data"
    },
    {
     "name": "stdout",
     "output_type": "stream",
     "text": [
      "2005 SGCN Summary Data\n"
     ]
    },
    {
     "data": {
      "text/plain": [
       "{'Common Names': ['Southern Rubber Boa'], 'States': ['California']}"
      ]
     },
     "metadata": {},
     "output_type": "display_data"
    },
    {
     "name": "stdout",
     "output_type": "stream",
     "text": [
      "----------\n",
      "Scientific Name: Clemmys guttata\n",
      "Common Name: spotted turtle\n",
      "Lead FWS Region: R5\n",
      "Species Range (FWS): CT, DC, DE, FL, GA, IL, IN, MA, MD, ME, MI, NC, NH, NJ, NY, OH, PA, RI, SC, VA, VT, WV, Canada\n",
      "ECOS Link: nan\n",
      "2015 SGCN Summary Data\n"
     ]
    },
    {
     "data": {
      "text/plain": [
       "{'Common Names': ['Spotted Turtle '], 'States': ['Ohio']}"
      ]
     },
     "metadata": {},
     "output_type": "display_data"
    },
    {
     "name": "stdout",
     "output_type": "stream",
     "text": [
      "----------\n",
      "Scientific Name: Clonophis kirtlandii\n",
      "Common Name: Kirtland's snake\n",
      "Lead FWS Region: R3\n",
      "Species Range (FWS): IL, IN, KY, MI, MO, OH, PA, TN\n",
      "ECOS Link: https://ecos.fws.gov/ecp/species/4979\n",
      "2015 SGCN Summary Data\n"
     ]
    },
    {
     "data": {
      "text/plain": [
       "{'Common Names': [\"Kirtland's Snake\", \"Kirtland's snake\", 'Kirtlands Snake'],\n",
       " 'States': ['Illinois',\n",
       "  'Indiana',\n",
       "  'Kentucky',\n",
       "  'Michigan',\n",
       "  'Missouri',\n",
       "  'Pennsylvania',\n",
       "  'Tennessee']}"
      ]
     },
     "metadata": {},
     "output_type": "display_data"
    },
    {
     "name": "stdout",
     "output_type": "stream",
     "text": [
      "2005 SGCN Summary Data\n"
     ]
    },
    {
     "data": {
      "text/plain": [
       "{'Common Names': [\"Kirtland's Snake\", \"Kirtland's snake\"],\n",
       " 'States': ['Illinois',\n",
       "  'Indiana',\n",
       "  'Kentucky',\n",
       "  'Michigan',\n",
       "  'Missouri',\n",
       "  'Ohio',\n",
       "  'Pennsylvania']}"
      ]
     },
     "metadata": {},
     "output_type": "display_data"
    },
    {
     "name": "stdout",
     "output_type": "stream",
     "text": [
      "----------\n",
      "Scientific Name: Deirochelys reticularia miaria\n",
      "Common Name: western chicken turtle\n",
      "Lead FWS Region: R2\n",
      "Species Range (FWS): AR, LA, MO, MS, OK, TX\n",
      "ECOS Link: https://ecos.fws.gov/ecp/species/9903\n",
      "2015 SGCN Summary Data\n"
     ]
    },
    {
     "data": {
      "text/plain": [
       "{'Common Names': ['Western Chicken Turtle',\n",
       "  'Western Chicken Turtle ',\n",
       "  'Western chicken turtle'],\n",
       " 'States': ['Louisiana', 'Mississippi', 'Missouri', 'Oklahoma']}"
      ]
     },
     "metadata": {},
     "output_type": "display_data"
    },
    {
     "name": "stdout",
     "output_type": "stream",
     "text": [
      "2005 SGCN Summary Data\n"
     ]
    },
    {
     "data": {
      "text/plain": [
       "{'Common Names': ['Western Chicken Turtle'],\n",
       " 'States': ['Arkansas', 'Mississippi', 'Missouri', 'Oklahoma']}"
      ]
     },
     "metadata": {},
     "output_type": "display_data"
    },
    {
     "name": "stdout",
     "output_type": "stream",
     "text": [
      "----------\n",
      "Scientific Name: Diadophis punctatus acricus\n",
      "Common Name: Key ringneck snake\n",
      "Lead FWS Region: R4\n",
      "Species Range (FWS): FL\n",
      "ECOS Link: https://ecos.fws.gov/ecp/species/6768\n",
      "2015 SGCN Summary Data\n"
     ]
    },
    {
     "data": {
      "text/plain": [
       "{'Common Names': ['Key Ring-necked Snake'], 'States': ['Florida']}"
      ]
     },
     "metadata": {},
     "output_type": "display_data"
    },
    {
     "name": "stdout",
     "output_type": "stream",
     "text": [
      "2005 SGCN Summary Data\n"
     ]
    },
    {
     "data": {
      "text/plain": [
       "{'Common Names': ['Key Ringneck Snake'], 'States': ['Florida']}"
      ]
     },
     "metadata": {},
     "output_type": "display_data"
    },
    {
     "name": "stdout",
     "output_type": "stream",
     "text": [
      "----------\n",
      "Scientific Name: Elgaria panamintina\n",
      "Common Name: Panamint alligator lizard\n",
      "Lead FWS Region: R8\n",
      "Species Range (FWS): CA\n",
      "ECOS Link: https://ecos.fws.gov/ecp/species/47\n",
      "2015 SGCN Summary Data\n"
     ]
    },
    {
     "data": {
      "text/plain": [
       "{'Common Names': ['Panamint alligator lizard'], 'States': ['Nevada']}"
      ]
     },
     "metadata": {},
     "output_type": "display_data"
    },
    {
     "name": "stdout",
     "output_type": "stream",
     "text": [
      "----------\n",
      "Scientific Name: Emydoidea blandingii\n",
      "Common Name: Blanding's turtle\n",
      "Lead FWS Region: R3\n",
      "Species Range (FWS): IA, IL, IN, MA, ME, MI, MN, MO, NE, NH, NY, OH, PA, SD, WI\n",
      "ECOS Link: https://ecos.fws.gov/ecp/species/6056\n",
      "2015 SGCN Summary Data\n"
     ]
    },
    {
     "data": {
      "text/plain": [
       "{'Common Names': [\"Blanding's Turtle\"], 'States': ['Nebraska', 'Ohio']}"
      ]
     },
     "metadata": {},
     "output_type": "display_data"
    },
    {
     "name": "stdout",
     "output_type": "stream",
     "text": [
      "----------\n",
      "Scientific Name: Eumeces egregius egregius\n",
      "Common Name: Florida Keys mole skink\n",
      "Lead FWS Region: R4\n",
      "Species Range (FWS): FL\n",
      "ECOS Link: https://ecos.fws.gov/ecp/species/4480\n",
      "2005 SGCN Summary Data\n"
     ]
    },
    {
     "data": {
      "text/plain": [
       "{'Common Names': ['Florida Keys Mole Skink'], 'States': ['Florida']}"
      ]
     },
     "metadata": {},
     "output_type": "display_data"
    },
    {
     "name": "stdout",
     "output_type": "stream",
     "text": [
      "----------\n",
      "Scientific Name: Eumeces egregius insularis (Plestiodon egregius insularis)\n",
      "Common Name: Cedar Key mole skink\n",
      "Lead FWS Region: R4\n",
      "Species Range (FWS): FL\n",
      "ECOS Link: https://ecos.fws.gov/ecp0/profile/speciesProfile?spcode=C050\n",
      "2005 SGCN Summary Data\n"
     ]
    },
    {
     "data": {
      "text/plain": [
       "{'Common Names': ['Cedar Key Mole Skink'], 'States': ['Florida']}"
      ]
     },
     "metadata": {},
     "output_type": "display_data"
    },
    {
     "name": "stdout",
     "output_type": "stream",
     "text": [
      "----------\n",
      "Scientific Name: Glyptemys insculpta\n",
      "Common Name: wood turtle\n",
      "Lead FWS Region: R5\n",
      "Species Range (FWS): CT, DC, IA, MA, MD, ME, MI, MN, NH, NJ, NY, OH, PA, RI, VA, VT, WI, WV, Canada\n",
      "ECOS Link: https://ecos.fws.gov/ecp/species/6997\n",
      "2005 SGCN Summary Data\n"
     ]
    },
    {
     "data": {
      "text/plain": [
       "{'Common Names': ['Wood Turtle'], 'States': ['District of Columbia']}"
      ]
     },
     "metadata": {},
     "output_type": "display_data"
    },
    {
     "name": "stdout",
     "output_type": "stream",
     "text": [
      "----------\n",
      "Scientific Name: Gopherus polyphemus\n",
      "Common Name: gopher tortoise\n",
      "Lead FWS Region: R4\n",
      "Species Range (FWS): AL, FL, GA, SC\n",
      "ECOS Link: https://ecos.fws.gov/ecp/species/6994\n",
      "2015 SGCN Summary Data\n"
     ]
    },
    {
     "data": {
      "text/plain": [
       "{'Common Names': ['Gopher Tortoise'], 'States': ['Florida']}"
      ]
     },
     "metadata": {},
     "output_type": "display_data"
    },
    {
     "name": "stdout",
     "output_type": "stream",
     "text": [
      "----------\n",
      "Scientific Name: Graptemys barbouri\n",
      "Common Name: Barbour's map turtle\n",
      "Lead FWS Region: R4\n",
      "Species Range (FWS): AL, FL, GA\n",
      "ECOS Link: https://ecos.fws.gov/ecp/species/3085\n",
      "2015 SGCN Summary Data\n"
     ]
    },
    {
     "data": {
      "text/plain": [
       "{'Common Names': [\"Barbour's Map Turtle\"], 'States': ['Florida']}"
      ]
     },
     "metadata": {},
     "output_type": "display_data"
    },
    {
     "name": "stdout",
     "output_type": "stream",
     "text": [
      "----------\n",
      "Scientific Name: Heterodon simus\n",
      "Common Name: southern hognose snake\n",
      "Lead FWS Region: R4\n",
      "Species Range (FWS): AL, FL, GA, MS, NC, SC\n",
      "ECOS Link: https://ecos.fws.gov/ecp/species/3248\n",
      "2015 SGCN Summary Data\n"
     ]
    },
    {
     "data": {
      "text/plain": [
       "{'Common Names': ['Southern Hognose Snake'],\n",
       " 'States': ['Alabama',\n",
       "  'Georgia',\n",
       "  'Mississippi',\n",
       "  'North Carolina',\n",
       "  'South Carolina']}"
      ]
     },
     "metadata": {},
     "output_type": "display_data"
    },
    {
     "name": "stdout",
     "output_type": "stream",
     "text": [
      "2005 SGCN Summary Data\n"
     ]
    },
    {
     "data": {
      "text/plain": [
       "{'Common Names': ['Southern Hog-nosed Snake', 'Southern Hognose Snake'],\n",
       " 'States': ['Alabama',\n",
       "  'Florida',\n",
       "  'Georgia',\n",
       "  'Mississippi',\n",
       "  'North Carolina',\n",
       "  'South Carolina']}"
      ]
     },
     "metadata": {},
     "output_type": "display_data"
    },
    {
     "name": "stdout",
     "output_type": "stream",
     "text": [
      "----------\n",
      "Scientific Name: Holbrookia lacerata\n",
      "Common Name: spot-tailed earless lizard\n",
      "Lead FWS Region: R2\n",
      "Species Range (FWS): TX\n",
      "ECOS Link: https://ecos.fws.gov/ecp/species/9044\n",
      "2005 SGCN Summary Data\n"
     ]
    },
    {
     "data": {
      "text/plain": [
       "{'Common Names': ['Spot-tailed earless lizard'], 'States': ['Texas']}"
      ]
     },
     "metadata": {},
     "output_type": "display_data"
    },
    {
     "name": "stdout",
     "output_type": "stream",
     "text": [
      "----------\n",
      "Scientific Name: Macroclemys temmincki\n",
      "Common Name: alligator snapping turtle\n",
      "Lead FWS Region: R4\n",
      "Species Range (FWS): AL, AR, FL, GA, IA, IL, KS, KY, LA, MO, MS, OK, TN, TX\n",
      "ECOS Link: https://ecos.fws.gov/ecp/species/4658\n",
      "2005 SGCN Summary Data\n"
     ]
    },
    {
     "data": {
      "text/plain": [
       "{'Common Names': ['Spot-tailed earless lizard'], 'States': ['Texas']}"
      ]
     },
     "metadata": {},
     "output_type": "display_data"
    },
    {
     "name": "stdout",
     "output_type": "stream",
     "text": [
      "----------\n",
      "Scientific Name: Pituophis melanoleucus mugitus\n",
      "Common Name: Florida pine snake\n",
      "Lead FWS Region: R4\n",
      "Species Range (FWS): AL, FL, GA, SC\n",
      "ECOS Link: https://ecos.fws.gov/ecp/species/4978\n",
      "2015 SGCN Summary Data\n"
     ]
    },
    {
     "data": {
      "text/plain": [
       "{'Common Names': ['Florida Pine Snake',\n",
       "  'Florida Pinesnake',\n",
       "  'Pine Snake (Florida)'],\n",
       " 'States': ['Alabama', 'Florida', 'Georgia', 'South Carolina']}"
      ]
     },
     "metadata": {},
     "output_type": "display_data"
    },
    {
     "name": "stdout",
     "output_type": "stream",
     "text": [
      "2005 SGCN Summary Data\n"
     ]
    },
    {
     "data": {
      "text/plain": [
       "{'Common Names': ['Florida Pine Snake'],\n",
       " 'States': ['Alabama', 'Florida', 'Georgia', 'South Carolina']}"
      ]
     },
     "metadata": {},
     "output_type": "display_data"
    },
    {
     "name": "stdout",
     "output_type": "stream",
     "text": [
      "----------\n",
      "Scientific Name: Pseudemys gorzugi\n",
      "Common Name: Rio Grande cooter\n",
      "Lead FWS Region: R2\n",
      "Species Range (FWS): NM, TX\n",
      "ECOS Link: nan\n",
      "2015 SGCN Summary Data\n"
     ]
    },
    {
     "data": {
      "text/plain": [
       "{'Common Names': ['Rio Grande cooter', 'Western River Cooter'],\n",
       " 'States': ['New Mexico', 'Texas']}"
      ]
     },
     "metadata": {},
     "output_type": "display_data"
    },
    {
     "name": "stdout",
     "output_type": "stream",
     "text": [
      "2005 SGCN Summary Data\n"
     ]
    },
    {
     "data": {
      "text/plain": [
       "{'Common Names': ['Rio Grande river cooter', 'Western River Cooter'],\n",
       " 'States': ['New Mexico', 'Texas']}"
      ]
     },
     "metadata": {},
     "output_type": "display_data"
    },
    {
     "name": "stdout",
     "output_type": "stream",
     "text": [
      "----------\n",
      "Scientific Name: Pseudemys rubriventris\n",
      "Common Name: northern red-bellied cooter (range- wide)\n",
      "Lead FWS Region: R5\n",
      "Species Range (FWS): DC, DE, MA, MD, NC, NJ, PA, VA, WV\n",
      "ECOS Link: https://ecos.fws.gov/ecp/species/9957\n",
      "2015 SGCN Summary Data\n"
     ]
    },
    {
     "data": {
      "text/plain": [
       "{'Common Names': ['Eastern Redbelly Turtle',\n",
       "  'Northern Red-Bellied Cooter',\n",
       "  'Northern Red-bellied Cooter'],\n",
       " 'States': ['Delaware',\n",
       "  'District of Columbia',\n",
       "  'Massachusetts',\n",
       "  'New Jersey',\n",
       "  'North Carolina',\n",
       "  'Pennsylvania',\n",
       "  'West Virginia']}"
      ]
     },
     "metadata": {},
     "output_type": "display_data"
    },
    {
     "name": "stdout",
     "output_type": "stream",
     "text": [
      "2005 SGCN Summary Data\n"
     ]
    },
    {
     "data": {
      "text/plain": [
       "{'Common Names': ['Northern Red-bellied Cooter',\n",
       "  'Northern red-bellied cooter',\n",
       "  'Redbelly Turtle',\n",
       "  'redbelly turtle'],\n",
       " 'States': ['Delaware',\n",
       "  'District of Columbia',\n",
       "  'Maryland',\n",
       "  'Pennsylvania',\n",
       "  'West Virginia']}"
      ]
     },
     "metadata": {},
     "output_type": "display_data"
    },
    {
     "name": "stdout",
     "output_type": "stream",
     "text": [
      "----------\n",
      "Scientific Name: Sistrurus catenatus edwardsii\n",
      "Common Name: desert massasauga\n",
      "Lead FWS Region: R2\n",
      "Species Range (FWS): AZ, NM, CO, TX\n",
      "ECOS Link: https://ecos.fws.gov/ecp/species/9087\n",
      "2005 SGCN Summary Data\n"
     ]
    },
    {
     "data": {
      "text/plain": [
       "{'Common Names': ['Desert Massasauga'], 'States': ['Arizona', 'New Mexico']}"
      ]
     },
     "metadata": {},
     "output_type": "display_data"
    },
    {
     "name": "stdout",
     "output_type": "stream",
     "text": [
      "----------\n",
      "Scientific Name: Stilosoma extenuatum (Lampropeltis extenuata)\n",
      "Common Name: short-tailed snake\n",
      "Lead FWS Region: R4\n",
      "Species Range (FWS): FL\n",
      "ECOS Link: https://ecos.fws.gov/ecp0/profile/speciesProfile?spcode=C07C\n",
      "2005 SGCN Summary Data\n"
     ]
    },
    {
     "data": {
      "text/plain": [
       "{'Common Names': ['Short-tailed Snake'], 'States': ['Florida']}"
      ]
     },
     "metadata": {},
     "output_type": "display_data"
    },
    {
     "name": "stdout",
     "output_type": "stream",
     "text": [
      "----------\n",
      "Scientific Name: Tantilla oolitica\n",
      "Common Name: Rim Rock crowned snake\n",
      "Lead FWS Region: R4\n",
      "Species Range (FWS): FL\n",
      "ECOS Link: https://ecos.fws.gov/ecp/species/1497\n",
      "2005 SGCN Summary Data\n"
     ]
    },
    {
     "data": {
      "text/plain": [
       "{'Common Names': ['Rim Rock Crowned Snake'], 'States': ['Florida']}"
      ]
     },
     "metadata": {},
     "output_type": "display_data"
    },
    {
     "name": "stdout",
     "output_type": "stream",
     "text": [
      "----------\n",
      "Scientific Name: Cryptomastix devia\n",
      "Common Name: Puget Oregonian snail\n",
      "Lead FWS Region: R1\n",
      "Species Range (FWS): OR, WA\n",
      "ECOS Link: https://ecos.fws.gov/ecp/species/294\n",
      "2015 SGCN Summary Data\n"
     ]
    },
    {
     "data": {
      "text/plain": [
       "{'Common Names': ['Puget Oregonian '], 'States': ['Washington']}"
      ]
     },
     "metadata": {},
     "output_type": "display_data"
    },
    {
     "name": "stdout",
     "output_type": "stream",
     "text": [
      "----------\n",
      "Scientific Name: Cryptomastix hendersoni\n",
      "Common Name: Columbia Oregonian snail\n",
      "Lead FWS Region: R1\n",
      "Species Range (FWS): OR, WA\n",
      "ECOS Link: https://ecos.fws.gov/ecp/species/8598\n",
      "2015 SGCN Summary Data\n"
     ]
    },
    {
     "data": {
      "text/plain": [
       "{'Common Names': ['Columbia Oregonian'], 'States': ['Washington']}"
      ]
     },
     "metadata": {},
     "output_type": "display_data"
    },
    {
     "name": "stdout",
     "output_type": "stream",
     "text": [
      "2005 SGCN Summary Data\n"
     ]
    },
    {
     "data": {
      "text/plain": [
       "{'Common Names': ['Columbia Gorge Oregonian', 'Columbia oregonian'],\n",
       " 'States': ['Oregon', 'Washington']}"
      ]
     },
     "metadata": {},
     "output_type": "display_data"
    },
    {
     "name": "stdout",
     "output_type": "stream",
     "text": [
      "----------\n",
      "Scientific Name: Deroceras hesperium\n",
      "Common Name: evening fieldslug\n",
      "Lead FWS Region: R1\n",
      "Species Range (FWS): OR, WA\n",
      "ECOS Link: https://ecos.fws.gov/ecp/species/8642\n",
      "2005 SGCN Summary Data\n"
     ]
    },
    {
     "data": {
      "text/plain": [
       "{'Common Names': ['evening fieldslug'], 'States': ['Oregon']}"
      ]
     },
     "metadata": {},
     "output_type": "display_data"
    },
    {
     "name": "stdout",
     "output_type": "stream",
     "text": [
      "----------\n",
      "Scientific Name: Elimia arachnoidea\n",
      "Common Name: spider elimia (snail)\n",
      "Lead FWS Region: R5\n",
      "Species Range (FWS): TN, VA\n",
      "ECOS Link: https://ecos.fws.gov/ecp/species/9896\n",
      "2015 SGCN Summary Data\n"
     ]
    },
    {
     "data": {
      "text/plain": [
       "{'Common Names': ['Spider Elimia'], 'States': ['Tennessee', 'Virginia']}"
      ]
     },
     "metadata": {},
     "output_type": "display_data"
    },
    {
     "name": "stdout",
     "output_type": "stream",
     "text": [
      "2005 SGCN Summary Data\n"
     ]
    },
    {
     "data": {
      "text/plain": [
       "{'Common Names': ['Spider Elimia'], 'States': ['Tennessee']}"
      ]
     },
     "metadata": {},
     "output_type": "display_data"
    },
    {
     "name": "stdout",
     "output_type": "stream",
     "text": [
      "----------\n",
      "Scientific Name: Leptoxis arkansensis\n",
      "Common Name: Arkansas mudalia\n",
      "Lead FWS Region: R4\n",
      "Species Range (FWS): AR, MO\n",
      "ECOS Link: https://ecos.fws.gov/ecp/species/9911\n",
      "2015 SGCN Summary Data\n"
     ]
    },
    {
     "data": {
      "text/plain": [
       "{'Common Names': ['Arkansas mudalia'], 'States': ['Missouri']}"
      ]
     },
     "metadata": {},
     "output_type": "display_data"
    },
    {
     "name": "stdout",
     "output_type": "stream",
     "text": [
      "2005 SGCN Summary Data\n"
     ]
    },
    {
     "data": {
      "text/plain": [
       "{'Common Names': ['Arkansas Mudalia'], 'States': ['Missouri']}"
      ]
     },
     "metadata": {},
     "output_type": "display_data"
    },
    {
     "name": "stdout",
     "output_type": "stream",
     "text": [
      "----------\n",
      "Scientific Name: Monadenia fidelis minor\n",
      "Common Name: Dalles sideband snail\n",
      "Lead FWS Region: R1\n",
      "Species Range (FWS): OR, WA\n",
      "ECOS Link: https://ecos.fws.gov/ecp/species/4369\n",
      "2015 SGCN Summary Data\n"
     ]
    },
    {
     "data": {
      "text/plain": [
       "{'Common Names': ['Arkansas mudalia'], 'States': ['Missouri']}"
      ]
     },
     "metadata": {},
     "output_type": "display_data"
    },
    {
     "name": "stdout",
     "output_type": "stream",
     "text": [
      "2005 SGCN Summary Data\n"
     ]
    },
    {
     "data": {
      "text/plain": [
       "{'Common Names': ['Arkansas Mudalia'], 'States': ['Missouri']}"
      ]
     },
     "metadata": {},
     "output_type": "display_data"
    },
    {
     "name": "stdout",
     "output_type": "stream",
     "text": [
      "----------\n",
      "Scientific Name: Oreohelix n. sp. 1\n",
      "Common Name: Chelan mountain snail\n",
      "Lead FWS Region: R1\n",
      "Species Range (FWS): WA\n",
      "ECOS Link: https://ecos.fws.gov/ecp0/profile/speciesProfile?spcode=G0EB\n",
      "2015 SGCN Summary Data\n"
     ]
    },
    {
     "data": {
      "text/plain": [
       "{'Common Names': ['Arkansas mudalia'], 'States': ['Missouri']}"
      ]
     },
     "metadata": {},
     "output_type": "display_data"
    },
    {
     "name": "stdout",
     "output_type": "stream",
     "text": [
      "2005 SGCN Summary Data\n"
     ]
    },
    {
     "data": {
      "text/plain": [
       "{'Common Names': ['Arkansas Mudalia'], 'States': ['Missouri']}"
      ]
     },
     "metadata": {},
     "output_type": "display_data"
    },
    {
     "name": "stdout",
     "output_type": "stream",
     "text": [
      "----------\n",
      "Scientific Name: Phreatodrobia imitata\n",
      "Common Name: mimic cavesnail\n",
      "Lead FWS Region: R2\n",
      "Species Range (FWS): TX\n",
      "ECOS Link: https://ecos.fws.gov/ecp/species/7006\n",
      "2015 SGCN Summary Data\n"
     ]
    },
    {
     "data": {
      "text/plain": [
       "{'Common Names': ['Mimic cavesnail '], 'States': ['Texas']}"
      ]
     },
     "metadata": {},
     "output_type": "display_data"
    },
    {
     "name": "stdout",
     "output_type": "stream",
     "text": [
      "----------\n",
      "Scientific Name: Planorbella magnifica\n",
      "Common Name: magnificent ramshorn\n",
      "Lead FWS Region: R4\n",
      "Species Range (FWS): NC\n",
      "ECOS Link: https://ecos.fws.gov/ecp/species/6216\n",
      "2015 SGCN Summary Data\n"
     ]
    },
    {
     "data": {
      "text/plain": [
       "{'Common Names': ['Magnificent Rams-horn'], 'States': ['North Carolina']}"
      ]
     },
     "metadata": {},
     "output_type": "display_data"
    },
    {
     "name": "stdout",
     "output_type": "stream",
     "text": [
      "2005 SGCN Summary Data\n"
     ]
    },
    {
     "data": {
      "text/plain": [
       "{'Common Names': ['Magnificent Rams-horn'], 'States': ['North Carolina']}"
      ]
     },
     "metadata": {},
     "output_type": "display_data"
    },
    {
     "name": "stdout",
     "output_type": "stream",
     "text": [
      "----------\n",
      "Scientific Name: Pyrgulopsis anguina\n",
      "Common Name: longitudinal gland pyrg\n",
      "Lead FWS Region: R6\n",
      "Species Range (FWS): NV, UT\n",
      "ECOS Link: https://ecos.fws.gov/ecp/species/8977\n",
      "2015 SGCN Summary Data\n"
     ]
    },
    {
     "data": {
      "text/plain": [
       "{'Common Names': ['Magnificent Rams-horn'], 'States': ['North Carolina']}"
      ]
     },
     "metadata": {},
     "output_type": "display_data"
    },
    {
     "name": "stdout",
     "output_type": "stream",
     "text": [
      "2005 SGCN Summary Data\n"
     ]
    },
    {
     "data": {
      "text/plain": [
       "{'Common Names': ['Magnificent Rams-horn'], 'States': ['North Carolina']}"
      ]
     },
     "metadata": {},
     "output_type": "display_data"
    },
    {
     "name": "stdout",
     "output_type": "stream",
     "text": [
      "----------\n",
      "Scientific Name: Pyrgulopsis avernalis\n",
      "Common Name: Moapa pebblesnail\n",
      "Lead FWS Region: R8\n",
      "Species Range (FWS): NV\n",
      "ECOS Link: https://ecos.fws.gov/ecp/species/4987\n",
      "2015 SGCN Summary Data\n"
     ]
    },
    {
     "data": {
      "text/plain": [
       "{'Common Names': ['Moapa pebblesnail'], 'States': ['Nevada']}"
      ]
     },
     "metadata": {},
     "output_type": "display_data"
    },
    {
     "name": "stdout",
     "output_type": "stream",
     "text": [
      "2005 SGCN Summary Data\n"
     ]
    },
    {
     "data": {
      "text/plain": [
       "{'Common Names': ['Pebblesnail, Moapa'], 'States': ['Nevada']}"
      ]
     },
     "metadata": {},
     "output_type": "display_data"
    },
    {
     "name": "stdout",
     "output_type": "stream",
     "text": [
      "----------\n",
      "Scientific Name: Pyrgulopsis breviloba\n",
      "Common Name: flag pyrg\n",
      "Lead FWS Region: R8\n",
      "Species Range (FWS): NV\n",
      "ECOS Link: https://ecos.fws.gov/ecp/species/8978\n",
      "2015 SGCN Summary Data\n"
     ]
    },
    {
     "data": {
      "text/plain": [
       "{'Common Names': ['Moapa pebblesnail'], 'States': ['Nevada']}"
      ]
     },
     "metadata": {},
     "output_type": "display_data"
    },
    {
     "name": "stdout",
     "output_type": "stream",
     "text": [
      "2005 SGCN Summary Data\n"
     ]
    },
    {
     "data": {
      "text/plain": [
       "{'Common Names': ['Pebblesnail, Moapa'], 'States': ['Nevada']}"
      ]
     },
     "metadata": {},
     "output_type": "display_data"
    },
    {
     "name": "stdout",
     "output_type": "stream",
     "text": [
      "----------\n",
      "Scientific Name: Pyrgulopsis carinifera\n",
      "Common Name: Moapa Valley pyrg\n",
      "Lead FWS Region: R8\n",
      "Species Range (FWS): NV\n",
      "ECOS Link: https://ecos.fws.gov/ecp/species/8979\n",
      "2015 SGCN Summary Data\n"
     ]
    },
    {
     "data": {
      "text/plain": [
       "{'Common Names': ['Moapa Valley pyrg'], 'States': ['Nevada']}"
      ]
     },
     "metadata": {},
     "output_type": "display_data"
    },
    {
     "name": "stdout",
     "output_type": "stream",
     "text": [
      "2005 SGCN Summary Data\n"
     ]
    },
    {
     "data": {
      "text/plain": [
       "{'Common Names': ['Springsnail, Moapa Valley'], 'States': ['Nevada']}"
      ]
     },
     "metadata": {},
     "output_type": "display_data"
    },
    {
     "name": "stdout",
     "output_type": "stream",
     "text": [
      "----------\n",
      "Scientific Name: Pyrgulopsis castor\n",
      "Common Name: Beaver Pond marstonia\n",
      "Lead FWS Region: R4\n",
      "Species Range (FWS): GA\n",
      "ECOS Link: https://ecos.fws.gov/ecp/species/9913\n",
      "2015 SGCN Summary Data\n"
     ]
    },
    {
     "data": {
      "text/plain": [
       "{'Common Names': ['Beaverpond Marstonia'], 'States': ['Georgia']}"
      ]
     },
     "metadata": {},
     "output_type": "display_data"
    },
    {
     "name": "stdout",
     "output_type": "stream",
     "text": [
      "2005 SGCN Summary Data\n"
     ]
    },
    {
     "data": {
      "text/plain": [
       "{'Common Names': ['Beaverpond Marstonia'], 'States': ['Georgia']}"
      ]
     },
     "metadata": {},
     "output_type": "display_data"
    },
    {
     "name": "stdout",
     "output_type": "stream",
     "text": [
      "----------\n",
      "Scientific Name: Pyrgulopsis coloradensis\n",
      "Common Name: Blue Point pyrg\n",
      "Lead FWS Region: R8\n",
      "Species Range (FWS): NV\n",
      "ECOS Link: https://ecos.fws.gov/ecp/species/8980\n",
      "2015 SGCN Summary Data\n"
     ]
    },
    {
     "data": {
      "text/plain": [
       "{'Common Names': ['Beaverpond Marstonia'], 'States': ['Georgia']}"
      ]
     },
     "metadata": {},
     "output_type": "display_data"
    },
    {
     "name": "stdout",
     "output_type": "stream",
     "text": [
      "2005 SGCN Summary Data\n"
     ]
    },
    {
     "data": {
      "text/plain": [
       "{'Common Names': ['Beaverpond Marstonia'], 'States': ['Georgia']}"
      ]
     },
     "metadata": {},
     "output_type": "display_data"
    },
    {
     "name": "stdout",
     "output_type": "stream",
     "text": [
      "----------\n",
      "Scientific Name: Pyrgulopsis crystalis\n",
      "Common Name: Crystal springsnail\n",
      "Lead FWS Region: R8\n",
      "Species Range (FWS): NV\n",
      "ECOS Link: https://ecos.fws.gov/ecp/species/4830\n",
      "2015 SGCN Summary Data\n"
     ]
    },
    {
     "data": {
      "text/plain": [
       "{'Common Names': ['Crystal Spring pyrg'], 'States': ['Nevada']}"
      ]
     },
     "metadata": {},
     "output_type": "display_data"
    },
    {
     "name": "stdout",
     "output_type": "stream",
     "text": [
      "2005 SGCN Summary Data\n"
     ]
    },
    {
     "data": {
      "text/plain": [
       "{'Common Names': ['Springsnail, Crystal Spring'], 'States': ['Nevada']}"
      ]
     },
     "metadata": {},
     "output_type": "display_data"
    },
    {
     "name": "stdout",
     "output_type": "stream",
     "text": [
      "----------\n",
      "Scientific Name: Pyrgulopsis deaconi\n",
      "Common Name: Spring Mountains pyrg\n",
      "Lead FWS Region: R8\n",
      "Species Range (FWS): NV\n",
      "ECOS Link: https://ecos.fws.gov/ecp/species/8981\n",
      "2015 SGCN Summary Data\n"
     ]
    },
    {
     "data": {
      "text/plain": [
       "{'Common Names': ['Crystal Spring pyrg'], 'States': ['Nevada']}"
      ]
     },
     "metadata": {},
     "output_type": "display_data"
    },
    {
     "name": "stdout",
     "output_type": "stream",
     "text": [
      "2005 SGCN Summary Data\n"
     ]
    },
    {
     "data": {
      "text/plain": [
       "{'Common Names': ['Springsnail, Crystal Spring'], 'States': ['Nevada']}"
      ]
     },
     "metadata": {},
     "output_type": "display_data"
    },
    {
     "name": "stdout",
     "output_type": "stream",
     "text": [
      "----------\n",
      "Scientific Name: Pyrgulopsis erythropoma\n",
      "Common Name: Ash Meadows pebblesnail\n",
      "Lead FWS Region: R8\n",
      "Species Range (FWS): NV\n",
      "ECOS Link: https://ecos.fws.gov/ecp/species/7545\n",
      "2015 SGCN Summary Data\n"
     ]
    },
    {
     "data": {
      "text/plain": [
       "{'Common Names': ['Ash Meadows pebblesnail'], 'States': ['Nevada']}"
      ]
     },
     "metadata": {},
     "output_type": "display_data"
    },
    {
     "name": "stdout",
     "output_type": "stream",
     "text": [
      "2005 SGCN Summary Data\n"
     ]
    },
    {
     "data": {
      "text/plain": [
       "{'Common Names': ['Pebblesnail, Ash Meadows'], 'States': ['Nevada']}"
      ]
     },
     "metadata": {},
     "output_type": "display_data"
    },
    {
     "name": "stdout",
     "output_type": "stream",
     "text": [
      "----------\n",
      "Scientific Name: Pyrgulopsis fairbanksensis\n",
      "Common Name: Fairbanks springsnail\n",
      "Lead FWS Region: R8\n",
      "Species Range (FWS): NV\n",
      "ECOS Link: https://ecos.fws.gov/ecp/species/1399\n",
      "2015 SGCN Summary Data\n"
     ]
    },
    {
     "data": {
      "text/plain": [
       "{'Common Names': ['Fairbanks pyrg'], 'States': ['Nevada']}"
      ]
     },
     "metadata": {},
     "output_type": "display_data"
    },
    {
     "name": "stdout",
     "output_type": "stream",
     "text": [
      "2005 SGCN Summary Data\n"
     ]
    },
    {
     "data": {
      "text/plain": [
       "{'Common Names': ['Springsnail, Fairbanks'], 'States': ['Nevada']}"
      ]
     },
     "metadata": {},
     "output_type": "display_data"
    },
    {
     "name": "stdout",
     "output_type": "stream",
     "text": [
      "----------\n",
      "Scientific Name: Pyrgulopsis fausta\n",
      "Common Name: Corn Creek pyrg\n",
      "Lead FWS Region: R8\n",
      "Species Range (FWS): NV\n",
      "ECOS Link: https://ecos.fws.gov/ecp/species/8982\n",
      "2015 SGCN Summary Data\n"
     ]
    },
    {
     "data": {
      "text/plain": [
       "{'Common Names': ['Fairbanks pyrg'], 'States': ['Nevada']}"
      ]
     },
     "metadata": {},
     "output_type": "display_data"
    },
    {
     "name": "stdout",
     "output_type": "stream",
     "text": [
      "2005 SGCN Summary Data\n"
     ]
    },
    {
     "data": {
      "text/plain": [
       "{'Common Names': ['Springsnail, Fairbanks'], 'States': ['Nevada']}"
      ]
     },
     "metadata": {},
     "output_type": "display_data"
    },
    {
     "name": "stdout",
     "output_type": "stream",
     "text": [
      "----------\n",
      "Scientific Name: Pyrgulopsis hamlinensis\n",
      "Common Name: Hamlin Valley pyrg\n",
      "Lead FWS Region: R6\n",
      "Species Range (FWS): NV, UT\n",
      "ECOS Link: https://ecos.fws.gov/ecp/species/8984\n",
      "2015 SGCN Summary Data\n"
     ]
    },
    {
     "data": {
      "text/plain": [
       "{'Common Names': ['Fairbanks pyrg'], 'States': ['Nevada']}"
      ]
     },
     "metadata": {},
     "output_type": "display_data"
    },
    {
     "name": "stdout",
     "output_type": "stream",
     "text": [
      "2005 SGCN Summary Data\n"
     ]
    },
    {
     "data": {
      "text/plain": [
       "{'Common Names': ['Springsnail, Fairbanks'], 'States': ['Nevada']}"
      ]
     },
     "metadata": {},
     "output_type": "display_data"
    },
    {
     "name": "stdout",
     "output_type": "stream",
     "text": [
      "----------\n",
      "Scientific Name: Pyrgulopsis hubbsi\n",
      "Common Name: Hubbs pyrg\n",
      "Lead FWS Region: R8\n",
      "Species Range (FWS): NV\n",
      "ECOS Link: https://ecos.fws.gov/ecp/species/8985\n",
      "2015 SGCN Summary Data\n"
     ]
    },
    {
     "data": {
      "text/plain": [
       "{'Common Names': ['Fairbanks pyrg'], 'States': ['Nevada']}"
      ]
     },
     "metadata": {},
     "output_type": "display_data"
    },
    {
     "name": "stdout",
     "output_type": "stream",
     "text": [
      "2005 SGCN Summary Data\n"
     ]
    },
    {
     "data": {
      "text/plain": [
       "{'Common Names': ['Springsnail, Fairbanks'], 'States': ['Nevada']}"
      ]
     },
     "metadata": {},
     "output_type": "display_data"
    },
    {
     "name": "stdout",
     "output_type": "stream",
     "text": [
      "----------\n",
      "Scientific Name: Pyrgulopsis isolata\n",
      "Common Name: elongate-gland springsnail\n",
      "Lead FWS Region: R8\n",
      "Species Range (FWS): NV\n",
      "ECOS Link: https://ecos.fws.gov/ecp/species/1380\n",
      "2015 SGCN Summary Data\n"
     ]
    },
    {
     "data": {
      "text/plain": [
       "{'Common Names': ['elongat-gland pyrg'], 'States': ['Nevada']}"
      ]
     },
     "metadata": {},
     "output_type": "display_data"
    },
    {
     "name": "stdout",
     "output_type": "stream",
     "text": [
      "2005 SGCN Summary Data\n"
     ]
    },
    {
     "data": {
      "text/plain": [
       "{'Common Names': ['Springsnail, elongate-gland'], 'States': ['Nevada']}"
      ]
     },
     "metadata": {},
     "output_type": "display_data"
    },
    {
     "name": "stdout",
     "output_type": "stream",
     "text": [
      "----------\n",
      "Scientific Name: Pyrgulopsis landyei\n",
      "Common Name: Landyes pyrg\n",
      "Lead FWS Region: R8\n",
      "Species Range (FWS): NV\n",
      "ECOS Link: https://ecos.fws.gov/ecp/species/8986\n",
      "2015 SGCN Summary Data\n"
     ]
    },
    {
     "data": {
      "text/plain": [
       "{'Common Names': ['elongat-gland pyrg'], 'States': ['Nevada']}"
      ]
     },
     "metadata": {},
     "output_type": "display_data"
    },
    {
     "name": "stdout",
     "output_type": "stream",
     "text": [
      "2005 SGCN Summary Data\n"
     ]
    },
    {
     "data": {
      "text/plain": [
       "{'Common Names': ['Springsnail, elongate-gland'], 'States': ['Nevada']}"
      ]
     },
     "metadata": {},
     "output_type": "display_data"
    },
    {
     "name": "stdout",
     "output_type": "stream",
     "text": [
      "----------\n",
      "Scientific Name: Pyrgulopsis lata\n",
      "Common Name: Butterfield pyrg\n",
      "Lead FWS Region: R8\n",
      "Species Range (FWS): NV\n",
      "ECOS Link: https://ecos.fws.gov/ecp/species/8987\n",
      "2015 SGCN Summary Data\n"
     ]
    },
    {
     "data": {
      "text/plain": [
       "{'Common Names': ['elongat-gland pyrg'], 'States': ['Nevada']}"
      ]
     },
     "metadata": {},
     "output_type": "display_data"
    },
    {
     "name": "stdout",
     "output_type": "stream",
     "text": [
      "2005 SGCN Summary Data\n"
     ]
    },
    {
     "data": {
      "text/plain": [
       "{'Common Names': ['Springsnail, elongate-gland'], 'States': ['Nevada']}"
      ]
     },
     "metadata": {},
     "output_type": "display_data"
    },
    {
     "name": "stdout",
     "output_type": "stream",
     "text": [
      "----------\n",
      "Scientific Name: Pyrgulopsis marcida\n",
      "Common Name: Hardy pyrg\n",
      "Lead FWS Region: R8\n",
      "Species Range (FWS): NV\n",
      "ECOS Link: https://ecos.fws.gov/ecp/species/8989\n",
      "2015 SGCN Summary Data\n"
     ]
    },
    {
     "data": {
      "text/plain": [
       "{'Common Names': ['elongat-gland pyrg'], 'States': ['Nevada']}"
      ]
     },
     "metadata": {},
     "output_type": "display_data"
    },
    {
     "name": "stdout",
     "output_type": "stream",
     "text": [
      "2005 SGCN Summary Data\n"
     ]
    },
    {
     "data": {
      "text/plain": [
       "{'Common Names': ['Springsnail, elongate-gland'], 'States': ['Nevada']}"
      ]
     },
     "metadata": {},
     "output_type": "display_data"
    },
    {
     "name": "stdout",
     "output_type": "stream",
     "text": [
      "----------\n",
      "Scientific Name: Pyrgulopsis merriami\n",
      "Common Name: Pahranagat pebblesnail\n",
      "Lead FWS Region: R8\n",
      "Species Range (FWS): NV\n",
      "ECOS Link: https://ecos.fws.gov/ecp/species/4778\n",
      "2015 SGCN Summary Data\n"
     ]
    },
    {
     "data": {
      "text/plain": [
       "{'Common Names': ['Pahranangat pebblesnail'], 'States': ['Nevada']}"
      ]
     },
     "metadata": {},
     "output_type": "display_data"
    },
    {
     "name": "stdout",
     "output_type": "stream",
     "text": [
      "2005 SGCN Summary Data\n"
     ]
    },
    {
     "data": {
      "text/plain": [
       "{'Common Names': ['Pebblesnail, Pahranagat'], 'States': ['Nevada']}"
      ]
     },
     "metadata": {},
     "output_type": "display_data"
    },
    {
     "name": "stdout",
     "output_type": "stream",
     "text": [
      "----------\n",
      "Scientific Name: Pyrgulopsis nanus\n",
      "Common Name: distal-gland springsnail\n",
      "Lead FWS Region: R8\n",
      "Species Range (FWS): NV\n",
      "ECOS Link: https://ecos.fws.gov/ecp/species/5868\n",
      "2015 SGCN Summary Data\n"
     ]
    },
    {
     "data": {
      "text/plain": [
       "{'Common Names': ['Distal-gland pyrg'], 'States': ['Nevada']}"
      ]
     },
     "metadata": {},
     "output_type": "display_data"
    },
    {
     "name": "stdout",
     "output_type": "stream",
     "text": [
      "2005 SGCN Summary Data\n"
     ]
    },
    {
     "data": {
      "text/plain": [
       "{'Common Names': ['Springsnail, distal-gland'], 'States': ['Nevada']}"
      ]
     },
     "metadata": {},
     "output_type": "display_data"
    },
    {
     "name": "stdout",
     "output_type": "stream",
     "text": [
      "----------\n",
      "Scientific Name: Pyrgulopsis neritella\n",
      "Common Name: neritiform Steptoe Ranch pyrg\n",
      "Lead FWS Region: R8\n",
      "Species Range (FWS): NV\n",
      "ECOS Link: https://ecos.fws.gov/ecp/species/8991\n",
      "2015 SGCN Summary Data\n"
     ]
    },
    {
     "data": {
      "text/plain": [
       "{'Common Names': ['Distal-gland pyrg'], 'States': ['Nevada']}"
      ]
     },
     "metadata": {},
     "output_type": "display_data"
    },
    {
     "name": "stdout",
     "output_type": "stream",
     "text": [
      "2005 SGCN Summary Data\n"
     ]
    },
    {
     "data": {
      "text/plain": [
       "{'Common Names': ['Springsnail, distal-gland'], 'States': ['Nevada']}"
      ]
     },
     "metadata": {},
     "output_type": "display_data"
    },
    {
     "name": "stdout",
     "output_type": "stream",
     "text": [
      "----------\n",
      "Scientific Name: Pyrgulopsis orbiculata\n",
      "Common Name: sub-globose Steptoe Ranch pyrg\n",
      "Lead FWS Region: R8\n",
      "Species Range (FWS): NV\n",
      "ECOS Link: https://ecos.fws.gov/ecp/species/8992\n",
      "2015 SGCN Summary Data\n"
     ]
    },
    {
     "data": {
      "text/plain": [
       "{'Common Names': ['Distal-gland pyrg'], 'States': ['Nevada']}"
      ]
     },
     "metadata": {},
     "output_type": "display_data"
    },
    {
     "name": "stdout",
     "output_type": "stream",
     "text": [
      "2005 SGCN Summary Data\n"
     ]
    },
    {
     "data": {
      "text/plain": [
       "{'Common Names': ['Springsnail, distal-gland'], 'States': ['Nevada']}"
      ]
     },
     "metadata": {},
     "output_type": "display_data"
    },
    {
     "name": "stdout",
     "output_type": "stream",
     "text": [
      "----------\n",
      "Scientific Name: Pyrgulopsis ozarkensis (Marstonia ozarkensis)\n",
      "Common Name: Ozark pyrg\n",
      "Lead FWS Region: R4\n",
      "Species Range (FWS): MO, AR\n",
      "ECOS Link: https://ecos.fws.gov/ecp0/profile/speciesProfile?sId=3974\n",
      "2005 SGCN Summary Data\n"
     ]
    },
    {
     "data": {
      "text/plain": [
       "{'Common Names': ['Ozark Pyrg'], 'States': ['Arkansas']}"
      ]
     },
     "metadata": {},
     "output_type": "display_data"
    },
    {
     "name": "stdout",
     "output_type": "stream",
     "text": [
      "----------\n",
      "Scientific Name: Pyrgulopsis peculiaris\n",
      "Common Name: bifid duct pyrg\n",
      "Lead FWS Region: R8\n",
      "Species Range (FWS): NV, UT\n",
      "ECOS Link: https://ecos.fws.gov/ecp/species/8994\n",
      "2005 SGCN Summary Data\n"
     ]
    },
    {
     "data": {
      "text/plain": [
       "{'Common Names': ['Ozark Pyrg'], 'States': ['Arkansas']}"
      ]
     },
     "metadata": {},
     "output_type": "display_data"
    },
    {
     "name": "stdout",
     "output_type": "stream",
     "text": [
      "----------\n",
      "Scientific Name: Pyrgulopsis pisteri\n",
      "Common Name: median-gland Nevada pyrg\n",
      "Lead FWS Region: R8\n",
      "Species Range (FWS): NV\n",
      "ECOS Link: https://ecos.fws.gov/ecp/species/2997\n",
      "2015 SGCN Summary Data\n"
     ]
    },
    {
     "data": {
      "text/plain": [
       "{'Common Names': ['median-gland Nevada pyrg'], 'States': ['Nevada']}"
      ]
     },
     "metadata": {},
     "output_type": "display_data"
    },
    {
     "name": "stdout",
     "output_type": "stream",
     "text": [
      "2005 SGCN Summary Data\n"
     ]
    },
    {
     "data": {
      "text/plain": [
       "{'Common Names': ['Springsnail, median-gland'], 'States': ['Nevada']}"
      ]
     },
     "metadata": {},
     "output_type": "display_data"
    },
    {
     "name": "stdout",
     "output_type": "stream",
     "text": [
      "----------\n",
      "Scientific Name: Pyrgulopsis planulata\n",
      "Common Name: flat-topped Steptoe pyrg\n",
      "Lead FWS Region: R8\n",
      "Species Range (FWS): NV\n",
      "ECOS Link: https://ecos.fws.gov/ecp/species/8995\n",
      "2015 SGCN Summary Data\n"
     ]
    },
    {
     "data": {
      "text/plain": [
       "{'Common Names': ['median-gland Nevada pyrg'], 'States': ['Nevada']}"
      ]
     },
     "metadata": {},
     "output_type": "display_data"
    },
    {
     "name": "stdout",
     "output_type": "stream",
     "text": [
      "2005 SGCN Summary Data\n"
     ]
    },
    {
     "data": {
      "text/plain": [
       "{'Common Names': ['Springsnail, median-gland'], 'States': ['Nevada']}"
      ]
     },
     "metadata": {},
     "output_type": "display_data"
    },
    {
     "name": "stdout",
     "output_type": "stream",
     "text": [
      "----------\n",
      "Scientific Name: Pyrgulopsis sathos\n",
      "Common Name: White River Valley pyrg\n",
      "Lead FWS Region: R8\n",
      "Species Range (FWS): NV\n",
      "ECOS Link: https://ecos.fws.gov/ecp/species/8996\n",
      "2015 SGCN Summary Data\n"
     ]
    },
    {
     "data": {
      "text/plain": [
       "{'Common Names': ['median-gland Nevada pyrg'], 'States': ['Nevada']}"
      ]
     },
     "metadata": {},
     "output_type": "display_data"
    },
    {
     "name": "stdout",
     "output_type": "stream",
     "text": [
      "2005 SGCN Summary Data\n"
     ]
    },
    {
     "data": {
      "text/plain": [
       "{'Common Names': ['Springsnail, median-gland'], 'States': ['Nevada']}"
      ]
     },
     "metadata": {},
     "output_type": "display_data"
    },
    {
     "name": "stdout",
     "output_type": "stream",
     "text": [
      "----------\n",
      "Scientific Name: Pyrgulopsis saxatilis\n",
      "Common Name: sub-globose snake pyrg\n",
      "Lead FWS Region: R6\n",
      "Species Range (FWS): UT\n",
      "ECOS Link: https://ecos.fws.gov/ecp/species/8997\n",
      "2015 SGCN Summary Data\n"
     ]
    },
    {
     "data": {
      "text/plain": [
       "{'Common Names': ['median-gland Nevada pyrg'], 'States': ['Nevada']}"
      ]
     },
     "metadata": {},
     "output_type": "display_data"
    },
    {
     "name": "stdout",
     "output_type": "stream",
     "text": [
      "2005 SGCN Summary Data\n"
     ]
    },
    {
     "data": {
      "text/plain": [
       "{'Common Names': ['Springsnail, median-gland'], 'States': ['Nevada']}"
      ]
     },
     "metadata": {},
     "output_type": "display_data"
    },
    {
     "name": "stdout",
     "output_type": "stream",
     "text": [
      "----------\n",
      "Scientific Name: Pyrgulopsis serrata\n",
      "Common Name: northern Steptoe pyrg\n",
      "Lead FWS Region: R8\n",
      "Species Range (FWS): NV\n",
      "ECOS Link: https://ecos.fws.gov/ecp/species/8998\n",
      "2015 SGCN Summary Data\n"
     ]
    },
    {
     "data": {
      "text/plain": [
       "{'Common Names': ['median-gland Nevada pyrg'], 'States': ['Nevada']}"
      ]
     },
     "metadata": {},
     "output_type": "display_data"
    },
    {
     "name": "stdout",
     "output_type": "stream",
     "text": [
      "2005 SGCN Summary Data\n"
     ]
    },
    {
     "data": {
      "text/plain": [
       "{'Common Names': ['Springsnail, median-gland'], 'States': ['Nevada']}"
      ]
     },
     "metadata": {},
     "output_type": "display_data"
    },
    {
     "name": "stdout",
     "output_type": "stream",
     "text": [
      "----------\n",
      "Scientific Name: Pyrgulopsis sterilis\n",
      "Common Name: Sterile Basin pyrg\n",
      "Lead FWS Region: R8\n",
      "Species Range (FWS): NV\n",
      "ECOS Link: https://ecos.fws.gov/ecp/species/8999\n",
      "2015 SGCN Summary Data\n"
     ]
    },
    {
     "data": {
      "text/plain": [
       "{'Common Names': ['median-gland Nevada pyrg'], 'States': ['Nevada']}"
      ]
     },
     "metadata": {},
     "output_type": "display_data"
    },
    {
     "name": "stdout",
     "output_type": "stream",
     "text": [
      "2005 SGCN Summary Data\n"
     ]
    },
    {
     "data": {
      "text/plain": [
       "{'Common Names': ['Springsnail, median-gland'], 'States': ['Nevada']}"
      ]
     },
     "metadata": {},
     "output_type": "display_data"
    },
    {
     "name": "stdout",
     "output_type": "stream",
     "text": [
      "----------\n",
      "Scientific Name: Pyrgulopsis sublata\n",
      "Common Name: Lake Valley pyrg\n",
      "Lead FWS Region: R8\n",
      "Species Range (FWS): NV\n",
      "ECOS Link: https://ecos.fws.gov/ecp/species/9000\n",
      "2015 SGCN Summary Data\n"
     ]
    },
    {
     "data": {
      "text/plain": [
       "{'Common Names': ['median-gland Nevada pyrg'], 'States': ['Nevada']}"
      ]
     },
     "metadata": {},
     "output_type": "display_data"
    },
    {
     "name": "stdout",
     "output_type": "stream",
     "text": [
      "2005 SGCN Summary Data\n"
     ]
    },
    {
     "data": {
      "text/plain": [
       "{'Common Names': ['Springsnail, median-gland'], 'States': ['Nevada']}"
      ]
     },
     "metadata": {},
     "output_type": "display_data"
    },
    {
     "name": "stdout",
     "output_type": "stream",
     "text": [
      "----------\n",
      "Scientific Name: Pyrgulopsis sulcata\n",
      "Common Name: southern Steptoe pyrg\n",
      "Lead FWS Region: R8\n",
      "Species Range (FWS): NV\n",
      "ECOS Link: https://ecos.fws.gov/ecp/species/9001\n",
      "2015 SGCN Summary Data\n"
     ]
    },
    {
     "data": {
      "text/plain": [
       "{'Common Names': ['median-gland Nevada pyrg'], 'States': ['Nevada']}"
      ]
     },
     "metadata": {},
     "output_type": "display_data"
    },
    {
     "name": "stdout",
     "output_type": "stream",
     "text": [
      "2005 SGCN Summary Data\n"
     ]
    },
    {
     "data": {
      "text/plain": [
       "{'Common Names': ['Springsnail, median-gland'], 'States': ['Nevada']}"
      ]
     },
     "metadata": {},
     "output_type": "display_data"
    },
    {
     "name": "stdout",
     "output_type": "stream",
     "text": [
      "----------\n",
      "Scientific Name: Pyrgulopsis turbatrix\n",
      "Common Name: Southeast Nevada pyrg\n",
      "Lead FWS Region: R8\n",
      "Species Range (FWS): NV\n",
      "ECOS Link: https://ecos.fws.gov/ecp/species/9002\n",
      "2015 SGCN Summary Data\n"
     ]
    },
    {
     "data": {
      "text/plain": [
       "{'Common Names': ['median-gland Nevada pyrg'], 'States': ['Nevada']}"
      ]
     },
     "metadata": {},
     "output_type": "display_data"
    },
    {
     "name": "stdout",
     "output_type": "stream",
     "text": [
      "2005 SGCN Summary Data\n"
     ]
    },
    {
     "data": {
      "text/plain": [
       "{'Common Names': ['Springsnail, median-gland'], 'States': ['Nevada']}"
      ]
     },
     "metadata": {},
     "output_type": "display_data"
    },
    {
     "name": "stdout",
     "output_type": "stream",
     "text": [
      "----------\n",
      "Scientific Name: Sonorella eremita\n",
      "Common Name: San Xavier talussnail\n",
      "Lead FWS Region: R2\n",
      "Species Range (FWS): AZ\n",
      "ECOS Link: https://ecos.fws.gov/ecp/species/1015\n",
      "2015 SGCN Summary Data\n"
     ]
    },
    {
     "data": {
      "text/plain": [
       "{'Common Names': ['San Xavier Talussnail'], 'States': ['Arizona']}"
      ]
     },
     "metadata": {},
     "output_type": "display_data"
    },
    {
     "name": "stdout",
     "output_type": "stream",
     "text": [
      "2005 SGCN Summary Data\n"
     ]
    },
    {
     "data": {
      "text/plain": [
       "{'Common Names': ['San Xavier Talussnail'], 'States': ['Arizona']}"
      ]
     },
     "metadata": {},
     "output_type": "display_data"
    },
    {
     "name": "stdout",
     "output_type": "stream",
     "text": [
      "----------\n",
      "Scientific Name: Sonorella grahamensis\n",
      "Common Name: Pinaleno talussnail\n",
      "Lead FWS Region: R2\n",
      "Species Range (FWS): AZ\n",
      "ECOS Link: https://ecos.fws.gov/ecp/species/7840\n",
      "2015 SGCN Summary Data\n"
     ]
    },
    {
     "data": {
      "text/plain": [
       "{'Common Names': ['Pinaleno Talussnail'], 'States': ['Arizona']}"
      ]
     },
     "metadata": {},
     "output_type": "display_data"
    },
    {
     "name": "stdout",
     "output_type": "stream",
     "text": [
      "2005 SGCN Summary Data\n"
     ]
    },
    {
     "data": {
      "text/plain": [
       "{'Common Names': ['Pinaleno Talussnail'], 'States': ['Arizona']}"
      ]
     },
     "metadata": {},
     "output_type": "display_data"
    },
    {
     "name": "stdout",
     "output_type": "stream",
     "text": [
      "----------\n",
      "Scientific Name: Sonorella macrophallus\n",
      "Common Name: Wet Canyon talussnail\n",
      "Lead FWS Region: R2\n",
      "Species Range (FWS): AZ\n",
      "ECOS Link: https://ecos.fws.gov/ecp/species/4377\n",
      "2015 SGCN Summary Data\n"
     ]
    },
    {
     "data": {
      "text/plain": [
       "{'Common Names': ['Wet Canyon Talussnail'], 'States': ['Arizona']}"
      ]
     },
     "metadata": {},
     "output_type": "display_data"
    },
    {
     "name": "stdout",
     "output_type": "stream",
     "text": [
      "2005 SGCN Summary Data\n"
     ]
    },
    {
     "data": {
      "text/plain": [
       "{'Common Names': ['Wet Canyon Talussnail'], 'States': ['Arizona']}"
      ]
     },
     "metadata": {},
     "output_type": "display_data"
    },
    {
     "name": "stdout",
     "output_type": "stream",
     "text": [
      "----------\n",
      "Scientific Name: Trilobopsis roperi\n",
      "Common Name: Shasta chaparral\n",
      "Lead FWS Region: R8\n",
      "Species Range (FWS): CA\n",
      "ECOS Link: https://ecos.fws.gov/ecp/species/8849\n",
      "2015 SGCN Summary Data\n"
     ]
    },
    {
     "data": {
      "text/plain": [
       "{'Common Names': ['Shasta chaparral'], 'States': ['California']}"
      ]
     },
     "metadata": {},
     "output_type": "display_data"
    },
    {
     "name": "stdout",
     "output_type": "stream",
     "text": [
      "2005 SGCN Summary Data\n"
     ]
    },
    {
     "data": {
      "text/plain": [
       "{'Common Names': ['Shasta Chaparral'], 'States': ['California']}"
      ]
     },
     "metadata": {},
     "output_type": "display_data"
    },
    {
     "name": "stdout",
     "output_type": "stream",
     "text": [
      "----------\n",
      "Scientific Name: Tryonia angulata\n",
      "Common Name: sportinggoods tryonia\n",
      "Lead FWS Region: R8\n",
      "Species Range (FWS): NV\n",
      "ECOS Link: https://ecos.fws.gov/ecp/species/6645\n",
      "2005 SGCN Summary Data\n"
     ]
    },
    {
     "data": {
      "text/plain": [
       "{'Common Names': ['Tryonia, sportinggoods'], 'States': ['Nevada']}"
      ]
     },
     "metadata": {},
     "output_type": "display_data"
    },
    {
     "name": "stdout",
     "output_type": "stream",
     "text": [
      "----------\n",
      "Scientific Name: Tryonia clathrata\n",
      "Common Name: grated tryonia\n",
      "Lead FWS Region: R8\n",
      "Species Range (FWS): NV\n",
      "ECOS Link: https://ecos.fws.gov/ecp/species/303\n",
      "2015 SGCN Summary Data\n"
     ]
    },
    {
     "data": {
      "text/plain": [
       "{'Common Names': ['grated tryonia'], 'States': ['Nevada']}"
      ]
     },
     "metadata": {},
     "output_type": "display_data"
    },
    {
     "name": "stdout",
     "output_type": "stream",
     "text": [
      "2005 SGCN Summary Data\n"
     ]
    },
    {
     "data": {
      "text/plain": [
       "{'Common Names': ['Tryonia, grated'], 'States': ['Nevada']}"
      ]
     },
     "metadata": {},
     "output_type": "display_data"
    },
    {
     "name": "stdout",
     "output_type": "stream",
     "text": [
      "----------\n",
      "Scientific Name: Tryonia elata\n",
      "Common Name: Point of Rocks tryonia\n",
      "Lead FWS Region: R8\n",
      "Species Range (FWS): NV\n",
      "ECOS Link: https://ecos.fws.gov/ecp/species/7837\n",
      "2015 SGCN Summary Data\n"
     ]
    },
    {
     "data": {
      "text/plain": [
       "{'Common Names': ['Point of Rock tryonia'], 'States': ['Nevada']}"
      ]
     },
     "metadata": {},
     "output_type": "display_data"
    },
    {
     "name": "stdout",
     "output_type": "stream",
     "text": [
      "2005 SGCN Summary Data\n"
     ]
    },
    {
     "data": {
      "text/plain": [
       "{'Common Names': ['Tryonia, Point of Rocks'], 'States': ['Nevada']}"
      ]
     },
     "metadata": {},
     "output_type": "display_data"
    },
    {
     "name": "stdout",
     "output_type": "stream",
     "text": [
      "----------\n",
      "Scientific Name: Tryonia ericae\n",
      "Common Name: minute tryonia\n",
      "Lead FWS Region: R8\n",
      "Species Range (FWS): NV\n",
      "ECOS Link: https://ecos.fws.gov/ecp/species/2556\n",
      "2015 SGCN Summary Data\n"
     ]
    },
    {
     "data": {
      "text/plain": [
       "{'Common Names': ['minute tryonia'], 'States': ['Nevada']}"
      ]
     },
     "metadata": {},
     "output_type": "display_data"
    },
    {
     "name": "stdout",
     "output_type": "stream",
     "text": [
      "2005 SGCN Summary Data\n"
     ]
    },
    {
     "data": {
      "text/plain": [
       "{'Common Names': ['Tryonia, minute'], 'States': ['Nevada']}"
      ]
     },
     "metadata": {},
     "output_type": "display_data"
    },
    {
     "name": "stdout",
     "output_type": "stream",
     "text": [
      "----------\n",
      "Scientific Name: Tryonia quitobaquitae\n",
      "Common Name: Quitobaquito tryonia\n",
      "Lead FWS Region: R2\n",
      "Species Range (FWS): AZ\n",
      "ECOS Link: https://ecos.fws.gov/ecp/species/4521\n",
      "2015 SGCN Summary Data\n"
     ]
    },
    {
     "data": {
      "text/plain": [
       "{'Common Names': ['Quitobaquito Tryonia'], 'States': ['Arizona']}"
      ]
     },
     "metadata": {},
     "output_type": "display_data"
    },
    {
     "name": "stdout",
     "output_type": "stream",
     "text": [
      "2005 SGCN Summary Data\n"
     ]
    },
    {
     "data": {
      "text/plain": [
       "{'Common Names': ['Quitobaquito Tryonia'], 'States': ['Arizona']}"
      ]
     },
     "metadata": {},
     "output_type": "display_data"
    },
    {
     "name": "stdout",
     "output_type": "stream",
     "text": [
      "----------\n",
      "Scientific Name: Tryonia variegata\n",
      "Common Name: Amargosa tryonia\n",
      "Lead FWS Region: R8\n",
      "Species Range (FWS): CA, NV\n",
      "ECOS Link: https://ecos.fws.gov/ecp/species/6906\n",
      "2015 SGCN Summary Data\n"
     ]
    },
    {
     "data": {
      "text/plain": [
       "{'Common Names': ['Amargosa tryonia'], 'States': ['Nevada']}"
      ]
     },
     "metadata": {},
     "output_type": "display_data"
    },
    {
     "name": "stdout",
     "output_type": "stream",
     "text": [
      "2005 SGCN Summary Data\n"
     ]
    },
    {
     "data": {
      "text/plain": [
       "{'Common Names': ['Tryonia, Amargosa'], 'States': ['Nevada']}"
      ]
     },
     "metadata": {},
     "output_type": "display_data"
    },
    {
     "name": "stdout",
     "output_type": "stream",
     "text": [
      "----------\n",
      "Scientific Name: Vertigo sp.\n",
      "Common Name: Hoko vertigo\n",
      "Lead FWS Region: R1\n",
      "Species Range (FWS): WA\n",
      "ECOS Link: https://ecos.fws.gov/ecp/species/8761\n",
      "2015 SGCN Summary Data\n"
     ]
    },
    {
     "data": {
      "text/plain": [
       "{'Common Names': ['Amargosa tryonia'], 'States': ['Nevada']}"
      ]
     },
     "metadata": {},
     "output_type": "display_data"
    },
    {
     "name": "stdout",
     "output_type": "stream",
     "text": [
      "2005 SGCN Summary Data\n"
     ]
    },
    {
     "data": {
      "text/plain": [
       "{'Common Names': ['Tryonia, Amargosa'], 'States': ['Nevada']}"
      ]
     },
     "metadata": {},
     "output_type": "display_data"
    },
    {
     "name": "stdout",
     "output_type": "stream",
     "text": [
      "----------\n",
      "Scientific Name: Vespericola pressleyi\n",
      "Common Name: Big Bar hesperian\n",
      "Lead FWS Region: R8\n",
      "Species Range (FWS): CA\n",
      "ECOS Link: https://ecos.fws.gov/ecp/species/8850\n",
      "2015 SGCN Summary Data\n"
     ]
    },
    {
     "data": {
      "text/plain": [
       "{'Common Names': ['Big Bar hesperian'], 'States': ['California']}"
      ]
     },
     "metadata": {},
     "output_type": "display_data"
    },
    {
     "name": "stdout",
     "output_type": "stream",
     "text": [
      "2005 SGCN Summary Data\n"
     ]
    },
    {
     "data": {
      "text/plain": [
       "{'Common Names': ['Big Bar Hesperian'], 'States': ['California']}"
      ]
     },
     "metadata": {},
     "output_type": "display_data"
    },
    {
     "name": "stdout",
     "output_type": "stream",
     "text": [
      "----------\n",
      "Scientific Name: Vespericola shasta\n",
      "Common Name: Shasta hesperian\n",
      "Lead FWS Region: R8\n",
      "Species Range (FWS): CA\n",
      "ECOS Link: https://ecos.fws.gov/ecp/species/8896\n",
      "2015 SGCN Summary Data\n"
     ]
    },
    {
     "data": {
      "text/plain": [
       "{'Common Names': ['Shasta hesperian'], 'States': ['California']}"
      ]
     },
     "metadata": {},
     "output_type": "display_data"
    },
    {
     "name": "stdout",
     "output_type": "stream",
     "text": [
      "2005 SGCN Summary Data\n"
     ]
    },
    {
     "data": {
      "text/plain": [
       "{'Common Names': ['Shasta Hesperian'], 'States': ['California']}"
      ]
     },
     "metadata": {},
     "output_type": "display_data"
    },
    {
     "name": "stdout",
     "output_type": "stream",
     "text": [
      "----------\n"
     ]
    }
   ],
   "source": [
    "for record in esaWPSpecies.find({\"SGCN\":{\"$exists\":True}},{\"Submitted Data\":1,\"SGCN.State List Summary\":1}):\n",
    "    print (\"Scientific Name:\", record[\"Submitted Data\"][\"Scientific Name\"])\n",
    "    print (\"Common Name:\", record[\"Submitted Data\"][\"Common Name\"])\n",
    "    print (\"Lead FWS Region:\", record[\"Submitted Data\"][\"Lead FWS Region\"])\n",
    "    print (\"Species Range (FWS):\", record[\"Submitted Data\"][\"Species Range\"])\n",
    "    print (\"ECOS Link:\", record[\"Submitted Data\"][\"Species Record Reference\"])\n",
    "    for sgcnSummary in record[\"SGCN\"][\"State List Summary\"]:\n",
    "        print (next(iter(sgcnSummary.keys())), \"SGCN Summary Data\")\n",
    "        display (next(iter(sgcnSummary.values())))\n",
    "    print (\"----------\")\n",
    "    "
   ]
  },
  {
   "cell_type": "markdown",
   "metadata": {},
   "source": [
    "# Species Range\n",
    "The data from the FWS 7-year work plan has a listing of states considered part of the range of the species. It's not completely clear at this point how those are designated, but we have a number of other sources to consult about what the range of the species might include.\n",
    "\n",
    "## BISON Occurrence Data\n",
    "The following code block examines the lists of states in the FWS range with a list of states that returned BISON records for the species. Three potentially interesting lists that you'll see in this section include the following:\n",
    "\n",
    "* States included in the FWS range that do have occurrence records in BISON\n",
    "* States from the FWS range that do not have any occurrence records in BISON\n",
    "* Additional states where the species has occurrence records in BISON but not included in the FWS range\n",
    "\n",
    "These dynamics would require quite a bit of additional exploration to do examine things like the type of occurrence record (fossils, museum specimens, etc. are all included here), date of last occurrence, and other attributes in the BISON data."
   ]
  },
  {
   "cell_type": "code",
   "execution_count": 34,
   "metadata": {},
   "outputs": [
    {
     "name": "stdout",
     "output_type": "stream",
     "text": [
      "Scientific Name: Ambystoma barbouri\n",
      "Common Name: streamside salamander\n",
      "Lead FWS Region: R4\n",
      "ECOS Link: https://ecos.fws.gov/ecp/species/9776\n",
      "States where FWS range of states align with BISON occurrence data\n"
     ]
    },
    {
     "data": {
      "text/plain": [
       "['Alabama', 'Kentucky', 'Ohio', 'Tennessee', 'West Virginia']"
      ]
     },
     "metadata": {},
     "output_type": "display_data"
    },
    {
     "name": "stdout",
     "output_type": "stream",
     "text": [
      "Additional states where BISON records occurrence data\n"
     ]
    },
    {
     "data": {
      "text/plain": [
       "['Arizona',\n",
       " 'Arkansas',\n",
       " 'California',\n",
       " 'Colorado',\n",
       " 'Connecticut',\n",
       " 'Florida',\n",
       " 'Georgia',\n",
       " 'Idaho',\n",
       " 'Illinois',\n",
       " 'Indiana',\n",
       " 'Kansas',\n",
       " 'Louisiana',\n",
       " 'Maine',\n",
       " 'Maryland',\n",
       " 'Massachusetts',\n",
       " 'Michigan',\n",
       " 'Mississippi',\n",
       " 'Missouri',\n",
       " 'Montana',\n",
       " 'Nebraska',\n",
       " 'New Hampshire',\n",
       " 'New Jersey',\n",
       " 'New York',\n",
       " 'North Carolina',\n",
       " 'Oklahoma',\n",
       " 'Oregon',\n",
       " 'Pennsylvania',\n",
       " 'South Carolina',\n",
       " 'Texas',\n",
       " 'Vermont',\n",
       " 'Virginia',\n",
       " 'Washington',\n",
       " 'Wisconsin',\n",
       " 'Wyoming']"
      ]
     },
     "metadata": {},
     "output_type": "display_data"
    },
    {
     "name": "stdout",
     "output_type": "stream",
     "text": [
      "----------\n",
      "Scientific Name: Anaxyrus boreas boreas\n",
      "Common Name: Boreal toad (Eastern population)\n",
      "Lead FWS Region: R6\n",
      "ECOS Link: https://ecos.fws.gov/ecp/species/1114\n",
      "States where FWS range of states align with BISON occurrence data\n"
     ]
    },
    {
     "data": {
      "text/plain": [
       "['New Mexico', 'Utah', 'Wyoming']"
      ]
     },
     "metadata": {},
     "output_type": "display_data"
    },
    {
     "name": "stdout",
     "output_type": "stream",
     "text": [
      "States where FWS range of states had no BISON occurrence data\n"
     ]
    },
    {
     "data": {
      "text/plain": [
       "['Colorado', 'Idaho', 'Nevada']"
      ]
     },
     "metadata": {},
     "output_type": "display_data"
    },
    {
     "name": "stdout",
     "output_type": "stream",
     "text": [
      "Additional states where BISON records occurrence data\n"
     ]
    },
    {
     "data": {
      "text/plain": [
       "['Arizona',\n",
       " 'Arkansas',\n",
       " 'Connecticut',\n",
       " 'Florida',\n",
       " 'Indiana',\n",
       " 'Louisiana',\n",
       " 'Massachusetts',\n",
       " 'Montana',\n",
       " 'New Jersey',\n",
       " 'New York',\n",
       " 'North Carolina',\n",
       " 'Ohio',\n",
       " 'Oklahoma',\n",
       " 'Texas',\n",
       " 'Virginia']"
      ]
     },
     "metadata": {},
     "output_type": "display_data"
    },
    {
     "name": "stdout",
     "output_type": "stream",
     "text": [
      "----------\n",
      "Scientific Name: Batrachoseps campi\n",
      "Common Name: Inyo Mountains slender salamander\n",
      "Lead FWS Region: R8\n",
      "ECOS Link: https://ecos.fws.gov/ecp/species/2095\n",
      "States where FWS range of states align with BISON occurrence data\n"
     ]
    },
    {
     "data": {
      "text/plain": [
       "['California']"
      ]
     },
     "metadata": {},
     "output_type": "display_data"
    },
    {
     "name": "stdout",
     "output_type": "stream",
     "text": [
      "----------\n",
      "Scientific Name: Batrachoseps minor\n",
      "Common Name: lesser slender salamander\n",
      "Lead FWS Region: R8\n",
      "ECOS Link: https://ecos.fws.gov/ecp/species/9277\n",
      "States where FWS range of states align with BISON occurrence data\n"
     ]
    },
    {
     "data": {
      "text/plain": [
       "['California']"
      ]
     },
     "metadata": {},
     "output_type": "display_data"
    },
    {
     "name": "stdout",
     "output_type": "stream",
     "text": [
      "----------\n",
      "Scientific Name: Batrachoseps relictus\n",
      "Common Name: relictual slender salamander\n",
      "Lead FWS Region: R8\n",
      "ECOS Link: https://ecos.fws.gov/ecp/species/7408\n",
      "States where FWS range of states align with BISON occurrence data\n"
     ]
    },
    {
     "data": {
      "text/plain": [
       "['California']"
      ]
     },
     "metadata": {},
     "output_type": "display_data"
    },
    {
     "name": "stdout",
     "output_type": "stream",
     "text": [
      "----------\n",
      "Scientific Name: Batrachoseps robustus\n",
      "Common Name: Kern Plateau salamander\n",
      "Lead FWS Region: R8\n",
      "ECOS Link: https://ecos.fws.gov/ecp/species/9274\n",
      "States where FWS range of states align with BISON occurrence data\n"
     ]
    },
    {
     "data": {
      "text/plain": [
       "['California']"
      ]
     },
     "metadata": {},
     "output_type": "display_data"
    },
    {
     "name": "stdout",
     "output_type": "stream",
     "text": [
      "----------\n",
      "Scientific Name: Batrachoseps simatus\n",
      "Common Name: Kern Canyon slender salamander\n",
      "Lead FWS Region: R8\n",
      "ECOS Link: https://ecos.fws.gov/ecp/species/5736\n",
      "States where FWS range of states align with BISON occurrence data\n"
     ]
    },
    {
     "data": {
      "text/plain": [
       "['California']"
      ]
     },
     "metadata": {},
     "output_type": "display_data"
    },
    {
     "name": "stdout",
     "output_type": "stream",
     "text": [
      "----------\n",
      "Scientific Name: Batrachoseps wrighti\n",
      "Common Name: Oregon slender salamander\n",
      "Lead FWS Region: R1\n",
      "ECOS Link: https://ecos.fws.gov/ecp/species/913\n",
      "States where FWS range of states had no BISON occurrence data\n"
     ]
    },
    {
     "data": {
      "text/plain": [
       "['Oregon', 'Washington']"
      ]
     },
     "metadata": {},
     "output_type": "display_data"
    },
    {
     "name": "stdout",
     "output_type": "stream",
     "text": [
      "Additional states where BISON records occurrence data\n"
     ]
    },
    {
     "data": {
      "text/plain": [
       "['California']"
      ]
     },
     "metadata": {},
     "output_type": "display_data"
    },
    {
     "name": "stdout",
     "output_type": "stream",
     "text": [
      "----------\n",
      "Scientific Name: Bufo microscaphus microscaphus\n",
      "Common Name: Arizona toad\n",
      "Lead FWS Region: R2\n",
      "ECOS Link: https://ecos.fws.gov/ecp/species/2077\n",
      "States where FWS range of states align with BISON occurrence data\n"
     ]
    },
    {
     "data": {
      "text/plain": [
       "['Arizona', 'California', 'New Mexico', 'Nevada', 'Utah']"
      ]
     },
     "metadata": {},
     "output_type": "display_data"
    },
    {
     "name": "stdout",
     "output_type": "stream",
     "text": [
      "Additional states where BISON records occurrence data\n"
     ]
    },
    {
     "data": {
      "text/plain": [
       "['Alabama',\n",
       " 'Alaska',\n",
       " 'Arkansas',\n",
       " 'Colorado',\n",
       " 'Connecticut',\n",
       " 'Delaware',\n",
       " 'Florida',\n",
       " 'Georgia',\n",
       " 'Guam',\n",
       " 'Hawaii',\n",
       " 'Illinois',\n",
       " 'Indiana',\n",
       " 'Iowa',\n",
       " 'Kansas',\n",
       " 'Kentucky',\n",
       " 'Louisiana',\n",
       " 'Maine',\n",
       " 'Maryland',\n",
       " 'Massachusetts',\n",
       " 'Michigan',\n",
       " 'Minnesota',\n",
       " 'Mississippi',\n",
       " 'Missouri',\n",
       " 'Nebraska',\n",
       " 'New Hampshire',\n",
       " 'New Jersey',\n",
       " 'New York',\n",
       " 'North Carolina',\n",
       " 'North Dakota',\n",
       " 'Ohio',\n",
       " 'Oklahoma',\n",
       " 'Oregon',\n",
       " 'Pennsylvania',\n",
       " 'Rhode Island',\n",
       " 'South Carolina',\n",
       " 'South Dakota',\n",
       " 'Tennessee',\n",
       " 'Texas',\n",
       " 'Virginia',\n",
       " 'Washington',\n",
       " 'West Virginia',\n",
       " 'Wisconsin',\n",
       " 'Wyoming']"
      ]
     },
     "metadata": {},
     "output_type": "display_data"
    },
    {
     "name": "stdout",
     "output_type": "stream",
     "text": [
      "----------\n",
      "Scientific Name: Cryptobranchus alleganiensis\n",
      "Common Name: hellbender\n",
      "Lead FWS Region: R3\n",
      "ECOS Link: https://ecos.fws.gov/ecp0/profile/speciesProfile?spcode=D00Y\n",
      "States where FWS range of states had no BISON occurrence data\n"
     ]
    },
    {
     "data": {
      "text/plain": [
       "['Alabama',\n",
       " 'Arkansas',\n",
       " 'Georgia',\n",
       " 'Illinois',\n",
       " 'Indiana',\n",
       " 'Kentucky',\n",
       " 'Maryland',\n",
       " 'Missouri',\n",
       " 'Mississippi',\n",
       " 'North Carolina',\n",
       " 'New York',\n",
       " 'Ohio',\n",
       " 'Pennsylvania',\n",
       " 'South Carolina',\n",
       " 'Tennessee',\n",
       " 'Virginia',\n",
       " 'West Virginia']"
      ]
     },
     "metadata": {},
     "output_type": "display_data"
    },
    {
     "name": "stdout",
     "output_type": "stream",
     "text": [
      "Additional states where BISON records occurrence data\n"
     ]
    },
    {
     "data": {
      "text/plain": [
       "['Nebraska']"
      ]
     },
     "metadata": {},
     "output_type": "display_data"
    },
    {
     "name": "stdout",
     "output_type": "stream",
     "text": [
      "----------\n",
      "Scientific Name: Eurycea latitans\n",
      "Common Name: Cascade Caverns salamander\n",
      "Lead FWS Region: R2\n",
      "ECOS Link: https://ecos.fws.gov/ecp/species/4624\n",
      "States where FWS range of states align with BISON occurrence data\n"
     ]
    },
    {
     "data": {
      "text/plain": [
       "['Texas']"
      ]
     },
     "metadata": {},
     "output_type": "display_data"
    },
    {
     "name": "stdout",
     "output_type": "stream",
     "text": [
      "Additional states where BISON records occurrence data\n"
     ]
    },
    {
     "data": {
      "text/plain": [
       "['Alabama',\n",
       " 'Arkansas',\n",
       " 'Florida',\n",
       " 'Georgia',\n",
       " 'Illinois',\n",
       " 'Indiana',\n",
       " 'Kentucky',\n",
       " 'Maryland',\n",
       " 'Mississippi',\n",
       " 'Missouri',\n",
       " 'New Jersey',\n",
       " 'New York',\n",
       " 'North Carolina',\n",
       " 'Ohio',\n",
       " 'Oklahoma',\n",
       " 'Pennsylvania',\n",
       " 'South Carolina',\n",
       " 'Tennessee',\n",
       " 'Virginia',\n",
       " 'West Virginia']"
      ]
     },
     "metadata": {},
     "output_type": "display_data"
    },
    {
     "name": "stdout",
     "output_type": "stream",
     "text": [
      "----------\n",
      "Scientific Name: Eurycea nana\n",
      "Common Name: Texas salamander\n",
      "Lead FWS Region: R2\n",
      "ECOS Link: https://ecos.fws.gov/ecp0/profile/speciesProfile?spcode=D00I\n",
      "States where FWS range of states align with BISON occurrence data\n"
     ]
    },
    {
     "data": {
      "text/plain": [
       "['Texas']"
      ]
     },
     "metadata": {},
     "output_type": "display_data"
    },
    {
     "name": "stdout",
     "output_type": "stream",
     "text": [
      "Additional states where BISON records occurrence data\n"
     ]
    },
    {
     "data": {
      "text/plain": [
       "['Alabama',\n",
       " 'Arkansas',\n",
       " 'Florida',\n",
       " 'Georgia',\n",
       " 'Illinois',\n",
       " 'Indiana',\n",
       " 'Kentucky',\n",
       " 'Maryland',\n",
       " 'Mississippi',\n",
       " 'Missouri',\n",
       " 'New Jersey',\n",
       " 'New York',\n",
       " 'North Carolina',\n",
       " 'Ohio',\n",
       " 'Oklahoma',\n",
       " 'Pennsylvania',\n",
       " 'South Carolina',\n",
       " 'Tennessee',\n",
       " 'Virginia',\n",
       " 'West Virginia']"
      ]
     },
     "metadata": {},
     "output_type": "display_data"
    },
    {
     "name": "stdout",
     "output_type": "stream",
     "text": [
      "----------\n",
      "Scientific Name: Eurycea robusta\n",
      "Common Name: Blanco blind salamander\n",
      "Lead FWS Region: R2\n",
      "ECOS Link: https://ecos.fws.gov/ecp/species/29\n",
      "States where FWS range of states align with BISON occurrence data\n"
     ]
    },
    {
     "data": {
      "text/plain": [
       "['Texas']"
      ]
     },
     "metadata": {},
     "output_type": "display_data"
    },
    {
     "name": "stdout",
     "output_type": "stream",
     "text": [
      "Additional states where BISON records occurrence data\n"
     ]
    },
    {
     "data": {
      "text/plain": [
       "['Alabama',\n",
       " 'Arkansas',\n",
       " 'Florida',\n",
       " 'Georgia',\n",
       " 'Illinois',\n",
       " 'Indiana',\n",
       " 'Kentucky',\n",
       " 'Maryland',\n",
       " 'Mississippi',\n",
       " 'Missouri',\n",
       " 'New Jersey',\n",
       " 'New York',\n",
       " 'North Carolina',\n",
       " 'Ohio',\n",
       " 'Oklahoma',\n",
       " 'Pennsylvania',\n",
       " 'South Carolina',\n",
       " 'Tennessee',\n",
       " 'Virginia',\n",
       " 'West Virginia']"
      ]
     },
     "metadata": {},
     "output_type": "display_data"
    },
    {
     "name": "stdout",
     "output_type": "stream",
     "text": [
      "----------\n",
      "Scientific Name: Eurycea sp.\n",
      "Common Name: Comal Springs salamander\n",
      "Lead FWS Region: R2\n",
      "ECOS Link: https://ecos.fws.gov/ecp0/profile/speciesProfile?spcode=D03Z\n",
      "States where FWS range of states align with BISON occurrence data\n"
     ]
    },
    {
     "data": {
      "text/plain": [
       "['Texas']"
      ]
     },
     "metadata": {},
     "output_type": "display_data"
    },
    {
     "name": "stdout",
     "output_type": "stream",
     "text": [
      "Additional states where BISON records occurrence data\n"
     ]
    },
    {
     "data": {
      "text/plain": [
       "['Alabama',\n",
       " 'Arkansas',\n",
       " 'Florida',\n",
       " 'Georgia',\n",
       " 'Illinois',\n",
       " 'Indiana',\n",
       " 'Kentucky',\n",
       " 'Maryland',\n",
       " 'Mississippi',\n",
       " 'Missouri',\n",
       " 'New Jersey',\n",
       " 'New York',\n",
       " 'North Carolina',\n",
       " 'Ohio',\n",
       " 'Oklahoma',\n",
       " 'Pennsylvania',\n",
       " 'South Carolina',\n",
       " 'Tennessee',\n",
       " 'Virginia',\n",
       " 'West Virginia']"
      ]
     },
     "metadata": {},
     "output_type": "display_data"
    },
    {
     "name": "stdout",
     "output_type": "stream",
     "text": [
      "----------\n",
      "Scientific Name: Eurycea tridentifera\n",
      "Common Name: Comal blind salamander\n",
      "Lead FWS Region: R2\n",
      "ECOS Link: https://ecos.fws.gov/ecp/species/2890\n",
      "States where FWS range of states align with BISON occurrence data\n"
     ]
    },
    {
     "data": {
      "text/plain": [
       "['Texas']"
      ]
     },
     "metadata": {},
     "output_type": "display_data"
    },
    {
     "name": "stdout",
     "output_type": "stream",
     "text": [
      "Additional states where BISON records occurrence data\n"
     ]
    },
    {
     "data": {
      "text/plain": [
       "['Alabama',\n",
       " 'Arkansas',\n",
       " 'Florida',\n",
       " 'Georgia',\n",
       " 'Illinois',\n",
       " 'Indiana',\n",
       " 'Kentucky',\n",
       " 'Maryland',\n",
       " 'Mississippi',\n",
       " 'Missouri',\n",
       " 'New Jersey',\n",
       " 'New York',\n",
       " 'North Carolina',\n",
       " 'Ohio',\n",
       " 'Oklahoma',\n",
       " 'Pennsylvania',\n",
       " 'South Carolina',\n",
       " 'Tennessee',\n",
       " 'Virginia',\n",
       " 'West Virginia']"
      ]
     },
     "metadata": {},
     "output_type": "display_data"
    },
    {
     "name": "stdout",
     "output_type": "stream",
     "text": [
      "----------\n",
      "Scientific Name: Eurycea tynerensis\n",
      "Common Name: Oklahoma salamander\n",
      "Lead FWS Region: R4\n",
      "ECOS Link: https://ecos.fws.gov/ecp/species/4096\n",
      "States where FWS range of states align with BISON occurrence data\n"
     ]
    },
    {
     "data": {
      "text/plain": [
       "['Oklahoma', 'Missouri', 'Arkansas']"
      ]
     },
     "metadata": {},
     "output_type": "display_data"
    },
    {
     "name": "stdout",
     "output_type": "stream",
     "text": [
      "Additional states where BISON records occurrence data\n"
     ]
    },
    {
     "data": {
      "text/plain": [
       "['Alabama',\n",
       " 'Florida',\n",
       " 'Georgia',\n",
       " 'Illinois',\n",
       " 'Indiana',\n",
       " 'Kentucky',\n",
       " 'Maryland',\n",
       " 'Mississippi',\n",
       " 'New Jersey',\n",
       " 'New York',\n",
       " 'North Carolina',\n",
       " 'Ohio',\n",
       " 'Pennsylvania',\n",
       " 'South Carolina',\n",
       " 'Tennessee',\n",
       " 'Texas',\n",
       " 'Virginia',\n",
       " 'West Virginia']"
      ]
     },
     "metadata": {},
     "output_type": "display_data"
    },
    {
     "name": "stdout",
     "output_type": "stream",
     "text": [
      "----------\n",
      "Scientific Name: Gyrinophilus gulolineatus\n",
      "Common Name: Berry Cave Salamander\n",
      "Lead FWS Region: R4\n",
      "ECOS Link: https://ecos.fws.gov/ecp/species/4043\n",
      "States where FWS range of states align with BISON occurrence data\n"
     ]
    },
    {
     "data": {
      "text/plain": [
       "['Tennessee']"
      ]
     },
     "metadata": {},
     "output_type": "display_data"
    },
    {
     "name": "stdout",
     "output_type": "stream",
     "text": [
      "Additional states where BISON records occurrence data\n"
     ]
    },
    {
     "data": {
      "text/plain": [
       "['Georgia',\n",
       " 'New York',\n",
       " 'North Carolina',\n",
       " 'Ohio',\n",
       " 'Pennsylvania',\n",
       " 'Virginia',\n",
       " 'West Virginia']"
      ]
     },
     "metadata": {},
     "output_type": "display_data"
    },
    {
     "name": "stdout",
     "output_type": "stream",
     "text": [
      "----------\n",
      "Scientific Name: Gyrinophilus palleucus\n",
      "Common Name: Tennessee Cave salamander\n",
      "Lead FWS Region: R4\n",
      "ECOS Link: https://ecos.fws.gov/ecp/species/5131\n",
      "States where FWS range of states align with BISON occurrence data\n"
     ]
    },
    {
     "data": {
      "text/plain": [
       "['Georgia', 'Tennessee']"
      ]
     },
     "metadata": {},
     "output_type": "display_data"
    },
    {
     "name": "stdout",
     "output_type": "stream",
     "text": [
      "States where FWS range of states had no BISON occurrence data\n"
     ]
    },
    {
     "data": {
      "text/plain": [
       "['Alabama']"
      ]
     },
     "metadata": {},
     "output_type": "display_data"
    },
    {
     "name": "stdout",
     "output_type": "stream",
     "text": [
      "Additional states where BISON records occurrence data\n"
     ]
    },
    {
     "data": {
      "text/plain": [
       "['New York',\n",
       " 'North Carolina',\n",
       " 'Ohio',\n",
       " 'Pennsylvania',\n",
       " 'Virginia',\n",
       " 'West Virginia']"
      ]
     },
     "metadata": {},
     "output_type": "display_data"
    },
    {
     "name": "stdout",
     "output_type": "stream",
     "text": [
      "----------\n",
      "Scientific Name: Gyrinophilus subterraneus\n",
      "Common Name: West Virginia spring salamander\n",
      "Lead FWS Region: R5\n",
      "ECOS Link: https://ecos.fws.gov/ecp/species/1835\n",
      "States where FWS range of states align with BISON occurrence data\n"
     ]
    },
    {
     "data": {
      "text/plain": [
       "['West Virginia']"
      ]
     },
     "metadata": {},
     "output_type": "display_data"
    },
    {
     "name": "stdout",
     "output_type": "stream",
     "text": [
      "Additional states where BISON records occurrence data\n"
     ]
    },
    {
     "data": {
      "text/plain": [
       "['Georgia',\n",
       " 'New York',\n",
       " 'North Carolina',\n",
       " 'Ohio',\n",
       " 'Pennsylvania',\n",
       " 'Tennessee',\n",
       " 'Virginia']"
      ]
     },
     "metadata": {},
     "output_type": "display_data"
    },
    {
     "name": "stdout",
     "output_type": "stream",
     "text": [
      "----------\n",
      "Scientific Name: Haideotriton wallacei\n",
      "Common Name: Georgia blind salamander\n",
      "Lead FWS Region: R4\n",
      "ECOS Link: https://ecos.fws.gov/ecp/species/8465\n",
      "States where FWS range of states had no BISON occurrence data\n"
     ]
    },
    {
     "data": {
      "text/plain": [
       "['Florida', 'Georgia']"
      ]
     },
     "metadata": {},
     "output_type": "display_data"
    },
    {
     "name": "stdout",
     "output_type": "stream",
     "text": [
      "----------\n",
      "Scientific Name: Hydromantes brunus\n",
      "Common Name: limestone salamander\n",
      "Lead FWS Region: R8\n",
      "ECOS Link: https://ecos.fws.gov/ecp/species/2773\n",
      "States where FWS range of states align with BISON occurrence data\n"
     ]
    },
    {
     "data": {
      "text/plain": [
       "['California']"
      ]
     },
     "metadata": {},
     "output_type": "display_data"
    },
    {
     "name": "stdout",
     "output_type": "stream",
     "text": [
      "----------\n",
      "Scientific Name: Hydromantes shastae\n",
      "Common Name: Shasta salamander\n",
      "Lead FWS Region: R8\n",
      "ECOS Link: https://ecos.fws.gov/ecp/species/6607\n",
      "States where FWS range of states align with BISON occurrence data\n"
     ]
    },
    {
     "data": {
      "text/plain": [
       "['California']"
      ]
     },
     "metadata": {},
     "output_type": "display_data"
    },
    {
     "name": "stdout",
     "output_type": "stream",
     "text": [
      "----------\n",
      "Scientific Name: Necturus lewisi\n",
      "Common Name: Neuse River waterdog\n",
      "Lead FWS Region: R4\n",
      "ECOS Link: https://ecos.fws.gov/ecp/species/6772\n",
      "States where FWS range of states align with BISON occurrence data\n"
     ]
    },
    {
     "data": {
      "text/plain": [
       "['North Carolina']"
      ]
     },
     "metadata": {},
     "output_type": "display_data"
    },
    {
     "name": "stdout",
     "output_type": "stream",
     "text": [
      "Additional states where BISON records occurrence data\n"
     ]
    },
    {
     "data": {
      "text/plain": [
       "['Alabama', 'Florida', 'Louisiana', 'Michigan', 'Mississippi', 'New York']"
      ]
     },
     "metadata": {},
     "output_type": "display_data"
    },
    {
     "name": "stdout",
     "output_type": "stream",
     "text": [
      "----------\n",
      "Scientific Name: Notophthalmus perstriatus\n",
      "Common Name: striped newt\n",
      "Lead FWS Region: R4\n",
      "ECOS Link: https://ecos.fws.gov/ecp/species/5856\n",
      "States where FWS range of states align with BISON occurrence data\n"
     ]
    },
    {
     "data": {
      "text/plain": [
       "['Florida', 'Georgia']"
      ]
     },
     "metadata": {},
     "output_type": "display_data"
    },
    {
     "name": "stdout",
     "output_type": "stream",
     "text": [
      "Additional states where BISON records occurrence data\n"
     ]
    },
    {
     "data": {
      "text/plain": [
       "['California', 'New York', 'North Carolina', 'Virginia']"
      ]
     },
     "metadata": {},
     "output_type": "display_data"
    },
    {
     "name": "stdout",
     "output_type": "stream",
     "text": [
      "----------\n",
      "Scientific Name: Plethodon hubrichti\n",
      "Common Name: Peaks of Otter salamander\n",
      "Lead FWS Region: R5\n",
      "ECOS Link: https://ecos.fws.gov/ecp/species/3529\n",
      "States where FWS range of states align with BISON occurrence data\n"
     ]
    },
    {
     "data": {
      "text/plain": [
       "['Virginia']"
      ]
     },
     "metadata": {},
     "output_type": "display_data"
    },
    {
     "name": "stdout",
     "output_type": "stream",
     "text": [
      "Additional states where BISON records occurrence data\n"
     ]
    },
    {
     "data": {
      "text/plain": [
       "['Alabama',\n",
       " 'Arkansas',\n",
       " 'California',\n",
       " 'Florida',\n",
       " 'Georgia',\n",
       " 'Indiana',\n",
       " 'Kentucky',\n",
       " 'Maryland',\n",
       " 'Michigan',\n",
       " 'Mississippi',\n",
       " 'New Jersey',\n",
       " 'New York',\n",
       " 'North Carolina',\n",
       " 'Ohio',\n",
       " 'Oklahoma',\n",
       " 'Oregon',\n",
       " 'Pennsylvania',\n",
       " 'South Carolina',\n",
       " 'Tennessee',\n",
       " 'Washington',\n",
       " 'West Virginia',\n",
       " 'Wisconsin']"
      ]
     },
     "metadata": {},
     "output_type": "display_data"
    },
    {
     "name": "stdout",
     "output_type": "stream",
     "text": [
      "----------\n",
      "Scientific Name: Pseudacris illinoensis\n",
      "Common Name: Illinois chorus frog\n",
      "Lead FWS Region: R3\n",
      "ECOS Link: https://ecos.fws.gov/ecp/species/455\n",
      "States where FWS range of states align with BISON occurrence data\n"
     ]
    },
    {
     "data": {
      "text/plain": [
       "['Arkansas', 'Illinois']"
      ]
     },
     "metadata": {},
     "output_type": "display_data"
    },
    {
     "name": "stdout",
     "output_type": "stream",
     "text": [
      "States where FWS range of states had no BISON occurrence data\n"
     ]
    },
    {
     "data": {
      "text/plain": [
       "['Missouri']"
      ]
     },
     "metadata": {},
     "output_type": "display_data"
    },
    {
     "name": "stdout",
     "output_type": "stream",
     "text": [
      "Additional states where BISON records occurrence data\n"
     ]
    },
    {
     "data": {
      "text/plain": [
       "['Alabama',\n",
       " 'California',\n",
       " 'Colorado',\n",
       " 'Florida',\n",
       " 'Georgia',\n",
       " 'Kansas',\n",
       " 'Louisiana',\n",
       " 'Mississippi',\n",
       " 'Nebraska',\n",
       " 'New Jersey',\n",
       " 'New York',\n",
       " 'North Carolina',\n",
       " 'Ohio',\n",
       " 'Oklahoma',\n",
       " 'Oregon',\n",
       " 'Pennsylvania',\n",
       " 'South Carolina',\n",
       " 'South Dakota',\n",
       " 'Tennessee',\n",
       " 'Texas',\n",
       " 'Virginia',\n",
       " 'Wisconsin']"
      ]
     },
     "metadata": {},
     "output_type": "display_data"
    },
    {
     "name": "stdout",
     "output_type": "stream",
     "text": [
      "----------\n",
      "Scientific Name: Rana boylii\n",
      "Common Name: foothill yellow-legged frog\n",
      "Lead FWS Region: R8\n",
      "ECOS Link: https://ecos.fws.gov/ecp/species/5133\n",
      "States where FWS range of states align with BISON occurrence data\n"
     ]
    },
    {
     "data": {
      "text/plain": [
       "['California', 'Oregon']"
      ]
     },
     "metadata": {},
     "output_type": "display_data"
    },
    {
     "name": "stdout",
     "output_type": "stream",
     "text": [
      "Additional states where BISON records occurrence data\n"
     ]
    },
    {
     "data": {
      "text/plain": [
       "['Alabama',\n",
       " 'Arizona',\n",
       " 'Arkansas',\n",
       " 'Colorado',\n",
       " 'Connecticut',\n",
       " 'Delaware',\n",
       " 'Florida',\n",
       " 'Georgia',\n",
       " 'Hawaii',\n",
       " 'Idaho',\n",
       " 'Illinois',\n",
       " 'Indiana',\n",
       " 'Kansas',\n",
       " 'Kentucky',\n",
       " 'Louisiana',\n",
       " 'Maryland',\n",
       " 'Massachusetts',\n",
       " 'Michigan',\n",
       " 'Minnesota',\n",
       " 'Mississippi',\n",
       " 'Missouri',\n",
       " 'Nebraska',\n",
       " 'Nevada',\n",
       " 'New Hampshire',\n",
       " 'New Jersey',\n",
       " 'New Mexico',\n",
       " 'New York',\n",
       " 'North Carolina',\n",
       " 'Ohio',\n",
       " 'Oklahoma',\n",
       " 'Pennsylvania',\n",
       " 'Rhode Island',\n",
       " 'South Carolina',\n",
       " 'South Dakota',\n",
       " 'Tennessee',\n",
       " 'Texas',\n",
       " 'Utah',\n",
       " 'Vermont',\n",
       " 'Virginia',\n",
       " 'Washington',\n",
       " 'West Virginia',\n",
       " 'Wisconsin',\n",
       " 'Wyoming']"
      ]
     },
     "metadata": {},
     "output_type": "display_data"
    },
    {
     "name": "stdout",
     "output_type": "stream",
     "text": [
      "----------\n",
      "Scientific Name: Rana cascadae\n",
      "Common Name: Cascades frog\n",
      "Lead FWS Region: R1\n",
      "ECOS Link: https://ecos.fws.gov/ecp/species/7827\n",
      "States where FWS range of states align with BISON occurrence data\n"
     ]
    },
    {
     "data": {
      "text/plain": [
       "['Oregon', 'Washington']"
      ]
     },
     "metadata": {},
     "output_type": "display_data"
    },
    {
     "name": "stdout",
     "output_type": "stream",
     "text": [
      "Additional states where BISON records occurrence data\n"
     ]
    },
    {
     "data": {
      "text/plain": [
       "['Alabama',\n",
       " 'Arizona',\n",
       " 'Arkansas',\n",
       " 'California',\n",
       " 'Colorado',\n",
       " 'Connecticut',\n",
       " 'Delaware',\n",
       " 'Florida',\n",
       " 'Georgia',\n",
       " 'Hawaii',\n",
       " 'Idaho',\n",
       " 'Illinois',\n",
       " 'Indiana',\n",
       " 'Kansas',\n",
       " 'Kentucky',\n",
       " 'Louisiana',\n",
       " 'Maryland',\n",
       " 'Massachusetts',\n",
       " 'Michigan',\n",
       " 'Minnesota',\n",
       " 'Mississippi',\n",
       " 'Missouri',\n",
       " 'Nebraska',\n",
       " 'Nevada',\n",
       " 'New Hampshire',\n",
       " 'New Jersey',\n",
       " 'New Mexico',\n",
       " 'New York',\n",
       " 'North Carolina',\n",
       " 'Ohio',\n",
       " 'Oklahoma',\n",
       " 'Pennsylvania',\n",
       " 'Rhode Island',\n",
       " 'South Carolina',\n",
       " 'South Dakota',\n",
       " 'Tennessee',\n",
       " 'Texas',\n",
       " 'Utah',\n",
       " 'Vermont',\n",
       " 'Virginia',\n",
       " 'West Virginia',\n",
       " 'Wisconsin',\n",
       " 'Wyoming']"
      ]
     },
     "metadata": {},
     "output_type": "display_data"
    },
    {
     "name": "stdout",
     "output_type": "stream",
     "text": [
      "----------\n",
      "Scientific Name: Rhyacotriton cascadae\n",
      "Common Name: Cascade torrent salamander\n",
      "Lead FWS Region: R1\n",
      "ECOS Link: https://ecos.fws.gov/ecp/species/1375\n",
      "States where FWS range of states align with BISON occurrence data\n"
     ]
    },
    {
     "data": {
      "text/plain": [
       "['Washington']"
      ]
     },
     "metadata": {},
     "output_type": "display_data"
    },
    {
     "name": "stdout",
     "output_type": "stream",
     "text": [
      "States where FWS range of states had no BISON occurrence data\n"
     ]
    },
    {
     "data": {
      "text/plain": [
       "['Oregon']"
      ]
     },
     "metadata": {},
     "output_type": "display_data"
    },
    {
     "name": "stdout",
     "output_type": "stream",
     "text": [
      "----------\n",
      "Scientific Name: Rhyacotriton kezeri\n",
      "Common Name: Columbia torrent salamander\n",
      "Lead FWS Region: R1\n",
      "ECOS Link: https://ecos.fws.gov/ecp/species/3376\n",
      "States where FWS range of states align with BISON occurrence data\n"
     ]
    },
    {
     "data": {
      "text/plain": [
       "['Washington']"
      ]
     },
     "metadata": {},
     "output_type": "display_data"
    },
    {
     "name": "stdout",
     "output_type": "stream",
     "text": [
      "States where FWS range of states had no BISON occurrence data\n"
     ]
    },
    {
     "data": {
      "text/plain": [
       "['Oregon']"
      ]
     },
     "metadata": {},
     "output_type": "display_data"
    },
    {
     "name": "stdout",
     "output_type": "stream",
     "text": [
      "----------\n",
      "Scientific Name: Spea hammondii\n",
      "Common Name: western spadefoot\n",
      "Lead FWS Region: R8\n",
      "ECOS Link: https://ecos.fws.gov/ecp/species/5425\n",
      "States where FWS range of states had no BISON occurrence data\n"
     ]
    },
    {
     "data": {
      "text/plain": [
       "['California']"
      ]
     },
     "metadata": {},
     "output_type": "display_data"
    },
    {
     "name": "stdout",
     "output_type": "stream",
     "text": [
      "Additional states where BISON records occurrence data\n"
     ]
    },
    {
     "data": {
      "text/plain": [
       "['Arizona',\n",
       " 'Kansas',\n",
       " 'Nevada',\n",
       " 'New Mexico',\n",
       " 'North Carolina',\n",
       " 'Oklahoma',\n",
       " 'Texas',\n",
       " 'Utah',\n",
       " 'Virginia',\n",
       " 'West Virginia']"
      ]
     },
     "metadata": {},
     "output_type": "display_data"
    },
    {
     "name": "stdout",
     "output_type": "stream",
     "text": [
      "----------\n",
      "Scientific Name: Agelaius tricolor\n",
      "Common Name: tricolor blackbird\n",
      "Lead FWS Region: R8\n",
      "ECOS Link: https://ecos.fws.gov/ecp/species/3910\n",
      "States where FWS range of states align with BISON occurrence data\n"
     ]
    },
    {
     "data": {
      "text/plain": [
       "['California']"
      ]
     },
     "metadata": {},
     "output_type": "display_data"
    },
    {
     "name": "stdout",
     "output_type": "stream",
     "text": [
      "States where FWS range of states had no BISON occurrence data\n"
     ]
    },
    {
     "data": {
      "text/plain": [
       "['Oregon', 'Washington', 'Nevada']"
      ]
     },
     "metadata": {},
     "output_type": "display_data"
    },
    {
     "name": "stdout",
     "output_type": "stream",
     "text": [
      "Additional states where BISON records occurrence data\n"
     ]
    },
    {
     "data": {
      "text/plain": [
       "['Alaska',\n",
       " 'Colorado',\n",
       " 'Florida',\n",
       " 'Louisiana',\n",
       " 'Mississippi',\n",
       " 'New Jersey',\n",
       " 'New Mexico',\n",
       " 'Virginia']"
      ]
     },
     "metadata": {},
     "output_type": "display_data"
    },
    {
     "name": "stdout",
     "output_type": "stream",
     "text": [
      "----------\n",
      "Scientific Name: Amazona viridigenalis\n",
      "Common Name: red-crowned parrot\n",
      "Lead FWS Region: R2\n",
      "ECOS Link: https://ecos.fws.gov/ecp/species/9022\n",
      "States where FWS range of states align with BISON occurrence data\n"
     ]
    },
    {
     "data": {
      "text/plain": [
       "['Texas']"
      ]
     },
     "metadata": {},
     "output_type": "display_data"
    },
    {
     "name": "stdout",
     "output_type": "stream",
     "text": [
      "Additional states where BISON records occurrence data\n"
     ]
    },
    {
     "data": {
      "text/plain": [
       "['Washington']"
      ]
     },
     "metadata": {},
     "output_type": "display_data"
    },
    {
     "name": "stdout",
     "output_type": "stream",
     "text": [
      "----------\n",
      "Scientific Name: Ammodramus caudacutus\n",
      "Common Name: salt marsh sharp-tailed sparrow\n",
      "Lead FWS Region: R5\n",
      "ECOS Link: nan\n",
      "States where FWS range of states align with BISON occurrence data\n"
     ]
    },
    {
     "data": {
      "text/plain": [
       "['Connecticut', 'Maine', 'New York', 'South Carolina', 'Virginia']"
      ]
     },
     "metadata": {},
     "output_type": "display_data"
    },
    {
     "name": "stdout",
     "output_type": "stream",
     "text": [
      "States where FWS range of states had no BISON occurrence data\n"
     ]
    },
    {
     "data": {
      "text/plain": [
       "['Delaware',\n",
       " 'Florida',\n",
       " 'Georgia',\n",
       " 'Massachusetts',\n",
       " 'Maryland',\n",
       " 'North Carolina',\n",
       " 'New Hampshire',\n",
       " 'New Jersey',\n",
       " 'Pennsylvania',\n",
       " 'Rhode Island']"
      ]
     },
     "metadata": {},
     "output_type": "display_data"
    },
    {
     "name": "stdout",
     "output_type": "stream",
     "text": [
      "Additional states where BISON records occurrence data\n"
     ]
    },
    {
     "data": {
      "text/plain": [
       "['Arizona', 'Kansas', 'Missouri', 'Oklahoma', 'Texas']"
      ]
     },
     "metadata": {},
     "output_type": "display_data"
    },
    {
     "name": "stdout",
     "output_type": "stream",
     "text": [
      "----------\n",
      "Scientific Name: Ammodramus maritimus macgillivraii\n",
      "Common Name: MacGillivray's seaside sparrow\n",
      "Lead FWS Region: R4\n",
      "ECOS Link: https://ecos.fws.gov/ecp/species/9775\n",
      "States where FWS range of states align with BISON occurrence data\n"
     ]
    },
    {
     "data": {
      "text/plain": [
       "['South Carolina']"
      ]
     },
     "metadata": {},
     "output_type": "display_data"
    },
    {
     "name": "stdout",
     "output_type": "stream",
     "text": [
      "States where FWS range of states had no BISON occurrence data\n"
     ]
    },
    {
     "data": {
      "text/plain": [
       "['Florida', 'Georgia', 'North Carolina']"
      ]
     },
     "metadata": {},
     "output_type": "display_data"
    },
    {
     "name": "stdout",
     "output_type": "stream",
     "text": [
      "Additional states where BISON records occurrence data\n"
     ]
    },
    {
     "data": {
      "text/plain": [
       "['Arizona',\n",
       " 'Connecticut',\n",
       " 'Kansas',\n",
       " 'Maine',\n",
       " 'Missouri',\n",
       " 'New York',\n",
       " 'Oklahoma',\n",
       " 'Texas',\n",
       " 'Virginia']"
      ]
     },
     "metadata": {},
     "output_type": "display_data"
    },
    {
     "name": "stdout",
     "output_type": "stream",
     "text": [
      "----------\n",
      "Scientific Name: Catharus bicknelli\n",
      "Common Name: Bicknell's thrush\n",
      "Lead FWS Region: R5\n",
      "ECOS Link: https://ecos.fws.gov/ecp/species/606\n",
      "States where FWS range of states align with BISON occurrence data\n"
     ]
    },
    {
     "data": {
      "text/plain": [
       "['Massachusetts', 'New Jersey', 'New York', 'Vermont']"
      ]
     },
     "metadata": {},
     "output_type": "display_data"
    },
    {
     "name": "stdout",
     "output_type": "stream",
     "text": [
      "States where FWS range of states had no BISON occurrence data\n"
     ]
    },
    {
     "data": {
      "text/plain": [
       "['Connecticut',\n",
       " 'Delaware',\n",
       " 'Georgia',\n",
       " 'Maryland',\n",
       " 'Maine',\n",
       " 'North Carolina',\n",
       " 'New Hampshire',\n",
       " 'Pennsylvania',\n",
       " 'Rhode Island',\n",
       " 'South Carolina',\n",
       " 'Virginia']"
      ]
     },
     "metadata": {},
     "output_type": "display_data"
    },
    {
     "name": "stdout",
     "output_type": "stream",
     "text": [
      "Additional states where BISON records occurrence data\n"
     ]
    },
    {
     "data": {
      "text/plain": [
       "['Alaska',\n",
       " 'California',\n",
       " 'District of Columbia',\n",
       " 'Florida',\n",
       " 'Idaho',\n",
       " 'Illinois',\n",
       " 'Indiana',\n",
       " 'Michigan',\n",
       " 'Minnesota',\n",
       " 'Ohio',\n",
       " 'Oregon',\n",
       " 'Washington',\n",
       " 'Wisconsin']"
      ]
     },
     "metadata": {},
     "output_type": "display_data"
    },
    {
     "name": "stdout",
     "output_type": "stream",
     "text": [
      "----------\n",
      "Scientific Name: Fratercula cirrhata\n",
      "Common Name: tufted puffin\n",
      "Lead FWS Region: R1\n",
      "ECOS Link: https://ecos.fws.gov/ecp/species/430\n",
      "States where FWS range of states align with BISON occurrence data\n"
     ]
    },
    {
     "data": {
      "text/plain": [
       "['California']"
      ]
     },
     "metadata": {},
     "output_type": "display_data"
    },
    {
     "name": "stdout",
     "output_type": "stream",
     "text": [
      "States where FWS range of states had no BISON occurrence data\n"
     ]
    },
    {
     "data": {
      "text/plain": [
       "['Oregon', 'Washington']"
      ]
     },
     "metadata": {},
     "output_type": "display_data"
    },
    {
     "name": "stdout",
     "output_type": "stream",
     "text": [
      "Additional states where BISON records occurrence data\n"
     ]
    },
    {
     "data": {
      "text/plain": [
       "['Alaska']"
      ]
     },
     "metadata": {},
     "output_type": "display_data"
    },
    {
     "name": "stdout",
     "output_type": "stream",
     "text": [
      "----------\n",
      "Scientific Name: Grus canadensis pratensis\n",
      "Common Name: Florida sandhill crane\n",
      "Lead FWS Region: R4\n",
      "ECOS Link: https://ecos.fws.gov/ecp/species/9906\n",
      "States where FWS range of states align with BISON occurrence data\n"
     ]
    },
    {
     "data": {
      "text/plain": [
       "['Florida']"
      ]
     },
     "metadata": {},
     "output_type": "display_data"
    },
    {
     "name": "stdout",
     "output_type": "stream",
     "text": [
      "States where FWS range of states had no BISON occurrence data\n"
     ]
    },
    {
     "data": {
      "text/plain": [
       "['Georgia']"
      ]
     },
     "metadata": {},
     "output_type": "display_data"
    },
    {
     "name": "stdout",
     "output_type": "stream",
     "text": [
      "Additional states where BISON records occurrence data\n"
     ]
    },
    {
     "data": {
      "text/plain": [
       "['Alabama', 'Minnesota', 'New Mexico', 'Wisconsin', 'Wyoming']"
      ]
     },
     "metadata": {},
     "output_type": "display_data"
    },
    {
     "name": "stdout",
     "output_type": "stream",
     "text": [
      "----------\n",
      "Scientific Name: Lagopus leucura altipetens\n",
      "Common Name: southern white-tailed ptarmigan\n",
      "Lead FWS Region: R6\n",
      "ECOS Link: https://ecos.fws.gov/ecp0/profile/speciesProfile?spcode=B0H8\n",
      "States where FWS range of states had no BISON occurrence data\n"
     ]
    },
    {
     "data": {
      "text/plain": [
       "['California',\n",
       " 'Colorado',\n",
       " 'Idaho',\n",
       " 'Montana',\n",
       " 'New Mexico',\n",
       " 'Utah',\n",
       " 'Washington',\n",
       " 'Wyoming']"
      ]
     },
     "metadata": {},
     "output_type": "display_data"
    },
    {
     "name": "stdout",
     "output_type": "stream",
     "text": [
      "Additional states where BISON records occurrence data\n"
     ]
    },
    {
     "data": {
      "text/plain": [
       "['Alaska']"
      ]
     },
     "metadata": {},
     "output_type": "display_data"
    },
    {
     "name": "stdout",
     "output_type": "stream",
     "text": [
      "----------\n",
      "Scientific Name: Lagopus leucura rainierensis\n",
      "Common Name: Mt. Rainier white-tailed ptarmigan\n",
      "Lead FWS Region: R1\n",
      "ECOS Link: https://ecos.fws.gov/ecp/species/9234\n",
      "States where FWS range of states had no BISON occurrence data\n"
     ]
    },
    {
     "data": {
      "text/plain": [
       "['Washington']"
      ]
     },
     "metadata": {},
     "output_type": "display_data"
    },
    {
     "name": "stdout",
     "output_type": "stream",
     "text": [
      "Additional states where BISON records occurrence data\n"
     ]
    },
    {
     "data": {
      "text/plain": [
       "['Alaska']"
      ]
     },
     "metadata": {},
     "output_type": "display_data"
    },
    {
     "name": "stdout",
     "output_type": "stream",
     "text": [
      "----------\n",
      "Scientific Name: Laterallus jamaicensis\n",
      "Common Name: black rail\n",
      "Lead FWS Region: R4\n",
      "ECOS Link: https://ecos.fws.gov/ecp/species/7717\n",
      "States where FWS range of states align with BISON occurrence data\n"
     ]
    },
    {
     "data": {
      "text/plain": [
       "['Florida']"
      ]
     },
     "metadata": {},
     "output_type": "display_data"
    },
    {
     "name": "stdout",
     "output_type": "stream",
     "text": [
      "States where FWS range of states had no BISON occurrence data\n"
     ]
    },
    {
     "data": {
      "text/plain": [
       "['Alabama',\n",
       " 'Arkansas',\n",
       " 'Georgia',\n",
       " 'Louisiana',\n",
       " 'Mississippi',\n",
       " 'North Carolina',\n",
       " 'South Carolina',\n",
       " 'Texas',\n",
       " 'Virginia']"
      ]
     },
     "metadata": {},
     "output_type": "display_data"
    },
    {
     "name": "stdout",
     "output_type": "stream",
     "text": [
      "----------\n",
      "Scientific Name: Monarcha takatsukasae\n",
      "Common Name: Tinian monarch\n",
      "Lead FWS Region: R1\n",
      "ECOS Link: https://ecos.fws.gov/ecp/species/6613\n",
      "States where FWS range of states had no BISON occurrence data\n"
     ]
    },
    {
     "data": {
      "text/plain": [
       "['Northern Mariana Islands']"
      ]
     },
     "metadata": {},
     "output_type": "display_data"
    },
    {
     "name": "stdout",
     "output_type": "stream",
     "text": [
      "----------\n",
      "Scientific Name: picoides arcticus\n",
      "Common Name: black-backed woodpecker (Black Hills population)\n",
      "Lead FWS Region: R6\n",
      "ECOS Link: https://ecos.fws.gov/ecp/species/7951\n",
      "States where FWS range of states had no BISON occurrence data\n"
     ]
    },
    {
     "data": {
      "text/plain": [
       "['South Dakota', 'Wyoming']"
      ]
     },
     "metadata": {},
     "output_type": "display_data"
    },
    {
     "name": "stdout",
     "output_type": "stream",
     "text": [
      "----------\n",
      "Scientific Name: picoides arcticus\n",
      "Common Name: black-backed woodpecker (Oregon Cascades-California population)\n",
      "Lead FWS Region: R8\n",
      "ECOS Link: https://ecos.fws.gov/ecp/species/7951\n",
      "States where FWS range of states had no BISON occurrence data\n"
     ]
    },
    {
     "data": {
      "text/plain": [
       "['California', 'North Dakota', 'Oregon']"
      ]
     },
     "metadata": {},
     "output_type": "display_data"
    },
    {
     "name": "stdout",
     "output_type": "stream",
     "text": [
      "----------\n",
      "Scientific Name: Pterodroma hasitata\n",
      "Common Name: black-capped petrel\n",
      "Lead FWS Region: R4\n",
      "ECOS Link: https://ecos.fws.gov/ecp/species/4748\n",
      "States where FWS range of states had no BISON occurrence data\n"
     ]
    },
    {
     "data": {
      "text/plain": [
       "['Florida',\n",
       " 'Georgia',\n",
       " 'South Carolina',\n",
       " 'North Carolina',\n",
       " 'Puerto Rico',\n",
       " 'Virginia',\n",
       " 'Virgin Islands']"
      ]
     },
     "metadata": {},
     "output_type": "display_data"
    },
    {
     "name": "stdout",
     "output_type": "stream",
     "text": [
      "Additional states where BISON records occurrence data\n"
     ]
    },
    {
     "data": {
      "text/plain": [
       "['Hawaii']"
      ]
     },
     "metadata": {},
     "output_type": "display_data"
    },
    {
     "name": "stdout",
     "output_type": "stream",
     "text": [
      "----------\n",
      "Scientific Name: Strix occidentalis caurina\n",
      "Common Name: northern spotted owl\n",
      "Lead FWS Region: R1\n",
      "ECOS Link: https://ecos.fws.gov/ecp/species/1123\n",
      "States where FWS range of states align with BISON occurrence data\n"
     ]
    },
    {
     "data": {
      "text/plain": [
       "['California', 'Washington']"
      ]
     },
     "metadata": {},
     "output_type": "display_data"
    },
    {
     "name": "stdout",
     "output_type": "stream",
     "text": [
      "States where FWS range of states had no BISON occurrence data\n"
     ]
    },
    {
     "data": {
      "text/plain": [
       "['Oregon']"
      ]
     },
     "metadata": {},
     "output_type": "display_data"
    },
    {
     "name": "stdout",
     "output_type": "stream",
     "text": [
      "Additional states where BISON records occurrence data\n"
     ]
    },
    {
     "data": {
      "text/plain": [
       "['Florida', 'Michigan', 'Minnesota', 'Nevada', 'Ohio', 'Pennsylvania', 'Texas']"
      ]
     },
     "metadata": {},
     "output_type": "display_data"
    },
    {
     "name": "stdout",
     "output_type": "stream",
     "text": [
      "----------\n",
      "Scientific Name: Strix occidentalis occidentalis\n",
      "Common Name: California spotted owl\n",
      "Lead FWS Region: R8\n",
      "ECOS Link: https://ecos.fws.gov/ecp/species/7266\n",
      "States where FWS range of states align with BISON occurrence data\n"
     ]
    },
    {
     "data": {
      "text/plain": [
       "['California']"
      ]
     },
     "metadata": {},
     "output_type": "display_data"
    },
    {
     "name": "stdout",
     "output_type": "stream",
     "text": [
      "States where FWS range of states had no BISON occurrence data\n"
     ]
    },
    {
     "data": {
      "text/plain": [
       "['Oregon']"
      ]
     },
     "metadata": {},
     "output_type": "display_data"
    },
    {
     "name": "stdout",
     "output_type": "stream",
     "text": [
      "Additional states where BISON records occurrence data\n"
     ]
    },
    {
     "data": {
      "text/plain": [
       "['Florida',\n",
       " 'Michigan',\n",
       " 'Minnesota',\n",
       " 'Nevada',\n",
       " 'Ohio',\n",
       " 'Pennsylvania',\n",
       " 'Texas',\n",
       " 'Washington']"
      ]
     },
     "metadata": {},
     "output_type": "display_data"
    },
    {
     "name": "stdout",
     "output_type": "stream",
     "text": [
      "----------\n",
      "Scientific Name: Tympanuchus pallidicinctus\n",
      "Common Name: lesser prairie-chicken\n",
      "Lead FWS Region: R2\n",
      "ECOS Link: https://ecos.fws.gov/ecp/species/1924\n",
      "States where FWS range of states align with BISON occurrence data\n"
     ]
    },
    {
     "data": {
      "text/plain": [
       "['Kansas', 'New Mexico', 'Texas']"
      ]
     },
     "metadata": {},
     "output_type": "display_data"
    },
    {
     "name": "stdout",
     "output_type": "stream",
     "text": [
      "States where FWS range of states had no BISON occurrence data\n"
     ]
    },
    {
     "data": {
      "text/plain": [
       "['Colorado', 'Oklahoma']"
      ]
     },
     "metadata": {},
     "output_type": "display_data"
    },
    {
     "name": "stdout",
     "output_type": "stream",
     "text": [
      "Additional states where BISON records occurrence data\n"
     ]
    },
    {
     "data": {
      "text/plain": [
       "['Illinois',\n",
       " 'Iowa',\n",
       " 'Michigan',\n",
       " 'Minnesota',\n",
       " 'Nebraska',\n",
       " 'North Dakota',\n",
       " 'Ohio',\n",
       " 'South Dakota',\n",
       " 'Wisconsin']"
      ]
     },
     "metadata": {},
     "output_type": "display_data"
    },
    {
     "name": "stdout",
     "output_type": "stream",
     "text": [
      "----------\n",
      "Scientific Name: Vermivora chrysoptera\n",
      "Common Name: golden-winged warbler\n",
      "Lead FWS Region: R3\n",
      "ECOS Link: https://ecos.fws.gov/ecp/species/8745\n",
      "States where FWS range of states align with BISON occurrence data\n"
     ]
    },
    {
     "data": {
      "text/plain": [
       "['Alabama',\n",
       " 'Connecticut',\n",
       " 'Florida',\n",
       " 'Georgia',\n",
       " 'Illinois',\n",
       " 'Kansas',\n",
       " 'Kentucky',\n",
       " 'Louisiana',\n",
       " 'Massachusetts',\n",
       " 'Maryland',\n",
       " 'Michigan',\n",
       " 'Missouri',\n",
       " 'North Carolina',\n",
       " 'New Jersey',\n",
       " 'New York',\n",
       " 'Ohio',\n",
       " 'Pennsylvania',\n",
       " 'Texas',\n",
       " 'Virginia',\n",
       " 'Vermont',\n",
       " 'Wisconsin',\n",
       " 'West Virginia']"
      ]
     },
     "metadata": {},
     "output_type": "display_data"
    },
    {
     "name": "stdout",
     "output_type": "stream",
     "text": [
      "States where FWS range of states had no BISON occurrence data\n"
     ]
    },
    {
     "data": {
      "text/plain": [
       "['Arkansas',\n",
       " 'Colorado',\n",
       " 'District of Columbia',\n",
       " 'Delaware',\n",
       " 'Iowa',\n",
       " 'Indiana',\n",
       " 'Minnesota',\n",
       " 'Mississippi',\n",
       " 'North Dakota',\n",
       " 'Nebraska',\n",
       " 'New Hampshire',\n",
       " 'Oklahoma',\n",
       " 'South Carolina',\n",
       " 'South Dakota',\n",
       " 'Tennessee']"
      ]
     },
     "metadata": {},
     "output_type": "display_data"
    },
    {
     "name": "stdout",
     "output_type": "stream",
     "text": [
      "Additional states where BISON records occurrence data\n"
     ]
    },
    {
     "data": {
      "text/plain": [
       "['Arizona', 'California', 'Idaho', 'New Mexico', 'Rhode Island', 'Washington']"
      ]
     },
     "metadata": {},
     "output_type": "display_data"
    },
    {
     "name": "stdout",
     "output_type": "stream",
     "text": [
      "----------\n",
      "Scientific Name: Alasmidonta triangulata\n",
      "Common Name: southern elktoe\n",
      "Lead FWS Region: R4\n",
      "ECOS Link: https://ecos.fws.gov/ecp/species/9871\n",
      "States where FWS range of states align with BISON occurrence data\n"
     ]
    },
    {
     "data": {
      "text/plain": [
       "['Alabama', 'Georgia']"
      ]
     },
     "metadata": {},
     "output_type": "display_data"
    },
    {
     "name": "stdout",
     "output_type": "stream",
     "text": [
      "States where FWS range of states had no BISON occurrence data\n"
     ]
    },
    {
     "data": {
      "text/plain": [
       "['Florida']"
      ]
     },
     "metadata": {},
     "output_type": "display_data"
    },
    {
     "name": "stdout",
     "output_type": "stream",
     "text": [
      "Additional states where BISON records occurrence data\n"
     ]
    },
    {
     "data": {
      "text/plain": [
       "['New Jersey', 'North Carolina', 'Virginia']"
      ]
     },
     "metadata": {},
     "output_type": "display_data"
    },
    {
     "name": "stdout",
     "output_type": "stream",
     "text": [
      "----------\n",
      "Scientific Name: Alasmidonta varicosa\n",
      "Common Name: brook floater\n",
      "Lead FWS Region: R5\n",
      "ECOS Link: https://ecos.fws.gov/ecp/species/785\n",
      "States where FWS range of states align with BISON occurrence data\n"
     ]
    },
    {
     "data": {
      "text/plain": [
       "['Georgia', 'North Carolina', 'New Jersey', 'Virginia']"
      ]
     },
     "metadata": {},
     "output_type": "display_data"
    },
    {
     "name": "stdout",
     "output_type": "stream",
     "text": [
      "States where FWS range of states had no BISON occurrence data\n"
     ]
    },
    {
     "data": {
      "text/plain": [
       "['Connecticut',\n",
       " 'District of Columbia',\n",
       " 'Massachusetts',\n",
       " 'Maryland',\n",
       " 'Maine',\n",
       " 'New Hampshire',\n",
       " 'New York',\n",
       " 'Pennsylvania',\n",
       " 'Rhode Island',\n",
       " 'South Carolina',\n",
       " 'Vermont',\n",
       " 'West Virginia']"
      ]
     },
     "metadata": {},
     "output_type": "display_data"
    },
    {
     "name": "stdout",
     "output_type": "stream",
     "text": [
      "Additional states where BISON records occurrence data\n"
     ]
    },
    {
     "data": {
      "text/plain": [
       "['Alabama']"
      ]
     },
     "metadata": {},
     "output_type": "display_data"
    },
    {
     "name": "stdout",
     "output_type": "stream",
     "text": [
      "----------\n",
      "Scientific Name: Anodonta heardi\n",
      "Common Name: Apalachicola floater\n",
      "Lead FWS Region: R4\n",
      "ECOS Link: https://ecos.fws.gov/ecp/species/9873\n",
      "States where FWS range of states align with BISON occurrence data\n"
     ]
    },
    {
     "data": {
      "text/plain": [
       "['Alabama', 'Florida']"
      ]
     },
     "metadata": {},
     "output_type": "display_data"
    },
    {
     "name": "stdout",
     "output_type": "stream",
     "text": [
      "States where FWS range of states had no BISON occurrence data\n"
     ]
    },
    {
     "data": {
      "text/plain": [
       "['Georgia']"
      ]
     },
     "metadata": {},
     "output_type": "display_data"
    },
    {
     "name": "stdout",
     "output_type": "stream",
     "text": [
      "Additional states where BISON records occurrence data\n"
     ]
    },
    {
     "data": {
      "text/plain": [
       "['Alaska',\n",
       " 'Arkansas',\n",
       " 'California',\n",
       " 'Colorado',\n",
       " 'Connecticut',\n",
       " 'Delaware',\n",
       " 'Illinois',\n",
       " 'Indiana',\n",
       " 'Maine',\n",
       " 'Maryland',\n",
       " 'Massachusetts',\n",
       " 'Michigan',\n",
       " 'Minnesota',\n",
       " 'Mississippi',\n",
       " 'Missouri',\n",
       " 'Montana',\n",
       " 'New Hampshire',\n",
       " 'New Jersey',\n",
       " 'New York',\n",
       " 'North Carolina',\n",
       " 'Ohio',\n",
       " 'Oregon',\n",
       " 'Pennsylvania',\n",
       " 'Texas',\n",
       " 'Utah',\n",
       " 'Virginia',\n",
       " 'Wisconsin']"
      ]
     },
     "metadata": {},
     "output_type": "display_data"
    },
    {
     "name": "stdout",
     "output_type": "stream",
     "text": [
      "----------\n",
      "Scientific Name: Cyprogenia aberti\n",
      "Common Name: western fanshell\n",
      "Lead FWS Region: R3\n",
      "ECOS Link: https://ecos.fws.gov/ecp/species/6895\n",
      "States where FWS range of states align with BISON occurrence data\n"
     ]
    },
    {
     "data": {
      "text/plain": [
       "['Kansas', 'Missouri']"
      ]
     },
     "metadata": {},
     "output_type": "display_data"
    },
    {
     "name": "stdout",
     "output_type": "stream",
     "text": [
      "States where FWS range of states had no BISON occurrence data\n"
     ]
    },
    {
     "data": {
      "text/plain": [
       "['Arkansas', 'Louisiana', 'Mississippi', 'Oklahoma']"
      ]
     },
     "metadata": {},
     "output_type": "display_data"
    },
    {
     "name": "stdout",
     "output_type": "stream",
     "text": [
      "----------\n",
      "Scientific Name: Elliptio lanceolata\n",
      "Common Name: Yellow lance\n",
      "Lead FWS Region: R4\n",
      "ECOS Link: https://ecos.fws.gov/ecp/species/4511\n",
      "States where FWS range of states align with BISON occurrence data\n"
     ]
    },
    {
     "data": {
      "text/plain": [
       "['North Carolina', 'South Carolina', 'Virginia']"
      ]
     },
     "metadata": {},
     "output_type": "display_data"
    },
    {
     "name": "stdout",
     "output_type": "stream",
     "text": [
      "States where FWS range of states had no BISON occurrence data\n"
     ]
    },
    {
     "data": {
      "text/plain": [
       "['Maryland']"
      ]
     },
     "metadata": {},
     "output_type": "display_data"
    },
    {
     "name": "stdout",
     "output_type": "stream",
     "text": [
      "Additional states where BISON records occurrence data\n"
     ]
    },
    {
     "data": {
      "text/plain": [
       "['Alabama',\n",
       " 'Arkansas',\n",
       " 'Connecticut',\n",
       " 'District of Columbia',\n",
       " 'Florida',\n",
       " 'Georgia',\n",
       " 'Kentucky',\n",
       " 'Louisiana',\n",
       " 'Massachusetts',\n",
       " 'Michigan',\n",
       " 'Mississippi',\n",
       " 'Missouri',\n",
       " 'New Jersey',\n",
       " 'New York',\n",
       " 'Ohio',\n",
       " 'Pennsylvania',\n",
       " 'Texas',\n",
       " 'Utah',\n",
       " 'Vermont',\n",
       " 'Wisconsin']"
      ]
     },
     "metadata": {},
     "output_type": "display_data"
    },
    {
     "name": "stdout",
     "output_type": "stream",
     "text": [
      "----------\n",
      "Scientific Name: Fusconaia lananensis\n",
      "Common Name: triangle pigtoe\n",
      "Lead FWS Region: R2\n",
      "ECOS Link: https://ecos.fws.gov/ecp/species/10339\n",
      "States where FWS range of states align with BISON occurrence data\n"
     ]
    },
    {
     "data": {
      "text/plain": [
       "['Texas']"
      ]
     },
     "metadata": {},
     "output_type": "display_data"
    },
    {
     "name": "stdout",
     "output_type": "stream",
     "text": [
      "Additional states where BISON records occurrence data\n"
     ]
    },
    {
     "data": {
      "text/plain": [
       "['Alabama',\n",
       " 'Arkansas',\n",
       " 'Illinois',\n",
       " 'Kansas',\n",
       " 'Louisiana',\n",
       " 'Mississippi',\n",
       " 'North Carolina',\n",
       " 'Ohio',\n",
       " 'Oklahoma',\n",
       " 'Tennessee',\n",
       " 'Virginia',\n",
       " 'Wisconsin']"
      ]
     },
     "metadata": {},
     "output_type": "display_data"
    },
    {
     "name": "stdout",
     "output_type": "stream",
     "text": [
      "----------\n",
      "Scientific Name: Fusconaia masoni\n",
      "Common Name: Atlantic pigtoe\n",
      "Lead FWS Region: R4\n",
      "ECOS Link: https://ecos.fws.gov/ecp/species/5164\n",
      "States where FWS range of states align with BISON occurrence data\n"
     ]
    },
    {
     "data": {
      "text/plain": [
       "['North Carolina', 'Virginia']"
      ]
     },
     "metadata": {},
     "output_type": "display_data"
    },
    {
     "name": "stdout",
     "output_type": "stream",
     "text": [
      "States where FWS range of states had no BISON occurrence data\n"
     ]
    },
    {
     "data": {
      "text/plain": [
       "['Georgia', 'South Carolina']"
      ]
     },
     "metadata": {},
     "output_type": "display_data"
    },
    {
     "name": "stdout",
     "output_type": "stream",
     "text": [
      "Additional states where BISON records occurrence data\n"
     ]
    },
    {
     "data": {
      "text/plain": [
       "['Alabama',\n",
       " 'Arkansas',\n",
       " 'Illinois',\n",
       " 'Kansas',\n",
       " 'Louisiana',\n",
       " 'Mississippi',\n",
       " 'Ohio',\n",
       " 'Oklahoma',\n",
       " 'Tennessee',\n",
       " 'Texas',\n",
       " 'Wisconsin']"
      ]
     },
     "metadata": {},
     "output_type": "display_data"
    },
    {
     "name": "stdout",
     "output_type": "stream",
     "text": [
      "----------\n",
      "Scientific Name: Fusconaia subrotunda\n",
      "Common Name: longsolid\n",
      "Lead FWS Region: R4\n",
      "ECOS Link: https://ecos.fws.gov/ecp/species/9880\n",
      "States where FWS range of states align with BISON occurrence data\n"
     ]
    },
    {
     "data": {
      "text/plain": [
       "['Alabama',\n",
       " 'Arkansas',\n",
       " 'Illinois',\n",
       " 'North Carolina',\n",
       " 'Ohio',\n",
       " 'Tennessee',\n",
       " 'Virginia']"
      ]
     },
     "metadata": {},
     "output_type": "display_data"
    },
    {
     "name": "stdout",
     "output_type": "stream",
     "text": [
      "States where FWS range of states had no BISON occurrence data\n"
     ]
    },
    {
     "data": {
      "text/plain": [
       "['Georgia', 'Indiana', 'Kentucky', 'Pennsylvania', 'West Virginia']"
      ]
     },
     "metadata": {},
     "output_type": "display_data"
    },
    {
     "name": "stdout",
     "output_type": "stream",
     "text": [
      "Additional states where BISON records occurrence data\n"
     ]
    },
    {
     "data": {
      "text/plain": [
       "['Kansas', 'Louisiana', 'Mississippi', 'Oklahoma', 'Texas', 'Wisconsin']"
      ]
     },
     "metadata": {},
     "output_type": "display_data"
    },
    {
     "name": "stdout",
     "output_type": "stream",
     "text": [
      "----------\n",
      "Scientific Name: Lampsilis bracteata\n",
      "Common Name: Texas fatmucket\n",
      "Lead FWS Region: R2\n",
      "ECOS Link: https://ecos.fws.gov/ecp/species/9041\n",
      "States where FWS range of states align with BISON occurrence data\n"
     ]
    },
    {
     "data": {
      "text/plain": [
       "['Texas']"
      ]
     },
     "metadata": {},
     "output_type": "display_data"
    },
    {
     "name": "stdout",
     "output_type": "stream",
     "text": [
      "Additional states where BISON records occurrence data\n"
     ]
    },
    {
     "data": {
      "text/plain": [
       "['Alabama',\n",
       " 'Arkansas',\n",
       " 'Florida',\n",
       " 'Georgia',\n",
       " 'Illinois',\n",
       " 'Kansas',\n",
       " 'Kentucky',\n",
       " 'Louisiana',\n",
       " 'Maryland',\n",
       " 'Michigan',\n",
       " 'Minnesota',\n",
       " 'Missouri',\n",
       " 'New Hampshire',\n",
       " 'New Jersey',\n",
       " 'New York',\n",
       " 'North Carolina',\n",
       " 'Ohio',\n",
       " 'Oklahoma',\n",
       " 'Pennsylvania',\n",
       " 'South Carolina',\n",
       " 'Tennessee',\n",
       " 'Virginia',\n",
       " 'West Virginia',\n",
       " 'Wisconsin']"
      ]
     },
     "metadata": {},
     "output_type": "display_data"
    },
    {
     "name": "stdout",
     "output_type": "stream",
     "text": [
      "----------\n",
      "Scientific Name: Lampsilis fullerkati\n",
      "Common Name: Waccamaw fatmucket\n",
      "Lead FWS Region: R4\n",
      "ECOS Link: https://ecos.fws.gov/ecp/species/7540\n",
      "States where FWS range of states align with BISON occurrence data\n"
     ]
    },
    {
     "data": {
      "text/plain": [
       "['North Carolina', 'South Carolina']"
      ]
     },
     "metadata": {},
     "output_type": "display_data"
    },
    {
     "name": "stdout",
     "output_type": "stream",
     "text": [
      "Additional states where BISON records occurrence data\n"
     ]
    },
    {
     "data": {
      "text/plain": [
       "['Alabama',\n",
       " 'Arkansas',\n",
       " 'Florida',\n",
       " 'Georgia',\n",
       " 'Illinois',\n",
       " 'Kansas',\n",
       " 'Kentucky',\n",
       " 'Louisiana',\n",
       " 'Maryland',\n",
       " 'Michigan',\n",
       " 'Minnesota',\n",
       " 'Missouri',\n",
       " 'New Hampshire',\n",
       " 'New Jersey',\n",
       " 'New York',\n",
       " 'Ohio',\n",
       " 'Oklahoma',\n",
       " 'Pennsylvania',\n",
       " 'Tennessee',\n",
       " 'Texas',\n",
       " 'Virginia',\n",
       " 'West Virginia',\n",
       " 'Wisconsin']"
      ]
     },
     "metadata": {},
     "output_type": "display_data"
    },
    {
     "name": "stdout",
     "output_type": "stream",
     "text": [
      "----------\n",
      "Scientific Name: Lasmigona holstonia\n",
      "Common Name: Tennessee heelsplitter\n",
      "Lead FWS Region: R4\n",
      "ECOS Link: https://ecos.fws.gov/ecp/species/783\n",
      "States where FWS range of states align with BISON occurrence data\n"
     ]
    },
    {
     "data": {
      "text/plain": [
       "['Georgia', 'Tennessee']"
      ]
     },
     "metadata": {},
     "output_type": "display_data"
    },
    {
     "name": "stdout",
     "output_type": "stream",
     "text": [
      "States where FWS range of states had no BISON occurrence data\n"
     ]
    },
    {
     "data": {
      "text/plain": [
       "['Alabama', 'North Carolina', 'Virginia']"
      ]
     },
     "metadata": {},
     "output_type": "display_data"
    },
    {
     "name": "stdout",
     "output_type": "stream",
     "text": [
      "Additional states where BISON records occurrence data\n"
     ]
    },
    {
     "data": {
      "text/plain": [
       "['Pennsylvania']"
      ]
     },
     "metadata": {},
     "output_type": "display_data"
    },
    {
     "name": "stdout",
     "output_type": "stream",
     "text": [
      "----------\n",
      "Scientific Name: Lasmigona subviridis\n",
      "Common Name: green floater\n",
      "Lead FWS Region: R5\n",
      "ECOS Link: https://ecos.fws.gov/ecp/species/7541\n",
      "States where FWS range of states align with BISON occurrence data\n"
     ]
    },
    {
     "data": {
      "text/plain": [
       "['Pennsylvania', 'Tennessee']"
      ]
     },
     "metadata": {},
     "output_type": "display_data"
    },
    {
     "name": "stdout",
     "output_type": "stream",
     "text": [
      "States where FWS range of states had no BISON occurrence data\n"
     ]
    },
    {
     "data": {
      "text/plain": [
       "['District of Columbia',\n",
       " 'Maryland',\n",
       " 'North Carolina',\n",
       " 'New Jersey',\n",
       " 'New York',\n",
       " 'Virginia',\n",
       " 'West Virginia']"
      ]
     },
     "metadata": {},
     "output_type": "display_data"
    },
    {
     "name": "stdout",
     "output_type": "stream",
     "text": [
      "Additional states where BISON records occurrence data\n"
     ]
    },
    {
     "data": {
      "text/plain": [
       "['Georgia']"
      ]
     },
     "metadata": {},
     "output_type": "display_data"
    },
    {
     "name": "stdout",
     "output_type": "stream",
     "text": [
      "----------\n",
      "Scientific Name: Medionidus conradicus\n",
      "Common Name: Cumberland moccasinshell\n",
      "Lead FWS Region: R4\n",
      "ECOS Link: https://ecos.fws.gov/ecp/species/9881\n",
      "States where FWS range of states had no BISON occurrence data\n"
     ]
    },
    {
     "data": {
      "text/plain": [
       "['Alabama', 'Georgia', 'Kentucky', 'North Carolina', 'Tennessee', 'Virginia']"
      ]
     },
     "metadata": {},
     "output_type": "display_data"
    },
    {
     "name": "stdout",
     "output_type": "stream",
     "text": [
      "----------\n",
      "Scientific Name: Obovaria subrotunda\n",
      "Common Name: round hickorynut\n",
      "Lead FWS Region: R4\n",
      "ECOS Link: https://ecos.fws.gov/ecp/species/9879\n",
      "States where FWS range of states align with BISON occurrence data\n"
     ]
    },
    {
     "data": {
      "text/plain": [
       "['Alabama', 'Arkansas', 'Kentucky', 'Mississippi', 'Ohio', 'Tennessee']"
      ]
     },
     "metadata": {},
     "output_type": "display_data"
    },
    {
     "name": "stdout",
     "output_type": "stream",
     "text": [
      "States where FWS range of states had no BISON occurrence data\n"
     ]
    },
    {
     "data": {
      "text/plain": [
       "['Georgia', 'Illinois', 'Indiana', 'Michigan', 'Pennsylvania', 'West Virginia']"
      ]
     },
     "metadata": {},
     "output_type": "display_data"
    },
    {
     "name": "stdout",
     "output_type": "stream",
     "text": [
      "Additional states where BISON records occurrence data\n"
     ]
    },
    {
     "data": {
      "text/plain": [
       "['Louisiana', 'Missouri']"
      ]
     },
     "metadata": {},
     "output_type": "display_data"
    },
    {
     "name": "stdout",
     "output_type": "stream",
     "text": [
      "----------\n",
      "Scientific Name: Obovaria unicolor\n",
      "Common Name: Alabama hickorynut\n",
      "Lead FWS Region: R4\n",
      "ECOS Link: https://ecos.fws.gov/ecp/species/9883\n",
      "States where FWS range of states align with BISON occurrence data\n"
     ]
    },
    {
     "data": {
      "text/plain": [
       "['Alabama', 'Louisiana', 'Mississippi']"
      ]
     },
     "metadata": {},
     "output_type": "display_data"
    },
    {
     "name": "stdout",
     "output_type": "stream",
     "text": [
      "States where FWS range of states had no BISON occurrence data\n"
     ]
    },
    {
     "data": {
      "text/plain": [
       "['Oklahoma']"
      ]
     },
     "metadata": {},
     "output_type": "display_data"
    },
    {
     "name": "stdout",
     "output_type": "stream",
     "text": [
      "Additional states where BISON records occurrence data\n"
     ]
    },
    {
     "data": {
      "text/plain": [
       "['Arkansas', 'Kentucky', 'Missouri', 'Ohio', 'Tennessee']"
      ]
     },
     "metadata": {},
     "output_type": "display_data"
    },
    {
     "name": "stdout",
     "output_type": "stream",
     "text": [
      "----------\n",
      "Scientific Name: Pisidium sanguinichristi\n",
      "Common Name: Sangre de Cristo peaclam\n",
      "Lead FWS Region: R2\n",
      "ECOS Link: https://ecos.fws.gov/ecp/species/3533\n",
      "States where FWS range of states align with BISON occurrence data\n"
     ]
    },
    {
     "data": {
      "text/plain": [
       "['New Mexico']"
      ]
     },
     "metadata": {},
     "output_type": "display_data"
    },
    {
     "name": "stdout",
     "output_type": "stream",
     "text": [
      "Additional states where BISON records occurrence data\n"
     ]
    },
    {
     "data": {
      "text/plain": [
       "['Alabama',\n",
       " 'Alaska',\n",
       " 'Arizona',\n",
       " 'Arkansas',\n",
       " 'California',\n",
       " 'Colorado',\n",
       " 'Connecticut',\n",
       " 'Delaware',\n",
       " 'District of Columbia',\n",
       " 'Florida',\n",
       " 'Georgia',\n",
       " 'Idaho',\n",
       " 'Illinois',\n",
       " 'Indiana',\n",
       " 'Iowa',\n",
       " 'Kansas',\n",
       " 'Louisiana',\n",
       " 'Maine',\n",
       " 'Maryland',\n",
       " 'Massachusetts',\n",
       " 'Michigan',\n",
       " 'Minnesota',\n",
       " 'Mississippi',\n",
       " 'Missouri',\n",
       " 'Montana',\n",
       " 'Nebraska',\n",
       " 'Nevada',\n",
       " 'New Hampshire',\n",
       " 'New Jersey',\n",
       " 'New York',\n",
       " 'North Carolina',\n",
       " 'North Dakota',\n",
       " 'Ohio',\n",
       " 'Oregon',\n",
       " 'Pennsylvania',\n",
       " 'South Carolina',\n",
       " 'South Dakota',\n",
       " 'Tennessee',\n",
       " 'Texas',\n",
       " 'Utah',\n",
       " 'Vermont',\n",
       " 'Virginia',\n",
       " 'Washington',\n",
       " 'West Virginia',\n",
       " 'Wisconsin',\n",
       " 'Wyoming']"
      ]
     },
     "metadata": {},
     "output_type": "display_data"
    },
    {
     "name": "stdout",
     "output_type": "stream",
     "text": [
      "----------\n",
      "Scientific Name: Pleurobema athearni\n",
      "Common Name: Canoe Creek pigtoe\n",
      "Lead FWS Region: R4\n",
      "ECOS Link: https://ecos.fws.gov/ecp/species/4693\n",
      "States where FWS range of states align with BISON occurrence data\n"
     ]
    },
    {
     "data": {
      "text/plain": [
       "['Alabama']"
      ]
     },
     "metadata": {},
     "output_type": "display_data"
    },
    {
     "name": "stdout",
     "output_type": "stream",
     "text": [
      "Additional states where BISON records occurrence data\n"
     ]
    },
    {
     "data": {
      "text/plain": [
       "['Arkansas',\n",
       " 'Georgia',\n",
       " 'Kansas',\n",
       " 'Louisiana',\n",
       " 'Mississippi',\n",
       " 'Missouri',\n",
       " 'Ohio',\n",
       " 'Pennsylvania',\n",
       " 'Tennessee',\n",
       " 'Virginia']"
      ]
     },
     "metadata": {},
     "output_type": "display_data"
    },
    {
     "name": "stdout",
     "output_type": "stream",
     "text": [
      "----------\n",
      "Scientific Name: Pleurobema oviforme\n",
      "Common Name: Tennessee clubshell\n",
      "Lead FWS Region: R4\n",
      "ECOS Link: https://ecos.fws.gov/ecp/species/3254\n",
      "States where FWS range of states align with BISON occurrence data\n"
     ]
    },
    {
     "data": {
      "text/plain": [
       "['Alabama', 'Tennessee', 'Virginia']"
      ]
     },
     "metadata": {},
     "output_type": "display_data"
    },
    {
     "name": "stdout",
     "output_type": "stream",
     "text": [
      "States where FWS range of states had no BISON occurrence data\n"
     ]
    },
    {
     "data": {
      "text/plain": [
       "['Kentucky']"
      ]
     },
     "metadata": {},
     "output_type": "display_data"
    },
    {
     "name": "stdout",
     "output_type": "stream",
     "text": [
      "Additional states where BISON records occurrence data\n"
     ]
    },
    {
     "data": {
      "text/plain": [
       "['Arkansas',\n",
       " 'Georgia',\n",
       " 'Kansas',\n",
       " 'Louisiana',\n",
       " 'Mississippi',\n",
       " 'Missouri',\n",
       " 'Ohio',\n",
       " 'Pennsylvania']"
      ]
     },
     "metadata": {},
     "output_type": "display_data"
    },
    {
     "name": "stdout",
     "output_type": "stream",
     "text": [
      "----------\n",
      "Scientific Name: Pleurobema ridellii\n",
      "Common Name: Louisiana pigtoe\n",
      "Lead FWS Region: R2\n",
      "ECOS Link: https://ecos.fws.gov/ecp/species/10233\n",
      "States where FWS range of states align with BISON occurrence data\n"
     ]
    },
    {
     "data": {
      "text/plain": [
       "['Louisiana']"
      ]
     },
     "metadata": {},
     "output_type": "display_data"
    },
    {
     "name": "stdout",
     "output_type": "stream",
     "text": [
      "States where FWS range of states had no BISON occurrence data\n"
     ]
    },
    {
     "data": {
      "text/plain": [
       "['Texas']"
      ]
     },
     "metadata": {},
     "output_type": "display_data"
    },
    {
     "name": "stdout",
     "output_type": "stream",
     "text": [
      "Additional states where BISON records occurrence data\n"
     ]
    },
    {
     "data": {
      "text/plain": [
       "['Alabama',\n",
       " 'Arkansas',\n",
       " 'Georgia',\n",
       " 'Kansas',\n",
       " 'Mississippi',\n",
       " 'Missouri',\n",
       " 'Ohio',\n",
       " 'Pennsylvania',\n",
       " 'Tennessee',\n",
       " 'Virginia']"
      ]
     },
     "metadata": {},
     "output_type": "display_data"
    },
    {
     "name": "stdout",
     "output_type": "stream",
     "text": [
      "----------\n",
      "Scientific Name: Pleurobema rubrum\n",
      "Common Name: pink pigtoe\n",
      "Lead FWS Region: R4\n",
      "ECOS Link: https://ecos.fws.gov/ecp/species/1937\n",
      "States where FWS range of states align with BISON occurrence data\n"
     ]
    },
    {
     "data": {
      "text/plain": [
       "['Alabama',\n",
       " 'Arkansas',\n",
       " 'Louisiana',\n",
       " 'Mississippi',\n",
       " 'Ohio',\n",
       " 'Tennessee',\n",
       " 'Virginia']"
      ]
     },
     "metadata": {},
     "output_type": "display_data"
    },
    {
     "name": "stdout",
     "output_type": "stream",
     "text": [
      "States where FWS range of states had no BISON occurrence data\n"
     ]
    },
    {
     "data": {
      "text/plain": [
       "['Kentucky', 'Nebraska', 'Oklahoma']"
      ]
     },
     "metadata": {},
     "output_type": "display_data"
    },
    {
     "name": "stdout",
     "output_type": "stream",
     "text": [
      "Additional states where BISON records occurrence data\n"
     ]
    },
    {
     "data": {
      "text/plain": [
       "['Georgia', 'Kansas', 'Missouri', 'Pennsylvania']"
      ]
     },
     "metadata": {},
     "output_type": "display_data"
    },
    {
     "name": "stdout",
     "output_type": "stream",
     "text": [
      "----------\n",
      "Scientific Name: Pleuronaia barnesiana\n",
      "Common Name: Tennessee pigtoe\n",
      "Lead FWS Region: R4\n",
      "ECOS Link: https://ecos.fws.gov/ecp/species/9887\n",
      "States where FWS range of states had no BISON occurrence data\n"
     ]
    },
    {
     "data": {
      "text/plain": [
       "['Alabama',\n",
       " 'Georgia',\n",
       " 'Mississippi',\n",
       " 'North Carolina',\n",
       " 'Tennessee',\n",
       " 'Virginia']"
      ]
     },
     "metadata": {},
     "output_type": "display_data"
    },
    {
     "name": "stdout",
     "output_type": "stream",
     "text": [
      "----------\n",
      "Scientific Name: Potamilus amphichaenus\n",
      "Common Name: Texas heelsplitter\n",
      "Lead FWS Region: R2\n",
      "ECOS Link: https://ecos.fws.gov/ecp/species/299\n",
      "States where FWS range of states align with BISON occurrence data\n"
     ]
    },
    {
     "data": {
      "text/plain": [
       "['Texas']"
      ]
     },
     "metadata": {},
     "output_type": "display_data"
    },
    {
     "name": "stdout",
     "output_type": "stream",
     "text": [
      "Additional states where BISON records occurrence data\n"
     ]
    },
    {
     "data": {
      "text/plain": [
       "['Alabama', 'Illinois', 'Kansas']"
      ]
     },
     "metadata": {},
     "output_type": "display_data"
    },
    {
     "name": "stdout",
     "output_type": "stream",
     "text": [
      "----------\n",
      "Scientific Name: Potamilus metnecktayi\n",
      "Common Name: Salina mucket\n",
      "Lead FWS Region: R2\n",
      "ECOS Link: https://ecos.fws.gov/ecp0/profile/speciesProfile?spcode=F04A\n",
      "States where FWS range of states align with BISON occurrence data\n"
     ]
    },
    {
     "data": {
      "text/plain": [
       "['Texas']"
      ]
     },
     "metadata": {},
     "output_type": "display_data"
    },
    {
     "name": "stdout",
     "output_type": "stream",
     "text": [
      "Additional states where BISON records occurrence data\n"
     ]
    },
    {
     "data": {
      "text/plain": [
       "['Alabama', 'Illinois', 'Kansas']"
      ]
     },
     "metadata": {},
     "output_type": "display_data"
    },
    {
     "name": "stdout",
     "output_type": "stream",
     "text": [
      "----------\n",
      "Scientific Name: Quadrula aurea\n",
      "Common Name: golden orb\n",
      "Lead FWS Region: R2\n",
      "ECOS Link: https://ecos.fws.gov/ecp/species/9042\n",
      "States where FWS range of states align with BISON occurrence data\n"
     ]
    },
    {
     "data": {
      "text/plain": [
       "['Texas']"
      ]
     },
     "metadata": {},
     "output_type": "display_data"
    },
    {
     "name": "stdout",
     "output_type": "stream",
     "text": [
      "Additional states where BISON records occurrence data\n"
     ]
    },
    {
     "data": {
      "text/plain": [
       "['Alabama',\n",
       " 'Georgia',\n",
       " 'Indiana',\n",
       " 'Iowa',\n",
       " 'Kentucky',\n",
       " 'Louisiana',\n",
       " 'Mississippi',\n",
       " 'Oklahoma',\n",
       " 'Tennessee']"
      ]
     },
     "metadata": {},
     "output_type": "display_data"
    },
    {
     "name": "stdout",
     "output_type": "stream",
     "text": [
      "----------\n",
      "Scientific Name: Quadrula houstonensis\n",
      "Common Name: smooth pimpleback\n",
      "Lead FWS Region: R2\n",
      "ECOS Link: https://ecos.fws.gov/ecp/species/8967\n",
      "States where FWS range of states align with BISON occurrence data\n"
     ]
    },
    {
     "data": {
      "text/plain": [
       "['Texas']"
      ]
     },
     "metadata": {},
     "output_type": "display_data"
    },
    {
     "name": "stdout",
     "output_type": "stream",
     "text": [
      "Additional states where BISON records occurrence data\n"
     ]
    },
    {
     "data": {
      "text/plain": [
       "['Alabama',\n",
       " 'Georgia',\n",
       " 'Indiana',\n",
       " 'Iowa',\n",
       " 'Kentucky',\n",
       " 'Louisiana',\n",
       " 'Mississippi',\n",
       " 'Oklahoma',\n",
       " 'Tennessee']"
      ]
     },
     "metadata": {},
     "output_type": "display_data"
    },
    {
     "name": "stdout",
     "output_type": "stream",
     "text": [
      "----------\n",
      "Scientific Name: Quadrula petrina\n",
      "Common Name: Texas pimpleback\n",
      "Lead FWS Region: R2\n",
      "ECOS Link: https://ecos.fws.gov/ecp/species/8966\n",
      "States where FWS range of states align with BISON occurrence data\n"
     ]
    },
    {
     "data": {
      "text/plain": [
       "['Texas']"
      ]
     },
     "metadata": {},
     "output_type": "display_data"
    },
    {
     "name": "stdout",
     "output_type": "stream",
     "text": [
      "Additional states where BISON records occurrence data\n"
     ]
    },
    {
     "data": {
      "text/plain": [
       "['Alabama',\n",
       " 'Georgia',\n",
       " 'Indiana',\n",
       " 'Iowa',\n",
       " 'Kentucky',\n",
       " 'Louisiana',\n",
       " 'Mississippi',\n",
       " 'Oklahoma',\n",
       " 'Tennessee']"
      ]
     },
     "metadata": {},
     "output_type": "display_data"
    },
    {
     "name": "stdout",
     "output_type": "stream",
     "text": [
      "----------\n",
      "Scientific Name: Quincuncina mitchelli\n",
      "Common Name: false spike\n",
      "Lead FWS Region: R2\n",
      "ECOS Link: https://ecos.fws.gov/ecp/species/3963\n",
      "States where FWS range of states had no BISON occurrence data\n"
     ]
    },
    {
     "data": {
      "text/plain": [
       "['Texas']"
      ]
     },
     "metadata": {},
     "output_type": "display_data"
    },
    {
     "name": "stdout",
     "output_type": "stream",
     "text": [
      "----------\n",
      "Scientific Name: Simpsonaias ambigua\n",
      "Common Name: salamander mussel\n",
      "Lead FWS Region: R3\n",
      "ECOS Link: https://ecos.fws.gov/ecp/species/6208\n",
      "States where FWS range of states had no BISON occurrence data\n"
     ]
    },
    {
     "data": {
      "text/plain": [
       "['Arkansas',\n",
       " 'Illinois',\n",
       " 'Indiana',\n",
       " 'Kentucky',\n",
       " 'Michigan',\n",
       " 'Minnesota',\n",
       " 'Missouri',\n",
       " 'New York',\n",
       " 'Ohio',\n",
       " 'Pennsylvania',\n",
       " 'Tennessee',\n",
       " 'Wisconsin',\n",
       " 'West Virginia']"
      ]
     },
     "metadata": {},
     "output_type": "display_data"
    },
    {
     "name": "stdout",
     "output_type": "stream",
     "text": [
      "----------\n",
      "Scientific Name: Toxolasma lividum (formally lividus)\n",
      "Common Name: purple lilliput\n",
      "Lead FWS Region: R4\n",
      "ECOS Link: https://ecos.fws.gov/ecp0/profile/speciesProfile?sId=8210\n",
      "States where FWS range of states align with BISON occurrence data\n"
     ]
    },
    {
     "data": {
      "text/plain": [
       "['Alabama', 'Arkansas']"
      ]
     },
     "metadata": {},
     "output_type": "display_data"
    },
    {
     "name": "stdout",
     "output_type": "stream",
     "text": [
      "States where FWS range of states had no BISON occurrence data\n"
     ]
    },
    {
     "data": {
      "text/plain": [
       "['Illinois', 'Michigan', 'Missouri', 'Indiana', 'Tennessee', 'Virginia']"
      ]
     },
     "metadata": {},
     "output_type": "display_data"
    },
    {
     "name": "stdout",
     "output_type": "stream",
     "text": [
      "Additional states where BISON records occurrence data\n"
     ]
    },
    {
     "data": {
      "text/plain": [
       "['Florida', 'Georgia', 'Mississippi', 'Oklahoma', 'South Carolina', 'Texas']"
      ]
     },
     "metadata": {},
     "output_type": "display_data"
    },
    {
     "name": "stdout",
     "output_type": "stream",
     "text": [
      "----------\n",
      "Scientific Name: Toxolasma pullus\n",
      "Common Name: Savannah lilliput\n",
      "Lead FWS Region: R4\n",
      "ECOS Link: https://ecos.fws.gov/ecp/species/7155\n",
      "States where FWS range of states align with BISON occurrence data\n"
     ]
    },
    {
     "data": {
      "text/plain": [
       "['Georgia', 'South Carolina']"
      ]
     },
     "metadata": {},
     "output_type": "display_data"
    },
    {
     "name": "stdout",
     "output_type": "stream",
     "text": [
      "States where FWS range of states had no BISON occurrence data\n"
     ]
    },
    {
     "data": {
      "text/plain": [
       "['North Carolina']"
      ]
     },
     "metadata": {},
     "output_type": "display_data"
    },
    {
     "name": "stdout",
     "output_type": "stream",
     "text": [
      "Additional states where BISON records occurrence data\n"
     ]
    },
    {
     "data": {
      "text/plain": [
       "['Alabama', 'Arkansas', 'Florida', 'Mississippi', 'Oklahoma', 'Texas']"
      ]
     },
     "metadata": {},
     "output_type": "display_data"
    },
    {
     "name": "stdout",
     "output_type": "stream",
     "text": [
      "----------\n",
      "Scientific Name: Truncilla cognata\n",
      "Common Name: Mexican fawnsfoot\n",
      "Lead FWS Region: R2\n",
      "ECOS Link: https://ecos.fws.gov/ecp/species/7870\n",
      "States where FWS range of states align with BISON occurrence data\n"
     ]
    },
    {
     "data": {
      "text/plain": [
       "['Texas']"
      ]
     },
     "metadata": {},
     "output_type": "display_data"
    },
    {
     "name": "stdout",
     "output_type": "stream",
     "text": [
      "Additional states where BISON records occurrence data\n"
     ]
    },
    {
     "data": {
      "text/plain": [
       "['Indiana', 'Pennsylvania', 'Virginia']"
      ]
     },
     "metadata": {},
     "output_type": "display_data"
    },
    {
     "name": "stdout",
     "output_type": "stream",
     "text": [
      "----------\n",
      "Scientific Name: Truncilla macrodon\n",
      "Common Name: Texas fawnsfoot\n",
      "Lead FWS Region: R2\n",
      "ECOS Link: https://ecos.fws.gov/ecp/species/8965\n",
      "States where FWS range of states align with BISON occurrence data\n"
     ]
    },
    {
     "data": {
      "text/plain": [
       "['Texas']"
      ]
     },
     "metadata": {},
     "output_type": "display_data"
    },
    {
     "name": "stdout",
     "output_type": "stream",
     "text": [
      "Additional states where BISON records occurrence data\n"
     ]
    },
    {
     "data": {
      "text/plain": [
       "['Indiana', 'Pennsylvania', 'Virginia']"
      ]
     },
     "metadata": {},
     "output_type": "display_data"
    },
    {
     "name": "stdout",
     "output_type": "stream",
     "text": [
      "----------\n",
      "Scientific Name: Villosa ortmanni\n",
      "Common Name: Kentucky creekshell\n",
      "Lead FWS Region: R4\n",
      "ECOS Link: https://ecos.fws.gov/ecp/species/8209\n",
      "States where FWS range of states align with BISON occurrence data\n"
     ]
    },
    {
     "data": {
      "text/plain": [
       "['Kentucky']"
      ]
     },
     "metadata": {},
     "output_type": "display_data"
    },
    {
     "name": "stdout",
     "output_type": "stream",
     "text": [
      "Additional states where BISON records occurrence data\n"
     ]
    },
    {
     "data": {
      "text/plain": [
       "['Alabama',\n",
       " 'Arkansas',\n",
       " 'Florida',\n",
       " 'Georgia',\n",
       " 'Louisiana',\n",
       " 'Michigan',\n",
       " 'Mississippi',\n",
       " 'Missouri',\n",
       " 'New Jersey',\n",
       " 'North Carolina',\n",
       " 'Oklahoma',\n",
       " 'South Carolina',\n",
       " 'Tennessee',\n",
       " 'Texas',\n",
       " 'Virginia',\n",
       " 'Wisconsin']"
      ]
     },
     "metadata": {},
     "output_type": "display_data"
    },
    {
     "name": "stdout",
     "output_type": "stream",
     "text": [
      "----------\n",
      "Scientific Name: Caecidotea cannula\n",
      "Common Name: Cannulate cave isopod\n",
      "Lead FWS Region: R5\n",
      "ECOS Link: https://ecos.fws.gov/ecp0/profile/speciesProfile?sId=9860\n",
      "States where FWS range of states align with BISON occurrence data\n"
     ]
    },
    {
     "data": {
      "text/plain": [
       "['West Virginia']"
      ]
     },
     "metadata": {},
     "output_type": "display_data"
    },
    {
     "name": "stdout",
     "output_type": "stream",
     "text": [
      "Additional states where BISON records occurrence data\n"
     ]
    },
    {
     "data": {
      "text/plain": [
       "['Alabama',\n",
       " 'Arkansas',\n",
       " 'California',\n",
       " 'Colorado',\n",
       " 'Connecticut',\n",
       " 'Delaware',\n",
       " 'Florida',\n",
       " 'Georgia',\n",
       " 'Idaho',\n",
       " 'Illinois',\n",
       " 'Indiana',\n",
       " 'Iowa',\n",
       " 'Kansas',\n",
       " 'Kentucky',\n",
       " 'Louisiana',\n",
       " 'Maine',\n",
       " 'Maryland',\n",
       " 'Massachusetts',\n",
       " 'Michigan',\n",
       " 'Minnesota',\n",
       " 'Missouri',\n",
       " 'Montana',\n",
       " 'Nebraska',\n",
       " 'New Hampshire',\n",
       " 'New Jersey',\n",
       " 'New Mexico',\n",
       " 'New York',\n",
       " 'North Carolina',\n",
       " 'Ohio',\n",
       " 'Oklahoma',\n",
       " 'Oregon',\n",
       " 'Pennsylvania',\n",
       " 'South Carolina',\n",
       " 'Tennessee',\n",
       " 'Texas',\n",
       " 'Utah',\n",
       " 'Virginia',\n",
       " 'Washington',\n",
       " 'Wisconsin',\n",
       " 'Wyoming']"
      ]
     },
     "metadata": {},
     "output_type": "display_data"
    },
    {
     "name": "stdout",
     "output_type": "stream",
     "text": [
      "----------\n",
      "Scientific Name: Cambarus chaugaensis\n",
      "Common Name: Chauga crayfish\n",
      "Lead FWS Region: R4\n",
      "ECOS Link: https://ecos.fws.gov/ecp/species/9790\n",
      "States where FWS range of states align with BISON occurrence data\n"
     ]
    },
    {
     "data": {
      "text/plain": [
       "['Georgia', 'North Carolina', 'South Carolina']"
      ]
     },
     "metadata": {},
     "output_type": "display_data"
    },
    {
     "name": "stdout",
     "output_type": "stream",
     "text": [
      "Additional states where BISON records occurrence data\n"
     ]
    },
    {
     "data": {
      "text/plain": [
       "['Alabama',\n",
       " 'Arkansas',\n",
       " 'Connecticut',\n",
       " 'District of Columbia',\n",
       " 'Florida',\n",
       " 'Illinois',\n",
       " 'Indiana',\n",
       " 'Iowa',\n",
       " 'Kansas',\n",
       " 'Kentucky',\n",
       " 'Louisiana',\n",
       " 'Maryland',\n",
       " 'Michigan',\n",
       " 'Minnesota',\n",
       " 'Mississippi',\n",
       " 'Missouri',\n",
       " 'New Jersey',\n",
       " 'New York',\n",
       " 'Ohio',\n",
       " 'Oklahoma',\n",
       " 'Pennsylvania',\n",
       " 'Tennessee',\n",
       " 'Texas',\n",
       " 'Virginia',\n",
       " 'West Virginia',\n",
       " 'Wisconsin']"
      ]
     },
     "metadata": {},
     "output_type": "display_data"
    },
    {
     "name": "stdout",
     "output_type": "stream",
     "text": [
      "----------\n",
      "Scientific Name: Cambarus coosawattae\n",
      "Common Name: Coosawattae crayfish\n",
      "Lead FWS Region: R4\n",
      "ECOS Link: https://ecos.fws.gov/ecp/species/9791\n",
      "States where FWS range of states align with BISON occurrence data\n"
     ]
    },
    {
     "data": {
      "text/plain": [
       "['Georgia']"
      ]
     },
     "metadata": {},
     "output_type": "display_data"
    },
    {
     "name": "stdout",
     "output_type": "stream",
     "text": [
      "Additional states where BISON records occurrence data\n"
     ]
    },
    {
     "data": {
      "text/plain": [
       "['Alabama',\n",
       " 'Arkansas',\n",
       " 'Connecticut',\n",
       " 'District of Columbia',\n",
       " 'Florida',\n",
       " 'Illinois',\n",
       " 'Indiana',\n",
       " 'Iowa',\n",
       " 'Kansas',\n",
       " 'Kentucky',\n",
       " 'Louisiana',\n",
       " 'Maryland',\n",
       " 'Michigan',\n",
       " 'Minnesota',\n",
       " 'Mississippi',\n",
       " 'Missouri',\n",
       " 'New Jersey',\n",
       " 'New York',\n",
       " 'North Carolina',\n",
       " 'Ohio',\n",
       " 'Oklahoma',\n",
       " 'Pennsylvania',\n",
       " 'South Carolina',\n",
       " 'Tennessee',\n",
       " 'Texas',\n",
       " 'Virginia',\n",
       " 'West Virginia',\n",
       " 'Wisconsin']"
      ]
     },
     "metadata": {},
     "output_type": "display_data"
    },
    {
     "name": "stdout",
     "output_type": "stream",
     "text": [
      "----------\n",
      "Scientific Name: Cambarus cracens\n",
      "Common Name: slenderclaw crayfish\n",
      "Lead FWS Region: R4\n",
      "ECOS Link: https://ecos.fws.gov/ecp/species/9792\n",
      "States where FWS range of states align with BISON occurrence data\n"
     ]
    },
    {
     "data": {
      "text/plain": [
       "['Alabama']"
      ]
     },
     "metadata": {},
     "output_type": "display_data"
    },
    {
     "name": "stdout",
     "output_type": "stream",
     "text": [
      "Additional states where BISON records occurrence data\n"
     ]
    },
    {
     "data": {
      "text/plain": [
       "['Arkansas',\n",
       " 'Connecticut',\n",
       " 'District of Columbia',\n",
       " 'Florida',\n",
       " 'Georgia',\n",
       " 'Illinois',\n",
       " 'Indiana',\n",
       " 'Iowa',\n",
       " 'Kansas',\n",
       " 'Kentucky',\n",
       " 'Louisiana',\n",
       " 'Maryland',\n",
       " 'Michigan',\n",
       " 'Minnesota',\n",
       " 'Mississippi',\n",
       " 'Missouri',\n",
       " 'New Jersey',\n",
       " 'New York',\n",
       " 'North Carolina',\n",
       " 'Ohio',\n",
       " 'Oklahoma',\n",
       " 'Pennsylvania',\n",
       " 'South Carolina',\n",
       " 'Tennessee',\n",
       " 'Texas',\n",
       " 'Virginia',\n",
       " 'West Virginia',\n",
       " 'Wisconsin']"
      ]
     },
     "metadata": {},
     "output_type": "display_data"
    },
    {
     "name": "stdout",
     "output_type": "stream",
     "text": [
      "----------\n",
      "Scientific Name: Cambarus elkensis\n",
      "Common Name: Elk River crayfish\n",
      "Lead FWS Region: R5\n",
      "ECOS Link: https://ecos.fws.gov/ecp/species/9795\n",
      "States where FWS range of states align with BISON occurrence data\n"
     ]
    },
    {
     "data": {
      "text/plain": [
       "['West Virginia']"
      ]
     },
     "metadata": {},
     "output_type": "display_data"
    },
    {
     "name": "stdout",
     "output_type": "stream",
     "text": [
      "Additional states where BISON records occurrence data\n"
     ]
    },
    {
     "data": {
      "text/plain": [
       "['Alabama',\n",
       " 'Arkansas',\n",
       " 'Connecticut',\n",
       " 'District of Columbia',\n",
       " 'Florida',\n",
       " 'Georgia',\n",
       " 'Illinois',\n",
       " 'Indiana',\n",
       " 'Iowa',\n",
       " 'Kansas',\n",
       " 'Kentucky',\n",
       " 'Louisiana',\n",
       " 'Maryland',\n",
       " 'Michigan',\n",
       " 'Minnesota',\n",
       " 'Mississippi',\n",
       " 'Missouri',\n",
       " 'New Jersey',\n",
       " 'New York',\n",
       " 'North Carolina',\n",
       " 'Ohio',\n",
       " 'Oklahoma',\n",
       " 'Pennsylvania',\n",
       " 'South Carolina',\n",
       " 'Tennessee',\n",
       " 'Texas',\n",
       " 'Virginia',\n",
       " 'Wisconsin']"
      ]
     },
     "metadata": {},
     "output_type": "display_data"
    },
    {
     "name": "stdout",
     "output_type": "stream",
     "text": [
      "----------\n",
      "Scientific Name: Cambarus georgiae\n",
      "Common Name: Little Tennessee crayfish\n",
      "Lead FWS Region: R4\n",
      "ECOS Link: https://ecos.fws.gov/ecp/species/4851\n",
      "States where FWS range of states align with BISON occurrence data\n"
     ]
    },
    {
     "data": {
      "text/plain": [
       "['Georgia', 'North Carolina']"
      ]
     },
     "metadata": {},
     "output_type": "display_data"
    },
    {
     "name": "stdout",
     "output_type": "stream",
     "text": [
      "Additional states where BISON records occurrence data\n"
     ]
    },
    {
     "data": {
      "text/plain": [
       "['Alabama',\n",
       " 'Arkansas',\n",
       " 'Connecticut',\n",
       " 'District of Columbia',\n",
       " 'Florida',\n",
       " 'Illinois',\n",
       " 'Indiana',\n",
       " 'Iowa',\n",
       " 'Kansas',\n",
       " 'Kentucky',\n",
       " 'Louisiana',\n",
       " 'Maryland',\n",
       " 'Michigan',\n",
       " 'Minnesota',\n",
       " 'Mississippi',\n",
       " 'Missouri',\n",
       " 'New Jersey',\n",
       " 'New York',\n",
       " 'Ohio',\n",
       " 'Oklahoma',\n",
       " 'Pennsylvania',\n",
       " 'South Carolina',\n",
       " 'Tennessee',\n",
       " 'Texas',\n",
       " 'Virginia',\n",
       " 'West Virginia',\n",
       " 'Wisconsin']"
      ]
     },
     "metadata": {},
     "output_type": "display_data"
    },
    {
     "name": "stdout",
     "output_type": "stream",
     "text": [
      "----------\n",
      "Scientific Name: Cambarus jezerinaci\n",
      "Common Name: spiny scale crayfish\n",
      "Lead FWS Region: R5\n",
      "ECOS Link: https://ecos.fws.gov/ecp/species/9798\n",
      "States where FWS range of states align with BISON occurrence data\n"
     ]
    },
    {
     "data": {
      "text/plain": [
       "['Kentucky', 'Tennessee', 'Virginia']"
      ]
     },
     "metadata": {},
     "output_type": "display_data"
    },
    {
     "name": "stdout",
     "output_type": "stream",
     "text": [
      "Additional states where BISON records occurrence data\n"
     ]
    },
    {
     "data": {
      "text/plain": [
       "['Alabama',\n",
       " 'Arkansas',\n",
       " 'Connecticut',\n",
       " 'District of Columbia',\n",
       " 'Florida',\n",
       " 'Georgia',\n",
       " 'Illinois',\n",
       " 'Indiana',\n",
       " 'Iowa',\n",
       " 'Kansas',\n",
       " 'Louisiana',\n",
       " 'Maryland',\n",
       " 'Michigan',\n",
       " 'Minnesota',\n",
       " 'Mississippi',\n",
       " 'Missouri',\n",
       " 'New Jersey',\n",
       " 'New York',\n",
       " 'North Carolina',\n",
       " 'Ohio',\n",
       " 'Oklahoma',\n",
       " 'Pennsylvania',\n",
       " 'South Carolina',\n",
       " 'Texas',\n",
       " 'West Virginia',\n",
       " 'Wisconsin']"
      ]
     },
     "metadata": {},
     "output_type": "display_data"
    },
    {
     "name": "stdout",
     "output_type": "stream",
     "text": [
      "----------\n",
      "Scientific Name: Cambarus obeyensis\n",
      "Common Name: Obey crayfish\n",
      "Lead FWS Region: R4\n",
      "ECOS Link: https://ecos.fws.gov/ecp/species/8539\n",
      "States where FWS range of states align with BISON occurrence data\n"
     ]
    },
    {
     "data": {
      "text/plain": [
       "['Tennessee']"
      ]
     },
     "metadata": {},
     "output_type": "display_data"
    },
    {
     "name": "stdout",
     "output_type": "stream",
     "text": [
      "Additional states where BISON records occurrence data\n"
     ]
    },
    {
     "data": {
      "text/plain": [
       "['Alabama',\n",
       " 'Arkansas',\n",
       " 'Connecticut',\n",
       " 'District of Columbia',\n",
       " 'Florida',\n",
       " 'Georgia',\n",
       " 'Illinois',\n",
       " 'Indiana',\n",
       " 'Iowa',\n",
       " 'Kansas',\n",
       " 'Kentucky',\n",
       " 'Louisiana',\n",
       " 'Maryland',\n",
       " 'Michigan',\n",
       " 'Minnesota',\n",
       " 'Mississippi',\n",
       " 'Missouri',\n",
       " 'New Jersey',\n",
       " 'New York',\n",
       " 'North Carolina',\n",
       " 'Ohio',\n",
       " 'Oklahoma',\n",
       " 'Pennsylvania',\n",
       " 'South Carolina',\n",
       " 'Texas',\n",
       " 'Virginia',\n",
       " 'West Virginia',\n",
       " 'Wisconsin']"
      ]
     },
     "metadata": {},
     "output_type": "display_data"
    },
    {
     "name": "stdout",
     "output_type": "stream",
     "text": [
      "----------\n",
      "Scientific Name: Cambarus parrishi\n",
      "Common Name: Parrish crayfish (Hiwassee headwater crayfish)\n",
      "Lead FWS Region: R4\n",
      "ECOS Link: https://ecos.fws.gov/ecp/species/2605\n",
      "States where FWS range of states align with BISON occurrence data\n"
     ]
    },
    {
     "data": {
      "text/plain": [
       "['Georgia', 'North Carolina']"
      ]
     },
     "metadata": {},
     "output_type": "display_data"
    },
    {
     "name": "stdout",
     "output_type": "stream",
     "text": [
      "Additional states where BISON records occurrence data\n"
     ]
    },
    {
     "data": {
      "text/plain": [
       "['Alabama',\n",
       " 'Arkansas',\n",
       " 'Connecticut',\n",
       " 'District of Columbia',\n",
       " 'Florida',\n",
       " 'Illinois',\n",
       " 'Indiana',\n",
       " 'Iowa',\n",
       " 'Kansas',\n",
       " 'Kentucky',\n",
       " 'Louisiana',\n",
       " 'Maryland',\n",
       " 'Michigan',\n",
       " 'Minnesota',\n",
       " 'Mississippi',\n",
       " 'Missouri',\n",
       " 'New Jersey',\n",
       " 'New York',\n",
       " 'Ohio',\n",
       " 'Oklahoma',\n",
       " 'Pennsylvania',\n",
       " 'South Carolina',\n",
       " 'Tennessee',\n",
       " 'Texas',\n",
       " 'Virginia',\n",
       " 'West Virginia',\n",
       " 'Wisconsin']"
      ]
     },
     "metadata": {},
     "output_type": "display_data"
    },
    {
     "name": "stdout",
     "output_type": "stream",
     "text": [
      "----------\n",
      "Scientific Name: Cambarus pristinus\n",
      "Common Name: Pristine crayfish\n",
      "Lead FWS Region: R4\n",
      "ECOS Link: https://ecos.fws.gov/ecp/species/9801\n",
      "States where FWS range of states align with BISON occurrence data\n"
     ]
    },
    {
     "data": {
      "text/plain": [
       "['Tennessee']"
      ]
     },
     "metadata": {},
     "output_type": "display_data"
    },
    {
     "name": "stdout",
     "output_type": "stream",
     "text": [
      "Additional states where BISON records occurrence data\n"
     ]
    },
    {
     "data": {
      "text/plain": [
       "['Alabama',\n",
       " 'Arkansas',\n",
       " 'Connecticut',\n",
       " 'District of Columbia',\n",
       " 'Florida',\n",
       " 'Georgia',\n",
       " 'Illinois',\n",
       " 'Indiana',\n",
       " 'Iowa',\n",
       " 'Kansas',\n",
       " 'Kentucky',\n",
       " 'Louisiana',\n",
       " 'Maryland',\n",
       " 'Michigan',\n",
       " 'Minnesota',\n",
       " 'Mississippi',\n",
       " 'Missouri',\n",
       " 'New Jersey',\n",
       " 'New York',\n",
       " 'North Carolina',\n",
       " 'Ohio',\n",
       " 'Oklahoma',\n",
       " 'Pennsylvania',\n",
       " 'South Carolina',\n",
       " 'Texas',\n",
       " 'Virginia',\n",
       " 'West Virginia',\n",
       " 'Wisconsin']"
      ]
     },
     "metadata": {},
     "output_type": "display_data"
    },
    {
     "name": "stdout",
     "output_type": "stream",
     "text": [
      "----------\n",
      "Scientific Name: Cambarus speciosus\n",
      "Common Name: beautiful crayfish\n",
      "Lead FWS Region: R4\n",
      "ECOS Link: https://ecos.fws.gov/ecp/species/9803\n",
      "States where FWS range of states align with BISON occurrence data\n"
     ]
    },
    {
     "data": {
      "text/plain": [
       "['Georgia']"
      ]
     },
     "metadata": {},
     "output_type": "display_data"
    },
    {
     "name": "stdout",
     "output_type": "stream",
     "text": [
      "Additional states where BISON records occurrence data\n"
     ]
    },
    {
     "data": {
      "text/plain": [
       "['Alabama',\n",
       " 'Arkansas',\n",
       " 'Connecticut',\n",
       " 'District of Columbia',\n",
       " 'Florida',\n",
       " 'Illinois',\n",
       " 'Indiana',\n",
       " 'Iowa',\n",
       " 'Kansas',\n",
       " 'Kentucky',\n",
       " 'Louisiana',\n",
       " 'Maryland',\n",
       " 'Michigan',\n",
       " 'Minnesota',\n",
       " 'Mississippi',\n",
       " 'Missouri',\n",
       " 'New Jersey',\n",
       " 'New York',\n",
       " 'North Carolina',\n",
       " 'Ohio',\n",
       " 'Oklahoma',\n",
       " 'Pennsylvania',\n",
       " 'South Carolina',\n",
       " 'Tennessee',\n",
       " 'Texas',\n",
       " 'Virginia',\n",
       " 'West Virginia',\n",
       " 'Wisconsin']"
      ]
     },
     "metadata": {},
     "output_type": "display_data"
    },
    {
     "name": "stdout",
     "output_type": "stream",
     "text": [
      "----------\n",
      "Scientific Name: Cambarus subterraneus\n",
      "Common Name: Delaware County cave crayfish\n",
      "Lead FWS Region: R2\n",
      "ECOS Link: nan\n",
      "States where FWS range of states align with BISON occurrence data\n"
     ]
    },
    {
     "data": {
      "text/plain": [
       "['Oklahoma']"
      ]
     },
     "metadata": {},
     "output_type": "display_data"
    },
    {
     "name": "stdout",
     "output_type": "stream",
     "text": [
      "Additional states where BISON records occurrence data\n"
     ]
    },
    {
     "data": {
      "text/plain": [
       "['Alabama',\n",
       " 'Arkansas',\n",
       " 'Connecticut',\n",
       " 'District of Columbia',\n",
       " 'Florida',\n",
       " 'Georgia',\n",
       " 'Illinois',\n",
       " 'Indiana',\n",
       " 'Iowa',\n",
       " 'Kansas',\n",
       " 'Kentucky',\n",
       " 'Louisiana',\n",
       " 'Maryland',\n",
       " 'Michigan',\n",
       " 'Minnesota',\n",
       " 'Mississippi',\n",
       " 'Missouri',\n",
       " 'New Jersey',\n",
       " 'New York',\n",
       " 'North Carolina',\n",
       " 'Ohio',\n",
       " 'Pennsylvania',\n",
       " 'South Carolina',\n",
       " 'Tennessee',\n",
       " 'Texas',\n",
       " 'Virginia',\n",
       " 'West Virginia',\n",
       " 'Wisconsin']"
      ]
     },
     "metadata": {},
     "output_type": "display_data"
    },
    {
     "name": "stdout",
     "output_type": "stream",
     "text": [
      "----------\n",
      "Scientific Name: Cambarus tartarus\n",
      "Common Name: Oklahoma cave crayfish\n",
      "Lead FWS Region: R2\n",
      "ECOS Link: nan\n",
      "States where FWS range of states align with BISON occurrence data\n"
     ]
    },
    {
     "data": {
      "text/plain": [
       "['Oklahoma']"
      ]
     },
     "metadata": {},
     "output_type": "display_data"
    },
    {
     "name": "stdout",
     "output_type": "stream",
     "text": [
      "Additional states where BISON records occurrence data\n"
     ]
    },
    {
     "data": {
      "text/plain": [
       "['Alabama',\n",
       " 'Arkansas',\n",
       " 'Connecticut',\n",
       " 'District of Columbia',\n",
       " 'Florida',\n",
       " 'Georgia',\n",
       " 'Illinois',\n",
       " 'Indiana',\n",
       " 'Iowa',\n",
       " 'Kansas',\n",
       " 'Kentucky',\n",
       " 'Louisiana',\n",
       " 'Maryland',\n",
       " 'Michigan',\n",
       " 'Minnesota',\n",
       " 'Mississippi',\n",
       " 'Missouri',\n",
       " 'New Jersey',\n",
       " 'New York',\n",
       " 'North Carolina',\n",
       " 'Ohio',\n",
       " 'Pennsylvania',\n",
       " 'South Carolina',\n",
       " 'Tennessee',\n",
       " 'Texas',\n",
       " 'Virginia',\n",
       " 'West Virginia',\n",
       " 'Wisconsin']"
      ]
     },
     "metadata": {},
     "output_type": "display_data"
    },
    {
     "name": "stdout",
     "output_type": "stream",
     "text": [
      "----------\n",
      "Scientific Name: Cambarus williami\n",
      "Common Name: Brawley's Fork crayfish\n",
      "Lead FWS Region: R4\n",
      "ECOS Link: https://ecos.fws.gov/ecp/species/9806\n",
      "States where FWS range of states align with BISON occurrence data\n"
     ]
    },
    {
     "data": {
      "text/plain": [
       "['Tennessee']"
      ]
     },
     "metadata": {},
     "output_type": "display_data"
    },
    {
     "name": "stdout",
     "output_type": "stream",
     "text": [
      "Additional states where BISON records occurrence data\n"
     ]
    },
    {
     "data": {
      "text/plain": [
       "['Alabama',\n",
       " 'Arkansas',\n",
       " 'Connecticut',\n",
       " 'District of Columbia',\n",
       " 'Florida',\n",
       " 'Georgia',\n",
       " 'Illinois',\n",
       " 'Indiana',\n",
       " 'Iowa',\n",
       " 'Kansas',\n",
       " 'Kentucky',\n",
       " 'Louisiana',\n",
       " 'Maryland',\n",
       " 'Michigan',\n",
       " 'Minnesota',\n",
       " 'Mississippi',\n",
       " 'Missouri',\n",
       " 'New Jersey',\n",
       " 'New York',\n",
       " 'North Carolina',\n",
       " 'Ohio',\n",
       " 'Oklahoma',\n",
       " 'Pennsylvania',\n",
       " 'South Carolina',\n",
       " 'Texas',\n",
       " 'Virginia',\n",
       " 'West Virginia',\n",
       " 'Wisconsin']"
      ]
     },
     "metadata": {},
     "output_type": "display_data"
    },
    {
     "name": "stdout",
     "output_type": "stream",
     "text": [
      "----------\n",
      "Scientific Name: Fallicambarus danielae\n",
      "Common Name: speckled burrowing crayfish\n",
      "Lead FWS Region: R4\n",
      "ECOS Link: https://ecos.fws.gov/ecp/species/5458\n",
      "States where FWS range of states had no BISON occurrence data\n"
     ]
    },
    {
     "data": {
      "text/plain": [
       "['Alabama', 'Mississippi']"
      ]
     },
     "metadata": {},
     "output_type": "display_data"
    },
    {
     "name": "stdout",
     "output_type": "stream",
     "text": [
      "Additional states where BISON records occurrence data\n"
     ]
    },
    {
     "data": {
      "text/plain": [
       "['Missouri', 'Oklahoma', 'Texas']"
      ]
     },
     "metadata": {},
     "output_type": "display_data"
    },
    {
     "name": "stdout",
     "output_type": "stream",
     "text": [
      "----------\n",
      "Scientific Name: Fallicambarus harpi\n",
      "Common Name: Ouachita burrowing crayfish\n",
      "Lead FWS Region: R4\n",
      "ECOS Link: https://ecos.fws.gov/ecp/species/3289\n",
      "States where FWS range of states had no BISON occurrence data\n"
     ]
    },
    {
     "data": {
      "text/plain": [
       "['Arkansas']"
      ]
     },
     "metadata": {},
     "output_type": "display_data"
    },
    {
     "name": "stdout",
     "output_type": "stream",
     "text": [
      "Additional states where BISON records occurrence data\n"
     ]
    },
    {
     "data": {
      "text/plain": [
       "['Missouri', 'Oklahoma', 'Texas']"
      ]
     },
     "metadata": {},
     "output_type": "display_data"
    },
    {
     "name": "stdout",
     "output_type": "stream",
     "text": [
      "----------\n",
      "Scientific Name: Hobbseus cristatus\n",
      "Common Name: Crested Riverlet crayfish\n",
      "Lead FWS Region: R4\n",
      "ECOS Link: https://ecos.fws.gov/ecp/species/9812\n",
      "States where FWS range of states had no BISON occurrence data\n"
     ]
    },
    {
     "data": {
      "text/plain": [
       "['Mississippi']"
      ]
     },
     "metadata": {},
     "output_type": "display_data"
    },
    {
     "name": "stdout",
     "output_type": "stream",
     "text": [
      "----------\n",
      "Scientific Name: Hobbseus petilus\n",
      "Common Name: Tombigbee Riverlet crayfish\n",
      "Lead FWS Region: R4\n",
      "ECOS Link: https://ecos.fws.gov/ecp/species/9813\n",
      "States where FWS range of states had no BISON occurrence data\n"
     ]
    },
    {
     "data": {
      "text/plain": [
       "['Mississippi']"
      ]
     },
     "metadata": {},
     "output_type": "display_data"
    },
    {
     "name": "stdout",
     "output_type": "stream",
     "text": [
      "----------\n",
      "Scientific Name: Hobbseus yalobushensis\n",
      "Common Name: Yalobusha Riverlet crayfish\n",
      "Lead FWS Region: R4\n",
      "ECOS Link: https://ecos.fws.gov/ecp/species/9821\n",
      "States where FWS range of states had no BISON occurrence data\n"
     ]
    },
    {
     "data": {
      "text/plain": [
       "['Mississippi']"
      ]
     },
     "metadata": {},
     "output_type": "display_data"
    },
    {
     "name": "stdout",
     "output_type": "stream",
     "text": [
      "----------\n",
      "Scientific Name: Lirceolus smithii\n",
      "Common Name: Texas troglobitic water slater\n",
      "Lead FWS Region: R2\n",
      "ECOS Link: nan\n",
      "States where FWS range of states had no BISON occurrence data\n"
     ]
    },
    {
     "data": {
      "text/plain": [
       "['Texas']"
      ]
     },
     "metadata": {},
     "output_type": "display_data"
    },
    {
     "name": "stdout",
     "output_type": "stream",
     "text": [
      "----------\n",
      "Scientific Name: Lirceus culveri\n",
      "Common Name: Rye Cove Cave isopod\n",
      "Lead FWS Region: R5\n",
      "ECOS Link: https://ecos.fws.gov/ecp/species/2692\n",
      "States where FWS range of states align with BISON occurrence data\n"
     ]
    },
    {
     "data": {
      "text/plain": [
       "['Virginia']"
      ]
     },
     "metadata": {},
     "output_type": "display_data"
    },
    {
     "name": "stdout",
     "output_type": "stream",
     "text": [
      "Additional states where BISON records occurrence data\n"
     ]
    },
    {
     "data": {
      "text/plain": [
       "['Alabama',\n",
       " 'Arkansas',\n",
       " 'Colorado',\n",
       " 'Georgia',\n",
       " 'Illinois',\n",
       " 'Indiana',\n",
       " 'Kentucky',\n",
       " 'Louisiana',\n",
       " 'Maryland',\n",
       " 'Michigan',\n",
       " 'Mississippi',\n",
       " 'Missouri',\n",
       " 'New Jersey',\n",
       " 'North Carolina',\n",
       " 'Ohio',\n",
       " 'Oklahoma',\n",
       " 'Pennsylvania',\n",
       " 'South Carolina',\n",
       " 'Tennessee',\n",
       " 'Texas',\n",
       " 'West Virginia']"
      ]
     },
     "metadata": {},
     "output_type": "display_data"
    },
    {
     "name": "stdout",
     "output_type": "stream",
     "text": [
      "----------\n",
      "Scientific Name: Orconectes eupunctus\n",
      "Common Name: coldwater crayfish\n",
      "Lead FWS Region: R3\n",
      "ECOS Link: https://ecos.fws.gov/ecp/species/9815\n",
      "States where FWS range of states align with BISON occurrence data\n"
     ]
    },
    {
     "data": {
      "text/plain": [
       "['Arkansas', 'Missouri']"
      ]
     },
     "metadata": {},
     "output_type": "display_data"
    },
    {
     "name": "stdout",
     "output_type": "stream",
     "text": [
      "Additional states where BISON records occurrence data\n"
     ]
    },
    {
     "data": {
      "text/plain": [
       "['Alabama',\n",
       " 'Arizona',\n",
       " 'Colorado',\n",
       " 'Connecticut',\n",
       " 'Florida',\n",
       " 'Georgia',\n",
       " 'Idaho',\n",
       " 'Illinois',\n",
       " 'Indiana',\n",
       " 'Iowa',\n",
       " 'Kansas',\n",
       " 'Louisiana',\n",
       " 'Maryland',\n",
       " 'Massachusetts',\n",
       " 'Michigan',\n",
       " 'Minnesota',\n",
       " 'Mississippi',\n",
       " 'Nebraska',\n",
       " 'New Hampshire',\n",
       " 'New Jersey',\n",
       " 'New Mexico',\n",
       " 'New York',\n",
       " 'North Carolina',\n",
       " 'North Dakota',\n",
       " 'Ohio',\n",
       " 'Oklahoma',\n",
       " 'Oregon',\n",
       " 'Pennsylvania',\n",
       " 'South Carolina',\n",
       " 'South Dakota',\n",
       " 'Tennessee',\n",
       " 'Texas',\n",
       " 'Utah',\n",
       " 'Vermont',\n",
       " 'Virginia',\n",
       " 'West Virginia',\n",
       " 'Wisconsin',\n",
       " 'Wyoming']"
      ]
     },
     "metadata": {},
     "output_type": "display_data"
    },
    {
     "name": "stdout",
     "output_type": "stream",
     "text": [
      "----------\n",
      "Scientific Name: Orconectes hartfieldi\n",
      "Common Name: Yazoo crayfish\n",
      "Lead FWS Region: R4\n",
      "ECOS Link: https://ecos.fws.gov/ecp/species/9816\n",
      "States where FWS range of states align with BISON occurrence data\n"
     ]
    },
    {
     "data": {
      "text/plain": [
       "['Mississippi']"
      ]
     },
     "metadata": {},
     "output_type": "display_data"
    },
    {
     "name": "stdout",
     "output_type": "stream",
     "text": [
      "Additional states where BISON records occurrence data\n"
     ]
    },
    {
     "data": {
      "text/plain": [
       "['Alabama',\n",
       " 'Arizona',\n",
       " 'Arkansas',\n",
       " 'Colorado',\n",
       " 'Connecticut',\n",
       " 'Florida',\n",
       " 'Georgia',\n",
       " 'Idaho',\n",
       " 'Illinois',\n",
       " 'Indiana',\n",
       " 'Iowa',\n",
       " 'Kansas',\n",
       " 'Louisiana',\n",
       " 'Maryland',\n",
       " 'Massachusetts',\n",
       " 'Michigan',\n",
       " 'Minnesota',\n",
       " 'Missouri',\n",
       " 'Nebraska',\n",
       " 'New Hampshire',\n",
       " 'New Jersey',\n",
       " 'New Mexico',\n",
       " 'New York',\n",
       " 'North Carolina',\n",
       " 'North Dakota',\n",
       " 'Ohio',\n",
       " 'Oklahoma',\n",
       " 'Oregon',\n",
       " 'Pennsylvania',\n",
       " 'South Carolina',\n",
       " 'South Dakota',\n",
       " 'Tennessee',\n",
       " 'Texas',\n",
       " 'Utah',\n",
       " 'Vermont',\n",
       " 'Virginia',\n",
       " 'West Virginia',\n",
       " 'Wisconsin',\n",
       " 'Wyoming']"
      ]
     },
     "metadata": {},
     "output_type": "display_data"
    },
    {
     "name": "stdout",
     "output_type": "stream",
     "text": [
      "----------\n",
      "Scientific Name: Orconectes marchandi\n",
      "Common Name: Mammoth Spring crayfish\n",
      "Lead FWS Region: R3\n",
      "ECOS Link: https://ecos.fws.gov/ecp/species/9823\n",
      "States where FWS range of states align with BISON occurrence data\n"
     ]
    },
    {
     "data": {
      "text/plain": [
       "['Arkansas', 'Missouri']"
      ]
     },
     "metadata": {},
     "output_type": "display_data"
    },
    {
     "name": "stdout",
     "output_type": "stream",
     "text": [
      "Additional states where BISON records occurrence data\n"
     ]
    },
    {
     "data": {
      "text/plain": [
       "['Alabama',\n",
       " 'Arizona',\n",
       " 'Colorado',\n",
       " 'Connecticut',\n",
       " 'Florida',\n",
       " 'Georgia',\n",
       " 'Idaho',\n",
       " 'Illinois',\n",
       " 'Indiana',\n",
       " 'Iowa',\n",
       " 'Kansas',\n",
       " 'Louisiana',\n",
       " 'Maryland',\n",
       " 'Massachusetts',\n",
       " 'Michigan',\n",
       " 'Minnesota',\n",
       " 'Mississippi',\n",
       " 'Nebraska',\n",
       " 'New Hampshire',\n",
       " 'New Jersey',\n",
       " 'New Mexico',\n",
       " 'New York',\n",
       " 'North Carolina',\n",
       " 'North Dakota',\n",
       " 'Ohio',\n",
       " 'Oklahoma',\n",
       " 'Oregon',\n",
       " 'Pennsylvania',\n",
       " 'South Carolina',\n",
       " 'South Dakota',\n",
       " 'Tennessee',\n",
       " 'Texas',\n",
       " 'Utah',\n",
       " 'Vermont',\n",
       " 'Virginia',\n",
       " 'West Virginia',\n",
       " 'Wisconsin',\n",
       " 'Wyoming']"
      ]
     },
     "metadata": {},
     "output_type": "display_data"
    },
    {
     "name": "stdout",
     "output_type": "stream",
     "text": [
      "----------\n",
      "Scientific Name: Orconectes peruncus\n",
      "Common Name: Big Creek crayfish\n",
      "Lead FWS Region: R3\n",
      "ECOS Link: nan\n",
      "States where FWS range of states align with BISON occurrence data\n"
     ]
    },
    {
     "data": {
      "text/plain": [
       "['Missouri']"
      ]
     },
     "metadata": {},
     "output_type": "display_data"
    },
    {
     "name": "stdout",
     "output_type": "stream",
     "text": [
      "Additional states where BISON records occurrence data\n"
     ]
    },
    {
     "data": {
      "text/plain": [
       "['Alabama',\n",
       " 'Arizona',\n",
       " 'Arkansas',\n",
       " 'Colorado',\n",
       " 'Connecticut',\n",
       " 'Florida',\n",
       " 'Georgia',\n",
       " 'Idaho',\n",
       " 'Illinois',\n",
       " 'Indiana',\n",
       " 'Iowa',\n",
       " 'Kansas',\n",
       " 'Louisiana',\n",
       " 'Maryland',\n",
       " 'Massachusetts',\n",
       " 'Michigan',\n",
       " 'Minnesota',\n",
       " 'Mississippi',\n",
       " 'Nebraska',\n",
       " 'New Hampshire',\n",
       " 'New Jersey',\n",
       " 'New Mexico',\n",
       " 'New York',\n",
       " 'North Carolina',\n",
       " 'North Dakota',\n",
       " 'Ohio',\n",
       " 'Oklahoma',\n",
       " 'Oregon',\n",
       " 'Pennsylvania',\n",
       " 'South Carolina',\n",
       " 'South Dakota',\n",
       " 'Tennessee',\n",
       " 'Texas',\n",
       " 'Utah',\n",
       " 'Vermont',\n",
       " 'Virginia',\n",
       " 'West Virginia',\n",
       " 'Wisconsin',\n",
       " 'Wyoming']"
      ]
     },
     "metadata": {},
     "output_type": "display_data"
    },
    {
     "name": "stdout",
     "output_type": "stream",
     "text": [
      "----------\n",
      "Scientific Name: Orconectes quadruncus\n",
      "Common Name: St. Francis River crayfish\n",
      "Lead FWS Region: R3\n",
      "ECOS Link: nan\n",
      "States where FWS range of states align with BISON occurrence data\n"
     ]
    },
    {
     "data": {
      "text/plain": [
       "['Missouri']"
      ]
     },
     "metadata": {},
     "output_type": "display_data"
    },
    {
     "name": "stdout",
     "output_type": "stream",
     "text": [
      "Additional states where BISON records occurrence data\n"
     ]
    },
    {
     "data": {
      "text/plain": [
       "['Alabama',\n",
       " 'Arizona',\n",
       " 'Arkansas',\n",
       " 'Colorado',\n",
       " 'Connecticut',\n",
       " 'Florida',\n",
       " 'Georgia',\n",
       " 'Idaho',\n",
       " 'Illinois',\n",
       " 'Indiana',\n",
       " 'Iowa',\n",
       " 'Kansas',\n",
       " 'Louisiana',\n",
       " 'Maryland',\n",
       " 'Massachusetts',\n",
       " 'Michigan',\n",
       " 'Minnesota',\n",
       " 'Mississippi',\n",
       " 'Nebraska',\n",
       " 'New Hampshire',\n",
       " 'New Jersey',\n",
       " 'New Mexico',\n",
       " 'New York',\n",
       " 'North Carolina',\n",
       " 'North Dakota',\n",
       " 'Ohio',\n",
       " 'Oklahoma',\n",
       " 'Oregon',\n",
       " 'Pennsylvania',\n",
       " 'South Carolina',\n",
       " 'South Dakota',\n",
       " 'Tennessee',\n",
       " 'Texas',\n",
       " 'Utah',\n",
       " 'Vermont',\n",
       " 'Virginia',\n",
       " 'West Virginia',\n",
       " 'Wisconsin',\n",
       " 'Wyoming']"
      ]
     },
     "metadata": {},
     "output_type": "display_data"
    },
    {
     "name": "stdout",
     "output_type": "stream",
     "text": [
      "----------\n",
      "Scientific Name: Orconectes saxatilis\n",
      "Common Name: Kiamichi crayfish\n",
      "Lead FWS Region: R2\n",
      "ECOS Link: https://ecos.fws.gov/ecp0/profile/speciesProfile?spcode=K07Q\n",
      "States where FWS range of states align with BISON occurrence data\n"
     ]
    },
    {
     "data": {
      "text/plain": [
       "['Oklahoma']"
      ]
     },
     "metadata": {},
     "output_type": "display_data"
    },
    {
     "name": "stdout",
     "output_type": "stream",
     "text": [
      "Additional states where BISON records occurrence data\n"
     ]
    },
    {
     "data": {
      "text/plain": [
       "['Alabama',\n",
       " 'Arizona',\n",
       " 'Arkansas',\n",
       " 'Colorado',\n",
       " 'Connecticut',\n",
       " 'Florida',\n",
       " 'Georgia',\n",
       " 'Idaho',\n",
       " 'Illinois',\n",
       " 'Indiana',\n",
       " 'Iowa',\n",
       " 'Kansas',\n",
       " 'Louisiana',\n",
       " 'Maryland',\n",
       " 'Massachusetts',\n",
       " 'Michigan',\n",
       " 'Minnesota',\n",
       " 'Mississippi',\n",
       " 'Missouri',\n",
       " 'Nebraska',\n",
       " 'New Hampshire',\n",
       " 'New Jersey',\n",
       " 'New Mexico',\n",
       " 'New York',\n",
       " 'North Carolina',\n",
       " 'North Dakota',\n",
       " 'Ohio',\n",
       " 'Oregon',\n",
       " 'Pennsylvania',\n",
       " 'South Carolina',\n",
       " 'South Dakota',\n",
       " 'Tennessee',\n",
       " 'Texas',\n",
       " 'Utah',\n",
       " 'Vermont',\n",
       " 'Virginia',\n",
       " 'West Virginia',\n",
       " 'Wisconsin',\n",
       " 'Wyoming']"
      ]
     },
     "metadata": {},
     "output_type": "display_data"
    },
    {
     "name": "stdout",
     "output_type": "stream",
     "text": [
      "----------\n",
      "Scientific Name: Orconectes virginiensis\n",
      "Common Name: Chowanoke crayfish\n",
      "Lead FWS Region: R5\n",
      "ECOS Link: https://ecos.fws.gov/ecp/species/8226\n",
      "States where FWS range of states align with BISON occurrence data\n"
     ]
    },
    {
     "data": {
      "text/plain": [
       "['North Carolina', 'Virginia']"
      ]
     },
     "metadata": {},
     "output_type": "display_data"
    },
    {
     "name": "stdout",
     "output_type": "stream",
     "text": [
      "Additional states where BISON records occurrence data\n"
     ]
    },
    {
     "data": {
      "text/plain": [
       "['Alabama',\n",
       " 'Arizona',\n",
       " 'Arkansas',\n",
       " 'Colorado',\n",
       " 'Connecticut',\n",
       " 'Florida',\n",
       " 'Georgia',\n",
       " 'Idaho',\n",
       " 'Illinois',\n",
       " 'Indiana',\n",
       " 'Iowa',\n",
       " 'Kansas',\n",
       " 'Louisiana',\n",
       " 'Maryland',\n",
       " 'Massachusetts',\n",
       " 'Michigan',\n",
       " 'Minnesota',\n",
       " 'Mississippi',\n",
       " 'Missouri',\n",
       " 'Nebraska',\n",
       " 'New Hampshire',\n",
       " 'New Jersey',\n",
       " 'New Mexico',\n",
       " 'New York',\n",
       " 'North Dakota',\n",
       " 'Ohio',\n",
       " 'Oklahoma',\n",
       " 'Oregon',\n",
       " 'Pennsylvania',\n",
       " 'South Carolina',\n",
       " 'South Dakota',\n",
       " 'Tennessee',\n",
       " 'Texas',\n",
       " 'Utah',\n",
       " 'Vermont',\n",
       " 'West Virginia',\n",
       " 'Wisconsin',\n",
       " 'Wyoming']"
      ]
     },
     "metadata": {},
     "output_type": "display_data"
    },
    {
     "name": "stdout",
     "output_type": "stream",
     "text": [
      "----------\n",
      "Scientific Name: Procambarus barbiger\n",
      "Common Name: Jackson prairie crayfish\n",
      "Lead FWS Region: R4\n",
      "ECOS Link: https://ecos.fws.gov/ecp/species/6542\n",
      "States where FWS range of states had no BISON occurrence data\n"
     ]
    },
    {
     "data": {
      "text/plain": [
       "['Mississippi']"
      ]
     },
     "metadata": {},
     "output_type": "display_data"
    },
    {
     "name": "stdout",
     "output_type": "stream",
     "text": [
      "Additional states where BISON records occurrence data\n"
     ]
    },
    {
     "data": {
      "text/plain": [
       "['Alabama',\n",
       " 'Arizona',\n",
       " 'California',\n",
       " 'Florida',\n",
       " 'Georgia',\n",
       " 'Louisiana',\n",
       " 'Massachusetts',\n",
       " 'Missouri',\n",
       " 'New Jersey',\n",
       " 'North Carolina',\n",
       " 'Oklahoma',\n",
       " 'Pennsylvania',\n",
       " 'South Carolina',\n",
       " 'Texas',\n",
       " 'Wisconsin']"
      ]
     },
     "metadata": {},
     "output_type": "display_data"
    },
    {
     "name": "stdout",
     "output_type": "stream",
     "text": [
      "----------\n",
      "Scientific Name: Procambarus cometes\n",
      "Common Name: Mississippi Flatwoods crayfish\n",
      "Lead FWS Region: R4\n",
      "ECOS Link: https://ecos.fws.gov/ecp/species/3812\n",
      "States where FWS range of states had no BISON occurrence data\n"
     ]
    },
    {
     "data": {
      "text/plain": [
       "['Mississippi']"
      ]
     },
     "metadata": {},
     "output_type": "display_data"
    },
    {
     "name": "stdout",
     "output_type": "stream",
     "text": [
      "Additional states where BISON records occurrence data\n"
     ]
    },
    {
     "data": {
      "text/plain": [
       "['Alabama',\n",
       " 'Arizona',\n",
       " 'California',\n",
       " 'Florida',\n",
       " 'Georgia',\n",
       " 'Louisiana',\n",
       " 'Massachusetts',\n",
       " 'Missouri',\n",
       " 'New Jersey',\n",
       " 'North Carolina',\n",
       " 'Oklahoma',\n",
       " 'Pennsylvania',\n",
       " 'South Carolina',\n",
       " 'Texas',\n",
       " 'Wisconsin']"
      ]
     },
     "metadata": {},
     "output_type": "display_data"
    },
    {
     "name": "stdout",
     "output_type": "stream",
     "text": [
      "----------\n",
      "Scientific Name: Procambarus econfinae\n",
      "Common Name: Panama City crayfish\n",
      "Lead FWS Region: R4\n",
      "ECOS Link: https://ecos.fws.gov/ecp/species/8915\n",
      "States where FWS range of states align with BISON occurrence data\n"
     ]
    },
    {
     "data": {
      "text/plain": [
       "['Florida']"
      ]
     },
     "metadata": {},
     "output_type": "display_data"
    },
    {
     "name": "stdout",
     "output_type": "stream",
     "text": [
      "Additional states where BISON records occurrence data\n"
     ]
    },
    {
     "data": {
      "text/plain": [
       "['Alabama',\n",
       " 'Arizona',\n",
       " 'California',\n",
       " 'Georgia',\n",
       " 'Louisiana',\n",
       " 'Massachusetts',\n",
       " 'Missouri',\n",
       " 'New Jersey',\n",
       " 'North Carolina',\n",
       " 'Oklahoma',\n",
       " 'Pennsylvania',\n",
       " 'South Carolina',\n",
       " 'Texas',\n",
       " 'Wisconsin']"
      ]
     },
     "metadata": {},
     "output_type": "display_data"
    },
    {
     "name": "stdout",
     "output_type": "stream",
     "text": [
      "----------\n",
      "Scientific Name: Procambarus fitzpatricki\n",
      "Common Name: spinytail crayfish\n",
      "Lead FWS Region: R4\n",
      "ECOS Link: https://ecos.fws.gov/ecp/species/4532\n",
      "States where FWS range of states had no BISON occurrence data\n"
     ]
    },
    {
     "data": {
      "text/plain": [
       "['Mississippi']"
      ]
     },
     "metadata": {},
     "output_type": "display_data"
    },
    {
     "name": "stdout",
     "output_type": "stream",
     "text": [
      "Additional states where BISON records occurrence data\n"
     ]
    },
    {
     "data": {
      "text/plain": [
       "['Alabama',\n",
       " 'Arizona',\n",
       " 'California',\n",
       " 'Florida',\n",
       " 'Georgia',\n",
       " 'Louisiana',\n",
       " 'Massachusetts',\n",
       " 'Missouri',\n",
       " 'New Jersey',\n",
       " 'North Carolina',\n",
       " 'Oklahoma',\n",
       " 'Pennsylvania',\n",
       " 'South Carolina',\n",
       " 'Texas',\n",
       " 'Wisconsin']"
      ]
     },
     "metadata": {},
     "output_type": "display_data"
    },
    {
     "name": "stdout",
     "output_type": "stream",
     "text": [
      "----------\n",
      "Scientific Name: Procambarus horsti\n",
      "Common Name: Big Blue Springs cave crayfish\n",
      "Lead FWS Region: R4\n",
      "ECOS Link: https://ecos.fws.gov/ecp/species/9827\n",
      "States where FWS range of states align with BISON occurrence data\n"
     ]
    },
    {
     "data": {
      "text/plain": [
       "['Florida']"
      ]
     },
     "metadata": {},
     "output_type": "display_data"
    },
    {
     "name": "stdout",
     "output_type": "stream",
     "text": [
      "Additional states where BISON records occurrence data\n"
     ]
    },
    {
     "data": {
      "text/plain": [
       "['Alabama',\n",
       " 'Arizona',\n",
       " 'California',\n",
       " 'Georgia',\n",
       " 'Louisiana',\n",
       " 'Massachusetts',\n",
       " 'Missouri',\n",
       " 'New Jersey',\n",
       " 'North Carolina',\n",
       " 'Oklahoma',\n",
       " 'Pennsylvania',\n",
       " 'South Carolina',\n",
       " 'Texas',\n",
       " 'Wisconsin']"
      ]
     },
     "metadata": {},
     "output_type": "display_data"
    },
    {
     "name": "stdout",
     "output_type": "stream",
     "text": [
      "----------\n",
      "Scientific Name: Procambarus lylei\n",
      "Common Name: Shutispear crayfish\n",
      "Lead FWS Region: R4\n",
      "ECOS Link: https://ecos.fws.gov/ecp/species/5071\n",
      "States where FWS range of states had no BISON occurrence data\n"
     ]
    },
    {
     "data": {
      "text/plain": [
       "['Mississippi']"
      ]
     },
     "metadata": {},
     "output_type": "display_data"
    },
    {
     "name": "stdout",
     "output_type": "stream",
     "text": [
      "Additional states where BISON records occurrence data\n"
     ]
    },
    {
     "data": {
      "text/plain": [
       "['Alabama',\n",
       " 'Arizona',\n",
       " 'California',\n",
       " 'Florida',\n",
       " 'Georgia',\n",
       " 'Louisiana',\n",
       " 'Massachusetts',\n",
       " 'Missouri',\n",
       " 'New Jersey',\n",
       " 'North Carolina',\n",
       " 'Oklahoma',\n",
       " 'Pennsylvania',\n",
       " 'South Carolina',\n",
       " 'Texas',\n",
       " 'Wisconsin']"
      ]
     },
     "metadata": {},
     "output_type": "display_data"
    },
    {
     "name": "stdout",
     "output_type": "stream",
     "text": [
      "----------\n",
      "Scientific Name: Procambarus milleri\n",
      "Common Name: Miami cave crayfish\n",
      "Lead FWS Region: R4\n",
      "ECOS Link: https://ecos.fws.gov/ecp/species/9832\n",
      "States where FWS range of states align with BISON occurrence data\n"
     ]
    },
    {
     "data": {
      "text/plain": [
       "['Florida']"
      ]
     },
     "metadata": {},
     "output_type": "display_data"
    },
    {
     "name": "stdout",
     "output_type": "stream",
     "text": [
      "Additional states where BISON records occurrence data\n"
     ]
    },
    {
     "data": {
      "text/plain": [
       "['Alabama',\n",
       " 'Arizona',\n",
       " 'California',\n",
       " 'Georgia',\n",
       " 'Louisiana',\n",
       " 'Massachusetts',\n",
       " 'Missouri',\n",
       " 'New Jersey',\n",
       " 'North Carolina',\n",
       " 'Oklahoma',\n",
       " 'Pennsylvania',\n",
       " 'South Carolina',\n",
       " 'Texas',\n",
       " 'Wisconsin']"
      ]
     },
     "metadata": {},
     "output_type": "display_data"
    },
    {
     "name": "stdout",
     "output_type": "stream",
     "text": [
      "----------\n",
      "Scientific Name: Procambarus pictus\n",
      "Common Name: Black Creek crayfish\n",
      "Lead FWS Region: R4\n",
      "ECOS Link: https://ecos.fws.gov/ecp/species/6252\n",
      "States where FWS range of states align with BISON occurrence data\n"
     ]
    },
    {
     "data": {
      "text/plain": [
       "['Florida']"
      ]
     },
     "metadata": {},
     "output_type": "display_data"
    },
    {
     "name": "stdout",
     "output_type": "stream",
     "text": [
      "Additional states where BISON records occurrence data\n"
     ]
    },
    {
     "data": {
      "text/plain": [
       "['Alabama',\n",
       " 'Arizona',\n",
       " 'California',\n",
       " 'Georgia',\n",
       " 'Louisiana',\n",
       " 'Massachusetts',\n",
       " 'Missouri',\n",
       " 'New Jersey',\n",
       " 'North Carolina',\n",
       " 'Oklahoma',\n",
       " 'Pennsylvania',\n",
       " 'South Carolina',\n",
       " 'Texas',\n",
       " 'Wisconsin']"
      ]
     },
     "metadata": {},
     "output_type": "display_data"
    },
    {
     "name": "stdout",
     "output_type": "stream",
     "text": [
      "----------\n",
      "Scientific Name: Procambarus pogum\n",
      "Common Name: bearded red crayfish\n",
      "Lead FWS Region: R4\n",
      "ECOS Link: https://ecos.fws.gov/ecp/species/6815\n",
      "States where FWS range of states had no BISON occurrence data\n"
     ]
    },
    {
     "data": {
      "text/plain": [
       "['Mississippi']"
      ]
     },
     "metadata": {},
     "output_type": "display_data"
    },
    {
     "name": "stdout",
     "output_type": "stream",
     "text": [
      "Additional states where BISON records occurrence data\n"
     ]
    },
    {
     "data": {
      "text/plain": [
       "['Alabama',\n",
       " 'Arizona',\n",
       " 'California',\n",
       " 'Florida',\n",
       " 'Georgia',\n",
       " 'Louisiana',\n",
       " 'Massachusetts',\n",
       " 'Missouri',\n",
       " 'New Jersey',\n",
       " 'North Carolina',\n",
       " 'Oklahoma',\n",
       " 'Pennsylvania',\n",
       " 'South Carolina',\n",
       " 'Texas',\n",
       " 'Wisconsin']"
      ]
     },
     "metadata": {},
     "output_type": "display_data"
    },
    {
     "name": "stdout",
     "output_type": "stream",
     "text": [
      "----------\n",
      "Scientific Name: Procambarus reimeri\n",
      "Common Name: Irons Fork burrowing crayfish\n",
      "Lead FWS Region: R4\n",
      "ECOS Link: https://ecos.fws.gov/ecp/species/9837\n",
      "States where FWS range of states had no BISON occurrence data\n"
     ]
    },
    {
     "data": {
      "text/plain": [
       "['Arkansas']"
      ]
     },
     "metadata": {},
     "output_type": "display_data"
    },
    {
     "name": "stdout",
     "output_type": "stream",
     "text": [
      "Additional states where BISON records occurrence data\n"
     ]
    },
    {
     "data": {
      "text/plain": [
       "['Alabama',\n",
       " 'Arizona',\n",
       " 'California',\n",
       " 'Florida',\n",
       " 'Georgia',\n",
       " 'Louisiana',\n",
       " 'Massachusetts',\n",
       " 'Missouri',\n",
       " 'New Jersey',\n",
       " 'North Carolina',\n",
       " 'Oklahoma',\n",
       " 'Pennsylvania',\n",
       " 'South Carolina',\n",
       " 'Texas',\n",
       " 'Wisconsin']"
      ]
     },
     "metadata": {},
     "output_type": "display_data"
    },
    {
     "name": "stdout",
     "output_type": "stream",
     "text": [
      "----------\n",
      "Scientific Name: Stygobromus cooperi\n",
      "Common Name: Cooper's Cave amphipod\n",
      "Lead FWS Region: R5\n",
      "ECOS Link: https://ecos.fws.gov/ecp/species/5908\n",
      "States where FWS range of states had no BISON occurrence data\n"
     ]
    },
    {
     "data": {
      "text/plain": [
       "['West Virginia']"
      ]
     },
     "metadata": {},
     "output_type": "display_data"
    },
    {
     "name": "stdout",
     "output_type": "stream",
     "text": [
      "Additional states where BISON records occurrence data\n"
     ]
    },
    {
     "data": {
      "text/plain": [
       "['Alaska',\n",
       " 'Florida',\n",
       " 'Idaho',\n",
       " 'Maryland',\n",
       " 'North Carolina',\n",
       " 'Pennsylvania',\n",
       " 'Tennessee',\n",
       " 'Virginia']"
      ]
     },
     "metadata": {},
     "output_type": "display_data"
    },
    {
     "name": "stdout",
     "output_type": "stream",
     "text": [
      "----------\n",
      "Scientific Name: Stygobromus indentatus\n",
      "Common Name: Tidewater amphipod\n",
      "Lead FWS Region: R5\n",
      "ECOS Link: https://ecos.fws.gov/ecp0/profile/speciesProfile?spcode=K007\n",
      "States where FWS range of states align with BISON occurrence data\n"
     ]
    },
    {
     "data": {
      "text/plain": [
       "['Maryland', 'North Carolina', 'Virginia']"
      ]
     },
     "metadata": {},
     "output_type": "display_data"
    },
    {
     "name": "stdout",
     "output_type": "stream",
     "text": [
      "Additional states where BISON records occurrence data\n"
     ]
    },
    {
     "data": {
      "text/plain": [
       "['Alaska', 'Florida', 'Idaho', 'Pennsylvania', 'Tennessee']"
      ]
     },
     "metadata": {},
     "output_type": "display_data"
    },
    {
     "name": "stdout",
     "output_type": "stream",
     "text": [
      "----------\n",
      "Scientific Name: Stygobromus morrisoni\n",
      "Common Name: Morrison's Cave amphipod\n",
      "Lead FWS Region: R5\n",
      "ECOS Link: https://ecos.fws.gov/ecp/species/3150\n",
      "States where FWS range of states align with BISON occurrence data\n"
     ]
    },
    {
     "data": {
      "text/plain": [
       "['Virginia']"
      ]
     },
     "metadata": {},
     "output_type": "display_data"
    },
    {
     "name": "stdout",
     "output_type": "stream",
     "text": [
      "States where FWS range of states had no BISON occurrence data\n"
     ]
    },
    {
     "data": {
      "text/plain": [
       "['West Virginia']"
      ]
     },
     "metadata": {},
     "output_type": "display_data"
    },
    {
     "name": "stdout",
     "output_type": "stream",
     "text": [
      "Additional states where BISON records occurrence data\n"
     ]
    },
    {
     "data": {
      "text/plain": [
       "['Alaska',\n",
       " 'Florida',\n",
       " 'Idaho',\n",
       " 'Maryland',\n",
       " 'North Carolina',\n",
       " 'Pennsylvania',\n",
       " 'Tennessee']"
      ]
     },
     "metadata": {},
     "output_type": "display_data"
    },
    {
     "name": "stdout",
     "output_type": "stream",
     "text": [
      "----------\n",
      "Scientific Name: Stygobromus parvus\n",
      "Common Name: Minute Cave amphipod\n",
      "Lead FWS Region: R5\n",
      "ECOS Link: https://ecos.fws.gov/ecp/species/7901\n",
      "States where FWS range of states had no BISON occurrence data\n"
     ]
    },
    {
     "data": {
      "text/plain": [
       "['West Virginia']"
      ]
     },
     "metadata": {},
     "output_type": "display_data"
    },
    {
     "name": "stdout",
     "output_type": "stream",
     "text": [
      "Additional states where BISON records occurrence data\n"
     ]
    },
    {
     "data": {
      "text/plain": [
       "['Alaska',\n",
       " 'Florida',\n",
       " 'Idaho',\n",
       " 'Maryland',\n",
       " 'North Carolina',\n",
       " 'Pennsylvania',\n",
       " 'Tennessee',\n",
       " 'Virginia']"
      ]
     },
     "metadata": {},
     "output_type": "display_data"
    },
    {
     "name": "stdout",
     "output_type": "stream",
     "text": [
      "----------\n",
      "Scientific Name: Stygobromus phreaticus\n",
      "Common Name: cave (northern Virginia well) amphipod\n",
      "Lead FWS Region: R5\n",
      "ECOS Link: https://ecos.fws.gov/ecp0/profile/speciesProfile?spcode=K04R\n",
      "States where FWS range of states align with BISON occurrence data\n"
     ]
    },
    {
     "data": {
      "text/plain": [
       "['Virginia']"
      ]
     },
     "metadata": {},
     "output_type": "display_data"
    },
    {
     "name": "stdout",
     "output_type": "stream",
     "text": [
      "Additional states where BISON records occurrence data\n"
     ]
    },
    {
     "data": {
      "text/plain": [
       "['Alaska',\n",
       " 'Florida',\n",
       " 'Idaho',\n",
       " 'Maryland',\n",
       " 'North Carolina',\n",
       " 'Pennsylvania',\n",
       " 'Tennessee']"
      ]
     },
     "metadata": {},
     "output_type": "display_data"
    },
    {
     "name": "stdout",
     "output_type": "stream",
     "text": [
      "----------\n",
      "Scientific Name: Amblyopsis spelaea\n",
      "Common Name: northern cavefish\n",
      "Lead FWS Region: R4\n",
      "ECOS Link: https://ecos.fws.gov/ecp/species/3966\n",
      "States where FWS range of states had no BISON occurrence data\n"
     ]
    },
    {
     "data": {
      "text/plain": [
       "['Indiana', 'Kentucky']"
      ]
     },
     "metadata": {},
     "output_type": "display_data"
    },
    {
     "name": "stdout",
     "output_type": "stream",
     "text": [
      "----------\n",
      "Scientific Name: Chrosomus saylori\n",
      "Common Name: laurel (or Clinch River) dace\n",
      "Lead FWS Region: R5\n",
      "ECOS Link: https://ecos.fws.gov/ecp0/profile/speciesProfile?spcode=E0AR\n",
      "States where FWS range of states align with BISON occurrence data\n"
     ]
    },
    {
     "data": {
      "text/plain": [
       "['Virginia']"
      ]
     },
     "metadata": {},
     "output_type": "display_data"
    },
    {
     "name": "stdout",
     "output_type": "stream",
     "text": [
      "Additional states where BISON records occurrence data\n"
     ]
    },
    {
     "data": {
      "text/plain": [
       "['Kentucky', 'Tennessee']"
      ]
     },
     "metadata": {},
     "output_type": "display_data"
    },
    {
     "name": "stdout",
     "output_type": "stream",
     "text": [
      "----------\n",
      "Scientific Name: Cottus sp.\n",
      "Common Name: bluestone sculpin\n",
      "Lead FWS Region: R5\n",
      "ECOS Link: https://ecos.fws.gov/ecp/species/5634\n",
      "States where FWS range of states align with BISON occurrence data\n"
     ]
    },
    {
     "data": {
      "text/plain": [
       "['Virginia', 'West Virginia']"
      ]
     },
     "metadata": {},
     "output_type": "display_data"
    },
    {
     "name": "stdout",
     "output_type": "stream",
     "text": [
      "Additional states where BISON records occurrence data\n"
     ]
    },
    {
     "data": {
      "text/plain": [
       "['Alabama',\n",
       " 'Alaska',\n",
       " 'Arkansas',\n",
       " 'California',\n",
       " 'Colorado',\n",
       " 'Delaware',\n",
       " 'Florida',\n",
       " 'Georgia',\n",
       " 'Idaho',\n",
       " 'Illinois',\n",
       " 'Indiana',\n",
       " 'Iowa',\n",
       " 'Kentucky',\n",
       " 'Maryland',\n",
       " 'Massachusetts',\n",
       " 'Michigan',\n",
       " 'Minnesota',\n",
       " 'Missouri',\n",
       " 'Montana',\n",
       " 'Nevada',\n",
       " 'New Hampshire',\n",
       " 'New Jersey',\n",
       " 'New York',\n",
       " 'North Carolina',\n",
       " 'Oregon',\n",
       " 'Pennsylvania',\n",
       " 'South Carolina',\n",
       " 'Tennessee',\n",
       " 'Utah',\n",
       " 'Washington',\n",
       " 'Wisconsin',\n",
       " 'Wyoming']"
      ]
     },
     "metadata": {},
     "output_type": "display_data"
    },
    {
     "name": "stdout",
     "output_type": "stream",
     "text": [
      "----------\n",
      "Scientific Name: Cyprinodon pecosensis\n",
      "Common Name: Pecos pupfish\n",
      "Lead FWS Region: R2\n",
      "ECOS Link: https://ecos.fws.gov/ecp/species/5162\n",
      "States where FWS range of states align with BISON occurrence data\n"
     ]
    },
    {
     "data": {
      "text/plain": [
       "['New Mexico', 'Texas']"
      ]
     },
     "metadata": {},
     "output_type": "display_data"
    },
    {
     "name": "stdout",
     "output_type": "stream",
     "text": [
      "Additional states where BISON records occurrence data\n"
     ]
    },
    {
     "data": {
      "text/plain": [
       "['Arizona', 'California', 'Connecticut', 'Florida', 'Nevada']"
      ]
     },
     "metadata": {},
     "output_type": "display_data"
    },
    {
     "name": "stdout",
     "output_type": "stream",
     "text": [
      "----------\n",
      "Scientific Name: Cyprinodon tularosa\n",
      "Common Name: White Sands pupfish\n",
      "Lead FWS Region: R2\n",
      "ECOS Link: https://ecos.fws.gov/ecp/species/5883\n",
      "States where FWS range of states align with BISON occurrence data\n"
     ]
    },
    {
     "data": {
      "text/plain": [
       "['New Mexico']"
      ]
     },
     "metadata": {},
     "output_type": "display_data"
    },
    {
     "name": "stdout",
     "output_type": "stream",
     "text": [
      "Additional states where BISON records occurrence data\n"
     ]
    },
    {
     "data": {
      "text/plain": [
       "['Arizona', 'California', 'Connecticut', 'Florida', 'Nevada', 'Texas']"
      ]
     },
     "metadata": {},
     "output_type": "display_data"
    },
    {
     "name": "stdout",
     "output_type": "stream",
     "text": [
      "----------\n",
      "Scientific Name: Elassoma boehlkei\n",
      "Common Name: Carolina pygmy sunfish\n",
      "Lead FWS Region: R4\n",
      "ECOS Link: https://ecos.fws.gov/ecp/species/5605\n",
      "States where FWS range of states align with BISON occurrence data\n"
     ]
    },
    {
     "data": {
      "text/plain": [
       "['North Carolina']"
      ]
     },
     "metadata": {},
     "output_type": "display_data"
    },
    {
     "name": "stdout",
     "output_type": "stream",
     "text": [
      "States where FWS range of states had no BISON occurrence data\n"
     ]
    },
    {
     "data": {
      "text/plain": [
       "['South Carolina']"
      ]
     },
     "metadata": {},
     "output_type": "display_data"
    },
    {
     "name": "stdout",
     "output_type": "stream",
     "text": [
      "Additional states where BISON records occurrence data\n"
     ]
    },
    {
     "data": {
      "text/plain": [
       "['Alabama', 'Arkansas', 'Florida', 'Georgia', 'Louisiana', 'Tennessee']"
      ]
     },
     "metadata": {},
     "output_type": "display_data"
    },
    {
     "name": "stdout",
     "output_type": "stream",
     "text": [
      "----------\n",
      "Scientific Name: Erimystax harryi\n",
      "Common Name: Ozark chub\n",
      "Lead FWS Region: R4\n",
      "ECOS Link: https://ecos.fws.gov/ecp/species/9851\n",
      "States where FWS range of states align with BISON occurrence data\n"
     ]
    },
    {
     "data": {
      "text/plain": [
       "['Arkansas']"
      ]
     },
     "metadata": {},
     "output_type": "display_data"
    },
    {
     "name": "stdout",
     "output_type": "stream",
     "text": [
      "States where FWS range of states had no BISON occurrence data\n"
     ]
    },
    {
     "data": {
      "text/plain": [
       "['Missouri']"
      ]
     },
     "metadata": {},
     "output_type": "display_data"
    },
    {
     "name": "stdout",
     "output_type": "stream",
     "text": [
      "----------\n",
      "Scientific Name: Etheostoma brevirostrum\n",
      "Common Name: Holiday darter\n",
      "Lead FWS Region: R4\n",
      "ECOS Link: https://ecos.fws.gov/ecp/species/5601\n",
      "States where FWS range of states align with BISON occurrence data\n"
     ]
    },
    {
     "data": {
      "text/plain": [
       "['Alabama', 'Georgia', 'Tennessee']"
      ]
     },
     "metadata": {},
     "output_type": "display_data"
    },
    {
     "name": "stdout",
     "output_type": "stream",
     "text": [
      "Additional states where BISON records occurrence data\n"
     ]
    },
    {
     "data": {
      "text/plain": [
       "['Arkansas',\n",
       " 'Colorado',\n",
       " 'Delaware',\n",
       " 'District of Columbia',\n",
       " 'Florida',\n",
       " 'Illinois',\n",
       " 'Indiana',\n",
       " 'Iowa',\n",
       " 'Kansas',\n",
       " 'Kentucky',\n",
       " 'Louisiana',\n",
       " 'Maryland',\n",
       " 'Michigan',\n",
       " 'Minnesota',\n",
       " 'Mississippi',\n",
       " 'Missouri',\n",
       " 'New Jersey',\n",
       " 'New Mexico',\n",
       " 'New York',\n",
       " 'North Carolina',\n",
       " 'Ohio',\n",
       " 'Oklahoma',\n",
       " 'Pennsylvania',\n",
       " 'South Carolina',\n",
       " 'South Dakota',\n",
       " 'Texas',\n",
       " 'Virginia',\n",
       " 'West Virginia',\n",
       " 'Wisconsin']"
      ]
     },
     "metadata": {},
     "output_type": "display_data"
    },
    {
     "name": "stdout",
     "output_type": "stream",
     "text": [
      "----------\n",
      "Scientific Name: Etheostoma cinereum\n",
      "Common Name: ashy darter\n",
      "Lead FWS Region: R4\n",
      "ECOS Link: https://ecos.fws.gov/ecp/species/3117\n",
      "States where FWS range of states align with BISON occurrence data\n"
     ]
    },
    {
     "data": {
      "text/plain": [
       "['Kentucky', 'Tennessee']"
      ]
     },
     "metadata": {},
     "output_type": "display_data"
    },
    {
     "name": "stdout",
     "output_type": "stream",
     "text": [
      "Additional states where BISON records occurrence data\n"
     ]
    },
    {
     "data": {
      "text/plain": [
       "['Alabama',\n",
       " 'Arkansas',\n",
       " 'Colorado',\n",
       " 'Delaware',\n",
       " 'District of Columbia',\n",
       " 'Florida',\n",
       " 'Georgia',\n",
       " 'Illinois',\n",
       " 'Indiana',\n",
       " 'Iowa',\n",
       " 'Kansas',\n",
       " 'Louisiana',\n",
       " 'Maryland',\n",
       " 'Michigan',\n",
       " 'Minnesota',\n",
       " 'Mississippi',\n",
       " 'Missouri',\n",
       " 'New Jersey',\n",
       " 'New Mexico',\n",
       " 'New York',\n",
       " 'North Carolina',\n",
       " 'Ohio',\n",
       " 'Oklahoma',\n",
       " 'Pennsylvania',\n",
       " 'South Carolina',\n",
       " 'South Dakota',\n",
       " 'Texas',\n",
       " 'Virginia',\n",
       " 'West Virginia',\n",
       " 'Wisconsin']"
      ]
     },
     "metadata": {},
     "output_type": "display_data"
    },
    {
     "name": "stdout",
     "output_type": "stream",
     "text": [
      "----------\n",
      "Scientific Name: Etheostoma forbesi\n",
      "Common Name: barrens darter\n",
      "Lead FWS Region: R4\n",
      "ECOS Link: https://ecos.fws.gov/ecp/species/4984\n",
      "States where FWS range of states align with BISON occurrence data\n"
     ]
    },
    {
     "data": {
      "text/plain": [
       "['Tennessee']"
      ]
     },
     "metadata": {},
     "output_type": "display_data"
    },
    {
     "name": "stdout",
     "output_type": "stream",
     "text": [
      "Additional states where BISON records occurrence data\n"
     ]
    },
    {
     "data": {
      "text/plain": [
       "['Alabama',\n",
       " 'Arkansas',\n",
       " 'Colorado',\n",
       " 'Delaware',\n",
       " 'District of Columbia',\n",
       " 'Florida',\n",
       " 'Georgia',\n",
       " 'Illinois',\n",
       " 'Indiana',\n",
       " 'Iowa',\n",
       " 'Kansas',\n",
       " 'Kentucky',\n",
       " 'Louisiana',\n",
       " 'Maryland',\n",
       " 'Michigan',\n",
       " 'Minnesota',\n",
       " 'Mississippi',\n",
       " 'Missouri',\n",
       " 'New Jersey',\n",
       " 'New Mexico',\n",
       " 'New York',\n",
       " 'North Carolina',\n",
       " 'Ohio',\n",
       " 'Oklahoma',\n",
       " 'Pennsylvania',\n",
       " 'South Carolina',\n",
       " 'South Dakota',\n",
       " 'Texas',\n",
       " 'Virginia',\n",
       " 'West Virginia',\n",
       " 'Wisconsin']"
      ]
     },
     "metadata": {},
     "output_type": "display_data"
    },
    {
     "name": "stdout",
     "output_type": "stream",
     "text": [
      "----------\n",
      "Scientific Name: Etheostoma maydeni\n",
      "Common Name: redlips darter (broken out from ashy darter complex)\n",
      "Lead FWS Region: R4\n",
      "ECOS Link: nan\n",
      "States where FWS range of states align with BISON occurrence data\n"
     ]
    },
    {
     "data": {
      "text/plain": [
       "['Kentucky', 'Tennessee']"
      ]
     },
     "metadata": {},
     "output_type": "display_data"
    },
    {
     "name": "stdout",
     "output_type": "stream",
     "text": [
      "Additional states where BISON records occurrence data\n"
     ]
    },
    {
     "data": {
      "text/plain": [
       "['Alabama',\n",
       " 'Arkansas',\n",
       " 'Colorado',\n",
       " 'Delaware',\n",
       " 'District of Columbia',\n",
       " 'Florida',\n",
       " 'Georgia',\n",
       " 'Illinois',\n",
       " 'Indiana',\n",
       " 'Iowa',\n",
       " 'Kansas',\n",
       " 'Louisiana',\n",
       " 'Maryland',\n",
       " 'Michigan',\n",
       " 'Minnesota',\n",
       " 'Mississippi',\n",
       " 'Missouri',\n",
       " 'New Jersey',\n",
       " 'New Mexico',\n",
       " 'New York',\n",
       " 'North Carolina',\n",
       " 'Ohio',\n",
       " 'Oklahoma',\n",
       " 'Pennsylvania',\n",
       " 'South Carolina',\n",
       " 'South Dakota',\n",
       " 'Texas',\n",
       " 'Virginia',\n",
       " 'West Virginia',\n",
       " 'Wisconsin']"
      ]
     },
     "metadata": {},
     "output_type": "display_data"
    },
    {
     "name": "stdout",
     "output_type": "stream",
     "text": [
      "----------\n",
      "Scientific Name: Etheostoma microlepidum\n",
      "Common Name: smallscale darter\n",
      "Lead FWS Region: R4\n",
      "ECOS Link: https://ecos.fws.gov/ecp/species/9852\n",
      "States where FWS range of states align with BISON occurrence data\n"
     ]
    },
    {
     "data": {
      "text/plain": [
       "['Kentucky', 'Tennessee']"
      ]
     },
     "metadata": {},
     "output_type": "display_data"
    },
    {
     "name": "stdout",
     "output_type": "stream",
     "text": [
      "Additional states where BISON records occurrence data\n"
     ]
    },
    {
     "data": {
      "text/plain": [
       "['Alabama',\n",
       " 'Arkansas',\n",
       " 'Colorado',\n",
       " 'Delaware',\n",
       " 'District of Columbia',\n",
       " 'Florida',\n",
       " 'Georgia',\n",
       " 'Illinois',\n",
       " 'Indiana',\n",
       " 'Iowa',\n",
       " 'Kansas',\n",
       " 'Louisiana',\n",
       " 'Maryland',\n",
       " 'Michigan',\n",
       " 'Minnesota',\n",
       " 'Mississippi',\n",
       " 'Missouri',\n",
       " 'New Jersey',\n",
       " 'New Mexico',\n",
       " 'New York',\n",
       " 'North Carolina',\n",
       " 'Ohio',\n",
       " 'Oklahoma',\n",
       " 'Pennsylvania',\n",
       " 'South Carolina',\n",
       " 'South Dakota',\n",
       " 'Texas',\n",
       " 'Virginia',\n",
       " 'West Virginia',\n",
       " 'Wisconsin']"
      ]
     },
     "metadata": {},
     "output_type": "display_data"
    },
    {
     "name": "stdout",
     "output_type": "stream",
     "text": [
      "----------\n",
      "Scientific Name: Etheostoma osburni\n",
      "Common Name: candy darter\n",
      "Lead FWS Region: R5\n",
      "ECOS Link: https://ecos.fws.gov/ecp/species/1396\n",
      "States where FWS range of states align with BISON occurrence data\n"
     ]
    },
    {
     "data": {
      "text/plain": [
       "['Virginia', 'West Virginia']"
      ]
     },
     "metadata": {},
     "output_type": "display_data"
    },
    {
     "name": "stdout",
     "output_type": "stream",
     "text": [
      "Additional states where BISON records occurrence data\n"
     ]
    },
    {
     "data": {
      "text/plain": [
       "['Alabama',\n",
       " 'Arkansas',\n",
       " 'Colorado',\n",
       " 'Delaware',\n",
       " 'District of Columbia',\n",
       " 'Florida',\n",
       " 'Georgia',\n",
       " 'Illinois',\n",
       " 'Indiana',\n",
       " 'Iowa',\n",
       " 'Kansas',\n",
       " 'Kentucky',\n",
       " 'Louisiana',\n",
       " 'Maryland',\n",
       " 'Michigan',\n",
       " 'Minnesota',\n",
       " 'Mississippi',\n",
       " 'Missouri',\n",
       " 'New Jersey',\n",
       " 'New Mexico',\n",
       " 'New York',\n",
       " 'North Carolina',\n",
       " 'Ohio',\n",
       " 'Oklahoma',\n",
       " 'Pennsylvania',\n",
       " 'South Carolina',\n",
       " 'South Dakota',\n",
       " 'Tennessee',\n",
       " 'Texas',\n",
       " 'Wisconsin']"
      ]
     },
     "metadata": {},
     "output_type": "display_data"
    },
    {
     "name": "stdout",
     "output_type": "stream",
     "text": [
      "----------\n",
      "Scientific Name: Etheostoma pallididorsum\n",
      "Common Name: paleback darter\n",
      "Lead FWS Region: R4\n",
      "ECOS Link: https://ecos.fws.gov/ecp/species/300\n",
      "States where FWS range of states align with BISON occurrence data\n"
     ]
    },
    {
     "data": {
      "text/plain": [
       "['Arkansas']"
      ]
     },
     "metadata": {},
     "output_type": "display_data"
    },
    {
     "name": "stdout",
     "output_type": "stream",
     "text": [
      "Additional states where BISON records occurrence data\n"
     ]
    },
    {
     "data": {
      "text/plain": [
       "['Alabama',\n",
       " 'Colorado',\n",
       " 'Delaware',\n",
       " 'District of Columbia',\n",
       " 'Florida',\n",
       " 'Georgia',\n",
       " 'Illinois',\n",
       " 'Indiana',\n",
       " 'Iowa',\n",
       " 'Kansas',\n",
       " 'Kentucky',\n",
       " 'Louisiana',\n",
       " 'Maryland',\n",
       " 'Michigan',\n",
       " 'Minnesota',\n",
       " 'Mississippi',\n",
       " 'Missouri',\n",
       " 'New Jersey',\n",
       " 'New Mexico',\n",
       " 'New York',\n",
       " 'North Carolina',\n",
       " 'Ohio',\n",
       " 'Oklahoma',\n",
       " 'Pennsylvania',\n",
       " 'South Carolina',\n",
       " 'South Dakota',\n",
       " 'Tennessee',\n",
       " 'Texas',\n",
       " 'Virginia',\n",
       " 'West Virginia',\n",
       " 'Wisconsin']"
      ]
     },
     "metadata": {},
     "output_type": "display_data"
    },
    {
     "name": "stdout",
     "output_type": "stream",
     "text": [
      "----------\n",
      "Scientific Name: Etheostoma tippecanoe\n",
      "Common Name: Tippecanoe darter\n",
      "Lead FWS Region: R5\n",
      "ECOS Link: https://ecos.fws.gov/ecp/species/9854\n",
      "States where FWS range of states align with BISON occurrence data\n"
     ]
    },
    {
     "data": {
      "text/plain": [
       "['Indiana', 'Kentucky', 'Ohio', 'Pennsylvania', 'Tennessee', 'West Virginia']"
      ]
     },
     "metadata": {},
     "output_type": "display_data"
    },
    {
     "name": "stdout",
     "output_type": "stream",
     "text": [
      "Additional states where BISON records occurrence data\n"
     ]
    },
    {
     "data": {
      "text/plain": [
       "['Alabama',\n",
       " 'Arkansas',\n",
       " 'Colorado',\n",
       " 'Delaware',\n",
       " 'District of Columbia',\n",
       " 'Florida',\n",
       " 'Georgia',\n",
       " 'Illinois',\n",
       " 'Iowa',\n",
       " 'Kansas',\n",
       " 'Louisiana',\n",
       " 'Maryland',\n",
       " 'Michigan',\n",
       " 'Minnesota',\n",
       " 'Mississippi',\n",
       " 'Missouri',\n",
       " 'New Jersey',\n",
       " 'New Mexico',\n",
       " 'New York',\n",
       " 'North Carolina',\n",
       " 'Oklahoma',\n",
       " 'South Carolina',\n",
       " 'South Dakota',\n",
       " 'Texas',\n",
       " 'Virginia',\n",
       " 'Wisconsin']"
      ]
     },
     "metadata": {},
     "output_type": "display_data"
    },
    {
     "name": "stdout",
     "output_type": "stream",
     "text": [
      "----------\n",
      "Scientific Name: Etheostoma trisella\n",
      "Common Name: Trispot darter\n",
      "Lead FWS Region: R4\n",
      "ECOS Link: https://ecos.fws.gov/ecp/species/8219\n",
      "States where FWS range of states align with BISON occurrence data\n"
     ]
    },
    {
     "data": {
      "text/plain": [
       "['Alabama', 'Tennessee', 'Georgia']"
      ]
     },
     "metadata": {},
     "output_type": "display_data"
    },
    {
     "name": "stdout",
     "output_type": "stream",
     "text": [
      "Additional states where BISON records occurrence data\n"
     ]
    },
    {
     "data": {
      "text/plain": [
       "['Arkansas',\n",
       " 'Colorado',\n",
       " 'Delaware',\n",
       " 'District of Columbia',\n",
       " 'Florida',\n",
       " 'Illinois',\n",
       " 'Indiana',\n",
       " 'Iowa',\n",
       " 'Kansas',\n",
       " 'Kentucky',\n",
       " 'Louisiana',\n",
       " 'Maryland',\n",
       " 'Michigan',\n",
       " 'Minnesota',\n",
       " 'Mississippi',\n",
       " 'Missouri',\n",
       " 'New Jersey',\n",
       " 'New Mexico',\n",
       " 'New York',\n",
       " 'North Carolina',\n",
       " 'Ohio',\n",
       " 'Oklahoma',\n",
       " 'Pennsylvania',\n",
       " 'South Carolina',\n",
       " 'South Dakota',\n",
       " 'Texas',\n",
       " 'Virginia',\n",
       " 'West Virginia',\n",
       " 'Wisconsin']"
      ]
     },
     "metadata": {},
     "output_type": "display_data"
    },
    {
     "name": "stdout",
     "output_type": "stream",
     "text": [
      "----------\n",
      "Scientific Name: Fundulus jenkinsi\n",
      "Common Name: saltmarsh topminnow\n",
      "Lead FWS Region: R4\n",
      "ECOS Link: https://ecos.fws.gov/ecp/species/9171\n",
      "States where FWS range of states align with BISON occurrence data\n"
     ]
    },
    {
     "data": {
      "text/plain": [
       "['Alabama', 'Florida', 'Louisiana', 'Texas']"
      ]
     },
     "metadata": {},
     "output_type": "display_data"
    },
    {
     "name": "stdout",
     "output_type": "stream",
     "text": [
      "States where FWS range of states had no BISON occurrence data\n"
     ]
    },
    {
     "data": {
      "text/plain": [
       "['Mississippi']"
      ]
     },
     "metadata": {},
     "output_type": "display_data"
    },
    {
     "name": "stdout",
     "output_type": "stream",
     "text": [
      "Additional states where BISON records occurrence data\n"
     ]
    },
    {
     "data": {
      "text/plain": [
       "['Arizona',\n",
       " 'California',\n",
       " 'Colorado',\n",
       " 'Connecticut',\n",
       " 'Georgia',\n",
       " 'Indiana',\n",
       " 'Kansas',\n",
       " 'Massachusetts',\n",
       " 'New Jersey',\n",
       " 'New Mexico',\n",
       " 'New York',\n",
       " 'North Carolina',\n",
       " 'Oklahoma',\n",
       " 'Rhode Island',\n",
       " 'South Carolina',\n",
       " 'Tennessee',\n",
       " 'Virginia']"
      ]
     },
     "metadata": {},
     "output_type": "display_data"
    },
    {
     "name": "stdout",
     "output_type": "stream",
     "text": [
      "----------\n",
      "Scientific Name: Fundulus julisia\n",
      "Common Name: barrens topminnow\n",
      "Lead FWS Region: R4\n",
      "ECOS Link: https://ecos.fws.gov/ecp/species/5045\n",
      "States where FWS range of states align with BISON occurrence data\n"
     ]
    },
    {
     "data": {
      "text/plain": [
       "['Tennessee']"
      ]
     },
     "metadata": {},
     "output_type": "display_data"
    },
    {
     "name": "stdout",
     "output_type": "stream",
     "text": [
      "Additional states where BISON records occurrence data\n"
     ]
    },
    {
     "data": {
      "text/plain": [
       "['Alabama',\n",
       " 'Arizona',\n",
       " 'California',\n",
       " 'Colorado',\n",
       " 'Connecticut',\n",
       " 'Florida',\n",
       " 'Georgia',\n",
       " 'Indiana',\n",
       " 'Kansas',\n",
       " 'Louisiana',\n",
       " 'Massachusetts',\n",
       " 'New Jersey',\n",
       " 'New Mexico',\n",
       " 'New York',\n",
       " 'North Carolina',\n",
       " 'Oklahoma',\n",
       " 'Rhode Island',\n",
       " 'South Carolina',\n",
       " 'Texas',\n",
       " 'Virginia']"
      ]
     },
     "metadata": {},
     "output_type": "display_data"
    },
    {
     "name": "stdout",
     "output_type": "stream",
     "text": [
      "----------\n",
      "Scientific Name: Gambusia clarkhubbsi\n",
      "Common Name: San Felipe gambusia\n",
      "Lead FWS Region: R2\n",
      "ECOS Link: https://ecos.fws.gov/ecp/species/627\n",
      "States where FWS range of states align with BISON occurrence data\n"
     ]
    },
    {
     "data": {
      "text/plain": [
       "['Texas']"
      ]
     },
     "metadata": {},
     "output_type": "display_data"
    },
    {
     "name": "stdout",
     "output_type": "stream",
     "text": [
      "Additional states where BISON records occurrence data\n"
     ]
    },
    {
     "data": {
      "text/plain": [
       "['Alabama',\n",
       " 'Arkansas',\n",
       " 'California',\n",
       " 'Colorado',\n",
       " 'Florida',\n",
       " 'Georgia',\n",
       " 'Hawaii',\n",
       " 'Indiana',\n",
       " 'Louisiana',\n",
       " 'Missouri',\n",
       " 'Nebraska',\n",
       " 'Nevada',\n",
       " 'New Jersey',\n",
       " 'North Carolina',\n",
       " 'Ohio',\n",
       " 'South Carolina',\n",
       " 'Tennessee',\n",
       " 'Utah',\n",
       " 'Virginia']"
      ]
     },
     "metadata": {},
     "output_type": "display_data"
    },
    {
     "name": "stdout",
     "output_type": "stream",
     "text": [
      "----------\n",
      "Scientific Name: Ictalurus sp.\n",
      "Common Name: Chihuahua catfish\n",
      "Lead FWS Region: R2\n",
      "ECOS Link: https://ecos.fws.gov/ecp/species/8217\n",
      "States where FWS range of states align with BISON occurrence data\n"
     ]
    },
    {
     "data": {
      "text/plain": [
       "['Texas']"
      ]
     },
     "metadata": {},
     "output_type": "display_data"
    },
    {
     "name": "stdout",
     "output_type": "stream",
     "text": [
      "Additional states where BISON records occurrence data\n"
     ]
    },
    {
     "data": {
      "text/plain": [
       "['Alabama',\n",
       " 'Arizona',\n",
       " 'Arkansas',\n",
       " 'California',\n",
       " 'Colorado',\n",
       " 'Connecticut',\n",
       " 'Florida',\n",
       " 'Georgia',\n",
       " 'Illinois',\n",
       " 'Indiana',\n",
       " 'Iowa',\n",
       " 'Kansas',\n",
       " 'Kentucky',\n",
       " 'Maine',\n",
       " 'Maryland',\n",
       " 'Massachusetts',\n",
       " 'Michigan',\n",
       " 'Mississippi',\n",
       " 'Missouri',\n",
       " 'Nebraska',\n",
       " 'New Jersey',\n",
       " 'New Mexico',\n",
       " 'New York',\n",
       " 'North Carolina',\n",
       " 'Ohio',\n",
       " 'Oklahoma',\n",
       " 'Oregon',\n",
       " 'South Carolina',\n",
       " 'South Dakota',\n",
       " 'Tennessee',\n",
       " 'Utah',\n",
       " 'Vermont',\n",
       " 'Virginia',\n",
       " 'Washington',\n",
       " 'Wisconsin',\n",
       " 'Wyoming']"
      ]
     },
     "metadata": {},
     "output_type": "display_data"
    },
    {
     "name": "stdout",
     "output_type": "stream",
     "text": [
      "----------\n",
      "Scientific Name: Lavinia exilicauda chi\n",
      "Common Name: Clear Lake hitch\n",
      "Lead FWS Region: R8\n",
      "ECOS Link: https://ecos.fws.gov/ecp/species/9298\n",
      "States where FWS range of states align with BISON occurrence data\n"
     ]
    },
    {
     "data": {
      "text/plain": [
       "['California']"
      ]
     },
     "metadata": {},
     "output_type": "display_data"
    },
    {
     "name": "stdout",
     "output_type": "stream",
     "text": [
      "----------\n",
      "Scientific Name: Lepidomeda mollispinis mollispinis\n",
      "Common Name: Virgin River spinedace\n",
      "Lead FWS Region: R6\n",
      "ECOS Link: https://ecos.fws.gov/ecp/species/6899\n",
      "States where FWS range of states align with BISON occurrence data\n"
     ]
    },
    {
     "data": {
      "text/plain": [
       "['Nevada', 'Utah']"
      ]
     },
     "metadata": {},
     "output_type": "display_data"
    },
    {
     "name": "stdout",
     "output_type": "stream",
     "text": [
      "States where FWS range of states had no BISON occurrence data\n"
     ]
    },
    {
     "data": {
      "text/plain": [
       "['Arizona']"
      ]
     },
     "metadata": {},
     "output_type": "display_data"
    },
    {
     "name": "stdout",
     "output_type": "stream",
     "text": [
      "----------\n",
      "Scientific Name: Macrhybopsis aestivalis tetranemus\n",
      "Common Name: Arkansas River speckled chub\n",
      "Lead FWS Region: R2\n",
      "ECOS Link: nan\n",
      "States where FWS range of states align with BISON occurrence data\n"
     ]
    },
    {
     "data": {
      "text/plain": [
       "['Colorado', 'New Mexico', 'Oklahoma', 'Texas']"
      ]
     },
     "metadata": {},
     "output_type": "display_data"
    },
    {
     "name": "stdout",
     "output_type": "stream",
     "text": [
      "Additional states where BISON records occurrence data\n"
     ]
    },
    {
     "data": {
      "text/plain": [
       "['Alabama', 'Florida', 'Georgia', 'Louisiana', 'Mississippi', 'Tennessee']"
      ]
     },
     "metadata": {},
     "output_type": "display_data"
    },
    {
     "name": "stdout",
     "output_type": "stream",
     "text": [
      "----------\n",
      "Scientific Name: Notropis ariommus\n",
      "Common Name: popeye shiner\n",
      "Lead FWS Region: R4\n",
      "ECOS Link: https://ecos.fws.gov/ecp/species/9855\n",
      "States where FWS range of states align with BISON occurrence data\n"
     ]
    },
    {
     "data": {
      "text/plain": [
       "['Kentucky']"
      ]
     },
     "metadata": {},
     "output_type": "display_data"
    },
    {
     "name": "stdout",
     "output_type": "stream",
     "text": [
      "Additional states where BISON records occurrence data\n"
     ]
    },
    {
     "data": {
      "text/plain": [
       "['Alabama',\n",
       " 'Arkansas',\n",
       " 'California',\n",
       " 'Colorado',\n",
       " 'Connecticut',\n",
       " 'Florida',\n",
       " 'Georgia',\n",
       " 'Illinois',\n",
       " 'Indiana',\n",
       " 'Iowa',\n",
       " 'Kansas',\n",
       " 'Louisiana',\n",
       " 'Maine',\n",
       " 'Massachusetts',\n",
       " 'Michigan',\n",
       " 'Minnesota',\n",
       " 'Mississippi',\n",
       " 'Missouri',\n",
       " 'Nebraska',\n",
       " 'New Hampshire',\n",
       " 'New Jersey',\n",
       " 'New Mexico',\n",
       " 'New York',\n",
       " 'North Carolina',\n",
       " 'Ohio',\n",
       " 'Oklahoma',\n",
       " 'Pennsylvania',\n",
       " 'South Carolina',\n",
       " 'South Dakota',\n",
       " 'Tennessee',\n",
       " 'Texas',\n",
       " 'Vermont',\n",
       " 'Virginia',\n",
       " 'West Virginia',\n",
       " 'Wisconsin',\n",
       " 'Wyoming']"
      ]
     },
     "metadata": {},
     "output_type": "display_data"
    },
    {
     "name": "stdout",
     "output_type": "stream",
     "text": [
      "----------\n",
      "Scientific Name: Notropis ozarcanus\n",
      "Common Name: Ozark shiner\n",
      "Lead FWS Region: R4\n",
      "ECOS Link: https://ecos.fws.gov/ecp/species/3931\n",
      "States where FWS range of states align with BISON occurrence data\n"
     ]
    },
    {
     "data": {
      "text/plain": [
       "['Arkansas', 'Missouri']"
      ]
     },
     "metadata": {},
     "output_type": "display_data"
    },
    {
     "name": "stdout",
     "output_type": "stream",
     "text": [
      "Additional states where BISON records occurrence data\n"
     ]
    },
    {
     "data": {
      "text/plain": [
       "['Alabama',\n",
       " 'California',\n",
       " 'Colorado',\n",
       " 'Connecticut',\n",
       " 'Florida',\n",
       " 'Georgia',\n",
       " 'Illinois',\n",
       " 'Indiana',\n",
       " 'Iowa',\n",
       " 'Kansas',\n",
       " 'Kentucky',\n",
       " 'Louisiana',\n",
       " 'Maine',\n",
       " 'Massachusetts',\n",
       " 'Michigan',\n",
       " 'Minnesota',\n",
       " 'Mississippi',\n",
       " 'Nebraska',\n",
       " 'New Hampshire',\n",
       " 'New Jersey',\n",
       " 'New Mexico',\n",
       " 'New York',\n",
       " 'North Carolina',\n",
       " 'Ohio',\n",
       " 'Oklahoma',\n",
       " 'Pennsylvania',\n",
       " 'South Carolina',\n",
       " 'South Dakota',\n",
       " 'Tennessee',\n",
       " 'Texas',\n",
       " 'Vermont',\n",
       " 'Virginia',\n",
       " 'West Virginia',\n",
       " 'Wisconsin',\n",
       " 'Wyoming']"
      ]
     },
     "metadata": {},
     "output_type": "display_data"
    },
    {
     "name": "stdout",
     "output_type": "stream",
     "text": [
      "----------\n",
      "Scientific Name: Notropis perpallidus\n",
      "Common Name: colorless shiner\n",
      "Lead FWS Region: R4\n",
      "ECOS Link: https://ecos.fws.gov/ecp/species/2994\n",
      "States where FWS range of states align with BISON occurrence data\n"
     ]
    },
    {
     "data": {
      "text/plain": [
       "['Arkansas', 'Oklahoma']"
      ]
     },
     "metadata": {},
     "output_type": "display_data"
    },
    {
     "name": "stdout",
     "output_type": "stream",
     "text": [
      "Additional states where BISON records occurrence data\n"
     ]
    },
    {
     "data": {
      "text/plain": [
       "['Alabama',\n",
       " 'California',\n",
       " 'Colorado',\n",
       " 'Connecticut',\n",
       " 'Florida',\n",
       " 'Georgia',\n",
       " 'Illinois',\n",
       " 'Indiana',\n",
       " 'Iowa',\n",
       " 'Kansas',\n",
       " 'Kentucky',\n",
       " 'Louisiana',\n",
       " 'Maine',\n",
       " 'Massachusetts',\n",
       " 'Michigan',\n",
       " 'Minnesota',\n",
       " 'Mississippi',\n",
       " 'Missouri',\n",
       " 'Nebraska',\n",
       " 'New Hampshire',\n",
       " 'New Jersey',\n",
       " 'New Mexico',\n",
       " 'New York',\n",
       " 'North Carolina',\n",
       " 'Ohio',\n",
       " 'Pennsylvania',\n",
       " 'South Carolina',\n",
       " 'South Dakota',\n",
       " 'Tennessee',\n",
       " 'Texas',\n",
       " 'Vermont',\n",
       " 'Virginia',\n",
       " 'West Virginia',\n",
       " 'Wisconsin',\n",
       " 'Wyoming']"
      ]
     },
     "metadata": {},
     "output_type": "display_data"
    },
    {
     "name": "stdout",
     "output_type": "stream",
     "text": [
      "----------\n",
      "Scientific Name: Noturus furiosus\n",
      "Common Name: Carolina madtom\n",
      "Lead FWS Region: R4\n",
      "ECOS Link: https://ecos.fws.gov/ecp/species/528\n",
      "States where FWS range of states align with BISON occurrence data\n"
     ]
    },
    {
     "data": {
      "text/plain": [
       "['North Carolina']"
      ]
     },
     "metadata": {},
     "output_type": "display_data"
    },
    {
     "name": "stdout",
     "output_type": "stream",
     "text": [
      "Additional states where BISON records occurrence data\n"
     ]
    },
    {
     "data": {
      "text/plain": [
       "['Alabama',\n",
       " 'Arkansas',\n",
       " 'Florida',\n",
       " 'Georgia',\n",
       " 'Illinois',\n",
       " 'Iowa',\n",
       " 'Kansas',\n",
       " 'Louisiana',\n",
       " 'Maryland',\n",
       " 'New Jersey',\n",
       " 'Oklahoma',\n",
       " 'Pennsylvania',\n",
       " 'South Carolina',\n",
       " 'South Dakota',\n",
       " 'Tennessee',\n",
       " 'Texas',\n",
       " 'Virginia',\n",
       " 'Wisconsin']"
      ]
     },
     "metadata": {},
     "output_type": "display_data"
    },
    {
     "name": "stdout",
     "output_type": "stream",
     "text": [
      "----------\n",
      "Scientific Name: Noturus gilberti\n",
      "Common Name: orangefin madtom\n",
      "Lead FWS Region: R5\n",
      "ECOS Link: https://ecos.fws.gov/ecp/species/3120\n",
      "States where FWS range of states align with BISON occurrence data\n"
     ]
    },
    {
     "data": {
      "text/plain": [
       "['North Carolina', 'Virginia']"
      ]
     },
     "metadata": {},
     "output_type": "display_data"
    },
    {
     "name": "stdout",
     "output_type": "stream",
     "text": [
      "Additional states where BISON records occurrence data\n"
     ]
    },
    {
     "data": {
      "text/plain": [
       "['Alabama',\n",
       " 'Arkansas',\n",
       " 'Florida',\n",
       " 'Georgia',\n",
       " 'Illinois',\n",
       " 'Iowa',\n",
       " 'Kansas',\n",
       " 'Louisiana',\n",
       " 'Maryland',\n",
       " 'New Jersey',\n",
       " 'Oklahoma',\n",
       " 'Pennsylvania',\n",
       " 'South Carolina',\n",
       " 'South Dakota',\n",
       " 'Tennessee',\n",
       " 'Texas',\n",
       " 'Wisconsin']"
      ]
     },
     "metadata": {},
     "output_type": "display_data"
    },
    {
     "name": "stdout",
     "output_type": "stream",
     "text": [
      "----------\n",
      "Scientific Name: Noturus gladiator\n",
      "Common Name: piebald madtom\n",
      "Lead FWS Region: R4\n",
      "ECOS Link: https://ecos.fws.gov/ecp/species/9861\n",
      "States where FWS range of states align with BISON occurrence data\n"
     ]
    },
    {
     "data": {
      "text/plain": [
       "['Tennessee']"
      ]
     },
     "metadata": {},
     "output_type": "display_data"
    },
    {
     "name": "stdout",
     "output_type": "stream",
     "text": [
      "States where FWS range of states had no BISON occurrence data\n"
     ]
    },
    {
     "data": {
      "text/plain": [
       "['Mississippi']"
      ]
     },
     "metadata": {},
     "output_type": "display_data"
    },
    {
     "name": "stdout",
     "output_type": "stream",
     "text": [
      "Additional states where BISON records occurrence data\n"
     ]
    },
    {
     "data": {
      "text/plain": [
       "['Alabama',\n",
       " 'Arkansas',\n",
       " 'Florida',\n",
       " 'Georgia',\n",
       " 'Illinois',\n",
       " 'Iowa',\n",
       " 'Kansas',\n",
       " 'Louisiana',\n",
       " 'Maryland',\n",
       " 'New Jersey',\n",
       " 'North Carolina',\n",
       " 'Oklahoma',\n",
       " 'Pennsylvania',\n",
       " 'South Carolina',\n",
       " 'South Dakota',\n",
       " 'Texas',\n",
       " 'Virginia',\n",
       " 'Wisconsin']"
      ]
     },
     "metadata": {},
     "output_type": "display_data"
    },
    {
     "name": "stdout",
     "output_type": "stream",
     "text": [
      "----------\n",
      "Scientific Name: Noturus munitus\n",
      "Common Name: frecklebelly madtom\n",
      "Lead FWS Region: R4\n",
      "ECOS Link: https://ecos.fws.gov/ecp/species/2800\n",
      "States where FWS range of states align with BISON occurrence data\n"
     ]
    },
    {
     "data": {
      "text/plain": [
       "['Alabama', 'Georgia', 'Louisiana', 'Tennessee']"
      ]
     },
     "metadata": {},
     "output_type": "display_data"
    },
    {
     "name": "stdout",
     "output_type": "stream",
     "text": [
      "States where FWS range of states had no BISON occurrence data\n"
     ]
    },
    {
     "data": {
      "text/plain": [
       "['Mississippi']"
      ]
     },
     "metadata": {},
     "output_type": "display_data"
    },
    {
     "name": "stdout",
     "output_type": "stream",
     "text": [
      "Additional states where BISON records occurrence data\n"
     ]
    },
    {
     "data": {
      "text/plain": [
       "['Arkansas',\n",
       " 'Florida',\n",
       " 'Illinois',\n",
       " 'Iowa',\n",
       " 'Kansas',\n",
       " 'Maryland',\n",
       " 'New Jersey',\n",
       " 'North Carolina',\n",
       " 'Oklahoma',\n",
       " 'Pennsylvania',\n",
       " 'South Carolina',\n",
       " 'South Dakota',\n",
       " 'Texas',\n",
       " 'Virginia',\n",
       " 'Wisconsin']"
      ]
     },
     "metadata": {},
     "output_type": "display_data"
    },
    {
     "name": "stdout",
     "output_type": "stream",
     "text": [
      "----------\n",
      "Scientific Name: Noturus taylori\n",
      "Common Name: Caddo madtom\n",
      "Lead FWS Region: R4\n",
      "ECOS Link: https://ecos.fws.gov/ecp/species/2576\n",
      "States where FWS range of states align with BISON occurrence data\n"
     ]
    },
    {
     "data": {
      "text/plain": [
       "['Arkansas']"
      ]
     },
     "metadata": {},
     "output_type": "display_data"
    },
    {
     "name": "stdout",
     "output_type": "stream",
     "text": [
      "Additional states where BISON records occurrence data\n"
     ]
    },
    {
     "data": {
      "text/plain": [
       "['Alabama',\n",
       " 'Florida',\n",
       " 'Georgia',\n",
       " 'Illinois',\n",
       " 'Iowa',\n",
       " 'Kansas',\n",
       " 'Louisiana',\n",
       " 'Maryland',\n",
       " 'New Jersey',\n",
       " 'North Carolina',\n",
       " 'Oklahoma',\n",
       " 'Pennsylvania',\n",
       " 'South Carolina',\n",
       " 'South Dakota',\n",
       " 'Tennessee',\n",
       " 'Texas',\n",
       " 'Virginia',\n",
       " 'Wisconsin']"
      ]
     },
     "metadata": {},
     "output_type": "display_data"
    },
    {
     "name": "stdout",
     "output_type": "stream",
     "text": [
      "----------\n",
      "Scientific Name: Percina bimaculata\n",
      "Common Name: Chesapeake logperch\n",
      "Lead FWS Region: R5\n",
      "ECOS Link: https://ecos.fws.gov/ecp/species/9863\n",
      "States where FWS range of states had no BISON occurrence data\n"
     ]
    },
    {
     "data": {
      "text/plain": [
       "['Maryland', 'Pennsylvania', 'Virginia']"
      ]
     },
     "metadata": {},
     "output_type": "display_data"
    },
    {
     "name": "stdout",
     "output_type": "stream",
     "text": [
      "Additional states where BISON records occurrence data\n"
     ]
    },
    {
     "data": {
      "text/plain": [
       "['Alabama',\n",
       " 'Arkansas',\n",
       " 'Georgia',\n",
       " 'Illinois',\n",
       " 'Iowa',\n",
       " 'Kansas',\n",
       " 'Kentucky',\n",
       " 'Louisiana',\n",
       " 'Mississippi',\n",
       " 'Missouri',\n",
       " 'New Jersey',\n",
       " 'North Carolina',\n",
       " 'Oklahoma',\n",
       " 'South Carolina',\n",
       " 'Tennessee',\n",
       " 'Texas',\n",
       " 'Vermont',\n",
       " 'Wisconsin']"
      ]
     },
     "metadata": {},
     "output_type": "display_data"
    },
    {
     "name": "stdout",
     "output_type": "stream",
     "text": [
      "----------\n",
      "Scientific Name: Percina cymatotaenia\n",
      "Common Name: bluestripe darter\n",
      "Lead FWS Region: R3\n",
      "ECOS Link: https://ecos.fws.gov/ecp/species/6211\n",
      "States where FWS range of states align with BISON occurrence data\n"
     ]
    },
    {
     "data": {
      "text/plain": [
       "['Missouri']"
      ]
     },
     "metadata": {},
     "output_type": "display_data"
    },
    {
     "name": "stdout",
     "output_type": "stream",
     "text": [
      "Additional states where BISON records occurrence data\n"
     ]
    },
    {
     "data": {
      "text/plain": [
       "['Alabama',\n",
       " 'Arkansas',\n",
       " 'Georgia',\n",
       " 'Illinois',\n",
       " 'Iowa',\n",
       " 'Kansas',\n",
       " 'Kentucky',\n",
       " 'Louisiana',\n",
       " 'Mississippi',\n",
       " 'New Jersey',\n",
       " 'North Carolina',\n",
       " 'Oklahoma',\n",
       " 'South Carolina',\n",
       " 'Tennessee',\n",
       " 'Texas',\n",
       " 'Vermont',\n",
       " 'Wisconsin']"
      ]
     },
     "metadata": {},
     "output_type": "display_data"
    },
    {
     "name": "stdout",
     "output_type": "stream",
     "text": [
      "----------\n",
      "Scientific Name: Percina kusha\n",
      "Common Name: bridled darter\n",
      "Lead FWS Region: R4\n",
      "ECOS Link: https://ecos.fws.gov/ecp/species/9864\n",
      "States where FWS range of states align with BISON occurrence data\n"
     ]
    },
    {
     "data": {
      "text/plain": [
       "['Georgia', 'Tennessee']"
      ]
     },
     "metadata": {},
     "output_type": "display_data"
    },
    {
     "name": "stdout",
     "output_type": "stream",
     "text": [
      "Additional states where BISON records occurrence data\n"
     ]
    },
    {
     "data": {
      "text/plain": [
       "['Alabama',\n",
       " 'Arkansas',\n",
       " 'Illinois',\n",
       " 'Iowa',\n",
       " 'Kansas',\n",
       " 'Kentucky',\n",
       " 'Louisiana',\n",
       " 'Mississippi',\n",
       " 'Missouri',\n",
       " 'New Jersey',\n",
       " 'North Carolina',\n",
       " 'Oklahoma',\n",
       " 'South Carolina',\n",
       " 'Texas',\n",
       " 'Vermont',\n",
       " 'Wisconsin']"
      ]
     },
     "metadata": {},
     "output_type": "display_data"
    },
    {
     "name": "stdout",
     "output_type": "stream",
     "text": [
      "----------\n",
      "Scientific Name: Percina macrocephala\n",
      "Common Name: longhead darter\n",
      "Lead FWS Region: R5\n",
      "ECOS Link: https://ecos.fws.gov/ecp/species/5431\n",
      "States where FWS range of states align with BISON occurrence data\n"
     ]
    },
    {
     "data": {
      "text/plain": [
       "['Kentucky', 'Tennessee']"
      ]
     },
     "metadata": {},
     "output_type": "display_data"
    },
    {
     "name": "stdout",
     "output_type": "stream",
     "text": [
      "States where FWS range of states had no BISON occurrence data\n"
     ]
    },
    {
     "data": {
      "text/plain": [
       "['New York', 'Pennsylvania', 'West Virginia']"
      ]
     },
     "metadata": {},
     "output_type": "display_data"
    },
    {
     "name": "stdout",
     "output_type": "stream",
     "text": [
      "Additional states where BISON records occurrence data\n"
     ]
    },
    {
     "data": {
      "text/plain": [
       "['Alabama',\n",
       " 'Arkansas',\n",
       " 'Georgia',\n",
       " 'Illinois',\n",
       " 'Iowa',\n",
       " 'Kansas',\n",
       " 'Louisiana',\n",
       " 'Mississippi',\n",
       " 'Missouri',\n",
       " 'New Jersey',\n",
       " 'North Carolina',\n",
       " 'Oklahoma',\n",
       " 'South Carolina',\n",
       " 'Texas',\n",
       " 'Vermont',\n",
       " 'Wisconsin']"
      ]
     },
     "metadata": {},
     "output_type": "display_data"
    },
    {
     "name": "stdout",
     "output_type": "stream",
     "text": [
      "----------\n",
      "Scientific Name: Percina nasuta\n",
      "Common Name: longnose darter\n",
      "Lead FWS Region: R4\n",
      "ECOS Link: https://ecos.fws.gov/ecp/species/1773\n",
      "States where FWS range of states align with BISON occurrence data\n"
     ]
    },
    {
     "data": {
      "text/plain": [
       "['Arkansas', 'Oklahoma', 'Missouri']"
      ]
     },
     "metadata": {},
     "output_type": "display_data"
    },
    {
     "name": "stdout",
     "output_type": "stream",
     "text": [
      "Additional states where BISON records occurrence data\n"
     ]
    },
    {
     "data": {
      "text/plain": [
       "['Alabama',\n",
       " 'Georgia',\n",
       " 'Illinois',\n",
       " 'Iowa',\n",
       " 'Kansas',\n",
       " 'Kentucky',\n",
       " 'Louisiana',\n",
       " 'Mississippi',\n",
       " 'New Jersey',\n",
       " 'North Carolina',\n",
       " 'South Carolina',\n",
       " 'Tennessee',\n",
       " 'Texas',\n",
       " 'Vermont',\n",
       " 'Wisconsin']"
      ]
     },
     "metadata": {},
     "output_type": "display_data"
    },
    {
     "name": "stdout",
     "output_type": "stream",
     "text": [
      "----------\n",
      "Scientific Name: Percina williamsi\n",
      "Common Name: sickle darter\n",
      "Lead FWS Region: R4\n",
      "ECOS Link: https://ecos.fws.gov/ecp/species/9866\n",
      "States where FWS range of states align with BISON occurrence data\n"
     ]
    },
    {
     "data": {
      "text/plain": [
       "['North Carolina', 'Tennessee']"
      ]
     },
     "metadata": {},
     "output_type": "display_data"
    },
    {
     "name": "stdout",
     "output_type": "stream",
     "text": [
      "States where FWS range of states had no BISON occurrence data\n"
     ]
    },
    {
     "data": {
      "text/plain": [
       "['Virginia']"
      ]
     },
     "metadata": {},
     "output_type": "display_data"
    },
    {
     "name": "stdout",
     "output_type": "stream",
     "text": [
      "Additional states where BISON records occurrence data\n"
     ]
    },
    {
     "data": {
      "text/plain": [
       "['Alabama',\n",
       " 'Arkansas',\n",
       " 'Georgia',\n",
       " 'Illinois',\n",
       " 'Iowa',\n",
       " 'Kansas',\n",
       " 'Kentucky',\n",
       " 'Louisiana',\n",
       " 'Mississippi',\n",
       " 'Missouri',\n",
       " 'New Jersey',\n",
       " 'Oklahoma',\n",
       " 'South Carolina',\n",
       " 'Texas',\n",
       " 'Vermont',\n",
       " 'Wisconsin']"
      ]
     },
     "metadata": {},
     "output_type": "display_data"
    },
    {
     "name": "stdout",
     "output_type": "stream",
     "text": [
      "----------\n",
      "Scientific Name: Relictus solitarius\n",
      "Common Name: relict dace\n",
      "Lead FWS Region: R8\n",
      "ECOS Link: https://ecos.fws.gov/ecp/species/3416\n",
      "States where FWS range of states had no BISON occurrence data\n"
     ]
    },
    {
     "data": {
      "text/plain": [
       "['Nevada']"
      ]
     },
     "metadata": {},
     "output_type": "display_data"
    },
    {
     "name": "stdout",
     "output_type": "stream",
     "text": [
      "----------\n",
      "Scientific Name: Satan eurystomus\n",
      "Common Name: widemouth blindcat\n",
      "Lead FWS Region: R2\n",
      "ECOS Link: https://ecos.fws.gov/ecp/species/7544\n",
      "States where FWS range of states had no BISON occurrence data\n"
     ]
    },
    {
     "data": {
      "text/plain": [
       "['Texas']"
      ]
     },
     "metadata": {},
     "output_type": "display_data"
    },
    {
     "name": "stdout",
     "output_type": "stream",
     "text": [
      "----------\n",
      "Scientific Name: Spirinchus thaleichthys\n",
      "Common Name: longfin smelt (San Francisco Bay- Delta population)\n",
      "Lead FWS Region: R8\n",
      "ECOS Link: https://ecos.fws.gov/ecp/species/9011\n",
      "States where FWS range of states align with BISON occurrence data\n"
     ]
    },
    {
     "data": {
      "text/plain": [
       "['California']"
      ]
     },
     "metadata": {},
     "output_type": "display_data"
    },
    {
     "name": "stdout",
     "output_type": "stream",
     "text": [
      "Additional states where BISON records occurrence data\n"
     ]
    },
    {
     "data": {
      "text/plain": [
       "['Washington']"
      ]
     },
     "metadata": {},
     "output_type": "display_data"
    },
    {
     "name": "stdout",
     "output_type": "stream",
     "text": [
      "----------\n",
      "Scientific Name: Thoburnia atripinnis\n",
      "Common Name: blackfin sucker\n",
      "Lead FWS Region: R4\n",
      "ECOS Link: https://ecos.fws.gov/ecp/species/9868\n",
      "States where FWS range of states had no BISON occurrence data\n"
     ]
    },
    {
     "data": {
      "text/plain": [
       "['Kentucky', 'Tennessee']"
      ]
     },
     "metadata": {},
     "output_type": "display_data"
    },
    {
     "name": "stdout",
     "output_type": "stream",
     "text": [
      "----------\n",
      "Scientific Name: Trogloglanis pattersoni\n",
      "Common Name: toothless blindcat\n",
      "Lead FWS Region: R2\n",
      "ECOS Link: https://ecos.fws.gov/ecp/species/4398\n",
      "States where FWS range of states had no BISON occurrence data\n"
     ]
    },
    {
     "data": {
      "text/plain": [
       "['Texas']"
      ]
     },
     "metadata": {},
     "output_type": "display_data"
    },
    {
     "name": "stdout",
     "output_type": "stream",
     "text": [
      "----------\n",
      "Scientific Name: Aeschynomene pratensis\n",
      "Common Name: meadow joint-vetch\n",
      "Lead FWS Region: R4\n",
      "ECOS Link: https://ecos.fws.gov/ecp/species/9918\n",
      "States where FWS range of states had no BISON occurrence data\n"
     ]
    },
    {
     "data": {
      "text/plain": [
       "['Florida']"
      ]
     },
     "metadata": {},
     "output_type": "display_data"
    },
    {
     "name": "stdout",
     "output_type": "stream",
     "text": [
      "Additional states where BISON records occurrence data\n"
     ]
    },
    {
     "data": {
      "text/plain": [
       "['Puerto Rico']"
      ]
     },
     "metadata": {},
     "output_type": "display_data"
    },
    {
     "name": "stdout",
     "output_type": "stream",
     "text": [
      "----------\n",
      "Scientific Name: Agalinis navasotensis\n",
      "Common Name: Navasota false foxglove\n",
      "Lead FWS Region: R2\n",
      "ECOS Link: nan\n",
      "States where FWS range of states align with BISON occurrence data\n"
     ]
    },
    {
     "data": {
      "text/plain": [
       "['Texas']"
      ]
     },
     "metadata": {},
     "output_type": "display_data"
    },
    {
     "name": "stdout",
     "output_type": "stream",
     "text": [
      "Additional states where BISON records occurrence data\n"
     ]
    },
    {
     "data": {
      "text/plain": [
       "['Alabama',\n",
       " 'Arkansas',\n",
       " 'Connecticut',\n",
       " 'Florida',\n",
       " 'Georgia',\n",
       " 'Louisiana',\n",
       " 'Maine',\n",
       " 'Maryland',\n",
       " 'Mississippi',\n",
       " 'Missouri',\n",
       " 'New Hampshire',\n",
       " 'New Jersey',\n",
       " 'North Carolina',\n",
       " 'Rhode Island',\n",
       " 'South Carolina',\n",
       " 'Tennessee',\n",
       " 'Vermont']"
      ]
     },
     "metadata": {},
     "output_type": "display_data"
    },
    {
     "name": "stdout",
     "output_type": "stream",
     "text": [
      "----------\n",
      "Scientific Name: Alnus maritima\n",
      "Common Name: seaside alder\n",
      "Lead FWS Region: R5\n",
      "ECOS Link: https://ecos.fws.gov/ecp/species/2364\n",
      "States where FWS range of states align with BISON occurrence data\n"
     ]
    },
    {
     "data": {
      "text/plain": [
       "['Delaware', 'Georgia', 'Maryland']"
      ]
     },
     "metadata": {},
     "output_type": "display_data"
    },
    {
     "name": "stdout",
     "output_type": "stream",
     "text": [
      "States where FWS range of states had no BISON occurrence data\n"
     ]
    },
    {
     "data": {
      "text/plain": [
       "['Oklahoma']"
      ]
     },
     "metadata": {},
     "output_type": "display_data"
    },
    {
     "name": "stdout",
     "output_type": "stream",
     "text": [
      "Additional states where BISON records occurrence data\n"
     ]
    },
    {
     "data": {
      "text/plain": [
       "['Alabama',\n",
       " 'Alaska',\n",
       " 'California',\n",
       " 'Colorado',\n",
       " 'Connecticut',\n",
       " 'District of Columbia',\n",
       " 'Idaho',\n",
       " 'Illinois',\n",
       " 'Kansas',\n",
       " 'Kentucky',\n",
       " 'Maine',\n",
       " 'Massachusetts',\n",
       " 'Michigan',\n",
       " 'Missouri',\n",
       " 'Montana',\n",
       " 'Nebraska',\n",
       " 'Nevada',\n",
       " 'New Hampshire',\n",
       " 'New Mexico',\n",
       " 'New York',\n",
       " 'North Carolina',\n",
       " 'Oregon',\n",
       " 'Pennsylvania',\n",
       " 'Tennessee',\n",
       " 'Vermont',\n",
       " 'Virginia',\n",
       " 'Washington',\n",
       " 'Wisconsin',\n",
       " 'Wyoming']"
      ]
     },
     "metadata": {},
     "output_type": "display_data"
    },
    {
     "name": "stdout",
     "output_type": "stream",
     "text": [
      "----------\n",
      "Scientific Name: Amsonia tharpii\n",
      "Common Name: Tharp's bluestar\n",
      "Lead FWS Region: R2\n",
      "ECOS Link: https://ecos.fws.gov/ecp/species/5310\n",
      "States where FWS range of states align with BISON occurrence data\n"
     ]
    },
    {
     "data": {
      "text/plain": [
       "['Texas']"
      ]
     },
     "metadata": {},
     "output_type": "display_data"
    },
    {
     "name": "stdout",
     "output_type": "stream",
     "text": [
      "States where FWS range of states had no BISON occurrence data\n"
     ]
    },
    {
     "data": {
      "text/plain": [
       "['New Mexico']"
      ]
     },
     "metadata": {},
     "output_type": "display_data"
    },
    {
     "name": "stdout",
     "output_type": "stream",
     "text": [
      "Additional states where BISON records occurrence data\n"
     ]
    },
    {
     "data": {
      "text/plain": [
       "['Arkansas',\n",
       " 'Colorado',\n",
       " 'District of Columbia',\n",
       " 'Kansas',\n",
       " 'Mississippi',\n",
       " 'Missouri',\n",
       " 'Nevada',\n",
       " 'New York',\n",
       " 'Utah']"
      ]
     },
     "metadata": {},
     "output_type": "display_data"
    },
    {
     "name": "stdout",
     "output_type": "stream",
     "text": [
      "----------\n",
      "Scientific Name: Asclepias prostrata\n",
      "Common Name: prostrate milkweed\n",
      "Lead FWS Region: R2\n",
      "ECOS Link: https://ecos.fws.gov/ecp/species/7798\n",
      "States where FWS range of states align with BISON occurrence data\n"
     ]
    },
    {
     "data": {
      "text/plain": [
       "['Texas']"
      ]
     },
     "metadata": {},
     "output_type": "display_data"
    },
    {
     "name": "stdout",
     "output_type": "stream",
     "text": [
      "Additional states where BISON records occurrence data\n"
     ]
    },
    {
     "data": {
      "text/plain": [
       "['Alabama',\n",
       " 'Arizona',\n",
       " 'Arkansas',\n",
       " 'California',\n",
       " 'Colorado',\n",
       " 'Connecticut',\n",
       " 'Florida',\n",
       " 'Georgia',\n",
       " 'Illinois',\n",
       " 'Indiana',\n",
       " 'Iowa',\n",
       " 'Kansas',\n",
       " 'Maryland',\n",
       " 'Massachusetts',\n",
       " 'Minnesota',\n",
       " 'Mississippi',\n",
       " 'Missouri',\n",
       " 'Nebraska',\n",
       " 'Nevada',\n",
       " 'New Jersey',\n",
       " 'New Mexico',\n",
       " 'New York',\n",
       " 'North Carolina',\n",
       " 'Oregon',\n",
       " 'South Carolina',\n",
       " 'Tennessee',\n",
       " 'Utah',\n",
       " 'Vermont',\n",
       " 'Washington']"
      ]
     },
     "metadata": {},
     "output_type": "display_data"
    },
    {
     "name": "stdout",
     "output_type": "stream",
     "text": [
      "----------\n",
      "Scientific Name: Aster puniceus scabricaulis\n",
      "Common Name: rough stemmed aster\n",
      "Lead FWS Region: R2\n",
      "ECOS Link: nan\n",
      "States where FWS range of states align with BISON occurrence data\n"
     ]
    },
    {
     "data": {
      "text/plain": [
       "['Louisiana', 'Mississippi', 'Texas']"
      ]
     },
     "metadata": {},
     "output_type": "display_data"
    },
    {
     "name": "stdout",
     "output_type": "stream",
     "text": [
      "Additional states where BISON records occurrence data\n"
     ]
    },
    {
     "data": {
      "text/plain": [
       "['Alabama',\n",
       " 'Alaska',\n",
       " 'Arizona',\n",
       " 'Arkansas',\n",
       " 'California',\n",
       " 'Colorado',\n",
       " 'Connecticut',\n",
       " 'Delaware',\n",
       " 'District of Columbia',\n",
       " 'Florida',\n",
       " 'Georgia',\n",
       " 'Idaho',\n",
       " 'Illinois',\n",
       " 'Indiana',\n",
       " 'Iowa',\n",
       " 'Kansas',\n",
       " 'Kentucky',\n",
       " 'Maine',\n",
       " 'Maryland',\n",
       " 'Massachusetts',\n",
       " 'Michigan',\n",
       " 'Minnesota',\n",
       " 'Missouri',\n",
       " 'Montana',\n",
       " 'Nebraska',\n",
       " 'Nevada',\n",
       " 'New Hampshire',\n",
       " 'New Jersey',\n",
       " 'New Mexico',\n",
       " 'New York',\n",
       " 'North Carolina',\n",
       " 'North Dakota',\n",
       " 'Ohio',\n",
       " 'Oklahoma',\n",
       " 'Oregon',\n",
       " 'Pennsylvania',\n",
       " 'South Carolina',\n",
       " 'Tennessee',\n",
       " 'Utah',\n",
       " 'Vermont',\n",
       " 'Virginia',\n",
       " 'Washington',\n",
       " 'Wisconsin',\n",
       " 'Wyoming']"
      ]
     },
     "metadata": {},
     "output_type": "display_data"
    },
    {
     "name": "stdout",
     "output_type": "stream",
     "text": [
      "----------\n",
      "Scientific Name: Astragalus iselyi\n",
      "Common Name: Isely milkvetch\n",
      "Lead FWS Region: R6\n",
      "ECOS Link: https://ecos.fws.gov/ecp/species/1300\n",
      "States where FWS range of states align with BISON occurrence data\n"
     ]
    },
    {
     "data": {
      "text/plain": [
       "['Utah']"
      ]
     },
     "metadata": {},
     "output_type": "display_data"
    },
    {
     "name": "stdout",
     "output_type": "stream",
     "text": [
      "Additional states where BISON records occurrence data\n"
     ]
    },
    {
     "data": {
      "text/plain": [
       "['Alabama',\n",
       " 'Alaska',\n",
       " 'Arizona',\n",
       " 'California',\n",
       " 'Colorado',\n",
       " 'Georgia',\n",
       " 'Idaho',\n",
       " 'Kansas',\n",
       " 'Minnesota',\n",
       " 'Missouri',\n",
       " 'Montana',\n",
       " 'Nebraska',\n",
       " 'Nevada',\n",
       " 'New Mexico',\n",
       " 'North Dakota',\n",
       " 'Oklahoma',\n",
       " 'Oregon',\n",
       " 'South Dakota',\n",
       " 'Tennessee',\n",
       " 'Texas',\n",
       " 'Washington',\n",
       " 'Wyoming']"
      ]
     },
     "metadata": {},
     "output_type": "display_data"
    },
    {
     "name": "stdout",
     "output_type": "stream",
     "text": [
      "----------\n",
      "Scientific Name: Astragalus microcymbus\n",
      "Common Name: skiff milk-vetch\n",
      "Lead FWS Region: R6\n",
      "ECOS Link: https://ecos.fws.gov/ecp/species/6679\n",
      "States where FWS range of states align with BISON occurrence data\n"
     ]
    },
    {
     "data": {
      "text/plain": [
       "['Colorado']"
      ]
     },
     "metadata": {},
     "output_type": "display_data"
    },
    {
     "name": "stdout",
     "output_type": "stream",
     "text": [
      "Additional states where BISON records occurrence data\n"
     ]
    },
    {
     "data": {
      "text/plain": [
       "['Alabama',\n",
       " 'Alaska',\n",
       " 'Arizona',\n",
       " 'California',\n",
       " 'Georgia',\n",
       " 'Idaho',\n",
       " 'Kansas',\n",
       " 'Minnesota',\n",
       " 'Missouri',\n",
       " 'Montana',\n",
       " 'Nebraska',\n",
       " 'Nevada',\n",
       " 'New Mexico',\n",
       " 'North Dakota',\n",
       " 'Oklahoma',\n",
       " 'Oregon',\n",
       " 'South Dakota',\n",
       " 'Tennessee',\n",
       " 'Texas',\n",
       " 'Utah',\n",
       " 'Washington',\n",
       " 'Wyoming']"
      ]
     },
     "metadata": {},
     "output_type": "display_data"
    },
    {
     "name": "stdout",
     "output_type": "stream",
     "text": [
      "----------\n",
      "Scientific Name: Astragalus sabulosus\n",
      "Common Name: Cisco milkvetch\n",
      "Lead FWS Region: R6\n",
      "ECOS Link: https://ecos.fws.gov/ecp/species/7577\n",
      "States where FWS range of states align with BISON occurrence data\n"
     ]
    },
    {
     "data": {
      "text/plain": [
       "['Utah']"
      ]
     },
     "metadata": {},
     "output_type": "display_data"
    },
    {
     "name": "stdout",
     "output_type": "stream",
     "text": [
      "Additional states where BISON records occurrence data\n"
     ]
    },
    {
     "data": {
      "text/plain": [
       "['Alabama',\n",
       " 'Alaska',\n",
       " 'Arizona',\n",
       " 'California',\n",
       " 'Colorado',\n",
       " 'Georgia',\n",
       " 'Idaho',\n",
       " 'Kansas',\n",
       " 'Minnesota',\n",
       " 'Missouri',\n",
       " 'Montana',\n",
       " 'Nebraska',\n",
       " 'Nevada',\n",
       " 'New Mexico',\n",
       " 'North Dakota',\n",
       " 'Oklahoma',\n",
       " 'Oregon',\n",
       " 'South Dakota',\n",
       " 'Tennessee',\n",
       " 'Texas',\n",
       " 'Washington',\n",
       " 'Wyoming']"
      ]
     },
     "metadata": {},
     "output_type": "display_data"
    },
    {
     "name": "stdout",
     "output_type": "stream",
     "text": [
      "----------\n",
      "Scientific Name: Astragalus schmolliae\n",
      "Common Name: Chapin Mesa milkvetch (previously known as Schmoll milkvetch)\n",
      "Lead FWS Region: R6\n",
      "ECOS Link: https://ecos.fws.gov/ecp/species/4807\n",
      "States where FWS range of states align with BISON occurrence data\n"
     ]
    },
    {
     "data": {
      "text/plain": [
       "['Colorado']"
      ]
     },
     "metadata": {},
     "output_type": "display_data"
    },
    {
     "name": "stdout",
     "output_type": "stream",
     "text": [
      "Additional states where BISON records occurrence data\n"
     ]
    },
    {
     "data": {
      "text/plain": [
       "['Alabama',\n",
       " 'Alaska',\n",
       " 'Arizona',\n",
       " 'California',\n",
       " 'Georgia',\n",
       " 'Idaho',\n",
       " 'Kansas',\n",
       " 'Minnesota',\n",
       " 'Missouri',\n",
       " 'Montana',\n",
       " 'Nebraska',\n",
       " 'Nevada',\n",
       " 'New Mexico',\n",
       " 'North Dakota',\n",
       " 'Oklahoma',\n",
       " 'Oregon',\n",
       " 'South Dakota',\n",
       " 'Tennessee',\n",
       " 'Texas',\n",
       " 'Utah',\n",
       " 'Washington',\n",
       " 'Wyoming']"
      ]
     },
     "metadata": {},
     "output_type": "display_data"
    },
    {
     "name": "stdout",
     "output_type": "stream",
     "text": [
      "----------\n",
      "Scientific Name: Balduina atropurpurea\n",
      "Common Name: purpledisk honeycombhead\n",
      "Lead FWS Region: R4\n",
      "ECOS Link: https://ecos.fws.gov/ecp/species/8125\n",
      "States where FWS range of states had no BISON occurrence data\n"
     ]
    },
    {
     "data": {
      "text/plain": [
       "['Georgia', 'South Carolina']"
      ]
     },
     "metadata": {},
     "output_type": "display_data"
    },
    {
     "name": "stdout",
     "output_type": "stream",
     "text": [
      "----------\n",
      "Scientific Name: Baptisia megacarpa\n",
      "Common Name: Apalachicola wild indigo\n",
      "Lead FWS Region: R4\n",
      "ECOS Link: https://ecos.fws.gov/ecp/species/5023\n",
      "States where FWS range of states align with BISON occurrence data\n"
     ]
    },
    {
     "data": {
      "text/plain": [
       "['Alabama', 'Georgia']"
      ]
     },
     "metadata": {},
     "output_type": "display_data"
    },
    {
     "name": "stdout",
     "output_type": "stream",
     "text": [
      "States where FWS range of states had no BISON occurrence data\n"
     ]
    },
    {
     "data": {
      "text/plain": [
       "['Florida']"
      ]
     },
     "metadata": {},
     "output_type": "display_data"
    },
    {
     "name": "stdout",
     "output_type": "stream",
     "text": [
      "Additional states where BISON records occurrence data\n"
     ]
    },
    {
     "data": {
      "text/plain": [
       "['Arkansas',\n",
       " 'Connecticut',\n",
       " 'Illinois',\n",
       " 'Indiana',\n",
       " 'Kansas',\n",
       " 'Missouri',\n",
       " 'North Carolina',\n",
       " 'Oklahoma',\n",
       " 'South Carolina',\n",
       " 'Texas']"
      ]
     },
     "metadata": {},
     "output_type": "display_data"
    },
    {
     "name": "stdout",
     "output_type": "stream",
     "text": [
      "----------\n",
      "Scientific Name: Bartonia texana\n",
      "Common Name: Texas screwstem\n",
      "Lead FWS Region: R2\n",
      "ECOS Link: https://ecos.fws.gov/ecp/species/1807\n",
      "States where FWS range of states had no BISON occurrence data\n"
     ]
    },
    {
     "data": {
      "text/plain": [
       "['Texas']"
      ]
     },
     "metadata": {},
     "output_type": "display_data"
    },
    {
     "name": "stdout",
     "output_type": "stream",
     "text": [
      "Additional states where BISON records occurrence data\n"
     ]
    },
    {
     "data": {
      "text/plain": [
       "['Connecticut', 'Florida', 'New York']"
      ]
     },
     "metadata": {},
     "output_type": "display_data"
    },
    {
     "name": "stdout",
     "output_type": "stream",
     "text": [
      "----------\n",
      "Scientific Name: Boechera pusilla\n",
      "Common Name: Fremont County rockcress\n",
      "Lead FWS Region: R6\n",
      "ECOS Link: https://ecos.fws.gov/ecp/species/2285\n",
      "States where FWS range of states align with BISON occurrence data\n"
     ]
    },
    {
     "data": {
      "text/plain": [
       "['Wyoming']"
      ]
     },
     "metadata": {},
     "output_type": "display_data"
    },
    {
     "name": "stdout",
     "output_type": "stream",
     "text": [
      "Additional states where BISON records occurrence data\n"
     ]
    },
    {
     "data": {
      "text/plain": [
       "['Arizona',\n",
       " 'California',\n",
       " 'Idaho',\n",
       " 'Missouri',\n",
       " 'Nevada',\n",
       " 'New Mexico',\n",
       " 'Oregon',\n",
       " 'Washington']"
      ]
     },
     "metadata": {},
     "output_type": "display_data"
    },
    {
     "name": "stdout",
     "output_type": "stream",
     "text": [
      "----------\n",
      "Scientific Name: Boltonia montana\n",
      "Common Name: Doll's daisy\n",
      "Lead FWS Region: R5\n",
      "ECOS Link: https://ecos.fws.gov/ecp0/profile/speciesProfile?spcode=Q3P5\n",
      "States where FWS range of states had no BISON occurrence data\n"
     ]
    },
    {
     "data": {
      "text/plain": [
       "['New Jersey', 'Pennsylvania', 'Virginia']"
      ]
     },
     "metadata": {},
     "output_type": "display_data"
    },
    {
     "name": "stdout",
     "output_type": "stream",
     "text": [
      "Additional states where BISON records occurrence data\n"
     ]
    },
    {
     "data": {
      "text/plain": [
       "['Alabama', 'Arkansas', 'Florida', 'Louisiana', 'Missouri', 'Texas']"
      ]
     },
     "metadata": {},
     "output_type": "display_data"
    },
    {
     "name": "stdout",
     "output_type": "stream",
     "text": [
      "----------\n",
      "Scientific Name: Calliptropsis nootkatensis\n",
      "Common Name: yellow cedar\n",
      "Lead FWS Region: R7\n",
      "ECOS Link: https://ecos.fws.gov/ecp/species/9627\n",
      "States where FWS range of states had no BISON occurrence data\n"
     ]
    },
    {
     "data": {
      "text/plain": [
       "['Alaska', 'California', 'Oregon', 'Washington']"
      ]
     },
     "metadata": {},
     "output_type": "display_data"
    },
    {
     "name": "stdout",
     "output_type": "stream",
     "text": [
      "----------\n",
      "Scientific Name: Castilleja ornata\n",
      "Common Name: glowing Indian paintbrush\n",
      "Lead FWS Region: R2\n",
      "ECOS Link: nan\n",
      "States where FWS range of states align with BISON occurrence data\n"
     ]
    },
    {
     "data": {
      "text/plain": [
       "['New Mexico']"
      ]
     },
     "metadata": {},
     "output_type": "display_data"
    },
    {
     "name": "stdout",
     "output_type": "stream",
     "text": [
      "Additional states where BISON records occurrence data\n"
     ]
    },
    {
     "data": {
      "text/plain": [
       "['Alaska',\n",
       " 'Arizona',\n",
       " 'California',\n",
       " 'Colorado',\n",
       " 'Idaho',\n",
       " 'Indiana',\n",
       " 'Kansas',\n",
       " 'Michigan',\n",
       " 'Missouri',\n",
       " 'Montana',\n",
       " 'Nevada',\n",
       " 'Oregon',\n",
       " 'Texas',\n",
       " 'Utah',\n",
       " 'Washington',\n",
       " 'West Virginia',\n",
       " 'Wyoming']"
      ]
     },
     "metadata": {},
     "output_type": "display_data"
    },
    {
     "name": "stdout",
     "output_type": "stream",
     "text": [
      "----------\n",
      "Scientific Name: Cirsium wrightii\n",
      "Common Name: Wright's marsh thistle\n",
      "Lead FWS Region: R2\n",
      "ECOS Link: https://ecos.fws.gov/ecp/species/8963\n",
      "States where FWS range of states align with BISON occurrence data\n"
     ]
    },
    {
     "data": {
      "text/plain": [
       "['New Mexico']"
      ]
     },
     "metadata": {},
     "output_type": "display_data"
    },
    {
     "name": "stdout",
     "output_type": "stream",
     "text": [
      "Additional states where BISON records occurrence data\n"
     ]
    },
    {
     "data": {
      "text/plain": [
       "['Arizona',\n",
       " 'Arkansas',\n",
       " 'California',\n",
       " 'Colorado',\n",
       " 'Connecticut',\n",
       " 'District of Columbia',\n",
       " 'Florida',\n",
       " 'Idaho',\n",
       " 'Illinois',\n",
       " 'Kansas',\n",
       " 'Maryland',\n",
       " 'Michigan',\n",
       " 'Mississippi',\n",
       " 'Missouri',\n",
       " 'Montana',\n",
       " 'Nevada',\n",
       " 'New York',\n",
       " 'North Carolina',\n",
       " 'Ohio',\n",
       " 'Oregon',\n",
       " 'South Carolina',\n",
       " 'South Dakota',\n",
       " 'Texas',\n",
       " 'Utah',\n",
       " 'Washington',\n",
       " 'Wisconsin',\n",
       " 'Wyoming']"
      ]
     },
     "metadata": {},
     "output_type": "display_data"
    },
    {
     "name": "stdout",
     "output_type": "stream",
     "text": [
      "----------\n",
      "Scientific Name: Corispermum navicula\n",
      "Common Name: boat-shaped (or North Park) bugseed\n",
      "Lead FWS Region: R6\n",
      "ECOS Link: https://ecos.fws.gov/ecp/species/8619\n",
      "States where FWS range of states align with BISON occurrence data\n"
     ]
    },
    {
     "data": {
      "text/plain": [
       "['Colorado']"
      ]
     },
     "metadata": {},
     "output_type": "display_data"
    },
    {
     "name": "stdout",
     "output_type": "stream",
     "text": [
      "Additional states where BISON records occurrence data\n"
     ]
    },
    {
     "data": {
      "text/plain": [
       "['Illinois', 'Indiana', 'Oregon', 'Texas', 'Washington', 'Wisconsin']"
      ]
     },
     "metadata": {},
     "output_type": "display_data"
    },
    {
     "name": "stdout",
     "output_type": "stream",
     "text": [
      "----------\n",
      "Scientific Name: Draba weberi\n",
      "Common Name: Weber's whitlowgrass\n",
      "Lead FWS Region: R6\n",
      "ECOS Link: https://ecos.fws.gov/ecp/species/8736\n",
      "States where FWS range of states align with BISON occurrence data\n"
     ]
    },
    {
     "data": {
      "text/plain": [
       "['Colorado']"
      ]
     },
     "metadata": {},
     "output_type": "display_data"
    },
    {
     "name": "stdout",
     "output_type": "stream",
     "text": [
      "Additional states where BISON records occurrence data\n"
     ]
    },
    {
     "data": {
      "text/plain": [
       "['Alaska',\n",
       " 'Arizona',\n",
       " 'California',\n",
       " 'Idaho',\n",
       " 'Kansas',\n",
       " 'Missouri',\n",
       " 'Montana',\n",
       " 'Nevada',\n",
       " 'New Jersey',\n",
       " 'New Mexico',\n",
       " 'Oregon',\n",
       " 'Utah',\n",
       " 'Washington',\n",
       " 'Wyoming']"
      ]
     },
     "metadata": {},
     "output_type": "display_data"
    },
    {
     "name": "stdout",
     "output_type": "stream",
     "text": [
      "----------\n",
      "Scientific Name: Elytraria caroliniensis var. angustifolia\n",
      "Common Name: Narrowleaf Carolina scalystem\n",
      "Lead FWS Region: R4\n",
      "ECOS Link: https://ecos.fws.gov/ecp/species/2375\n",
      "States where FWS range of states had no BISON occurrence data\n"
     ]
    },
    {
     "data": {
      "text/plain": [
       "['Florida']"
      ]
     },
     "metadata": {},
     "output_type": "display_data"
    },
    {
     "name": "stdout",
     "output_type": "stream",
     "text": [
      "----------\n",
      "Scientific Name: Encyclia cochleata var. triandra\n",
      "Common Name: clam-shell orchid\n",
      "Lead FWS Region: R4\n",
      "ECOS Link: https://ecos.fws.gov/ecp/species/9927\n",
      "States where FWS range of states had no BISON occurrence data\n"
     ]
    },
    {
     "data": {
      "text/plain": [
       "['Florida']"
      ]
     },
     "metadata": {},
     "output_type": "display_data"
    },
    {
     "name": "stdout",
     "output_type": "stream",
     "text": [
      "----------\n",
      "Scientific Name: Epidendrum strobiliferum\n",
      "Common Name: Big Cypress epidendrum\n",
      "Lead FWS Region: R4\n",
      "ECOS Link: https://ecos.fws.gov/ecp/species/9929\n",
      "States where FWS range of states align with BISON occurrence data\n"
     ]
    },
    {
     "data": {
      "text/plain": [
       "['Florida']"
      ]
     },
     "metadata": {},
     "output_type": "display_data"
    },
    {
     "name": "stdout",
     "output_type": "stream",
     "text": [
      "Additional states where BISON records occurrence data\n"
     ]
    },
    {
     "data": {
      "text/plain": [
       "['California', 'Colorado', 'Hawaii', 'Missouri', 'Puerto Rico', 'Virginia']"
      ]
     },
     "metadata": {},
     "output_type": "display_data"
    },
    {
     "name": "stdout",
     "output_type": "stream",
     "text": [
      "----------\n",
      "Scientific Name: Eriogonum brandegeei\n",
      "Common Name: Brandegee's wild buckwheat\n",
      "Lead FWS Region: R6\n",
      "ECOS Link: https://ecos.fws.gov/ecp/species/2841\n",
      "States where FWS range of states align with BISON occurrence data\n"
     ]
    },
    {
     "data": {
      "text/plain": [
       "['Colorado']"
      ]
     },
     "metadata": {},
     "output_type": "display_data"
    },
    {
     "name": "stdout",
     "output_type": "stream",
     "text": [
      "Additional states where BISON records occurrence data\n"
     ]
    },
    {
     "data": {
      "text/plain": [
       "['Arizona',\n",
       " 'California',\n",
       " 'Idaho',\n",
       " 'Montana',\n",
       " 'Nevada',\n",
       " 'New Mexico',\n",
       " 'Oregon',\n",
       " 'South Carolina',\n",
       " 'South Dakota',\n",
       " 'Texas',\n",
       " 'Utah',\n",
       " 'Washington',\n",
       " 'Wyoming']"
      ]
     },
     "metadata": {},
     "output_type": "display_data"
    },
    {
     "name": "stdout",
     "output_type": "stream",
     "text": [
      "----------\n",
      "Scientific Name: Eriogonum soredium\n",
      "Common Name: Frisco buckwheat\n",
      "Lead FWS Region: R6\n",
      "ECOS Link: https://ecos.fws.gov/ecp/species/5825\n",
      "States where FWS range of states align with BISON occurrence data\n"
     ]
    },
    {
     "data": {
      "text/plain": [
       "['Utah']"
      ]
     },
     "metadata": {},
     "output_type": "display_data"
    },
    {
     "name": "stdout",
     "output_type": "stream",
     "text": [
      "Additional states where BISON records occurrence data\n"
     ]
    },
    {
     "data": {
      "text/plain": [
       "['Arizona',\n",
       " 'California',\n",
       " 'Colorado',\n",
       " 'Idaho',\n",
       " 'Montana',\n",
       " 'Nevada',\n",
       " 'New Mexico',\n",
       " 'Oregon',\n",
       " 'South Carolina',\n",
       " 'South Dakota',\n",
       " 'Texas',\n",
       " 'Washington',\n",
       " 'Wyoming']"
      ]
     },
     "metadata": {},
     "output_type": "display_data"
    },
    {
     "name": "stdout",
     "output_type": "stream",
     "text": [
      "----------\n",
      "Scientific Name: Genistidium dumosum\n",
      "Common Name: brush pea\n",
      "Lead FWS Region: R2\n",
      "ECOS Link: https://ecos.fws.gov/ecp/species/572\n",
      "States where FWS range of states had no BISON occurrence data\n"
     ]
    },
    {
     "data": {
      "text/plain": [
       "['Texas']"
      ]
     },
     "metadata": {},
     "output_type": "display_data"
    },
    {
     "name": "stdout",
     "output_type": "stream",
     "text": [
      "----------\n",
      "Scientific Name: Graptopetalum bartramii\n",
      "Common Name: Bartram stonecrop\n",
      "Lead FWS Region: R2\n",
      "ECOS Link: https://ecos.fws.gov/ecp/species/8382\n",
      "States where FWS range of states had no BISON occurrence data\n"
     ]
    },
    {
     "data": {
      "text/plain": [
       "['Arizona']"
      ]
     },
     "metadata": {},
     "output_type": "display_data"
    },
    {
     "name": "stdout",
     "output_type": "stream",
     "text": [
      "----------\n",
      "Scientific Name: Helianthus occidentalis plantagineus\n",
      "Common Name: Shinner's sunflower\n",
      "Lead FWS Region: R2\n",
      "ECOS Link: https://ecos.fws.gov/ecp/species/9933\n",
      "States where FWS range of states align with BISON occurrence data\n"
     ]
    },
    {
     "data": {
      "text/plain": [
       "['Arkansas', 'Louisiana', 'Texas']"
      ]
     },
     "metadata": {},
     "output_type": "display_data"
    },
    {
     "name": "stdout",
     "output_type": "stream",
     "text": [
      "Additional states where BISON records occurrence data\n"
     ]
    },
    {
     "data": {
      "text/plain": [
       "['Alabama',\n",
       " 'Arizona',\n",
       " 'California',\n",
       " 'Colorado',\n",
       " 'Connecticut',\n",
       " 'District of Columbia',\n",
       " 'Florida',\n",
       " 'Georgia',\n",
       " 'Idaho',\n",
       " 'Illinois',\n",
       " 'Indiana',\n",
       " 'Iowa',\n",
       " 'Kansas',\n",
       " 'Kentucky',\n",
       " 'Maine',\n",
       " 'Maryland',\n",
       " 'Massachusetts',\n",
       " 'Michigan',\n",
       " 'Minnesota',\n",
       " 'Mississippi',\n",
       " 'Missouri',\n",
       " 'Montana',\n",
       " 'Nebraska',\n",
       " 'Nevada',\n",
       " 'New Hampshire',\n",
       " 'New Jersey',\n",
       " 'New Mexico',\n",
       " 'New York',\n",
       " 'North Carolina',\n",
       " 'North Dakota',\n",
       " 'Ohio',\n",
       " 'Oklahoma',\n",
       " 'Oregon',\n",
       " 'Pennsylvania',\n",
       " 'South Carolina',\n",
       " 'South Dakota',\n",
       " 'Tennessee',\n",
       " 'Utah',\n",
       " 'Vermont',\n",
       " 'Virginia',\n",
       " 'Washington',\n",
       " 'West Virginia',\n",
       " 'Wisconsin',\n",
       " 'Wyoming']"
      ]
     },
     "metadata": {},
     "output_type": "display_data"
    },
    {
     "name": "stdout",
     "output_type": "stream",
     "text": [
      "----------\n",
      "Scientific Name: Hexalectris revoluta\n",
      "Common Name: Chisos coralroot\n",
      "Lead FWS Region: R2\n",
      "ECOS Link: https://ecos.fws.gov/ecp/species/3833\n",
      "States where FWS range of states align with BISON occurrence data\n"
     ]
    },
    {
     "data": {
      "text/plain": [
       "['Texas']"
      ]
     },
     "metadata": {},
     "output_type": "display_data"
    },
    {
     "name": "stdout",
     "output_type": "stream",
     "text": [
      "States where FWS range of states had no BISON occurrence data\n"
     ]
    },
    {
     "data": {
      "text/plain": [
       "['Arizona']"
      ]
     },
     "metadata": {},
     "output_type": "display_data"
    },
    {
     "name": "stdout",
     "output_type": "stream",
     "text": [
      "----------\n",
      "Scientific Name: Hypericum edisonianum\n",
      "Common Name: Edison's ascyrum\n",
      "Lead FWS Region: R4\n",
      "ECOS Link: https://ecos.fws.gov/ecp/species/2378\n",
      "States where FWS range of states align with BISON occurrence data\n"
     ]
    },
    {
     "data": {
      "text/plain": [
       "['Florida']"
      ]
     },
     "metadata": {},
     "output_type": "display_data"
    },
    {
     "name": "stdout",
     "output_type": "stream",
     "text": [
      "Additional states where BISON records occurrence data\n"
     ]
    },
    {
     "data": {
      "text/plain": [
       "['Alabama',\n",
       " 'Arizona',\n",
       " 'Arkansas',\n",
       " 'California',\n",
       " 'Connecticut',\n",
       " 'Georgia',\n",
       " 'Hawaii',\n",
       " 'Illinois',\n",
       " 'Indiana',\n",
       " 'Kansas',\n",
       " 'Louisiana',\n",
       " 'Maine',\n",
       " 'Massachusetts',\n",
       " 'Michigan',\n",
       " 'Mississippi',\n",
       " 'Missouri',\n",
       " 'New Hampshire',\n",
       " 'New Jersey',\n",
       " 'North Carolina',\n",
       " 'Oregon',\n",
       " 'Rhode Island',\n",
       " 'South Carolina',\n",
       " 'Tennessee',\n",
       " 'Texas',\n",
       " 'Utah',\n",
       " 'Washington',\n",
       " 'Wisconsin']"
      ]
     },
     "metadata": {},
     "output_type": "display_data"
    },
    {
     "name": "stdout",
     "output_type": "stream",
     "text": [
      "----------\n",
      "Scientific Name: Illicium parviflorum\n",
      "Common Name: yellow anisetree\n",
      "Lead FWS Region: R4\n",
      "ECOS Link: https://ecos.fws.gov/ecp/species/7683\n",
      "States where FWS range of states had no BISON occurrence data\n"
     ]
    },
    {
     "data": {
      "text/plain": [
       "['Florida']"
      ]
     },
     "metadata": {},
     "output_type": "display_data"
    },
    {
     "name": "stdout",
     "output_type": "stream",
     "text": [
      "Additional states where BISON records occurrence data\n"
     ]
    },
    {
     "data": {
      "text/plain": [
       "['California', 'Connecticut', 'Missouri', 'Vermont']"
      ]
     },
     "metadata": {},
     "output_type": "display_data"
    },
    {
     "name": "stdout",
     "output_type": "stream",
     "text": [
      "----------\n",
      "Scientific Name: Lepidium ostleri\n",
      "Common Name: Ostler's peppergrass\n",
      "Lead FWS Region: R6\n",
      "ECOS Link: https://ecos.fws.gov/ecp/species/279\n",
      "States where FWS range of states align with BISON occurrence data\n"
     ]
    },
    {
     "data": {
      "text/plain": [
       "['Utah']"
      ]
     },
     "metadata": {},
     "output_type": "display_data"
    },
    {
     "name": "stdout",
     "output_type": "stream",
     "text": [
      "Additional states where BISON records occurrence data\n"
     ]
    },
    {
     "data": {
      "text/plain": [
       "['Alaska',\n",
       " 'Arizona',\n",
       " 'California',\n",
       " 'Colorado',\n",
       " 'Connecticut',\n",
       " 'Florida',\n",
       " 'Hawaii',\n",
       " 'Idaho',\n",
       " 'Kansas',\n",
       " 'Maine',\n",
       " 'Maryland',\n",
       " 'Michigan',\n",
       " 'Mississippi',\n",
       " 'Missouri',\n",
       " 'Montana',\n",
       " 'Nevada',\n",
       " 'New Jersey',\n",
       " 'New Mexico',\n",
       " 'New York',\n",
       " 'North Carolina',\n",
       " 'Oregon',\n",
       " 'South Carolina',\n",
       " 'Texas',\n",
       " 'Washington',\n",
       " 'Wisconsin',\n",
       " 'Wyoming']"
      ]
     },
     "metadata": {},
     "output_type": "display_data"
    },
    {
     "name": "stdout",
     "output_type": "stream",
     "text": [
      "----------\n",
      "Scientific Name: Lindera subcoriacea\n",
      "Common Name: bog spicebush\n",
      "Lead FWS Region: R4\n",
      "ECOS Link: https://ecos.fws.gov/ecp/species/879\n",
      "States where FWS range of states had no BISON occurrence data\n"
     ]
    },
    {
     "data": {
      "text/plain": [
       "['Alabama',\n",
       " 'Florida',\n",
       " 'Georgia',\n",
       " 'Louisiana',\n",
       " 'Mississippi',\n",
       " 'North Carolina',\n",
       " 'South Carolina',\n",
       " 'Virginia']"
      ]
     },
     "metadata": {},
     "output_type": "display_data"
    },
    {
     "name": "stdout",
     "output_type": "stream",
     "text": [
      "Additional states where BISON records occurrence data\n"
     ]
    },
    {
     "data": {
      "text/plain": [
       "['Connecticut', 'District of Columbia', 'Massachusetts', 'Missouri']"
      ]
     },
     "metadata": {},
     "output_type": "display_data"
    },
    {
     "name": "stdout",
     "output_type": "stream",
     "text": [
      "----------\n",
      "Scientific Name: Lythrum flagellare\n",
      "Common Name: lowland loosestrife\n",
      "Lead FWS Region: R4\n",
      "ECOS Link: https://ecos.fws.gov/ecp0/profile/speciesProfile?spcode=Q2UP\n",
      "States where FWS range of states align with BISON occurrence data\n"
     ]
    },
    {
     "data": {
      "text/plain": [
       "['Florida']"
      ]
     },
     "metadata": {},
     "output_type": "display_data"
    },
    {
     "name": "stdout",
     "output_type": "stream",
     "text": [
      "Additional states where BISON records occurrence data\n"
     ]
    },
    {
     "data": {
      "text/plain": [
       "['Arkansas', 'California', 'Hawaii', 'Illinois', 'Missouri', 'Texas']"
      ]
     },
     "metadata": {},
     "output_type": "display_data"
    },
    {
     "name": "stdout",
     "output_type": "stream",
     "text": [
      "----------\n",
      "Scientific Name: Mimulus gemmiparus\n",
      "Common Name: Rocky Mountain monkeyflower\n",
      "Lead FWS Region: R6\n",
      "ECOS Link: https://ecos.fws.gov/ecp/species/3325\n",
      "States where FWS range of states align with BISON occurrence data\n"
     ]
    },
    {
     "data": {
      "text/plain": [
       "['Colorado']"
      ]
     },
     "metadata": {},
     "output_type": "display_data"
    },
    {
     "name": "stdout",
     "output_type": "stream",
     "text": [
      "Additional states where BISON records occurrence data\n"
     ]
    },
    {
     "data": {
      "text/plain": [
       "['Alaska',\n",
       " 'Arizona',\n",
       " 'California',\n",
       " 'Idaho',\n",
       " 'Kansas',\n",
       " 'Michigan',\n",
       " 'Missouri',\n",
       " 'Montana',\n",
       " 'Nebraska',\n",
       " 'Nevada',\n",
       " 'New Mexico',\n",
       " 'North Carolina',\n",
       " 'Oregon',\n",
       " 'South Dakota',\n",
       " 'Tennessee',\n",
       " 'Texas',\n",
       " 'Utah',\n",
       " 'Washington',\n",
       " 'Wyoming']"
      ]
     },
     "metadata": {},
     "output_type": "display_data"
    },
    {
     "name": "stdout",
     "output_type": "stream",
     "text": [
      "----------\n",
      "Scientific Name: Nuphar lutea ssp. sagittifolia\n",
      "Common Name: yellow pond-lily (Cape Fear spatterdock)\n",
      "Lead FWS Region: R4\n",
      "ECOS Link: https://ecos.fws.gov/ecp/species/9937\n",
      "States where FWS range of states align with BISON occurrence data\n"
     ]
    },
    {
     "data": {
      "text/plain": [
       "['North Carolina']"
      ]
     },
     "metadata": {},
     "output_type": "display_data"
    },
    {
     "name": "stdout",
     "output_type": "stream",
     "text": [
      "States where FWS range of states had no BISON occurrence data\n"
     ]
    },
    {
     "data": {
      "text/plain": [
       "['South Carolina', 'Virginia']"
      ]
     },
     "metadata": {},
     "output_type": "display_data"
    },
    {
     "name": "stdout",
     "output_type": "stream",
     "text": [
      "Additional states where BISON records occurrence data\n"
     ]
    },
    {
     "data": {
      "text/plain": [
       "['Arizona',\n",
       " 'California',\n",
       " 'Connecticut',\n",
       " 'Florida',\n",
       " 'Maine',\n",
       " 'Montana',\n",
       " 'Oregon',\n",
       " 'Vermont',\n",
       " 'Washington']"
      ]
     },
     "metadata": {},
     "output_type": "display_data"
    },
    {
     "name": "stdout",
     "output_type": "stream",
     "text": [
      "----------\n",
      "Scientific Name: Oncidium undulatum\n",
      "Common Name: Cape Sable orchid\n",
      "Lead FWS Region: R4\n",
      "ECOS Link: nan\n",
      "States where FWS range of states align with BISON occurrence data\n"
     ]
    },
    {
     "data": {
      "text/plain": [
       "['Florida']"
      ]
     },
     "metadata": {},
     "output_type": "display_data"
    },
    {
     "name": "stdout",
     "output_type": "stream",
     "text": [
      "Additional states where BISON records occurrence data\n"
     ]
    },
    {
     "data": {
      "text/plain": [
       "['Colorado', 'Connecticut', 'Hawaii', 'Missouri']"
      ]
     },
     "metadata": {},
     "output_type": "display_data"
    },
    {
     "name": "stdout",
     "output_type": "stream",
     "text": [
      "----------\n",
      "Scientific Name: Paronychia congesta\n",
      "Common Name: bushy whitlow-wort\n",
      "Lead FWS Region: R2\n",
      "ECOS Link: https://ecos.fws.gov/ecp/species/6441\n",
      "States where FWS range of states align with BISON occurrence data\n"
     ]
    },
    {
     "data": {
      "text/plain": [
       "['Texas']"
      ]
     },
     "metadata": {},
     "output_type": "display_data"
    },
    {
     "name": "stdout",
     "output_type": "stream",
     "text": [
      "Additional states where BISON records occurrence data\n"
     ]
    },
    {
     "data": {
      "text/plain": [
       "['Connecticut',\n",
       " 'Florida',\n",
       " 'Georgia',\n",
       " 'New Mexico',\n",
       " 'Pennsylvania',\n",
       " 'South Carolina']"
      ]
     },
     "metadata": {},
     "output_type": "display_data"
    },
    {
     "name": "stdout",
     "output_type": "stream",
     "text": [
      "----------\n",
      "Scientific Name: Pectis imberbis\n",
      "Common Name: beardless chinch weed\n",
      "Lead FWS Region: R2\n",
      "ECOS Link: https://ecos.fws.gov/ecp/species/1348\n",
      "States where FWS range of states align with BISON occurrence data\n"
     ]
    },
    {
     "data": {
      "text/plain": [
       "['Arizona']"
      ]
     },
     "metadata": {},
     "output_type": "display_data"
    },
    {
     "name": "stdout",
     "output_type": "stream",
     "text": [
      "Additional states where BISON records occurrence data\n"
     ]
    },
    {
     "data": {
      "text/plain": [
       "['Florida', 'New Mexico', 'Texas']"
      ]
     },
     "metadata": {},
     "output_type": "display_data"
    },
    {
     "name": "stdout",
     "output_type": "stream",
     "text": [
      "----------\n",
      "Scientific Name: Pediomelum pentaphyllum\n",
      "Common Name: Chihuahua scurfpea\n",
      "Lead FWS Region: R2\n",
      "ECOS Link: https://ecos.fws.gov/ecp0/profile/speciesProfile?spcode=Q3F2\n",
      "States where FWS range of states align with BISON occurrence data\n"
     ]
    },
    {
     "data": {
      "text/plain": [
       "['New Mexico', 'Texas']"
      ]
     },
     "metadata": {},
     "output_type": "display_data"
    },
    {
     "name": "stdout",
     "output_type": "stream",
     "text": [
      "States where FWS range of states had no BISON occurrence data\n"
     ]
    },
    {
     "data": {
      "text/plain": [
       "['Arizona']"
      ]
     },
     "metadata": {},
     "output_type": "display_data"
    },
    {
     "name": "stdout",
     "output_type": "stream",
     "text": [
      "Additional states where BISON records occurrence data\n"
     ]
    },
    {
     "data": {
      "text/plain": [
       "['Arkansas',\n",
       " 'California',\n",
       " 'Illinois',\n",
       " 'Indiana',\n",
       " 'Kansas',\n",
       " 'Louisiana',\n",
       " 'Mississippi',\n",
       " 'Missouri',\n",
       " 'Montana',\n",
       " 'South Dakota',\n",
       " 'Virginia',\n",
       " 'Washington',\n",
       " 'Wyoming']"
      ]
     },
     "metadata": {},
     "output_type": "display_data"
    },
    {
     "name": "stdout",
     "output_type": "stream",
     "text": [
      "----------\n",
      "Scientific Name: Phacelia argentea\n",
      "Common Name: sand dune (or silvery) phacelia\n",
      "Lead FWS Region: R1\n",
      "ECOS Link: https://ecos.fws.gov/ecp/species/599\n",
      "States where FWS range of states align with BISON occurrence data\n"
     ]
    },
    {
     "data": {
      "text/plain": [
       "['Oregon']"
      ]
     },
     "metadata": {},
     "output_type": "display_data"
    },
    {
     "name": "stdout",
     "output_type": "stream",
     "text": [
      "Additional states where BISON records occurrence data\n"
     ]
    },
    {
     "data": {
      "text/plain": [
       "['Arizona',\n",
       " 'California',\n",
       " 'Colorado',\n",
       " 'Georgia',\n",
       " 'Idaho',\n",
       " 'Missouri',\n",
       " 'Montana',\n",
       " 'Nevada',\n",
       " 'New Mexico',\n",
       " 'North Carolina',\n",
       " 'South Carolina',\n",
       " 'Texas',\n",
       " 'Utah',\n",
       " 'Washington']"
      ]
     },
     "metadata": {},
     "output_type": "display_data"
    },
    {
     "name": "stdout",
     "output_type": "stream",
     "text": [
      "----------\n",
      "Scientific Name: Pinus albicaulis\n",
      "Common Name: whitebark pine\n",
      "Lead FWS Region: R6\n",
      "ECOS Link: https://ecos.fws.gov/ecp/species/1748\n",
      "States where FWS range of states align with BISON occurrence data\n"
     ]
    },
    {
     "data": {
      "text/plain": [
       "['California', 'Idaho', 'Montana', 'Nevada', 'Oregon', 'Washington', 'Wyoming']"
      ]
     },
     "metadata": {},
     "output_type": "display_data"
    },
    {
     "name": "stdout",
     "output_type": "stream",
     "text": [
      "Additional states where BISON records occurrence data\n"
     ]
    },
    {
     "data": {
      "text/plain": [
       "['Alabama',\n",
       " 'Arizona',\n",
       " 'Colorado',\n",
       " 'Connecticut',\n",
       " 'District of Columbia',\n",
       " 'Florida',\n",
       " 'Georgia',\n",
       " 'Hawaii',\n",
       " 'Illinois',\n",
       " 'Indiana',\n",
       " 'Kansas',\n",
       " 'Kentucky',\n",
       " 'Michigan',\n",
       " 'Mississippi',\n",
       " 'Nebraska',\n",
       " 'New Jersey',\n",
       " 'New Mexico',\n",
       " 'New York',\n",
       " 'North Carolina',\n",
       " 'Pennsylvania',\n",
       " 'South Carolina',\n",
       " 'Tennessee',\n",
       " 'Texas',\n",
       " 'Utah',\n",
       " 'Virginia',\n",
       " 'West Virginia']"
      ]
     },
     "metadata": {},
     "output_type": "display_data"
    },
    {
     "name": "stdout",
     "output_type": "stream",
     "text": [
      "----------\n",
      "Scientific Name: Salvia penstemonoides\n",
      "Common Name: big red sage\n",
      "Lead FWS Region: R2\n",
      "ECOS Link: https://ecos.fws.gov/ecp/species/8397\n",
      "States where FWS range of states align with BISON occurrence data\n"
     ]
    },
    {
     "data": {
      "text/plain": [
       "['Texas']"
      ]
     },
     "metadata": {},
     "output_type": "display_data"
    },
    {
     "name": "stdout",
     "output_type": "stream",
     "text": [
      "Additional states where BISON records occurrence data\n"
     ]
    },
    {
     "data": {
      "text/plain": [
       "['Arkansas',\n",
       " 'California',\n",
       " 'Colorado',\n",
       " 'Connecticut',\n",
       " 'Florida',\n",
       " 'Hawaii',\n",
       " 'Idaho',\n",
       " 'Illinois',\n",
       " 'Maryland',\n",
       " 'Missouri',\n",
       " 'Nevada',\n",
       " 'New Mexico',\n",
       " 'New York',\n",
       " 'North Carolina',\n",
       " 'Oklahoma',\n",
       " 'Oregon',\n",
       " 'Tennessee',\n",
       " 'Washington',\n",
       " 'Wisconsin']"
      ]
     },
     "metadata": {},
     "output_type": "display_data"
    },
    {
     "name": "stdout",
     "output_type": "stream",
     "text": [
      "----------\n",
      "Scientific Name: Schoenoplectus hallii\n",
      "Common Name: Hall's bulrush\n",
      "Lead FWS Region: R3\n",
      "ECOS Link: https://ecos.fws.gov/ecp/species/883\n",
      "States where FWS range of states align with BISON occurrence data\n"
     ]
    },
    {
     "data": {
      "text/plain": [
       "['Illinois',\n",
       " 'Kansas',\n",
       " 'Massachusetts',\n",
       " 'Missouri',\n",
       " 'Nebraska',\n",
       " 'Texas',\n",
       " 'Wisconsin']"
      ]
     },
     "metadata": {},
     "output_type": "display_data"
    },
    {
     "name": "stdout",
     "output_type": "stream",
     "text": [
      "States where FWS range of states had no BISON occurrence data\n"
     ]
    },
    {
     "data": {
      "text/plain": [
       "['Georgia',\n",
       " 'Iowa',\n",
       " 'Indiana',\n",
       " 'Kentucky',\n",
       " 'Michigan',\n",
       " 'Oklahoma',\n",
       " 'South Carolina']"
      ]
     },
     "metadata": {},
     "output_type": "display_data"
    },
    {
     "name": "stdout",
     "output_type": "stream",
     "text": [
      "Additional states where BISON records occurrence data\n"
     ]
    },
    {
     "data": {
      "text/plain": [
       "['California',\n",
       " 'Connecticut',\n",
       " 'District of Columbia',\n",
       " 'Louisiana',\n",
       " 'Maryland',\n",
       " 'Oregon',\n",
       " 'Puerto Rico',\n",
       " 'Virginia']"
      ]
     },
     "metadata": {},
     "output_type": "display_data"
    },
    {
     "name": "stdout",
     "output_type": "stream",
     "text": [
      "----------\n",
      "Scientific Name: Scutellaria ocmulgee\n",
      "Common Name: Unnamed skullcap (Ocmulgee skullcap)\n",
      "Lead FWS Region: R4\n",
      "ECOS Link: https://ecos.fws.gov/ecp/species/6796\n",
      "States where FWS range of states align with BISON occurrence data\n"
     ]
    },
    {
     "data": {
      "text/plain": [
       "['Georgia', 'South Carolina']"
      ]
     },
     "metadata": {},
     "output_type": "display_data"
    },
    {
     "name": "stdout",
     "output_type": "stream",
     "text": [
      "Additional states where BISON records occurrence data\n"
     ]
    },
    {
     "data": {
      "text/plain": [
       "['Alabama',\n",
       " 'Alaska',\n",
       " 'Arkansas',\n",
       " 'California',\n",
       " 'Colorado',\n",
       " 'Connecticut',\n",
       " 'District of Columbia',\n",
       " 'Florida',\n",
       " 'Indiana',\n",
       " 'Kentucky',\n",
       " 'Maine',\n",
       " 'Maryland',\n",
       " 'Michigan',\n",
       " 'Mississippi',\n",
       " 'Missouri',\n",
       " 'Nevada',\n",
       " 'North Carolina',\n",
       " 'Oregon',\n",
       " 'Tennessee',\n",
       " 'Texas',\n",
       " 'Vermont',\n",
       " 'Virginia',\n",
       " 'Washington',\n",
       " 'Wisconsin']"
      ]
     },
     "metadata": {},
     "output_type": "display_data"
    },
    {
     "name": "stdout",
     "output_type": "stream",
     "text": [
      "----------\n",
      "Scientific Name: Sisyrinchium sarmentosum\n",
      "Common Name: mountain blue-eyed grass\n",
      "Lead FWS Region: R1\n",
      "ECOS Link: https://ecos.fws.gov/ecp/species/5588\n",
      "States where FWS range of states align with BISON occurrence data\n"
     ]
    },
    {
     "data": {
      "text/plain": [
       "['Washington']"
      ]
     },
     "metadata": {},
     "output_type": "display_data"
    },
    {
     "name": "stdout",
     "output_type": "stream",
     "text": [
      "Additional states where BISON records occurrence data\n"
     ]
    },
    {
     "data": {
      "text/plain": [
       "['Alabama',\n",
       " 'Arizona',\n",
       " 'Arkansas',\n",
       " 'California',\n",
       " 'Colorado',\n",
       " 'Connecticut',\n",
       " 'Florida',\n",
       " 'Georgia',\n",
       " 'Illinois',\n",
       " 'Indiana',\n",
       " 'Kansas',\n",
       " 'Louisiana',\n",
       " 'Maine',\n",
       " 'Maryland',\n",
       " 'Michigan',\n",
       " 'Minnesota',\n",
       " 'Mississippi',\n",
       " 'Missouri',\n",
       " 'Nevada',\n",
       " 'New Mexico',\n",
       " 'New York',\n",
       " 'North Carolina',\n",
       " 'Ohio',\n",
       " 'Oklahoma',\n",
       " 'Oregon',\n",
       " 'Puerto Rico',\n",
       " 'South Carolina',\n",
       " 'Tennessee',\n",
       " 'Texas',\n",
       " 'Utah',\n",
       " 'Vermont',\n",
       " 'Virginia',\n",
       " 'Wisconsin',\n",
       " 'Wyoming']"
      ]
     },
     "metadata": {},
     "output_type": "display_data"
    },
    {
     "name": "stdout",
     "output_type": "stream",
     "text": [
      "----------\n",
      "Scientific Name: Solanum conocarpum\n",
      "Common Name: Marron bacora\n",
      "Lead FWS Region: R4\n",
      "ECOS Link: https://ecos.fws.gov/ecp/species/2227\n",
      "States where FWS range of states had no BISON occurrence data\n"
     ]
    },
    {
     "data": {
      "text/plain": [
       "['Virgin Islands']"
      ]
     },
     "metadata": {},
     "output_type": "display_data"
    },
    {
     "name": "stdout",
     "output_type": "stream",
     "text": [
      "Additional states where BISON records occurrence data\n"
     ]
    },
    {
     "data": {
      "text/plain": [
       "['Alabama',\n",
       " 'Arizona',\n",
       " 'Arkansas',\n",
       " 'California',\n",
       " 'Connecticut',\n",
       " 'Florida',\n",
       " 'Georgia',\n",
       " 'Hawaii',\n",
       " 'Illinois',\n",
       " 'Iowa',\n",
       " 'Maine',\n",
       " 'Massachusetts',\n",
       " 'Mississippi',\n",
       " 'Missouri',\n",
       " 'New Jersey',\n",
       " 'New Mexico',\n",
       " 'New York',\n",
       " 'North Carolina',\n",
       " 'Oregon',\n",
       " 'Puerto Rico',\n",
       " 'Rhode Island',\n",
       " 'South Carolina',\n",
       " 'Texas',\n",
       " 'Utah',\n",
       " 'Virginia',\n",
       " 'Washington',\n",
       " 'West Virginia',\n",
       " 'Wisconsin',\n",
       " 'Wyoming']"
      ]
     },
     "metadata": {},
     "output_type": "display_data"
    },
    {
     "name": "stdout",
     "output_type": "stream",
     "text": [
      "----------\n",
      "Scientific Name: Stellaria fontinalis\n",
      "Common Name: water stitchwort\n",
      "Lead FWS Region: R4\n",
      "ECOS Link: https://ecos.fws.gov/ecp/species/3157\n",
      "States where FWS range of states had no BISON occurrence data\n"
     ]
    },
    {
     "data": {
      "text/plain": [
       "['Kentucky', 'Tennessee']"
      ]
     },
     "metadata": {},
     "output_type": "display_data"
    },
    {
     "name": "stdout",
     "output_type": "stream",
     "text": [
      "Additional states where BISON records occurrence data\n"
     ]
    },
    {
     "data": {
      "text/plain": [
       "['Alaska',\n",
       " 'California',\n",
       " 'Connecticut',\n",
       " 'Kansas',\n",
       " 'Maine',\n",
       " 'Maryland',\n",
       " 'Michigan',\n",
       " 'Missouri',\n",
       " 'Montana',\n",
       " 'Nevada',\n",
       " 'New Hampshire',\n",
       " 'New Mexico',\n",
       " 'New York',\n",
       " 'North Carolina',\n",
       " 'Oregon',\n",
       " 'Pennsylvania',\n",
       " 'South Carolina',\n",
       " 'Texas',\n",
       " 'Utah',\n",
       " 'Virginia',\n",
       " 'Washington']"
      ]
     },
     "metadata": {},
     "output_type": "display_data"
    },
    {
     "name": "stdout",
     "output_type": "stream",
     "text": [
      "----------\n",
      "Scientific Name: Streptanthus bracteatus\n",
      "Common Name: bracted twistflower\n",
      "Lead FWS Region: R2\n",
      "ECOS Link: https://ecos.fws.gov/ecp/species/2856\n",
      "States where FWS range of states align with BISON occurrence data\n"
     ]
    },
    {
     "data": {
      "text/plain": [
       "['Texas']"
      ]
     },
     "metadata": {},
     "output_type": "display_data"
    },
    {
     "name": "stdout",
     "output_type": "stream",
     "text": [
      "Additional states where BISON records occurrence data\n"
     ]
    },
    {
     "data": {
      "text/plain": [
       "['Arizona', 'Arkansas', 'California', 'Nevada', 'Oregon']"
      ]
     },
     "metadata": {},
     "output_type": "display_data"
    },
    {
     "name": "stdout",
     "output_type": "stream",
     "text": [
      "----------\n",
      "Scientific Name: Trifolium friscanum\n",
      "Common Name: Frisco Clover\n",
      "Lead FWS Region: R6\n",
      "ECOS Link: https://ecos.fws.gov/ecp/species/9029\n",
      "States where FWS range of states align with BISON occurrence data\n"
     ]
    },
    {
     "data": {
      "text/plain": [
       "['Utah']"
      ]
     },
     "metadata": {},
     "output_type": "display_data"
    },
    {
     "name": "stdout",
     "output_type": "stream",
     "text": [
      "Additional states where BISON records occurrence data\n"
     ]
    },
    {
     "data": {
      "text/plain": [
       "['Alabama',\n",
       " 'Arizona',\n",
       " 'Arkansas',\n",
       " 'California',\n",
       " 'Colorado',\n",
       " 'Connecticut',\n",
       " 'Hawaii',\n",
       " 'Idaho',\n",
       " 'Illinois',\n",
       " 'Iowa',\n",
       " 'Maryland',\n",
       " 'Michigan',\n",
       " 'Minnesota',\n",
       " 'Mississippi',\n",
       " 'Missouri',\n",
       " 'Montana',\n",
       " 'Nevada',\n",
       " 'New Hampshire',\n",
       " 'New Mexico',\n",
       " 'New York',\n",
       " 'North Carolina',\n",
       " 'Oregon',\n",
       " 'South Carolina',\n",
       " 'South Dakota',\n",
       " 'Texas',\n",
       " 'Vermont',\n",
       " 'Washington',\n",
       " 'Wisconsin',\n",
       " 'Wyoming']"
      ]
     },
     "metadata": {},
     "output_type": "display_data"
    },
    {
     "name": "stdout",
     "output_type": "stream",
     "text": [
      "----------\n",
      "Scientific Name: Vicia ocalensis\n",
      "Common Name: Ocala vetch\n",
      "Lead FWS Region: R4\n",
      "ECOS Link: https://ecos.fws.gov/ecp/species/1848\n",
      "States where FWS range of states align with BISON occurrence data\n"
     ]
    },
    {
     "data": {
      "text/plain": [
       "['Florida']"
      ]
     },
     "metadata": {},
     "output_type": "display_data"
    },
    {
     "name": "stdout",
     "output_type": "stream",
     "text": [
      "Additional states where BISON records occurrence data\n"
     ]
    },
    {
     "data": {
      "text/plain": [
       "['Alabama',\n",
       " 'Arizona',\n",
       " 'Arkansas',\n",
       " 'California',\n",
       " 'Colorado',\n",
       " 'Connecticut',\n",
       " 'Georgia',\n",
       " 'Hawaii',\n",
       " 'Idaho',\n",
       " 'Kansas',\n",
       " 'Maine',\n",
       " 'Maryland',\n",
       " 'Michigan',\n",
       " 'Mississippi',\n",
       " 'Montana',\n",
       " 'Nebraska',\n",
       " 'Nevada',\n",
       " 'New Mexico',\n",
       " 'North Carolina',\n",
       " 'Oklahoma',\n",
       " 'Oregon',\n",
       " 'Rhode Island',\n",
       " 'South Carolina',\n",
       " 'Tennessee',\n",
       " 'Texas',\n",
       " 'Utah',\n",
       " 'Washington',\n",
       " 'Wisconsin',\n",
       " 'Wyoming']"
      ]
     },
     "metadata": {},
     "output_type": "display_data"
    },
    {
     "name": "stdout",
     "output_type": "stream",
     "text": [
      "----------\n",
      "Scientific Name: Yucca brevifolia\n",
      "Common Name: Joshua tree\n",
      "Lead FWS Region: R8\n",
      "ECOS Link: nan\n",
      "States where FWS range of states align with BISON occurrence data\n"
     ]
    },
    {
     "data": {
      "text/plain": [
       "['Arizona', 'California', 'Nevada', 'Utah']"
      ]
     },
     "metadata": {},
     "output_type": "display_data"
    },
    {
     "name": "stdout",
     "output_type": "stream",
     "text": [
      "Additional states where BISON records occurrence data\n"
     ]
    },
    {
     "data": {
      "text/plain": [
       "['Florida',\n",
       " 'Georgia',\n",
       " 'Missouri',\n",
       " 'New Mexico',\n",
       " 'North Carolina',\n",
       " 'South Dakota',\n",
       " 'Texas',\n",
       " 'Wyoming']"
      ]
     },
     "metadata": {},
     "output_type": "display_data"
    },
    {
     "name": "stdout",
     "output_type": "stream",
     "text": [
      "----------\n",
      "Scientific Name: Acroneuria kosztarabi\n",
      "Common Name: Virginia stone\n",
      "Lead FWS Region: R5\n",
      "ECOS Link: https://ecos.fws.gov/ecp/species/9914\n",
      "States where FWS range of states align with BISON occurrence data\n"
     ]
    },
    {
     "data": {
      "text/plain": [
       "['Ohio', 'Virginia']"
      ]
     },
     "metadata": {},
     "output_type": "display_data"
    },
    {
     "name": "stdout",
     "output_type": "stream",
     "text": [
      "States where FWS range of states had no BISON occurrence data\n"
     ]
    },
    {
     "data": {
      "text/plain": [
       "['Kentucky']"
      ]
     },
     "metadata": {},
     "output_type": "display_data"
    },
    {
     "name": "stdout",
     "output_type": "stream",
     "text": [
      "Additional states where BISON records occurrence data\n"
     ]
    },
    {
     "data": {
      "text/plain": [
       "['Alabama',\n",
       " 'Alaska',\n",
       " 'Arkansas',\n",
       " 'Connecticut',\n",
       " 'Florida',\n",
       " 'Georgia',\n",
       " 'Indiana',\n",
       " 'Iowa',\n",
       " 'Kansas',\n",
       " 'Louisiana',\n",
       " 'Maine',\n",
       " 'Maryland',\n",
       " 'Massachusetts',\n",
       " 'Michigan',\n",
       " 'Minnesota',\n",
       " 'Mississippi',\n",
       " 'Missouri',\n",
       " 'Nebraska',\n",
       " 'New Hampshire',\n",
       " 'New Jersey',\n",
       " 'New York',\n",
       " 'North Carolina',\n",
       " 'North Dakota',\n",
       " 'Pennsylvania',\n",
       " 'South Carolina',\n",
       " 'Tennessee',\n",
       " 'Texas',\n",
       " 'Vermont',\n",
       " 'West Virginia',\n",
       " 'Wisconsin']"
      ]
     },
     "metadata": {},
     "output_type": "display_data"
    },
    {
     "name": "stdout",
     "output_type": "stream",
     "text": [
      "----------\n",
      "Scientific Name: Arsapnia arapahoe\n",
      "Common Name: Arapahoe snowfly\n",
      "Lead FWS Region: R6\n",
      "ECOS Link: https://ecos.fws.gov/ecp/species/9141\n",
      "States where FWS range of states had no BISON occurrence data\n"
     ]
    },
    {
     "data": {
      "text/plain": [
       "['Colorado']"
      ]
     },
     "metadata": {},
     "output_type": "display_data"
    },
    {
     "name": "stdout",
     "output_type": "stream",
     "text": [
      "----------\n",
      "Scientific Name: astylis species\n",
      "Common Name: Astylis sp. 1 (unnamed moth)\n",
      "Lead FWS Region: R2\n",
      "ECOS Link: https://ecos.fws.gov/ecp/species/8601\n",
      "States where FWS range of states had no BISON occurrence data\n"
     ]
    },
    {
     "data": {
      "text/plain": [
       "['Arizona']"
      ]
     },
     "metadata": {},
     "output_type": "display_data"
    },
    {
     "name": "stdout",
     "output_type": "stream",
     "text": [
      "----------\n",
      "Scientific Name: Atlantea tulita\n",
      "Common Name: Puerto Rico harlequin butterfly\n",
      "Lead FWS Region: R4\n",
      "ECOS Link: https://ecos.fws.gov/ecp/species/9005\n",
      "States where FWS range of states had no BISON occurrence data\n"
     ]
    },
    {
     "data": {
      "text/plain": [
       "['Puerto Rico']"
      ]
     },
     "metadata": {},
     "output_type": "display_data"
    },
    {
     "name": "stdout",
     "output_type": "stream",
     "text": [
      "----------\n",
      "Scientific Name: Atrytone arogos arogos\n",
      "Common Name: eastern beard-grass skipper\n",
      "Lead FWS Region: R5\n",
      "ECOS Link: https://ecos.fws.gov/ecp/species/8270\n",
      "States where FWS range of states align with BISON occurrence data\n"
     ]
    },
    {
     "data": {
      "text/plain": [
       "['Alabama']"
      ]
     },
     "metadata": {},
     "output_type": "display_data"
    },
    {
     "name": "stdout",
     "output_type": "stream",
     "text": [
      "States where FWS range of states had no BISON occurrence data\n"
     ]
    },
    {
     "data": {
      "text/plain": [
       "['Florida',\n",
       " 'Georgia',\n",
       " 'Louisiana',\n",
       " 'Mississippi',\n",
       " 'North Carolina',\n",
       " 'New Jersey',\n",
       " 'New York',\n",
       " 'South Carolina',\n",
       " 'Virginia']"
      ]
     },
     "metadata": {},
     "output_type": "display_data"
    },
    {
     "name": "stdout",
     "output_type": "stream",
     "text": [
      "Additional states where BISON records occurrence data\n"
     ]
    },
    {
     "data": {
      "text/plain": [
       "['Michigan']"
      ]
     },
     "metadata": {},
     "output_type": "display_data"
    },
    {
     "name": "stdout",
     "output_type": "stream",
     "text": [
      "----------\n",
      "Scientific Name: Bombus franklini\n",
      "Common Name: Franklin's bumblebee\n",
      "Lead FWS Region: R1\n",
      "ECOS Link: https://ecos.fws.gov/ecp/species/7022\n",
      "States where FWS range of states align with BISON occurrence data\n"
     ]
    },
    {
     "data": {
      "text/plain": [
       "['Oregon']"
      ]
     },
     "metadata": {},
     "output_type": "display_data"
    },
    {
     "name": "stdout",
     "output_type": "stream",
     "text": [
      "Additional states where BISON records occurrence data\n"
     ]
    },
    {
     "data": {
      "text/plain": [
       "['Alabama',\n",
       " 'Alaska',\n",
       " 'Arizona',\n",
       " 'California',\n",
       " 'Colorado',\n",
       " 'Connecticut',\n",
       " 'Delaware',\n",
       " 'District of Columbia',\n",
       " 'Florida',\n",
       " 'Georgia',\n",
       " 'Idaho',\n",
       " 'Illinois',\n",
       " 'Indiana',\n",
       " 'Iowa',\n",
       " 'Kansas',\n",
       " 'Kentucky',\n",
       " 'Louisiana',\n",
       " 'Maine',\n",
       " 'Maryland',\n",
       " 'Massachusetts',\n",
       " 'Michigan',\n",
       " 'Minnesota',\n",
       " 'Mississippi',\n",
       " 'Missouri',\n",
       " 'Montana',\n",
       " 'Nebraska',\n",
       " 'Nevada',\n",
       " 'New Hampshire',\n",
       " 'New Jersey',\n",
       " 'New Mexico',\n",
       " 'New York',\n",
       " 'North Carolina',\n",
       " 'North Dakota',\n",
       " 'Ohio',\n",
       " 'Oklahoma',\n",
       " 'Pennsylvania',\n",
       " 'Rhode Island',\n",
       " 'South Carolina',\n",
       " 'South Dakota',\n",
       " 'Tennessee',\n",
       " 'Texas',\n",
       " 'Utah',\n",
       " 'Vermont',\n",
       " 'Virginia',\n",
       " 'Washington',\n",
       " 'West Virginia',\n",
       " 'Wisconsin',\n",
       " 'Wyoming']"
      ]
     },
     "metadata": {},
     "output_type": "display_data"
    },
    {
     "name": "stdout",
     "output_type": "stream",
     "text": [
      "----------\n",
      "Scientific Name: Bombus occidentalis\n",
      "Common Name: western bumble bee\n",
      "Lead FWS Region: R6\n",
      "ECOS Link: nan\n",
      "States where FWS range of states align with BISON occurrence data\n"
     ]
    },
    {
     "data": {
      "text/plain": [
       "['Arizona',\n",
       " 'California',\n",
       " 'Colorado',\n",
       " 'Idaho',\n",
       " 'Montana',\n",
       " 'North Dakota',\n",
       " 'Nebraska',\n",
       " 'New Mexico',\n",
       " 'Nevada',\n",
       " 'Oregon',\n",
       " 'South Dakota',\n",
       " 'Utah',\n",
       " 'Washington',\n",
       " 'Wyoming']"
      ]
     },
     "metadata": {},
     "output_type": "display_data"
    },
    {
     "name": "stdout",
     "output_type": "stream",
     "text": [
      "Additional states where BISON records occurrence data\n"
     ]
    },
    {
     "data": {
      "text/plain": [
       "['Alabama',\n",
       " 'Alaska',\n",
       " 'Connecticut',\n",
       " 'Delaware',\n",
       " 'District of Columbia',\n",
       " 'Florida',\n",
       " 'Georgia',\n",
       " 'Illinois',\n",
       " 'Indiana',\n",
       " 'Iowa',\n",
       " 'Kansas',\n",
       " 'Kentucky',\n",
       " 'Louisiana',\n",
       " 'Maine',\n",
       " 'Maryland',\n",
       " 'Massachusetts',\n",
       " 'Michigan',\n",
       " 'Minnesota',\n",
       " 'Mississippi',\n",
       " 'Missouri',\n",
       " 'New Hampshire',\n",
       " 'New Jersey',\n",
       " 'New York',\n",
       " 'North Carolina',\n",
       " 'Ohio',\n",
       " 'Oklahoma',\n",
       " 'Pennsylvania',\n",
       " 'Rhode Island',\n",
       " 'South Carolina',\n",
       " 'Tennessee',\n",
       " 'Texas',\n",
       " 'Vermont',\n",
       " 'Virginia',\n",
       " 'West Virginia',\n",
       " 'Wisconsin']"
      ]
     },
     "metadata": {},
     "output_type": "display_data"
    },
    {
     "name": "stdout",
     "output_type": "stream",
     "text": [
      "----------\n",
      "Scientific Name: Bombus terricola\n",
      "Common Name: yellow banded bumblebee\n",
      "Lead FWS Region: R5\n",
      "ECOS Link: https://ecos.fws.gov/ecp/species/10403\n",
      "States where FWS range of states align with BISON occurrence data\n"
     ]
    },
    {
     "data": {
      "text/plain": [
       "['Connecticut',\n",
       " 'Illinois',\n",
       " 'Kentucky',\n",
       " 'Massachusetts',\n",
       " 'Maryland',\n",
       " 'Maine',\n",
       " 'Michigan',\n",
       " 'Minnesota',\n",
       " 'Montana',\n",
       " 'North Carolina',\n",
       " 'North Dakota',\n",
       " 'New Hampshire',\n",
       " 'New Jersey',\n",
       " 'New York',\n",
       " 'Ohio',\n",
       " 'Pennsylvania',\n",
       " 'Rhode Island',\n",
       " 'South Dakota',\n",
       " 'Tennessee',\n",
       " 'Virginia',\n",
       " 'Vermont',\n",
       " 'West Virginia',\n",
       " 'Wisconsin']"
      ]
     },
     "metadata": {},
     "output_type": "display_data"
    },
    {
     "name": "stdout",
     "output_type": "stream",
     "text": [
      "Additional states where BISON records occurrence data\n"
     ]
    },
    {
     "data": {
      "text/plain": [
       "['Alabama',\n",
       " 'Alaska',\n",
       " 'Arizona',\n",
       " 'California',\n",
       " 'Colorado',\n",
       " 'Delaware',\n",
       " 'District of Columbia',\n",
       " 'Florida',\n",
       " 'Georgia',\n",
       " 'Idaho',\n",
       " 'Indiana',\n",
       " 'Iowa',\n",
       " 'Kansas',\n",
       " 'Louisiana',\n",
       " 'Mississippi',\n",
       " 'Missouri',\n",
       " 'Nebraska',\n",
       " 'Nevada',\n",
       " 'New Mexico',\n",
       " 'Oklahoma',\n",
       " 'Oregon',\n",
       " 'South Carolina',\n",
       " 'Texas',\n",
       " 'Utah',\n",
       " 'Washington',\n",
       " 'Wyoming']"
      ]
     },
     "metadata": {},
     "output_type": "display_data"
    },
    {
     "name": "stdout",
     "output_type": "stream",
     "text": [
      "----------\n",
      "Scientific Name: Callophrys irus\n",
      "Common Name: frosted elfin butterfly\n",
      "Lead FWS Region: R5\n",
      "ECOS Link: nan\n",
      "States where FWS range of states align with BISON occurrence data\n"
     ]
    },
    {
     "data": {
      "text/plain": [
       "['New Jersey']"
      ]
     },
     "metadata": {},
     "output_type": "display_data"
    },
    {
     "name": "stdout",
     "output_type": "stream",
     "text": [
      "States where FWS range of states had no BISON occurrence data\n"
     ]
    },
    {
     "data": {
      "text/plain": [
       "['Alabama',\n",
       " 'Arkansas',\n",
       " 'Connecticut',\n",
       " 'District of Columbia',\n",
       " 'Delaware',\n",
       " 'Florida',\n",
       " 'Georgia',\n",
       " 'Illinois',\n",
       " 'Indiana',\n",
       " 'Kansas',\n",
       " 'Kentucky',\n",
       " 'Louisiana',\n",
       " 'Massachusetts',\n",
       " 'Maryland',\n",
       " 'Michigan',\n",
       " 'North Carolina',\n",
       " 'New Hampshire',\n",
       " 'New York',\n",
       " 'Ohio',\n",
       " 'Oklahoma',\n",
       " 'Pennsylvania',\n",
       " 'Rhode Island',\n",
       " 'South Carolina',\n",
       " 'Tennessee',\n",
       " 'Texas',\n",
       " 'Virginia',\n",
       " 'Vermont',\n",
       " 'Wisconsin',\n",
       " 'West Virginia']"
      ]
     },
     "metadata": {},
     "output_type": "display_data"
    },
    {
     "name": "stdout",
     "output_type": "stream",
     "text": [
      "Additional states where BISON records occurrence data\n"
     ]
    },
    {
     "data": {
      "text/plain": [
       "['Arizona', 'California', 'Montana', 'Oregon']"
      ]
     },
     "metadata": {},
     "output_type": "display_data"
    },
    {
     "name": "stdout",
     "output_type": "stream",
     "text": [
      "----------\n",
      "Scientific Name: Cicindela marginipennis\n",
      "Common Name: cobblestone tiger beetle\n",
      "Lead FWS Region: R5\n",
      "ECOS Link: https://ecos.fws.gov/ecp/species/8134\n",
      "States where FWS range of states align with BISON occurrence data\n"
     ]
    },
    {
     "data": {
      "text/plain": [
       "['Kentucky', 'Massachusetts', 'Ohio', 'Pennsylvania']"
      ]
     },
     "metadata": {},
     "output_type": "display_data"
    },
    {
     "name": "stdout",
     "output_type": "stream",
     "text": [
      "States where FWS range of states had no BISON occurrence data\n"
     ]
    },
    {
     "data": {
      "text/plain": [
       "['Alabama',\n",
       " 'Indiana',\n",
       " 'Maine',\n",
       " 'New Hampshire',\n",
       " 'New Jersey',\n",
       " 'New York',\n",
       " 'South Carolina',\n",
       " 'Vermont',\n",
       " 'West Virginia']"
      ]
     },
     "metadata": {},
     "output_type": "display_data"
    },
    {
     "name": "stdout",
     "output_type": "stream",
     "text": [
      "Additional states where BISON records occurrence data\n"
     ]
    },
    {
     "data": {
      "text/plain": [
       "['Alaska',\n",
       " 'Arizona',\n",
       " 'California',\n",
       " 'Colorado',\n",
       " 'Florida',\n",
       " 'Idaho',\n",
       " 'Illinois',\n",
       " 'Kansas',\n",
       " 'Louisiana',\n",
       " 'Missouri',\n",
       " 'Nebraska',\n",
       " 'Nevada',\n",
       " 'New Mexico',\n",
       " 'North Carolina',\n",
       " 'Oklahoma',\n",
       " 'Oregon',\n",
       " 'Texas',\n",
       " 'Utah',\n",
       " 'Washington',\n",
       " 'Wisconsin',\n",
       " 'Wyoming']"
      ]
     },
     "metadata": {},
     "output_type": "display_data"
    },
    {
     "name": "stdout",
     "output_type": "stream",
     "text": [
      "----------\n",
      "Scientific Name: Cicindela theatina\n",
      "Common Name: Colorado tiger beetle\n",
      "Lead FWS Region: R6\n",
      "ECOS Link: https://ecos.fws.gov/ecp/species/9982\n",
      "States where FWS range of states align with BISON occurrence data\n"
     ]
    },
    {
     "data": {
      "text/plain": [
       "['Colorado']"
      ]
     },
     "metadata": {},
     "output_type": "display_data"
    },
    {
     "name": "stdout",
     "output_type": "stream",
     "text": [
      "Additional states where BISON records occurrence data\n"
     ]
    },
    {
     "data": {
      "text/plain": [
       "['Alaska',\n",
       " 'Arizona',\n",
       " 'California',\n",
       " 'Florida',\n",
       " 'Idaho',\n",
       " 'Illinois',\n",
       " 'Kansas',\n",
       " 'Kentucky',\n",
       " 'Louisiana',\n",
       " 'Massachusetts',\n",
       " 'Missouri',\n",
       " 'Nebraska',\n",
       " 'Nevada',\n",
       " 'New Mexico',\n",
       " 'North Carolina',\n",
       " 'Ohio',\n",
       " 'Oklahoma',\n",
       " 'Oregon',\n",
       " 'Pennsylvania',\n",
       " 'Texas',\n",
       " 'Utah',\n",
       " 'Washington',\n",
       " 'Wisconsin',\n",
       " 'Wyoming']"
      ]
     },
     "metadata": {},
     "output_type": "display_data"
    },
    {
     "name": "stdout",
     "output_type": "stream",
     "text": [
      "----------\n",
      "Scientific Name: Copablepharon fuscum\n",
      "Common Name: sand verbena moth\n",
      "Lead FWS Region: R1\n",
      "ECOS Link: https://ecos.fws.gov/ecp/species/9053\n",
      "States where FWS range of states align with BISON occurrence data\n"
     ]
    },
    {
     "data": {
      "text/plain": [
       "['Washington']"
      ]
     },
     "metadata": {},
     "output_type": "display_data"
    },
    {
     "name": "stdout",
     "output_type": "stream",
     "text": [
      "Additional states where BISON records occurrence data\n"
     ]
    },
    {
     "data": {
      "text/plain": [
       "['Alaska',\n",
       " 'California',\n",
       " 'Colorado',\n",
       " 'Michigan',\n",
       " 'Nevada',\n",
       " 'Oregon',\n",
       " 'Utah',\n",
       " 'Wyoming']"
      ]
     },
     "metadata": {},
     "output_type": "display_data"
    },
    {
     "name": "stdout",
     "output_type": "stream",
     "text": [
      "----------\n",
      "Scientific Name: Danaus plexippus plexippus\n",
      "Common Name: monarch butterfly\n",
      "Lead FWS Region: R3\n",
      "ECOS Link: https://ecos.fws.gov/ecp/species/9743\n",
      "States where FWS range of states align with BISON occurrence data\n"
     ]
    },
    {
     "data": {
      "text/plain": [
       "['Texas']"
      ]
     },
     "metadata": {},
     "output_type": "display_data"
    },
    {
     "name": "stdout",
     "output_type": "stream",
     "text": [
      "States where FWS range of states had no BISON occurrence data\n"
     ]
    },
    {
     "data": {
      "text/plain": [
       "['Alabama',\n",
       " 'Arkansas',\n",
       " 'Arizona',\n",
       " 'California',\n",
       " 'Colorado',\n",
       " 'Connecticut',\n",
       " 'District of Columbia',\n",
       " 'Delaware',\n",
       " 'Florida',\n",
       " 'Georgia',\n",
       " 'Iowa',\n",
       " 'Idaho',\n",
       " 'Illinois',\n",
       " 'Indiana',\n",
       " 'Kansas',\n",
       " 'Kentucky',\n",
       " 'Louisiana',\n",
       " 'Massachusetts',\n",
       " 'Maryland',\n",
       " 'Maine',\n",
       " 'Michigan',\n",
       " 'Minnesota',\n",
       " 'Missouri',\n",
       " 'Mississippi',\n",
       " 'Montana',\n",
       " 'North Carolina',\n",
       " 'North Dakota',\n",
       " 'Nebraska',\n",
       " 'New Hampshire',\n",
       " 'New Jersey',\n",
       " 'New Mexico',\n",
       " 'Nevada',\n",
       " 'New York',\n",
       " 'Ohio',\n",
       " 'Oklahoma',\n",
       " 'Oregon',\n",
       " 'Pennsylvania',\n",
       " 'Rhode Island',\n",
       " 'South Carolina',\n",
       " 'South Dakota',\n",
       " 'Tennessee',\n",
       " 'Utah',\n",
       " 'Virginia',\n",
       " 'Vermont',\n",
       " 'Washington',\n",
       " 'Wisconsin',\n",
       " 'West Virginia',\n",
       " 'Wyoming']"
      ]
     },
     "metadata": {},
     "output_type": "display_data"
    },
    {
     "name": "stdout",
     "output_type": "stream",
     "text": [
      "----------\n",
      "Scientific Name: Euchloe ausonides insulanus\n",
      "Common Name: Island marble butterfly\n",
      "Lead FWS Region: R1\n",
      "ECOS Link: https://ecos.fws.gov/ecp/species/3285\n",
      "States where FWS range of states had no BISON occurrence data\n"
     ]
    },
    {
     "data": {
      "text/plain": [
       "['Washington']"
      ]
     },
     "metadata": {},
     "output_type": "display_data"
    },
    {
     "name": "stdout",
     "output_type": "stream",
     "text": [
      "Additional states where BISON records occurrence data\n"
     ]
    },
    {
     "data": {
      "text/plain": [
       "['Alaska']"
      ]
     },
     "metadata": {},
     "output_type": "display_data"
    },
    {
     "name": "stdout",
     "output_type": "stream",
     "text": [
      "----------\n",
      "Scientific Name: Euphilotes ancilla cryptica\n",
      "Common Name: Euphilotes ancilla cryptica, Spring Mountains dark blue butterfly\n",
      "Lead FWS Region: R8\n",
      "ECOS Link: https://ecos.fws.gov/ecp/species/9209\n",
      "States where FWS range of states had no BISON occurrence data\n"
     ]
    },
    {
     "data": {
      "text/plain": [
       "['Nevada']"
      ]
     },
     "metadata": {},
     "output_type": "display_data"
    },
    {
     "name": "stdout",
     "output_type": "stream",
     "text": [
      "Additional states where BISON records occurrence data\n"
     ]
    },
    {
     "data": {
      "text/plain": [
       "['Arizona', 'California', 'Massachusetts']"
      ]
     },
     "metadata": {},
     "output_type": "display_data"
    },
    {
     "name": "stdout",
     "output_type": "stream",
     "text": [
      "----------\n",
      "Scientific Name: Euphilotes ancilla purpura\n",
      "Common Name: Euphilotes ancilla purpura, Spring Mountains dark blue butterfly\n",
      "Lead FWS Region: R8\n",
      "ECOS Link: https://ecos.fws.gov/ecp/species/9208\n",
      "States where FWS range of states had no BISON occurrence data\n"
     ]
    },
    {
     "data": {
      "text/plain": [
       "['Nevada']"
      ]
     },
     "metadata": {},
     "output_type": "display_data"
    },
    {
     "name": "stdout",
     "output_type": "stream",
     "text": [
      "Additional states where BISON records occurrence data\n"
     ]
    },
    {
     "data": {
      "text/plain": [
       "['Arizona', 'California', 'Massachusetts']"
      ]
     },
     "metadata": {},
     "output_type": "display_data"
    },
    {
     "name": "stdout",
     "output_type": "stream",
     "text": [
      "----------\n",
      "Scientific Name: Euphyes dukesi calhouni\n",
      "Common Name: Dukes' skipper\n",
      "Lead FWS Region: R4\n",
      "ECOS Link: https://ecos.fws.gov/ecp/species/9779\n",
      "States where FWS range of states had no BISON occurrence data\n"
     ]
    },
    {
     "data": {
      "text/plain": [
       "['Florida']"
      ]
     },
     "metadata": {},
     "output_type": "display_data"
    },
    {
     "name": "stdout",
     "output_type": "stream",
     "text": [
      "----------\n",
      "Scientific Name: Euphyes pilatka klotsi\n",
      "Common Name: Palatka skipper or sawgrass skipper or Knot's skipper\n",
      "Lead FWS Region: R4\n",
      "ECOS Link: https://ecos.fws.gov/ecp/species/9781\n",
      "States where FWS range of states had no BISON occurrence data\n"
     ]
    },
    {
     "data": {
      "text/plain": [
       "['Florida']"
      ]
     },
     "metadata": {},
     "output_type": "display_data"
    },
    {
     "name": "stdout",
     "output_type": "stream",
     "text": [
      "----------\n",
      "Scientific Name: Haideoporus texanus\n",
      "Common Name: Texas cave (or Edwards Aquifer) diving beetle\n",
      "Lead FWS Region: R2\n",
      "ECOS Link: https://ecos.fws.gov/ecp/species/5618\n",
      "States where FWS range of states had no BISON occurrence data\n"
     ]
    },
    {
     "data": {
      "text/plain": [
       "['Texas']"
      ]
     },
     "metadata": {},
     "output_type": "display_data"
    },
    {
     "name": "stdout",
     "output_type": "stream",
     "text": [
      "----------\n",
      "Scientific Name: Hemileuca spp.\n",
      "Common Name: bog buck moth\n",
      "Lead FWS Region: R5\n",
      "ECOS Link: nan\n",
      "States where FWS range of states had no BISON occurrence data\n"
     ]
    },
    {
     "data": {
      "text/plain": [
       "['New York', 'Wisconsin']"
      ]
     },
     "metadata": {},
     "output_type": "display_data"
    },
    {
     "name": "stdout",
     "output_type": "stream",
     "text": [
      "Additional states where BISON records occurrence data\n"
     ]
    },
    {
     "data": {
      "text/plain": [
       "['New Mexico', 'Texas', 'Wyoming']"
      ]
     },
     "metadata": {},
     "output_type": "display_data"
    },
    {
     "name": "stdout",
     "output_type": "stream",
     "text": [
      "----------\n",
      "Scientific Name: heterocampa amanda\n",
      "Common Name: Heterocampa sp. 1 nr.Amanda\n",
      "Lead FWS Region: R2\n",
      "ECOS Link: https://ecos.fws.gov/ecp/species/8768\n",
      "States where FWS range of states had no BISON occurrence data\n"
     ]
    },
    {
     "data": {
      "text/plain": [
       "['Arizona']"
      ]
     },
     "metadata": {},
     "output_type": "display_data"
    },
    {
     "name": "stdout",
     "output_type": "stream",
     "text": [
      "----------\n",
      "Scientific Name: Hygrotus diversipes\n",
      "Common Name: narrow-foot hygrotus diving beetle\n",
      "Lead FWS Region: R6\n",
      "ECOS Link: https://ecos.fws.gov/ecp/species/5640\n",
      "States where FWS range of states align with BISON occurrence data\n"
     ]
    },
    {
     "data": {
      "text/plain": [
       "['Wyoming']"
      ]
     },
     "metadata": {},
     "output_type": "display_data"
    },
    {
     "name": "stdout",
     "output_type": "stream",
     "text": [
      "Additional states where BISON records occurrence data\n"
     ]
    },
    {
     "data": {
      "text/plain": [
       "['Alaska',\n",
       " 'Arizona',\n",
       " 'California',\n",
       " 'Colorado',\n",
       " 'Delaware',\n",
       " 'Florida',\n",
       " 'Illinois',\n",
       " 'Kansas',\n",
       " 'Kentucky',\n",
       " 'Louisiana',\n",
       " 'Michigan',\n",
       " 'Minnesota',\n",
       " 'Montana',\n",
       " 'Nebraska',\n",
       " 'Nevada',\n",
       " 'New Mexico',\n",
       " 'New York',\n",
       " 'North Dakota',\n",
       " 'Oregon',\n",
       " 'South Dakota',\n",
       " 'Texas',\n",
       " 'Utah',\n",
       " 'Washington',\n",
       " 'Wisconsin']"
      ]
     },
     "metadata": {},
     "output_type": "display_data"
    },
    {
     "name": "stdout",
     "output_type": "stream",
     "text": [
      "----------\n",
      "Scientific Name: litodonta alpina\n",
      "Common Name: Litodonta sp. 1 nr.Alpina\n",
      "Lead FWS Region: R2\n",
      "ECOS Link: https://ecos.fws.gov/ecp/species/8852\n",
      "States where FWS range of states had no BISON occurrence data\n"
     ]
    },
    {
     "data": {
      "text/plain": [
       "['Arizona']"
      ]
     },
     "metadata": {},
     "output_type": "display_data"
    },
    {
     "name": "stdout",
     "output_type": "stream",
     "text": [
      "----------\n",
      "Scientific Name: lycaena ferrisi\n",
      "Common Name: Ferris's copper\n",
      "Lead FWS Region: R2\n",
      "ECOS Link: https://ecos.fws.gov/ecp/species/8602\n",
      "States where FWS range of states had no BISON occurrence data\n"
     ]
    },
    {
     "data": {
      "text/plain": [
       "['Arizona']"
      ]
     },
     "metadata": {},
     "output_type": "display_data"
    },
    {
     "name": "stdout",
     "output_type": "stream",
     "text": [
      "----------\n",
      "Scientific Name: Lycaena hermes\n",
      "Common Name: Hermes copper butterfly\n",
      "Lead FWS Region: R8\n",
      "ECOS Link: https://ecos.fws.gov/ecp/species/4379\n",
      "States where FWS range of states align with BISON occurrence data\n"
     ]
    },
    {
     "data": {
      "text/plain": [
       "['California']"
      ]
     },
     "metadata": {},
     "output_type": "display_data"
    },
    {
     "name": "stdout",
     "output_type": "stream",
     "text": [
      "Additional states where BISON records occurrence data\n"
     ]
    },
    {
     "data": {
      "text/plain": [
       "['Alaska', 'Arizona', 'Colorado', 'Florida', 'Pennsylvania', 'Texas']"
      ]
     },
     "metadata": {},
     "output_type": "display_data"
    },
    {
     "name": "stdout",
     "output_type": "stream",
     "text": [
      "----------\n",
      "Scientific Name: Optioservus phaeus\n",
      "Common Name: Scott Optioservus riffle beetle\n",
      "Lead FWS Region: R6\n",
      "ECOS Link: https://ecos.fws.gov/ecp/species/3057\n",
      "States where FWS range of states align with BISON occurrence data\n"
     ]
    },
    {
     "data": {
      "text/plain": [
       "['Kansas']"
      ]
     },
     "metadata": {},
     "output_type": "display_data"
    },
    {
     "name": "stdout",
     "output_type": "stream",
     "text": [
      "Additional states where BISON records occurrence data\n"
     ]
    },
    {
     "data": {
      "text/plain": [
       "['Alabama',\n",
       " 'Arizona',\n",
       " 'Arkansas',\n",
       " 'California',\n",
       " 'Colorado',\n",
       " 'Connecticut',\n",
       " 'Georgia',\n",
       " 'Idaho',\n",
       " 'Illinois',\n",
       " 'Indiana',\n",
       " 'Iowa',\n",
       " 'Maine',\n",
       " 'Maryland',\n",
       " 'Massachusetts',\n",
       " 'Michigan',\n",
       " 'Minnesota',\n",
       " 'Missouri',\n",
       " 'Montana',\n",
       " 'Nebraska',\n",
       " 'Nevada',\n",
       " 'New Hampshire',\n",
       " 'New Jersey',\n",
       " 'New Mexico',\n",
       " 'New York',\n",
       " 'North Carolina',\n",
       " 'North Dakota',\n",
       " 'Ohio',\n",
       " 'Oklahoma',\n",
       " 'Oregon',\n",
       " 'Pennsylvania',\n",
       " 'South Carolina',\n",
       " 'South Dakota',\n",
       " 'Tennessee',\n",
       " 'Utah',\n",
       " 'Vermont',\n",
       " 'Virginia',\n",
       " 'Washington',\n",
       " 'West Virginia',\n",
       " 'Wisconsin',\n",
       " 'Wyoming']"
      ]
     },
     "metadata": {},
     "output_type": "display_data"
    },
    {
     "name": "stdout",
     "output_type": "stream",
     "text": [
      "----------\n",
      "Scientific Name: Papaipema eryngii\n",
      "Common Name: rattlesnake-master borer moth\n",
      "Lead FWS Region: R3\n",
      "ECOS Link: https://ecos.fws.gov/ecp/species/7863\n",
      "States where FWS range of states align with BISON occurrence data\n"
     ]
    },
    {
     "data": {
      "text/plain": [
       "['Illinois', 'Kentucky']"
      ]
     },
     "metadata": {},
     "output_type": "display_data"
    },
    {
     "name": "stdout",
     "output_type": "stream",
     "text": [
      "States where FWS range of states had no BISON occurrence data\n"
     ]
    },
    {
     "data": {
      "text/plain": [
       "['Arkansas', 'Iowa', 'Missouri', 'North Carolina', 'Oklahoma']"
      ]
     },
     "metadata": {},
     "output_type": "display_data"
    },
    {
     "name": "stdout",
     "output_type": "stream",
     "text": [
      "Additional states where BISON records occurrence data\n"
     ]
    },
    {
     "data": {
      "text/plain": [
       "['California',\n",
       " 'Connecticut',\n",
       " 'Massachusetts',\n",
       " 'Nebraska',\n",
       " 'New Hampshire',\n",
       " 'New York',\n",
       " 'Oregon',\n",
       " 'Pennsylvania',\n",
       " 'Vermont',\n",
       " 'Wisconsin']"
      ]
     },
     "metadata": {},
     "output_type": "display_data"
    },
    {
     "name": "stdout",
     "output_type": "stream",
     "text": [
      "----------\n",
      "Scientific Name: Pseudanophthalmus avernus\n",
      "Common Name: Avernus cave beetle\n",
      "Lead FWS Region: R5\n",
      "ECOS Link: https://ecos.fws.gov/ecp0/profile/speciesProfile?spcode=I0J3\n",
      "States where FWS range of states align with BISON occurrence data\n"
     ]
    },
    {
     "data": {
      "text/plain": [
       "['Virginia']"
      ]
     },
     "metadata": {},
     "output_type": "display_data"
    },
    {
     "name": "stdout",
     "output_type": "stream",
     "text": [
      "Additional states where BISON records occurrence data\n"
     ]
    },
    {
     "data": {
      "text/plain": [
       "['Indiana', 'Maryland', 'Tennessee', 'West Virginia']"
      ]
     },
     "metadata": {},
     "output_type": "display_data"
    },
    {
     "name": "stdout",
     "output_type": "stream",
     "text": [
      "----------\n",
      "Scientific Name: Pseudanophthalmus cordicollis\n",
      "Common Name: Little Kennedy cave beetle\n",
      "Lead FWS Region: R5\n",
      "ECOS Link: https://ecos.fws.gov/ecp/species/6127\n",
      "States where FWS range of states align with BISON occurrence data\n"
     ]
    },
    {
     "data": {
      "text/plain": [
       "['Virginia']"
      ]
     },
     "metadata": {},
     "output_type": "display_data"
    },
    {
     "name": "stdout",
     "output_type": "stream",
     "text": [
      "Additional states where BISON records occurrence data\n"
     ]
    },
    {
     "data": {
      "text/plain": [
       "['Indiana', 'Maryland', 'Tennessee', 'West Virginia']"
      ]
     },
     "metadata": {},
     "output_type": "display_data"
    },
    {
     "name": "stdout",
     "output_type": "stream",
     "text": [
      "----------\n",
      "Scientific Name: Pseudanophthalmus egberti\n",
      "Common Name: Narrow Cave (New River Valley Cave) beetle\n",
      "Lead FWS Region: R5\n",
      "ECOS Link: https://ecos.fws.gov/ecp/species/2819\n",
      "States where FWS range of states align with BISON occurrence data\n"
     ]
    },
    {
     "data": {
      "text/plain": [
       "['Virginia']"
      ]
     },
     "metadata": {},
     "output_type": "display_data"
    },
    {
     "name": "stdout",
     "output_type": "stream",
     "text": [
      "Additional states where BISON records occurrence data\n"
     ]
    },
    {
     "data": {
      "text/plain": [
       "['Indiana', 'Maryland', 'Tennessee', 'West Virginia']"
      ]
     },
     "metadata": {},
     "output_type": "display_data"
    },
    {
     "name": "stdout",
     "output_type": "stream",
     "text": [
      "----------\n",
      "Scientific Name: Pseudanophthalmus hirsutus\n",
      "Common Name: Cudjo's (Cumberland Gap) Cave beetle\n",
      "Lead FWS Region: R5\n",
      "ECOS Link: https://ecos.fws.gov/ecp0/profile/speciesProfile?spcode=I0JH\n",
      "States where FWS range of states align with BISON occurrence data\n"
     ]
    },
    {
     "data": {
      "text/plain": [
       "['Tennessee', 'Virginia']"
      ]
     },
     "metadata": {},
     "output_type": "display_data"
    },
    {
     "name": "stdout",
     "output_type": "stream",
     "text": [
      "Additional states where BISON records occurrence data\n"
     ]
    },
    {
     "data": {
      "text/plain": [
       "['Indiana', 'Maryland', 'West Virginia']"
      ]
     },
     "metadata": {},
     "output_type": "display_data"
    },
    {
     "name": "stdout",
     "output_type": "stream",
     "text": [
      "----------\n",
      "Scientific Name: Pseudanophthalmus holsingeri\n",
      "Common Name: Holsinger's cave beetle\n",
      "Lead FWS Region: R5\n",
      "ECOS Link: https://ecos.fws.gov/ecp/species/6531\n",
      "States where FWS range of states align with BISON occurrence data\n"
     ]
    },
    {
     "data": {
      "text/plain": [
       "['Virginia']"
      ]
     },
     "metadata": {},
     "output_type": "display_data"
    },
    {
     "name": "stdout",
     "output_type": "stream",
     "text": [
      "Additional states where BISON records occurrence data\n"
     ]
    },
    {
     "data": {
      "text/plain": [
       "['Indiana', 'Maryland', 'Tennessee', 'West Virginia']"
      ]
     },
     "metadata": {},
     "output_type": "display_data"
    },
    {
     "name": "stdout",
     "output_type": "stream",
     "text": [
      "----------\n",
      "Scientific Name: Pseudanophthalmus hubbardi\n",
      "Common Name: Hubbard's cave beetle\n",
      "Lead FWS Region: R5\n",
      "ECOS Link: https://ecos.fws.gov/ecp/species/1411\n",
      "States where FWS range of states align with BISON occurrence data\n"
     ]
    },
    {
     "data": {
      "text/plain": [
       "['Virginia']"
      ]
     },
     "metadata": {},
     "output_type": "display_data"
    },
    {
     "name": "stdout",
     "output_type": "stream",
     "text": [
      "Additional states where BISON records occurrence data\n"
     ]
    },
    {
     "data": {
      "text/plain": [
       "['Indiana', 'Maryland', 'Tennessee', 'West Virginia']"
      ]
     },
     "metadata": {},
     "output_type": "display_data"
    },
    {
     "name": "stdout",
     "output_type": "stream",
     "text": [
      "----------\n",
      "Scientific Name: Pseudanophthalmus hubrichti\n",
      "Common Name: Hubricht's cave beetle\n",
      "Lead FWS Region: R5\n",
      "ECOS Link: https://ecos.fws.gov/ecp/species/3401\n",
      "States where FWS range of states align with BISON occurrence data\n"
     ]
    },
    {
     "data": {
      "text/plain": [
       "['Virginia']"
      ]
     },
     "metadata": {},
     "output_type": "display_data"
    },
    {
     "name": "stdout",
     "output_type": "stream",
     "text": [
      "Additional states where BISON records occurrence data\n"
     ]
    },
    {
     "data": {
      "text/plain": [
       "['Indiana', 'Maryland', 'Tennessee', 'West Virginia']"
      ]
     },
     "metadata": {},
     "output_type": "display_data"
    },
    {
     "name": "stdout",
     "output_type": "stream",
     "text": [
      "----------\n",
      "Scientific Name: Pseudanophthalmus intersectus\n",
      "Common Name: Crossroads cave beetle\n",
      "Lead FWS Region: R5\n",
      "ECOS Link: https://ecos.fws.gov/ecp/species/6128\n",
      "States where FWS range of states align with BISON occurrence data\n"
     ]
    },
    {
     "data": {
      "text/plain": [
       "['Virginia']"
      ]
     },
     "metadata": {},
     "output_type": "display_data"
    },
    {
     "name": "stdout",
     "output_type": "stream",
     "text": [
      "Additional states where BISON records occurrence data\n"
     ]
    },
    {
     "data": {
      "text/plain": [
       "['Indiana', 'Maryland', 'Tennessee', 'West Virginia']"
      ]
     },
     "metadata": {},
     "output_type": "display_data"
    },
    {
     "name": "stdout",
     "output_type": "stream",
     "text": [
      "----------\n",
      "Scientific Name: Pseudanophthalmus limicola\n",
      "Common Name: Shenandoah (Madden's) Cave beetle\n",
      "Lead FWS Region: R5\n",
      "ECOS Link: https://ecos.fws.gov/ecp/species/6075\n",
      "States where FWS range of states align with BISON occurrence data\n"
     ]
    },
    {
     "data": {
      "text/plain": [
       "['Virginia']"
      ]
     },
     "metadata": {},
     "output_type": "display_data"
    },
    {
     "name": "stdout",
     "output_type": "stream",
     "text": [
      "Additional states where BISON records occurrence data\n"
     ]
    },
    {
     "data": {
      "text/plain": [
       "['Indiana', 'Maryland', 'Tennessee', 'West Virginia']"
      ]
     },
     "metadata": {},
     "output_type": "display_data"
    },
    {
     "name": "stdout",
     "output_type": "stream",
     "text": [
      "----------\n",
      "Scientific Name: Pseudanophthalmus montanus\n",
      "Common Name: Dry Fork Valley cave beetle\n",
      "Lead FWS Region: R5\n",
      "ECOS Link: https://ecos.fws.gov/ecp/species/3142\n",
      "States where FWS range of states align with BISON occurrence data\n"
     ]
    },
    {
     "data": {
      "text/plain": [
       "['West Virginia']"
      ]
     },
     "metadata": {},
     "output_type": "display_data"
    },
    {
     "name": "stdout",
     "output_type": "stream",
     "text": [
      "Additional states where BISON records occurrence data\n"
     ]
    },
    {
     "data": {
      "text/plain": [
       "['Indiana', 'Maryland', 'Tennessee', 'Virginia']"
      ]
     },
     "metadata": {},
     "output_type": "display_data"
    },
    {
     "name": "stdout",
     "output_type": "stream",
     "text": [
      "----------\n",
      "Scientific Name: Pseudanophthalmus parvicollis\n",
      "Common Name: thin-necked cave beetle\n",
      "Lead FWS Region: R5\n",
      "ECOS Link: https://ecos.fws.gov/ecp/species/8016\n",
      "States where FWS range of states align with BISON occurrence data\n"
     ]
    },
    {
     "data": {
      "text/plain": [
       "['Virginia']"
      ]
     },
     "metadata": {},
     "output_type": "display_data"
    },
    {
     "name": "stdout",
     "output_type": "stream",
     "text": [
      "Additional states where BISON records occurrence data\n"
     ]
    },
    {
     "data": {
      "text/plain": [
       "['Indiana', 'Maryland', 'Tennessee', 'West Virginia']"
      ]
     },
     "metadata": {},
     "output_type": "display_data"
    },
    {
     "name": "stdout",
     "output_type": "stream",
     "text": [
      "----------\n",
      "Scientific Name: Pseudanophthalmus pontis\n",
      "Common Name: Natural Bridge cave beetle\n",
      "Lead FWS Region: R5\n",
      "ECOS Link: https://ecos.fws.gov/ecp/species/8223\n",
      "States where FWS range of states align with BISON occurrence data\n"
     ]
    },
    {
     "data": {
      "text/plain": [
       "['Virginia']"
      ]
     },
     "metadata": {},
     "output_type": "display_data"
    },
    {
     "name": "stdout",
     "output_type": "stream",
     "text": [
      "Additional states where BISON records occurrence data\n"
     ]
    },
    {
     "data": {
      "text/plain": [
       "['Indiana', 'Maryland', 'Tennessee', 'West Virginia']"
      ]
     },
     "metadata": {},
     "output_type": "display_data"
    },
    {
     "name": "stdout",
     "output_type": "stream",
     "text": [
      "----------\n",
      "Scientific Name: Pseudanophthalmus potomaca potomaca\n",
      "Common Name: South Branch Valley cave beetle\n",
      "Lead FWS Region: R5\n",
      "ECOS Link: https://ecos.fws.gov/ecp/species/1791\n",
      "States where FWS range of states align with BISON occurrence data\n"
     ]
    },
    {
     "data": {
      "text/plain": [
       "['Virginia', 'West Virginia']"
      ]
     },
     "metadata": {},
     "output_type": "display_data"
    },
    {
     "name": "stdout",
     "output_type": "stream",
     "text": [
      "Additional states where BISON records occurrence data\n"
     ]
    },
    {
     "data": {
      "text/plain": [
       "['Indiana', 'Maryland', 'Tennessee']"
      ]
     },
     "metadata": {},
     "output_type": "display_data"
    },
    {
     "name": "stdout",
     "output_type": "stream",
     "text": [
      "----------\n",
      "Scientific Name: Pseudanophthalmus praetermissus\n",
      "Common Name: overlooked cave beetle\n",
      "Lead FWS Region: R5\n",
      "ECOS Link: https://ecos.fws.gov/ecp/species/7174\n",
      "States where FWS range of states align with BISON occurrence data\n"
     ]
    },
    {
     "data": {
      "text/plain": [
       "['Virginia']"
      ]
     },
     "metadata": {},
     "output_type": "display_data"
    },
    {
     "name": "stdout",
     "output_type": "stream",
     "text": [
      "Additional states where BISON records occurrence data\n"
     ]
    },
    {
     "data": {
      "text/plain": [
       "['Indiana', 'Maryland', 'Tennessee', 'West Virginia']"
      ]
     },
     "metadata": {},
     "output_type": "display_data"
    },
    {
     "name": "stdout",
     "output_type": "stream",
     "text": [
      "----------\n",
      "Scientific Name: Pseudanophthalmus sanctipauli\n",
      "Common Name: Saint Paul cave beetle\n",
      "Lead FWS Region: R5\n",
      "ECOS Link: https://ecos.fws.gov/ecp/species/8537\n",
      "States where FWS range of states align with BISON occurrence data\n"
     ]
    },
    {
     "data": {
      "text/plain": [
       "['Virginia']"
      ]
     },
     "metadata": {},
     "output_type": "display_data"
    },
    {
     "name": "stdout",
     "output_type": "stream",
     "text": [
      "Additional states where BISON records occurrence data\n"
     ]
    },
    {
     "data": {
      "text/plain": [
       "['Indiana', 'Maryland', 'Tennessee', 'West Virginia']"
      ]
     },
     "metadata": {},
     "output_type": "display_data"
    },
    {
     "name": "stdout",
     "output_type": "stream",
     "text": [
      "----------\n",
      "Scientific Name: Pseudanophthalmus sericus\n",
      "Common Name: silken cave beetle\n",
      "Lead FWS Region: R5\n",
      "ECOS Link: https://ecos.fws.gov/ecp/species/5059\n",
      "States where FWS range of states align with BISON occurrence data\n"
     ]
    },
    {
     "data": {
      "text/plain": [
       "['Virginia']"
      ]
     },
     "metadata": {},
     "output_type": "display_data"
    },
    {
     "name": "stdout",
     "output_type": "stream",
     "text": [
      "Additional states where BISON records occurrence data\n"
     ]
    },
    {
     "data": {
      "text/plain": [
       "['Indiana', 'Maryland', 'Tennessee', 'West Virginia']"
      ]
     },
     "metadata": {},
     "output_type": "display_data"
    },
    {
     "name": "stdout",
     "output_type": "stream",
     "text": [
      "----------\n",
      "Scientific Name: Pseudanophthalmus thomasi\n",
      "Common Name: Thomas' cave beetle\n",
      "Lead FWS Region: R5\n",
      "ECOS Link: https://ecos.fws.gov/ecp/species/7025\n",
      "States where FWS range of states align with BISON occurrence data\n"
     ]
    },
    {
     "data": {
      "text/plain": [
       "['Virginia']"
      ]
     },
     "metadata": {},
     "output_type": "display_data"
    },
    {
     "name": "stdout",
     "output_type": "stream",
     "text": [
      "Additional states where BISON records occurrence data\n"
     ]
    },
    {
     "data": {
      "text/plain": [
       "['Indiana', 'Maryland', 'Tennessee', 'West Virginia']"
      ]
     },
     "metadata": {},
     "output_type": "display_data"
    },
    {
     "name": "stdout",
     "output_type": "stream",
     "text": [
      "----------\n",
      "Scientific Name: Pseudanophthalmus virginicus\n",
      "Common Name: Maiden Spring cave beetle\n",
      "Lead FWS Region: R5\n",
      "ECOS Link: https://ecos.fws.gov/ecp/species/5654\n",
      "States where FWS range of states align with BISON occurrence data\n"
     ]
    },
    {
     "data": {
      "text/plain": [
       "['Virginia']"
      ]
     },
     "metadata": {},
     "output_type": "display_data"
    },
    {
     "name": "stdout",
     "output_type": "stream",
     "text": [
      "Additional states where BISON records occurrence data\n"
     ]
    },
    {
     "data": {
      "text/plain": [
       "['Indiana', 'Maryland', 'Tennessee', 'West Virginia']"
      ]
     },
     "metadata": {},
     "output_type": "display_data"
    },
    {
     "name": "stdout",
     "output_type": "stream",
     "text": [
      "----------\n",
      "Scientific Name: Remenus kirchneri\n",
      "Common Name: Blueridge springfly\n",
      "Lead FWS Region: R5\n",
      "ECOS Link: https://ecos.fws.gov/ecp/species/9869\n",
      "States where FWS range of states had no BISON occurrence data\n"
     ]
    },
    {
     "data": {
      "text/plain": [
       "['Virginia']"
      ]
     },
     "metadata": {},
     "output_type": "display_data"
    },
    {
     "name": "stdout",
     "output_type": "stream",
     "text": [
      "Additional states where BISON records occurrence data\n"
     ]
    },
    {
     "data": {
      "text/plain": [
       "['Georgia', 'Pennsylvania']"
      ]
     },
     "metadata": {},
     "output_type": "display_data"
    },
    {
     "name": "stdout",
     "output_type": "stream",
     "text": [
      "----------\n",
      "Scientific Name: Rhaphiomidas trochilus\n",
      "Common Name: San Joaquin Valley giant flower-loving fly\n",
      "Lead FWS Region: R8\n",
      "ECOS Link: https://ecos.fws.gov/ecp/species/218\n",
      "States where FWS range of states had no BISON occurrence data\n"
     ]
    },
    {
     "data": {
      "text/plain": [
       "['California']"
      ]
     },
     "metadata": {},
     "output_type": "display_data"
    },
    {
     "name": "stdout",
     "output_type": "stream",
     "text": [
      "----------\n",
      "Scientific Name: Somatochlora margarita\n",
      "Common Name: Big Thicket Texas emerald\n",
      "Lead FWS Region: R2\n",
      "ECOS Link: https://ecos.fws.gov/ecp/species/7553\n",
      "States where FWS range of states had no BISON occurrence data\n"
     ]
    },
    {
     "data": {
      "text/plain": [
       "['Louisiana', 'Texas']"
      ]
     },
     "metadata": {},
     "output_type": "display_data"
    },
    {
     "name": "stdout",
     "output_type": "stream",
     "text": [
      "Additional states where BISON records occurrence data\n"
     ]
    },
    {
     "data": {
      "text/plain": [
       "['Alaska',\n",
       " 'Arkansas',\n",
       " 'Colorado',\n",
       " 'Florida',\n",
       " 'Georgia',\n",
       " 'Illinois',\n",
       " 'Kansas',\n",
       " 'Minnesota',\n",
       " 'Mississippi',\n",
       " 'North Carolina',\n",
       " 'South Carolina',\n",
       " 'Virginia',\n",
       " 'Wisconsin',\n",
       " 'Wyoming']"
      ]
     },
     "metadata": {},
     "output_type": "display_data"
    },
    {
     "name": "stdout",
     "output_type": "stream",
     "text": [
      "----------\n",
      "Scientific Name: Speyeria idalia\n",
      "Common Name: regal fritillary\n",
      "Lead FWS Region: R6\n",
      "ECOS Link: https://ecos.fws.gov/ecp/species/8145\n",
      "States where FWS range of states align with BISON occurrence data\n"
     ]
    },
    {
     "data": {
      "text/plain": [
       "['Colorado',\n",
       " 'Iowa',\n",
       " 'Illinois',\n",
       " 'Maine',\n",
       " 'Michigan',\n",
       " 'North Dakota',\n",
       " 'Nebraska',\n",
       " 'South Dakota',\n",
       " 'Vermont',\n",
       " 'West Virginia',\n",
       " 'Wyoming']"
      ]
     },
     "metadata": {},
     "output_type": "display_data"
    },
    {
     "name": "stdout",
     "output_type": "stream",
     "text": [
      "States where FWS range of states had no BISON occurrence data\n"
     ]
    },
    {
     "data": {
      "text/plain": [
       "['Arkansas',\n",
       " 'Connecticut',\n",
       " 'Delaware',\n",
       " 'Indiana',\n",
       " 'Kansas',\n",
       " 'Kentucky',\n",
       " 'Massachusetts',\n",
       " 'Maryland',\n",
       " 'Minnesota',\n",
       " 'Missouri',\n",
       " 'North Carolina',\n",
       " 'New Hampshire',\n",
       " 'New Jersey',\n",
       " 'New York',\n",
       " 'Ohio',\n",
       " 'Oklahoma',\n",
       " 'Pennsylvania',\n",
       " 'Rhode Island',\n",
       " 'Virginia',\n",
       " 'Wisconsin']"
      ]
     },
     "metadata": {},
     "output_type": "display_data"
    },
    {
     "name": "stdout",
     "output_type": "stream",
     "text": [
      "Additional states where BISON records occurrence data\n"
     ]
    },
    {
     "data": {
      "text/plain": [
       "['California',\n",
       " 'Idaho',\n",
       " 'Montana',\n",
       " 'New Mexico',\n",
       " 'Oregon',\n",
       " 'Utah',\n",
       " 'Washington']"
      ]
     },
     "metadata": {},
     "output_type": "display_data"
    },
    {
     "name": "stdout",
     "output_type": "stream",
     "text": [
      "----------\n",
      "Scientific Name: Speyeria nokomis nokomis\n",
      "Common Name: Great Basin silverspot\n",
      "Lead FWS Region: R6\n",
      "ECOS Link: https://ecos.fws.gov/ecp/species/2813\n",
      "States where FWS range of states align with BISON occurrence data\n"
     ]
    },
    {
     "data": {
      "text/plain": [
       "['Colorado', 'New Mexico', 'Utah']"
      ]
     },
     "metadata": {},
     "output_type": "display_data"
    },
    {
     "name": "stdout",
     "output_type": "stream",
     "text": [
      "States where FWS range of states had no BISON occurrence data\n"
     ]
    },
    {
     "data": {
      "text/plain": [
       "['Arizona']"
      ]
     },
     "metadata": {},
     "output_type": "display_data"
    },
    {
     "name": "stdout",
     "output_type": "stream",
     "text": [
      "Additional states where BISON records occurrence data\n"
     ]
    },
    {
     "data": {
      "text/plain": [
       "['California',\n",
       " 'Idaho',\n",
       " 'Illinois',\n",
       " 'Iowa',\n",
       " 'Maine',\n",
       " 'Michigan',\n",
       " 'Montana',\n",
       " 'Nebraska',\n",
       " 'North Dakota',\n",
       " 'Oregon',\n",
       " 'South Dakota',\n",
       " 'Vermont',\n",
       " 'Washington',\n",
       " 'West Virginia',\n",
       " 'Wyoming']"
      ]
     },
     "metadata": {},
     "output_type": "display_data"
    },
    {
     "name": "stdout",
     "output_type": "stream",
     "text": [
      "----------\n",
      "Scientific Name: Tallaperla lobata\n",
      "Common Name: lobed roachfly\n",
      "Lead FWS Region: R5\n",
      "ECOS Link: https://ecos.fws.gov/ecp/species/9924\n",
      "States where FWS range of states align with BISON occurrence data\n"
     ]
    },
    {
     "data": {
      "text/plain": [
       "['Virginia']"
      ]
     },
     "metadata": {},
     "output_type": "display_data"
    },
    {
     "name": "stdout",
     "output_type": "stream",
     "text": [
      "Additional states where BISON records occurrence data\n"
     ]
    },
    {
     "data": {
      "text/plain": [
       "['Connecticut',\n",
       " 'Georgia',\n",
       " 'Kansas',\n",
       " 'Maryland',\n",
       " 'Massachusetts',\n",
       " 'New Hampshire',\n",
       " 'New Jersey',\n",
       " 'New York',\n",
       " 'North Carolina',\n",
       " 'Pennsylvania',\n",
       " 'South Carolina',\n",
       " 'Tennessee',\n",
       " 'West Virginia']"
      ]
     },
     "metadata": {},
     "output_type": "display_data"
    },
    {
     "name": "stdout",
     "output_type": "stream",
     "text": [
      "----------\n",
      "Scientific Name: Alces alces andersoni\n",
      "Common Name: northwestern moose\n",
      "Lead FWS Region: R3\n",
      "ECOS Link: nan\n",
      "States where FWS range of states align with BISON occurrence data\n"
     ]
    },
    {
     "data": {
      "text/plain": [
       "['Minnesota']"
      ]
     },
     "metadata": {},
     "output_type": "display_data"
    },
    {
     "name": "stdout",
     "output_type": "stream",
     "text": [
      "States where FWS range of states had no BISON occurrence data\n"
     ]
    },
    {
     "data": {
      "text/plain": [
       "['Michigan', 'North Dakota', 'Wisconsin']"
      ]
     },
     "metadata": {},
     "output_type": "display_data"
    },
    {
     "name": "stdout",
     "output_type": "stream",
     "text": [
      "Additional states where BISON records occurrence data\n"
     ]
    },
    {
     "data": {
      "text/plain": [
       "['Alaska']"
      ]
     },
     "metadata": {},
     "output_type": "display_data"
    },
    {
     "name": "stdout",
     "output_type": "stream",
     "text": [
      "----------\n",
      "Scientific Name: Arborimus longicaudus\n",
      "Common Name: red tree vole\n",
      "Lead FWS Region: R1\n",
      "ECOS Link: https://ecos.fws.gov/ecp0/profile/speciesProfile?spcode=A0J3\n",
      "States where FWS range of states had no BISON occurrence data\n"
     ]
    },
    {
     "data": {
      "text/plain": [
       "['Oregon']"
      ]
     },
     "metadata": {},
     "output_type": "display_data"
    },
    {
     "name": "stdout",
     "output_type": "stream",
     "text": [
      "Additional states where BISON records occurrence data\n"
     ]
    },
    {
     "data": {
      "text/plain": [
       "['California', 'Washington']"
      ]
     },
     "metadata": {},
     "output_type": "display_data"
    },
    {
     "name": "stdout",
     "output_type": "stream",
     "text": [
      "----------\n",
      "Scientific Name: Cynomys leucurus\n",
      "Common Name: white-tailed prairie dog\n",
      "Lead FWS Region: R6\n",
      "ECOS Link: https://ecos.fws.gov/ecp/species/7401\n",
      "States where FWS range of states align with BISON occurrence data\n"
     ]
    },
    {
     "data": {
      "text/plain": [
       "['Colorado', 'Montana', 'Utah', 'Wyoming']"
      ]
     },
     "metadata": {},
     "output_type": "display_data"
    },
    {
     "name": "stdout",
     "output_type": "stream",
     "text": [
      "Additional states where BISON records occurrence data\n"
     ]
    },
    {
     "data": {
      "text/plain": [
       "['Arizona',\n",
       " 'Kansas',\n",
       " 'Nebraska',\n",
       " 'New Mexico',\n",
       " 'New York',\n",
       " 'North Dakota',\n",
       " 'Oklahoma',\n",
       " 'South Dakota',\n",
       " 'Texas']"
      ]
     },
     "metadata": {},
     "output_type": "display_data"
    },
    {
     "name": "stdout",
     "output_type": "stream",
     "text": [
      "----------\n",
      "Scientific Name: Dipodomys elator\n",
      "Common Name: Texas kangaroo rat\n",
      "Lead FWS Region: R2\n",
      "ECOS Link: https://ecos.fws.gov/ecp/species/2985\n",
      "States where FWS range of states align with BISON occurrence data\n"
     ]
    },
    {
     "data": {
      "text/plain": [
       "['Texas']"
      ]
     },
     "metadata": {},
     "output_type": "display_data"
    },
    {
     "name": "stdout",
     "output_type": "stream",
     "text": [
      "Additional states where BISON records occurrence data\n"
     ]
    },
    {
     "data": {
      "text/plain": [
       "['Arizona',\n",
       " 'California',\n",
       " 'Colorado',\n",
       " 'Idaho',\n",
       " 'Kansas',\n",
       " 'Nebraska',\n",
       " 'Nevada',\n",
       " 'New Mexico',\n",
       " 'Oklahoma',\n",
       " 'Oregon',\n",
       " 'South Dakota',\n",
       " 'Utah',\n",
       " 'Washington',\n",
       " 'Wyoming']"
      ]
     },
     "metadata": {},
     "output_type": "display_data"
    },
    {
     "name": "stdout",
     "output_type": "stream",
     "text": [
      "----------\n",
      "Scientific Name: Gulo gulo luscus\n",
      "Common Name: wolverine\n",
      "Lead FWS Region: R6\n",
      "ECOS Link: https://ecos.fws.gov/ecp/species/5123\n",
      "States where FWS range of states had no BISON occurrence data\n"
     ]
    },
    {
     "data": {
      "text/plain": [
       "['California',\n",
       " 'Colorado',\n",
       " 'Idaho',\n",
       " 'Montana',\n",
       " 'Nevada',\n",
       " 'New Mexico',\n",
       " 'Oregon',\n",
       " 'Utah',\n",
       " 'Washington',\n",
       " 'Wyoming']"
      ]
     },
     "metadata": {},
     "output_type": "display_data"
    },
    {
     "name": "stdout",
     "output_type": "stream",
     "text": [
      "Additional states where BISON records occurrence data\n"
     ]
    },
    {
     "data": {
      "text/plain": [
       "['Alaska', 'Minnesota']"
      ]
     },
     "metadata": {},
     "output_type": "display_data"
    },
    {
     "name": "stdout",
     "output_type": "stream",
     "text": [
      "----------\n",
      "Scientific Name: Martes pennanti\n",
      "Common Name: Fisher (Northern Rocky Mountains population)\n",
      "Lead FWS Region: R6\n",
      "ECOS Link: https://ecos.fws.gov/ecp/species/3651\n",
      "States where FWS range of states align with BISON occurrence data\n"
     ]
    },
    {
     "data": {
      "text/plain": [
       "['Idaho']"
      ]
     },
     "metadata": {},
     "output_type": "display_data"
    },
    {
     "name": "stdout",
     "output_type": "stream",
     "text": [
      "States where FWS range of states had no BISON occurrence data\n"
     ]
    },
    {
     "data": {
      "text/plain": [
       "['Montana']"
      ]
     },
     "metadata": {},
     "output_type": "display_data"
    },
    {
     "name": "stdout",
     "output_type": "stream",
     "text": [
      "Additional states where BISON records occurrence data\n"
     ]
    },
    {
     "data": {
      "text/plain": [
       "['Alaska',\n",
       " 'Arizona',\n",
       " 'Arkansas',\n",
       " 'Colorado',\n",
       " 'Maryland',\n",
       " 'Minnesota',\n",
       " 'Nebraska',\n",
       " 'New Hampshire',\n",
       " 'New Mexico',\n",
       " 'New York',\n",
       " 'Oregon',\n",
       " 'Pennsylvania',\n",
       " 'Texas',\n",
       " 'Vermont',\n",
       " 'Wyoming']"
      ]
     },
     "metadata": {},
     "output_type": "display_data"
    },
    {
     "name": "stdout",
     "output_type": "stream",
     "text": [
      "----------\n",
      "Scientific Name: Myotis lucifugus\n",
      "Common Name: little brown bat\n",
      "Lead FWS Region: R3\n",
      "ECOS Link: https://ecos.fws.gov/ecp/species/9051\n",
      "States where FWS range of states align with BISON occurrence data\n"
     ]
    },
    {
     "data": {
      "text/plain": [
       "['Alaska',\n",
       " 'Alabama',\n",
       " 'Arkansas',\n",
       " 'California',\n",
       " 'Colorado',\n",
       " 'Connecticut',\n",
       " 'Florida',\n",
       " 'Georgia',\n",
       " 'Iowa',\n",
       " 'Idaho',\n",
       " 'Illinois',\n",
       " 'Indiana',\n",
       " 'Kansas',\n",
       " 'Kentucky',\n",
       " 'Massachusetts',\n",
       " 'Maryland',\n",
       " 'Maine',\n",
       " 'Michigan',\n",
       " 'Minnesota',\n",
       " 'Missouri',\n",
       " 'North Carolina',\n",
       " 'North Dakota',\n",
       " 'Nebraska',\n",
       " 'New Hampshire',\n",
       " 'New Mexico',\n",
       " 'Nevada',\n",
       " 'New York',\n",
       " 'Ohio',\n",
       " 'Oklahoma',\n",
       " 'Oregon',\n",
       " 'Pennsylvania',\n",
       " 'South Dakota',\n",
       " 'Tennessee',\n",
       " 'Virginia',\n",
       " 'Vermont',\n",
       " 'Washington',\n",
       " 'Wisconsin',\n",
       " 'West Virginia',\n",
       " 'Wyoming']"
      ]
     },
     "metadata": {},
     "output_type": "display_data"
    },
    {
     "name": "stdout",
     "output_type": "stream",
     "text": [
      "States where FWS range of states had no BISON occurrence data\n"
     ]
    },
    {
     "data": {
      "text/plain": [
       "['District of Columbia',\n",
       " 'Delaware',\n",
       " 'Mississippi',\n",
       " 'Montana',\n",
       " 'New Jersey',\n",
       " 'Rhode Island',\n",
       " 'South Carolina',\n",
       " 'Utah']"
      ]
     },
     "metadata": {},
     "output_type": "display_data"
    },
    {
     "name": "stdout",
     "output_type": "stream",
     "text": [
      "Additional states where BISON records occurrence data\n"
     ]
    },
    {
     "data": {
      "text/plain": [
       "['Arizona', 'Hawaii', 'Texas']"
      ]
     },
     "metadata": {},
     "output_type": "display_data"
    },
    {
     "name": "stdout",
     "output_type": "stream",
     "text": [
      "----------\n",
      "Scientific Name: Odobenus rosmarus divergens\n",
      "Common Name: Pacific walrus\n",
      "Lead FWS Region: R7\n",
      "ECOS Link: https://ecos.fws.gov/ecp/species/8791\n",
      "States where FWS range of states align with BISON occurrence data\n"
     ]
    },
    {
     "data": {
      "text/plain": [
       "['Alaska']"
      ]
     },
     "metadata": {},
     "output_type": "display_data"
    },
    {
     "name": "stdout",
     "output_type": "stream",
     "text": [
      "Additional states where BISON records occurrence data\n"
     ]
    },
    {
     "data": {
      "text/plain": [
       "['Massachusetts', 'South Carolina']"
      ]
     },
     "metadata": {},
     "output_type": "display_data"
    },
    {
     "name": "stdout",
     "output_type": "stream",
     "text": [
      "----------\n",
      "Scientific Name: Spilogale putorius interrupta\n",
      "Common Name: plains spotted skunk\n",
      "Lead FWS Region: R3\n",
      "ECOS Link: https://ecos.fws.gov/ecp/species/2984\n",
      "States where FWS range of states align with BISON occurrence data\n"
     ]
    },
    {
     "data": {
      "text/plain": [
       "['Colorado', 'Minnesota', 'Oklahoma', 'Texas']"
      ]
     },
     "metadata": {},
     "output_type": "display_data"
    },
    {
     "name": "stdout",
     "output_type": "stream",
     "text": [
      "States where FWS range of states had no BISON occurrence data\n"
     ]
    },
    {
     "data": {
      "text/plain": [
       "['Arkansas', 'Missouri', 'Nebraska', 'South Dakota', 'Wyoming']"
      ]
     },
     "metadata": {},
     "output_type": "display_data"
    },
    {
     "name": "stdout",
     "output_type": "stream",
     "text": [
      "Additional states where BISON records occurrence data\n"
     ]
    },
    {
     "data": {
      "text/plain": [
       "['Alabama',\n",
       " 'Arizona',\n",
       " 'California',\n",
       " 'Florida',\n",
       " 'Mississippi',\n",
       " 'New Mexico',\n",
       " 'North Carolina',\n",
       " 'Washington']"
      ]
     },
     "metadata": {},
     "output_type": "display_data"
    },
    {
     "name": "stdout",
     "output_type": "stream",
     "text": [
      "----------\n",
      "Scientific Name: Tamias minimus atristriatus\n",
      "Common Name: Penasco least chipmunk\n",
      "Lead FWS Region: R2\n",
      "ECOS Link: https://ecos.fws.gov/ecp/species/5126\n",
      "States where FWS range of states align with BISON occurrence data\n"
     ]
    },
    {
     "data": {
      "text/plain": [
       "['New Mexico']"
      ]
     },
     "metadata": {},
     "output_type": "display_data"
    },
    {
     "name": "stdout",
     "output_type": "stream",
     "text": [
      "Additional states where BISON records occurrence data\n"
     ]
    },
    {
     "data": {
      "text/plain": [
       "['Alabama',\n",
       " 'Arizona',\n",
       " 'California',\n",
       " 'Colorado',\n",
       " 'Connecticut',\n",
       " 'Florida',\n",
       " 'Georgia',\n",
       " 'Idaho',\n",
       " 'Illinois',\n",
       " 'Iowa',\n",
       " 'Louisiana',\n",
       " 'Maine',\n",
       " 'Maryland',\n",
       " 'Massachusetts',\n",
       " 'Michigan',\n",
       " 'Minnesota',\n",
       " 'Montana',\n",
       " 'Nebraska',\n",
       " 'Nevada',\n",
       " 'New Jersey',\n",
       " 'New York',\n",
       " 'North Dakota',\n",
       " 'Ohio',\n",
       " 'Oklahoma',\n",
       " 'Oregon',\n",
       " 'Pennsylvania',\n",
       " 'South Carolina',\n",
       " 'South Dakota',\n",
       " 'Texas',\n",
       " 'Utah',\n",
       " 'Vermont',\n",
       " 'Virginia',\n",
       " 'Washington',\n",
       " 'Wisconsin',\n",
       " 'Wyoming']"
      ]
     },
     "metadata": {},
     "output_type": "display_data"
    },
    {
     "name": "stdout",
     "output_type": "stream",
     "text": [
      "----------\n",
      "Scientific Name: Vulpes vulpes necator\n",
      "Common Name: Sierra Nevada red fox\n",
      "Lead FWS Region: R8\n",
      "ECOS Link: https://ecos.fws.gov/ecp/species/4252\n",
      "States where FWS range of states align with BISON occurrence data\n"
     ]
    },
    {
     "data": {
      "text/plain": [
       "['California', 'Oregon']"
      ]
     },
     "metadata": {},
     "output_type": "display_data"
    },
    {
     "name": "stdout",
     "output_type": "stream",
     "text": [
      "Additional states where BISON records occurrence data\n"
     ]
    },
    {
     "data": {
      "text/plain": [
       "['Alaska',\n",
       " 'Arizona',\n",
       " 'Arkansas',\n",
       " 'Florida',\n",
       " 'Georgia',\n",
       " 'Idaho',\n",
       " 'Indiana',\n",
       " 'Iowa',\n",
       " 'Kansas',\n",
       " 'Maine',\n",
       " 'Massachusetts',\n",
       " 'Minnesota',\n",
       " 'Nebraska',\n",
       " 'Nevada',\n",
       " 'New Mexico',\n",
       " 'New York',\n",
       " 'North Dakota',\n",
       " 'South Dakota',\n",
       " 'Texas',\n",
       " 'Vermont',\n",
       " 'Wisconsin']"
      ]
     },
     "metadata": {},
     "output_type": "display_data"
    },
    {
     "name": "stdout",
     "output_type": "stream",
     "text": [
      "----------\n",
      "Scientific Name: Donrichardsonia macroneuron\n",
      "Common Name: Donrichardsonia macroneuron (unnamed moss)\n",
      "Lead FWS Region: R2\n",
      "ECOS Link: nan\n",
      "States where FWS range of states had no BISON occurrence data\n"
     ]
    },
    {
     "data": {
      "text/plain": [
       "['Texas']"
      ]
     },
     "metadata": {},
     "output_type": "display_data"
    },
    {
     "name": "stdout",
     "output_type": "stream",
     "text": [
      "----------\n",
      "Scientific Name: Megaceros aenigmaticus\n",
      "Common Name: hornwort\n",
      "Lead FWS Region: R4\n",
      "ECOS Link: https://ecos.fws.gov/ecp0/profile/speciesProfile?spcode=S02V\n",
      "States where FWS range of states had no BISON occurrence data\n"
     ]
    },
    {
     "data": {
      "text/plain": [
       "['Georgia', 'North Carolina', 'Tennessee']"
      ]
     },
     "metadata": {},
     "output_type": "display_data"
    },
    {
     "name": "stdout",
     "output_type": "stream",
     "text": [
      "Additional states where BISON records occurrence data\n"
     ]
    },
    {
     "data": {
      "text/plain": [
       "['Hawaii']"
      ]
     },
     "metadata": {},
     "output_type": "display_data"
    },
    {
     "name": "stdout",
     "output_type": "stream",
     "text": [
      "----------\n",
      "Scientific Name: Plagiochila caduciloba\n",
      "Common Name: Gorge leafy liverwort\n",
      "Lead FWS Region: R4\n",
      "ECOS Link: https://ecos.fws.gov/ecp/species/8100\n",
      "States where FWS range of states align with BISON occurrence data\n"
     ]
    },
    {
     "data": {
      "text/plain": [
       "['North Carolina']"
      ]
     },
     "metadata": {},
     "output_type": "display_data"
    },
    {
     "name": "stdout",
     "output_type": "stream",
     "text": [
      "Additional states where BISON records occurrence data\n"
     ]
    },
    {
     "data": {
      "text/plain": [
       "['Alaska',\n",
       " 'Arkansas',\n",
       " 'Florida',\n",
       " 'Georgia',\n",
       " 'Hawaii',\n",
       " 'Idaho',\n",
       " 'Illinois',\n",
       " 'Louisiana',\n",
       " 'Maine',\n",
       " 'Massachusetts',\n",
       " 'Michigan',\n",
       " 'Minnesota',\n",
       " 'Montana',\n",
       " 'New Hampshire',\n",
       " 'New Mexico',\n",
       " 'New York',\n",
       " 'Oklahoma',\n",
       " 'Oregon',\n",
       " 'Puerto Rico',\n",
       " 'South Carolina',\n",
       " 'Tennessee',\n",
       " 'Virginia',\n",
       " 'Washington',\n",
       " 'West Virginia',\n",
       " 'Wyoming']"
      ]
     },
     "metadata": {},
     "output_type": "display_data"
    },
    {
     "name": "stdout",
     "output_type": "stream",
     "text": [
      "----------\n",
      "Scientific Name: Actinemys marmorata\n",
      "Common Name: western pond turtle\n",
      "Lead FWS Region: R8\n",
      "ECOS Link: https://ecos.fws.gov/ecp/species/1833\n",
      "States where FWS range of states had no BISON occurrence data\n"
     ]
    },
    {
     "data": {
      "text/plain": [
       "['California', 'Oregon', 'Washington']"
      ]
     },
     "metadata": {},
     "output_type": "display_data"
    },
    {
     "name": "stdout",
     "output_type": "stream",
     "text": [
      "----------\n",
      "Scientific Name: aspidoscelis arizonae\n",
      "Common Name: Arizona striped whiptail\n",
      "Lead FWS Region: R2\n",
      "ECOS Link: https://ecos.fws.gov/ecp/species/8793\n",
      "States where FWS range of states had no BISON occurrence data\n"
     ]
    },
    {
     "data": {
      "text/plain": [
       "['Arizona']"
      ]
     },
     "metadata": {},
     "output_type": "display_data"
    },
    {
     "name": "stdout",
     "output_type": "stream",
     "text": [
      "----------\n",
      "Scientific Name: Charina bottae umbratica\n",
      "Common Name: southern rubber boa\n",
      "Lead FWS Region: R8\n",
      "ECOS Link: https://ecos.fws.gov/ecp/species/3525\n",
      "States where FWS range of states align with BISON occurrence data\n"
     ]
    },
    {
     "data": {
      "text/plain": [
       "['California']"
      ]
     },
     "metadata": {},
     "output_type": "display_data"
    },
    {
     "name": "stdout",
     "output_type": "stream",
     "text": [
      "Additional states where BISON records occurrence data\n"
     ]
    },
    {
     "data": {
      "text/plain": [
       "['Arizona', 'Nebraska', 'Oregon', 'Washington']"
      ]
     },
     "metadata": {},
     "output_type": "display_data"
    },
    {
     "name": "stdout",
     "output_type": "stream",
     "text": [
      "----------\n",
      "Scientific Name: Clemmys guttata\n",
      "Common Name: spotted turtle\n",
      "Lead FWS Region: R5\n",
      "ECOS Link: nan\n",
      "States where FWS range of states align with BISON occurrence data\n"
     ]
    },
    {
     "data": {
      "text/plain": [
       "['Florida', 'Michigan']"
      ]
     },
     "metadata": {},
     "output_type": "display_data"
    },
    {
     "name": "stdout",
     "output_type": "stream",
     "text": [
      "States where FWS range of states had no BISON occurrence data\n"
     ]
    },
    {
     "data": {
      "text/plain": [
       "['Connecticut',\n",
       " 'District of Columbia',\n",
       " 'Delaware',\n",
       " 'Georgia',\n",
       " 'Illinois',\n",
       " 'Indiana',\n",
       " 'Massachusetts',\n",
       " 'Maryland',\n",
       " 'Maine',\n",
       " 'North Carolina',\n",
       " 'New Hampshire',\n",
       " 'New Jersey',\n",
       " 'New York',\n",
       " 'Ohio',\n",
       " 'Pennsylvania',\n",
       " 'Rhode Island',\n",
       " 'South Carolina',\n",
       " 'Virginia',\n",
       " 'Vermont',\n",
       " 'West Virginia']"
      ]
     },
     "metadata": {},
     "output_type": "display_data"
    },
    {
     "name": "stdout",
     "output_type": "stream",
     "text": [
      "Additional states where BISON records occurrence data\n"
     ]
    },
    {
     "data": {
      "text/plain": [
       "['California', 'Montana', 'Nebraska', 'Oregon', 'Wyoming']"
      ]
     },
     "metadata": {},
     "output_type": "display_data"
    },
    {
     "name": "stdout",
     "output_type": "stream",
     "text": [
      "----------\n",
      "Scientific Name: Clonophis kirtlandii\n",
      "Common Name: Kirtland's snake\n",
      "Lead FWS Region: R3\n",
      "ECOS Link: https://ecos.fws.gov/ecp/species/4979\n",
      "States where FWS range of states had no BISON occurrence data\n"
     ]
    },
    {
     "data": {
      "text/plain": [
       "['Illinois',\n",
       " 'Indiana',\n",
       " 'Kentucky',\n",
       " 'Michigan',\n",
       " 'Missouri',\n",
       " 'Ohio',\n",
       " 'Pennsylvania',\n",
       " 'Tennessee']"
      ]
     },
     "metadata": {},
     "output_type": "display_data"
    },
    {
     "name": "stdout",
     "output_type": "stream",
     "text": [
      "----------\n",
      "Scientific Name: Deirochelys reticularia miaria\n",
      "Common Name: western chicken turtle\n",
      "Lead FWS Region: R2\n",
      "ECOS Link: https://ecos.fws.gov/ecp/species/9903\n",
      "States where FWS range of states align with BISON occurrence data\n"
     ]
    },
    {
     "data": {
      "text/plain": [
       "['Louisiana']"
      ]
     },
     "metadata": {},
     "output_type": "display_data"
    },
    {
     "name": "stdout",
     "output_type": "stream",
     "text": [
      "States where FWS range of states had no BISON occurrence data\n"
     ]
    },
    {
     "data": {
      "text/plain": [
       "['Arkansas', 'Missouri', 'Mississippi', 'Oklahoma', 'Texas']"
      ]
     },
     "metadata": {},
     "output_type": "display_data"
    },
    {
     "name": "stdout",
     "output_type": "stream",
     "text": [
      "Additional states where BISON records occurrence data\n"
     ]
    },
    {
     "data": {
      "text/plain": [
       "['Florida', 'South Carolina']"
      ]
     },
     "metadata": {},
     "output_type": "display_data"
    },
    {
     "name": "stdout",
     "output_type": "stream",
     "text": [
      "----------\n",
      "Scientific Name: Diadophis punctatus acricus\n",
      "Common Name: Key ringneck snake\n",
      "Lead FWS Region: R4\n",
      "ECOS Link: https://ecos.fws.gov/ecp/species/6768\n",
      "States where FWS range of states align with BISON occurrence data\n"
     ]
    },
    {
     "data": {
      "text/plain": [
       "['Florida']"
      ]
     },
     "metadata": {},
     "output_type": "display_data"
    },
    {
     "name": "stdout",
     "output_type": "stream",
     "text": [
      "Additional states where BISON records occurrence data\n"
     ]
    },
    {
     "data": {
      "text/plain": [
       "['Alabama',\n",
       " 'Arizona',\n",
       " 'California',\n",
       " 'Delaware',\n",
       " 'Illinois',\n",
       " 'Kansas',\n",
       " 'New Jersey',\n",
       " 'New Mexico',\n",
       " 'North Carolina',\n",
       " 'Oklahoma',\n",
       " 'Tennessee',\n",
       " 'Texas',\n",
       " 'Virginia']"
      ]
     },
     "metadata": {},
     "output_type": "display_data"
    },
    {
     "name": "stdout",
     "output_type": "stream",
     "text": [
      "----------\n",
      "Scientific Name: Elgaria panamintina\n",
      "Common Name: Panamint alligator lizard\n",
      "Lead FWS Region: R8\n",
      "ECOS Link: https://ecos.fws.gov/ecp/species/47\n",
      "States where FWS range of states align with BISON occurrence data\n"
     ]
    },
    {
     "data": {
      "text/plain": [
       "['California']"
      ]
     },
     "metadata": {},
     "output_type": "display_data"
    },
    {
     "name": "stdout",
     "output_type": "stream",
     "text": [
      "Additional states where BISON records occurrence data\n"
     ]
    },
    {
     "data": {
      "text/plain": [
       "['Arizona', 'New Mexico', 'Oklahoma', 'Oregon']"
      ]
     },
     "metadata": {},
     "output_type": "display_data"
    },
    {
     "name": "stdout",
     "output_type": "stream",
     "text": [
      "----------\n",
      "Scientific Name: Emydoidea blandingii\n",
      "Common Name: Blanding's turtle\n",
      "Lead FWS Region: R3\n",
      "ECOS Link: https://ecos.fws.gov/ecp/species/6056\n",
      "States where FWS range of states align with BISON occurrence data\n"
     ]
    },
    {
     "data": {
      "text/plain": [
       "['Michigan', 'Wisconsin']"
      ]
     },
     "metadata": {},
     "output_type": "display_data"
    },
    {
     "name": "stdout",
     "output_type": "stream",
     "text": [
      "States where FWS range of states had no BISON occurrence data\n"
     ]
    },
    {
     "data": {
      "text/plain": [
       "['Iowa',\n",
       " 'Illinois',\n",
       " 'Indiana',\n",
       " 'Massachusetts',\n",
       " 'Maine',\n",
       " 'Minnesota',\n",
       " 'Missouri',\n",
       " 'Nebraska',\n",
       " 'New Hampshire',\n",
       " 'New York',\n",
       " 'Ohio',\n",
       " 'Pennsylvania',\n",
       " 'South Dakota']"
      ]
     },
     "metadata": {},
     "output_type": "display_data"
    },
    {
     "name": "stdout",
     "output_type": "stream",
     "text": [
      "Additional states where BISON records occurrence data\n"
     ]
    },
    {
     "data": {
      "text/plain": [
       "['Kansas']"
      ]
     },
     "metadata": {},
     "output_type": "display_data"
    },
    {
     "name": "stdout",
     "output_type": "stream",
     "text": [
      "----------\n",
      "Scientific Name: Eumeces egregius egregius\n",
      "Common Name: Florida Keys mole skink\n",
      "Lead FWS Region: R4\n",
      "ECOS Link: https://ecos.fws.gov/ecp/species/4480\n",
      "States where FWS range of states align with BISON occurrence data\n"
     ]
    },
    {
     "data": {
      "text/plain": [
       "['Florida']"
      ]
     },
     "metadata": {},
     "output_type": "display_data"
    },
    {
     "name": "stdout",
     "output_type": "stream",
     "text": [
      "Additional states where BISON records occurrence data\n"
     ]
    },
    {
     "data": {
      "text/plain": [
       "['Arizona',\n",
       " 'Arkansas',\n",
       " 'California',\n",
       " 'Colorado',\n",
       " 'Idaho',\n",
       " 'Kansas',\n",
       " 'Louisiana',\n",
       " 'Mississippi',\n",
       " 'Nebraska',\n",
       " 'Nevada',\n",
       " 'New Mexico',\n",
       " 'North Carolina',\n",
       " 'Oklahoma',\n",
       " 'Oregon',\n",
       " 'South Carolina',\n",
       " 'South Dakota',\n",
       " 'Tennessee',\n",
       " 'Texas',\n",
       " 'Utah',\n",
       " 'Virginia',\n",
       " 'Washington',\n",
       " 'Wyoming']"
      ]
     },
     "metadata": {},
     "output_type": "display_data"
    },
    {
     "name": "stdout",
     "output_type": "stream",
     "text": [
      "----------\n",
      "Scientific Name: Eumeces egregius insularis (Plestiodon egregius insularis)\n",
      "Common Name: Cedar Key mole skink\n",
      "Lead FWS Region: R4\n",
      "ECOS Link: https://ecos.fws.gov/ecp0/profile/speciesProfile?spcode=C050\n",
      "States where FWS range of states align with BISON occurrence data\n"
     ]
    },
    {
     "data": {
      "text/plain": [
       "['Florida']"
      ]
     },
     "metadata": {},
     "output_type": "display_data"
    },
    {
     "name": "stdout",
     "output_type": "stream",
     "text": [
      "Additional states where BISON records occurrence data\n"
     ]
    },
    {
     "data": {
      "text/plain": [
       "['Arizona',\n",
       " 'Arkansas',\n",
       " 'California',\n",
       " 'Colorado',\n",
       " 'Idaho',\n",
       " 'Kansas',\n",
       " 'Louisiana',\n",
       " 'Mississippi',\n",
       " 'Nebraska',\n",
       " 'Nevada',\n",
       " 'New Mexico',\n",
       " 'North Carolina',\n",
       " 'Oklahoma',\n",
       " 'Oregon',\n",
       " 'South Carolina',\n",
       " 'South Dakota',\n",
       " 'Tennessee',\n",
       " 'Texas',\n",
       " 'Utah',\n",
       " 'Virginia',\n",
       " 'Washington',\n",
       " 'Wyoming']"
      ]
     },
     "metadata": {},
     "output_type": "display_data"
    },
    {
     "name": "stdout",
     "output_type": "stream",
     "text": [
      "----------\n",
      "Scientific Name: Glyptemys insculpta\n",
      "Common Name: wood turtle\n",
      "Lead FWS Region: R5\n",
      "ECOS Link: https://ecos.fws.gov/ecp/species/6997\n",
      "States where FWS range of states had no BISON occurrence data\n"
     ]
    },
    {
     "data": {
      "text/plain": [
       "['Connecticut',\n",
       " 'District of Columbia',\n",
       " 'Iowa',\n",
       " 'Massachusetts',\n",
       " 'Maryland',\n",
       " 'Maine',\n",
       " 'Michigan',\n",
       " 'Minnesota',\n",
       " 'New Hampshire',\n",
       " 'New Jersey',\n",
       " 'New York',\n",
       " 'Ohio',\n",
       " 'Pennsylvania',\n",
       " 'Rhode Island',\n",
       " 'Virginia',\n",
       " 'Vermont',\n",
       " 'Wisconsin',\n",
       " 'West Virginia']"
      ]
     },
     "metadata": {},
     "output_type": "display_data"
    },
    {
     "name": "stdout",
     "output_type": "stream",
     "text": [
      "----------\n",
      "Scientific Name: Gopherus polyphemus\n",
      "Common Name: gopher tortoise\n",
      "Lead FWS Region: R4\n",
      "ECOS Link: https://ecos.fws.gov/ecp/species/6994\n",
      "States where FWS range of states align with BISON occurrence data\n"
     ]
    },
    {
     "data": {
      "text/plain": [
       "['Florida', 'South Carolina']"
      ]
     },
     "metadata": {},
     "output_type": "display_data"
    },
    {
     "name": "stdout",
     "output_type": "stream",
     "text": [
      "States where FWS range of states had no BISON occurrence data\n"
     ]
    },
    {
     "data": {
      "text/plain": [
       "['Alabama', 'Georgia']"
      ]
     },
     "metadata": {},
     "output_type": "display_data"
    },
    {
     "name": "stdout",
     "output_type": "stream",
     "text": [
      "Additional states where BISON records occurrence data\n"
     ]
    },
    {
     "data": {
      "text/plain": [
       "['Arizona', 'Colorado', 'Kansas', 'Nebraska', 'Nevada', 'New Mexico', 'Texas']"
      ]
     },
     "metadata": {},
     "output_type": "display_data"
    },
    {
     "name": "stdout",
     "output_type": "stream",
     "text": [
      "----------\n",
      "Scientific Name: Graptemys barbouri\n",
      "Common Name: Barbour's map turtle\n",
      "Lead FWS Region: R4\n",
      "ECOS Link: https://ecos.fws.gov/ecp/species/3085\n",
      "States where FWS range of states align with BISON occurrence data\n"
     ]
    },
    {
     "data": {
      "text/plain": [
       "['Florida']"
      ]
     },
     "metadata": {},
     "output_type": "display_data"
    },
    {
     "name": "stdout",
     "output_type": "stream",
     "text": [
      "States where FWS range of states had no BISON occurrence data\n"
     ]
    },
    {
     "data": {
      "text/plain": [
       "['Alabama', 'Georgia']"
      ]
     },
     "metadata": {},
     "output_type": "display_data"
    },
    {
     "name": "stdout",
     "output_type": "stream",
     "text": [
      "Additional states where BISON records occurrence data\n"
     ]
    },
    {
     "data": {
      "text/plain": [
       "['Arkansas',\n",
       " 'California',\n",
       " 'Indiana',\n",
       " 'Louisiana',\n",
       " 'Michigan',\n",
       " 'Minnesota',\n",
       " 'Missouri',\n",
       " 'Nebraska',\n",
       " 'Tennessee',\n",
       " 'Texas',\n",
       " 'Wisconsin']"
      ]
     },
     "metadata": {},
     "output_type": "display_data"
    },
    {
     "name": "stdout",
     "output_type": "stream",
     "text": [
      "----------\n",
      "Scientific Name: Heterodon simus\n",
      "Common Name: southern hognose snake\n",
      "Lead FWS Region: R4\n",
      "ECOS Link: https://ecos.fws.gov/ecp/species/3248\n",
      "States where FWS range of states align with BISON occurrence data\n"
     ]
    },
    {
     "data": {
      "text/plain": [
       "['Florida', 'Georgia', 'Mississippi', 'North Carolina', 'South Carolina']"
      ]
     },
     "metadata": {},
     "output_type": "display_data"
    },
    {
     "name": "stdout",
     "output_type": "stream",
     "text": [
      "States where FWS range of states had no BISON occurrence data\n"
     ]
    },
    {
     "data": {
      "text/plain": [
       "['Alabama']"
      ]
     },
     "metadata": {},
     "output_type": "display_data"
    },
    {
     "name": "stdout",
     "output_type": "stream",
     "text": [
      "Additional states where BISON records occurrence data\n"
     ]
    },
    {
     "data": {
      "text/plain": [
       "['Arizona',\n",
       " 'Kansas',\n",
       " 'Louisiana',\n",
       " 'Michigan',\n",
       " 'Montana',\n",
       " 'Nebraska',\n",
       " 'New Mexico',\n",
       " 'Texas']"
      ]
     },
     "metadata": {},
     "output_type": "display_data"
    },
    {
     "name": "stdout",
     "output_type": "stream",
     "text": [
      "----------\n",
      "Scientific Name: Holbrookia lacerata\n",
      "Common Name: spot-tailed earless lizard\n",
      "Lead FWS Region: R2\n",
      "ECOS Link: https://ecos.fws.gov/ecp/species/9044\n",
      "States where FWS range of states align with BISON occurrence data\n"
     ]
    },
    {
     "data": {
      "text/plain": [
       "['Texas']"
      ]
     },
     "metadata": {},
     "output_type": "display_data"
    },
    {
     "name": "stdout",
     "output_type": "stream",
     "text": [
      "Additional states where BISON records occurrence data\n"
     ]
    },
    {
     "data": {
      "text/plain": [
       "['Arizona', 'Colorado', 'Kansas', 'New Mexico']"
      ]
     },
     "metadata": {},
     "output_type": "display_data"
    },
    {
     "name": "stdout",
     "output_type": "stream",
     "text": [
      "----------\n",
      "Scientific Name: Macroclemys temmincki\n",
      "Common Name: alligator snapping turtle\n",
      "Lead FWS Region: R4\n",
      "ECOS Link: https://ecos.fws.gov/ecp/species/4658\n",
      "States where FWS range of states had no BISON occurrence data\n"
     ]
    },
    {
     "data": {
      "text/plain": [
       "['Alabama',\n",
       " 'Arkansas',\n",
       " 'Florida',\n",
       " 'Georgia',\n",
       " 'Iowa',\n",
       " 'Illinois',\n",
       " 'Kansas',\n",
       " 'Kentucky',\n",
       " 'Louisiana',\n",
       " 'Missouri',\n",
       " 'Mississippi',\n",
       " 'Oklahoma',\n",
       " 'Tennessee',\n",
       " 'Texas']"
      ]
     },
     "metadata": {},
     "output_type": "display_data"
    },
    {
     "name": "stdout",
     "output_type": "stream",
     "text": [
      "Additional states where BISON records occurrence data\n"
     ]
    },
    {
     "data": {
      "text/plain": [
       "['Nebraska']"
      ]
     },
     "metadata": {},
     "output_type": "display_data"
    },
    {
     "name": "stdout",
     "output_type": "stream",
     "text": [
      "----------\n",
      "Scientific Name: Pituophis melanoleucus mugitus\n",
      "Common Name: Florida pine snake\n",
      "Lead FWS Region: R4\n",
      "ECOS Link: https://ecos.fws.gov/ecp/species/4978\n",
      "States where FWS range of states align with BISON occurrence data\n"
     ]
    },
    {
     "data": {
      "text/plain": [
       "['Alabama', 'Florida']"
      ]
     },
     "metadata": {},
     "output_type": "display_data"
    },
    {
     "name": "stdout",
     "output_type": "stream",
     "text": [
      "States where FWS range of states had no BISON occurrence data\n"
     ]
    },
    {
     "data": {
      "text/plain": [
       "['Georgia', 'South Carolina']"
      ]
     },
     "metadata": {},
     "output_type": "display_data"
    },
    {
     "name": "stdout",
     "output_type": "stream",
     "text": [
      "Additional states where BISON records occurrence data\n"
     ]
    },
    {
     "data": {
      "text/plain": [
       "['Arizona',\n",
       " 'California',\n",
       " 'Kansas',\n",
       " 'Nebraska',\n",
       " 'Nevada',\n",
       " 'New Mexico',\n",
       " 'Oklahoma',\n",
       " 'Tennessee',\n",
       " 'Texas',\n",
       " 'Utah',\n",
       " 'Washington',\n",
       " 'Wyoming']"
      ]
     },
     "metadata": {},
     "output_type": "display_data"
    },
    {
     "name": "stdout",
     "output_type": "stream",
     "text": [
      "----------\n",
      "Scientific Name: Pseudemys gorzugi\n",
      "Common Name: Rio Grande cooter\n",
      "Lead FWS Region: R2\n",
      "ECOS Link: nan\n",
      "States where FWS range of states align with BISON occurrence data\n"
     ]
    },
    {
     "data": {
      "text/plain": [
       "['New Mexico', 'Texas']"
      ]
     },
     "metadata": {},
     "output_type": "display_data"
    },
    {
     "name": "stdout",
     "output_type": "stream",
     "text": [
      "Additional states where BISON records occurrence data\n"
     ]
    },
    {
     "data": {
      "text/plain": [
       "['Alabama',\n",
       " 'Arkansas',\n",
       " 'California',\n",
       " 'Florida',\n",
       " 'Georgia',\n",
       " 'Illinois',\n",
       " 'Kansas',\n",
       " 'Kentucky',\n",
       " 'Louisiana',\n",
       " 'Mississippi',\n",
       " 'New Jersey',\n",
       " 'North Carolina',\n",
       " 'Ohio',\n",
       " 'Oklahoma',\n",
       " 'South Carolina',\n",
       " 'Virginia',\n",
       " 'West Virginia']"
      ]
     },
     "metadata": {},
     "output_type": "display_data"
    },
    {
     "name": "stdout",
     "output_type": "stream",
     "text": [
      "----------\n",
      "Scientific Name: Pseudemys rubriventris\n",
      "Common Name: northern red-bellied cooter (range- wide)\n",
      "Lead FWS Region: R5\n",
      "ECOS Link: https://ecos.fws.gov/ecp/species/9957\n",
      "States where FWS range of states align with BISON occurrence data\n"
     ]
    },
    {
     "data": {
      "text/plain": [
       "['North Carolina', 'New Jersey', 'Virginia', 'West Virginia']"
      ]
     },
     "metadata": {},
     "output_type": "display_data"
    },
    {
     "name": "stdout",
     "output_type": "stream",
     "text": [
      "States where FWS range of states had no BISON occurrence data\n"
     ]
    },
    {
     "data": {
      "text/plain": [
       "['District of Columbia',\n",
       " 'Delaware',\n",
       " 'Massachusetts',\n",
       " 'Maryland',\n",
       " 'Pennsylvania']"
      ]
     },
     "metadata": {},
     "output_type": "display_data"
    },
    {
     "name": "stdout",
     "output_type": "stream",
     "text": [
      "Additional states where BISON records occurrence data\n"
     ]
    },
    {
     "data": {
      "text/plain": [
       "['Alabama',\n",
       " 'Arkansas',\n",
       " 'California',\n",
       " 'Florida',\n",
       " 'Georgia',\n",
       " 'Illinois',\n",
       " 'Kansas',\n",
       " 'Kentucky',\n",
       " 'Louisiana',\n",
       " 'Mississippi',\n",
       " 'New Mexico',\n",
       " 'Ohio',\n",
       " 'Oklahoma',\n",
       " 'South Carolina',\n",
       " 'Texas']"
      ]
     },
     "metadata": {},
     "output_type": "display_data"
    },
    {
     "name": "stdout",
     "output_type": "stream",
     "text": [
      "----------\n",
      "Scientific Name: Sistrurus catenatus edwardsii\n",
      "Common Name: desert massasauga\n",
      "Lead FWS Region: R2\n",
      "ECOS Link: https://ecos.fws.gov/ecp/species/9087\n",
      "States where FWS range of states align with BISON occurrence data\n"
     ]
    },
    {
     "data": {
      "text/plain": [
       "['Colorado', 'Texas']"
      ]
     },
     "metadata": {},
     "output_type": "display_data"
    },
    {
     "name": "stdout",
     "output_type": "stream",
     "text": [
      "States where FWS range of states had no BISON occurrence data\n"
     ]
    },
    {
     "data": {
      "text/plain": [
       "['Arizona', 'New Mexico']"
      ]
     },
     "metadata": {},
     "output_type": "display_data"
    },
    {
     "name": "stdout",
     "output_type": "stream",
     "text": [
      "Additional states where BISON records occurrence data\n"
     ]
    },
    {
     "data": {
      "text/plain": [
       "['Florida',\n",
       " 'Georgia',\n",
       " 'Kansas',\n",
       " 'Louisiana',\n",
       " 'Missouri',\n",
       " 'Nebraska',\n",
       " 'Oklahoma',\n",
       " 'Tennessee']"
      ]
     },
     "metadata": {},
     "output_type": "display_data"
    },
    {
     "name": "stdout",
     "output_type": "stream",
     "text": [
      "----------\n",
      "Scientific Name: Stilosoma extenuatum (Lampropeltis extenuata)\n",
      "Common Name: short-tailed snake\n",
      "Lead FWS Region: R4\n",
      "ECOS Link: https://ecos.fws.gov/ecp0/profile/speciesProfile?spcode=C07C\n",
      "States where FWS range of states align with BISON occurrence data\n"
     ]
    },
    {
     "data": {
      "text/plain": [
       "['Florida']"
      ]
     },
     "metadata": {},
     "output_type": "display_data"
    },
    {
     "name": "stdout",
     "output_type": "stream",
     "text": [
      "----------\n",
      "Scientific Name: Tantilla oolitica\n",
      "Common Name: Rim Rock crowned snake\n",
      "Lead FWS Region: R4\n",
      "ECOS Link: https://ecos.fws.gov/ecp/species/1497\n",
      "States where FWS range of states align with BISON occurrence data\n"
     ]
    },
    {
     "data": {
      "text/plain": [
       "['Florida']"
      ]
     },
     "metadata": {},
     "output_type": "display_data"
    },
    {
     "name": "stdout",
     "output_type": "stream",
     "text": [
      "Additional states where BISON records occurrence data\n"
     ]
    },
    {
     "data": {
      "text/plain": [
       "['Arizona',\n",
       " 'California',\n",
       " 'Mississippi',\n",
       " 'New Mexico',\n",
       " 'Oklahoma',\n",
       " 'South Carolina',\n",
       " 'Texas',\n",
       " 'Virginia']"
      ]
     },
     "metadata": {},
     "output_type": "display_data"
    },
    {
     "name": "stdout",
     "output_type": "stream",
     "text": [
      "----------\n",
      "Scientific Name: Cryptomastix devia\n",
      "Common Name: Puget Oregonian snail\n",
      "Lead FWS Region: R1\n",
      "ECOS Link: https://ecos.fws.gov/ecp/species/294\n",
      "States where FWS range of states had no BISON occurrence data\n"
     ]
    },
    {
     "data": {
      "text/plain": [
       "['Oregon', 'Washington']"
      ]
     },
     "metadata": {},
     "output_type": "display_data"
    },
    {
     "name": "stdout",
     "output_type": "stream",
     "text": [
      "Additional states where BISON records occurrence data\n"
     ]
    },
    {
     "data": {
      "text/plain": [
       "['California', 'Idaho', 'Montana']"
      ]
     },
     "metadata": {},
     "output_type": "display_data"
    },
    {
     "name": "stdout",
     "output_type": "stream",
     "text": [
      "----------\n",
      "Scientific Name: Cryptomastix hendersoni\n",
      "Common Name: Columbia Oregonian snail\n",
      "Lead FWS Region: R1\n",
      "ECOS Link: https://ecos.fws.gov/ecp/species/8598\n",
      "States where FWS range of states had no BISON occurrence data\n"
     ]
    },
    {
     "data": {
      "text/plain": [
       "['Oregon', 'Washington']"
      ]
     },
     "metadata": {},
     "output_type": "display_data"
    },
    {
     "name": "stdout",
     "output_type": "stream",
     "text": [
      "Additional states where BISON records occurrence data\n"
     ]
    },
    {
     "data": {
      "text/plain": [
       "['California', 'Idaho', 'Montana']"
      ]
     },
     "metadata": {},
     "output_type": "display_data"
    },
    {
     "name": "stdout",
     "output_type": "stream",
     "text": [
      "----------\n",
      "Scientific Name: Deroceras hesperium\n",
      "Common Name: evening fieldslug\n",
      "Lead FWS Region: R1\n",
      "ECOS Link: https://ecos.fws.gov/ecp/species/8642\n",
      "States where FWS range of states align with BISON occurrence data\n"
     ]
    },
    {
     "data": {
      "text/plain": [
       "['Oregon', 'Washington']"
      ]
     },
     "metadata": {},
     "output_type": "display_data"
    },
    {
     "name": "stdout",
     "output_type": "stream",
     "text": [
      "Additional states where BISON records occurrence data\n"
     ]
    },
    {
     "data": {
      "text/plain": [
       "['Alabama',\n",
       " 'Alaska',\n",
       " 'Arizona',\n",
       " 'Arkansas',\n",
       " 'California',\n",
       " 'Hawaii',\n",
       " 'Illinois',\n",
       " 'Kentucky',\n",
       " 'Massachusetts',\n",
       " 'Michigan',\n",
       " 'Mississippi',\n",
       " 'Montana',\n",
       " 'New Jersey',\n",
       " 'North Carolina',\n",
       " 'Ohio',\n",
       " 'Oklahoma',\n",
       " 'Pennsylvania',\n",
       " 'South Carolina',\n",
       " 'Texas',\n",
       " 'Utah',\n",
       " 'Vermont',\n",
       " 'Virginia',\n",
       " 'Wisconsin']"
      ]
     },
     "metadata": {},
     "output_type": "display_data"
    },
    {
     "name": "stdout",
     "output_type": "stream",
     "text": [
      "----------\n",
      "Scientific Name: Elimia arachnoidea\n",
      "Common Name: spider elimia (snail)\n",
      "Lead FWS Region: R5\n",
      "ECOS Link: https://ecos.fws.gov/ecp/species/9896\n",
      "States where FWS range of states align with BISON occurrence data\n"
     ]
    },
    {
     "data": {
      "text/plain": [
       "['Tennessee', 'Virginia']"
      ]
     },
     "metadata": {},
     "output_type": "display_data"
    },
    {
     "name": "stdout",
     "output_type": "stream",
     "text": [
      "Additional states where BISON records occurrence data\n"
     ]
    },
    {
     "data": {
      "text/plain": [
       "['Alabama',\n",
       " 'Arkansas',\n",
       " 'California',\n",
       " 'Connecticut',\n",
       " 'Florida',\n",
       " 'Georgia',\n",
       " 'Illinois',\n",
       " 'Indiana',\n",
       " 'Kentucky',\n",
       " 'Louisiana',\n",
       " 'Maryland',\n",
       " 'Michigan',\n",
       " 'Mississippi',\n",
       " 'Missouri',\n",
       " 'New Jersey',\n",
       " 'New York',\n",
       " 'North Carolina',\n",
       " 'Ohio',\n",
       " 'Oklahoma',\n",
       " 'Oregon',\n",
       " 'Pennsylvania',\n",
       " 'South Carolina',\n",
       " 'Texas',\n",
       " 'Washington',\n",
       " 'West Virginia',\n",
       " 'Wisconsin']"
      ]
     },
     "metadata": {},
     "output_type": "display_data"
    },
    {
     "name": "stdout",
     "output_type": "stream",
     "text": [
      "----------\n",
      "Scientific Name: HELMINTHOGLYPTA GREGGI\n",
      "Common Name: Mojave shoulderband snail\n",
      "Lead FWS Region: R8\n",
      "ECOS Link: nan\n",
      "States where FWS range of states had no BISON occurrence data\n"
     ]
    },
    {
     "data": {
      "text/plain": [
       "['California']"
      ]
     },
     "metadata": {},
     "output_type": "display_data"
    },
    {
     "name": "stdout",
     "output_type": "stream",
     "text": [
      "----------\n",
      "Scientific Name: Hemphillia burringtoni\n",
      "Common Name: Burrington (keeled) jumping-slug\n",
      "Lead FWS Region: R1\n",
      "ECOS Link: https://ecos.fws.gov/ecp/species/8641\n",
      "States where FWS range of states align with BISON occurrence data\n"
     ]
    },
    {
     "data": {
      "text/plain": [
       "['Oregon', 'Washington']"
      ]
     },
     "metadata": {},
     "output_type": "display_data"
    },
    {
     "name": "stdout",
     "output_type": "stream",
     "text": [
      "Additional states where BISON records occurrence data\n"
     ]
    },
    {
     "data": {
      "text/plain": [
       "['California']"
      ]
     },
     "metadata": {},
     "output_type": "display_data"
    },
    {
     "name": "stdout",
     "output_type": "stream",
     "text": [
      "----------\n",
      "Scientific Name: Leptoxis arkansensis\n",
      "Common Name: Arkansas mudalia\n",
      "Lead FWS Region: R4\n",
      "ECOS Link: https://ecos.fws.gov/ecp/species/9911\n",
      "States where FWS range of states had no BISON occurrence data\n"
     ]
    },
    {
     "data": {
      "text/plain": [
       "['Arkansas', 'Missouri']"
      ]
     },
     "metadata": {},
     "output_type": "display_data"
    },
    {
     "name": "stdout",
     "output_type": "stream",
     "text": [
      "Additional states where BISON records occurrence data\n"
     ]
    },
    {
     "data": {
      "text/plain": [
       "['Alabama',\n",
       " 'Georgia',\n",
       " 'Iowa',\n",
       " 'Maryland',\n",
       " 'North Carolina',\n",
       " 'Ohio',\n",
       " 'Pennsylvania',\n",
       " 'Tennessee',\n",
       " 'Virginia',\n",
       " 'West Virginia']"
      ]
     },
     "metadata": {},
     "output_type": "display_data"
    },
    {
     "name": "stdout",
     "output_type": "stream",
     "text": [
      "----------\n",
      "Scientific Name: Monadenia fidelis minor\n",
      "Common Name: Dalles sideband snail\n",
      "Lead FWS Region: R1\n",
      "ECOS Link: https://ecos.fws.gov/ecp/species/4369\n",
      "States where FWS range of states align with BISON occurrence data\n"
     ]
    },
    {
     "data": {
      "text/plain": [
       "['Oregon', 'Washington']"
      ]
     },
     "metadata": {},
     "output_type": "display_data"
    },
    {
     "name": "stdout",
     "output_type": "stream",
     "text": [
      "Additional states where BISON records occurrence data\n"
     ]
    },
    {
     "data": {
      "text/plain": [
       "['California']"
      ]
     },
     "metadata": {},
     "output_type": "display_data"
    },
    {
     "name": "stdout",
     "output_type": "stream",
     "text": [
      "----------\n",
      "Scientific Name: Oreohelix n. sp. 1\n",
      "Common Name: Chelan mountain snail\n",
      "Lead FWS Region: R1\n",
      "ECOS Link: https://ecos.fws.gov/ecp0/profile/speciesProfile?spcode=G0EB\n",
      "States where FWS range of states align with BISON occurrence data\n"
     ]
    },
    {
     "data": {
      "text/plain": [
       "['Washington']"
      ]
     },
     "metadata": {},
     "output_type": "display_data"
    },
    {
     "name": "stdout",
     "output_type": "stream",
     "text": [
      "Additional states where BISON records occurrence data\n"
     ]
    },
    {
     "data": {
      "text/plain": [
       "['Arizona',\n",
       " 'California',\n",
       " 'Colorado',\n",
       " 'Hawaii',\n",
       " 'Idaho',\n",
       " 'Iowa',\n",
       " 'Montana',\n",
       " 'Nebraska',\n",
       " 'Nevada',\n",
       " 'New Mexico',\n",
       " 'Oregon',\n",
       " 'South Dakota',\n",
       " 'Texas',\n",
       " 'Utah',\n",
       " 'Wyoming']"
      ]
     },
     "metadata": {},
     "output_type": "display_data"
    },
    {
     "name": "stdout",
     "output_type": "stream",
     "text": [
      "----------\n",
      "Scientific Name: Phreatodrobia imitata\n",
      "Common Name: mimic cavesnail\n",
      "Lead FWS Region: R2\n",
      "ECOS Link: https://ecos.fws.gov/ecp/species/7006\n",
      "States where FWS range of states align with BISON occurrence data\n"
     ]
    },
    {
     "data": {
      "text/plain": [
       "['Texas']"
      ]
     },
     "metadata": {},
     "output_type": "display_data"
    },
    {
     "name": "stdout",
     "output_type": "stream",
     "text": [
      "----------\n",
      "Scientific Name: Planorbella magnifica\n",
      "Common Name: magnificent ramshorn\n",
      "Lead FWS Region: R4\n",
      "ECOS Link: https://ecos.fws.gov/ecp/species/6216\n",
      "States where FWS range of states align with BISON occurrence data\n"
     ]
    },
    {
     "data": {
      "text/plain": [
       "['North Carolina']"
      ]
     },
     "metadata": {},
     "output_type": "display_data"
    },
    {
     "name": "stdout",
     "output_type": "stream",
     "text": [
      "Additional states where BISON records occurrence data\n"
     ]
    },
    {
     "data": {
      "text/plain": [
       "['Alabama',\n",
       " 'Arizona',\n",
       " 'Arkansas',\n",
       " 'California',\n",
       " 'Colorado',\n",
       " 'Connecticut',\n",
       " 'Delaware',\n",
       " 'Florida',\n",
       " 'Hawaii',\n",
       " 'Idaho',\n",
       " 'Illinois',\n",
       " 'Iowa',\n",
       " 'Louisiana',\n",
       " 'Maryland',\n",
       " 'Massachusetts',\n",
       " 'Michigan',\n",
       " 'Minnesota',\n",
       " 'Mississippi',\n",
       " 'Missouri',\n",
       " 'Nebraska',\n",
       " 'Nevada',\n",
       " 'New Jersey',\n",
       " 'New York',\n",
       " 'Oklahoma',\n",
       " 'Oregon',\n",
       " 'Pennsylvania',\n",
       " 'South Dakota',\n",
       " 'Tennessee',\n",
       " 'Texas',\n",
       " 'Utah',\n",
       " 'Vermont',\n",
       " 'Virginia',\n",
       " 'Washington',\n",
       " 'Wisconsin',\n",
       " 'Wyoming']"
      ]
     },
     "metadata": {},
     "output_type": "display_data"
    },
    {
     "name": "stdout",
     "output_type": "stream",
     "text": [
      "----------\n",
      "Scientific Name: Pyrgulopsis anguina\n",
      "Common Name: longitudinal gland pyrg\n",
      "Lead FWS Region: R6\n",
      "ECOS Link: https://ecos.fws.gov/ecp/species/8977\n",
      "States where FWS range of states align with BISON occurrence data\n"
     ]
    },
    {
     "data": {
      "text/plain": [
       "['Nevada', 'Utah']"
      ]
     },
     "metadata": {},
     "output_type": "display_data"
    },
    {
     "name": "stdout",
     "output_type": "stream",
     "text": [
      "Additional states where BISON records occurrence data\n"
     ]
    },
    {
     "data": {
      "text/plain": [
       "['Alabama',\n",
       " 'Arizona',\n",
       " 'Arkansas',\n",
       " 'California',\n",
       " 'Georgia',\n",
       " 'Idaho',\n",
       " 'Illinois',\n",
       " 'Indiana',\n",
       " 'Iowa',\n",
       " 'Kansas',\n",
       " 'Kentucky',\n",
       " 'Louisiana',\n",
       " 'Minnesota',\n",
       " 'Montana',\n",
       " 'New Mexico',\n",
       " 'Oklahoma',\n",
       " 'Oregon',\n",
       " 'Texas',\n",
       " 'Wyoming']"
      ]
     },
     "metadata": {},
     "output_type": "display_data"
    },
    {
     "name": "stdout",
     "output_type": "stream",
     "text": [
      "----------\n",
      "Scientific Name: Pyrgulopsis avernalis\n",
      "Common Name: Moapa pebblesnail\n",
      "Lead FWS Region: R8\n",
      "ECOS Link: https://ecos.fws.gov/ecp/species/4987\n",
      "States where FWS range of states align with BISON occurrence data\n"
     ]
    },
    {
     "data": {
      "text/plain": [
       "['Nevada']"
      ]
     },
     "metadata": {},
     "output_type": "display_data"
    },
    {
     "name": "stdout",
     "output_type": "stream",
     "text": [
      "Additional states where BISON records occurrence data\n"
     ]
    },
    {
     "data": {
      "text/plain": [
       "['Alabama',\n",
       " 'Arizona',\n",
       " 'Arkansas',\n",
       " 'California',\n",
       " 'Georgia',\n",
       " 'Idaho',\n",
       " 'Illinois',\n",
       " 'Indiana',\n",
       " 'Iowa',\n",
       " 'Kansas',\n",
       " 'Kentucky',\n",
       " 'Louisiana',\n",
       " 'Minnesota',\n",
       " 'Montana',\n",
       " 'New Mexico',\n",
       " 'Oklahoma',\n",
       " 'Oregon',\n",
       " 'Texas',\n",
       " 'Utah',\n",
       " 'Wyoming']"
      ]
     },
     "metadata": {},
     "output_type": "display_data"
    },
    {
     "name": "stdout",
     "output_type": "stream",
     "text": [
      "----------\n",
      "Scientific Name: Pyrgulopsis breviloba\n",
      "Common Name: flag pyrg\n",
      "Lead FWS Region: R8\n",
      "ECOS Link: https://ecos.fws.gov/ecp/species/8978\n",
      "States where FWS range of states align with BISON occurrence data\n"
     ]
    },
    {
     "data": {
      "text/plain": [
       "['Nevada']"
      ]
     },
     "metadata": {},
     "output_type": "display_data"
    },
    {
     "name": "stdout",
     "output_type": "stream",
     "text": [
      "Additional states where BISON records occurrence data\n"
     ]
    },
    {
     "data": {
      "text/plain": [
       "['Alabama',\n",
       " 'Arizona',\n",
       " 'Arkansas',\n",
       " 'California',\n",
       " 'Georgia',\n",
       " 'Idaho',\n",
       " 'Illinois',\n",
       " 'Indiana',\n",
       " 'Iowa',\n",
       " 'Kansas',\n",
       " 'Kentucky',\n",
       " 'Louisiana',\n",
       " 'Minnesota',\n",
       " 'Montana',\n",
       " 'New Mexico',\n",
       " 'Oklahoma',\n",
       " 'Oregon',\n",
       " 'Texas',\n",
       " 'Utah',\n",
       " 'Wyoming']"
      ]
     },
     "metadata": {},
     "output_type": "display_data"
    },
    {
     "name": "stdout",
     "output_type": "stream",
     "text": [
      "----------\n",
      "Scientific Name: Pyrgulopsis carinifera\n",
      "Common Name: Moapa Valley pyrg\n",
      "Lead FWS Region: R8\n",
      "ECOS Link: https://ecos.fws.gov/ecp/species/8979\n",
      "States where FWS range of states align with BISON occurrence data\n"
     ]
    },
    {
     "data": {
      "text/plain": [
       "['Nevada']"
      ]
     },
     "metadata": {},
     "output_type": "display_data"
    },
    {
     "name": "stdout",
     "output_type": "stream",
     "text": [
      "Additional states where BISON records occurrence data\n"
     ]
    },
    {
     "data": {
      "text/plain": [
       "['Alabama',\n",
       " 'Arizona',\n",
       " 'Arkansas',\n",
       " 'California',\n",
       " 'Georgia',\n",
       " 'Idaho',\n",
       " 'Illinois',\n",
       " 'Indiana',\n",
       " 'Iowa',\n",
       " 'Kansas',\n",
       " 'Kentucky',\n",
       " 'Louisiana',\n",
       " 'Minnesota',\n",
       " 'Montana',\n",
       " 'New Mexico',\n",
       " 'Oklahoma',\n",
       " 'Oregon',\n",
       " 'Texas',\n",
       " 'Utah',\n",
       " 'Wyoming']"
      ]
     },
     "metadata": {},
     "output_type": "display_data"
    },
    {
     "name": "stdout",
     "output_type": "stream",
     "text": [
      "----------\n",
      "Scientific Name: Pyrgulopsis castor\n",
      "Common Name: Beaver Pond marstonia\n",
      "Lead FWS Region: R4\n",
      "ECOS Link: https://ecos.fws.gov/ecp/species/9913\n",
      "States where FWS range of states align with BISON occurrence data\n"
     ]
    },
    {
     "data": {
      "text/plain": [
       "['Georgia']"
      ]
     },
     "metadata": {},
     "output_type": "display_data"
    },
    {
     "name": "stdout",
     "output_type": "stream",
     "text": [
      "Additional states where BISON records occurrence data\n"
     ]
    },
    {
     "data": {
      "text/plain": [
       "['Alabama',\n",
       " 'Arizona',\n",
       " 'Arkansas',\n",
       " 'California',\n",
       " 'Idaho',\n",
       " 'Illinois',\n",
       " 'Indiana',\n",
       " 'Iowa',\n",
       " 'Kansas',\n",
       " 'Kentucky',\n",
       " 'Louisiana',\n",
       " 'Minnesota',\n",
       " 'Montana',\n",
       " 'Nevada',\n",
       " 'New Mexico',\n",
       " 'Oklahoma',\n",
       " 'Oregon',\n",
       " 'Texas',\n",
       " 'Utah',\n",
       " 'Wyoming']"
      ]
     },
     "metadata": {},
     "output_type": "display_data"
    },
    {
     "name": "stdout",
     "output_type": "stream",
     "text": [
      "----------\n",
      "Scientific Name: Pyrgulopsis coloradensis\n",
      "Common Name: Blue Point pyrg\n",
      "Lead FWS Region: R8\n",
      "ECOS Link: https://ecos.fws.gov/ecp/species/8980\n",
      "States where FWS range of states align with BISON occurrence data\n"
     ]
    },
    {
     "data": {
      "text/plain": [
       "['Nevada']"
      ]
     },
     "metadata": {},
     "output_type": "display_data"
    },
    {
     "name": "stdout",
     "output_type": "stream",
     "text": [
      "Additional states where BISON records occurrence data\n"
     ]
    },
    {
     "data": {
      "text/plain": [
       "['Alabama',\n",
       " 'Arizona',\n",
       " 'Arkansas',\n",
       " 'California',\n",
       " 'Georgia',\n",
       " 'Idaho',\n",
       " 'Illinois',\n",
       " 'Indiana',\n",
       " 'Iowa',\n",
       " 'Kansas',\n",
       " 'Kentucky',\n",
       " 'Louisiana',\n",
       " 'Minnesota',\n",
       " 'Montana',\n",
       " 'New Mexico',\n",
       " 'Oklahoma',\n",
       " 'Oregon',\n",
       " 'Texas',\n",
       " 'Utah',\n",
       " 'Wyoming']"
      ]
     },
     "metadata": {},
     "output_type": "display_data"
    },
    {
     "name": "stdout",
     "output_type": "stream",
     "text": [
      "----------\n",
      "Scientific Name: Pyrgulopsis crystalis\n",
      "Common Name: Crystal springsnail\n",
      "Lead FWS Region: R8\n",
      "ECOS Link: https://ecos.fws.gov/ecp/species/4830\n",
      "States where FWS range of states align with BISON occurrence data\n"
     ]
    },
    {
     "data": {
      "text/plain": [
       "['Nevada']"
      ]
     },
     "metadata": {},
     "output_type": "display_data"
    },
    {
     "name": "stdout",
     "output_type": "stream",
     "text": [
      "Additional states where BISON records occurrence data\n"
     ]
    },
    {
     "data": {
      "text/plain": [
       "['Alabama',\n",
       " 'Arizona',\n",
       " 'Arkansas',\n",
       " 'California',\n",
       " 'Georgia',\n",
       " 'Idaho',\n",
       " 'Illinois',\n",
       " 'Indiana',\n",
       " 'Iowa',\n",
       " 'Kansas',\n",
       " 'Kentucky',\n",
       " 'Louisiana',\n",
       " 'Minnesota',\n",
       " 'Montana',\n",
       " 'New Mexico',\n",
       " 'Oklahoma',\n",
       " 'Oregon',\n",
       " 'Texas',\n",
       " 'Utah',\n",
       " 'Wyoming']"
      ]
     },
     "metadata": {},
     "output_type": "display_data"
    },
    {
     "name": "stdout",
     "output_type": "stream",
     "text": [
      "----------\n",
      "Scientific Name: Pyrgulopsis deaconi\n",
      "Common Name: Spring Mountains pyrg\n",
      "Lead FWS Region: R8\n",
      "ECOS Link: https://ecos.fws.gov/ecp/species/8981\n",
      "States where FWS range of states align with BISON occurrence data\n"
     ]
    },
    {
     "data": {
      "text/plain": [
       "['Nevada']"
      ]
     },
     "metadata": {},
     "output_type": "display_data"
    },
    {
     "name": "stdout",
     "output_type": "stream",
     "text": [
      "Additional states where BISON records occurrence data\n"
     ]
    },
    {
     "data": {
      "text/plain": [
       "['Alabama',\n",
       " 'Arizona',\n",
       " 'Arkansas',\n",
       " 'California',\n",
       " 'Georgia',\n",
       " 'Idaho',\n",
       " 'Illinois',\n",
       " 'Indiana',\n",
       " 'Iowa',\n",
       " 'Kansas',\n",
       " 'Kentucky',\n",
       " 'Louisiana',\n",
       " 'Minnesota',\n",
       " 'Montana',\n",
       " 'New Mexico',\n",
       " 'Oklahoma',\n",
       " 'Oregon',\n",
       " 'Texas',\n",
       " 'Utah',\n",
       " 'Wyoming']"
      ]
     },
     "metadata": {},
     "output_type": "display_data"
    },
    {
     "name": "stdout",
     "output_type": "stream",
     "text": [
      "----------\n",
      "Scientific Name: Pyrgulopsis erythropoma\n",
      "Common Name: Ash Meadows pebblesnail\n",
      "Lead FWS Region: R8\n",
      "ECOS Link: https://ecos.fws.gov/ecp/species/7545\n",
      "States where FWS range of states align with BISON occurrence data\n"
     ]
    },
    {
     "data": {
      "text/plain": [
       "['Nevada']"
      ]
     },
     "metadata": {},
     "output_type": "display_data"
    },
    {
     "name": "stdout",
     "output_type": "stream",
     "text": [
      "Additional states where BISON records occurrence data\n"
     ]
    },
    {
     "data": {
      "text/plain": [
       "['Alabama',\n",
       " 'Arizona',\n",
       " 'Arkansas',\n",
       " 'California',\n",
       " 'Georgia',\n",
       " 'Idaho',\n",
       " 'Illinois',\n",
       " 'Indiana',\n",
       " 'Iowa',\n",
       " 'Kansas',\n",
       " 'Kentucky',\n",
       " 'Louisiana',\n",
       " 'Minnesota',\n",
       " 'Montana',\n",
       " 'New Mexico',\n",
       " 'Oklahoma',\n",
       " 'Oregon',\n",
       " 'Texas',\n",
       " 'Utah',\n",
       " 'Wyoming']"
      ]
     },
     "metadata": {},
     "output_type": "display_data"
    },
    {
     "name": "stdout",
     "output_type": "stream",
     "text": [
      "----------\n",
      "Scientific Name: Pyrgulopsis fairbanksensis\n",
      "Common Name: Fairbanks springsnail\n",
      "Lead FWS Region: R8\n",
      "ECOS Link: https://ecos.fws.gov/ecp/species/1399\n",
      "States where FWS range of states align with BISON occurrence data\n"
     ]
    },
    {
     "data": {
      "text/plain": [
       "['Nevada']"
      ]
     },
     "metadata": {},
     "output_type": "display_data"
    },
    {
     "name": "stdout",
     "output_type": "stream",
     "text": [
      "Additional states where BISON records occurrence data\n"
     ]
    },
    {
     "data": {
      "text/plain": [
       "['Alabama',\n",
       " 'Arizona',\n",
       " 'Arkansas',\n",
       " 'California',\n",
       " 'Georgia',\n",
       " 'Idaho',\n",
       " 'Illinois',\n",
       " 'Indiana',\n",
       " 'Iowa',\n",
       " 'Kansas',\n",
       " 'Kentucky',\n",
       " 'Louisiana',\n",
       " 'Minnesota',\n",
       " 'Montana',\n",
       " 'New Mexico',\n",
       " 'Oklahoma',\n",
       " 'Oregon',\n",
       " 'Texas',\n",
       " 'Utah',\n",
       " 'Wyoming']"
      ]
     },
     "metadata": {},
     "output_type": "display_data"
    },
    {
     "name": "stdout",
     "output_type": "stream",
     "text": [
      "----------\n",
      "Scientific Name: Pyrgulopsis fausta\n",
      "Common Name: Corn Creek pyrg\n",
      "Lead FWS Region: R8\n",
      "ECOS Link: https://ecos.fws.gov/ecp/species/8982\n",
      "States where FWS range of states align with BISON occurrence data\n"
     ]
    },
    {
     "data": {
      "text/plain": [
       "['Nevada']"
      ]
     },
     "metadata": {},
     "output_type": "display_data"
    },
    {
     "name": "stdout",
     "output_type": "stream",
     "text": [
      "Additional states where BISON records occurrence data\n"
     ]
    },
    {
     "data": {
      "text/plain": [
       "['Alabama',\n",
       " 'Arizona',\n",
       " 'Arkansas',\n",
       " 'California',\n",
       " 'Georgia',\n",
       " 'Idaho',\n",
       " 'Illinois',\n",
       " 'Indiana',\n",
       " 'Iowa',\n",
       " 'Kansas',\n",
       " 'Kentucky',\n",
       " 'Louisiana',\n",
       " 'Minnesota',\n",
       " 'Montana',\n",
       " 'New Mexico',\n",
       " 'Oklahoma',\n",
       " 'Oregon',\n",
       " 'Texas',\n",
       " 'Utah',\n",
       " 'Wyoming']"
      ]
     },
     "metadata": {},
     "output_type": "display_data"
    },
    {
     "name": "stdout",
     "output_type": "stream",
     "text": [
      "----------\n",
      "Scientific Name: Pyrgulopsis hamlinensis\n",
      "Common Name: Hamlin Valley pyrg\n",
      "Lead FWS Region: R6\n",
      "ECOS Link: https://ecos.fws.gov/ecp/species/8984\n",
      "States where FWS range of states align with BISON occurrence data\n"
     ]
    },
    {
     "data": {
      "text/plain": [
       "['Nevada', 'Utah']"
      ]
     },
     "metadata": {},
     "output_type": "display_data"
    },
    {
     "name": "stdout",
     "output_type": "stream",
     "text": [
      "Additional states where BISON records occurrence data\n"
     ]
    },
    {
     "data": {
      "text/plain": [
       "['Alabama',\n",
       " 'Arizona',\n",
       " 'Arkansas',\n",
       " 'California',\n",
       " 'Georgia',\n",
       " 'Idaho',\n",
       " 'Illinois',\n",
       " 'Indiana',\n",
       " 'Iowa',\n",
       " 'Kansas',\n",
       " 'Kentucky',\n",
       " 'Louisiana',\n",
       " 'Minnesota',\n",
       " 'Montana',\n",
       " 'New Mexico',\n",
       " 'Oklahoma',\n",
       " 'Oregon',\n",
       " 'Texas',\n",
       " 'Wyoming']"
      ]
     },
     "metadata": {},
     "output_type": "display_data"
    },
    {
     "name": "stdout",
     "output_type": "stream",
     "text": [
      "----------\n",
      "Scientific Name: Pyrgulopsis hubbsi\n",
      "Common Name: Hubbs pyrg\n",
      "Lead FWS Region: R8\n",
      "ECOS Link: https://ecos.fws.gov/ecp/species/8985\n",
      "States where FWS range of states align with BISON occurrence data\n"
     ]
    },
    {
     "data": {
      "text/plain": [
       "['Nevada']"
      ]
     },
     "metadata": {},
     "output_type": "display_data"
    },
    {
     "name": "stdout",
     "output_type": "stream",
     "text": [
      "Additional states where BISON records occurrence data\n"
     ]
    },
    {
     "data": {
      "text/plain": [
       "['Alabama',\n",
       " 'Arizona',\n",
       " 'Arkansas',\n",
       " 'California',\n",
       " 'Georgia',\n",
       " 'Idaho',\n",
       " 'Illinois',\n",
       " 'Indiana',\n",
       " 'Iowa',\n",
       " 'Kansas',\n",
       " 'Kentucky',\n",
       " 'Louisiana',\n",
       " 'Minnesota',\n",
       " 'Montana',\n",
       " 'New Mexico',\n",
       " 'Oklahoma',\n",
       " 'Oregon',\n",
       " 'Texas',\n",
       " 'Utah',\n",
       " 'Wyoming']"
      ]
     },
     "metadata": {},
     "output_type": "display_data"
    },
    {
     "name": "stdout",
     "output_type": "stream",
     "text": [
      "----------\n",
      "Scientific Name: Pyrgulopsis isolata\n",
      "Common Name: elongate-gland springsnail\n",
      "Lead FWS Region: R8\n",
      "ECOS Link: https://ecos.fws.gov/ecp/species/1380\n",
      "States where FWS range of states align with BISON occurrence data\n"
     ]
    },
    {
     "data": {
      "text/plain": [
       "['Nevada']"
      ]
     },
     "metadata": {},
     "output_type": "display_data"
    },
    {
     "name": "stdout",
     "output_type": "stream",
     "text": [
      "Additional states where BISON records occurrence data\n"
     ]
    },
    {
     "data": {
      "text/plain": [
       "['Alabama',\n",
       " 'Arizona',\n",
       " 'Arkansas',\n",
       " 'California',\n",
       " 'Georgia',\n",
       " 'Idaho',\n",
       " 'Illinois',\n",
       " 'Indiana',\n",
       " 'Iowa',\n",
       " 'Kansas',\n",
       " 'Kentucky',\n",
       " 'Louisiana',\n",
       " 'Minnesota',\n",
       " 'Montana',\n",
       " 'New Mexico',\n",
       " 'Oklahoma',\n",
       " 'Oregon',\n",
       " 'Texas',\n",
       " 'Utah',\n",
       " 'Wyoming']"
      ]
     },
     "metadata": {},
     "output_type": "display_data"
    },
    {
     "name": "stdout",
     "output_type": "stream",
     "text": [
      "----------\n",
      "Scientific Name: Pyrgulopsis landyei\n",
      "Common Name: Landyes pyrg\n",
      "Lead FWS Region: R8\n",
      "ECOS Link: https://ecos.fws.gov/ecp/species/8986\n",
      "States where FWS range of states align with BISON occurrence data\n"
     ]
    },
    {
     "data": {
      "text/plain": [
       "['Nevada']"
      ]
     },
     "metadata": {},
     "output_type": "display_data"
    },
    {
     "name": "stdout",
     "output_type": "stream",
     "text": [
      "Additional states where BISON records occurrence data\n"
     ]
    },
    {
     "data": {
      "text/plain": [
       "['Alabama',\n",
       " 'Arizona',\n",
       " 'Arkansas',\n",
       " 'California',\n",
       " 'Georgia',\n",
       " 'Idaho',\n",
       " 'Illinois',\n",
       " 'Indiana',\n",
       " 'Iowa',\n",
       " 'Kansas',\n",
       " 'Kentucky',\n",
       " 'Louisiana',\n",
       " 'Minnesota',\n",
       " 'Montana',\n",
       " 'New Mexico',\n",
       " 'Oklahoma',\n",
       " 'Oregon',\n",
       " 'Texas',\n",
       " 'Utah',\n",
       " 'Wyoming']"
      ]
     },
     "metadata": {},
     "output_type": "display_data"
    },
    {
     "name": "stdout",
     "output_type": "stream",
     "text": [
      "----------\n",
      "Scientific Name: Pyrgulopsis lata\n",
      "Common Name: Butterfield pyrg\n",
      "Lead FWS Region: R8\n",
      "ECOS Link: https://ecos.fws.gov/ecp/species/8987\n",
      "States where FWS range of states align with BISON occurrence data\n"
     ]
    },
    {
     "data": {
      "text/plain": [
       "['Nevada']"
      ]
     },
     "metadata": {},
     "output_type": "display_data"
    },
    {
     "name": "stdout",
     "output_type": "stream",
     "text": [
      "Additional states where BISON records occurrence data\n"
     ]
    },
    {
     "data": {
      "text/plain": [
       "['Alabama',\n",
       " 'Arizona',\n",
       " 'Arkansas',\n",
       " 'California',\n",
       " 'Georgia',\n",
       " 'Idaho',\n",
       " 'Illinois',\n",
       " 'Indiana',\n",
       " 'Iowa',\n",
       " 'Kansas',\n",
       " 'Kentucky',\n",
       " 'Louisiana',\n",
       " 'Minnesota',\n",
       " 'Montana',\n",
       " 'New Mexico',\n",
       " 'Oklahoma',\n",
       " 'Oregon',\n",
       " 'Texas',\n",
       " 'Utah',\n",
       " 'Wyoming']"
      ]
     },
     "metadata": {},
     "output_type": "display_data"
    },
    {
     "name": "stdout",
     "output_type": "stream",
     "text": [
      "----------\n",
      "Scientific Name: Pyrgulopsis marcida\n",
      "Common Name: Hardy pyrg\n",
      "Lead FWS Region: R8\n",
      "ECOS Link: https://ecos.fws.gov/ecp/species/8989\n",
      "States where FWS range of states align with BISON occurrence data\n"
     ]
    },
    {
     "data": {
      "text/plain": [
       "['Nevada']"
      ]
     },
     "metadata": {},
     "output_type": "display_data"
    },
    {
     "name": "stdout",
     "output_type": "stream",
     "text": [
      "Additional states where BISON records occurrence data\n"
     ]
    },
    {
     "data": {
      "text/plain": [
       "['Alabama',\n",
       " 'Arizona',\n",
       " 'Arkansas',\n",
       " 'California',\n",
       " 'Georgia',\n",
       " 'Idaho',\n",
       " 'Illinois',\n",
       " 'Indiana',\n",
       " 'Iowa',\n",
       " 'Kansas',\n",
       " 'Kentucky',\n",
       " 'Louisiana',\n",
       " 'Minnesota',\n",
       " 'Montana',\n",
       " 'New Mexico',\n",
       " 'Oklahoma',\n",
       " 'Oregon',\n",
       " 'Texas',\n",
       " 'Utah',\n",
       " 'Wyoming']"
      ]
     },
     "metadata": {},
     "output_type": "display_data"
    },
    {
     "name": "stdout",
     "output_type": "stream",
     "text": [
      "----------\n",
      "Scientific Name: Pyrgulopsis merriami\n",
      "Common Name: Pahranagat pebblesnail\n",
      "Lead FWS Region: R8\n",
      "ECOS Link: https://ecos.fws.gov/ecp/species/4778\n",
      "States where FWS range of states align with BISON occurrence data\n"
     ]
    },
    {
     "data": {
      "text/plain": [
       "['Nevada']"
      ]
     },
     "metadata": {},
     "output_type": "display_data"
    },
    {
     "name": "stdout",
     "output_type": "stream",
     "text": [
      "Additional states where BISON records occurrence data\n"
     ]
    },
    {
     "data": {
      "text/plain": [
       "['Alabama',\n",
       " 'Arizona',\n",
       " 'Arkansas',\n",
       " 'California',\n",
       " 'Georgia',\n",
       " 'Idaho',\n",
       " 'Illinois',\n",
       " 'Indiana',\n",
       " 'Iowa',\n",
       " 'Kansas',\n",
       " 'Kentucky',\n",
       " 'Louisiana',\n",
       " 'Minnesota',\n",
       " 'Montana',\n",
       " 'New Mexico',\n",
       " 'Oklahoma',\n",
       " 'Oregon',\n",
       " 'Texas',\n",
       " 'Utah',\n",
       " 'Wyoming']"
      ]
     },
     "metadata": {},
     "output_type": "display_data"
    },
    {
     "name": "stdout",
     "output_type": "stream",
     "text": [
      "----------\n",
      "Scientific Name: Pyrgulopsis nanus\n",
      "Common Name: distal-gland springsnail\n",
      "Lead FWS Region: R8\n",
      "ECOS Link: https://ecos.fws.gov/ecp/species/5868\n",
      "States where FWS range of states align with BISON occurrence data\n"
     ]
    },
    {
     "data": {
      "text/plain": [
       "['Nevada']"
      ]
     },
     "metadata": {},
     "output_type": "display_data"
    },
    {
     "name": "stdout",
     "output_type": "stream",
     "text": [
      "Additional states where BISON records occurrence data\n"
     ]
    },
    {
     "data": {
      "text/plain": [
       "['Alabama',\n",
       " 'Arizona',\n",
       " 'Arkansas',\n",
       " 'California',\n",
       " 'Georgia',\n",
       " 'Idaho',\n",
       " 'Illinois',\n",
       " 'Indiana',\n",
       " 'Iowa',\n",
       " 'Kansas',\n",
       " 'Kentucky',\n",
       " 'Louisiana',\n",
       " 'Minnesota',\n",
       " 'Montana',\n",
       " 'New Mexico',\n",
       " 'Oklahoma',\n",
       " 'Oregon',\n",
       " 'Texas',\n",
       " 'Utah',\n",
       " 'Wyoming']"
      ]
     },
     "metadata": {},
     "output_type": "display_data"
    },
    {
     "name": "stdout",
     "output_type": "stream",
     "text": [
      "----------\n",
      "Scientific Name: Pyrgulopsis neritella\n",
      "Common Name: neritiform Steptoe Ranch pyrg\n",
      "Lead FWS Region: R8\n",
      "ECOS Link: https://ecos.fws.gov/ecp/species/8991\n",
      "States where FWS range of states align with BISON occurrence data\n"
     ]
    },
    {
     "data": {
      "text/plain": [
       "['Nevada']"
      ]
     },
     "metadata": {},
     "output_type": "display_data"
    },
    {
     "name": "stdout",
     "output_type": "stream",
     "text": [
      "Additional states where BISON records occurrence data\n"
     ]
    },
    {
     "data": {
      "text/plain": [
       "['Alabama',\n",
       " 'Arizona',\n",
       " 'Arkansas',\n",
       " 'California',\n",
       " 'Georgia',\n",
       " 'Idaho',\n",
       " 'Illinois',\n",
       " 'Indiana',\n",
       " 'Iowa',\n",
       " 'Kansas',\n",
       " 'Kentucky',\n",
       " 'Louisiana',\n",
       " 'Minnesota',\n",
       " 'Montana',\n",
       " 'New Mexico',\n",
       " 'Oklahoma',\n",
       " 'Oregon',\n",
       " 'Texas',\n",
       " 'Utah',\n",
       " 'Wyoming']"
      ]
     },
     "metadata": {},
     "output_type": "display_data"
    },
    {
     "name": "stdout",
     "output_type": "stream",
     "text": [
      "----------\n",
      "Scientific Name: Pyrgulopsis orbiculata\n",
      "Common Name: sub-globose Steptoe Ranch pyrg\n",
      "Lead FWS Region: R8\n",
      "ECOS Link: https://ecos.fws.gov/ecp/species/8992\n",
      "States where FWS range of states align with BISON occurrence data\n"
     ]
    },
    {
     "data": {
      "text/plain": [
       "['Nevada']"
      ]
     },
     "metadata": {},
     "output_type": "display_data"
    },
    {
     "name": "stdout",
     "output_type": "stream",
     "text": [
      "Additional states where BISON records occurrence data\n"
     ]
    },
    {
     "data": {
      "text/plain": [
       "['Alabama',\n",
       " 'Arizona',\n",
       " 'Arkansas',\n",
       " 'California',\n",
       " 'Georgia',\n",
       " 'Idaho',\n",
       " 'Illinois',\n",
       " 'Indiana',\n",
       " 'Iowa',\n",
       " 'Kansas',\n",
       " 'Kentucky',\n",
       " 'Louisiana',\n",
       " 'Minnesota',\n",
       " 'Montana',\n",
       " 'New Mexico',\n",
       " 'Oklahoma',\n",
       " 'Oregon',\n",
       " 'Texas',\n",
       " 'Utah',\n",
       " 'Wyoming']"
      ]
     },
     "metadata": {},
     "output_type": "display_data"
    },
    {
     "name": "stdout",
     "output_type": "stream",
     "text": [
      "----------\n",
      "Scientific Name: Pyrgulopsis ozarkensis (Marstonia ozarkensis)\n",
      "Common Name: Ozark pyrg\n",
      "Lead FWS Region: R4\n",
      "ECOS Link: https://ecos.fws.gov/ecp0/profile/speciesProfile?sId=3974\n",
      "States where FWS range of states align with BISON occurrence data\n"
     ]
    },
    {
     "data": {
      "text/plain": [
       "['Arkansas']"
      ]
     },
     "metadata": {},
     "output_type": "display_data"
    },
    {
     "name": "stdout",
     "output_type": "stream",
     "text": [
      "States where FWS range of states had no BISON occurrence data\n"
     ]
    },
    {
     "data": {
      "text/plain": [
       "['Missouri']"
      ]
     },
     "metadata": {},
     "output_type": "display_data"
    },
    {
     "name": "stdout",
     "output_type": "stream",
     "text": [
      "Additional states where BISON records occurrence data\n"
     ]
    },
    {
     "data": {
      "text/plain": [
       "['Alabama',\n",
       " 'Arizona',\n",
       " 'California',\n",
       " 'Georgia',\n",
       " 'Idaho',\n",
       " 'Illinois',\n",
       " 'Indiana',\n",
       " 'Iowa',\n",
       " 'Kansas',\n",
       " 'Kentucky',\n",
       " 'Louisiana',\n",
       " 'Minnesota',\n",
       " 'Montana',\n",
       " 'Nevada',\n",
       " 'New Mexico',\n",
       " 'Oklahoma',\n",
       " 'Oregon',\n",
       " 'Texas',\n",
       " 'Utah',\n",
       " 'Wyoming']"
      ]
     },
     "metadata": {},
     "output_type": "display_data"
    },
    {
     "name": "stdout",
     "output_type": "stream",
     "text": [
      "----------\n",
      "Scientific Name: Pyrgulopsis peculiaris\n",
      "Common Name: bifid duct pyrg\n",
      "Lead FWS Region: R8\n",
      "ECOS Link: https://ecos.fws.gov/ecp/species/8994\n",
      "States where FWS range of states align with BISON occurrence data\n"
     ]
    },
    {
     "data": {
      "text/plain": [
       "['Nevada', 'Utah']"
      ]
     },
     "metadata": {},
     "output_type": "display_data"
    },
    {
     "name": "stdout",
     "output_type": "stream",
     "text": [
      "Additional states where BISON records occurrence data\n"
     ]
    },
    {
     "data": {
      "text/plain": [
       "['Alabama',\n",
       " 'Arizona',\n",
       " 'Arkansas',\n",
       " 'California',\n",
       " 'Georgia',\n",
       " 'Idaho',\n",
       " 'Illinois',\n",
       " 'Indiana',\n",
       " 'Iowa',\n",
       " 'Kansas',\n",
       " 'Kentucky',\n",
       " 'Louisiana',\n",
       " 'Minnesota',\n",
       " 'Montana',\n",
       " 'New Mexico',\n",
       " 'Oklahoma',\n",
       " 'Oregon',\n",
       " 'Texas',\n",
       " 'Wyoming']"
      ]
     },
     "metadata": {},
     "output_type": "display_data"
    },
    {
     "name": "stdout",
     "output_type": "stream",
     "text": [
      "----------\n",
      "Scientific Name: Pyrgulopsis pisteri\n",
      "Common Name: median-gland Nevada pyrg\n",
      "Lead FWS Region: R8\n",
      "ECOS Link: https://ecos.fws.gov/ecp/species/2997\n",
      "States where FWS range of states align with BISON occurrence data\n"
     ]
    },
    {
     "data": {
      "text/plain": [
       "['Nevada']"
      ]
     },
     "metadata": {},
     "output_type": "display_data"
    },
    {
     "name": "stdout",
     "output_type": "stream",
     "text": [
      "Additional states where BISON records occurrence data\n"
     ]
    },
    {
     "data": {
      "text/plain": [
       "['Alabama',\n",
       " 'Arizona',\n",
       " 'Arkansas',\n",
       " 'California',\n",
       " 'Georgia',\n",
       " 'Idaho',\n",
       " 'Illinois',\n",
       " 'Indiana',\n",
       " 'Iowa',\n",
       " 'Kansas',\n",
       " 'Kentucky',\n",
       " 'Louisiana',\n",
       " 'Minnesota',\n",
       " 'Montana',\n",
       " 'New Mexico',\n",
       " 'Oklahoma',\n",
       " 'Oregon',\n",
       " 'Texas',\n",
       " 'Utah',\n",
       " 'Wyoming']"
      ]
     },
     "metadata": {},
     "output_type": "display_data"
    },
    {
     "name": "stdout",
     "output_type": "stream",
     "text": [
      "----------\n",
      "Scientific Name: Pyrgulopsis planulata\n",
      "Common Name: flat-topped Steptoe pyrg\n",
      "Lead FWS Region: R8\n",
      "ECOS Link: https://ecos.fws.gov/ecp/species/8995\n",
      "States where FWS range of states align with BISON occurrence data\n"
     ]
    },
    {
     "data": {
      "text/plain": [
       "['Nevada']"
      ]
     },
     "metadata": {},
     "output_type": "display_data"
    },
    {
     "name": "stdout",
     "output_type": "stream",
     "text": [
      "Additional states where BISON records occurrence data\n"
     ]
    },
    {
     "data": {
      "text/plain": [
       "['Alabama',\n",
       " 'Arizona',\n",
       " 'Arkansas',\n",
       " 'California',\n",
       " 'Georgia',\n",
       " 'Idaho',\n",
       " 'Illinois',\n",
       " 'Indiana',\n",
       " 'Iowa',\n",
       " 'Kansas',\n",
       " 'Kentucky',\n",
       " 'Louisiana',\n",
       " 'Minnesota',\n",
       " 'Montana',\n",
       " 'New Mexico',\n",
       " 'Oklahoma',\n",
       " 'Oregon',\n",
       " 'Texas',\n",
       " 'Utah',\n",
       " 'Wyoming']"
      ]
     },
     "metadata": {},
     "output_type": "display_data"
    },
    {
     "name": "stdout",
     "output_type": "stream",
     "text": [
      "----------\n",
      "Scientific Name: Pyrgulopsis sathos\n",
      "Common Name: White River Valley pyrg\n",
      "Lead FWS Region: R8\n",
      "ECOS Link: https://ecos.fws.gov/ecp/species/8996\n",
      "States where FWS range of states align with BISON occurrence data\n"
     ]
    },
    {
     "data": {
      "text/plain": [
       "['Nevada']"
      ]
     },
     "metadata": {},
     "output_type": "display_data"
    },
    {
     "name": "stdout",
     "output_type": "stream",
     "text": [
      "Additional states where BISON records occurrence data\n"
     ]
    },
    {
     "data": {
      "text/plain": [
       "['Alabama',\n",
       " 'Arizona',\n",
       " 'Arkansas',\n",
       " 'California',\n",
       " 'Georgia',\n",
       " 'Idaho',\n",
       " 'Illinois',\n",
       " 'Indiana',\n",
       " 'Iowa',\n",
       " 'Kansas',\n",
       " 'Kentucky',\n",
       " 'Louisiana',\n",
       " 'Minnesota',\n",
       " 'Montana',\n",
       " 'New Mexico',\n",
       " 'Oklahoma',\n",
       " 'Oregon',\n",
       " 'Texas',\n",
       " 'Utah',\n",
       " 'Wyoming']"
      ]
     },
     "metadata": {},
     "output_type": "display_data"
    },
    {
     "name": "stdout",
     "output_type": "stream",
     "text": [
      "----------\n",
      "Scientific Name: Pyrgulopsis saxatilis\n",
      "Common Name: sub-globose snake pyrg\n",
      "Lead FWS Region: R6\n",
      "ECOS Link: https://ecos.fws.gov/ecp/species/8997\n",
      "States where FWS range of states align with BISON occurrence data\n"
     ]
    },
    {
     "data": {
      "text/plain": [
       "['Utah']"
      ]
     },
     "metadata": {},
     "output_type": "display_data"
    },
    {
     "name": "stdout",
     "output_type": "stream",
     "text": [
      "Additional states where BISON records occurrence data\n"
     ]
    },
    {
     "data": {
      "text/plain": [
       "['Alabama',\n",
       " 'Arizona',\n",
       " 'Arkansas',\n",
       " 'California',\n",
       " 'Georgia',\n",
       " 'Idaho',\n",
       " 'Illinois',\n",
       " 'Indiana',\n",
       " 'Iowa',\n",
       " 'Kansas',\n",
       " 'Kentucky',\n",
       " 'Louisiana',\n",
       " 'Minnesota',\n",
       " 'Montana',\n",
       " 'Nevada',\n",
       " 'New Mexico',\n",
       " 'Oklahoma',\n",
       " 'Oregon',\n",
       " 'Texas',\n",
       " 'Wyoming']"
      ]
     },
     "metadata": {},
     "output_type": "display_data"
    },
    {
     "name": "stdout",
     "output_type": "stream",
     "text": [
      "----------\n",
      "Scientific Name: Pyrgulopsis serrata\n",
      "Common Name: northern Steptoe pyrg\n",
      "Lead FWS Region: R8\n",
      "ECOS Link: https://ecos.fws.gov/ecp/species/8998\n",
      "States where FWS range of states align with BISON occurrence data\n"
     ]
    },
    {
     "data": {
      "text/plain": [
       "['Nevada']"
      ]
     },
     "metadata": {},
     "output_type": "display_data"
    },
    {
     "name": "stdout",
     "output_type": "stream",
     "text": [
      "Additional states where BISON records occurrence data\n"
     ]
    },
    {
     "data": {
      "text/plain": [
       "['Alabama',\n",
       " 'Arizona',\n",
       " 'Arkansas',\n",
       " 'California',\n",
       " 'Georgia',\n",
       " 'Idaho',\n",
       " 'Illinois',\n",
       " 'Indiana',\n",
       " 'Iowa',\n",
       " 'Kansas',\n",
       " 'Kentucky',\n",
       " 'Louisiana',\n",
       " 'Minnesota',\n",
       " 'Montana',\n",
       " 'New Mexico',\n",
       " 'Oklahoma',\n",
       " 'Oregon',\n",
       " 'Texas',\n",
       " 'Utah',\n",
       " 'Wyoming']"
      ]
     },
     "metadata": {},
     "output_type": "display_data"
    },
    {
     "name": "stdout",
     "output_type": "stream",
     "text": [
      "----------\n",
      "Scientific Name: Pyrgulopsis sterilis\n",
      "Common Name: Sterile Basin pyrg\n",
      "Lead FWS Region: R8\n",
      "ECOS Link: https://ecos.fws.gov/ecp/species/8999\n",
      "States where FWS range of states align with BISON occurrence data\n"
     ]
    },
    {
     "data": {
      "text/plain": [
       "['Nevada']"
      ]
     },
     "metadata": {},
     "output_type": "display_data"
    },
    {
     "name": "stdout",
     "output_type": "stream",
     "text": [
      "Additional states where BISON records occurrence data\n"
     ]
    },
    {
     "data": {
      "text/plain": [
       "['Alabama',\n",
       " 'Arizona',\n",
       " 'Arkansas',\n",
       " 'California',\n",
       " 'Georgia',\n",
       " 'Idaho',\n",
       " 'Illinois',\n",
       " 'Indiana',\n",
       " 'Iowa',\n",
       " 'Kansas',\n",
       " 'Kentucky',\n",
       " 'Louisiana',\n",
       " 'Minnesota',\n",
       " 'Montana',\n",
       " 'New Mexico',\n",
       " 'Oklahoma',\n",
       " 'Oregon',\n",
       " 'Texas',\n",
       " 'Utah',\n",
       " 'Wyoming']"
      ]
     },
     "metadata": {},
     "output_type": "display_data"
    },
    {
     "name": "stdout",
     "output_type": "stream",
     "text": [
      "----------\n",
      "Scientific Name: Pyrgulopsis sublata\n",
      "Common Name: Lake Valley pyrg\n",
      "Lead FWS Region: R8\n",
      "ECOS Link: https://ecos.fws.gov/ecp/species/9000\n",
      "States where FWS range of states align with BISON occurrence data\n"
     ]
    },
    {
     "data": {
      "text/plain": [
       "['Nevada']"
      ]
     },
     "metadata": {},
     "output_type": "display_data"
    },
    {
     "name": "stdout",
     "output_type": "stream",
     "text": [
      "Additional states where BISON records occurrence data\n"
     ]
    },
    {
     "data": {
      "text/plain": [
       "['Alabama',\n",
       " 'Arizona',\n",
       " 'Arkansas',\n",
       " 'California',\n",
       " 'Georgia',\n",
       " 'Idaho',\n",
       " 'Illinois',\n",
       " 'Indiana',\n",
       " 'Iowa',\n",
       " 'Kansas',\n",
       " 'Kentucky',\n",
       " 'Louisiana',\n",
       " 'Minnesota',\n",
       " 'Montana',\n",
       " 'New Mexico',\n",
       " 'Oklahoma',\n",
       " 'Oregon',\n",
       " 'Texas',\n",
       " 'Utah',\n",
       " 'Wyoming']"
      ]
     },
     "metadata": {},
     "output_type": "display_data"
    },
    {
     "name": "stdout",
     "output_type": "stream",
     "text": [
      "----------\n",
      "Scientific Name: Pyrgulopsis sulcata\n",
      "Common Name: southern Steptoe pyrg\n",
      "Lead FWS Region: R8\n",
      "ECOS Link: https://ecos.fws.gov/ecp/species/9001\n",
      "States where FWS range of states align with BISON occurrence data\n"
     ]
    },
    {
     "data": {
      "text/plain": [
       "['Nevada']"
      ]
     },
     "metadata": {},
     "output_type": "display_data"
    },
    {
     "name": "stdout",
     "output_type": "stream",
     "text": [
      "Additional states where BISON records occurrence data\n"
     ]
    },
    {
     "data": {
      "text/plain": [
       "['Alabama',\n",
       " 'Arizona',\n",
       " 'Arkansas',\n",
       " 'California',\n",
       " 'Georgia',\n",
       " 'Idaho',\n",
       " 'Illinois',\n",
       " 'Indiana',\n",
       " 'Iowa',\n",
       " 'Kansas',\n",
       " 'Kentucky',\n",
       " 'Louisiana',\n",
       " 'Minnesota',\n",
       " 'Montana',\n",
       " 'New Mexico',\n",
       " 'Oklahoma',\n",
       " 'Oregon',\n",
       " 'Texas',\n",
       " 'Utah',\n",
       " 'Wyoming']"
      ]
     },
     "metadata": {},
     "output_type": "display_data"
    },
    {
     "name": "stdout",
     "output_type": "stream",
     "text": [
      "----------\n",
      "Scientific Name: Pyrgulopsis turbatrix\n",
      "Common Name: Southeast Nevada pyrg\n",
      "Lead FWS Region: R8\n",
      "ECOS Link: https://ecos.fws.gov/ecp/species/9002\n",
      "States where FWS range of states align with BISON occurrence data\n"
     ]
    },
    {
     "data": {
      "text/plain": [
       "['Nevada']"
      ]
     },
     "metadata": {},
     "output_type": "display_data"
    },
    {
     "name": "stdout",
     "output_type": "stream",
     "text": [
      "Additional states where BISON records occurrence data\n"
     ]
    },
    {
     "data": {
      "text/plain": [
       "['Alabama',\n",
       " 'Arizona',\n",
       " 'Arkansas',\n",
       " 'California',\n",
       " 'Georgia',\n",
       " 'Idaho',\n",
       " 'Illinois',\n",
       " 'Indiana',\n",
       " 'Iowa',\n",
       " 'Kansas',\n",
       " 'Kentucky',\n",
       " 'Louisiana',\n",
       " 'Minnesota',\n",
       " 'Montana',\n",
       " 'New Mexico',\n",
       " 'Oklahoma',\n",
       " 'Oregon',\n",
       " 'Texas',\n",
       " 'Utah',\n",
       " 'Wyoming']"
      ]
     },
     "metadata": {},
     "output_type": "display_data"
    },
    {
     "name": "stdout",
     "output_type": "stream",
     "text": [
      "----------\n",
      "Scientific Name: Sonorella eremita\n",
      "Common Name: San Xavier talussnail\n",
      "Lead FWS Region: R2\n",
      "ECOS Link: https://ecos.fws.gov/ecp/species/1015\n",
      "States where FWS range of states align with BISON occurrence data\n"
     ]
    },
    {
     "data": {
      "text/plain": [
       "['Arizona']"
      ]
     },
     "metadata": {},
     "output_type": "display_data"
    },
    {
     "name": "stdout",
     "output_type": "stream",
     "text": [
      "Additional states where BISON records occurrence data\n"
     ]
    },
    {
     "data": {
      "text/plain": [
       "['California', 'New Mexico', 'Texas']"
      ]
     },
     "metadata": {},
     "output_type": "display_data"
    },
    {
     "name": "stdout",
     "output_type": "stream",
     "text": [
      "----------\n",
      "Scientific Name: Sonorella grahamensis\n",
      "Common Name: Pinaleno talussnail\n",
      "Lead FWS Region: R2\n",
      "ECOS Link: https://ecos.fws.gov/ecp/species/7840\n",
      "States where FWS range of states align with BISON occurrence data\n"
     ]
    },
    {
     "data": {
      "text/plain": [
       "['Arizona']"
      ]
     },
     "metadata": {},
     "output_type": "display_data"
    },
    {
     "name": "stdout",
     "output_type": "stream",
     "text": [
      "Additional states where BISON records occurrence data\n"
     ]
    },
    {
     "data": {
      "text/plain": [
       "['California', 'New Mexico', 'Texas']"
      ]
     },
     "metadata": {},
     "output_type": "display_data"
    },
    {
     "name": "stdout",
     "output_type": "stream",
     "text": [
      "----------\n",
      "Scientific Name: Sonorella macrophallus\n",
      "Common Name: Wet Canyon talussnail\n",
      "Lead FWS Region: R2\n",
      "ECOS Link: https://ecos.fws.gov/ecp/species/4377\n",
      "States where FWS range of states align with BISON occurrence data\n"
     ]
    },
    {
     "data": {
      "text/plain": [
       "['Arizona']"
      ]
     },
     "metadata": {},
     "output_type": "display_data"
    },
    {
     "name": "stdout",
     "output_type": "stream",
     "text": [
      "Additional states where BISON records occurrence data\n"
     ]
    },
    {
     "data": {
      "text/plain": [
       "['California', 'New Mexico', 'Texas']"
      ]
     },
     "metadata": {},
     "output_type": "display_data"
    },
    {
     "name": "stdout",
     "output_type": "stream",
     "text": [
      "----------\n",
      "Scientific Name: Trilobopsis roperi\n",
      "Common Name: Shasta chaparral\n",
      "Lead FWS Region: R8\n",
      "ECOS Link: https://ecos.fws.gov/ecp/species/8849\n",
      "States where FWS range of states align with BISON occurrence data\n"
     ]
    },
    {
     "data": {
      "text/plain": [
       "['California']"
      ]
     },
     "metadata": {},
     "output_type": "display_data"
    },
    {
     "name": "stdout",
     "output_type": "stream",
     "text": [
      "Additional states where BISON records occurrence data\n"
     ]
    },
    {
     "data": {
      "text/plain": [
       "['Oregon']"
      ]
     },
     "metadata": {},
     "output_type": "display_data"
    },
    {
     "name": "stdout",
     "output_type": "stream",
     "text": [
      "----------\n",
      "Scientific Name: Tryonia angulata\n",
      "Common Name: sportinggoods tryonia\n",
      "Lead FWS Region: R8\n",
      "ECOS Link: https://ecos.fws.gov/ecp/species/6645\n",
      "States where FWS range of states align with BISON occurrence data\n"
     ]
    },
    {
     "data": {
      "text/plain": [
       "['Nevada']"
      ]
     },
     "metadata": {},
     "output_type": "display_data"
    },
    {
     "name": "stdout",
     "output_type": "stream",
     "text": [
      "Additional states where BISON records occurrence data\n"
     ]
    },
    {
     "data": {
      "text/plain": [
       "['Alabama',\n",
       " 'California',\n",
       " 'Florida',\n",
       " 'Louisiana',\n",
       " 'New Mexico',\n",
       " 'Texas',\n",
       " 'Utah']"
      ]
     },
     "metadata": {},
     "output_type": "display_data"
    },
    {
     "name": "stdout",
     "output_type": "stream",
     "text": [
      "----------\n",
      "Scientific Name: Tryonia clathrata\n",
      "Common Name: grated tryonia\n",
      "Lead FWS Region: R8\n",
      "ECOS Link: https://ecos.fws.gov/ecp/species/303\n",
      "States where FWS range of states align with BISON occurrence data\n"
     ]
    },
    {
     "data": {
      "text/plain": [
       "['Nevada']"
      ]
     },
     "metadata": {},
     "output_type": "display_data"
    },
    {
     "name": "stdout",
     "output_type": "stream",
     "text": [
      "Additional states where BISON records occurrence data\n"
     ]
    },
    {
     "data": {
      "text/plain": [
       "['Alabama',\n",
       " 'California',\n",
       " 'Florida',\n",
       " 'Louisiana',\n",
       " 'New Mexico',\n",
       " 'Texas',\n",
       " 'Utah']"
      ]
     },
     "metadata": {},
     "output_type": "display_data"
    },
    {
     "name": "stdout",
     "output_type": "stream",
     "text": [
      "----------\n",
      "Scientific Name: Tryonia elata\n",
      "Common Name: Point of Rocks tryonia\n",
      "Lead FWS Region: R8\n",
      "ECOS Link: https://ecos.fws.gov/ecp/species/7837\n",
      "States where FWS range of states align with BISON occurrence data\n"
     ]
    },
    {
     "data": {
      "text/plain": [
       "['Nevada']"
      ]
     },
     "metadata": {},
     "output_type": "display_data"
    },
    {
     "name": "stdout",
     "output_type": "stream",
     "text": [
      "Additional states where BISON records occurrence data\n"
     ]
    },
    {
     "data": {
      "text/plain": [
       "['Alabama',\n",
       " 'California',\n",
       " 'Florida',\n",
       " 'Louisiana',\n",
       " 'New Mexico',\n",
       " 'Texas',\n",
       " 'Utah']"
      ]
     },
     "metadata": {},
     "output_type": "display_data"
    },
    {
     "name": "stdout",
     "output_type": "stream",
     "text": [
      "----------\n",
      "Scientific Name: Tryonia ericae\n",
      "Common Name: minute tryonia\n",
      "Lead FWS Region: R8\n",
      "ECOS Link: https://ecos.fws.gov/ecp/species/2556\n",
      "States where FWS range of states align with BISON occurrence data\n"
     ]
    },
    {
     "data": {
      "text/plain": [
       "['Nevada']"
      ]
     },
     "metadata": {},
     "output_type": "display_data"
    },
    {
     "name": "stdout",
     "output_type": "stream",
     "text": [
      "Additional states where BISON records occurrence data\n"
     ]
    },
    {
     "data": {
      "text/plain": [
       "['Alabama',\n",
       " 'California',\n",
       " 'Florida',\n",
       " 'Louisiana',\n",
       " 'New Mexico',\n",
       " 'Texas',\n",
       " 'Utah']"
      ]
     },
     "metadata": {},
     "output_type": "display_data"
    },
    {
     "name": "stdout",
     "output_type": "stream",
     "text": [
      "----------\n",
      "Scientific Name: Tryonia quitobaquitae\n",
      "Common Name: Quitobaquito tryonia\n",
      "Lead FWS Region: R2\n",
      "ECOS Link: https://ecos.fws.gov/ecp/species/4521\n",
      "States where FWS range of states had no BISON occurrence data\n"
     ]
    },
    {
     "data": {
      "text/plain": [
       "['Arizona']"
      ]
     },
     "metadata": {},
     "output_type": "display_data"
    },
    {
     "name": "stdout",
     "output_type": "stream",
     "text": [
      "Additional states where BISON records occurrence data\n"
     ]
    },
    {
     "data": {
      "text/plain": [
       "['Alabama',\n",
       " 'California',\n",
       " 'Florida',\n",
       " 'Louisiana',\n",
       " 'Nevada',\n",
       " 'New Mexico',\n",
       " 'Texas',\n",
       " 'Utah']"
      ]
     },
     "metadata": {},
     "output_type": "display_data"
    },
    {
     "name": "stdout",
     "output_type": "stream",
     "text": [
      "----------\n",
      "Scientific Name: Tryonia variegata\n",
      "Common Name: Amargosa tryonia\n",
      "Lead FWS Region: R8\n",
      "ECOS Link: https://ecos.fws.gov/ecp/species/6906\n",
      "States where FWS range of states align with BISON occurrence data\n"
     ]
    },
    {
     "data": {
      "text/plain": [
       "['California', 'Nevada']"
      ]
     },
     "metadata": {},
     "output_type": "display_data"
    },
    {
     "name": "stdout",
     "output_type": "stream",
     "text": [
      "Additional states where BISON records occurrence data\n"
     ]
    },
    {
     "data": {
      "text/plain": [
       "['Alabama', 'Florida', 'Louisiana', 'New Mexico', 'Texas', 'Utah']"
      ]
     },
     "metadata": {},
     "output_type": "display_data"
    },
    {
     "name": "stdout",
     "output_type": "stream",
     "text": [
      "----------\n",
      "Scientific Name: Vertigo sp.\n",
      "Common Name: Hoko vertigo\n",
      "Lead FWS Region: R1\n",
      "ECOS Link: https://ecos.fws.gov/ecp/species/8761\n",
      "States where FWS range of states align with BISON occurrence data\n"
     ]
    },
    {
     "data": {
      "text/plain": [
       "['Washington']"
      ]
     },
     "metadata": {},
     "output_type": "display_data"
    },
    {
     "name": "stdout",
     "output_type": "stream",
     "text": [
      "Additional states where BISON records occurrence data\n"
     ]
    },
    {
     "data": {
      "text/plain": [
       "['Alabama',\n",
       " 'Alaska',\n",
       " 'Arizona',\n",
       " 'Arkansas',\n",
       " 'California',\n",
       " 'Colorado',\n",
       " 'Florida',\n",
       " 'Georgia',\n",
       " 'Idaho',\n",
       " 'Illinois',\n",
       " 'Indiana',\n",
       " 'Iowa',\n",
       " 'Kansas',\n",
       " 'Kentucky',\n",
       " 'Louisiana',\n",
       " 'Maine',\n",
       " 'Massachusetts',\n",
       " 'Michigan',\n",
       " 'Minnesota',\n",
       " 'Mississippi',\n",
       " 'Missouri',\n",
       " 'Montana',\n",
       " 'Nevada',\n",
       " 'New Hampshire',\n",
       " 'New Jersey',\n",
       " 'New Mexico',\n",
       " 'New York',\n",
       " 'North Carolina',\n",
       " 'Ohio',\n",
       " 'Oklahoma',\n",
       " 'Oregon',\n",
       " 'Pennsylvania',\n",
       " 'Tennessee',\n",
       " 'Texas',\n",
       " 'Utah',\n",
       " 'Vermont',\n",
       " 'Virginia',\n",
       " 'West Virginia',\n",
       " 'Wisconsin']"
      ]
     },
     "metadata": {},
     "output_type": "display_data"
    },
    {
     "name": "stdout",
     "output_type": "stream",
     "text": [
      "----------\n",
      "Scientific Name: Vespericola pressleyi\n",
      "Common Name: Big Bar hesperian\n",
      "Lead FWS Region: R8\n",
      "ECOS Link: https://ecos.fws.gov/ecp/species/8850\n",
      "States where FWS range of states align with BISON occurrence data\n"
     ]
    },
    {
     "data": {
      "text/plain": [
       "['California']"
      ]
     },
     "metadata": {},
     "output_type": "display_data"
    },
    {
     "name": "stdout",
     "output_type": "stream",
     "text": [
      "Additional states where BISON records occurrence data\n"
     ]
    },
    {
     "data": {
      "text/plain": [
       "['Oregon', 'Washington']"
      ]
     },
     "metadata": {},
     "output_type": "display_data"
    },
    {
     "name": "stdout",
     "output_type": "stream",
     "text": [
      "----------\n",
      "Scientific Name: Vespericola shasta\n",
      "Common Name: Shasta hesperian\n",
      "Lead FWS Region: R8\n",
      "ECOS Link: https://ecos.fws.gov/ecp/species/8896\n",
      "States where FWS range of states align with BISON occurrence data\n"
     ]
    },
    {
     "data": {
      "text/plain": [
       "['California']"
      ]
     },
     "metadata": {},
     "output_type": "display_data"
    },
    {
     "name": "stdout",
     "output_type": "stream",
     "text": [
      "Additional states where BISON records occurrence data\n"
     ]
    },
    {
     "data": {
      "text/plain": [
       "['Oregon', 'Washington']"
      ]
     },
     "metadata": {},
     "output_type": "display_data"
    },
    {
     "name": "stdout",
     "output_type": "stream",
     "text": [
      "----------\n"
     ]
    }
   ],
   "source": [
    "for record in esaWPSpecies.find({},{\"Submitted Data\":1,\"Synthesis\":1}):\n",
    "    print (\"Scientific Name:\", record[\"Submitted Data\"][\"Scientific Name\"])\n",
    "    print (\"Common Name:\", record[\"Submitted Data\"][\"Common Name\"])\n",
    "    print (\"Lead FWS Region:\", record[\"Submitted Data\"][\"Lead FWS Region\"])\n",
    "    print (\"ECOS Link:\", record[\"Submitted Data\"][\"Species Record Reference\"])\n",
    "\n",
    "    statesAligningWithBISON = [s for s in record[\"Synthesis\"][\"FWS Range List\"] if s in record[\"Synthesis\"][\"States with BISON Occurrence Data\"]]\n",
    "    if len(statesAligningWithBISON) > 0:\n",
    "        print (\"States where FWS range of states align with BISON occurrence data\")\n",
    "        display (statesAligningWithBISON)\n",
    "\n",
    "    fwsStatesWithNoBISONRecords = [s for s in record[\"Synthesis\"][\"FWS Range List\"] if s not in record[\"Synthesis\"][\"States with BISON Occurrence Data\"]]\n",
    "    if len(fwsStatesWithNoBISONRecords) > 0:\n",
    "        print (\"States where FWS range of states had no BISON occurrence data\")\n",
    "        display (fwsStatesWithNoBISONRecords)\n",
    "\n",
    "    additionalStatesFromBISON = list(set(record[\"Synthesis\"][\"States with BISON Occurrence Data\"]) - set(record[\"Synthesis\"][\"FWS Range List\"]))\n",
    "    if len(additionalStatesFromBISON) > 0:\n",
    "        additionalStatesFromBISON.sort()\n",
    "        print (\"Additional states where BISON records occurrence data\")\n",
    "        display (additionalStatesFromBISON)\n",
    "    print (\"----------\")\n"
   ]
  },
  {
   "cell_type": "markdown",
   "metadata": {},
   "source": [
    "## GAP Species Habitat Maps\n",
    "The Gap Analysis Project in Core Science Analytics, Synthesis and Library has produced species distribution maps for the terrestrial vertebrate species with range in CONUS. These are 30m raster products based on the GAP Land Cover data from 2001. Many of these distribution maps have been online for many years, particularly those that were started as regional products. The full set of maps is currently in USGS data review and will be released soon.\n",
    "\n",
    "The following code block lists the FWS work plan species where GAP models exist."
   ]
  },
  {
   "cell_type": "code",
   "execution_count": 4,
   "metadata": {},
   "outputs": [
    {
     "name": "stdout",
     "output_type": "stream",
     "text": [
      "Ambystoma barbouri -- streamside salamander -- GAP Species Code: aSTRSx\n",
      "Batrachoseps campi -- Inyo Mountains slender salamander -- GAP Species Code: aINSAx\n",
      "Batrachoseps minor -- lesser slender salamander -- GAP Species Code: aLSSAx\n",
      "Batrachoseps relictus -- relictual slender salamander -- GAP Species Code: aRSSAx\n",
      "Batrachoseps robustus -- Kern Plateau salamander -- GAP Species Code: aKPSAx\n",
      "Batrachoseps simatus -- Kern Canyon slender salamander -- GAP Species Code: aKCSSx\n",
      "Bufo microscaphus microscaphus -- Arizona toad -- GAP Species Code: aAZTOx\n",
      "Cryptobranchus alleganiensis -- hellbender -- GAP Species Code: aHELLx\n",
      "Eurycea latitans -- Cascade Caverns salamander -- GAP Species Code: aCCSAx\n",
      "Eurycea nana -- Texas salamander -- GAP Species Code: aSMSAx\n",
      "Eurycea robusta -- Blanco blind salamander -- GAP Species Code: aBLSAx\n",
      "Eurycea sp. -- Comal Springs salamander -- GAP Species Code: aBLSAx\n",
      "Eurycea tridentifera -- Comal blind salamander -- GAP Species Code: aCBSAx\n",
      "Eurycea tynerensis -- Oklahoma salamander -- GAP Species Code: aOKSAx\n",
      "Gyrinophilus gulolineatus -- Berry Cave Salamander -- GAP Species Code: aBCSAx\n",
      "Gyrinophilus palleucus -- Tennessee Cave salamander -- GAP Species Code: aTCSAx\n",
      "Gyrinophilus subterraneus -- West Virginia spring salamander -- GAP Species Code: aWVSSx\n",
      "Haideotriton wallacei -- Georgia blind salamander -- GAP Species Code: aGBSAx\n",
      "Hydromantes brunus -- limestone salamander -- GAP Species Code: aLISAx\n",
      "Hydromantes shastae -- Shasta salamander -- GAP Species Code: aSHSAx\n",
      "Necturus lewisi -- Neuse River waterdog -- GAP Species Code: aNRWAx\n",
      "Notophthalmus perstriatus -- striped newt -- GAP Species Code: aSTNEx\n",
      "Plethodon hubrichti -- Peaks of Otter salamander -- GAP Species Code: aPOSAx\n",
      "Pseudacris illinoensis -- Illinois chorus frog -- GAP Species Code: aILGRx\n",
      "Rana boylii -- foothill yellow-legged frog -- GAP Species Code: aFYLFx\n",
      "Rana cascadae -- Cascades frog -- GAP Species Code: aCSFRx\n",
      "Rhyacotriton cascadae -- Cascade torrent salamander -- GAP Species Code: aCTRSx\n",
      "Rhyacotriton kezeri -- Columbia torrent salamander -- GAP Species Code: aCTOSx\n",
      "Spea hammondii -- western spadefoot -- GAP Species Code: aWESPx\n",
      "Agelaius tricolor -- tricolor blackbird -- GAP Species Code: bTRBLx\n",
      "Amazona viridigenalis -- red-crowned parrot -- GAP Species Code: bRCPAx\n",
      "Ammodramus caudacutus -- salt marsh sharp-tailed sparrow -- GAP Species Code: bSSTSx\n",
      "Catharus bicknelli -- Bicknell's thrush -- GAP Species Code: bBITHx\n",
      "Fratercula cirrhata -- tufted puffin -- GAP Species Code: bTUPUx\n",
      "Grus canadensis pratensis -- Florida sandhill crane -- GAP Species Code: bTUPUx\n",
      "Laterallus jamaicensis -- black rail -- GAP Species Code: bBLRAx\n",
      "picoides arcticus -- black-backed woodpecker (Black Hills population) -- GAP Species Code: bBBWOx\n",
      "picoides arcticus -- black-backed woodpecker (Oregon Cascades-California population) -- GAP Species Code: bBBWOx\n",
      "Strix occidentalis caurina -- northern spotted owl -- GAP Species Code: bSPOWc\n",
      "Strix occidentalis occidentalis -- California spotted owl -- GAP Species Code: bSPOWo\n",
      "Tympanuchus pallidicinctus -- lesser prairie-chicken -- GAP Species Code: bLEPCx\n",
      "Vermivora chrysoptera -- golden-winged warbler -- GAP Species Code: bGWWAx\n",
      "Arborimus longicaudus -- red tree vole -- GAP Species Code: mRTVOx\n",
      "Cynomys leucurus -- white-tailed prairie dog -- GAP Species Code: mWTPDx\n",
      "Dipodomys elator -- Texas kangaroo rat -- GAP Species Code: mTKRAx\n",
      "Martes pennanti -- Fisher (Northern Rocky Mountains population) -- GAP Species Code: mFISHx\n",
      "Myotis lucifugus -- little brown bat -- GAP Species Code: mLBMYx\n",
      "Tamias minimus atristriatus -- Penasco least chipmunk -- GAP Species Code: mLECHt\n",
      "Vulpes vulpes necator -- Sierra Nevada red fox -- GAP Species Code: mREFOn\n",
      "Actinemys marmorata -- western pond turtle -- GAP Species Code: rWPTUx\n",
      "aspidoscelis arizonae -- Arizona striped whiptail -- GAP Species Code: rWPTUx\n",
      "Charina bottae umbratica -- southern rubber boa -- GAP Species Code: rSRBOx\n",
      "Clemmys guttata -- spotted turtle -- GAP Species Code: rSPTUx\n",
      "Clonophis kirtlandii -- Kirtland's snake -- GAP Species Code: rKISNx\n",
      "Elgaria panamintina -- Panamint alligator lizard -- GAP Species Code: rPALIx\n",
      "Emydoidea blandingii -- Blanding's turtle -- GAP Species Code: rBTURx\n",
      "Glyptemys insculpta -- wood turtle -- GAP Species Code: rWOTUx\n",
      "Gopherus polyphemus -- gopher tortoise -- GAP Species Code: rGOTOx\n",
      "Graptemys barbouri -- Barbour's map turtle -- GAP Species Code: rBMTUx\n",
      "Heterodon simus -- southern hognose snake -- GAP Species Code: rSHNSx\n",
      "Holbrookia lacerata -- spot-tailed earless lizard -- GAP Species Code: rSTELx\n",
      "Macroclemys temmincki -- alligator snapping turtle -- GAP Species Code: rSTELx\n",
      "Pituophis melanoleucus mugitus -- Florida pine snake -- GAP Species Code: rPINEu\n",
      "Pseudemys gorzugi -- Rio Grande cooter -- GAP Species Code: rRGCOx\n",
      "Pseudemys rubriventris -- northern red-bellied cooter (range- wide) -- GAP Species Code: rNRBCx\n",
      "Tantilla oolitica -- Rim Rock crowned snake -- GAP Species Code: rRRCSx\n"
     ]
    }
   ],
   "source": [
    "for record in esaWPSpecies.find({\"GAP\":{\"$exists\":True}},{\"Submitted Data\":1,\"GAP\":1}):\n",
    "    print (record[\"Submitted Data\"][\"Scientific Name\"], \"--\", record[\"Submitted Data\"][\"Common Name\"], \"-- GAP Species Code:\", record[\"GAP\"][\"gap_speciescode\"])"
   ]
  },
  {
   "cell_type": "markdown",
   "metadata": {},
   "source": [
    "# Next Steps\n",
    "I've just begun working through the various things we can do with the data we've already assembled for the FWS ESA work plan species in the Taxa Information Registry. And there are other sources to tap into as well such as IUCN Red List. I'm checking in this code for now but will come back to it as time allows. We'll also have to see what kind of appetite there is for digging into this further with Ecosystems folks.\n",
    "\n",
    "For now, here is a quick example of a full species document in its raw form from the database."
   ]
  },
  {
   "cell_type": "code",
   "execution_count": 35,
   "metadata": {},
   "outputs": [
    {
     "data": {
      "text/plain": [
       "{'BISON': {'Basis of Record': [{'specimen': 5564},\n",
       "   {'fossil': 1986},\n",
       "   {'unknown': 66},\n",
       "   {'observation': 16}],\n",
       "  'Total Occurrence Records': 7632,\n",
       "  'US State Occurrences': [{'Michigan': 1156},\n",
       "   {'Ohio': 709},\n",
       "   {'New York': 575},\n",
       "   {'Connecticut': 337},\n",
       "   {'California': 306},\n",
       "   {'Ontario Canada': 184},\n",
       "   {'New Jersey': 155},\n",
       "   {'Vermont': 154},\n",
       "   {'Massachusetts': 121},\n",
       "   {'Kentucky': 78},\n",
       "   {'Maine': 67},\n",
       "   {'Indiana': 63},\n",
       "   {'Florida': 56},\n",
       "   {'Illinois': 51},\n",
       "   {'Pennsylvania': 48},\n",
       "   {'Tennessee': 45},\n",
       "   {'Arkansas': 36},\n",
       "   {'Texas': 26},\n",
       "   {'Virginia': 26},\n",
       "   {'New Hampshire': 23},\n",
       "   {'Missouri': 18},\n",
       "   {'Wisconsin': 16},\n",
       "   {'Nebraska': 15},\n",
       "   {'Idaho': 12},\n",
       "   {'South Carolina': 12},\n",
       "   {'Kansas': 11},\n",
       "   {'Quebec Canada': 11},\n",
       "   {'Mississippi': 8},\n",
       "   {'Colorado': 7},\n",
       "   {'Louisiana': 5},\n",
       "   {'Alabama': 4},\n",
       "   {'Maryland': 4},\n",
       "   {'North Carolina': 4},\n",
       "   {'Washington': 4},\n",
       "   {'West Virginia': 4},\n",
       "   {'British Columbia Canada': 3},\n",
       "   {'Georgia': 3},\n",
       "   {'New Brunswick Canada': 2},\n",
       "   {'Oregon': 2},\n",
       "   {'Arizona': 1},\n",
       "   {'Montana': 1},\n",
       "   {'Nova Scotia Canada': 1},\n",
       "   {'Oklahoma': 1},\n",
       "   {'Saskatchewan Canada': 1},\n",
       "   {'Wyoming': 1}],\n",
       "  'query': 'scientificName:Ambystoma barbouri'},\n",
       " 'ECOS Scrape': {'Common Name': 'Streamside salamander',\n",
       "  'Scientific Name': 'Ambystoma barbouri',\n",
       "  'TSN': '208204',\n",
       "  'url': 'https://ecos.fws.gov/ecp/species/9776'},\n",
       " 'FWS Range': {'US State List': ['AL', 'KY', 'OH', 'TN', 'WV'],\n",
       "  'US States': [{'AL': {'fips': '01', 'name': 'Alabama'}},\n",
       "   {'KY': {'fips': '21', 'name': 'Kentucky'}},\n",
       "   {'OH': {'fips': '39', 'name': 'Ohio'}},\n",
       "   {'TN': {'fips': '47', 'name': 'Tennessee'}},\n",
       "   {'WV': {'fips': '54', 'name': 'West Virginia'}}]},\n",
       " 'GAP': {'commonname': 'Streamside Salamander',\n",
       "  'doi': 'doi:10.5066/F74J0CCV',\n",
       "  'gap_speciescode': 'aSTRSx'},\n",
       " 'ITIS': [{'cacheDate': '2018-03-07T15:22:05.237895',\n",
       "   'commonnames': [{'language': 'English', 'name': 'Streamside Salamander'}],\n",
       "   'createDate': '1996-06-13 14:51:08',\n",
       "   'hierarchy': ['Animalia',\n",
       "    'Bilateria',\n",
       "    'Deuterostomia',\n",
       "    'Chordata',\n",
       "    'Vertebrata',\n",
       "    'Gnathostomata',\n",
       "    'Tetrapoda',\n",
       "    'Amphibia',\n",
       "    'Caudata',\n",
       "    'Ambystomatidae',\n",
       "    'Ambystoma',\n",
       "    'Ambystoma barbouri'],\n",
       "   'kingdom': 'Animalia',\n",
       "   'nameWInd': 'Ambystoma barbouri',\n",
       "   'nameWOInd': 'Ambystoma barbouri',\n",
       "   'parentTSN': '173589',\n",
       "   'rank': 'Species',\n",
       "   'taxonomy': [{'name': 'Animalia', 'rank': 'Kingdom'},\n",
       "    {'name': 'Bilateria', 'rank': 'Subkingdom'},\n",
       "    {'name': 'Deuterostomia', 'rank': 'Infrakingdom'},\n",
       "    {'name': 'Chordata', 'rank': 'Phylum'},\n",
       "    {'name': 'Vertebrata', 'rank': 'Subphylum'},\n",
       "    {'name': 'Gnathostomata', 'rank': 'Infraphylum'},\n",
       "    {'name': 'Tetrapoda', 'rank': 'Superclass'},\n",
       "    {'name': 'Amphibia', 'rank': 'Class'},\n",
       "    {'name': 'Caudata', 'rank': 'Order'},\n",
       "    {'name': 'Ambystomatidae', 'rank': 'Family'},\n",
       "    {'name': 'Ambystoma', 'rank': 'Genus'},\n",
       "    {'name': 'Ambystoma barbouri', 'rank': 'Species'}],\n",
       "   'tsn': '208204',\n",
       "   'unit1': 'Ambystoma',\n",
       "   'unit2': 'barbouri',\n",
       "   'updateDate': '2009-09-01 00:00:00',\n",
       "   'usage': 'valid'}],\n",
       " 'NatureServe': {'Data': {'Data': {'availableKeys': ['@uid',\n",
       "     '@speciesCode',\n",
       "     'natureServeExplorerURI',\n",
       "     'classification',\n",
       "     'conservationStatus',\n",
       "     'distribution',\n",
       "     'ecologyAndLifeHistory',\n",
       "     'populationOccurrence',\n",
       "     'references',\n",
       "     'license'],\n",
       "    'classification': {'names': {'natureServePrimaryGlobalCommonName': 'Streamside Salamander',\n",
       "      'scientificName': {'conceptReference': {'@code': 'B90COL01NAUS',\n",
       "        'classificationStatus': 'Standard',\n",
       "        'formattedFullCitation': 'Collins, J. T. 1990. Standard common and current scientific names for North American amphibians and reptiles. 3rd ed. Society for the Study of Amphibians and Reptiles. Herpetological Circular No. 19. 41 pp.',\n",
       "        'nameUsedInConceptReference': {'formattedName': '<i>Ambystoma barbouri</i>',\n",
       "         'unformattedName': 'Ambystoma barbouri'}},\n",
       "       'formattedName': '<i>Ambystoma barbouri</i>',\n",
       "       'nomenclaturalAuthor': 'Kraus and Petranka, 1989',\n",
       "       'unformattedName': 'Ambystoma barbouri'}},\n",
       "     'taxonomy': {'formalTaxonomy': {'class': 'Amphibia',\n",
       "       'family': 'Ambystomatidae',\n",
       "       'genus': 'Ambystoma',\n",
       "       'genusSize': {'code': 'D',\n",
       "        'description': 'D - Medium to large genus (21+ species)'},\n",
       "       'kingdom': 'Animalia',\n",
       "       'order': 'Caudata',\n",
       "       'phylum': 'Craniata',\n",
       "       'taxonomicComments': 'Formerly included in <i>A. texanum</i> (Kraus and Petranka 1989). See Kraus (1988), Shaffer et al. (1991), and Jones et al. (1993) for phylogenetic analyses of North American <i>Ambystoma</i>.'},\n",
       "      'informalTaxonomy': {'informalTaxonomyLevel1Name': 'Animals, Vertebrates',\n",
       "       'informalTaxonomyLevel2Name': 'Amphibians',\n",
       "       'informalTaxonomyLevel3Name': 'Salamanders'}}},\n",
       "    'conservationStatus': {'natureServeStatus': {'globalStatus': {'conservationStatusFactors': {'conservationStatusAuthors': {'@displayValue': 'Hammerson, G.'},\n",
       "        'environmentalSpecificity': {'code': 'B',\n",
       "         'description': 'Narrow.  Specialist or community with key requirements common.',\n",
       "         'searchValue': 'B'},\n",
       "        'estimatedNumberOfOccurrences': {'code': 'CD',\n",
       "         'comments': 'Kraus (1996) mapped 80+ known collection sites, not all of which necessarily represent distinct occurrences. But surely there are many more occurrences than those mapped by Kraus (1996). Careful examination of specimens may reveal the existence of <i>barbouri </i>populations that have been previously identified as <i>Ambystoma texanum</i> (Watson and Pauley 2005).<br><br>In Tennessee in 2005, streamside salamanders were found at 5 of 40 surveyed localities in southern Rutherford, northern Bedford, and northeastern Marshall counties, and at only 4 of 6 previously known breeding sites (Niemiller et al. 2006).',\n",
       "         'description': '21 - 300',\n",
       "         'searchValue': 'CD'},\n",
       "        'globalAbundance': {'code': 'F',\n",
       "         'comments': 'Total adult population size is unknown but likely exceeds 10,000.',\n",
       "         'description': '10,000 - 100,000 individuals',\n",
       "         'searchValue': 'F'},\n",
       "        'globalLongTermTrend': {'code': 'EG',\n",
       "         'description': 'Decline of <50% to Relatively Stable',\n",
       "         'searchValue': 'EFG'},\n",
       "        'globalProtection': {'code': 'C',\n",
       "         'comments': 'Several populations occur within small preserves in the Bluegrass region of Kentucky (Petranka 1998). Additional protection is needed (Petranka 1998).',\n",
       "         'description': 'Several (4-12) occurrences appropriately protected and managed',\n",
       "         'searchValue': 'C'},\n",
       "        'globalShortTermTrend': {'code': 'FG',\n",
       "         'description': 'Decline of <30% to relatively stable',\n",
       "         'searchValue': 'FG'},\n",
       "        'intrinsicVulnerability': {'code': 'B',\n",
       "         'description': 'Moderately vulnerable',\n",
       "         'searchValue': 'B'},\n",
       "        'otherConsiderations': None,\n",
       "        'statusFactorsEditionDate': '2007-04-20',\n",
       "        'threat': {'comments': 'Species has declined in many areas throughout its range where native forests have been destroyed and replaced with pastureland or residential areas (Petranka 1998). Bluegrass region of Kentucky is undergoing rapid urbanization and needs additional protection. One of the two known populations in West Virginia may have been destroyed recently by development (Watson and Pauley 2005). Continued habitat fragmentation and alteration in association with urbanization in Rutherford County, Tennesse, threaten existing <i>A. barbouri</i> populations, which may represent the last remaining populations in the state (Niemiller et al. 2006). Stream drying, flooding, and predation were important sources of mortality in Kentucky (Petranka 1984). May be restricted to upper portions of breeding streams because of fish predation (Petranka 1983).',\n",
       "         'degreeOfThreat': {'description': 'High'},\n",
       "         'immediacy': 'High',\n",
       "         'scope': 'Moderate',\n",
       "         'severity': 'High'}},\n",
       "       'nationalStatuses': {'nationalStatus': {'@nationCode': 'US',\n",
       "         '@nationName': 'United States',\n",
       "         'rank': {'code': 'N4'},\n",
       "         'roundedRank': {'code': 'N4'},\n",
       "         'statusLastReviewed': '1996-11-05',\n",
       "         'subnationalStatuses': {'subnationalStatus': [{'@subnationCode': 'IN',\n",
       "            '@subnationName': 'Indiana',\n",
       "            'rank': {'code': 'S3'},\n",
       "            'roundedRank': {'code': 'S3'}},\n",
       "           {'@subnationCode': 'KY',\n",
       "            '@subnationName': 'Kentucky',\n",
       "            'rank': {'code': 'S4'},\n",
       "            'roundedRank': {'code': 'S4'}},\n",
       "           {'@subnationCode': 'OH',\n",
       "            '@subnationName': 'Ohio',\n",
       "            'rank': {'code': 'SNR'},\n",
       "            'roundedRank': {'code': 'SNR'}},\n",
       "           {'@subnationCode': 'TN',\n",
       "            '@subnationName': 'Tennessee',\n",
       "            'rank': {'code': 'S2'},\n",
       "            'roundedRank': {'code': 'S2'}},\n",
       "           {'@subnationCode': 'WV',\n",
       "            '@subnationName': 'West Virginia',\n",
       "            'rank': {'code': 'S1'},\n",
       "            'roundedRank': {'code': 'S1'}}]}}},\n",
       "       'rank': {'code': 'G4'},\n",
       "       'reasons': 'Relatively small extent of occurrence in Kentucky, Indiana, Ohio, and West Virginia; widespread habitat loss and degradation, but apparently secure.',\n",
       "       'roundedRank': {'code': 'G4', 'description': 'Apparently Secure'},\n",
       "       'statusLastChanged': '2001-10-01',\n",
       "       'statusLastReviewed': '2007-04-20'}},\n",
       "     'otherStatuses': {'status': {'@name': 'IUCN Conservation Status',\n",
       "       'statusDescription': 'NT - Near threatened'}}},\n",
       "    'conservationStatus_us': {'roundedGlobalRankCode': 'G4',\n",
       "     'roundedGlobalRankDescription': 'Apparently Secure',\n",
       "     'stateStatus': [{'roundedRankCode': 'S3',\n",
       "       'stateCode': 'IN',\n",
       "       'stateName': 'Indiana'},\n",
       "      {'roundedRankCode': 'S4', 'stateCode': 'KY', 'stateName': 'Kentucky'},\n",
       "      {'roundedRankCode': 'SNR', 'stateCode': 'OH', 'stateName': 'Ohio'},\n",
       "      {'roundedRankCode': 'S2', 'stateCode': 'TN', 'stateName': 'Tennessee'},\n",
       "      {'roundedRankCode': 'S1',\n",
       "       'stateCode': 'WV',\n",
       "       'stateName': 'West Virginia'}],\n",
       "     'usNationalStatusCode': 'N4'},\n",
       "    'result': True,\n",
       "    'taxonomy': [{'name': 'Animalia', 'rank': 'kingdom'},\n",
       "     {'name': 'Craniata', 'rank': 'phylum'},\n",
       "     {'name': 'Amphibia', 'rank': 'class'},\n",
       "     {'name': 'Caudata', 'rank': 'order'},\n",
       "     {'name': 'Ambystomatidae', 'rank': 'family'},\n",
       "     {'name': 'Ambystoma', 'rank': 'genus'},\n",
       "     {'name': 'Ambystoma barbouri', 'rank': 'species'}]},\n",
       "   'Element Global ID': 'ELEMENT_GLOBAL.2.100100'},\n",
       "  'Search Results': [{'Element Global ID': 'ELEMENT_GLOBAL.2.100100',\n",
       "    'Search Name': 'Ambystoma barbouri'}]},\n",
       " 'Processing Metadata': {'Date Created from Source': '2018-03-07T15:14:28.178251'},\n",
       " 'SGCN': {'Common Name': 'Streamside Salamander',\n",
       "  'Match Method': 'Exact Match',\n",
       "  'Scientific Name': 'Ambystoma barbouri',\n",
       "  'State List Summary': [{'2015': {'Common Names': ['Streamside Salamander'],\n",
       "     'States': ['Indiana', 'Kentucky', 'Tennessee', 'West Virginia']}},\n",
       "   {'2005': {'Common Names': ['Streamside Salamander'],\n",
       "     'States': ['Kentucky', 'Ohio', 'Tennessee', 'West Virginia']}}],\n",
       "  'Taxonomic Authority ID': 'https://services.itis.gov/?q=tsn:208204',\n",
       "  'Taxonomy': [{'name': 'Animalia', 'rank': 'Kingdom'},\n",
       "   {'name': 'Bilateria', 'rank': 'Subkingdom'},\n",
       "   {'name': 'Deuterostomia', 'rank': 'Infrakingdom'},\n",
       "   {'name': 'Chordata', 'rank': 'Phylum'},\n",
       "   {'name': 'Vertebrata', 'rank': 'Subphylum'},\n",
       "   {'name': 'Gnathostomata', 'rank': 'Infraphylum'},\n",
       "   {'name': 'Tetrapoda', 'rank': 'Superclass'},\n",
       "   {'name': 'Amphibia', 'rank': 'Class'},\n",
       "   {'name': 'Caudata', 'rank': 'Order'},\n",
       "   {'name': 'Ambystomatidae', 'rank': 'Family'},\n",
       "   {'name': 'Ambystoma', 'rank': 'Genus'},\n",
       "   {'name': 'Ambystoma barbouri', 'rank': 'Species'}]},\n",
       " 'Submitted Data': {'Common Name': 'streamside salamander',\n",
       "  'Grouping': 'Amphibians',\n",
       "  'Lead FWS Region': 'R4',\n",
       "  'Scientific Name': 'Ambystoma barbouri',\n",
       "  'Species Range': 'AL, KY, OH, TN, WV',\n",
       "  'Species Record Reference': 'https://ecos.fws.gov/ecp/species/9776'},\n",
       " 'Synthesis': {'FWS Range List': ['Alabama',\n",
       "   'Kentucky',\n",
       "   'Ohio',\n",
       "   'Tennessee',\n",
       "   'West Virginia'],\n",
       "  'Scientific Names': [{'Scientific Name': 'Ambystoma barbouri',\n",
       "    'Source': 'Submitted Data'},\n",
       "   {'Scientific Name': 'Ambystoma barbouri', 'Source': 'ECOS Scrape'},\n",
       "   {'Scientific Name': 'Ambystoma barbouri', 'Source': 'TESS'},\n",
       "   {'Scientific Name': 'Ambystoma barbouri',\n",
       "    'Source': 'ITIS',\n",
       "    'Usage': 'valid'}],\n",
       "  'States with BISON Occurrence Data': ['Idaho',\n",
       "   'Texas',\n",
       "   'Washington',\n",
       "   'Arkansas',\n",
       "   'Ohio',\n",
       "   'Florida',\n",
       "   'Colorado',\n",
       "   'Maryland',\n",
       "   'Louisiana',\n",
       "   'Georgia',\n",
       "   'Wyoming',\n",
       "   'Indiana',\n",
       "   'Kansas',\n",
       "   'Kentucky',\n",
       "   'Pennsylvania',\n",
       "   'West Virginia',\n",
       "   'California',\n",
       "   'Montana',\n",
       "   'South Carolina',\n",
       "   'Alabama',\n",
       "   'Mississippi',\n",
       "   'Illinois',\n",
       "   'Michigan',\n",
       "   'Arizona',\n",
       "   'New York',\n",
       "   'Oklahoma',\n",
       "   'Maine',\n",
       "   'Connecticut',\n",
       "   'New Hampshire',\n",
       "   'New Jersey',\n",
       "   'Tennessee',\n",
       "   'Massachusetts',\n",
       "   'Wisconsin',\n",
       "   'Missouri',\n",
       "   'Nebraska',\n",
       "   'Oregon',\n",
       "   'North Carolina',\n",
       "   'Virginia',\n",
       "   'Vermont'],\n",
       "  'Unique Scientific Names': ['Ambystoma barbouri']},\n",
       " 'TESS': {'COMNAME': 'Streamside salamander',\n",
       "  'COUNTRY': '1',\n",
       "  'DPS': '0',\n",
       "  'ENTITY_ID': '10742',\n",
       "  'FAMILY': 'Ambystomatidae',\n",
       "  'INVNAME': 'salamander, Streamside',\n",
       "  'LEAD_AGENCY': '1',\n",
       "  'LEAD_REGION': '4',\n",
       "  'REFUGE_OCCURRENCE': None,\n",
       "  'SCINAME': 'Ambystoma barbouri',\n",
       "  'SPCODE': 'D04N',\n",
       "  'STATUS': 'UR',\n",
       "  'TSN': '208204',\n",
       "  'VIPCODE': 'V01',\n",
       "  'criteria': '208204',\n",
       "  'dateCached': '2018-03-07T15:20:48.072839',\n",
       "  'listingStatus': [{'POP_ABBREV': 'Wherever found',\n",
       "    'POP_DESC': 'Wherever found',\n",
       "    'STATUS': 'Under Review in the Candidate or Petition Process'}],\n",
       "  'queryType': 'TSN',\n",
       "  'result': True},\n",
       " '_id': ObjectId('5aa001d40601ba00d3c84a0b')}"
      ]
     },
     "metadata": {},
     "output_type": "display_data"
    }
   ],
   "source": [
    "display(esaWPSpecies.find_one())"
   ]
  },
  {
   "cell_type": "code",
   "execution_count": null,
   "metadata": {
    "collapsed": true
   },
   "outputs": [],
   "source": []
  }
 ],
 "metadata": {
  "kernelspec": {
   "display_name": "Python 3",
   "language": "python",
   "name": "python3"
  },
  "language_info": {
   "codemirror_mode": {
    "name": "ipython",
    "version": 3
   },
   "file_extension": ".py",
   "mimetype": "text/x-python",
   "name": "python",
   "nbconvert_exporter": "python",
   "pygments_lexer": "ipython3",
   "version": "3.6.3"
  }
 },
 "nbformat": 4,
 "nbformat_minor": 2
}
