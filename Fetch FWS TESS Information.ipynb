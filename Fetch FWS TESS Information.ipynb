{
 "cells": [
  {
   "cell_type": "markdown",
   "metadata": {},
   "source": [
    "The original records put together by Ecosystems and provided in a spreadsheet from Steve Hilburger had hyperlinks to the FWS Ecological Conservation Online System containing the \"SPCODE\" identifier from that system for most of the species. This identifier is different from the SPCODE or ENTITY_ID that is available in other parts of ECOS, and there does not appear to be a public API available to key on that identifier. The web links lead to public landing pages for the species that have a collection of useful information that we may look to parse out for analysis later. For now, we use the species scientific name to find the species in ECOS TESS and bring back any of its information for later use."
   ]
  },
  {
   "cell_type": "code",
   "execution_count": 18,
   "metadata": {
    "collapsed": true
   },
   "outputs": [],
   "source": [
    "from bis2 import dd\n",
    "from IPython.display import display\n",
    "from datetime import datetime\n",
    "from bis import tess"
   ]
  },
  {
   "cell_type": "code",
   "execution_count": 10,
   "metadata": {
    "collapsed": true
   },
   "outputs": [],
   "source": [
    "bisDB = dd.getDB(\"bis\")\n",
    "esaWPSpecies = bisDB[\"FWS ESA Work Plan Species\"]"
   ]
  },
  {
   "cell_type": "markdown",
   "metadata": {},
   "source": [
    "The presence of an ITIS TSN identifier assigned to an ECOS species record is a pretty solid identifier to use in retrieving data from the TESS system. This code block uses a TSN type query to retrieve as many records as possible back for the data collection."
   ]
  },
  {
   "cell_type": "code",
   "execution_count": 51,
   "metadata": {},
   "outputs": [],
   "source": [
    "for record in esaWPSpecies.find({\"$and\":[{\"TESS\":{\"$exists\":False}},{\"ECOS Scrape.TSN\":{\"$exists\":True}}]}):\n",
    "    tessData = tess.queryTESS(\"TSN\",record[\"ECOS Scrape\"][\"TSN\"])\n",
    "    if tessData[\"result\"] is not False:\n",
    "        esaWPSpecies.update_one({\"_id\":record[\"_id\"]},{\"$set\":{\"TESS\":tessData}})\n",
    "    else:\n",
    "        display(record)"
   ]
  },
  {
   "cell_type": "markdown",
   "metadata": {},
   "source": [
    "For a few cases, we did not have an ITIS TSN in the data from the ECOS scrape, but we do have an SPCODE identifier in the URL from the link. We can use those to go after TESS data in those cases. This code block is meant to run in sequence after trying for TESS data via TSN."
   ]
  },
  {
   "cell_type": "code",
   "execution_count": 53,
   "metadata": {},
   "outputs": [],
   "source": [
    "for record in esaWPSpecies.find({\"$and\":[{\"TESS\":{\"$exists\":False}},{\"ECOS Scrape.SPCODE\":{\"$exists\":True}}]}):\n",
    "    tessData = tess.queryTESS(\"SPCODE\",record[\"ECOS Scrape\"][\"SPCODE\"])\n",
    "    if tessData[\"result\"] is not False:\n",
    "        esaWPSpecies.update_one({\"_id\":record[\"_id\"]},{\"$set\":{\"TESS\":tessData}})\n",
    "    else:\n",
    "        display(record)"
   ]
  },
  {
   "cell_type": "markdown",
   "metadata": {},
   "source": [
    "In cases where we still don't have any TESS data after trying ITIS TSN and SPCODE identifiers, we can still try to use the scientific name to see if there is anything in the system. If not, then there must be some reason that FWS has not entered information for a particular petition into their core system.\n",
    "\n",
    "At this point, I also check to see if the scientific name we scraped from a linked ECOS web page matches the scientific name from the FWS pre-listing plan spreadsheet. If it doesn't match, I put a note in the processing metadata indicating that there is an issue we may want to investigate further. Depending on who established a link to ECOS in the spreadsheet, it may just be that we resolved some taxonomic issue with what was originally submitted by a petitioner."
   ]
  },
  {
   "cell_type": "code",
   "execution_count": 56,
   "metadata": {},
   "outputs": [],
   "source": [
    "for record in esaWPSpecies.find({\"$and\":[{\"TESS\":{\"$exists\":False}},{\"ECOS Scrape.SPCODE\":{\"$exists\":False}},{\"ECOS Scrape.Scientific Name\":{\"$exists\":True}}]}):\n",
    "    if record[\"Submitted Data\"][\"Scientific Name\"] != record[\"ECOS Scrape\"][\"Scientific Name\"]:\n",
    "        processingMetadata = record[\"Processing Metadata\"]\n",
    "        processingMetadata[\"ECOS Match Annotation\"] = \"Scientific name from spreadsheet didn't match with referenced ECOS record\"\n",
    "        esaWPSpecies.update_one({\"_id\":record[\"_id\"]},{\"$set\":{\"Processing Metadata\":processingMetadata}})\n",
    "\n",
    "    tessData = tess.queryTESS(\"SCINAME\",record[\"ECOS Scrape\"][\"Scientific Name\"])\n",
    "    if tessData[\"result\"] is not False:\n",
    "        esaWPSpecies.update_one({\"_id\":record[\"_id\"]},{\"$set\":{\"TESS\":tessData}})\n",
    "    else:\n",
    "        print(\"No TESS record found on scientific name search\")\n",
    "        display(record)"
   ]
  },
  {
   "cell_type": "markdown",
   "metadata": {},
   "source": [
    "At this point, there are a number of records that did not include any ECOS link to follow and scrape and for which we've not been able to retrieve any information from TESS. I go ahead and try to use the original scientific name supplied to run a search with the TESS API to see if we find any results. At this point, we've exhausted all our possibilities of finding a link to TESS without also running ITIS processes to potentially turn up a TSN to search with, so we go ahead and insert a TESS result for every remaining record, indicating that no result was found if that's the case."
   ]
  },
  {
   "cell_type": "code",
   "execution_count": 58,
   "metadata": {},
   "outputs": [],
   "source": [
    "for record in esaWPSpecies.find({\"TESS\":{\"$exists\":False}}):\n",
    "    esaWPSpecies.update_one({\"_id\":record[\"_id\"]},{\"$set\":{\"TESS\":tess.queryTESS(\"SCINAME\",record[\"Submitted Data\"][\"Scientific Name\"])}})\n"
   ]
  },
  {
   "cell_type": "code",
   "execution_count": null,
   "metadata": {
    "collapsed": true
   },
   "outputs": [],
   "source": []
  }
 ],
 "metadata": {
  "kernelspec": {
   "display_name": "Python 3",
   "language": "python",
   "name": "python3"
  },
  "language_info": {
   "codemirror_mode": {
    "name": "ipython",
    "version": 3
   },
   "file_extension": ".py",
   "mimetype": "text/x-python",
   "name": "python",
   "nbconvert_exporter": "python",
   "pygments_lexer": "ipython3",
   "version": "3.6.3"
  }
 },
 "nbformat": 4,
 "nbformat_minor": 2
}
