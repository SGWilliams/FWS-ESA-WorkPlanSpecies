{
 "cells": [
  {
   "cell_type": "markdown",
   "metadata": {},
   "source": [
    "The spreadsheet of species on the petition list included links to the FWS Ecological Conservation Online System for most of the species. After working through a few issues trying to connect to the FWS Threatened and Endangered Species (TESS) API for the species, I found it necessary to scrape the ECOS web pages for some additional information. It turns out that the ECOS system has multiple identifiers for species that seem to be used in various parts of the data model and that are not all readily available through their APIs. The public web pages seem to assemble a lot of this information from various places through a back-end app of some kind, but there is no real API that I could find to work against for everything. In order to reliably understand and work with the connections to other systems that FWS folks have put together, it seemed like we needed to go ahead and parse out some information from the human-readable web pages into usable data. This code does that using BeautifulSoup."
   ]
  },
  {
   "cell_type": "code",
   "execution_count": 1,
   "metadata": {
    "collapsed": true
   },
   "outputs": [],
   "source": [
    "from bis2 import dd\n",
    "from IPython.display import display\n",
    "from datetime import datetime\n",
    "from bis import tess\n",
    "import requests\n",
    "from bs4 import BeautifulSoup"
   ]
  },
  {
   "cell_type": "code",
   "execution_count": 2,
   "metadata": {
    "collapsed": true
   },
   "outputs": [],
   "source": [
    "bisDB = dd.getDB(\"bis\")\n",
    "esaWPSpecies = bisDB[\"FWS ESA Work Plan Species\"]"
   ]
  },
  {
   "cell_type": "markdown",
   "metadata": {},
   "source": [
    "Right now, I'm just extracting the ITIS TSN and names from the HTML and pulling out the SPCODE values from the URLs when those exist. I've dealt with cases where there are no common names and where there is no ITIS TSN identified."
   ]
  },
  {
   "cell_type": "code",
   "execution_count": 3,
   "metadata": {},
   "outputs": [],
   "source": [
    "for record in esaWPSpecies.find({\"$and\":[{\"ECOS Scrape\":{\"$exists\":False}},{\"Submitted Data.Species Record Reference\":{\"$not\":{\"$eq\":float(\"nan\")}}}]}):\n",
    "    ecosScrape = {}\n",
    "    ecosScrape[\"url\"] = record[\"Submitted Data\"][\"Species Record Reference\"]\n",
    "    \n",
    "    if ecosScrape[\"url\"].find(\"spcode\") > -1:\n",
    "        ecosScrape[\"SPCODE\"] = ecosScrape[\"url\"].split(\"=\")[1]\n",
    "    \n",
    "    ecosContent = requests.get(ecosScrape[\"url\"]).content\n",
    "    soup = BeautifulSoup(ecosContent,\"lxml\")\n",
    "\n",
    "    title = str(soup.find(\"title\").string)\n",
    "    if title.find(\"(\") == -1:\n",
    "        ecosScrape[\"Scientific Name\"] = title.replace(\"Species Profile for \",\"\").strip()\n",
    "    else:\n",
    "        ecosScrape[\"Common Name\"] = title.replace(\"Species Profile for \",\"\").split(\"(\")[0].strip()\n",
    "        ecosScrape[\"Scientific Name\"] = title.replace(\"Species Profile for \",\"\").split(\"(\")[1].replace(\")\",\"\").strip()\n",
    "        \n",
    "    \n",
    "    itisDiv = soup.find(\"div\", {\"class\": \"taxonomy new-row\"})\n",
    "    if itisDiv is not None:\n",
    "        itisLink = itisDiv.find(\"a\", href=True)\n",
    "        ecosScrape[\"TSN\"] = itisLink[\"href\"].split(\"&\")[1].split(\"=\")[1]\n",
    "    \n",
    "    esaWPSpecies.update_one({\"_id\":record[\"_id\"]},{\"$set\":{\"ECOS Scrape\":ecosScrape}})"
   ]
  },
  {
   "cell_type": "code",
   "execution_count": null,
   "metadata": {
    "collapsed": true
   },
   "outputs": [],
   "source": []
  }
 ],
 "metadata": {
  "kernelspec": {
   "display_name": "Python 3",
   "language": "python",
   "name": "python3"
  },
  "language_info": {
   "codemirror_mode": {
    "name": "ipython",
    "version": 3
   },
   "file_extension": ".py",
   "mimetype": "text/x-python",
   "name": "python",
   "nbconvert_exporter": "python",
   "pygments_lexer": "ipython3",
   "version": "3.6.3"
  }
 },
 "nbformat": 4,
 "nbformat_minor": 2
}
